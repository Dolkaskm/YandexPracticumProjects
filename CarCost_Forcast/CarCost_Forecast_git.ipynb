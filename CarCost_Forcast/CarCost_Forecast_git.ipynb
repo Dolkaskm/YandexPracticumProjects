{
 "cells": [
  {
   "cell_type": "markdown",
   "metadata": {},
   "source": [
    "# Определение стоимости автомобилей"
   ]
  },
  {
   "cell_type": "markdown",
   "metadata": {},
   "source": [
    "Сервис по продаже автомобилей с пробегом «Не бит, не крашен» разрабатывает приложение для привлечения новых клиентов. В нём можно быстро узнать рыночную стоимость своего автомобиля. В вашем распоряжении исторические данные: технические характеристики, комплектации и цены автомобилей. Вам нужно построить модель для определения стоимости. \n",
    "\n",
    "Заказчику важны:\n",
    "\n",
    "- качество предсказания;\n",
    "- скорость предсказания;\n",
    "- время обучения."
   ]
  },
  {
   "cell_type": "markdown",
   "metadata": {},
   "source": [
    "**Признаки**\n",
    "\n",
    "\tDateCrawled — дата скачивания анкеты из базы\n",
    "\tVehicleType — тип автомобильного кузова\n",
    "\tRegistrationYear — год регистрации автомобиля\n",
    "\tGearbox — тип коробки передач\n",
    "\tPower — мощность (л. с.)\n",
    "\tModel — модель автомобиля\n",
    "\tKilometer — пробег (км)\n",
    "\tRegistrationMonth — месяц регистрации автомобиля\n",
    "\tFuelType — тип топлива\n",
    "\tBrand — марка автомобиля\n",
    "\tRepaired — была машина в ремонте или нет\n",
    "\tDateCreated — дата создания анкеты\n",
    "\tNumberOfPictures — количество фотографий автомобиля\n",
    "\tPostalCode — почтовый индекс владельца анкеты (пользователя)\n",
    "\tLastSeen — дата последней активности пользователя\n",
    "\n",
    "**Целевой признак**\n",
    "\n",
    "    Price — цена (евро)\n"
   ]
  },
  {
   "cell_type": "markdown",
   "metadata": {},
   "source": [
    "## Подготовка данных"
   ]
  },
  {
   "cell_type": "code",
   "execution_count": 2,
   "metadata": {},
   "outputs": [
    {
     "name": "stdout",
     "output_type": "stream",
     "text": [
      "Requirement already satisfied: lightgbm in c:\\users\\user\\anaconda3\\lib\\site-packages (4.1.0)\n",
      "Requirement already satisfied: scipy in c:\\users\\user\\anaconda3\\lib\\site-packages (from lightgbm) (1.9.1)\n",
      "Requirement already satisfied: numpy in c:\\users\\user\\anaconda3\\lib\\site-packages (from lightgbm) (1.24.3)\n"
     ]
    }
   ],
   "source": [
    "!pip install lightgbm"
   ]
  },
  {
   "cell_type": "code",
   "execution_count": 3,
   "metadata": {},
   "outputs": [],
   "source": [
    "# Загрузка необходимых библиотек\n",
    "\n",
    "import re\n",
    "\n",
    "import pandas as pd\n",
    "import numpy as np\n",
    "import matplotlib.pyplot as plt\n",
    "import seaborn as sns\n",
    "\n",
    "from sklearn.model_selection import train_test_split, cross_val_score\n",
    "from sklearn.compose import ColumnTransformer\n",
    "from sklearn.preprocessing import OneHotEncoder, StandardScaler, OrdinalEncoder\n",
    "from sklearn.pipeline import Pipeline\n",
    "from sklearn.linear_model import LinearRegression\n",
    "from sklearn.tree import DecisionTreeRegressor\n",
    "from sklearn.ensemble import RandomForestRegressor\n",
    "from sklearn.model_selection import GridSearchCV\n",
    "from sklearn.model_selection import RandomizedSearchCV\n",
    "from sklearn. linear_model import Ridge\n",
    "from sklearn.metrics import mean_squared_error\n",
    "from sklearn.dummy import DummyRegressor\n",
    "\n",
    "from lightgbm import LGBMRegressor\n",
    "from catboost import Pool, CatBoostRegressor, cv\n",
    "\n",
    "import warnings\n",
    "warnings.filterwarnings(\"ignore\")"
   ]
  },
  {
   "cell_type": "code",
   "execution_count": 4,
   "metadata": {},
   "outputs": [],
   "source": [
    "# Зададим значения для генерации случайных величин\n",
    "\n",
    "RANDOM_STATE = 12345"
   ]
  },
  {
   "cell_type": "code",
   "execution_count": 5,
   "metadata": {},
   "outputs": [],
   "source": [
    "# Загрузим данные из файло\n",
    "try:\n",
    "    df = pd.read_csv('/datasets/autos.csv')\n",
    "except:\n",
    "    df = pd.read_csv('https://code.s3.yandex.net/datasets/autos.csv')\n"
   ]
  },
  {
   "cell_type": "code",
   "execution_count": 6,
   "metadata": {},
   "outputs": [
    {
     "data": {
      "text/html": [
       "<div>\n",
       "<style scoped>\n",
       "    .dataframe tbody tr th:only-of-type {\n",
       "        vertical-align: middle;\n",
       "    }\n",
       "\n",
       "    .dataframe tbody tr th {\n",
       "        vertical-align: top;\n",
       "    }\n",
       "\n",
       "    .dataframe thead th {\n",
       "        text-align: right;\n",
       "    }\n",
       "</style>\n",
       "<table border=\"1\" class=\"dataframe\">\n",
       "  <thead>\n",
       "    <tr style=\"text-align: right;\">\n",
       "      <th></th>\n",
       "      <th>DateCrawled</th>\n",
       "      <th>Price</th>\n",
       "      <th>VehicleType</th>\n",
       "      <th>RegistrationYear</th>\n",
       "      <th>Gearbox</th>\n",
       "      <th>Power</th>\n",
       "      <th>Model</th>\n",
       "      <th>Kilometer</th>\n",
       "      <th>RegistrationMonth</th>\n",
       "      <th>FuelType</th>\n",
       "      <th>Brand</th>\n",
       "      <th>Repaired</th>\n",
       "      <th>DateCreated</th>\n",
       "      <th>NumberOfPictures</th>\n",
       "      <th>PostalCode</th>\n",
       "      <th>LastSeen</th>\n",
       "    </tr>\n",
       "  </thead>\n",
       "  <tbody>\n",
       "    <tr>\n",
       "      <th>0</th>\n",
       "      <td>2016-03-24 11:52:17</td>\n",
       "      <td>480</td>\n",
       "      <td>NaN</td>\n",
       "      <td>1993</td>\n",
       "      <td>manual</td>\n",
       "      <td>0</td>\n",
       "      <td>golf</td>\n",
       "      <td>150000</td>\n",
       "      <td>0</td>\n",
       "      <td>petrol</td>\n",
       "      <td>volkswagen</td>\n",
       "      <td>NaN</td>\n",
       "      <td>2016-03-24 00:00:00</td>\n",
       "      <td>0</td>\n",
       "      <td>70435</td>\n",
       "      <td>2016-04-07 03:16:57</td>\n",
       "    </tr>\n",
       "    <tr>\n",
       "      <th>1</th>\n",
       "      <td>2016-03-24 10:58:45</td>\n",
       "      <td>18300</td>\n",
       "      <td>coupe</td>\n",
       "      <td>2011</td>\n",
       "      <td>manual</td>\n",
       "      <td>190</td>\n",
       "      <td>NaN</td>\n",
       "      <td>125000</td>\n",
       "      <td>5</td>\n",
       "      <td>gasoline</td>\n",
       "      <td>audi</td>\n",
       "      <td>yes</td>\n",
       "      <td>2016-03-24 00:00:00</td>\n",
       "      <td>0</td>\n",
       "      <td>66954</td>\n",
       "      <td>2016-04-07 01:46:50</td>\n",
       "    </tr>\n",
       "    <tr>\n",
       "      <th>2</th>\n",
       "      <td>2016-03-14 12:52:21</td>\n",
       "      <td>9800</td>\n",
       "      <td>suv</td>\n",
       "      <td>2004</td>\n",
       "      <td>auto</td>\n",
       "      <td>163</td>\n",
       "      <td>grand</td>\n",
       "      <td>125000</td>\n",
       "      <td>8</td>\n",
       "      <td>gasoline</td>\n",
       "      <td>jeep</td>\n",
       "      <td>NaN</td>\n",
       "      <td>2016-03-14 00:00:00</td>\n",
       "      <td>0</td>\n",
       "      <td>90480</td>\n",
       "      <td>2016-04-05 12:47:46</td>\n",
       "    </tr>\n",
       "    <tr>\n",
       "      <th>3</th>\n",
       "      <td>2016-03-17 16:54:04</td>\n",
       "      <td>1500</td>\n",
       "      <td>small</td>\n",
       "      <td>2001</td>\n",
       "      <td>manual</td>\n",
       "      <td>75</td>\n",
       "      <td>golf</td>\n",
       "      <td>150000</td>\n",
       "      <td>6</td>\n",
       "      <td>petrol</td>\n",
       "      <td>volkswagen</td>\n",
       "      <td>no</td>\n",
       "      <td>2016-03-17 00:00:00</td>\n",
       "      <td>0</td>\n",
       "      <td>91074</td>\n",
       "      <td>2016-03-17 17:40:17</td>\n",
       "    </tr>\n",
       "    <tr>\n",
       "      <th>4</th>\n",
       "      <td>2016-03-31 17:25:20</td>\n",
       "      <td>3600</td>\n",
       "      <td>small</td>\n",
       "      <td>2008</td>\n",
       "      <td>manual</td>\n",
       "      <td>69</td>\n",
       "      <td>fabia</td>\n",
       "      <td>90000</td>\n",
       "      <td>7</td>\n",
       "      <td>gasoline</td>\n",
       "      <td>skoda</td>\n",
       "      <td>no</td>\n",
       "      <td>2016-03-31 00:00:00</td>\n",
       "      <td>0</td>\n",
       "      <td>60437</td>\n",
       "      <td>2016-04-06 10:17:21</td>\n",
       "    </tr>\n",
       "  </tbody>\n",
       "</table>\n",
       "</div>"
      ],
      "text/plain": [
       "           DateCrawled  Price VehicleType  RegistrationYear Gearbox  Power  \\\n",
       "0  2016-03-24 11:52:17    480         NaN              1993  manual      0   \n",
       "1  2016-03-24 10:58:45  18300       coupe              2011  manual    190   \n",
       "2  2016-03-14 12:52:21   9800         suv              2004    auto    163   \n",
       "3  2016-03-17 16:54:04   1500       small              2001  manual     75   \n",
       "4  2016-03-31 17:25:20   3600       small              2008  manual     69   \n",
       "\n",
       "   Model  Kilometer  RegistrationMonth  FuelType       Brand Repaired  \\\n",
       "0   golf     150000                  0    petrol  volkswagen      NaN   \n",
       "1    NaN     125000                  5  gasoline        audi      yes   \n",
       "2  grand     125000                  8  gasoline        jeep      NaN   \n",
       "3   golf     150000                  6    petrol  volkswagen       no   \n",
       "4  fabia      90000                  7  gasoline       skoda       no   \n",
       "\n",
       "           DateCreated  NumberOfPictures  PostalCode             LastSeen  \n",
       "0  2016-03-24 00:00:00                 0       70435  2016-04-07 03:16:57  \n",
       "1  2016-03-24 00:00:00                 0       66954  2016-04-07 01:46:50  \n",
       "2  2016-03-14 00:00:00                 0       90480  2016-04-05 12:47:46  \n",
       "3  2016-03-17 00:00:00                 0       91074  2016-03-17 17:40:17  \n",
       "4  2016-03-31 00:00:00                 0       60437  2016-04-06 10:17:21  "
      ]
     },
     "execution_count": 6,
     "metadata": {},
     "output_type": "execute_result"
    }
   ],
   "source": [
    "# Выведем первые 5 строк\n",
    "\n",
    "df.head()"
   ]
  },
  {
   "cell_type": "code",
   "execution_count": 7,
   "metadata": {},
   "outputs": [
    {
     "name": "stdout",
     "output_type": "stream",
     "text": [
      "<class 'pandas.core.frame.DataFrame'>\n",
      "RangeIndex: 354369 entries, 0 to 354368\n",
      "Data columns (total 16 columns):\n",
      " #   Column             Non-Null Count   Dtype \n",
      "---  ------             --------------   ----- \n",
      " 0   DateCrawled        354369 non-null  object\n",
      " 1   Price              354369 non-null  int64 \n",
      " 2   VehicleType        316879 non-null  object\n",
      " 3   RegistrationYear   354369 non-null  int64 \n",
      " 4   Gearbox            334536 non-null  object\n",
      " 5   Power              354369 non-null  int64 \n",
      " 6   Model              334664 non-null  object\n",
      " 7   Kilometer          354369 non-null  int64 \n",
      " 8   RegistrationMonth  354369 non-null  int64 \n",
      " 9   FuelType           321474 non-null  object\n",
      " 10  Brand              354369 non-null  object\n",
      " 11  Repaired           283215 non-null  object\n",
      " 12  DateCreated        354369 non-null  object\n",
      " 13  NumberOfPictures   354369 non-null  int64 \n",
      " 14  PostalCode         354369 non-null  int64 \n",
      " 15  LastSeen           354369 non-null  object\n",
      "dtypes: int64(7), object(9)\n",
      "memory usage: 43.3+ MB\n"
     ]
    }
   ],
   "source": [
    "# Выведем общую информацию о дата-фрейме\n",
    "\n",
    "df.info()"
   ]
  },
  {
   "cell_type": "code",
   "execution_count": 8,
   "metadata": {},
   "outputs": [
    {
     "name": "stdout",
     "output_type": "stream",
     "text": [
      "DateCrawled 271174\n",
      "2016-03-24 14:49:47    7\n",
      "2016-03-26 22:57:31    6\n",
      "2016-03-19 21:49:56    6\n",
      "2016-04-02 14:50:21    5\n",
      "2016-03-23 13:50:19    5\n",
      "                      ..\n",
      "2016-03-20 16:48:06    1\n",
      "2016-03-22 21:51:04    1\n",
      "2016-03-11 16:25:36    1\n",
      "2016-03-31 12:47:30    1\n",
      "2016-03-19 18:57:12    1\n",
      "Name: DateCrawled, Length: 271174, dtype: int64\n",
      "\n",
      "\n",
      "Price 3731\n",
      "0        10772\n",
      "500       5670\n",
      "1500      5394\n",
      "1000      4649\n",
      "1200      4594\n",
      "         ...  \n",
      "1368         1\n",
      "233          1\n",
      "11080        1\n",
      "16340        1\n",
      "10985        1\n",
      "Name: Price, Length: 3731, dtype: int64\n",
      "\n",
      "\n",
      "VehicleType 9\n",
      "sedan          91457\n",
      "small          79831\n",
      "wagon          65166\n",
      "bus            28775\n",
      "convertible    20203\n",
      "coupe          16163\n",
      "suv            11996\n",
      "other           3288\n",
      "Name: VehicleType, dtype: int64\n",
      "\n",
      "\n",
      "RegistrationYear 151\n",
      "2000    24490\n",
      "1999    22728\n",
      "2005    22109\n",
      "2001    20124\n",
      "2006    19900\n",
      "        ...  \n",
      "6500        1\n",
      "2290        1\n",
      "1001        1\n",
      "9450        1\n",
      "3500        1\n",
      "Name: RegistrationYear, Length: 151, dtype: int64\n",
      "\n",
      "\n",
      "Gearbox 3\n",
      "manual    268251\n",
      "auto       66285\n",
      "Name: Gearbox, dtype: int64\n",
      "\n",
      "\n",
      "Power 712\n",
      "0       40225\n",
      "75      24023\n",
      "60      15897\n",
      "150     14590\n",
      "101     13298\n",
      "        ...  \n",
      "610         1\n",
      "6006        1\n",
      "5815        1\n",
      "6018        1\n",
      "1241        1\n",
      "Name: Power, Length: 712, dtype: int64\n",
      "\n",
      "\n",
      "Model 251\n",
      "golf                  29232\n",
      "other                 24421\n",
      "3er                   19761\n",
      "polo                  13066\n",
      "corsa                 12570\n",
      "                      ...  \n",
      "i3                        8\n",
      "serie_3                   4\n",
      "rangerover                4\n",
      "range_rover_evoque        2\n",
      "serie_1                   2\n",
      "Name: Model, Length: 250, dtype: int64\n",
      "\n",
      "\n",
      "Kilometer 13\n",
      "150000    238209\n",
      "125000     36454\n",
      "100000     14882\n",
      "90000      11567\n",
      "80000      10047\n",
      "70000       8593\n",
      "60000       7444\n",
      "5000        6397\n",
      "50000       6232\n",
      "40000       4911\n",
      "30000       4436\n",
      "20000       3975\n",
      "10000       1222\n",
      "Name: Kilometer, dtype: int64\n",
      "\n",
      "\n",
      "RegistrationMonth 13\n",
      "0     37352\n",
      "3     34373\n",
      "6     31508\n",
      "4     29270\n",
      "5     29153\n",
      "7     27213\n",
      "10    26099\n",
      "12    24289\n",
      "11    24186\n",
      "9     23813\n",
      "1     23219\n",
      "8     22627\n",
      "2     21267\n",
      "Name: RegistrationMonth, dtype: int64\n",
      "\n",
      "\n",
      "FuelType 8\n",
      "petrol      216352\n",
      "gasoline     98720\n",
      "lpg           5310\n",
      "cng            565\n",
      "hybrid         233\n",
      "other          204\n",
      "electric        90\n",
      "Name: FuelType, dtype: int64\n",
      "\n",
      "\n",
      "Brand 40\n",
      "volkswagen        77013\n",
      "opel              39931\n",
      "bmw               36914\n",
      "mercedes_benz     32046\n",
      "audi              29456\n",
      "ford              25179\n",
      "renault           17927\n",
      "peugeot           10998\n",
      "fiat               9643\n",
      "seat               6907\n",
      "mazda              5615\n",
      "skoda              5500\n",
      "smart              5246\n",
      "citroen            5148\n",
      "nissan             4941\n",
      "toyota             4606\n",
      "hyundai            3587\n",
      "sonstige_autos     3374\n",
      "volvo              3210\n",
      "mini               3202\n",
      "mitsubishi         3022\n",
      "honda              2817\n",
      "kia                2465\n",
      "suzuki             2323\n",
      "alfa_romeo         2314\n",
      "chevrolet          1754\n",
      "chrysler           1439\n",
      "dacia               900\n",
      "daihatsu            806\n",
      "subaru              762\n",
      "porsche             758\n",
      "jeep                677\n",
      "trabant             589\n",
      "land_rover          545\n",
      "daewoo              542\n",
      "saab                526\n",
      "jaguar              505\n",
      "rover               486\n",
      "lancia              471\n",
      "lada                225\n",
      "Name: Brand, dtype: int64\n",
      "\n",
      "\n",
      "Repaired 3\n",
      "no     247161\n",
      "yes     36054\n",
      "Name: Repaired, dtype: int64\n",
      "\n",
      "\n",
      "DateCreated 109\n",
      "2016-04-03 00:00:00    13719\n",
      "2016-04-04 00:00:00    13317\n",
      "2016-03-20 00:00:00    12918\n",
      "2016-03-12 00:00:00    12840\n",
      "2016-03-21 00:00:00    12691\n",
      "                       ...  \n",
      "2015-08-07 00:00:00        1\n",
      "2015-12-27 00:00:00        1\n",
      "2015-11-12 00:00:00        1\n",
      "2015-12-06 00:00:00        1\n",
      "2015-06-18 00:00:00        1\n",
      "Name: DateCreated, Length: 109, dtype: int64\n",
      "\n",
      "\n",
      "NumberOfPictures 1\n",
      "0    354369\n",
      "Name: NumberOfPictures, dtype: int64\n",
      "\n",
      "\n",
      "PostalCode 8143\n",
      "10115    819\n",
      "65428    613\n",
      "66333    343\n",
      "32257    317\n",
      "44145    317\n",
      "        ... \n",
      "91801      1\n",
      "31097      1\n",
      "82444      1\n",
      "94359      1\n",
      "31096      1\n",
      "Name: PostalCode, Length: 8143, dtype: int64\n",
      "\n",
      "\n",
      "LastSeen 179150\n",
      "2016-04-06 13:45:54    17\n",
      "2016-04-07 09:45:10    16\n",
      "2016-04-06 01:15:23    16\n",
      "2016-04-06 10:15:26    16\n",
      "2016-04-07 05:44:30    16\n",
      "                       ..\n",
      "2016-03-07 17:46:17     1\n",
      "2016-03-10 07:49:15     1\n",
      "2016-04-03 04:18:11     1\n",
      "2016-03-16 20:19:54     1\n",
      "2016-03-21 10:42:49     1\n",
      "Name: LastSeen, Length: 179150, dtype: int64\n",
      "\n",
      "\n"
     ]
    }
   ],
   "source": [
    "# Для каждого столбца посмотрим кол-во и распределение уникальных значений\n",
    "\n",
    "for col in df.columns:\n",
    "    print(col, len(df[col].unique()))\n",
    "    print(df[col].value_counts())\n",
    "    print('\\n')"
   ]
  },
  {
   "cell_type": "code",
   "execution_count": 9,
   "metadata": {},
   "outputs": [
    {
     "data": {
      "text/plain": [
       "(354369, 16)"
      ]
     },
     "execution_count": 9,
     "metadata": {},
     "output_type": "execute_result"
    }
   ],
   "source": [
    "# Выведем размер фрейма\n",
    "\n",
    "df.shape"
   ]
  },
  {
   "cell_type": "markdown",
   "metadata": {},
   "source": [
    "Удалим столбцы, которые, по нашему мнению, неинформативны:\n",
    "- 'NumberOfPictures' все значения столбыц нулевые;\n",
    "- 'RegistrationMonth' месяц регистрации вряд ли влияет на цену, там много нулеых значений, заменить их правильно не получится;"
   ]
  },
  {
   "cell_type": "code",
   "execution_count": 10,
   "metadata": {},
   "outputs": [
    {
     "data": {
      "text/plain": [
       "(354369, 14)"
      ]
     },
     "execution_count": 10,
     "metadata": {},
     "output_type": "execute_result"
    }
   ],
   "source": [
    "# Удалим неинформативные столбцы, проверим размер фрейма\n",
    "\n",
    "df.drop(['NumberOfPictures', 'RegistrationMonth'], axis=1, inplace=True)\n",
    "df.shape"
   ]
  },
  {
   "cell_type": "code",
   "execution_count": 11,
   "metadata": {},
   "outputs": [
    {
     "data": {
      "text/plain": [
       "DateCreated    datetime64[ns]\n",
       "DateCrawled    datetime64[ns]\n",
       "LastSeen       datetime64[ns]\n",
       "dtype: object"
      ]
     },
     "execution_count": 11,
     "metadata": {},
     "output_type": "execute_result"
    }
   ],
   "source": [
    "# Преобразуем столбцы с датами в формат datetime\n",
    "\n",
    "df['DateCreated'] = pd.to_datetime(df['DateCreated'])\n",
    "df['DateCrawled'] = pd.to_datetime(df['DateCrawled'])\n",
    "df['LastSeen'] = pd.to_datetime(df['LastSeen'])\n",
    "df[['DateCreated', 'DateCrawled', 'LastSeen']].dtypes"
   ]
  },
  {
   "cell_type": "code",
   "execution_count": 12,
   "metadata": {},
   "outputs": [
    {
     "data": {
      "text/plain": [
       "0      0.966747\n",
       "1      0.028990\n",
       "2      0.001532\n",
       "3      0.000240\n",
       "4      0.000226\n",
       "         ...   \n",
       "239    0.000003\n",
       "94     0.000003\n",
       "131    0.000003\n",
       "78     0.000003\n",
       "66     0.000003\n",
       "Name: age_days, Length: 93, dtype: float64"
      ]
     },
     "execution_count": 12,
     "metadata": {},
     "output_type": "execute_result"
    }
   ],
   "source": [
    "# Получим возраст объявления в днях, запишем эту цифру в отдельный столбецб выведем кол-во значений.\n",
    "\n",
    "df['age_days'] = (df['DateCrawled'] - df['DateCreated']).dt.days\n",
    "df['age_days'].value_counts(normalize=True)"
   ]
  },
  {
   "cell_type": "markdown",
   "metadata": {},
   "source": [
    "97 % объявлений скачены в день создания."
   ]
  },
  {
   "cell_type": "code",
   "execution_count": 13,
   "metadata": {
    "scrolled": true
   },
   "outputs": [
    {
     "data": {
      "text/plain": [
       "Timedelta('33 days 00:30:36')"
      ]
     },
     "execution_count": 13,
     "metadata": {},
     "output_type": "execute_result"
    }
   ],
   "source": [
    "# Максимальный диапазон скачивания анкет из базы\n",
    "\n",
    "df['DateCrawled'].max() - df['DateCrawled'].min()"
   ]
  },
  {
   "cell_type": "markdown",
   "metadata": {},
   "source": [
    "Все анкеты были скачены в течении 33 дней."
   ]
  },
  {
   "cell_type": "code",
   "execution_count": 14,
   "metadata": {
    "scrolled": true
   },
   "outputs": [
    {
     "data": {
      "text/plain": [
       " 0     0.102800\n",
       "-2     0.083636\n",
       "-3     0.081153\n",
       "-1     0.080679\n",
       "-4     0.069058\n",
       "-6     0.059209\n",
       "-8     0.053896\n",
       "-5     0.044073\n",
       "-11    0.036248\n",
       "-10    0.035610\n",
       "-7     0.028761\n",
       "-14    0.027212\n",
       "-13    0.026489\n",
       "-9     0.024091\n",
       "-15    0.022561\n",
       "-19    0.019762\n",
       "-12    0.018596\n",
       "-18    0.017270\n",
       "-16    0.017104\n",
       "-17    0.016060\n",
       "-21    0.015949\n",
       "-22    0.015498\n",
       "-23    0.014101\n",
       "-25    0.011702\n",
       "-26    0.011192\n",
       "-27    0.010805\n",
       "-29    0.009084\n",
       "-28    0.008914\n",
       "-30    0.008694\n",
       "-24    0.008330\n",
       "-31    0.007851\n",
       "-20    0.006806\n",
       "-32    0.003626\n",
       "-33    0.003127\n",
       "-34    0.000051\n",
       " 12    0.000003\n",
       "Name: actual_days, dtype: float64"
      ]
     },
     "execution_count": 14,
     "metadata": {},
     "output_type": "execute_result"
    }
   ],
   "source": [
    "# Получим актуальность объявления в днях, запишем эту цифру в отдельный столбец.\n",
    "\n",
    "df['actual_days'] = (df['DateCrawled'] - df['LastSeen']).dt.days\n",
    "df['actual_days'].value_counts(normalize=True)"
   ]
  },
  {
   "cell_type": "markdown",
   "metadata": {},
   "source": [
    "Дата последней активности пользователя у 10 % анкет соответсвует дате скачивания, а почти у всех остальных позже чем дата скачивания, это нелогично. Со столбцом 'LastSeen', что-то не так. Удалим его, а также столбцы: 'DateCrowled'(он нам не нужен, так как у нас есть отдельный столбец с 'возрастом' объявления), 'actual_days'."
   ]
  },
  {
   "cell_type": "code",
   "execution_count": 15,
   "metadata": {},
   "outputs": [
    {
     "data": {
      "text/plain": [
       "(354369, 13)"
      ]
     },
     "execution_count": 15,
     "metadata": {},
     "output_type": "execute_result"
    }
   ],
   "source": [
    "# Удалим столбцы, проверим размер фрейма\n",
    "\n",
    "df.drop(['DateCrawled', 'actual_days', 'LastSeen'], axis=1, inplace=True)\n",
    "df.shape"
   ]
  },
  {
   "cell_type": "code",
   "execution_count": 16,
   "metadata": {},
   "outputs": [],
   "source": [
    "# Преобразуем столбец 'DateCreated' отдельные столбцы с номером года и месяца, а сам исходный\n",
    "# столбец удалим\n",
    "\n",
    "df['year_created'] = df['DateCreated'].dt.year\n",
    "df['month_created'] = df['DateCreated'].dt.month\n",
    "df.drop('DateCreated', axis=1, inplace=True)"
   ]
  },
  {
   "cell_type": "markdown",
   "metadata": {},
   "source": [
    "### Обработка пропусков."
   ]
  },
  {
   "cell_type": "code",
   "execution_count": 17,
   "metadata": {},
   "outputs": [
    {
     "data": {
      "text/plain": [
       "Price                   0\n",
       "VehicleType         37490\n",
       "RegistrationYear        0\n",
       "Gearbox             19833\n",
       "Power                   0\n",
       "Model               19705\n",
       "Kilometer               0\n",
       "FuelType            32895\n",
       "Brand                   0\n",
       "Repaired            71154\n",
       "PostalCode              0\n",
       "age_days                0\n",
       "year_created            0\n",
       "month_created           0\n",
       "dtype: int64"
      ]
     },
     "execution_count": 17,
     "metadata": {},
     "output_type": "execute_result"
    }
   ],
   "source": [
    "# Посчитаем кол-во пропущенных значений в столбцах\n",
    "\n",
    "df.isna().sum()"
   ]
  },
  {
   "cell_type": "markdown",
   "metadata": {},
   "source": [
    "Все пропуски в категориальных переменных."
   ]
  },
  {
   "cell_type": "markdown",
   "metadata": {},
   "source": [
    "Удалим строки с пропусками в модели авто, без названия модели все остальные данные неиформативны, правильно заполнить модель не получится."
   ]
  },
  {
   "cell_type": "code",
   "execution_count": 18,
   "metadata": {},
   "outputs": [
    {
     "data": {
      "text/plain": [
       "(334664, 14)"
      ]
     },
     "execution_count": 18,
     "metadata": {},
     "output_type": "execute_result"
    }
   ],
   "source": [
    "# Удалим строки с пропускаим в столбце 'Model', проверим размер фрейма\n",
    "\n",
    "df.dropna(subset=['Model'], inplace=True)\n",
    "df.shape"
   ]
  },
  {
   "cell_type": "code",
   "execution_count": 19,
   "metadata": {},
   "outputs": [],
   "source": [
    "# Заменим пропуски в столбце 'VehicleType' модой этого столбца для соответствующей модели\n",
    "\n",
    "df.loc[df['VehicleType'].isna(), 'VehicleType'] = df.groupby('Model')['VehicleType'].transform(lambda x: x.fillna((x.mode()[0] if x.count() != 0 else 'unknown')))"
   ]
  },
  {
   "cell_type": "code",
   "execution_count": 20,
   "metadata": {},
   "outputs": [
    {
     "data": {
      "text/plain": [
       "0"
      ]
     },
     "execution_count": 20,
     "metadata": {},
     "output_type": "execute_result"
    }
   ],
   "source": [
    "df['VehicleType'].isna().sum()"
   ]
  },
  {
   "cell_type": "code",
   "execution_count": 21,
   "metadata": {},
   "outputs": [],
   "source": [
    "# Заменим пропуски в столбце 'Gearbox' на наиболее часто встречающееся значения\n",
    " \n",
    "df['Gearbox'].fillna(df['Gearbox'].mode()[0], inplace=True)"
   ]
  },
  {
   "cell_type": "code",
   "execution_count": 22,
   "metadata": {},
   "outputs": [],
   "source": [
    "# Заменим пропуски в столбце 'Fueltype' на наиболее часто встречающееся значения\n",
    " \n",
    "df['FuelType'].fillna(df['FuelType'].mode()[0], inplace=True)"
   ]
  },
  {
   "cell_type": "code",
   "execution_count": 23,
   "metadata": {},
   "outputs": [],
   "source": [
    "# Заменим пропуски в столбце 'Repaired' значением 'no'\n",
    "\n",
    "df['Repaired'].fillna('no', inplace=True)"
   ]
  },
  {
   "cell_type": "code",
   "execution_count": 24,
   "metadata": {},
   "outputs": [
    {
     "data": {
      "text/plain": [
       "Price               0\n",
       "VehicleType         0\n",
       "RegistrationYear    0\n",
       "Gearbox             0\n",
       "Power               0\n",
       "Model               0\n",
       "Kilometer           0\n",
       "FuelType            0\n",
       "Brand               0\n",
       "Repaired            0\n",
       "PostalCode          0\n",
       "age_days            0\n",
       "year_created        0\n",
       "month_created       0\n",
       "dtype: int64"
      ]
     },
     "execution_count": 24,
     "metadata": {},
     "output_type": "execute_result"
    }
   ],
   "source": [
    "# Проверим кол-во оставшихся пропусков\n",
    "\n",
    "df.isna().sum()"
   ]
  },
  {
   "cell_type": "markdown",
   "metadata": {},
   "source": [
    "### Обработка аномалий. "
   ]
  },
  {
   "cell_type": "code",
   "execution_count": 25,
   "metadata": {},
   "outputs": [
    {
     "data": {
      "text/plain": [
       "6.74"
      ]
     },
     "execution_count": 25,
     "metadata": {},
     "output_type": "execute_result"
    }
   ],
   "source": [
    "# Посчитаем процент явных дубликатов.\n",
    "\n",
    "round(df.duplicated().sum()/df.shape[0]*100, 2)"
   ]
  },
  {
   "cell_type": "markdown",
   "metadata": {},
   "source": [
    "Явные дубликаты составляют почти 7% данных."
   ]
  },
  {
   "cell_type": "code",
   "execution_count": 26,
   "metadata": {},
   "outputs": [
    {
     "data": {
      "text/plain": [
       "0"
      ]
     },
     "execution_count": 26,
     "metadata": {},
     "output_type": "execute_result"
    }
   ],
   "source": [
    "# Удалим явные дубликаты и проверим.\n",
    "\n",
    "df.drop_duplicates(inplace=True)\n",
    "df.duplicated().sum()"
   ]
  },
  {
   "cell_type": "markdown",
   "metadata": {},
   "source": [
    "Model — модель автомобиля"
   ]
  },
  {
   "cell_type": "code",
   "execution_count": 27,
   "metadata": {},
   "outputs": [
    {
     "data": {
      "text/plain": [
       "7.45"
      ]
     },
     "execution_count": 27,
     "metadata": {},
     "output_type": "execute_result"
    }
   ],
   "source": [
    "round((df['Model'] == 'other').sum()/df.shape[0]*100, 2)"
   ]
  },
  {
   "cell_type": "markdown",
   "metadata": {},
   "source": [
    "Строки, где в качестве модели указано 'other' составляет чуть более 7 %, их удаление можеи привести к существенной потере данных, придется их оставить."
   ]
  },
  {
   "cell_type": "code",
   "execution_count": 28,
   "metadata": {},
   "outputs": [
    {
     "data": {
      "text/plain": [
       "250"
      ]
     },
     "execution_count": 28,
     "metadata": {},
     "output_type": "execute_result"
    }
   ],
   "source": [
    "# Посчитаем кол-во уникальных значений в столбце 'Model'\n",
    "\n",
    "len(df['Model'].unique())"
   ]
  },
  {
   "cell_type": "code",
   "execution_count": 29,
   "metadata": {},
   "outputs": [
    {
     "data": {
      "text/plain": [
       "['100',\n",
       " '145',\n",
       " '147',\n",
       " '156',\n",
       " '159',\n",
       " '1_reihe',\n",
       " '1er',\n",
       " '200',\n",
       " '2_reihe',\n",
       " '300c',\n",
       " '3_reihe',\n",
       " '3er',\n",
       " '4_reihe',\n",
       " '500',\n",
       " '5_reihe',\n",
       " '5er',\n",
       " '601',\n",
       " '6_reihe',\n",
       " '6er',\n",
       " '7er',\n",
       " '80',\n",
       " '850',\n",
       " '90',\n",
       " '900',\n",
       " '9000',\n",
       " '911',\n",
       " 'a1',\n",
       " 'a2',\n",
       " 'a3',\n",
       " 'a4',\n",
       " 'a5',\n",
       " 'a6',\n",
       " 'a8',\n",
       " 'a_klasse',\n",
       " 'accord',\n",
       " 'agila',\n",
       " 'alhambra',\n",
       " 'almera',\n",
       " 'altea',\n",
       " 'amarok',\n",
       " 'antara',\n",
       " 'arosa',\n",
       " 'astra',\n",
       " 'auris',\n",
       " 'avensis',\n",
       " 'aveo',\n",
       " 'aygo',\n",
       " 'b_klasse',\n",
       " 'b_max',\n",
       " 'beetle',\n",
       " 'berlingo',\n",
       " 'bora',\n",
       " 'boxster',\n",
       " 'bravo',\n",
       " 'c1',\n",
       " 'c2',\n",
       " 'c3',\n",
       " 'c4',\n",
       " 'c5',\n",
       " 'c_klasse',\n",
       " 'c_max',\n",
       " 'c_reihe',\n",
       " 'caddy',\n",
       " 'calibra',\n",
       " 'captiva',\n",
       " 'carisma',\n",
       " 'carnival',\n",
       " 'cayenne',\n",
       " 'cc',\n",
       " 'ceed',\n",
       " 'charade',\n",
       " 'cherokee',\n",
       " 'citigo',\n",
       " 'civic',\n",
       " 'cl',\n",
       " 'clio',\n",
       " 'clk',\n",
       " 'clubman',\n",
       " 'colt',\n",
       " 'combo',\n",
       " 'cooper',\n",
       " 'cordoba',\n",
       " 'corolla',\n",
       " 'corsa',\n",
       " 'cr_reihe',\n",
       " 'croma',\n",
       " 'crossfire',\n",
       " 'cuore',\n",
       " 'cx_reihe',\n",
       " 'defender',\n",
       " 'delta',\n",
       " 'discovery',\n",
       " 'doblo',\n",
       " 'ducato',\n",
       " 'duster',\n",
       " 'e_klasse',\n",
       " 'elefantino',\n",
       " 'eos',\n",
       " 'escort',\n",
       " 'espace',\n",
       " 'exeo',\n",
       " 'fabia',\n",
       " 'fiesta',\n",
       " 'focus',\n",
       " 'forester',\n",
       " 'forfour',\n",
       " 'fortwo',\n",
       " 'fox',\n",
       " 'freelander',\n",
       " 'fusion',\n",
       " 'g_klasse',\n",
       " 'galant',\n",
       " 'galaxy',\n",
       " 'getz',\n",
       " 'gl',\n",
       " 'glk',\n",
       " 'golf',\n",
       " 'grand',\n",
       " 'i3',\n",
       " 'i_reihe',\n",
       " 'ibiza',\n",
       " 'impreza',\n",
       " 'insignia',\n",
       " 'jazz',\n",
       " 'jetta',\n",
       " 'jimny',\n",
       " 'juke',\n",
       " 'justy',\n",
       " 'ka',\n",
       " 'kadett',\n",
       " 'kaefer',\n",
       " 'kalina',\n",
       " 'kalos',\n",
       " 'kangoo',\n",
       " 'kappa',\n",
       " 'kuga',\n",
       " 'laguna',\n",
       " 'lancer',\n",
       " 'lanos',\n",
       " 'legacy',\n",
       " 'leon',\n",
       " 'lodgy',\n",
       " 'logan',\n",
       " 'lupo',\n",
       " 'lybra',\n",
       " 'm_klasse',\n",
       " 'm_reihe',\n",
       " 'materia',\n",
       " 'matiz',\n",
       " 'megane',\n",
       " 'meriva',\n",
       " 'micra',\n",
       " 'mii',\n",
       " 'modus',\n",
       " 'mondeo',\n",
       " 'move',\n",
       " 'musa',\n",
       " 'mustang',\n",
       " 'mx_reihe',\n",
       " 'navara',\n",
       " 'niva',\n",
       " 'note',\n",
       " 'nubira',\n",
       " 'octavia',\n",
       " 'omega',\n",
       " 'one',\n",
       " 'other',\n",
       " 'outlander',\n",
       " 'pajero',\n",
       " 'panda',\n",
       " 'passat',\n",
       " 'phaeton',\n",
       " 'picanto',\n",
       " 'polo',\n",
       " 'primera',\n",
       " 'ptcruiser',\n",
       " 'punto',\n",
       " 'q3',\n",
       " 'q5',\n",
       " 'q7',\n",
       " 'qashqai',\n",
       " 'r19',\n",
       " 'range_rover',\n",
       " 'range_rover_evoque',\n",
       " 'range_rover_sport',\n",
       " 'rangerover',\n",
       " 'rav',\n",
       " 'rio',\n",
       " 'roadster',\n",
       " 'roomster',\n",
       " 'rx_reihe',\n",
       " 's60',\n",
       " 's_klasse',\n",
       " 's_max',\n",
       " 's_type',\n",
       " 'samara',\n",
       " 'sandero',\n",
       " 'santa',\n",
       " 'scenic',\n",
       " 'scirocco',\n",
       " 'seicento',\n",
       " 'serie_1',\n",
       " 'serie_2',\n",
       " 'serie_3',\n",
       " 'sharan',\n",
       " 'signum',\n",
       " 'sirion',\n",
       " 'sl',\n",
       " 'slk',\n",
       " 'sorento',\n",
       " 'spark',\n",
       " 'spider',\n",
       " 'sportage',\n",
       " 'sprinter',\n",
       " 'stilo',\n",
       " 'superb',\n",
       " 'swift',\n",
       " 'terios',\n",
       " 'tigra',\n",
       " 'tiguan',\n",
       " 'toledo',\n",
       " 'touareg',\n",
       " 'touran',\n",
       " 'transit',\n",
       " 'transporter',\n",
       " 'tt',\n",
       " 'tucson',\n",
       " 'twingo',\n",
       " 'up',\n",
       " 'v40',\n",
       " 'v50',\n",
       " 'v60',\n",
       " 'v70',\n",
       " 'v_klasse',\n",
       " 'vectra',\n",
       " 'verso',\n",
       " 'viano',\n",
       " 'vito',\n",
       " 'vivaro',\n",
       " 'voyager',\n",
       " 'wrangler',\n",
       " 'x_reihe',\n",
       " 'x_trail',\n",
       " 'x_type',\n",
       " 'xc_reihe',\n",
       " 'yaris',\n",
       " 'yeti',\n",
       " 'ypsilon',\n",
       " 'z_reihe',\n",
       " 'zafira']"
      ]
     },
     "execution_count": 29,
     "metadata": {},
     "output_type": "execute_result"
    }
   ],
   "source": [
    "# Выведем отсортированный список уникальных значений модели\n",
    "\n",
    "sorted(df['Model'].unique())"
   ]
  },
  {
   "cell_type": "markdown",
   "metadata": {},
   "source": [
    "В списке моделей есть неявные дубликаты, например '3er' и '3_reihe', 'range_rover' и 'rangerover'. Приведем их к единому шаблону."
   ]
  },
  {
   "cell_type": "code",
   "execution_count": 30,
   "metadata": {},
   "outputs": [],
   "source": [
    "# Создадим шаблон для замен.\n",
    "\n",
    "repl_list = {'\\_reihe': 'er', 'rangerover':'range_rover'}"
   ]
  },
  {
   "cell_type": "code",
   "execution_count": 31,
   "metadata": {},
   "outputs": [],
   "source": [
    "# Произведем замены по шаблону.\n",
    "\n",
    "df['Model'].replace(repl_list, regex=True, inplace=True)"
   ]
  },
  {
   "cell_type": "markdown",
   "metadata": {},
   "source": [
    "VehicleType — тип автомобильного кузова"
   ]
  },
  {
   "cell_type": "code",
   "execution_count": 32,
   "metadata": {},
   "outputs": [
    {
     "data": {
      "text/plain": [
       "sedan          95568\n",
       "small          79512\n",
       "wagon          61636\n",
       "bus            28959\n",
       "convertible    18213\n",
       "coupe          14644\n",
       "suv            10842\n",
       "other           2727\n",
       "Name: VehicleType, dtype: int64"
      ]
     },
     "execution_count": 32,
     "metadata": {},
     "output_type": "execute_result"
    }
   ],
   "source": [
    "# Посчитаем кол-во значений с столбце 'VehicleType'\n",
    "\n",
    "df['VehicleType'].value_counts()"
   ]
  },
  {
   "cell_type": "code",
   "execution_count": 33,
   "metadata": {},
   "outputs": [
    {
     "name": "stdout",
     "output_type": "stream",
     "text": [
      "Wall time: 1min 1s\n"
     ]
    }
   ],
   "source": [
    "%%time\n",
    "\n",
    "# Заменим значения 'other' на самый часто встречающийся тип транспортного средства для данной модели\n",
    "\n",
    "\n",
    "df.loc[df['VehicleType'] == 'other', 'VehicleType'] =\\\n",
    "df.loc[df['VehicleType'] == 'other', 'Model'].\\\n",
    "apply(lambda x: df[df['Model'] == x]['VehicleType'].mode()[0])"
   ]
  },
  {
   "cell_type": "code",
   "execution_count": 34,
   "metadata": {},
   "outputs": [
    {
     "data": {
      "text/plain": [
       "sedan          97010\n",
       "small          79680\n",
       "wagon          61873\n",
       "bus            29770\n",
       "convertible    18229\n",
       "coupe          14665\n",
       "suv            10869\n",
       "other              5\n",
       "Name: VehicleType, dtype: int64"
      ]
     },
     "execution_count": 34,
     "metadata": {},
     "output_type": "execute_result"
    }
   ],
   "source": [
    "# Проверим кол-во оставшихся значений 'other'\n",
    "\n",
    "df['VehicleType'].value_counts()"
   ]
  },
  {
   "cell_type": "code",
   "execution_count": 35,
   "metadata": {},
   "outputs": [
    {
     "data": {
      "text/html": [
       "<div>\n",
       "<style scoped>\n",
       "    .dataframe tbody tr th:only-of-type {\n",
       "        vertical-align: middle;\n",
       "    }\n",
       "\n",
       "    .dataframe tbody tr th {\n",
       "        vertical-align: top;\n",
       "    }\n",
       "\n",
       "    .dataframe thead th {\n",
       "        text-align: right;\n",
       "    }\n",
       "</style>\n",
       "<table border=\"1\" class=\"dataframe\">\n",
       "  <thead>\n",
       "    <tr style=\"text-align: right;\">\n",
       "      <th></th>\n",
       "      <th>Price</th>\n",
       "      <th>VehicleType</th>\n",
       "      <th>RegistrationYear</th>\n",
       "      <th>Gearbox</th>\n",
       "      <th>Power</th>\n",
       "      <th>Model</th>\n",
       "      <th>Kilometer</th>\n",
       "      <th>FuelType</th>\n",
       "      <th>Brand</th>\n",
       "      <th>Repaired</th>\n",
       "      <th>PostalCode</th>\n",
       "      <th>age_days</th>\n",
       "      <th>year_created</th>\n",
       "      <th>month_created</th>\n",
       "    </tr>\n",
       "  </thead>\n",
       "  <tbody>\n",
       "    <tr>\n",
       "      <th>6425</th>\n",
       "      <td>10000</td>\n",
       "      <td>other</td>\n",
       "      <td>1978</td>\n",
       "      <td>manual</td>\n",
       "      <td>109</td>\n",
       "      <td>serie_2</td>\n",
       "      <td>150000</td>\n",
       "      <td>gasoline</td>\n",
       "      <td>land_rover</td>\n",
       "      <td>no</td>\n",
       "      <td>72070</td>\n",
       "      <td>0</td>\n",
       "      <td>2016</td>\n",
       "      <td>3</td>\n",
       "    </tr>\n",
       "    <tr>\n",
       "      <th>6660</th>\n",
       "      <td>15000</td>\n",
       "      <td>other</td>\n",
       "      <td>1982</td>\n",
       "      <td>manual</td>\n",
       "      <td>100</td>\n",
       "      <td>serie_2</td>\n",
       "      <td>70000</td>\n",
       "      <td>gasoline</td>\n",
       "      <td>land_rover</td>\n",
       "      <td>no</td>\n",
       "      <td>72070</td>\n",
       "      <td>0</td>\n",
       "      <td>2016</td>\n",
       "      <td>3</td>\n",
       "    </tr>\n",
       "    <tr>\n",
       "      <th>36733</th>\n",
       "      <td>6450</td>\n",
       "      <td>other</td>\n",
       "      <td>1970</td>\n",
       "      <td>manual</td>\n",
       "      <td>57</td>\n",
       "      <td>serie_2</td>\n",
       "      <td>70000</td>\n",
       "      <td>petrol</td>\n",
       "      <td>land_rover</td>\n",
       "      <td>no</td>\n",
       "      <td>65189</td>\n",
       "      <td>0</td>\n",
       "      <td>2016</td>\n",
       "      <td>3</td>\n",
       "    </tr>\n",
       "    <tr>\n",
       "      <th>67994</th>\n",
       "      <td>8450</td>\n",
       "      <td>other</td>\n",
       "      <td>2018</td>\n",
       "      <td>manual</td>\n",
       "      <td>46</td>\n",
       "      <td>serie_2</td>\n",
       "      <td>60000</td>\n",
       "      <td>gasoline</td>\n",
       "      <td>land_rover</td>\n",
       "      <td>no</td>\n",
       "      <td>65326</td>\n",
       "      <td>0</td>\n",
       "      <td>2016</td>\n",
       "      <td>3</td>\n",
       "    </tr>\n",
       "    <tr>\n",
       "      <th>333564</th>\n",
       "      <td>7000</td>\n",
       "      <td>other</td>\n",
       "      <td>1980</td>\n",
       "      <td>manual</td>\n",
       "      <td>70</td>\n",
       "      <td>serie_2</td>\n",
       "      <td>10000</td>\n",
       "      <td>gasoline</td>\n",
       "      <td>land_rover</td>\n",
       "      <td>no</td>\n",
       "      <td>72070</td>\n",
       "      <td>0</td>\n",
       "      <td>2016</td>\n",
       "      <td>3</td>\n",
       "    </tr>\n",
       "  </tbody>\n",
       "</table>\n",
       "</div>"
      ],
      "text/plain": [
       "        Price VehicleType  RegistrationYear Gearbox  Power    Model  \\\n",
       "6425    10000       other              1978  manual    109  serie_2   \n",
       "6660    15000       other              1982  manual    100  serie_2   \n",
       "36733    6450       other              1970  manual     57  serie_2   \n",
       "67994    8450       other              2018  manual     46  serie_2   \n",
       "333564   7000       other              1980  manual     70  serie_2   \n",
       "\n",
       "        Kilometer  FuelType       Brand Repaired  PostalCode  age_days  \\\n",
       "6425       150000  gasoline  land_rover       no       72070         0   \n",
       "6660        70000  gasoline  land_rover       no       72070         0   \n",
       "36733       70000    petrol  land_rover       no       65189         0   \n",
       "67994       60000  gasoline  land_rover       no       65326         0   \n",
       "333564      10000  gasoline  land_rover       no       72070         0   \n",
       "\n",
       "        year_created  month_created  \n",
       "6425            2016              3  \n",
       "6660            2016              3  \n",
       "36733           2016              3  \n",
       "67994           2016              3  \n",
       "333564          2016              3  "
      ]
     },
     "execution_count": 35,
     "metadata": {},
     "output_type": "execute_result"
    }
   ],
   "source": [
    "# Выведем строки с оставшимися значениями 'other'\n",
    "\n",
    "df[df['VehicleType'] == 'other']"
   ]
  },
  {
   "cell_type": "markdown",
   "metadata": {},
   "source": [
    "Все оставшиеся значения относятся к внедорожникам 'land_rover'."
   ]
  },
  {
   "cell_type": "code",
   "execution_count": 36,
   "metadata": {},
   "outputs": [
    {
     "data": {
      "text/plain": [
       "sedan          97010\n",
       "small          79680\n",
       "wagon          61873\n",
       "bus            29770\n",
       "convertible    18229\n",
       "coupe          14665\n",
       "suv            10874\n",
       "Name: VehicleType, dtype: int64"
      ]
     },
     "execution_count": 36,
     "metadata": {},
     "output_type": "execute_result"
    }
   ],
   "source": [
    "# Заменим оставшиеся значения 'other' типа транспортного средства для 'land_rover' на 'suv'\n",
    "# Выведем окончательный список значений столбца\n",
    "\n",
    "df.loc[df['VehicleType'] == 'other', 'VehicleType'] = 'suv'\n",
    "df['VehicleType'].value_counts()"
   ]
  },
  {
   "cell_type": "code",
   "execution_count": 37,
   "metadata": {
    "scrolled": true
   },
   "outputs": [
    {
     "data": {
      "text/plain": [
       "alfa_romeo        2050\n",
       "audi             26216\n",
       "bmw              32442\n",
       "chevrolet         1551\n",
       "chrysler          1285\n",
       "citroen           4640\n",
       "dacia              814\n",
       "daewoo             471\n",
       "daihatsu           721\n",
       "fiat              8568\n",
       "ford             22558\n",
       "honda             2521\n",
       "hyundai           3144\n",
       "jaguar             467\n",
       "jeep               625\n",
       "kia               2192\n",
       "lada               200\n",
       "lancia             428\n",
       "land_rover         501\n",
       "mazda             4930\n",
       "mercedes_benz    28874\n",
       "mini              2917\n",
       "mitsubishi        2735\n",
       "nissan            4450\n",
       "opel             35352\n",
       "peugeot           9374\n",
       "porsche            683\n",
       "renault          16087\n",
       "rover              380\n",
       "saab               475\n",
       "seat              6211\n",
       "skoda             4963\n",
       "smart             4715\n",
       "subaru             691\n",
       "suzuki            2050\n",
       "toyota            4211\n",
       "trabant            474\n",
       "volkswagen       68268\n",
       "volvo             2867\n",
       "Name: Brand, dtype: int64"
      ]
     },
     "execution_count": 37,
     "metadata": {},
     "output_type": "execute_result"
    }
   ],
   "source": [
    "# Проверим наличие неявных дубликатов в столбце 'Brand'\n",
    "\n",
    "df['Brand'].value_counts().sort_index()"
   ]
  },
  {
   "cell_type": "markdown",
   "metadata": {},
   "source": [
    "Неявных дубликатов в столбце 'Brand' больше не обнаружено."
   ]
  },
  {
   "cell_type": "markdown",
   "metadata": {},
   "source": [
    "RegistrationYear — год регистрации автомобиля\n",
    "\n",
    "Год регистрации автомобиля не может быть менее 1768 г.(год выпуска первого авто в мире) и не может быть более 2016 г. (последний год создания нашей анкеты). "
   ]
  },
  {
   "cell_type": "code",
   "execution_count": 38,
   "metadata": {},
   "outputs": [
    {
     "data": {
      "text/plain": [
       "174893    1000\n",
       "192705    1000\n",
       "256532    1000\n",
       "189722    1000\n",
       "97736     1000\n",
       "          ... \n",
       "301279    9999\n",
       "217111    9999\n",
       "331753    9999\n",
       "28965     9999\n",
       "62395     9999\n",
       "Name: RegistrationYear, Length: 312101, dtype: int64"
      ]
     },
     "execution_count": 38,
     "metadata": {},
     "output_type": "execute_result"
    }
   ],
   "source": [
    "# Посмотрим распределение года регистрации\n",
    "\n",
    "df['RegistrationYear'].sort_values()"
   ]
  },
  {
   "cell_type": "code",
   "execution_count": 39,
   "metadata": {
    "scrolled": true
   },
   "outputs": [
    {
     "data": {
      "text/plain": [
       "[1000,\n",
       " 1001,\n",
       " 1111,\n",
       " 1200,\n",
       " 1234,\n",
       " 1300,\n",
       " 1400,\n",
       " 1500,\n",
       " 1600,\n",
       " 1602,\n",
       " 2017,\n",
       " 2018,\n",
       " 2019,\n",
       " 2066,\n",
       " 2200,\n",
       " 2290,\n",
       " 2500,\n",
       " 2900,\n",
       " 3000,\n",
       " 3700,\n",
       " 4000,\n",
       " 4500,\n",
       " 5000,\n",
       " 5555,\n",
       " 5900,\n",
       " 5911,\n",
       " 6000,\n",
       " 6500,\n",
       " 7000,\n",
       " 7100,\n",
       " 7500,\n",
       " 7800,\n",
       " 8000,\n",
       " 8200,\n",
       " 8500,\n",
       " 9000,\n",
       " 9999]"
      ]
     },
     "execution_count": 39,
     "metadata": {},
     "output_type": "execute_result"
    }
   ],
   "source": [
    "# Посмотрим кол-во уникальных значений в столбце непопадающих под условия\n",
    "\n",
    "sorted(df.loc[(df['RegistrationYear'] > 2016) | (df['RegistrationYear'] < 1768), 'RegistrationYear'].\\\n",
    "unique())"
   ]
  },
  {
   "cell_type": "code",
   "execution_count": 40,
   "metadata": {},
   "outputs": [],
   "source": [
    "# Заменим значения года более 2016 и менее 1768 на Nan\n",
    "\n",
    "df.loc[(df['RegistrationYear'] > 2016) | (df['RegistrationYear'] < 1768), 'RegistrationYear'] = None"
   ]
  },
  {
   "cell_type": "code",
   "execution_count": 41,
   "metadata": {},
   "outputs": [
    {
     "data": {
      "text/plain": [
       "11917"
      ]
     },
     "execution_count": 41,
     "metadata": {},
     "output_type": "execute_result"
    }
   ],
   "source": [
    "# Поссчитаем кол-во получившихся замен\n",
    "\n",
    "df['RegistrationYear'].isna().sum()"
   ]
  },
  {
   "cell_type": "code",
   "execution_count": 42,
   "metadata": {},
   "outputs": [],
   "source": [
    "# Заменим пропуски на самые частые значения для соответствующей модели\n",
    "\n",
    "df.loc[df['RegistrationYear'].isna(), 'RegistrationYear'] = \\\n",
    "        df.groupby('Model')['RegistrationYear'].transform(lambda x: x.fillna(x.mode()[0]))"
   ]
  },
  {
   "cell_type": "code",
   "execution_count": 43,
   "metadata": {},
   "outputs": [
    {
     "data": {
      "text/plain": [
       "0"
      ]
     },
     "execution_count": 43,
     "metadata": {},
     "output_type": "execute_result"
    }
   ],
   "source": [
    "# Проверим остались ли пропуски\n",
    "\n",
    "df['RegistrationYear'].isna().sum()"
   ]
  },
  {
   "cell_type": "code",
   "execution_count": 44,
   "metadata": {
    "scrolled": true
   },
   "outputs": [
    {
     "data": {
      "text/plain": [
       "[1800.0,\n",
       " 1910.0,\n",
       " 1919.0,\n",
       " 1923.0,\n",
       " 1927.0,\n",
       " 1928.0,\n",
       " 1929.0,\n",
       " 1930.0,\n",
       " 1931.0,\n",
       " 1932.0,\n",
       " 1933.0,\n",
       " 1934.0,\n",
       " 1935.0,\n",
       " 1936.0,\n",
       " 1937.0,\n",
       " 1938.0,\n",
       " 1941.0,\n",
       " 1942.0,\n",
       " 1943.0,\n",
       " 1945.0,\n",
       " 1947.0,\n",
       " 1949.0,\n",
       " 1950.0,\n",
       " 1951.0,\n",
       " 1952.0,\n",
       " 1953.0,\n",
       " 1954.0,\n",
       " 1955.0,\n",
       " 1956.0,\n",
       " 1957.0,\n",
       " 1958.0,\n",
       " 1959.0,\n",
       " 1960.0,\n",
       " 1961.0,\n",
       " 1962.0,\n",
       " 1963.0,\n",
       " 1964.0,\n",
       " 1965.0,\n",
       " 1966.0,\n",
       " 1967.0,\n",
       " 1968.0,\n",
       " 1969.0,\n",
       " 1970.0,\n",
       " 1971.0,\n",
       " 1972.0,\n",
       " 1973.0,\n",
       " 1974.0,\n",
       " 1975.0,\n",
       " 1976.0,\n",
       " 1977.0,\n",
       " 1978.0,\n",
       " 1979.0,\n",
       " 1980.0,\n",
       " 1981.0,\n",
       " 1982.0,\n",
       " 1983.0,\n",
       " 1984.0,\n",
       " 1985.0,\n",
       " 1986.0,\n",
       " 1987.0,\n",
       " 1988.0,\n",
       " 1989.0,\n",
       " 1990.0,\n",
       " 1991.0,\n",
       " 1992.0,\n",
       " 1993.0,\n",
       " 1994.0,\n",
       " 1995.0,\n",
       " 1996.0,\n",
       " 1997.0,\n",
       " 1998.0,\n",
       " 1999.0,\n",
       " 2000.0,\n",
       " 2001.0,\n",
       " 2002.0,\n",
       " 2003.0,\n",
       " 2004.0,\n",
       " 2005.0,\n",
       " 2006.0,\n",
       " 2007.0,\n",
       " 2008.0,\n",
       " 2009.0,\n",
       " 2010.0,\n",
       " 2011.0,\n",
       " 2012.0,\n",
       " 2013.0,\n",
       " 2014.0,\n",
       " 2015.0,\n",
       " 2016.0]"
      ]
     },
     "execution_count": 44,
     "metadata": {},
     "output_type": "execute_result"
    }
   ],
   "source": [
    "# Посмотрим оставшиеся года регистрации после замен\n",
    "\n",
    "sorted(df['RegistrationYear'].unique())"
   ]
  },
  {
   "cell_type": "code",
   "execution_count": 45,
   "metadata": {},
   "outputs": [
    {
     "data": {
      "text/html": [
       "<div>\n",
       "<style scoped>\n",
       "    .dataframe tbody tr th:only-of-type {\n",
       "        vertical-align: middle;\n",
       "    }\n",
       "\n",
       "    .dataframe tbody tr th {\n",
       "        vertical-align: top;\n",
       "    }\n",
       "\n",
       "    .dataframe thead th {\n",
       "        text-align: right;\n",
       "    }\n",
       "</style>\n",
       "<table border=\"1\" class=\"dataframe\">\n",
       "  <thead>\n",
       "    <tr style=\"text-align: right;\">\n",
       "      <th></th>\n",
       "      <th>Price</th>\n",
       "      <th>VehicleType</th>\n",
       "      <th>RegistrationYear</th>\n",
       "      <th>Gearbox</th>\n",
       "      <th>Power</th>\n",
       "      <th>Model</th>\n",
       "      <th>Kilometer</th>\n",
       "      <th>FuelType</th>\n",
       "      <th>Brand</th>\n",
       "      <th>Repaired</th>\n",
       "      <th>PostalCode</th>\n",
       "      <th>age_days</th>\n",
       "      <th>year_created</th>\n",
       "      <th>month_created</th>\n",
       "    </tr>\n",
       "  </thead>\n",
       "  <tbody>\n",
       "    <tr>\n",
       "      <th>15</th>\n",
       "      <td>450</td>\n",
       "      <td>small</td>\n",
       "      <td>1910.0</td>\n",
       "      <td>manual</td>\n",
       "      <td>0</td>\n",
       "      <td>ka</td>\n",
       "      <td>5000</td>\n",
       "      <td>petrol</td>\n",
       "      <td>ford</td>\n",
       "      <td>no</td>\n",
       "      <td>24148</td>\n",
       "      <td>0</td>\n",
       "      <td>2016</td>\n",
       "      <td>3</td>\n",
       "    </tr>\n",
       "    <tr>\n",
       "      <th>1928</th>\n",
       "      <td>7000</td>\n",
       "      <td>suv</td>\n",
       "      <td>1945.0</td>\n",
       "      <td>manual</td>\n",
       "      <td>48</td>\n",
       "      <td>other</td>\n",
       "      <td>150000</td>\n",
       "      <td>petrol</td>\n",
       "      <td>volkswagen</td>\n",
       "      <td>no</td>\n",
       "      <td>58135</td>\n",
       "      <td>0</td>\n",
       "      <td>2016</td>\n",
       "      <td>3</td>\n",
       "    </tr>\n",
       "    <tr>\n",
       "      <th>10183</th>\n",
       "      <td>1250</td>\n",
       "      <td>sedan</td>\n",
       "      <td>1910.0</td>\n",
       "      <td>manual</td>\n",
       "      <td>0</td>\n",
       "      <td>other</td>\n",
       "      <td>5000</td>\n",
       "      <td>petrol</td>\n",
       "      <td>audi</td>\n",
       "      <td>no</td>\n",
       "      <td>18445</td>\n",
       "      <td>0</td>\n",
       "      <td>2016</td>\n",
       "      <td>3</td>\n",
       "    </tr>\n",
       "    <tr>\n",
       "      <th>23750</th>\n",
       "      <td>3900</td>\n",
       "      <td>wagon</td>\n",
       "      <td>1910.0</td>\n",
       "      <td>manual</td>\n",
       "      <td>90</td>\n",
       "      <td>passat</td>\n",
       "      <td>150000</td>\n",
       "      <td>petrol</td>\n",
       "      <td>volkswagen</td>\n",
       "      <td>no</td>\n",
       "      <td>88662</td>\n",
       "      <td>0</td>\n",
       "      <td>2016</td>\n",
       "      <td>3</td>\n",
       "    </tr>\n",
       "    <tr>\n",
       "      <th>27525</th>\n",
       "      <td>13300</td>\n",
       "      <td>sedan</td>\n",
       "      <td>1949.0</td>\n",
       "      <td>manual</td>\n",
       "      <td>99</td>\n",
       "      <td>other</td>\n",
       "      <td>60000</td>\n",
       "      <td>petrol</td>\n",
       "      <td>chrysler</td>\n",
       "      <td>no</td>\n",
       "      <td>28279</td>\n",
       "      <td>0</td>\n",
       "      <td>2016</td>\n",
       "      <td>3</td>\n",
       "    </tr>\n",
       "    <tr>\n",
       "      <th>...</th>\n",
       "      <td>...</td>\n",
       "      <td>...</td>\n",
       "      <td>...</td>\n",
       "      <td>...</td>\n",
       "      <td>...</td>\n",
       "      <td>...</td>\n",
       "      <td>...</td>\n",
       "      <td>...</td>\n",
       "      <td>...</td>\n",
       "      <td>...</td>\n",
       "      <td>...</td>\n",
       "      <td>...</td>\n",
       "      <td>...</td>\n",
       "      <td>...</td>\n",
       "    </tr>\n",
       "    <tr>\n",
       "      <th>344459</th>\n",
       "      <td>18500</td>\n",
       "      <td>coupe</td>\n",
       "      <td>1950.0</td>\n",
       "      <td>manual</td>\n",
       "      <td>0</td>\n",
       "      <td>other</td>\n",
       "      <td>150000</td>\n",
       "      <td>petrol</td>\n",
       "      <td>chevrolet</td>\n",
       "      <td>no</td>\n",
       "      <td>61276</td>\n",
       "      <td>0</td>\n",
       "      <td>2016</td>\n",
       "      <td>4</td>\n",
       "    </tr>\n",
       "    <tr>\n",
       "      <th>346046</th>\n",
       "      <td>18900</td>\n",
       "      <td>suv</td>\n",
       "      <td>1943.0</td>\n",
       "      <td>manual</td>\n",
       "      <td>60</td>\n",
       "      <td>other</td>\n",
       "      <td>150000</td>\n",
       "      <td>petrol</td>\n",
       "      <td>volkswagen</td>\n",
       "      <td>no</td>\n",
       "      <td>51065</td>\n",
       "      <td>0</td>\n",
       "      <td>2016</td>\n",
       "      <td>3</td>\n",
       "    </tr>\n",
       "    <tr>\n",
       "      <th>348932</th>\n",
       "      <td>11000</td>\n",
       "      <td>suv</td>\n",
       "      <td>1950.0</td>\n",
       "      <td>manual</td>\n",
       "      <td>0</td>\n",
       "      <td>other</td>\n",
       "      <td>5000</td>\n",
       "      <td>petrol</td>\n",
       "      <td>chevrolet</td>\n",
       "      <td>no</td>\n",
       "      <td>79098</td>\n",
       "      <td>0</td>\n",
       "      <td>2016</td>\n",
       "      <td>4</td>\n",
       "    </tr>\n",
       "    <tr>\n",
       "      <th>351682</th>\n",
       "      <td>11500</td>\n",
       "      <td>sedan</td>\n",
       "      <td>1800.0</td>\n",
       "      <td>manual</td>\n",
       "      <td>16</td>\n",
       "      <td>other</td>\n",
       "      <td>5000</td>\n",
       "      <td>petrol</td>\n",
       "      <td>fiat</td>\n",
       "      <td>no</td>\n",
       "      <td>16515</td>\n",
       "      <td>1</td>\n",
       "      <td>2016</td>\n",
       "      <td>3</td>\n",
       "    </tr>\n",
       "    <tr>\n",
       "      <th>353531</th>\n",
       "      <td>6000</td>\n",
       "      <td>sedan</td>\n",
       "      <td>1937.0</td>\n",
       "      <td>manual</td>\n",
       "      <td>38</td>\n",
       "      <td>other</td>\n",
       "      <td>5000</td>\n",
       "      <td>petrol</td>\n",
       "      <td>mercedes_benz</td>\n",
       "      <td>no</td>\n",
       "      <td>23936</td>\n",
       "      <td>0</td>\n",
       "      <td>2016</td>\n",
       "      <td>3</td>\n",
       "    </tr>\n",
       "  </tbody>\n",
       "</table>\n",
       "<p>112 rows × 14 columns</p>\n",
       "</div>"
      ],
      "text/plain": [
       "        Price VehicleType  RegistrationYear Gearbox  Power   Model  Kilometer  \\\n",
       "15        450       small            1910.0  manual      0      ka       5000   \n",
       "1928     7000         suv            1945.0  manual     48   other     150000   \n",
       "10183    1250       sedan            1910.0  manual      0   other       5000   \n",
       "23750    3900       wagon            1910.0  manual     90  passat     150000   \n",
       "27525   13300       sedan            1949.0  manual     99   other      60000   \n",
       "...       ...         ...               ...     ...    ...     ...        ...   \n",
       "344459  18500       coupe            1950.0  manual      0   other     150000   \n",
       "346046  18900         suv            1943.0  manual     60   other     150000   \n",
       "348932  11000         suv            1950.0  manual      0   other       5000   \n",
       "351682  11500       sedan            1800.0  manual     16   other       5000   \n",
       "353531   6000       sedan            1937.0  manual     38   other       5000   \n",
       "\n",
       "       FuelType          Brand Repaired  PostalCode  age_days  year_created  \\\n",
       "15       petrol           ford       no       24148         0          2016   \n",
       "1928     petrol     volkswagen       no       58135         0          2016   \n",
       "10183    petrol           audi       no       18445         0          2016   \n",
       "23750    petrol     volkswagen       no       88662         0          2016   \n",
       "27525    petrol       chrysler       no       28279         0          2016   \n",
       "...         ...            ...      ...         ...       ...           ...   \n",
       "344459   petrol      chevrolet       no       61276         0          2016   \n",
       "346046   petrol     volkswagen       no       51065         0          2016   \n",
       "348932   petrol      chevrolet       no       79098         0          2016   \n",
       "351682   petrol           fiat       no       16515         1          2016   \n",
       "353531   petrol  mercedes_benz       no       23936         0          2016   \n",
       "\n",
       "        month_created  \n",
       "15                  3  \n",
       "1928                3  \n",
       "10183               3  \n",
       "23750               3  \n",
       "27525               3  \n",
       "...               ...  \n",
       "344459              4  \n",
       "346046              3  \n",
       "348932              4  \n",
       "351682              3  \n",
       "353531              3  \n",
       "\n",
       "[112 rows x 14 columns]"
      ]
     },
     "execution_count": 45,
     "metadata": {},
     "output_type": "execute_result"
    }
   ],
   "source": [
    "df[df['RegistrationYear'] < 1952]"
   ]
  },
  {
   "cell_type": "markdown",
   "metadata": {},
   "source": [
    "Проверка показала, что все года до 1952 указаны неверно и соответствуют более современным авто, за исключением 'Opel Kadett'"
   ]
  },
  {
   "cell_type": "code",
   "execution_count": 46,
   "metadata": {},
   "outputs": [
    {
     "name": "stdout",
     "output_type": "stream",
     "text": [
      "Wall time: 2.5 s\n"
     ]
    }
   ],
   "source": [
    "%%time\n",
    "\n",
    "# Заменим год создания менее 1952 г. на самый часто встречающийся год для соответствующей модели\n",
    "\n",
    "df.loc[(df['RegistrationYear'] < 1952) & (df['Model'] != 'kadett'), 'RegistrationYear'] =\\\n",
    "df[(df['RegistrationYear'] < 1952) & (df['Model'] != 'kadett')]['Model'].\\\n",
    "apply(lambda x: df[df['Model'] == x]['RegistrationYear'].mode()[0])"
   ]
  },
  {
   "cell_type": "code",
   "execution_count": 47,
   "metadata": {},
   "outputs": [
    {
     "data": {
      "text/plain": [
       "[1938.0,\n",
       " 1952.0,\n",
       " 1953.0,\n",
       " 1954.0,\n",
       " 1955.0,\n",
       " 1956.0,\n",
       " 1957.0,\n",
       " 1958.0,\n",
       " 1959.0,\n",
       " 1960.0,\n",
       " 1961.0,\n",
       " 1962.0,\n",
       " 1963.0,\n",
       " 1964.0,\n",
       " 1965.0,\n",
       " 1966.0,\n",
       " 1967.0,\n",
       " 1968.0,\n",
       " 1969.0,\n",
       " 1970.0,\n",
       " 1971.0,\n",
       " 1972.0,\n",
       " 1973.0,\n",
       " 1974.0,\n",
       " 1975.0,\n",
       " 1976.0,\n",
       " 1977.0,\n",
       " 1978.0,\n",
       " 1979.0,\n",
       " 1980.0,\n",
       " 1981.0,\n",
       " 1982.0,\n",
       " 1983.0,\n",
       " 1984.0,\n",
       " 1985.0,\n",
       " 1986.0,\n",
       " 1987.0,\n",
       " 1988.0,\n",
       " 1989.0,\n",
       " 1990.0,\n",
       " 1991.0,\n",
       " 1992.0,\n",
       " 1993.0,\n",
       " 1994.0,\n",
       " 1995.0,\n",
       " 1996.0,\n",
       " 1997.0,\n",
       " 1998.0,\n",
       " 1999.0,\n",
       " 2000.0,\n",
       " 2001.0,\n",
       " 2002.0,\n",
       " 2003.0,\n",
       " 2004.0,\n",
       " 2005.0,\n",
       " 2006.0,\n",
       " 2007.0,\n",
       " 2008.0,\n",
       " 2009.0,\n",
       " 2010.0,\n",
       " 2011.0,\n",
       " 2012.0,\n",
       " 2013.0,\n",
       " 2014.0,\n",
       " 2015.0,\n",
       " 2016.0]"
      ]
     },
     "execution_count": 47,
     "metadata": {},
     "output_type": "execute_result"
    }
   ],
   "source": [
    "# Посмотрим оставшиеся года регистрации после замен\n",
    "\n",
    "sorted(df['RegistrationYear'].unique())"
   ]
  },
  {
   "cell_type": "markdown",
   "metadata": {},
   "source": [
    "Power — мощность (л. с.)"
   ]
  },
  {
   "cell_type": "code",
   "execution_count": 48,
   "metadata": {},
   "outputs": [
    {
     "data": {
      "text/plain": [
       "[0,\n",
       " 1,\n",
       " 2,\n",
       " 3,\n",
       " 4,\n",
       " 5,\n",
       " 6,\n",
       " 7,\n",
       " 8,\n",
       " 9,\n",
       " 10,\n",
       " 11,\n",
       " 12,\n",
       " 13,\n",
       " 14,\n",
       " 15,\n",
       " 16,\n",
       " 17,\n",
       " 18,\n",
       " 19,\n",
       " 20,\n",
       " 21,\n",
       " 22,\n",
       " 23,\n",
       " 24,\n",
       " 25,\n",
       " 26,\n",
       " 27,\n",
       " 28,\n",
       " 29,\n",
       " 30,\n",
       " 31,\n",
       " 32,\n",
       " 33,\n",
       " 34,\n",
       " 35,\n",
       " 36,\n",
       " 37,\n",
       " 38,\n",
       " 39,\n",
       " 40,\n",
       " 41,\n",
       " 42,\n",
       " 43,\n",
       " 44,\n",
       " 45,\n",
       " 46,\n",
       " 47,\n",
       " 48,\n",
       " 49,\n",
       " 50,\n",
       " 51,\n",
       " 52,\n",
       " 53,\n",
       " 54,\n",
       " 55,\n",
       " 56,\n",
       " 57,\n",
       " 58,\n",
       " 59,\n",
       " 60,\n",
       " 61,\n",
       " 62,\n",
       " 63,\n",
       " 64,\n",
       " 65,\n",
       " 66,\n",
       " 67,\n",
       " 68,\n",
       " 69,\n",
       " 70,\n",
       " 71,\n",
       " 72,\n",
       " 73,\n",
       " 74,\n",
       " 75,\n",
       " 76,\n",
       " 77,\n",
       " 78,\n",
       " 79,\n",
       " 80,\n",
       " 81,\n",
       " 82,\n",
       " 83,\n",
       " 84,\n",
       " 85,\n",
       " 86,\n",
       " 87,\n",
       " 88,\n",
       " 89,\n",
       " 90,\n",
       " 91,\n",
       " 92,\n",
       " 93,\n",
       " 94,\n",
       " 95,\n",
       " 96,\n",
       " 97,\n",
       " 98,\n",
       " 99,\n",
       " 100,\n",
       " 101,\n",
       " 102,\n",
       " 103,\n",
       " 104,\n",
       " 105,\n",
       " 106,\n",
       " 107,\n",
       " 108,\n",
       " 109,\n",
       " 110,\n",
       " 111,\n",
       " 112,\n",
       " 113,\n",
       " 114,\n",
       " 115,\n",
       " 116,\n",
       " 117,\n",
       " 118,\n",
       " 119,\n",
       " 120,\n",
       " 121,\n",
       " 122,\n",
       " 123,\n",
       " 124,\n",
       " 125,\n",
       " 126,\n",
       " 127,\n",
       " 128,\n",
       " 129,\n",
       " 130,\n",
       " 131,\n",
       " 132,\n",
       " 133,\n",
       " 134,\n",
       " 135,\n",
       " 136,\n",
       " 137,\n",
       " 138,\n",
       " 139,\n",
       " 140,\n",
       " 141,\n",
       " 142,\n",
       " 143,\n",
       " 144,\n",
       " 145,\n",
       " 146,\n",
       " 147,\n",
       " 148,\n",
       " 149,\n",
       " 150,\n",
       " 151,\n",
       " 152,\n",
       " 153,\n",
       " 154,\n",
       " 155,\n",
       " 156,\n",
       " 157,\n",
       " 158,\n",
       " 159,\n",
       " 160,\n",
       " 161,\n",
       " 162,\n",
       " 163,\n",
       " 164,\n",
       " 165,\n",
       " 166,\n",
       " 167,\n",
       " 168,\n",
       " 169,\n",
       " 170,\n",
       " 171,\n",
       " 172,\n",
       " 173,\n",
       " 174,\n",
       " 175,\n",
       " 176,\n",
       " 177,\n",
       " 178,\n",
       " 179,\n",
       " 180,\n",
       " 181,\n",
       " 182,\n",
       " 183,\n",
       " 184,\n",
       " 185,\n",
       " 186,\n",
       " 187,\n",
       " 188,\n",
       " 189,\n",
       " 190,\n",
       " 191,\n",
       " 192,\n",
       " 193,\n",
       " 194,\n",
       " 195,\n",
       " 196,\n",
       " 197,\n",
       " 198,\n",
       " 199,\n",
       " 200,\n",
       " 201,\n",
       " 202,\n",
       " 203,\n",
       " 204,\n",
       " 205,\n",
       " 206,\n",
       " 207,\n",
       " 208,\n",
       " 209,\n",
       " 210,\n",
       " 211,\n",
       " 212,\n",
       " 213,\n",
       " 214,\n",
       " 215,\n",
       " 216,\n",
       " 217,\n",
       " 218,\n",
       " 219,\n",
       " 220,\n",
       " 221,\n",
       " 222,\n",
       " 223,\n",
       " 224,\n",
       " 225,\n",
       " 226,\n",
       " 227,\n",
       " 228,\n",
       " 229,\n",
       " 230,\n",
       " 231,\n",
       " 232,\n",
       " 233,\n",
       " 234,\n",
       " 235,\n",
       " 236,\n",
       " 237,\n",
       " 238,\n",
       " 239,\n",
       " 240,\n",
       " 241,\n",
       " 242,\n",
       " 243,\n",
       " 244,\n",
       " 245,\n",
       " 246,\n",
       " 247,\n",
       " 248,\n",
       " 249,\n",
       " 250,\n",
       " 251,\n",
       " 252,\n",
       " 253,\n",
       " 254,\n",
       " 255,\n",
       " 256,\n",
       " 257,\n",
       " 258,\n",
       " 259,\n",
       " 260,\n",
       " 261,\n",
       " 262,\n",
       " 264,\n",
       " 265,\n",
       " 266,\n",
       " 267,\n",
       " 268,\n",
       " 269,\n",
       " 270,\n",
       " 271,\n",
       " 272,\n",
       " 273,\n",
       " 274,\n",
       " 275,\n",
       " 276,\n",
       " 277,\n",
       " 278,\n",
       " 279,\n",
       " 280,\n",
       " 281,\n",
       " 282,\n",
       " 283,\n",
       " 284,\n",
       " 285,\n",
       " 286,\n",
       " 287,\n",
       " 288,\n",
       " 289,\n",
       " 290,\n",
       " 292,\n",
       " 293,\n",
       " 294,\n",
       " 295,\n",
       " 296,\n",
       " 298,\n",
       " 299,\n",
       " 300,\n",
       " 301,\n",
       " 303,\n",
       " 304,\n",
       " 305,\n",
       " 306,\n",
       " 307,\n",
       " 308,\n",
       " 309,\n",
       " 310,\n",
       " 311,\n",
       " 313,\n",
       " 314,\n",
       " 315,\n",
       " 316,\n",
       " 317,\n",
       " 318,\n",
       " 320,\n",
       " 321,\n",
       " 322,\n",
       " 323,\n",
       " 324,\n",
       " 325,\n",
       " 326,\n",
       " 327,\n",
       " 328,\n",
       " 329,\n",
       " 330,\n",
       " 331,\n",
       " 332,\n",
       " 333,\n",
       " 334,\n",
       " 335,\n",
       " 336,\n",
       " 337,\n",
       " 338,\n",
       " 339,\n",
       " 340,\n",
       " 341,\n",
       " 343,\n",
       " 344,\n",
       " 345,\n",
       " 346,\n",
       " 347,\n",
       " 348,\n",
       " 349,\n",
       " 350,\n",
       " 351,\n",
       " 352,\n",
       " 353,\n",
       " 354,\n",
       " 355,\n",
       " 356,\n",
       " 357,\n",
       " 358,\n",
       " 360,\n",
       " 361,\n",
       " 362,\n",
       " 363,\n",
       " 364,\n",
       " 365,\n",
       " 367,\n",
       " 368,\n",
       " 370,\n",
       " 371,\n",
       " 374,\n",
       " 375,\n",
       " 376,\n",
       " 377,\n",
       " 379,\n",
       " 380,\n",
       " 381,\n",
       " 382,\n",
       " 385,\n",
       " 386,\n",
       " 387,\n",
       " 388,\n",
       " 390,\n",
       " 392,\n",
       " 394,\n",
       " 396,\n",
       " 398,\n",
       " 399,\n",
       " 400,\n",
       " 401,\n",
       " 405,\n",
       " 408,\n",
       " 409,\n",
       " 411,\n",
       " 416,\n",
       " 420,\n",
       " 421,\n",
       " 425,\n",
       " 426,\n",
       " 428,\n",
       " 430,\n",
       " 431,\n",
       " 435,\n",
       " 440,\n",
       " 445,\n",
       " 449,\n",
       " 450,\n",
       " 454,\n",
       " 457,\n",
       " 459,\n",
       " 460,\n",
       " 475,\n",
       " 476,\n",
       " 485,\n",
       " 487,\n",
       " 489,\n",
       " 490,\n",
       " 500,\n",
       " 504,\n",
       " 505,\n",
       " 507,\n",
       " 508,\n",
       " 510,\n",
       " 514,\n",
       " 515,\n",
       " 517,\n",
       " 519,\n",
       " 520,\n",
       " 521,\n",
       " 525,\n",
       " 530,\n",
       " 540,\n",
       " 541,\n",
       " 544,\n",
       " 550,\n",
       " 551,\n",
       " 560,\n",
       " 572,\n",
       " 574,\n",
       " 579,\n",
       " 580,\n",
       " 584,\n",
       " 585,\n",
       " 599,\n",
       " 600,\n",
       " 601,\n",
       " 603,\n",
       " 604,\n",
       " 606,\n",
       " 607,\n",
       " 610,\n",
       " 612,\n",
       " 620,\n",
       " 640,\n",
       " 645,\n",
       " 650,\n",
       " 651,\n",
       " 671,\n",
       " 678,\n",
       " 685,\n",
       " 696,\n",
       " 700,\n",
       " 702,\n",
       " 703,\n",
       " 743,\n",
       " 750,\n",
       " 751,\n",
       " 754,\n",
       " 771,\n",
       " 776,\n",
       " 800,\n",
       " 805,\n",
       " 808,\n",
       " 850,\n",
       " 871,\n",
       " 900,\n",
       " 901,\n",
       " 902,\n",
       " 903,\n",
       " 907,\n",
       " 909,\n",
       " 923,\n",
       " 950,\n",
       " 952,\n",
       " 953,\n",
       " 960,\n",
       " 998,\n",
       " 999,\n",
       " 1000,\n",
       " 1001,\n",
       " 1003,\n",
       " 1004,\n",
       " 1005,\n",
       " 1011,\n",
       " 1012,\n",
       " 1016,\n",
       " 1017,\n",
       " 1021,\n",
       " 1024,\n",
       " 1054,\n",
       " 1055,\n",
       " 1056,\n",
       " 1062,\n",
       " 1079,\n",
       " 1082,\n",
       " 1090,\n",
       " 1100,\n",
       " 1103,\n",
       " 1105,\n",
       " 1111,\n",
       " 1115,\n",
       " 1149,\n",
       " 1151,\n",
       " 1158,\n",
       " 1160,\n",
       " 1162,\n",
       " 1164,\n",
       " 1199,\n",
       " 1200,\n",
       " 1202,\n",
       " 1221,\n",
       " 1223,\n",
       " 1230,\n",
       " 1239,\n",
       " 1240,\n",
       " 1241,\n",
       " 1250,\n",
       " 1252,\n",
       " 1275,\n",
       " 1288,\n",
       " 1299,\n",
       " 1300,\n",
       " 1312,\n",
       " 1339,\n",
       " 1360,\n",
       " 1362,\n",
       " 1363,\n",
       " 1367,\n",
       " 1390,\n",
       " 1394,\n",
       " 1398,\n",
       " 1399,\n",
       " 1400,\n",
       " 1401,\n",
       " 1403,\n",
       " 1405,\n",
       " 1416,\n",
       " 1432,\n",
       " 1433,\n",
       " 1436,\n",
       " 1500,\n",
       " 1501,\n",
       " 1502,\n",
       " 1503,\n",
       " 1506,\n",
       " 1521,\n",
       " 1548,\n",
       " 1595,\n",
       " 1597,\n",
       " 1598,\n",
       " 1600,\n",
       " 1625,\n",
       " 1631,\n",
       " 1653,\n",
       " 1659,\n",
       " 1689,\n",
       " 1700,\n",
       " 1701,\n",
       " 1703,\n",
       " 1704,\n",
       " 1707,\n",
       " 1753,\n",
       " 1771,\n",
       " 1779,\n",
       " 1780,\n",
       " 1781,\n",
       " 1783,\n",
       " 1793,\n",
       " 1796,\n",
       " 1799,\n",
       " 1800,\n",
       " 1870,\n",
       " 1895,\n",
       " 1896,\n",
       " 1900,\n",
       " 1910,\n",
       " 1920,\n",
       " 1933,\n",
       " 1937,\n",
       " 1968,\n",
       " 1986,\n",
       " 1988,\n",
       " 1992,\n",
       " 1993,\n",
       " 1995,\n",
       " 1998,\n",
       " 1999,\n",
       " 2000,\n",
       " 2005,\n",
       " 2007,\n",
       " 2009,\n",
       " 2016,\n",
       " 2017,\n",
       " 2018,\n",
       " 2172,\n",
       " 2200,\n",
       " 2201,\n",
       " 2331,\n",
       " 2402,\n",
       " 2461,\n",
       " 2598,\n",
       " 2729,\n",
       " 2789,\n",
       " 2792,\n",
       " 2799,\n",
       " 3000,\n",
       " 3199,\n",
       " 3454,\n",
       " 3500,\n",
       " 3750,\n",
       " 4400,\n",
       " 4507,\n",
       " 4700,\n",
       " 5000,\n",
       " 5411,\n",
       " 5420,\n",
       " 5575,\n",
       " 5809,\n",
       " 5815,\n",
       " 5867,\n",
       " 6006,\n",
       " 6010,\n",
       " 6011,\n",
       " 6012,\n",
       " 6018,\n",
       " 6045,\n",
       " 6062,\n",
       " 6226,\n",
       " 6512,\n",
       " 6920,\n",
       " 7508,\n",
       " 7511,\n",
       " 7512,\n",
       " 7515,\n",
       " 7518,\n",
       " 7529,\n",
       " 7544,\n",
       " 8011,\n",
       " 8259,\n",
       " 8404,\n",
       " 8500,\n",
       " 9000,\n",
       " 9007,\n",
       " 9011,\n",
       " 9012,\n",
       " 9013,\n",
       " 9710,\n",
       " 10110,\n",
       " 10218,\n",
       " 10311,\n",
       " 10317,\n",
       " 10520,\n",
       " 10522,\n",
       " 10710,\n",
       " 11011,\n",
       " 11025,\n",
       " 11111,\n",
       " 11509,\n",
       " 11530,\n",
       " 11635,\n",
       " 12012,\n",
       " 12510,\n",
       " 12512,\n",
       " 13616,\n",
       " 13636,\n",
       " 15001,\n",
       " 15016,\n",
       " 15017,\n",
       " 15020,\n",
       " 15033,\n",
       " 16011,\n",
       " 16311,\n",
       " 16312,\n",
       " 17011,\n",
       " 17019,\n",
       " 17410,\n",
       " 17700,\n",
       " 17932,\n",
       " 19208,\n",
       " 19211,\n",
       " 19312,\n",
       " 20000]"
      ]
     },
     "execution_count": 48,
     "metadata": {},
     "output_type": "execute_result"
    }
   ],
   "source": [
    "# Посмотрим на уникальные значений в столбце 'Power'\n",
    "\n",
    "sorted(df['Power'].unique())"
   ]
  },
  {
   "cell_type": "markdown",
   "metadata": {},
   "source": [
    "Мощность не может быть меньше 0, также авторы объявлений часто указывают объем двигателя вместо мощности в л.с.\n",
    "Проведем соответствующие замены."
   ]
  },
  {
   "cell_type": "code",
   "execution_count": 49,
   "metadata": {},
   "outputs": [
    {
     "data": {
      "text/html": [
       "<div>\n",
       "<style scoped>\n",
       "    .dataframe tbody tr th:only-of-type {\n",
       "        vertical-align: middle;\n",
       "    }\n",
       "\n",
       "    .dataframe tbody tr th {\n",
       "        vertical-align: top;\n",
       "    }\n",
       "\n",
       "    .dataframe thead th {\n",
       "        text-align: right;\n",
       "    }\n",
       "</style>\n",
       "<table border=\"1\" class=\"dataframe\">\n",
       "  <thead>\n",
       "    <tr style=\"text-align: right;\">\n",
       "      <th></th>\n",
       "      <th>Price</th>\n",
       "      <th>VehicleType</th>\n",
       "      <th>RegistrationYear</th>\n",
       "      <th>Gearbox</th>\n",
       "      <th>Power</th>\n",
       "      <th>Model</th>\n",
       "      <th>Kilometer</th>\n",
       "      <th>FuelType</th>\n",
       "      <th>Brand</th>\n",
       "      <th>Repaired</th>\n",
       "      <th>PostalCode</th>\n",
       "      <th>age_days</th>\n",
       "      <th>year_created</th>\n",
       "      <th>month_created</th>\n",
       "    </tr>\n",
       "  </thead>\n",
       "  <tbody>\n",
       "    <tr>\n",
       "      <th>0</th>\n",
       "      <td>480</td>\n",
       "      <td>sedan</td>\n",
       "      <td>1993.0</td>\n",
       "      <td>manual</td>\n",
       "      <td>0</td>\n",
       "      <td>golf</td>\n",
       "      <td>150000</td>\n",
       "      <td>petrol</td>\n",
       "      <td>volkswagen</td>\n",
       "      <td>no</td>\n",
       "      <td>70435</td>\n",
       "      <td>0</td>\n",
       "      <td>2016</td>\n",
       "      <td>3</td>\n",
       "    </tr>\n",
       "    <tr>\n",
       "      <th>15</th>\n",
       "      <td>450</td>\n",
       "      <td>small</td>\n",
       "      <td>2000.0</td>\n",
       "      <td>manual</td>\n",
       "      <td>0</td>\n",
       "      <td>ka</td>\n",
       "      <td>5000</td>\n",
       "      <td>petrol</td>\n",
       "      <td>ford</td>\n",
       "      <td>no</td>\n",
       "      <td>24148</td>\n",
       "      <td>0</td>\n",
       "      <td>2016</td>\n",
       "      <td>3</td>\n",
       "    </tr>\n",
       "    <tr>\n",
       "      <th>32</th>\n",
       "      <td>245</td>\n",
       "      <td>sedan</td>\n",
       "      <td>1994.0</td>\n",
       "      <td>manual</td>\n",
       "      <td>0</td>\n",
       "      <td>golf</td>\n",
       "      <td>150000</td>\n",
       "      <td>petrol</td>\n",
       "      <td>volkswagen</td>\n",
       "      <td>no</td>\n",
       "      <td>44145</td>\n",
       "      <td>0</td>\n",
       "      <td>2016</td>\n",
       "      <td>3</td>\n",
       "    </tr>\n",
       "    <tr>\n",
       "      <th>37</th>\n",
       "      <td>1500</td>\n",
       "      <td>bus</td>\n",
       "      <td>2016.0</td>\n",
       "      <td>manual</td>\n",
       "      <td>0</td>\n",
       "      <td>kangoo</td>\n",
       "      <td>150000</td>\n",
       "      <td>gasoline</td>\n",
       "      <td>renault</td>\n",
       "      <td>no</td>\n",
       "      <td>46483</td>\n",
       "      <td>0</td>\n",
       "      <td>2016</td>\n",
       "      <td>3</td>\n",
       "    </tr>\n",
       "    <tr>\n",
       "      <th>40</th>\n",
       "      <td>0</td>\n",
       "      <td>small</td>\n",
       "      <td>1990.0</td>\n",
       "      <td>manual</td>\n",
       "      <td>0</td>\n",
       "      <td>corsa</td>\n",
       "      <td>150000</td>\n",
       "      <td>petrol</td>\n",
       "      <td>opel</td>\n",
       "      <td>no</td>\n",
       "      <td>56412</td>\n",
       "      <td>0</td>\n",
       "      <td>2016</td>\n",
       "      <td>3</td>\n",
       "    </tr>\n",
       "    <tr>\n",
       "      <th>...</th>\n",
       "      <td>...</td>\n",
       "      <td>...</td>\n",
       "      <td>...</td>\n",
       "      <td>...</td>\n",
       "      <td>...</td>\n",
       "      <td>...</td>\n",
       "      <td>...</td>\n",
       "      <td>...</td>\n",
       "      <td>...</td>\n",
       "      <td>...</td>\n",
       "      <td>...</td>\n",
       "      <td>...</td>\n",
       "      <td>...</td>\n",
       "      <td>...</td>\n",
       "    </tr>\n",
       "    <tr>\n",
       "      <th>354318</th>\n",
       "      <td>400</td>\n",
       "      <td>wagon</td>\n",
       "      <td>1991.0</td>\n",
       "      <td>manual</td>\n",
       "      <td>0</td>\n",
       "      <td>legacy</td>\n",
       "      <td>150000</td>\n",
       "      <td>petrol</td>\n",
       "      <td>subaru</td>\n",
       "      <td>no</td>\n",
       "      <td>24558</td>\n",
       "      <td>0</td>\n",
       "      <td>2016</td>\n",
       "      <td>3</td>\n",
       "    </tr>\n",
       "    <tr>\n",
       "      <th>354332</th>\n",
       "      <td>7900</td>\n",
       "      <td>bus</td>\n",
       "      <td>2007.0</td>\n",
       "      <td>manual</td>\n",
       "      <td>0</td>\n",
       "      <td>b_klasse</td>\n",
       "      <td>125000</td>\n",
       "      <td>petrol</td>\n",
       "      <td>mercedes_benz</td>\n",
       "      <td>no</td>\n",
       "      <td>30519</td>\n",
       "      <td>0</td>\n",
       "      <td>2016</td>\n",
       "      <td>3</td>\n",
       "    </tr>\n",
       "    <tr>\n",
       "      <th>354335</th>\n",
       "      <td>390</td>\n",
       "      <td>small</td>\n",
       "      <td>1997.0</td>\n",
       "      <td>auto</td>\n",
       "      <td>0</td>\n",
       "      <td>corsa</td>\n",
       "      <td>100000</td>\n",
       "      <td>petrol</td>\n",
       "      <td>opel</td>\n",
       "      <td>yes</td>\n",
       "      <td>17509</td>\n",
       "      <td>0</td>\n",
       "      <td>2016</td>\n",
       "      <td>4</td>\n",
       "    </tr>\n",
       "    <tr>\n",
       "      <th>354346</th>\n",
       "      <td>2600</td>\n",
       "      <td>sedan</td>\n",
       "      <td>2005.0</td>\n",
       "      <td>auto</td>\n",
       "      <td>0</td>\n",
       "      <td>c_klasse</td>\n",
       "      <td>150000</td>\n",
       "      <td>petrol</td>\n",
       "      <td>mercedes_benz</td>\n",
       "      <td>no</td>\n",
       "      <td>61169</td>\n",
       "      <td>0</td>\n",
       "      <td>2016</td>\n",
       "      <td>3</td>\n",
       "    </tr>\n",
       "    <tr>\n",
       "      <th>354364</th>\n",
       "      <td>0</td>\n",
       "      <td>sedan</td>\n",
       "      <td>2005.0</td>\n",
       "      <td>manual</td>\n",
       "      <td>0</td>\n",
       "      <td>colt</td>\n",
       "      <td>150000</td>\n",
       "      <td>petrol</td>\n",
       "      <td>mitsubishi</td>\n",
       "      <td>yes</td>\n",
       "      <td>2694</td>\n",
       "      <td>0</td>\n",
       "      <td>2016</td>\n",
       "      <td>3</td>\n",
       "    </tr>\n",
       "  </tbody>\n",
       "</table>\n",
       "<p>32671 rows × 14 columns</p>\n",
       "</div>"
      ],
      "text/plain": [
       "        Price VehicleType  RegistrationYear Gearbox  Power     Model  \\\n",
       "0         480       sedan            1993.0  manual      0      golf   \n",
       "15        450       small            2000.0  manual      0        ka   \n",
       "32        245       sedan            1994.0  manual      0      golf   \n",
       "37       1500         bus            2016.0  manual      0    kangoo   \n",
       "40          0       small            1990.0  manual      0     corsa   \n",
       "...       ...         ...               ...     ...    ...       ...   \n",
       "354318    400       wagon            1991.0  manual      0    legacy   \n",
       "354332   7900         bus            2007.0  manual      0  b_klasse   \n",
       "354335    390       small            1997.0    auto      0     corsa   \n",
       "354346   2600       sedan            2005.0    auto      0  c_klasse   \n",
       "354364      0       sedan            2005.0  manual      0      colt   \n",
       "\n",
       "        Kilometer  FuelType          Brand Repaired  PostalCode  age_days  \\\n",
       "0          150000    petrol     volkswagen       no       70435         0   \n",
       "15           5000    petrol           ford       no       24148         0   \n",
       "32         150000    petrol     volkswagen       no       44145         0   \n",
       "37         150000  gasoline        renault       no       46483         0   \n",
       "40         150000    petrol           opel       no       56412         0   \n",
       "...           ...       ...            ...      ...         ...       ...   \n",
       "354318     150000    petrol         subaru       no       24558         0   \n",
       "354332     125000    petrol  mercedes_benz       no       30519         0   \n",
       "354335     100000    petrol           opel      yes       17509         0   \n",
       "354346     150000    petrol  mercedes_benz       no       61169         0   \n",
       "354364     150000    petrol     mitsubishi      yes        2694         0   \n",
       "\n",
       "        year_created  month_created  \n",
       "0               2016              3  \n",
       "15              2016              3  \n",
       "32              2016              3  \n",
       "37              2016              3  \n",
       "40              2016              3  \n",
       "...              ...            ...  \n",
       "354318          2016              3  \n",
       "354332          2016              3  \n",
       "354335          2016              4  \n",
       "354346          2016              3  \n",
       "354364          2016              3  \n",
       "\n",
       "[32671 rows x 14 columns]"
      ]
     },
     "execution_count": 49,
     "metadata": {},
     "output_type": "execute_result"
    }
   ],
   "source": [
    "# Посмотрим на строки неудовлетворяющие нашим условиям\n",
    "\n",
    "df.loc[(df['Power'] > 500) | (df['Power'] <= 0)]"
   ]
  },
  {
   "cell_type": "code",
   "execution_count": 50,
   "metadata": {},
   "outputs": [],
   "source": [
    "# Заменим все значения в столбце 'Power' более 500 и менее или равно 0 на NaN\n",
    "\n",
    "df.loc[(df['Power'] > 500) | (df['Power'] <= 0), 'Power'] = None"
   ]
  },
  {
   "cell_type": "code",
   "execution_count": 51,
   "metadata": {},
   "outputs": [
    {
     "data": {
      "text/plain": [
       "32671"
      ]
     },
     "execution_count": 51,
     "metadata": {},
     "output_type": "execute_result"
    }
   ],
   "source": [
    "# Посчитаем кол-во получившихся пропущенных значений\n",
    "\n",
    "df['Power'].isna().sum()"
   ]
  },
  {
   "cell_type": "code",
   "execution_count": 52,
   "metadata": {},
   "outputs": [],
   "source": [
    "# Все пропущенные значения заменим на наиболее часто встречающееся для данной модели,\n",
    "# если таковые отсутствуют то на -1\n",
    "\n",
    "df['Power'] =\\\n",
    "df.groupby('Model')['Power'].transform(lambda x: x.fillna((x.mode()[0] if x.count() != 0 else -1)))"
   ]
  },
  {
   "cell_type": "code",
   "execution_count": 53,
   "metadata": {},
   "outputs": [
    {
     "data": {
      "text/plain": [
       "Model\n",
       "defender              122.0\n",
       "discovery             190.0\n",
       "freelander            117.0\n",
       "other                  69.0\n",
       "range_rover           182.0\n",
       "range_rover_evoque    296.0\n",
       "range_rover_sport     190.0\n",
       "serie_1                -1.0\n",
       "serie_2                63.0\n",
       "serie_3                69.0\n",
       "Name: Power, dtype: float64"
      ]
     },
     "execution_count": 53,
     "metadata": {},
     "output_type": "execute_result"
    }
   ],
   "source": [
    "df[df['Brand'] == 'land_rover'].groupby('Model')['Power'].median()"
   ]
  },
  {
   "cell_type": "code",
   "execution_count": 54,
   "metadata": {
    "scrolled": true
   },
   "outputs": [
    {
     "data": {
      "text/html": [
       "<div>\n",
       "<style scoped>\n",
       "    .dataframe tbody tr th:only-of-type {\n",
       "        vertical-align: middle;\n",
       "    }\n",
       "\n",
       "    .dataframe tbody tr th {\n",
       "        vertical-align: top;\n",
       "    }\n",
       "\n",
       "    .dataframe thead th {\n",
       "        text-align: right;\n",
       "    }\n",
       "</style>\n",
       "<table border=\"1\" class=\"dataframe\">\n",
       "  <thead>\n",
       "    <tr style=\"text-align: right;\">\n",
       "      <th></th>\n",
       "      <th>Price</th>\n",
       "      <th>VehicleType</th>\n",
       "      <th>RegistrationYear</th>\n",
       "      <th>Gearbox</th>\n",
       "      <th>Power</th>\n",
       "      <th>Model</th>\n",
       "      <th>Kilometer</th>\n",
       "      <th>FuelType</th>\n",
       "      <th>Brand</th>\n",
       "      <th>Repaired</th>\n",
       "      <th>PostalCode</th>\n",
       "      <th>age_days</th>\n",
       "      <th>year_created</th>\n",
       "      <th>month_created</th>\n",
       "    </tr>\n",
       "  </thead>\n",
       "  <tbody>\n",
       "    <tr>\n",
       "      <th>234296</th>\n",
       "      <td>3800</td>\n",
       "      <td>wagon</td>\n",
       "      <td>1978.0</td>\n",
       "      <td>manual</td>\n",
       "      <td>-1.0</td>\n",
       "      <td>serie_1</td>\n",
       "      <td>30000</td>\n",
       "      <td>gasoline</td>\n",
       "      <td>land_rover</td>\n",
       "      <td>no</td>\n",
       "      <td>49824</td>\n",
       "      <td>0</td>\n",
       "      <td>2016</td>\n",
       "      <td>3</td>\n",
       "    </tr>\n",
       "    <tr>\n",
       "      <th>280216</th>\n",
       "      <td>0</td>\n",
       "      <td>wagon</td>\n",
       "      <td>1970.0</td>\n",
       "      <td>manual</td>\n",
       "      <td>-1.0</td>\n",
       "      <td>serie_1</td>\n",
       "      <td>100000</td>\n",
       "      <td>petrol</td>\n",
       "      <td>land_rover</td>\n",
       "      <td>no</td>\n",
       "      <td>88634</td>\n",
       "      <td>0</td>\n",
       "      <td>2016</td>\n",
       "      <td>4</td>\n",
       "    </tr>\n",
       "  </tbody>\n",
       "</table>\n",
       "</div>"
      ],
      "text/plain": [
       "        Price VehicleType  RegistrationYear Gearbox  Power    Model  \\\n",
       "234296   3800       wagon            1978.0  manual   -1.0  serie_1   \n",
       "280216      0       wagon            1970.0  manual   -1.0  serie_1   \n",
       "\n",
       "        Kilometer  FuelType       Brand Repaired  PostalCode  age_days  \\\n",
       "234296      30000  gasoline  land_rover       no       49824         0   \n",
       "280216     100000    petrol  land_rover       no       88634         0   \n",
       "\n",
       "        year_created  month_created  \n",
       "234296          2016              3  \n",
       "280216          2016              4  "
      ]
     },
     "execution_count": 54,
     "metadata": {},
     "output_type": "execute_result"
    }
   ],
   "source": [
    "# Посмотрим отсашиеся незаполненными корректно строки.\n",
    "\n",
    "df[df['Power'] <=0]"
   ]
  },
  {
   "cell_type": "code",
   "execution_count": 55,
   "metadata": {},
   "outputs": [],
   "source": [
    "# У модели 'series_1' бренда 'land_rover' мощность равна 52 л.с \n",
    "\n",
    "df.loc[df['Power'] <=0, 'Power'] = 52"
   ]
  },
  {
   "cell_type": "markdown",
   "metadata": {},
   "source": [
    "FuelType — тип топлива"
   ]
  },
  {
   "cell_type": "code",
   "execution_count": 56,
   "metadata": {},
   "outputs": [
    {
     "data": {
      "text/plain": [
       "petrol      217777\n",
       "gasoline     88793\n",
       "lpg           4615\n",
       "cng            516\n",
       "hybrid         203\n",
       "other          132\n",
       "electric        65\n",
       "Name: FuelType, dtype: int64"
      ]
     },
     "execution_count": 56,
     "metadata": {},
     "output_type": "execute_result"
    }
   ],
   "source": [
    "# Посчитаем кол-во значений в столбце\n",
    "\n",
    "df['FuelType'].value_counts()"
   ]
  },
  {
   "cell_type": "code",
   "execution_count": 57,
   "metadata": {},
   "outputs": [],
   "source": [
    "# Заменим в столбце 'FuelType' все значения gasoline на petrol, это одно и тоже\n",
    "\n",
    "df.loc[df['FuelType'] == 'gasoline', 'FuelType'] = 'disel'"
   ]
  },
  {
   "cell_type": "markdown",
   "metadata": {},
   "source": [
    "Price — цена (евро)"
   ]
  },
  {
   "cell_type": "code",
   "execution_count": 58,
   "metadata": {},
   "outputs": [
    {
     "data": {
      "text/plain": [
       "2.52"
      ]
     },
     "execution_count": 58,
     "metadata": {},
     "output_type": "execute_result"
    }
   ],
   "source": [
    "# Посчитаем процент нулевых значений в столбце цена. \n",
    "\n",
    "round((df['Price'] == 0).sum()/df.shape[0]*100,2 )"
   ]
  },
  {
   "cell_type": "markdown",
   "metadata": {},
   "source": [
    "Кол-во нулевых значений в столбце 'price' составляет чуть более 2,5 %."
   ]
  },
  {
   "cell_type": "code",
   "execution_count": 59,
   "metadata": {},
   "outputs": [
    {
     "data": {
      "text/plain": [
       "0"
      ]
     },
     "execution_count": 59,
     "metadata": {},
     "output_type": "execute_result"
    }
   ],
   "source": [
    "# Удалим строки, значения столбца 'Price' в которых равно 0, они непригодны для обучения модели\n",
    "\n",
    "df.drop(df[df['Price'] == 0].index, axis=0, inplace=True)\n",
    "(df['Price'] == 0).sum()"
   ]
  },
  {
   "cell_type": "markdown",
   "metadata": {},
   "source": [
    "PostalCode — почтовый индекс владельца анкеты (пользователя)"
   ]
  },
  {
   "cell_type": "code",
   "execution_count": 60,
   "metadata": {},
   "outputs": [
    {
     "data": {
      "text/plain": [
       "8124"
      ]
     },
     "execution_count": 60,
     "metadata": {},
     "output_type": "execute_result"
    }
   ],
   "source": [
    "# Посчитаем кол-во значений признака\n",
    "\n",
    "len(df['PostalCode'].unique())"
   ]
  },
  {
   "cell_type": "markdown",
   "metadata": {},
   "source": [
    "Почтовый индекс соответствует региону, скорее это можно было бы использовать как категориальный признак, однако кол-во значений более 8000 не позволит это сделать - не хватит ресурсов."
   ]
  },
  {
   "cell_type": "code",
   "execution_count": 61,
   "metadata": {},
   "outputs": [],
   "source": [
    "# Удалим столбец из дата-фрейма\n",
    "\n",
    "df.drop(['PostalCode'], axis=1, inplace=True)"
   ]
  },
  {
   "cell_type": "code",
   "execution_count": 62,
   "metadata": {},
   "outputs": [],
   "source": [
    "# Преобразуем типы данных из float в int\n",
    "\n",
    "df['RegistrationYear'] = df['RegistrationYear'].astype('int64')\n",
    "df['Power'] = df['Power'].astype('int64')\n",
    "df['year_created'] = df['year_created'].astype('int64')\n",
    "df['month_created'] = df['month_created'].astype('int64')"
   ]
  },
  {
   "cell_type": "code",
   "execution_count": 63,
   "metadata": {},
   "outputs": [
    {
     "data": {
      "text/plain": [
       "Index(['Price', 'VehicleType', 'RegistrationYear', 'Gearbox', 'Power', 'Model',\n",
       "       'Kilometer', 'FuelType', 'Brand', 'Repaired', 'age_days',\n",
       "       'year_created', 'month_created'],\n",
       "      dtype='object')"
      ]
     },
     "execution_count": 63,
     "metadata": {},
     "output_type": "execute_result"
    }
   ],
   "source": [
    "df.columns"
   ]
  },
  {
   "cell_type": "code",
   "execution_count": 64,
   "metadata": {},
   "outputs": [
    {
     "data": {
      "text/plain": [
       "Price                int64\n",
       "VehicleType         object\n",
       "RegistrationYear     int64\n",
       "Gearbox             object\n",
       "Power                int64\n",
       "Model               object\n",
       "Kilometer            int64\n",
       "FuelType            object\n",
       "Brand               object\n",
       "Repaired            object\n",
       "age_days             int64\n",
       "year_created         int64\n",
       "month_created        int64\n",
       "dtype: object"
      ]
     },
     "execution_count": 64,
     "metadata": {},
     "output_type": "execute_result"
    }
   ],
   "source": [
    "df.dtypes"
   ]
  },
  {
   "cell_type": "code",
   "execution_count": 65,
   "metadata": {},
   "outputs": [
    {
     "data": {
      "image/png": "[encoded data removed]",
      "text/plain": [
       "<Figure size 1000x1000 with 9 Axes>"
      ]
     },
     "metadata": {},
     "output_type": "display_data"
    }
   ],
   "source": [
    "# Посмотрим распределение данных по столбцам\n",
    "\n",
    "df.hist(figsize=(10,10), xrot=45);"
   ]
  },
  {
   "cell_type": "code",
   "execution_count": 66,
   "metadata": {},
   "outputs": [
    {
     "data": {
      "text/plain": [
       "<AxesSubplot:>"
      ]
     },
     "execution_count": 66,
     "metadata": {},
     "output_type": "execute_result"
    },
    {
     "data": {
      "image/png": "[encoded data removed]",
      "text/plain": [
       "<Figure size 640x480 with 2 Axes>"
      ]
     },
     "metadata": {},
     "output_type": "display_data"
    }
   ],
   "source": [
    "# # Построим матрицу корреляции с испрользованием тепловой карты\n",
    "\n",
    "sns.heatmap(df.corr(method=\"spearman\"),  cmap='coolwarm', annot=True)"
   ]
  },
  {
   "cell_type": "markdown",
   "metadata": {},
   "source": [
    "Есть корреляция между мощностью и ценой и годом и ценой."
   ]
  },
  {
   "cell_type": "markdown",
   "metadata": {},
   "source": [
    "***Выводы по разделу:***\n",
    "\n",
    "-  Удалим столбцы, которые, по нашему мнению, неинформативны:\n",
    "   - 'NumberOfPictures' все значения столбыц нулевые;\n",
    "   - 'RegistrationMonth' месяц регистрации вряд ли влияет на цену, там много нулеых значений, заменить их правильно не получится;\n",
    "   - 'PostalCode' почтовый индекс соответствует региону, скорее всего это можно было бы использовать как категориальный признак, однако кол-во значений более 8000 не позволит это сделать - не хватит ресурсов;\n",
    "- Дата последней активности пользователя у 10 % анкет соответсвует дате скачивания, а почти у всех остальных позже чем дата скачивания, это нелогично. Со столбцом 'LastSeen', что-то не так. Удалим его, а также столбцы: 'DateCrowled'(он нам не нужен, так как мы сгенерировали отдельный столбец с 'возрастом' объявления 'actual_days';\n",
    "- Столбец 'DateCreated' разделили на два отдельных для года и месяца;\n",
    "\n",
    "Обработка пропусков:\n",
    "- Удалили строки с пропусками в модели авто, без названия модели все остальные данные неиформативны, правильно заполнить модель не получится;\n",
    "- Заменили пропуски в столбце 'VehicleType' модой этого значения для соответствующей модели;\n",
    "- Заменили пропуски в столбце 'Gearbox' на наиболее часто встречающееся значения;\n",
    "- Заменили пропуски в столбце 'Fueltype' на наиболее част встречающееся значения;\n",
    "- Заменили пропуски в столбце 'Repaired' значением 'no';\n",
    "\n",
    "Обрабокта аномалий:\n",
    "- Удалили явные дубликаты;\n",
    "- В списке моделей есть неявные дубликаты, например '3er' и '3_reihe', 'range_rover' и 'rangerover'. Привели их к единому шаблону;\n",
    "-  В столбце 'VehicleType' заменили значения 'other' на самый часто встречающийся тип транспортного средства для каждой модели;\n",
    "- Заменим значения года более 2016 г. и менее 1952 г. на самые частые значения для соответствующей марки;\n",
    "- Заменим все значения в столбце 'Power' более 500 и менее или равные 0 на наиболее часто встречающееся для каждой модели;\n",
    "- Заменили в столбце 'FuelType' все значения gasoline на petrol, это одно и тоже;\n",
    "- Удалим строки, значения столбца 'Price' в которых равно 0, они непригодны для обучения модели"
   ]
  },
  {
   "cell_type": "markdown",
   "metadata": {},
   "source": [
    "## Обучение моделей"
   ]
  },
  {
   "cell_type": "markdown",
   "metadata": {},
   "source": [
    "### Подготовка признаков."
   ]
  },
  {
   "cell_type": "code",
   "execution_count": 67,
   "metadata": {},
   "outputs": [
    {
     "name": "stdout",
     "output_type": "stream",
     "text": [
      "<class 'pandas.core.frame.DataFrame'>\n",
      "Int64Index: 304222 entries, 0 to 354368\n",
      "Data columns (total 13 columns):\n",
      " #   Column            Non-Null Count   Dtype \n",
      "---  ------            --------------   ----- \n",
      " 0   Price             304222 non-null  int64 \n",
      " 1   VehicleType       304222 non-null  object\n",
      " 2   RegistrationYear  304222 non-null  int64 \n",
      " 3   Gearbox           304222 non-null  object\n",
      " 4   Power             304222 non-null  int64 \n",
      " 5   Model             304222 non-null  object\n",
      " 6   Kilometer         304222 non-null  int64 \n",
      " 7   FuelType          304222 non-null  object\n",
      " 8   Brand             304222 non-null  object\n",
      " 9   Repaired          304222 non-null  object\n",
      " 10  age_days          304222 non-null  int64 \n",
      " 11  year_created      304222 non-null  int64 \n",
      " 12  month_created     304222 non-null  int64 \n",
      "dtypes: int64(7), object(6)\n",
      "memory usage: 32.5+ MB\n"
     ]
    }
   ],
   "source": [
    "# Выведем общую информацию о дата-фрейме.\n",
    "\n",
    "df.info()"
   ]
  },
  {
   "cell_type": "code",
   "execution_count": 68,
   "metadata": {},
   "outputs": [
    {
     "data": {
      "text/plain": [
       "(304222, 13)"
      ]
     },
     "execution_count": 68,
     "metadata": {},
     "output_type": "execute_result"
    }
   ],
   "source": [
    "# Проверим размер дата-фрейма после предобработки\n",
    "\n",
    "df.shape"
   ]
  },
  {
   "cell_type": "code",
   "execution_count": 69,
   "metadata": {},
   "outputs": [],
   "source": [
    "# Создадим списки численных и категориальных признаков.\n",
    "\n",
    "num_features = ['RegistrationYear', 'Power', 'Kilometer', 'age_days']\n",
    "cat_features = ['VehicleType', 'Gearbox', 'Model', 'FuelType', 'Brand', 'Repaired', 'year_created',\\\n",
    "               'month_created']"
   ]
  },
  {
   "cell_type": "code",
   "execution_count": 70,
   "metadata": {},
   "outputs": [
    {
     "name": "stdout",
     "output_type": "stream",
     "text": [
      "(304222, 12)\n"
     ]
    }
   ],
   "source": [
    "# Выделяем признаки и проверяем размер.\n",
    "\n",
    "features = df.drop(['Price'], axis=1)\n",
    "print(features.shape)"
   ]
  },
  {
   "cell_type": "code",
   "execution_count": 71,
   "metadata": {},
   "outputs": [
    {
     "name": "stdout",
     "output_type": "stream",
     "text": [
      "(304222,)\n"
     ]
    }
   ],
   "source": [
    "# Выделяем целевой признак и проверяем размер.\n",
    "\n",
    "target = df['Price']\n",
    "print(target.shape)"
   ]
  },
  {
   "cell_type": "code",
   "execution_count": 72,
   "metadata": {},
   "outputs": [
    {
     "name": "stdout",
     "output_type": "stream",
     "text": [
      "(212955, 12)\n",
      "(212955,)\n",
      "(91267, 12)\n",
      "(91267,)\n"
     ]
    }
   ],
   "source": [
    "# Разделяем выборки на обучающую и тестовую в соотношении 70:30. проверяем размерности\n",
    "\n",
    "features_train, features_test, target_train, target_test =\\\n",
    "train_test_split(features, target, test_size=0.3, random_state=RANDOM_STATE)\n",
    "print(features_train.shape)\n",
    "print(target_train.shape)\n",
    "print(features_test.shape)\n",
    "print(target_test.shape)"
   ]
  },
  {
   "cell_type": "code",
   "execution_count": 73,
   "metadata": {},
   "outputs": [
    {
     "data": {
      "text/html": [
       "<div>\n",
       "<style scoped>\n",
       "    .dataframe tbody tr th:only-of-type {\n",
       "        vertical-align: middle;\n",
       "    }\n",
       "\n",
       "    .dataframe tbody tr th {\n",
       "        vertical-align: top;\n",
       "    }\n",
       "\n",
       "    .dataframe thead th {\n",
       "        text-align: right;\n",
       "    }\n",
       "</style>\n",
       "<table border=\"1\" class=\"dataframe\">\n",
       "  <thead>\n",
       "    <tr style=\"text-align: right;\">\n",
       "      <th></th>\n",
       "      <th>VehicleType</th>\n",
       "      <th>RegistrationYear</th>\n",
       "      <th>Gearbox</th>\n",
       "      <th>Power</th>\n",
       "      <th>Model</th>\n",
       "      <th>Kilometer</th>\n",
       "      <th>FuelType</th>\n",
       "      <th>Brand</th>\n",
       "      <th>Repaired</th>\n",
       "      <th>age_days</th>\n",
       "      <th>year_created</th>\n",
       "      <th>month_created</th>\n",
       "    </tr>\n",
       "  </thead>\n",
       "  <tbody>\n",
       "    <tr>\n",
       "      <th>237642</th>\n",
       "      <td>small</td>\n",
       "      <td>1999</td>\n",
       "      <td>manual</td>\n",
       "      <td>60</td>\n",
       "      <td>polo</td>\n",
       "      <td>150000</td>\n",
       "      <td>petrol</td>\n",
       "      <td>volkswagen</td>\n",
       "      <td>no</td>\n",
       "      <td>0</td>\n",
       "      <td>2016</td>\n",
       "      <td>3</td>\n",
       "    </tr>\n",
       "    <tr>\n",
       "      <th>165187</th>\n",
       "      <td>sedan</td>\n",
       "      <td>2002</td>\n",
       "      <td>manual</td>\n",
       "      <td>122</td>\n",
       "      <td>carisma</td>\n",
       "      <td>80000</td>\n",
       "      <td>petrol</td>\n",
       "      <td>mitsubishi</td>\n",
       "      <td>no</td>\n",
       "      <td>0</td>\n",
       "      <td>2016</td>\n",
       "      <td>3</td>\n",
       "    </tr>\n",
       "    <tr>\n",
       "      <th>292139</th>\n",
       "      <td>small</td>\n",
       "      <td>2016</td>\n",
       "      <td>auto</td>\n",
       "      <td>71</td>\n",
       "      <td>fortwo</td>\n",
       "      <td>100000</td>\n",
       "      <td>petrol</td>\n",
       "      <td>smart</td>\n",
       "      <td>no</td>\n",
       "      <td>0</td>\n",
       "      <td>2016</td>\n",
       "      <td>4</td>\n",
       "    </tr>\n",
       "    <tr>\n",
       "      <th>215178</th>\n",
       "      <td>sedan</td>\n",
       "      <td>2003</td>\n",
       "      <td>manual</td>\n",
       "      <td>131</td>\n",
       "      <td>passat</td>\n",
       "      <td>150000</td>\n",
       "      <td>petrol</td>\n",
       "      <td>volkswagen</td>\n",
       "      <td>no</td>\n",
       "      <td>0</td>\n",
       "      <td>2016</td>\n",
       "      <td>3</td>\n",
       "    </tr>\n",
       "    <tr>\n",
       "      <th>179144</th>\n",
       "      <td>sedan</td>\n",
       "      <td>2009</td>\n",
       "      <td>auto</td>\n",
       "      <td>170</td>\n",
       "      <td>golf</td>\n",
       "      <td>150000</td>\n",
       "      <td>disel</td>\n",
       "      <td>volkswagen</td>\n",
       "      <td>no</td>\n",
       "      <td>0</td>\n",
       "      <td>2016</td>\n",
       "      <td>3</td>\n",
       "    </tr>\n",
       "  </tbody>\n",
       "</table>\n",
       "</div>"
      ],
      "text/plain": [
       "       VehicleType  RegistrationYear Gearbox  Power    Model  Kilometer  \\\n",
       "237642       small              1999  manual     60     polo     150000   \n",
       "165187       sedan              2002  manual    122  carisma      80000   \n",
       "292139       small              2016    auto     71   fortwo     100000   \n",
       "215178       sedan              2003  manual    131   passat     150000   \n",
       "179144       sedan              2009    auto    170     golf     150000   \n",
       "\n",
       "       FuelType       Brand Repaired  age_days  year_created  month_created  \n",
       "237642   petrol  volkswagen       no         0          2016              3  \n",
       "165187   petrol  mitsubishi       no         0          2016              3  \n",
       "292139   petrol       smart       no         0          2016              4  \n",
       "215178   petrol  volkswagen       no         0          2016              3  \n",
       "179144    disel  volkswagen       no         0          2016              3  "
      ]
     },
     "execution_count": 73,
     "metadata": {},
     "output_type": "execute_result"
    }
   ],
   "source": [
    "features_train.head()"
   ]
  },
  {
   "cell_type": "code",
   "execution_count": 74,
   "metadata": {},
   "outputs": [],
   "source": [
    "# Преобразуем признаки: масштабируем количественные и закодируем категориальные\n",
    "\n",
    "transformer = ColumnTransformer(transformers =[\n",
    "    ('ohe', OneHotEncoder(sparse = False, drop='first', handle_unknown='ignore'), cat_features),\n",
    "    ('scal', StandardScaler(), num_features),\n",
    "      \n",
    "], remainder ='passthrough')"
   ]
  },
  {
   "cell_type": "markdown",
   "metadata": {},
   "source": [
    "### Модель линейной регрессии."
   ]
  },
  {
   "cell_type": "code",
   "execution_count": 75,
   "metadata": {},
   "outputs": [],
   "source": [
    "# Pipeline для масштабирования признаков и обучения модели для линейной регрессии\n",
    "\n",
    "pipe_reg = Pipeline(steps=[\n",
    "    ('trans',transformer),\n",
    "    ('reg', LinearRegression())\n",
    "], verbose=False)"
   ]
  },
  {
   "cell_type": "code",
   "execution_count": 76,
   "metadata": {},
   "outputs": [
    {
     "name": "stdout",
     "output_type": "stream",
     "text": [
      "Wall time: 28.3 s\n"
     ]
    }
   ],
   "source": [
    "%%time\n",
    "\n",
    "# Кросс-валидация для модели линейной регрессии.\n",
    "\n",
    "scores = -cross_val_score(pipe_reg, features_train, target_train, cv=5, scoring=\\\n",
    "                          'neg_root_mean_squared_error')"
   ]
  },
  {
   "cell_type": "markdown",
   "metadata": {},
   "source": [
    "Время обучения и кросс-валидации 1 мин. 45 сек."
   ]
  },
  {
   "cell_type": "code",
   "execution_count": 77,
   "metadata": {},
   "outputs": [
    {
     "name": "stdout",
     "output_type": "stream",
     "text": [
      "2683.03\n"
     ]
    }
   ],
   "source": [
    "# Посчитаем и выведем среднее значения при кросс-валидации для линйеной регрессии.\n",
    "\n",
    "rmse_reg = round(scores.mean(), 3)\n",
    "print(rmse_reg)"
   ]
  },
  {
   "cell_type": "code",
   "execution_count": 78,
   "metadata": {},
   "outputs": [
    {
     "name": "stdout",
     "output_type": "stream",
     "text": [
      "6.79 s ± 0 ns per loop (mean ± std. dev. of 1 run, 1 loop each)\n"
     ]
    }
   ],
   "source": [
    "# Обучим модель линейной регрессии на обучающей выборке и запомним время.\n",
    "\n",
    "reg_fit_time = %timeit -n1 -r1 -o pipe_reg.fit(features_train, target_train)"
   ]
  },
  {
   "cell_type": "code",
   "execution_count": 79,
   "metadata": {},
   "outputs": [],
   "source": [
    "# Переведем в float\n",
    "\n",
    "reg_fit_time = reg_fit_time.average"
   ]
  },
  {
   "cell_type": "code",
   "execution_count": 80,
   "metadata": {},
   "outputs": [
    {
     "name": "stdout",
     "output_type": "stream",
     "text": [
      "950 ms ± 0 ns per loop (mean ± std. dev. of 1 run, 1 loop each)\n"
     ]
    }
   ],
   "source": [
    "# Получим предсказания на тествой выборке и запомним время.\n",
    "\n",
    "reg_pred_time = %timeit -n1 -r1 -o  predictions = pipe_reg.predict(features_train)"
   ]
  },
  {
   "cell_type": "code",
   "execution_count": 81,
   "metadata": {},
   "outputs": [],
   "source": [
    "# Переведем в float\n",
    "\n",
    "reg_pred_time = reg_pred_time.average"
   ]
  },
  {
   "cell_type": "code",
   "execution_count": 82,
   "metadata": {},
   "outputs": [
    {
     "name": "stdout",
     "output_type": "stream",
     "text": [
      "Среднее время обучения линейной регрессии сек.: 6.79\n",
      "Среднее вреия предсказаний линйеной регресии сек.: 0.95\n",
      "RMSE для линейной модели при кросс-валидации: 2683.03\n"
     ]
    }
   ],
   "source": [
    "reg_fit_time = round(reg_fit_time, 2)\n",
    "reg_pred_time = round(reg_pred_time, 2)\n",
    "print('Среднее время обучения линейной регрессии сек.:', reg_fit_time)\n",
    "print('Среднее вреия предсказаний линйеной регресии сек.:', reg_pred_time)\n",
    "print('RMSE для линейной модели при кросс-валидации:', rmse_reg)"
   ]
  },
  {
   "cell_type": "markdown",
   "metadata": {},
   "source": [
    "Лучшее значение RMSE на модели линейной регрессии на кросс-валидации 2683."
   ]
  },
  {
   "cell_type": "markdown",
   "metadata": {},
   "source": [
    "### Модель решающего дерева"
   ]
  },
  {
   "cell_type": "code",
   "execution_count": 83,
   "metadata": {},
   "outputs": [],
   "source": [
    "# Преобразуем признаки: масштабируем количественные и закодируем категориальные при помощи\n",
    "# OrdinalEncoder\n",
    "\n",
    "transformer_tree = ColumnTransformer(transformers =[\n",
    "    ('ohe', OrdinalEncoder(handle_unknown='use_encoded_value', unknown_value=-1, encoded_missing_value=-2),\\\n",
    "     cat_features),\n",
    "    ('scal', StandardScaler(), num_features),\n",
    "      \n",
    "], remainder ='passthrough')"
   ]
  },
  {
   "cell_type": "code",
   "execution_count": 84,
   "metadata": {},
   "outputs": [],
   "source": [
    "# Создадим Pipeline для масштабирования признаков,обучения модели решающего дерева\n",
    "# и подобора параметров\n",
    "\n",
    "pipe_tree = Pipeline(steps=[\n",
    "    ('trans_tr',transformer_tree),\n",
    "    ('tree', DecisionTreeRegressor(random_state=RANDOM_STATE))\n",
    "], verbose=False)"
   ]
  },
  {
   "cell_type": "code",
   "execution_count": 85,
   "metadata": {},
   "outputs": [],
   "source": [
    "# Параметры для GridseachCV\n",
    "\n",
    "grid_space_tree={'tree__max_depth': [2,5,10,20],\n",
    "            'tree__max_features':[1,3,5,10],\n",
    "            'tree__min_samples_leaf':[1,2,3],\n",
    "            'tree__min_samples_split':[2,3]\n",
    "           }"
   ]
  },
  {
   "cell_type": "code",
   "execution_count": 86,
   "metadata": {},
   "outputs": [],
   "source": [
    "# Создадим подборщик параметров для модели дерева решений\n",
    "\n",
    "tree_grid = GridSearchCV(pipe_tree,param_grid=grid_space_tree,n_jobs=-1,scoring= \\\n",
    "                         'neg_root_mean_squared_error')"
   ]
  },
  {
   "cell_type": "code",
   "execution_count": 87,
   "metadata": {},
   "outputs": [
    {
     "name": "stdout",
     "output_type": "stream",
     "text": [
      "Wall time: 2min 55s\n"
     ]
    }
   ],
   "source": [
    "%%time\n",
    "\n",
    "# Обучение модели дерева, подбор параметров и подсчет метрики \n",
    "\n",
    "tree_model = tree_grid.fit(features_train, target_train)\n",
    "\n",
    "rmse_tree = -tree_model.best_score_\n",
    "params_tree = tree_model.best_params_"
   ]
  },
  {
   "cell_type": "markdown",
   "metadata": {},
   "source": [
    "Время обучения и подбор параметров составило 4 мин."
   ]
  },
  {
   "cell_type": "code",
   "execution_count": 88,
   "metadata": {},
   "outputs": [
    {
     "name": "stdout",
     "output_type": "stream",
     "text": [
      "1941.801\n"
     ]
    },
    {
     "data": {
      "text/plain": [
       "{'tree__max_depth': 20,\n",
       " 'tree__max_features': 10,\n",
       " 'tree__min_samples_leaf': 3,\n",
       " 'tree__min_samples_split': 2}"
      ]
     },
     "execution_count": 88,
     "metadata": {},
     "output_type": "execute_result"
    }
   ],
   "source": [
    "# Выведем значения метрики на кросс-валидации и лучшие из подобранных параметров\n",
    "\n",
    "rmse_tree = round(rmse_tree, 3)\n",
    "print(rmse_tree)\n",
    "params_tree"
   ]
  },
  {
   "cell_type": "code",
   "execution_count": 89,
   "metadata": {},
   "outputs": [],
   "source": [
    "# Создадим Pipeline для масштабирования признаков и обучения модели решающего дерева\n",
    "# с лучшим из подобранных параметров\n",
    "\n",
    "pipe_tree_1 = Pipeline(steps=[\n",
    "    ('trans_tr',transformer_tree),\n",
    "    ('tree', DecisionTreeRegressor(max_depth=20,\n",
    "                                   max_features=10,\n",
    "                                   min_samples_leaf=3,\n",
    "                                   min_samples_split=2,\n",
    "                                   random_state=RANDOM_STATE))\n",
    "], verbose=False)"
   ]
  },
  {
   "cell_type": "code",
   "execution_count": 90,
   "metadata": {},
   "outputs": [
    {
     "name": "stdout",
     "output_type": "stream",
     "text": [
      "1.29 s ± 0 ns per loop (mean ± std. dev. of 1 run, 1 loop each)\n"
     ]
    }
   ],
   "source": [
    "# Обучим модель дерева решений на обучающей выборке и запомним время.\n",
    "\n",
    "tree_fit_time = %timeit -n1 -r1 -o pipe_tree_1.fit(features_train, target_train)"
   ]
  },
  {
   "cell_type": "code",
   "execution_count": 91,
   "metadata": {},
   "outputs": [],
   "source": [
    "# Переведем в float\n",
    "\n",
    "tree_fit_time = tree_fit_time.average"
   ]
  },
  {
   "cell_type": "code",
   "execution_count": 92,
   "metadata": {},
   "outputs": [
    {
     "name": "stdout",
     "output_type": "stream",
     "text": [
      "367 ms ± 0 ns per loop (mean ± std. dev. of 1 run, 1 loop each)\n"
     ]
    }
   ],
   "source": [
    "# Получим предсказания на обучающей выборке и запомним время.\n",
    "\n",
    "tree_pred_time = %timeit -n1 -r1 -o tree_predictions = pipe_tree_1.predict(features_train)"
   ]
  },
  {
   "cell_type": "code",
   "execution_count": 93,
   "metadata": {},
   "outputs": [],
   "source": [
    "# Переведем в float\n",
    "\n",
    "tree_pred_time = tree_pred_time.average"
   ]
  },
  {
   "cell_type": "code",
   "execution_count": 94,
   "metadata": {},
   "outputs": [
    {
     "name": "stdout",
     "output_type": "stream",
     "text": [
      "Среднее время обучения решающего дерева сек.: 1.29\n",
      "Среднее вреия предсказаний решающего дерева сек.: 0.37\n",
      "Лучшее значение RMSE на модели решающего дерева на кросс-валидации: 1941.801\n"
     ]
    }
   ],
   "source": [
    "tree_fit_time = round(tree_fit_time, 2)\n",
    "tree_pred_time = round(tree_pred_time, 2)\n",
    "print('Среднее время обучения решающего дерева сек.:', tree_fit_time)\n",
    "print('Среднее вреия предсказаний решающего дерева сек.:', tree_pred_time)\n",
    "print('Лучшее значение RMSE на модели решающего дерева на кросс-валидации:', rmse_tree)"
   ]
  },
  {
   "cell_type": "markdown",
   "metadata": {},
   "source": [
    "### Модель Ridge."
   ]
  },
  {
   "cell_type": "code",
   "execution_count": 95,
   "metadata": {},
   "outputs": [],
   "source": [
    "# Pipeline для масштабирования признаков, обучения модели Ridge и подбора параметров\n",
    "\n",
    "pipe_ridge = Pipeline(steps=[\n",
    "    ('trans',transformer),\n",
    "    ('ridge', Ridge(random_state=RANDOM_STATE))\n",
    "], verbose=False)"
   ]
  },
  {
   "cell_type": "code",
   "execution_count": 96,
   "metadata": {},
   "outputs": [],
   "source": [
    "# Параметры для RandomseachCV\n",
    "\n",
    "ridge_space ={'ridge__alpha': np.arange(0.0,10.0,0.1)}"
   ]
  },
  {
   "cell_type": "code",
   "execution_count": 97,
   "metadata": {},
   "outputs": [],
   "source": [
    "# Создадим подборщик параметров для модели Ridge\n",
    "\n",
    "ridge_random = RandomizedSearchCV(pipe_ridge,param_distributions=ridge_space,\\\n",
    "                                        n_jobs=-1, n_iter=3, scoring='neg_root_mean_squared_error')"
   ]
  },
  {
   "cell_type": "code",
   "execution_count": 98,
   "metadata": {},
   "outputs": [
    {
     "name": "stdout",
     "output_type": "stream",
     "text": [
      "Wall time: 22 s\n"
     ]
    }
   ],
   "source": [
    "%%time\n",
    "\n",
    "# Обучение модели Ridge, подбор параметров и подсчет метрики \n",
    "\n",
    "ridge_model = ridge_random.fit(features_train, target_train)\n",
    "\n",
    "rmse_ridge = -ridge_model.best_score_\n",
    "params_ridge = ridge_model.best_params_"
   ]
  },
  {
   "cell_type": "markdown",
   "metadata": {},
   "source": [
    "Время обучения и подбора параметров около 1 мин."
   ]
  },
  {
   "cell_type": "code",
   "execution_count": 99,
   "metadata": {},
   "outputs": [
    {
     "name": "stdout",
     "output_type": "stream",
     "text": [
      "2683.065\n"
     ]
    },
    {
     "data": {
      "text/plain": [
       "{'ridge__alpha': 5.0}"
      ]
     },
     "execution_count": 99,
     "metadata": {},
     "output_type": "execute_result"
    }
   ],
   "source": [
    "# Выведем лучшее значение для Ridge на кросс-валидации и лучший из подобранных параметров\n",
    "\n",
    "rmse_ridge = round(rmse_ridge, 3)\n",
    "print(rmse_ridge)\n",
    "params_ridge"
   ]
  },
  {
   "cell_type": "code",
   "execution_count": 100,
   "metadata": {},
   "outputs": [],
   "source": [
    "# Создадим Pipeline для масштабирования признаков и обучения модели Ridge с лучшим из подобранных\n",
    "# параметров\n",
    "\n",
    "pipe_ridge_1 = Pipeline(steps=[\n",
    "    ('trans',transformer),\n",
    "    ('ridge', Ridge(alpha=5.1, random_state=RANDOM_STATE))\n",
    "], verbose=False)"
   ]
  },
  {
   "cell_type": "code",
   "execution_count": 101,
   "metadata": {},
   "outputs": [
    {
     "name": "stdout",
     "output_type": "stream",
     "text": [
      "1.99 s ± 0 ns per loop (mean ± std. dev. of 1 run, 1 loop each)\n"
     ]
    }
   ],
   "source": [
    "# Обучим модель на обучающей выборке и запомним время.\n",
    "\n",
    "ridge_fit_time = %timeit -n1 -r1 -o pipe_ridge_1.fit(features_train, target_train)"
   ]
  },
  {
   "cell_type": "code",
   "execution_count": 102,
   "metadata": {},
   "outputs": [],
   "source": [
    "# Переведем в float\n",
    "\n",
    "ridge_fit_time = ridge_fit_time.average"
   ]
  },
  {
   "cell_type": "code",
   "execution_count": 103,
   "metadata": {},
   "outputs": [
    {
     "name": "stdout",
     "output_type": "stream",
     "text": [
      "937 ms ± 0 ns per loop (mean ± std. dev. of 1 run, 1 loop each)\n"
     ]
    }
   ],
   "source": [
    "# Сделаем предсказания на тестовой выборке и запомним время.\n",
    "\n",
    "ridge_pred_time = %timeit -n1 -r1 -o ridge_predictions = pipe_ridge_1.predict(features_train)"
   ]
  },
  {
   "cell_type": "code",
   "execution_count": 104,
   "metadata": {},
   "outputs": [],
   "source": [
    "# Переведем в float\n",
    "\n",
    "ridge_pred_time = ridge_pred_time.average"
   ]
  },
  {
   "cell_type": "code",
   "execution_count": 105,
   "metadata": {
    "scrolled": true
   },
   "outputs": [
    {
     "name": "stdout",
     "output_type": "stream",
     "text": [
      "Среднее время обучения решающего дерева сек.: 1.99\n",
      "Среднее вреия предсказаний решающего дерева сек.: 0.94\n",
      "Лучшее значение RMSE для модели Ridge на кросс-валидации: 2683.065\n"
     ]
    }
   ],
   "source": [
    "ridge_fit_time = round(ridge_fit_time, 2)\n",
    "ridge_pred_time = round(ridge_pred_time, 2)\n",
    "print('Среднее время обучения решающего дерева сек.:', ridge_fit_time)\n",
    "print('Среднее вреия предсказаний решающего дерева сек.:', ridge_pred_time)\n",
    "print('Лучшее значение RMSE для модели Ridge на кросс-валидации:', rmse_ridge)"
   ]
  },
  {
   "cell_type": "markdown",
   "metadata": {},
   "source": [
    "### Модель LightGBM."
   ]
  },
  {
   "cell_type": "code",
   "execution_count": 106,
   "metadata": {},
   "outputs": [],
   "source": [
    "# Pipeline для масштабирования признаков, обучения модели LGBMregressor и подбора параметров\n",
    "\n",
    "pipe_lgbm = Pipeline(steps=[\n",
    "    ('trans_tree',transformer_tree),\n",
    "    ('lgbm', LGBMRegressor(objective='regression', random_state=RANDOM_STATE))\n",
    "], verbose=False)"
   ]
  },
  {
   "cell_type": "code",
   "execution_count": 107,
   "metadata": {},
   "outputs": [],
   "source": [
    "# Параметры для RandomseachCV для модели LGBMRegressor\n",
    "\n",
    "param_lgbm = {'lgbm__learning_rate': [0.1, 0.5],\n",
    "              'lgbm__num_iterations' : [50, 100]        \n",
    "    }"
   ]
  },
  {
   "cell_type": "code",
   "execution_count": 108,
   "metadata": {},
   "outputs": [],
   "source": [
    "# Создадим подборщик параметров для модели LGBMRegressor\n",
    "\n",
    "light_lgbm = RandomizedSearchCV(pipe_lgbm,param_distributions=param_lgbm,\\\n",
    "                                        n_jobs=-1, n_iter=4,cv=2, scoring='neg_root_mean_squared_error')"
   ]
  },
  {
   "cell_type": "code",
   "execution_count": 109,
   "metadata": {},
   "outputs": [
    {
     "name": "stdout",
     "output_type": "stream",
     "text": [
      "[LightGBM] [Info] Auto-choosing row-wise multi-threading, the overhead of testing was 0.012255 seconds.\n",
      "You can set `force_row_wise=true` to remove the overhead.\n",
      "And if memory is not enough, you can set `force_col_wise=true`.\n",
      "[LightGBM] [Info] Total Bins 685\n",
      "[LightGBM] [Info] Number of data points in the train set: 212955, number of used features: 11\n",
      "[LightGBM] [Info] Start training from score 4608.020770\n",
      "Wall time: 12.3 s\n"
     ]
    }
   ],
   "source": [
    "%%time\n",
    "\n",
    "# Обучение модели LGBM, подбор параметров и подсчет метрики \n",
    "\n",
    "lgbm_model = light_lgbm.fit(features_train, target_train)\n",
    "\n",
    "rmse_lgbm = -lgbm_model.best_score_\n",
    "params_lgbm= lgbm_model.best_params_"
   ]
  },
  {
   "cell_type": "markdown",
   "metadata": {},
   "source": [
    "Время обучения и подбора параметров LGBMRegressor почти 13 сек."
   ]
  },
  {
   "cell_type": "code",
   "execution_count": 110,
   "metadata": {
    "scrolled": true
   },
   "outputs": [
    {
     "name": "stdout",
     "output_type": "stream",
     "text": [
      "1753.132\n"
     ]
    },
    {
     "data": {
      "text/plain": [
       "{'lgbm__num_iterations': 100, 'lgbm__learning_rate': 0.5}"
      ]
     },
     "execution_count": 110,
     "metadata": {},
     "output_type": "execute_result"
    }
   ],
   "source": [
    "# Выведем лучше результаты кросс-валидации и лучшие параметры.\n",
    "\n",
    "rmse_lgbm = round(rmse_lgbm, 3)\n",
    "print(rmse_lgbm)\n",
    "params_lgbm"
   ]
  },
  {
   "cell_type": "code",
   "execution_count": 111,
   "metadata": {},
   "outputs": [],
   "source": [
    "# Pipeline для масштабирования признаков и обучения модели LGBMregressor с найденными параметрами\n",
    "\n",
    "pipe_lgbm_1 = Pipeline(steps=[\n",
    "    ('trans',transformer),\n",
    "    ('lgbm', LGBMRegressor(objective='regression', random_state=RANDOM_STATE,\\\n",
    "                          learning_rate=0.5, num_iteration=100))\n",
    "], verbose=False)"
   ]
  },
  {
   "cell_type": "code",
   "execution_count": 112,
   "metadata": {},
   "outputs": [
    {
     "name": "stdout",
     "output_type": "stream",
     "text": [
      "[LightGBM] [Warning] num_iterations is set=100, num_iteration=100 will be ignored. Current value: num_iterations=100\n",
      "[LightGBM] [Info] Auto-choosing row-wise multi-threading, the overhead of testing was 0.016728 seconds.\n",
      "You can set `force_row_wise=true` to remove the overhead.\n",
      "And if memory is not enough, you can set `force_col_wise=true`.\n",
      "[LightGBM] [Info] Total Bins 941\n",
      "[LightGBM] [Info] Number of data points in the train set: 212955, number of used features: 285\n",
      "[LightGBM] [Info] Start training from score 4608.020770\n",
      "2.61 s ± 0 ns per loop (mean ± std. dev. of 1 run, 1 loop each)\n"
     ]
    }
   ],
   "source": [
    "# Обучим модель на обучающей выборке и запомним время.\n",
    "\n",
    "lgbm_fit_time = %timeit -n1 -r1 -o pipe_lgbm_1.fit(features_train, target_train)"
   ]
  },
  {
   "cell_type": "code",
   "execution_count": 113,
   "metadata": {},
   "outputs": [],
   "source": [
    "# Переведем во float\n",
    "\n",
    "lgbm_fit_time = lgbm_fit_time.average"
   ]
  },
  {
   "cell_type": "code",
   "execution_count": 114,
   "metadata": {},
   "outputs": [
    {
     "name": "stdout",
     "output_type": "stream",
     "text": [
      "1.63 s ± 0 ns per loop (mean ± std. dev. of 1 run, 1 loop each)\n"
     ]
    }
   ],
   "source": [
    "# Сделаем предсказания на обучающей выборке и запомним время.\n",
    "\n",
    "lgbm_pred_time = %timeit -n1 -r1 -o pipe_lgbm_1.predict(features_train)"
   ]
  },
  {
   "cell_type": "code",
   "execution_count": 115,
   "metadata": {},
   "outputs": [],
   "source": [
    "# Переведем во float\n",
    "\n",
    "lgbm_pred_time = lgbm_pred_time.average"
   ]
  },
  {
   "cell_type": "code",
   "execution_count": 116,
   "metadata": {},
   "outputs": [
    {
     "name": "stdout",
     "output_type": "stream",
     "text": [
      "Среднее время обучения LgbmRegressor сек.: 2.61\n",
      "Среднее время предсказаний LgbmRegressor сек.: 1.63\n",
      "Лучшее значение RMSE для модели LightGBM на кросс-валидаци: 1753.132\n"
     ]
    }
   ],
   "source": [
    "lgbm_fit_time = round(lgbm_fit_time, 2)\n",
    "lgbm_pred_time = round(lgbm_pred_time, 2)\n",
    "print('Среднее время обучения LgbmRegressor сек.:', lgbm_fit_time)\n",
    "print('Среднее время предсказаний LgbmRegressor сек.:', lgbm_pred_time)\n",
    "print('Лучшее значение RMSE для модели LightGBM на кросс-валидаци:', rmse_lgbm)"
   ]
  },
  {
   "cell_type": "markdown",
   "metadata": {},
   "source": [
    "### Модель Catboost."
   ]
  },
  {
   "cell_type": "code",
   "execution_count": 117,
   "metadata": {},
   "outputs": [],
   "source": [
    "# Преобразуем признаки: масштабируем количественные, категориальные оставим как есть\n",
    "\n",
    "transformer_cat = ColumnTransformer(transformers =[\n",
    "    ('scal', StandardScaler(), num_features),\n",
    "], remainder ='passthrough')"
   ]
  },
  {
   "cell_type": "code",
   "execution_count": 118,
   "metadata": {},
   "outputs": [],
   "source": [
    "# Pipeline для масштабирования признаков, обучения модели и подбора параметров CatBoostRegressor \n",
    "\n",
    "pipe_cat = Pipeline(steps=[\n",
    "          ('trans_1', transformer_cat),\n",
    "          ('cat', CatBoostRegressor(random_state=RANDOM_STATE,\\\n",
    "                            cat_features=[4, 5, 6, 7, 8, 9, 10, 11], verbose=10))\n",
    "], verbose=False)"
   ]
  },
  {
   "cell_type": "code",
   "execution_count": 119,
   "metadata": {},
   "outputs": [],
   "source": [
    "# Параметры для RandomseachCV для модели CatBoostRegressor\n",
    "\n",
    "param_cat = {\n",
    "            'cat__learning_rate': [0.1, 0.5],\n",
    "            'cat__iterations' : [50, 100]\n",
    "            }"
   ]
  },
  {
   "cell_type": "code",
   "execution_count": 120,
   "metadata": {},
   "outputs": [],
   "source": [
    "# Создадим подборщик параметров для модели LGBMRegressor\n",
    "\n",
    "cat = RandomizedSearchCV(pipe_cat,param_distributions=param_cat,\\\n",
    "                                        n_jobs=-1, n_iter=4,cv=2, scoring='neg_root_mean_squared_error')"
   ]
  },
  {
   "cell_type": "code",
   "execution_count": 121,
   "metadata": {},
   "outputs": [
    {
     "name": "stdout",
     "output_type": "stream",
     "text": [
      "0:\tlearn: 3236.7013225\ttotal: 341ms\tremaining: 33.7s\n",
      "10:\tlearn: 1959.6218654\ttotal: 1.42s\tremaining: 11.5s\n",
      "20:\tlearn: 1861.6455215\ttotal: 2.4s\tremaining: 9.02s\n",
      "30:\tlearn: 1818.5833069\ttotal: 3.25s\tremaining: 7.22s\n",
      "40:\tlearn: 1791.7320319\ttotal: 4.12s\tremaining: 5.93s\n",
      "50:\tlearn: 1771.5032936\ttotal: 4.99s\tremaining: 4.79s\n",
      "60:\tlearn: 1754.1615150\ttotal: 5.86s\tremaining: 3.74s\n",
      "70:\tlearn: 1741.9917804\ttotal: 6.7s\tremaining: 2.73s\n",
      "80:\tlearn: 1729.8437278\ttotal: 7.55s\tremaining: 1.77s\n",
      "90:\tlearn: 1717.8190131\ttotal: 8.4s\tremaining: 831ms\n",
      "99:\tlearn: 1708.8307235\ttotal: 9.18s\tremaining: 0us\n",
      "Wall time: 57.7 s\n"
     ]
    }
   ],
   "source": [
    "%%time\n",
    "\n",
    "# Обучение модели CatBoostRegressor, подбор параметров и подсчет метрики \n",
    "\n",
    "cat_model = cat.fit(features_train, target_train)\n",
    "\n",
    "rmse_cat_model = -cat_model.best_score_\n",
    "params_cat_model = cat_model.best_params_"
   ]
  },
  {
   "cell_type": "markdown",
   "metadata": {},
   "source": [
    "Время обучения и подбора параметров 60 сек."
   ]
  },
  {
   "cell_type": "code",
   "execution_count": 122,
   "metadata": {},
   "outputs": [
    {
     "name": "stdout",
     "output_type": "stream",
     "text": [
      "1776.746\n"
     ]
    },
    {
     "data": {
      "text/plain": [
       "{'cat__learning_rate': 0.5, 'cat__iterations': 100}"
      ]
     },
     "execution_count": 122,
     "metadata": {},
     "output_type": "execute_result"
    }
   ],
   "source": [
    "rmse_cat_model = round(rmse_cat_model, 3)\n",
    "print(rmse_cat_model)\n",
    "params_cat_model"
   ]
  },
  {
   "cell_type": "code",
   "execution_count": 123,
   "metadata": {},
   "outputs": [],
   "source": [
    "# Pipeline для масштабирования признаков, обучения модели на подобранных параметрах CatBoostRegressor \n",
    "\n",
    "pipe_cat_1 = Pipeline(steps=[\n",
    "          ('trans_1', transformer_cat),\n",
    "          ('cat', CatBoostRegressor(learning_rate=0.5, random_state=RANDOM_STATE,\\\n",
    "                            iterations=100, cat_features=[4, 5, 6, 7, 8, 9, 10, 11], verbose=10))\n",
    "], verbose=False)"
   ]
  },
  {
   "cell_type": "code",
   "execution_count": 124,
   "metadata": {},
   "outputs": [
    {
     "name": "stdout",
     "output_type": "stream",
     "text": [
      "0:\tlearn: 3236.7013225\ttotal: 119ms\tremaining: 11.8s\n",
      "10:\tlearn: 1959.6218654\ttotal: 1.12s\tremaining: 9.08s\n",
      "20:\tlearn: 1861.6455215\ttotal: 2.27s\tremaining: 8.55s\n",
      "30:\tlearn: 1818.5833069\ttotal: 3.27s\tremaining: 7.28s\n",
      "40:\tlearn: 1791.7320319\ttotal: 4.22s\tremaining: 6.07s\n",
      "50:\tlearn: 1771.5032936\ttotal: 5.16s\tremaining: 4.96s\n",
      "60:\tlearn: 1754.1615150\ttotal: 6.21s\tremaining: 3.97s\n",
      "70:\tlearn: 1741.9917804\ttotal: 7.14s\tremaining: 2.92s\n",
      "80:\tlearn: 1729.8437278\ttotal: 8.08s\tremaining: 1.89s\n",
      "90:\tlearn: 1717.8190131\ttotal: 8.99s\tremaining: 889ms\n",
      "99:\tlearn: 1708.8307235\ttotal: 9.83s\tremaining: 0us\n",
      "12.1 s ± 0 ns per loop (mean ± std. dev. of 1 run, 1 loop each)\n"
     ]
    }
   ],
   "source": [
    "# Обучим модель на обучающей выборке и запомним время.\n",
    "\n",
    "cat_fit_time = %timeit -n1 -r1 -o pipe_cat_1.fit(features_train, target_train)"
   ]
  },
  {
   "cell_type": "code",
   "execution_count": 125,
   "metadata": {},
   "outputs": [],
   "source": [
    "# Переведем во float\n",
    "\n",
    "cat_fit_time = cat_fit_time.average"
   ]
  },
  {
   "cell_type": "code",
   "execution_count": 126,
   "metadata": {},
   "outputs": [
    {
     "name": "stdout",
     "output_type": "stream",
     "text": [
      "1.08 s ± 0 ns per loop (mean ± std. dev. of 1 run, 1 loop each)\n"
     ]
    }
   ],
   "source": [
    "# Получим предсказания на обучающей выборке и запомним время.\n",
    "\n",
    "cat_pred_time  = %timeit -n1 -r1 -o pipe_cat_1.predict(features_train)"
   ]
  },
  {
   "cell_type": "code",
   "execution_count": 127,
   "metadata": {},
   "outputs": [],
   "source": [
    "# Переведем во float\n",
    "\n",
    "cat_pred_time = cat_pred_time.average"
   ]
  },
  {
   "cell_type": "code",
   "execution_count": 128,
   "metadata": {},
   "outputs": [
    {
     "name": "stdout",
     "output_type": "stream",
     "text": [
      "Среднее время обучения CatBoostRegressor сек.: 12.13\n",
      "Среднее вреvя предсказаний CatBoostRegressor  сек.: 1.08\n",
      "Лучшее значение RMSE для модели CatBoostRegressor на кросс-валидации: 1776.746\n"
     ]
    }
   ],
   "source": [
    "cat_fit_time = round(cat_fit_time, 2)\n",
    "cat_pred_time = round(cat_pred_time, 2)\n",
    "print('Среднее время обучения CatBoostRegressor сек.:', cat_fit_time)\n",
    "print('Среднее вреvя предсказаний CatBoostRegressor  сек.:', cat_pred_time)\n",
    "print('Лучшее значение RMSE для модели CatBoostRegressor на кросс-валидации:', rmse_cat_model)"
   ]
  },
  {
   "cell_type": "markdown",
   "metadata": {},
   "source": [
    "## Анализ моделей"
   ]
  },
  {
   "cell_type": "code",
   "execution_count": 129,
   "metadata": {},
   "outputs": [],
   "source": [
    "# Cоставим списки по результатам обучения и проверки моделей.\n",
    "\n",
    "models = ['Линейная регрессия', 'Решающее дерево', 'Ridge', 'LGBMRegressor', 'CatBoostRegressor']\n",
    "res = [[rmse_reg, reg_fit_time, reg_pred_time],\n",
    "        [rmse_tree, tree_fit_time, tree_pred_time],\n",
    "        [rmse_ridge, ridge_fit_time, ridge_pred_time],\n",
    "        [rmse_lgbm, lgbm_fit_time,lgbm_pred_time],\n",
    "        [rmse_cat_model ,cat_fit_time,cat_pred_time]]"
   ]
  },
  {
   "cell_type": "code",
   "execution_count": 130,
   "metadata": {},
   "outputs": [
    {
     "data": {
      "text/html": [
       "<div>\n",
       "<style scoped>\n",
       "    .dataframe tbody tr th:only-of-type {\n",
       "        vertical-align: middle;\n",
       "    }\n",
       "\n",
       "    .dataframe tbody tr th {\n",
       "        vertical-align: top;\n",
       "    }\n",
       "\n",
       "    .dataframe thead th {\n",
       "        text-align: right;\n",
       "    }\n",
       "</style>\n",
       "<table border=\"1\" class=\"dataframe\">\n",
       "  <thead>\n",
       "    <tr style=\"text-align: right;\">\n",
       "      <th></th>\n",
       "      <th>Качество предсказания (RMSE)</th>\n",
       "      <th>Время обучения, сек</th>\n",
       "      <th>Время предсказания, сек</th>\n",
       "    </tr>\n",
       "  </thead>\n",
       "  <tbody>\n",
       "    <tr>\n",
       "      <th>Линейная регрессия</th>\n",
       "      <td>2683.030</td>\n",
       "      <td>6.79</td>\n",
       "      <td>0.95</td>\n",
       "    </tr>\n",
       "    <tr>\n",
       "      <th>Решающее дерево</th>\n",
       "      <td>1941.801</td>\n",
       "      <td>1.29</td>\n",
       "      <td>0.37</td>\n",
       "    </tr>\n",
       "    <tr>\n",
       "      <th>Ridge</th>\n",
       "      <td>2683.065</td>\n",
       "      <td>1.99</td>\n",
       "      <td>0.94</td>\n",
       "    </tr>\n",
       "    <tr>\n",
       "      <th>LGBMRegressor</th>\n",
       "      <td>1753.132</td>\n",
       "      <td>2.61</td>\n",
       "      <td>1.63</td>\n",
       "    </tr>\n",
       "    <tr>\n",
       "      <th>CatBoostRegressor</th>\n",
       "      <td>1776.746</td>\n",
       "      <td>12.13</td>\n",
       "      <td>1.08</td>\n",
       "    </tr>\n",
       "  </tbody>\n",
       "</table>\n",
       "</div>"
      ],
      "text/plain": [
       "                    Качество предсказания (RMSE)  Время обучения, сек  \\\n",
       "Линейная регрессия                      2683.030                 6.79   \n",
       "Решающее дерево                         1941.801                 1.29   \n",
       "Ridge                                   2683.065                 1.99   \n",
       "LGBMRegressor                           1753.132                 2.61   \n",
       "CatBoostRegressor                       1776.746                12.13   \n",
       "\n",
       "                    Время предсказания, сек  \n",
       "Линейная регрессия                     0.95  \n",
       "Решающее дерево                        0.37  \n",
       "Ridge                                  0.94  \n",
       "LGBMRegressor                          1.63  \n",
       "CatBoostRegressor                      1.08  "
      ]
     },
     "execution_count": 130,
     "metadata": {},
     "output_type": "execute_result"
    }
   ],
   "source": [
    "# Создадим дата-фрейм с резуьтатами.\n",
    "\n",
    "result_data = pd.DataFrame(data=res, index=models, columns=['Качество предсказания (RMSE)', 'Время обучения, сек', 'Время предсказания, сек'])\n",
    "result_data"
   ]
  },
  {
   "cell_type": "markdown",
   "metadata": {},
   "source": [
    "**Вывод по разделу:**\n",
    "\n",
    "Лучшие показатели по качеству предсказаний показали LightGBM и CatBoostRegressor - качество практически одинаковоне, однако временные затраты LightGBM чуть меньше. Линейная регрессия и Ridge показали примерно одинаковые результаты как по качеству и времени, они в конце списка. Исходя из требований к модели, выбираем модель LightGBM."
   ]
  },
  {
   "cell_type": "code",
   "execution_count": 133,
   "metadata": {},
   "outputs": [
    {
     "name": "stdout",
     "output_type": "stream",
     "text": [
      "Wall time: 712 ms\n"
     ]
    }
   ],
   "source": [
    "%%time\n",
    "# Сделаем предсказания лучшей модели на тестовой выборке.\n",
    "\n",
    "test_lgbm_pred = pipe_lgbm_1.predict(features_test)"
   ]
  },
  {
   "cell_type": "code",
   "execution_count": 137,
   "metadata": {},
   "outputs": [
    {
     "name": "stdout",
     "output_type": "stream",
     "text": [
      "RMSE для модели LightGBM на тестовой выборке: 1716.24\n"
     ]
    }
   ],
   "source": [
    "# Посчитаем значение метрики RMSE на тестовой выборке\n",
    "\n",
    "final_rmse_lgbm = mean_squared_error(target_test, test_lgbm_pred)\n",
    "print(\"RMSE для модели LightGBM на тестовой выборке:\", round((final_rmse_lgbm) ** 0.5, 2))"
   ]
  },
  {
   "cell_type": "code",
   "execution_count": 138,
   "metadata": {},
   "outputs": [],
   "source": [
    "# Создадим модель DummyRegressor\n",
    "\n",
    "dummy_regr = DummyRegressor(strategy=\"mean\")"
   ]
  },
  {
   "cell_type": "code",
   "execution_count": 139,
   "metadata": {},
   "outputs": [
    {
     "data": {
      "text/html": [
       "<style>#sk-container-id-1 {color: black;}#sk-container-id-1 pre{padding: 0;}#sk-container-id-1 div.sk-toggleable {background-color: white;}#sk-container-id-1 label.sk-toggleable__label {cursor: pointer;display: block;width: 100%;margin-bottom: 0;padding: 0.3em;box-sizing: border-box;text-align: center;}#sk-container-id-1 label.sk-toggleable__label-arrow:before {content: \"▸\";float: left;margin-right: 0.25em;color: #696969;}#sk-container-id-1 label.sk-toggleable__label-arrow:hover:before {color: black;}#sk-container-id-1 div.sk-estimator:hover label.sk-toggleable__label-arrow:before {color: black;}#sk-container-id-1 div.sk-toggleable__content {max-height: 0;max-width: 0;overflow: hidden;text-align: left;background-color: #f0f8ff;}#sk-container-id-1 div.sk-toggleable__content pre {margin: 0.2em;color: black;border-radius: 0.25em;background-color: #f0f8ff;}#sk-container-id-1 input.sk-toggleable__control:checked~div.sk-toggleable__content {max-height: 200px;max-width: 100%;overflow: auto;}#sk-container-id-1 input.sk-toggleable__control:checked~label.sk-toggleable__label-arrow:before {content: \"▾\";}#sk-container-id-1 div.sk-estimator input.sk-toggleable__control:checked~label.sk-toggleable__label {background-color: #d4ebff;}#sk-container-id-1 div.sk-label input.sk-toggleable__control:checked~label.sk-toggleable__label {background-color: #d4ebff;}#sk-container-id-1 input.sk-hidden--visually {border: 0;clip: rect(1px 1px 1px 1px);clip: rect(1px, 1px, 1px, 1px);height: 1px;margin: -1px;overflow: hidden;padding: 0;position: absolute;width: 1px;}#sk-container-id-1 div.sk-estimator {font-family: monospace;background-color: #f0f8ff;border: 1px dotted black;border-radius: 0.25em;box-sizing: border-box;margin-bottom: 0.5em;}#sk-container-id-1 div.sk-estimator:hover {background-color: #d4ebff;}#sk-container-id-1 div.sk-parallel-item::after {content: \"\";width: 100%;border-bottom: 1px solid gray;flex-grow: 1;}#sk-container-id-1 div.sk-label:hover label.sk-toggleable__label {background-color: #d4ebff;}#sk-container-id-1 div.sk-serial::before {content: \"\";position: absolute;border-left: 1px solid gray;box-sizing: border-box;top: 0;bottom: 0;left: 50%;z-index: 0;}#sk-container-id-1 div.sk-serial {display: flex;flex-direction: column;align-items: center;background-color: white;padding-right: 0.2em;padding-left: 0.2em;position: relative;}#sk-container-id-1 div.sk-item {position: relative;z-index: 1;}#sk-container-id-1 div.sk-parallel {display: flex;align-items: stretch;justify-content: center;background-color: white;position: relative;}#sk-container-id-1 div.sk-item::before, #sk-container-id-1 div.sk-parallel-item::before {content: \"\";position: absolute;border-left: 1px solid gray;box-sizing: border-box;top: 0;bottom: 0;left: 50%;z-index: -1;}#sk-container-id-1 div.sk-parallel-item {display: flex;flex-direction: column;z-index: 1;position: relative;background-color: white;}#sk-container-id-1 div.sk-parallel-item:first-child::after {align-self: flex-end;width: 50%;}#sk-container-id-1 div.sk-parallel-item:last-child::after {align-self: flex-start;width: 50%;}#sk-container-id-1 div.sk-parallel-item:only-child::after {width: 0;}#sk-container-id-1 div.sk-dashed-wrapped {border: 1px dashed gray;margin: 0 0.4em 0.5em 0.4em;box-sizing: border-box;padding-bottom: 0.4em;background-color: white;}#sk-container-id-1 div.sk-label label {font-family: monospace;font-weight: bold;display: inline-block;line-height: 1.2em;}#sk-container-id-1 div.sk-label-container {text-align: center;}#sk-container-id-1 div.sk-container {/* jupyter's `normalize.less` sets `[hidden] { display: none; }` but bootstrap.min.css set `[hidden] { display: none !important; }` so we also need the `!important` here to be able to override the default hidden behavior on the sphinx rendered scikit-learn.org. See: https://github.com/scikit-learn/scikit-learn/issues/21755 */display: inline-block !important;position: relative;}#sk-container-id-1 div.sk-text-repr-fallback {display: none;}</style><div id=\"sk-container-id-1\" class=\"sk-top-container\"><div class=\"sk-text-repr-fallback\"><pre>DummyRegressor()</pre><b>In a Jupyter environment, please rerun this cell to show the HTML representation or trust the notebook. <br />On GitHub, the HTML representation is unable to render, please try loading this page with nbviewer.org.</b></div><div class=\"sk-container\" hidden><div class=\"sk-item\"><div class=\"sk-estimator sk-toggleable\"><input class=\"sk-toggleable__control sk-hidden--visually\" id=\"sk-estimator-id-1\" type=\"checkbox\" checked><label for=\"sk-estimator-id-1\" class=\"sk-toggleable__label sk-toggleable__label-arrow\">DummyRegressor</label><div class=\"sk-toggleable__content\"><pre>DummyRegressor()</pre></div></div></div></div></div>"
      ],
      "text/plain": [
       "DummyRegressor()"
      ]
     },
     "execution_count": 139,
     "metadata": {},
     "output_type": "execute_result"
    }
   ],
   "source": [
    "# Обучим его \n",
    "\n",
    "dummy_regr.fit(features_train, target_train)"
   ]
  },
  {
   "cell_type": "code",
   "execution_count": 140,
   "metadata": {},
   "outputs": [],
   "source": [
    "# Сделаем предсказания \n",
    "\n",
    "dummy_pred = dummy_regr.predict(features_test)"
   ]
  },
  {
   "cell_type": "code",
   "execution_count": 141,
   "metadata": {},
   "outputs": [
    {
     "name": "stdout",
     "output_type": "stream",
     "text": [
      "RMSE для модели DummyRegressor на тестовой выборке: 4516.27\n"
     ]
    }
   ],
   "source": [
    "# Посчитаем значение метрики RMSE на тестовой выборке для DummyRegressor\n",
    "\n",
    "dummy_rmse = mean_squared_error(target_test, dummy_pred)\n",
    "print(\"RMSE для модели DummyRegressor на тестовой выборке:\", round((dummy_rmse) ** 0.5, 2))"
   ]
  },
  {
   "cell_type": "markdown",
   "metadata": {},
   "source": [
    "Модель прошла проверку на адекватность, ее результат более чем в 2 раза превосходит  модели с заполнением средним значением."
   ]
  },
  {
   "cell_type": "markdown",
   "metadata": {},
   "source": [
    "**ИТОГОВЫЙ ВЫВОД:**\n",
    "\n",
    "Значение метрики на тестовой выборке для лучшей из выбранных моделей LightGBMRegressor 1716. "
   ]
  },
  {
   "cell_type": "code",
   "execution_count": null,
   "metadata": {},
   "outputs": [],
   "source": []
  }
 ],
 "metadata": {
  "ExecuteTimeLog": [
   {
    "duration": 56,
    "start_time": "2023-06-08T18:09:05.369Z"
   },
   {
    "duration": 1638,
    "start_time": "2023-06-08T18:09:13.140Z"
   },
   {
    "duration": 2,
    "start_time": "2023-06-08T18:09:16.835Z"
   },
   {
    "duration": 3298,
    "start_time": "2023-06-08T18:09:18.892Z"
   },
   {
    "duration": 17,
    "start_time": "2023-06-08T18:09:34.797Z"
   },
   {
    "duration": 123,
    "start_time": "2023-06-08T18:13:11.145Z"
   },
   {
    "duration": 1224,
    "start_time": "2023-06-08T18:16:57.853Z"
   },
   {
    "duration": 1201,
    "start_time": "2023-06-08T19:14:33.200Z"
   },
   {
    "duration": 12,
    "start_time": "2023-06-08T19:15:19.395Z"
   },
   {
    "duration": 4,
    "start_time": "2023-06-08T19:15:24.456Z"
   },
   {
    "duration": 795,
    "start_time": "2023-06-08T19:15:34.797Z"
   },
   {
    "duration": 780,
    "start_time": "2023-06-08T19:15:46.789Z"
   },
   {
    "duration": 108,
    "start_time": "2023-06-08T19:17:04.693Z"
   },
   {
    "duration": 79,
    "start_time": "2023-06-08T19:17:51.602Z"
   },
   {
    "duration": 341,
    "start_time": "2023-06-08T19:17:59.940Z"
   },
   {
    "duration": 1192,
    "start_time": "2023-06-08T19:21:46.861Z"
   },
   {
    "duration": 1185,
    "start_time": "2023-06-08T19:22:13.262Z"
   },
   {
    "duration": 114,
    "start_time": "2023-06-08T19:39:19.175Z"
   },
   {
    "duration": 106,
    "start_time": "2023-06-08T19:39:26.695Z"
   },
   {
    "duration": 13,
    "start_time": "2023-06-08T19:47:26.820Z"
   },
   {
    "duration": 10,
    "start_time": "2023-06-08T19:47:51.472Z"
   },
   {
    "duration": 1147,
    "start_time": "2023-06-08T19:47:56.224Z"
   },
   {
    "duration": 1139,
    "start_time": "2023-06-08T19:48:03.910Z"
   },
   {
    "duration": 41,
    "start_time": "2023-06-08T19:48:42.594Z"
   },
   {
    "duration": 6,
    "start_time": "2023-06-08T21:12:19.804Z"
   },
   {
    "duration": 655,
    "start_time": "2023-06-08T21:12:57.525Z"
   },
   {
    "duration": 661,
    "start_time": "2023-06-08T21:13:19.421Z"
   },
   {
    "duration": 620,
    "start_time": "2023-06-08T21:13:49.827Z"
   },
   {
    "duration": 65,
    "start_time": "2023-06-09T14:38:16.976Z"
   },
   {
    "duration": 1952,
    "start_time": "2023-06-09T14:38:25.978Z"
   },
   {
    "duration": 7,
    "start_time": "2023-06-09T14:38:27.932Z"
   },
   {
    "duration": 3914,
    "start_time": "2023-06-09T14:38:27.941Z"
   },
   {
    "duration": 23,
    "start_time": "2023-06-09T14:38:31.858Z"
   },
   {
    "duration": 276,
    "start_time": "2023-06-09T14:38:31.885Z"
   },
   {
    "duration": 84,
    "start_time": "2023-06-09T14:38:32.163Z"
   },
   {
    "duration": 1507,
    "start_time": "2023-06-09T14:38:32.250Z"
   },
   {
    "duration": 153,
    "start_time": "2023-06-09T14:38:33.759Z"
   },
   {
    "duration": 66,
    "start_time": "2023-06-09T14:38:33.926Z"
   },
   {
    "duration": 801,
    "start_time": "2023-06-09T14:38:33.994Z"
   },
   {
    "duration": 5,
    "start_time": "2023-06-09T14:39:36.381Z"
   },
   {
    "duration": 177,
    "start_time": "2023-06-09T14:41:50.219Z"
   },
   {
    "duration": 54,
    "start_time": "2023-06-09T14:42:01.655Z"
   },
   {
    "duration": 7,
    "start_time": "2023-06-09T14:42:08.536Z"
   },
   {
    "duration": 123,
    "start_time": "2023-06-09T14:51:11.924Z"
   },
   {
    "duration": 5,
    "start_time": "2023-06-09T14:51:26.778Z"
   },
   {
    "duration": 27,
    "start_time": "2023-06-09T15:05:14.453Z"
   },
   {
    "duration": 27,
    "start_time": "2023-06-09T15:06:19.865Z"
   },
   {
    "duration": 53,
    "start_time": "2023-06-09T15:11:23.010Z"
   },
   {
    "duration": 52,
    "start_time": "2023-06-09T15:14:16.004Z"
   },
   {
    "duration": 17,
    "start_time": "2023-06-09T15:24:21.563Z"
   },
   {
    "duration": 55,
    "start_time": "2023-06-09T17:50:31.206Z"
   },
   {
    "duration": 1674,
    "start_time": "2023-06-09T17:50:36.454Z"
   },
   {
    "duration": 2,
    "start_time": "2023-06-09T17:50:38.130Z"
   },
   {
    "duration": 3372,
    "start_time": "2023-06-09T17:50:38.134Z"
   },
   {
    "duration": 17,
    "start_time": "2023-06-09T17:50:41.509Z"
   },
   {
    "duration": 166,
    "start_time": "2023-06-09T17:50:41.528Z"
   },
   {
    "duration": 1249,
    "start_time": "2023-06-09T17:50:41.699Z"
   },
   {
    "duration": 170,
    "start_time": "2023-06-09T17:50:42.949Z"
   },
   {
    "duration": 652,
    "start_time": "2023-06-09T17:50:43.121Z"
   },
   {
    "duration": 10,
    "start_time": "2023-06-09T17:50:43.775Z"
   },
   {
    "duration": 40,
    "start_time": "2023-06-09T17:50:43.787Z"
   },
   {
    "duration": 95,
    "start_time": "2023-06-09T17:50:43.828Z"
   },
   {
    "duration": 38,
    "start_time": "2023-06-09T17:50:43.925Z"
   },
   {
    "duration": 29,
    "start_time": "2023-06-09T17:50:47.929Z"
   },
   {
    "duration": 163,
    "start_time": "2023-06-09T17:51:05.535Z"
   },
   {
    "duration": 54,
    "start_time": "2023-06-09T17:51:15.619Z"
   },
   {
    "duration": 67,
    "start_time": "2023-06-09T17:51:38.967Z"
   },
   {
    "duration": 4,
    "start_time": "2023-06-09T17:53:22.409Z"
   },
   {
    "duration": 265,
    "start_time": "2023-06-09T17:55:23.529Z"
   },
   {
    "duration": 23,
    "start_time": "2023-06-09T17:56:12.166Z"
   },
   {
    "duration": 310,
    "start_time": "2023-06-09T18:56:33.551Z"
   },
   {
    "duration": 14,
    "start_time": "2023-06-09T19:01:02.448Z"
   },
   {
    "duration": 13,
    "start_time": "2023-06-09T19:01:19.226Z"
   },
   {
    "duration": 52,
    "start_time": "2023-06-09T19:01:48.472Z"
   },
   {
    "duration": 53,
    "start_time": "2023-06-09T19:02:44.551Z"
   },
   {
    "duration": 16,
    "start_time": "2023-06-09T19:03:23.598Z"
   },
   {
    "duration": 38,
    "start_time": "2023-06-09T19:04:09.295Z"
   },
   {
    "duration": 17,
    "start_time": "2023-06-09T19:04:11.919Z"
   },
   {
    "duration": 30,
    "start_time": "2023-06-09T19:04:25.943Z"
   },
   {
    "duration": 45,
    "start_time": "2023-06-09T19:09:56.103Z"
   },
   {
    "duration": 46,
    "start_time": "2023-06-09T19:15:01.175Z"
   },
   {
    "duration": 44,
    "start_time": "2023-06-09T19:15:47.319Z"
   },
   {
    "duration": 41,
    "start_time": "2023-06-09T19:16:00.342Z"
   },
   {
    "duration": 25,
    "start_time": "2023-06-09T19:16:21.079Z"
   },
   {
    "duration": 36,
    "start_time": "2023-06-09T19:16:31.181Z"
   },
   {
    "duration": 6,
    "start_time": "2023-06-09T19:16:47.658Z"
   },
   {
    "duration": 10,
    "start_time": "2023-06-09T19:17:36.687Z"
   },
   {
    "duration": 179,
    "start_time": "2023-06-09T19:17:58.023Z"
   },
   {
    "duration": 6,
    "start_time": "2023-06-09T19:18:06.252Z"
   },
   {
    "duration": 34,
    "start_time": "2023-06-09T19:30:02.065Z"
   },
   {
    "duration": 24,
    "start_time": "2023-06-09T19:30:17.971Z"
   },
   {
    "duration": 104,
    "start_time": "2023-06-09T19:35:56.742Z"
   },
   {
    "duration": 110,
    "start_time": "2023-06-09T19:36:01.501Z"
   },
   {
    "duration": 58,
    "start_time": "2023-06-09T19:38:51.133Z"
   },
   {
    "duration": 253,
    "start_time": "2023-06-09T19:39:23.119Z"
   },
   {
    "duration": 287,
    "start_time": "2023-06-09T19:42:56.104Z"
   },
   {
    "duration": 10,
    "start_time": "2023-06-09T19:43:38.743Z"
   },
   {
    "duration": 25,
    "start_time": "2023-06-09T19:43:49.868Z"
   },
   {
    "duration": 430,
    "start_time": "2023-06-09T19:45:42.339Z"
   },
   {
    "duration": 281,
    "start_time": "2023-06-09T19:55:08.505Z"
   },
   {
    "duration": 16,
    "start_time": "2023-06-09T19:55:12.491Z"
   },
   {
    "duration": 107,
    "start_time": "2023-06-09T19:55:25.117Z"
   },
   {
    "duration": 30,
    "start_time": "2023-06-09T20:38:42.164Z"
   },
   {
    "duration": 22,
    "start_time": "2023-06-09T20:53:25.367Z"
   },
   {
    "duration": 7,
    "start_time": "2023-06-09T20:55:08.387Z"
   },
   {
    "duration": 80,
    "start_time": "2023-06-09T21:06:19.932Z"
   },
   {
    "duration": 4,
    "start_time": "2023-06-09T21:06:37.759Z"
   },
   {
    "duration": 50,
    "start_time": "2023-06-09T21:09:10.148Z"
   },
   {
    "duration": 59,
    "start_time": "2023-06-09T21:10:54.039Z"
   },
   {
    "duration": 6,
    "start_time": "2023-06-09T21:11:04.813Z"
   },
   {
    "duration": 1649,
    "start_time": "2023-06-10T14:27:33.379Z"
   },
   {
    "duration": 2,
    "start_time": "2023-06-10T14:27:35.030Z"
   },
   {
    "duration": 2836,
    "start_time": "2023-06-10T14:27:35.034Z"
   },
   {
    "duration": 17,
    "start_time": "2023-06-10T14:27:37.872Z"
   },
   {
    "duration": 123,
    "start_time": "2023-06-10T14:27:37.891Z"
   },
   {
    "duration": 1062,
    "start_time": "2023-06-10T14:27:38.016Z"
   },
   {
    "duration": 142,
    "start_time": "2023-06-10T14:27:39.080Z"
   },
   {
    "duration": 595,
    "start_time": "2023-06-10T14:27:39.224Z"
   },
   {
    "duration": 261,
    "start_time": "2023-06-10T14:27:39.821Z"
   },
   {
    "duration": 4,
    "start_time": "2023-06-10T14:27:40.084Z"
   },
   {
    "duration": 42,
    "start_time": "2023-06-10T14:27:40.090Z"
   },
   {
    "duration": 87,
    "start_time": "2023-06-10T14:27:40.134Z"
   },
   {
    "duration": 297,
    "start_time": "2023-06-10T14:27:40.223Z"
   },
   {
    "duration": 14,
    "start_time": "2023-06-10T14:27:40.523Z"
   },
   {
    "duration": 37,
    "start_time": "2023-06-10T14:27:40.538Z"
   },
   {
    "duration": 31,
    "start_time": "2023-06-10T14:27:40.577Z"
   },
   {
    "duration": 28,
    "start_time": "2023-06-10T14:27:40.610Z"
   },
   {
    "duration": 25,
    "start_time": "2023-06-10T14:27:40.639Z"
   },
   {
    "duration": 93,
    "start_time": "2023-06-10T14:27:40.665Z"
   },
   {
    "duration": 55,
    "start_time": "2023-06-10T14:28:03.572Z"
   },
   {
    "duration": 264,
    "start_time": "2023-06-10T14:28:29.337Z"
   },
   {
    "duration": 3,
    "start_time": "2023-06-10T14:29:10.958Z"
   },
   {
    "duration": 5,
    "start_time": "2023-06-10T14:29:49.423Z"
   },
   {
    "duration": 32,
    "start_time": "2023-06-10T14:30:14.206Z"
   },
   {
    "duration": 109,
    "start_time": "2023-06-10T14:32:03.280Z"
   },
   {
    "duration": 21,
    "start_time": "2023-06-10T14:32:19.564Z"
   },
   {
    "duration": 123,
    "start_time": "2023-06-10T14:35:05.965Z"
   },
   {
    "duration": 319,
    "start_time": "2023-06-10T14:35:16.048Z"
   },
   {
    "duration": 259,
    "start_time": "2023-06-10T14:35:22.938Z"
   },
   {
    "duration": 26,
    "start_time": "2023-06-10T14:40:46.838Z"
   },
   {
    "duration": 8,
    "start_time": "2023-06-10T19:17:56.903Z"
   },
   {
    "duration": 1724,
    "start_time": "2023-06-10T19:26:29.911Z"
   },
   {
    "duration": 3,
    "start_time": "2023-06-10T19:26:31.638Z"
   },
   {
    "duration": 1490,
    "start_time": "2023-06-10T19:26:31.643Z"
   },
   {
    "duration": 100,
    "start_time": "2023-06-10T19:26:33.135Z"
   },
   {
    "duration": 157,
    "start_time": "2023-06-10T19:26:33.237Z"
   },
   {
    "duration": 1164,
    "start_time": "2023-06-10T19:26:33.396Z"
   },
   {
    "duration": 136,
    "start_time": "2023-06-10T19:26:34.563Z"
   },
   {
    "duration": 688,
    "start_time": "2023-06-10T19:26:34.701Z"
   },
   {
    "duration": 358,
    "start_time": "2023-06-10T19:26:35.391Z"
   },
   {
    "duration": 4,
    "start_time": "2023-06-10T19:26:35.752Z"
   },
   {
    "duration": 83,
    "start_time": "2023-06-10T19:26:35.758Z"
   },
   {
    "duration": 120,
    "start_time": "2023-06-10T19:26:35.843Z"
   },
   {
    "duration": 331,
    "start_time": "2023-06-10T19:26:35.966Z"
   },
   {
    "duration": 17,
    "start_time": "2023-06-10T19:26:36.299Z"
   },
   {
    "duration": 61,
    "start_time": "2023-06-10T19:26:36.319Z"
   },
   {
    "duration": 51,
    "start_time": "2023-06-10T19:26:36.381Z"
   },
   {
    "duration": 58,
    "start_time": "2023-06-10T19:26:36.434Z"
   },
   {
    "duration": 41,
    "start_time": "2023-06-10T19:26:36.494Z"
   },
   {
    "duration": 151,
    "start_time": "2023-06-10T19:26:36.537Z"
   },
   {
    "duration": 31,
    "start_time": "2023-06-10T19:27:27.276Z"
   },
   {
    "duration": 119,
    "start_time": "2023-06-10T19:31:00.192Z"
   },
   {
    "duration": 56,
    "start_time": "2023-06-10T19:34:29.223Z"
   },
   {
    "duration": 11,
    "start_time": "2023-06-10T19:34:51.620Z"
   },
   {
    "duration": 147,
    "start_time": "2023-06-10T19:34:59.719Z"
   },
   {
    "duration": 59,
    "start_time": "2023-06-10T19:35:30.607Z"
   },
   {
    "duration": 139,
    "start_time": "2023-06-10T19:37:45.233Z"
   },
   {
    "duration": 137,
    "start_time": "2023-06-10T19:40:41.706Z"
   },
   {
    "duration": 12,
    "start_time": "2023-06-10T19:41:04.635Z"
   },
   {
    "duration": 140,
    "start_time": "2023-06-10T19:46:32.760Z"
   },
   {
    "duration": 11,
    "start_time": "2023-06-10T19:47:12.758Z"
   },
   {
    "duration": 34,
    "start_time": "2023-06-10T19:50:02.694Z"
   },
   {
    "duration": 16,
    "start_time": "2023-06-10T19:54:20.624Z"
   },
   {
    "duration": 10,
    "start_time": "2023-06-10T19:55:01.670Z"
   },
   {
    "duration": 11,
    "start_time": "2023-06-10T19:55:12.295Z"
   },
   {
    "duration": 65,
    "start_time": "2023-06-10T20:33:44.724Z"
   },
   {
    "duration": 55,
    "start_time": "2023-06-10T20:34:02.570Z"
   },
   {
    "duration": 64,
    "start_time": "2023-06-10T20:34:43.139Z"
   },
   {
    "duration": 142,
    "start_time": "2023-06-10T20:34:53.675Z"
   },
   {
    "duration": 74,
    "start_time": "2023-06-10T20:36:24.197Z"
   },
   {
    "duration": 71,
    "start_time": "2023-06-10T20:37:00.083Z"
   },
   {
    "duration": 84,
    "start_time": "2023-06-10T20:37:52.571Z"
   },
   {
    "duration": 34,
    "start_time": "2023-06-10T20:38:48.454Z"
   },
   {
    "duration": 145,
    "start_time": "2023-06-10T20:40:49.803Z"
   },
   {
    "duration": 37,
    "start_time": "2023-06-10T20:42:19.167Z"
   },
   {
    "duration": 25,
    "start_time": "2023-06-10T20:43:20.415Z"
   },
   {
    "duration": 68271,
    "start_time": "2023-06-10T20:54:43.147Z"
   },
   {
    "duration": 12,
    "start_time": "2023-06-10T21:05:50.828Z"
   },
   {
    "duration": 55461,
    "start_time": "2023-06-10T21:07:13.676Z"
   },
   {
    "duration": 519,
    "start_time": "2023-06-10T21:08:39.585Z"
   },
   {
    "duration": 293402,
    "start_time": "2023-06-10T21:09:43.633Z"
   },
   {
    "duration": 40,
    "start_time": "2023-06-10T21:19:35.078Z"
   },
   {
    "duration": 48,
    "start_time": "2023-06-10T21:23:00.097Z"
   },
   {
    "duration": 26,
    "start_time": "2023-06-10T21:23:08.991Z"
   },
   {
    "duration": 2644,
    "start_time": "2023-06-12T17:38:17.592Z"
   },
   {
    "duration": 3,
    "start_time": "2023-06-12T17:38:20.238Z"
   },
   {
    "duration": 4244,
    "start_time": "2023-06-12T17:38:20.244Z"
   },
   {
    "duration": 144,
    "start_time": "2023-06-12T17:38:24.490Z"
   },
   {
    "duration": 346,
    "start_time": "2023-06-12T17:38:24.638Z"
   },
   {
    "duration": 1900,
    "start_time": "2023-06-12T17:38:24.990Z"
   },
   {
    "duration": 189,
    "start_time": "2023-06-12T17:38:26.897Z"
   },
   {
    "duration": 1330,
    "start_time": "2023-06-12T17:38:27.091Z"
   },
   {
    "duration": 499,
    "start_time": "2023-06-12T17:38:28.429Z"
   },
   {
    "duration": 17,
    "start_time": "2023-06-12T17:38:28.934Z"
   },
   {
    "duration": 183,
    "start_time": "2023-06-12T17:38:28.954Z"
   },
   {
    "duration": 340,
    "start_time": "2023-06-12T17:38:29.140Z"
   },
   {
    "duration": 469,
    "start_time": "2023-06-12T17:38:29.482Z"
   },
   {
    "duration": 30,
    "start_time": "2023-06-12T17:38:29.959Z"
   },
   {
    "duration": 185,
    "start_time": "2023-06-12T17:38:30.001Z"
   },
   {
    "duration": 232,
    "start_time": "2023-06-12T17:38:30.196Z"
   },
   {
    "duration": 182,
    "start_time": "2023-06-12T17:38:30.441Z"
   },
   {
    "duration": 188,
    "start_time": "2023-06-12T17:38:30.630Z"
   },
   {
    "duration": 433,
    "start_time": "2023-06-12T17:38:30.826Z"
   },
   {
    "duration": 200,
    "start_time": "2023-06-12T17:38:53.412Z"
   },
   {
    "duration": 66,
    "start_time": "2023-06-12T17:39:05.531Z"
   },
   {
    "duration": 110837,
    "start_time": "2023-06-12T17:43:39.053Z"
   },
   {
    "duration": 115,
    "start_time": "2023-06-12T17:46:26.399Z"
   },
   {
    "duration": 73,
    "start_time": "2023-06-12T17:47:42.147Z"
   },
   {
    "duration": 57,
    "start_time": "2023-06-12T18:20:16.006Z"
   },
   {
    "duration": 2120,
    "start_time": "2023-06-12T18:20:32.155Z"
   },
   {
    "duration": 3,
    "start_time": "2023-06-12T18:20:34.278Z"
   },
   {
    "duration": 2144,
    "start_time": "2023-06-12T18:20:34.283Z"
   },
   {
    "duration": 29,
    "start_time": "2023-06-12T18:20:36.435Z"
   },
   {
    "duration": 277,
    "start_time": "2023-06-12T18:20:36.466Z"
   },
   {
    "duration": 1179,
    "start_time": "2023-06-12T18:20:36.746Z"
   },
   {
    "duration": 134,
    "start_time": "2023-06-12T18:20:37.927Z"
   },
   {
    "duration": 596,
    "start_time": "2023-06-12T18:20:38.064Z"
   },
   {
    "duration": 327,
    "start_time": "2023-06-12T18:20:38.661Z"
   },
   {
    "duration": 6,
    "start_time": "2023-06-12T18:20:38.989Z"
   },
   {
    "duration": 65,
    "start_time": "2023-06-12T18:20:38.997Z"
   },
   {
    "duration": 75,
    "start_time": "2023-06-12T18:20:39.063Z"
   },
   {
    "duration": 311,
    "start_time": "2023-06-12T18:20:39.139Z"
   },
   {
    "duration": 19,
    "start_time": "2023-06-12T18:20:39.453Z"
   },
   {
    "duration": 58,
    "start_time": "2023-06-12T18:20:39.474Z"
   },
   {
    "duration": 34,
    "start_time": "2023-06-12T18:20:39.533Z"
   },
   {
    "duration": 49,
    "start_time": "2023-06-12T18:20:39.569Z"
   },
   {
    "duration": 35,
    "start_time": "2023-06-12T18:20:39.620Z"
   },
   {
    "duration": 164,
    "start_time": "2023-06-12T18:20:39.657Z"
   },
   {
    "duration": 744,
    "start_time": "2023-06-12T18:20:39.825Z"
   },
   {
    "duration": 63,
    "start_time": "2023-06-12T18:20:40.571Z"
   },
   {
    "duration": 41,
    "start_time": "2023-06-12T18:20:40.638Z"
   },
   {
    "duration": 43390,
    "start_time": "2023-06-12T18:20:40.681Z"
   },
   {
    "duration": 51,
    "start_time": "2023-06-12T18:21:24.072Z"
   },
   {
    "duration": 217892,
    "start_time": "2023-06-12T18:25:00.478Z"
   },
   {
    "duration": 22,
    "start_time": "2023-06-12T18:29:34.820Z"
   },
   {
    "duration": 1407,
    "start_time": "2023-06-12T18:31:06.485Z"
   },
   {
    "duration": 9,
    "start_time": "2023-06-12T18:31:07.897Z"
   },
   {
    "duration": 764,
    "start_time": "2023-06-12T18:31:07.910Z"
   },
   {
    "duration": 24,
    "start_time": "2023-06-12T18:31:08.675Z"
   },
   {
    "duration": 143,
    "start_time": "2023-06-12T18:31:08.701Z"
   },
   {
    "duration": 832,
    "start_time": "2023-06-12T18:31:08.846Z"
   },
   {
    "duration": 113,
    "start_time": "2023-06-12T18:31:09.680Z"
   },
   {
    "duration": 457,
    "start_time": "2023-06-12T18:31:09.796Z"
   },
   {
    "duration": 392,
    "start_time": "2023-06-12T18:31:10.254Z"
   },
   {
    "duration": 4,
    "start_time": "2023-06-12T18:31:10.648Z"
   },
   {
    "duration": 74,
    "start_time": "2023-06-12T18:31:10.653Z"
   },
   {
    "duration": 74,
    "start_time": "2023-06-12T18:31:10.728Z"
   },
   {
    "duration": 264,
    "start_time": "2023-06-12T18:31:10.803Z"
   },
   {
    "duration": 13,
    "start_time": "2023-06-12T18:31:11.070Z"
   },
   {
    "duration": 55,
    "start_time": "2023-06-12T18:31:11.084Z"
   },
   {
    "duration": 28,
    "start_time": "2023-06-12T18:31:11.141Z"
   },
   {
    "duration": 35,
    "start_time": "2023-06-12T18:31:11.171Z"
   },
   {
    "duration": 29,
    "start_time": "2023-06-12T18:31:11.207Z"
   },
   {
    "duration": 101,
    "start_time": "2023-06-12T18:31:11.238Z"
   },
   {
    "duration": 544,
    "start_time": "2023-06-12T18:31:11.340Z"
   },
   {
    "duration": 50,
    "start_time": "2023-06-12T18:31:11.887Z"
   },
   {
    "duration": 25,
    "start_time": "2023-06-12T18:31:11.938Z"
   },
   {
    "duration": 37073,
    "start_time": "2023-06-12T18:31:11.964Z"
   },
   {
    "duration": 25,
    "start_time": "2023-06-12T18:31:49.039Z"
   },
   {
    "duration": 44,
    "start_time": "2023-06-12T18:31:49.066Z"
   },
   {
    "duration": 219485,
    "start_time": "2023-06-12T18:32:18.561Z"
   },
   {
    "duration": 35,
    "start_time": "2023-06-12T18:36:55.116Z"
   },
   {
    "duration": 1723,
    "start_time": "2023-06-12T18:38:01.428Z"
   },
   {
    "duration": 2,
    "start_time": "2023-06-12T18:38:03.153Z"
   },
   {
    "duration": 859,
    "start_time": "2023-06-12T18:38:03.156Z"
   },
   {
    "duration": 21,
    "start_time": "2023-06-12T18:38:04.017Z"
   },
   {
    "duration": 161,
    "start_time": "2023-06-12T18:38:04.039Z"
   },
   {
    "duration": 969,
    "start_time": "2023-06-12T18:38:04.202Z"
   },
   {
    "duration": 128,
    "start_time": "2023-06-12T18:38:05.173Z"
   },
   {
    "duration": 565,
    "start_time": "2023-06-12T18:38:05.303Z"
   },
   {
    "duration": 346,
    "start_time": "2023-06-12T18:38:05.870Z"
   },
   {
    "duration": 7,
    "start_time": "2023-06-12T18:38:06.217Z"
   },
   {
    "duration": 67,
    "start_time": "2023-06-12T18:38:06.225Z"
   },
   {
    "duration": 122,
    "start_time": "2023-06-12T18:38:06.293Z"
   },
   {
    "duration": 296,
    "start_time": "2023-06-12T18:38:06.419Z"
   },
   {
    "duration": 13,
    "start_time": "2023-06-12T18:38:06.726Z"
   },
   {
    "duration": 26,
    "start_time": "2023-06-12T18:38:06.740Z"
   },
   {
    "duration": 48,
    "start_time": "2023-06-12T18:38:06.767Z"
   },
   {
    "duration": 31,
    "start_time": "2023-06-12T18:38:06.816Z"
   },
   {
    "duration": 15,
    "start_time": "2023-06-12T18:38:06.848Z"
   },
   {
    "duration": 102,
    "start_time": "2023-06-12T18:38:06.864Z"
   },
   {
    "duration": 610,
    "start_time": "2023-06-12T18:38:06.968Z"
   },
   {
    "duration": 58,
    "start_time": "2023-06-12T18:38:07.579Z"
   },
   {
    "duration": 24,
    "start_time": "2023-06-12T18:38:07.638Z"
   },
   {
    "duration": 39369,
    "start_time": "2023-06-12T18:38:07.663Z"
   },
   {
    "duration": 24,
    "start_time": "2023-06-12T18:38:47.034Z"
   },
   {
    "duration": 43,
    "start_time": "2023-06-12T18:38:47.060Z"
   },
   {
    "duration": 257055,
    "start_time": "2023-06-12T18:38:47.104Z"
   },
   {
    "duration": 45,
    "start_time": "2023-06-12T18:43:04.161Z"
   },
   {
    "duration": 23,
    "start_time": "2023-06-12T18:45:12.652Z"
   },
   {
    "duration": 240316,
    "start_time": "2023-06-12T18:45:40.727Z"
   },
   {
    "duration": 24,
    "start_time": "2023-06-12T18:50:12.171Z"
   },
   {
    "duration": 13,
    "start_time": "2023-06-12T18:51:03.019Z"
   },
   {
    "duration": 16,
    "start_time": "2023-06-12T18:57:11.246Z"
   },
   {
    "duration": 26,
    "start_time": "2023-06-12T18:58:03.112Z"
   },
   {
    "duration": 21,
    "start_time": "2023-06-12T18:58:12.827Z"
   },
   {
    "duration": 25,
    "start_time": "2023-06-12T18:58:19.612Z"
   },
   {
    "duration": 16,
    "start_time": "2023-06-12T18:58:35.715Z"
   },
   {
    "duration": 14,
    "start_time": "2023-06-12T18:59:28.503Z"
   },
   {
    "duration": 10,
    "start_time": "2023-06-12T18:59:52.043Z"
   },
   {
    "duration": 11,
    "start_time": "2023-06-12T19:00:17.611Z"
   },
   {
    "duration": 11,
    "start_time": "2023-06-12T19:00:58.017Z"
   },
   {
    "duration": 6,
    "start_time": "2023-06-12T19:01:17.453Z"
   },
   {
    "duration": 16,
    "start_time": "2023-06-12T19:01:57.725Z"
   },
   {
    "duration": 13,
    "start_time": "2023-06-12T19:03:12.111Z"
   },
   {
    "duration": 26,
    "start_time": "2023-06-12T19:03:48.583Z"
   },
   {
    "duration": 29,
    "start_time": "2023-06-12T19:04:32.273Z"
   },
   {
    "duration": 23,
    "start_time": "2023-06-12T19:04:51.615Z"
   },
   {
    "duration": 10,
    "start_time": "2023-06-12T19:09:42.209Z"
   },
   {
    "duration": 10,
    "start_time": "2023-06-12T19:10:46.873Z"
   },
   {
    "duration": 10,
    "start_time": "2023-06-12T19:11:20.533Z"
   },
   {
    "duration": 11,
    "start_time": "2023-06-12T19:12:17.571Z"
   },
   {
    "duration": 16,
    "start_time": "2023-06-12T19:12:22.322Z"
   },
   {
    "duration": 22,
    "start_time": "2023-06-12T19:14:23.073Z"
   },
   {
    "duration": 115,
    "start_time": "2023-06-12T19:15:09.809Z"
   },
   {
    "duration": 22,
    "start_time": "2023-06-12T19:23:16.453Z"
   },
   {
    "duration": 39,
    "start_time": "2023-06-12T19:26:31.519Z"
   },
   {
    "duration": 7,
    "start_time": "2023-06-12T19:27:10.920Z"
   },
   {
    "duration": 22,
    "start_time": "2023-06-12T19:29:41.112Z"
   },
   {
    "duration": 20,
    "start_time": "2023-06-12T19:30:41.762Z"
   },
   {
    "duration": 17,
    "start_time": "2023-06-12T19:31:24.027Z"
   },
   {
    "duration": 22,
    "start_time": "2023-06-12T19:33:56.339Z"
   },
   {
    "duration": 133,
    "start_time": "2023-06-12T19:40:07.631Z"
   },
   {
    "duration": 8228,
    "start_time": "2023-06-12T19:40:30.944Z"
   },
   {
    "duration": 7,
    "start_time": "2023-06-12T19:41:09.745Z"
   },
   {
    "duration": 14,
    "start_time": "2023-06-12T19:43:01.823Z"
   },
   {
    "duration": 14,
    "start_time": "2023-06-12T19:43:23.131Z"
   },
   {
    "duration": 20,
    "start_time": "2023-06-12T19:43:45.184Z"
   },
   {
    "duration": 16,
    "start_time": "2023-06-12T19:43:59.828Z"
   },
   {
    "duration": 20,
    "start_time": "2023-06-12T19:45:39.415Z"
   },
   {
    "duration": 45,
    "start_time": "2023-06-12T19:45:51.803Z"
   },
   {
    "duration": 116,
    "start_time": "2023-06-12T19:45:59.211Z"
   },
   {
    "duration": 9,
    "start_time": "2023-06-12T19:48:46.631Z"
   },
   {
    "duration": 35,
    "start_time": "2023-06-12T19:49:33.361Z"
   },
   {
    "duration": 36,
    "start_time": "2023-06-12T19:53:53.563Z"
   },
   {
    "duration": 308,
    "start_time": "2023-06-12T20:01:08.903Z"
   },
   {
    "duration": 136,
    "start_time": "2023-06-12T20:23:10.903Z"
   },
   {
    "duration": 11,
    "start_time": "2023-06-12T20:23:22.700Z"
   },
   {
    "duration": 9,
    "start_time": "2023-06-12T20:23:48.710Z"
   },
   {
    "duration": 8,
    "start_time": "2023-06-12T20:23:58.500Z"
   },
   {
    "duration": 5,
    "start_time": "2023-06-12T20:24:33.156Z"
   },
   {
    "duration": 161,
    "start_time": "2023-06-12T20:25:42.065Z"
   },
   {
    "duration": 5,
    "start_time": "2023-06-12T20:25:49.304Z"
   },
   {
    "duration": 73,
    "start_time": "2023-06-12T20:26:06.364Z"
   },
   {
    "duration": 5,
    "start_time": "2023-06-12T20:26:08.283Z"
   },
   {
    "duration": 1345,
    "start_time": "2023-06-12T20:52:08.567Z"
   },
   {
    "duration": 3,
    "start_time": "2023-06-12T20:52:09.914Z"
   },
   {
    "duration": 778,
    "start_time": "2023-06-12T20:52:09.919Z"
   },
   {
    "duration": 24,
    "start_time": "2023-06-12T20:52:10.699Z"
   },
   {
    "duration": 143,
    "start_time": "2023-06-12T20:52:10.725Z"
   },
   {
    "duration": 893,
    "start_time": "2023-06-12T20:52:10.869Z"
   },
   {
    "duration": 114,
    "start_time": "2023-06-12T20:52:11.764Z"
   },
   {
    "duration": 449,
    "start_time": "2023-06-12T20:52:11.879Z"
   },
   {
    "duration": 257,
    "start_time": "2023-06-12T20:52:12.330Z"
   },
   {
    "duration": 18,
    "start_time": "2023-06-12T20:52:12.589Z"
   },
   {
    "duration": 59,
    "start_time": "2023-06-12T20:52:12.609Z"
   },
   {
    "duration": 364,
    "start_time": "2023-06-12T20:53:53.799Z"
   },
   {
    "duration": 103,
    "start_time": "2023-06-12T20:54:23.599Z"
   },
   {
    "duration": 40,
    "start_time": "2023-06-12T20:54:45.065Z"
   },
   {
    "duration": 38,
    "start_time": "2023-06-12T20:54:59.327Z"
   },
   {
    "duration": 95,
    "start_time": "2023-06-12T20:56:21.355Z"
   },
   {
    "duration": 11,
    "start_time": "2023-06-12T21:00:14.320Z"
   },
   {
    "duration": 15,
    "start_time": "2023-06-12T21:00:29.534Z"
   },
   {
    "duration": 20,
    "start_time": "2023-06-12T21:00:56.010Z"
   },
   {
    "duration": 18,
    "start_time": "2023-06-12T21:02:06.218Z"
   },
   {
    "duration": 55,
    "start_time": "2023-06-12T21:02:11.843Z"
   },
   {
    "duration": 30,
    "start_time": "2023-06-12T21:03:21.868Z"
   },
   {
    "duration": 25,
    "start_time": "2023-06-12T21:11:11.178Z"
   },
   {
    "duration": 27,
    "start_time": "2023-06-12T21:14:05.482Z"
   },
   {
    "duration": 17,
    "start_time": "2023-06-12T21:15:45.750Z"
   },
   {
    "duration": 8,
    "start_time": "2023-06-12T21:36:42.167Z"
   },
   {
    "duration": 11,
    "start_time": "2023-06-12T21:40:44.851Z"
   },
   {
    "duration": 8,
    "start_time": "2023-06-12T21:53:00.031Z"
   },
   {
    "duration": 6,
    "start_time": "2023-06-12T21:54:26.733Z"
   },
   {
    "duration": 17,
    "start_time": "2023-06-12T22:01:16.560Z"
   },
   {
    "duration": 15,
    "start_time": "2023-06-12T22:22:54.066Z"
   },
   {
    "duration": 4,
    "start_time": "2023-06-12T22:24:11.698Z"
   },
   {
    "duration": 21,
    "start_time": "2023-06-12T22:25:39.713Z"
   },
   {
    "duration": 3,
    "start_time": "2023-06-12T22:25:52.697Z"
   },
   {
    "duration": 53,
    "start_time": "2023-06-12T22:38:15.305Z"
   },
   {
    "duration": 3,
    "start_time": "2023-06-12T22:38:24.022Z"
   },
   {
    "duration": 5,
    "start_time": "2023-06-12T22:39:05.064Z"
   },
   {
    "duration": 9,
    "start_time": "2023-06-12T22:39:17.379Z"
   },
   {
    "duration": 6,
    "start_time": "2023-06-12T22:39:23.504Z"
   },
   {
    "duration": 7,
    "start_time": "2023-06-12T22:39:49.422Z"
   },
   {
    "duration": 7,
    "start_time": "2023-06-12T22:41:32.080Z"
   },
   {
    "duration": 66,
    "start_time": "2023-06-12T22:48:52.281Z"
   },
   {
    "duration": 9,
    "start_time": "2023-06-12T22:56:48.436Z"
   },
   {
    "duration": 4,
    "start_time": "2023-06-12T22:58:13.291Z"
   },
   {
    "duration": 6,
    "start_time": "2023-06-12T22:58:40.639Z"
   },
   {
    "duration": 39,
    "start_time": "2023-06-12T23:00:09.414Z"
   },
   {
    "duration": 9,
    "start_time": "2023-06-12T23:01:06.146Z"
   },
   {
    "duration": 39,
    "start_time": "2023-06-12T23:01:57.235Z"
   },
   {
    "duration": 44,
    "start_time": "2023-06-12T23:02:02.051Z"
   },
   {
    "duration": 14,
    "start_time": "2023-06-12T23:02:57.484Z"
   },
   {
    "duration": 1258,
    "start_time": "2023-06-12T23:05:53.951Z"
   },
   {
    "duration": 3,
    "start_time": "2023-06-12T23:05:55.211Z"
   },
   {
    "duration": 713,
    "start_time": "2023-06-12T23:05:55.215Z"
   },
   {
    "duration": 17,
    "start_time": "2023-06-12T23:05:55.929Z"
   },
   {
    "duration": 119,
    "start_time": "2023-06-12T23:05:55.948Z"
   },
   {
    "duration": 805,
    "start_time": "2023-06-12T23:05:56.068Z"
   },
   {
    "duration": 10,
    "start_time": "2023-06-12T23:05:56.874Z"
   },
   {
    "duration": 36,
    "start_time": "2023-06-12T23:05:56.885Z"
   },
   {
    "duration": 270,
    "start_time": "2023-06-12T23:05:56.923Z"
   },
   {
    "duration": 17,
    "start_time": "2023-06-12T23:05:57.194Z"
   },
   {
    "duration": 5,
    "start_time": "2023-06-12T23:05:57.213Z"
   },
   {
    "duration": 28,
    "start_time": "2023-06-12T23:05:57.219Z"
   },
   {
    "duration": 44,
    "start_time": "2023-06-12T23:05:57.248Z"
   },
   {
    "duration": 59,
    "start_time": "2023-06-12T23:05:57.294Z"
   },
   {
    "duration": 74,
    "start_time": "2023-06-12T23:05:57.354Z"
   },
   {
    "duration": 38,
    "start_time": "2023-06-12T23:05:57.429Z"
   },
   {
    "duration": 227,
    "start_time": "2023-06-12T23:05:57.468Z"
   },
   {
    "duration": 13,
    "start_time": "2023-06-12T23:05:57.696Z"
   },
   {
    "duration": 25,
    "start_time": "2023-06-12T23:05:57.711Z"
   },
   {
    "duration": 39,
    "start_time": "2023-06-12T23:05:57.738Z"
   },
   {
    "duration": 21,
    "start_time": "2023-06-12T23:05:57.778Z"
   },
   {
    "duration": 63,
    "start_time": "2023-06-12T23:06:02.584Z"
   },
   {
    "duration": 349,
    "start_time": "2023-06-12T23:06:53.970Z"
   },
   {
    "duration": 34,
    "start_time": "2023-06-12T23:06:58.487Z"
   },
   {
    "duration": 22,
    "start_time": "2023-06-12T23:07:01.596Z"
   },
   {
    "duration": 27512,
    "start_time": "2023-06-12T23:07:11.453Z"
   },
   {
    "duration": 26,
    "start_time": "2023-06-12T23:07:38.966Z"
   },
   {
    "duration": 26,
    "start_time": "2023-06-12T23:07:38.993Z"
   },
   {
    "duration": 6,
    "start_time": "2023-06-12T23:07:39.021Z"
   },
   {
    "duration": 9,
    "start_time": "2023-06-12T23:07:39.028Z"
   },
   {
    "duration": 160307,
    "start_time": "2023-06-12T23:07:39.038Z"
   },
   {
    "duration": 8,
    "start_time": "2023-06-12T23:10:19.347Z"
   },
   {
    "duration": 7,
    "start_time": "2023-06-12T23:10:19.356Z"
   },
   {
    "duration": 4815,
    "start_time": "2023-06-12T23:10:39.912Z"
   },
   {
    "duration": 23,
    "start_time": "2023-06-12T23:10:48.586Z"
   },
   {
    "duration": 23,
    "start_time": "2023-06-12T23:10:58.774Z"
   },
   {
    "duration": 35,
    "start_time": "2023-06-12T23:11:01.576Z"
   },
   {
    "duration": 5,
    "start_time": "2023-06-12T23:11:05.871Z"
   },
   {
    "duration": 8,
    "start_time": "2023-06-12T23:11:10.262Z"
   },
   {
    "duration": 12,
    "start_time": "2023-06-12T23:11:19.947Z"
   },
   {
    "duration": 5,
    "start_time": "2023-06-12T23:14:30.275Z"
   },
   {
    "duration": 5,
    "start_time": "2023-06-12T23:14:35.414Z"
   },
   {
    "duration": 1292,
    "start_time": "2023-06-12T23:17:52.570Z"
   },
   {
    "duration": 2,
    "start_time": "2023-06-12T23:17:53.864Z"
   },
   {
    "duration": 696,
    "start_time": "2023-06-12T23:17:53.867Z"
   },
   {
    "duration": 14,
    "start_time": "2023-06-12T23:17:54.564Z"
   },
   {
    "duration": 110,
    "start_time": "2023-06-12T23:17:54.580Z"
   },
   {
    "duration": 760,
    "start_time": "2023-06-12T23:17:54.691Z"
   },
   {
    "duration": 3,
    "start_time": "2023-06-12T23:17:55.452Z"
   },
   {
    "duration": 43,
    "start_time": "2023-06-12T23:17:55.456Z"
   },
   {
    "duration": 254,
    "start_time": "2023-06-12T23:17:55.500Z"
   },
   {
    "duration": 17,
    "start_time": "2023-06-12T23:17:55.756Z"
   },
   {
    "duration": 12,
    "start_time": "2023-06-12T23:17:55.775Z"
   },
   {
    "duration": 18,
    "start_time": "2023-06-12T23:17:55.788Z"
   },
   {
    "duration": 34,
    "start_time": "2023-06-12T23:17:55.807Z"
   },
   {
    "duration": 75,
    "start_time": "2023-06-12T23:17:55.844Z"
   },
   {
    "duration": 76,
    "start_time": "2023-06-12T23:17:55.921Z"
   },
   {
    "duration": 46,
    "start_time": "2023-06-12T23:17:55.999Z"
   },
   {
    "duration": 222,
    "start_time": "2023-06-12T23:17:56.046Z"
   },
   {
    "duration": 16,
    "start_time": "2023-06-12T23:17:56.269Z"
   },
   {
    "duration": 25,
    "start_time": "2023-06-12T23:17:56.286Z"
   },
   {
    "duration": 39,
    "start_time": "2023-06-12T23:17:56.312Z"
   },
   {
    "duration": 30,
    "start_time": "2023-06-12T23:17:56.352Z"
   },
   {
    "duration": 64,
    "start_time": "2023-06-12T23:17:56.383Z"
   },
   {
    "duration": 332,
    "start_time": "2023-06-12T23:17:56.448Z"
   },
   {
    "duration": 33,
    "start_time": "2023-06-12T23:17:56.782Z"
   },
   {
    "duration": 26,
    "start_time": "2023-06-12T23:17:56.817Z"
   },
   {
    "duration": 28315,
    "start_time": "2023-06-12T23:17:56.844Z"
   },
   {
    "duration": 25,
    "start_time": "2023-06-12T23:18:25.160Z"
   },
   {
    "duration": 25,
    "start_time": "2023-06-12T23:18:25.186Z"
   },
   {
    "duration": 7,
    "start_time": "2023-06-12T23:18:25.212Z"
   },
   {
    "duration": 24,
    "start_time": "2023-06-12T23:18:25.221Z"
   },
   {
    "duration": 162390,
    "start_time": "2023-06-12T23:18:25.246Z"
   },
   {
    "duration": 9,
    "start_time": "2023-06-12T23:21:07.637Z"
   },
   {
    "duration": 10,
    "start_time": "2023-06-12T23:21:07.647Z"
   },
   {
    "duration": 526001,
    "start_time": "2023-06-12T23:23:22.135Z"
   },
   {
    "duration": 23,
    "start_time": "2023-06-12T23:32:20.863Z"
   },
   {
    "duration": 22,
    "start_time": "2023-06-12T23:32:28.498Z"
   },
   {
    "duration": 46,
    "start_time": "2023-06-12T23:32:32.606Z"
   },
   {
    "duration": 1010581,
    "start_time": "2023-06-12T23:33:48.779Z"
   },
   {
    "duration": 1009389,
    "start_time": "2023-06-12T23:51:38.296Z"
   },
   {
    "duration": 4,
    "start_time": "2023-06-13T00:12:02.690Z"
   },
   {
    "duration": 12,
    "start_time": "2023-06-13T00:12:08.429Z"
   },
   {
    "duration": 4,
    "start_time": "2023-06-13T00:12:42.400Z"
   },
   {
    "duration": 540,
    "start_time": "2023-06-13T00:14:15.967Z"
   },
   {
    "duration": 13,
    "start_time": "2023-06-13T00:14:48.614Z"
   },
   {
    "duration": 561,
    "start_time": "2023-06-13T00:14:55.525Z"
   },
   {
    "duration": 628,
    "start_time": "2023-06-13T00:15:09.797Z"
   },
   {
    "duration": 688,
    "start_time": "2023-06-13T00:15:36.915Z"
   },
   {
    "duration": 348,
    "start_time": "2023-06-13T00:17:15.253Z"
   },
   {
    "duration": 1718,
    "start_time": "2023-06-13T14:04:32.250Z"
   },
   {
    "duration": 2,
    "start_time": "2023-06-13T14:04:33.970Z"
   },
   {
    "duration": 3283,
    "start_time": "2023-06-13T14:04:33.974Z"
   },
   {
    "duration": 19,
    "start_time": "2023-06-13T14:04:37.259Z"
   },
   {
    "duration": 182,
    "start_time": "2023-06-13T14:04:37.280Z"
   },
   {
    "duration": 1252,
    "start_time": "2023-06-13T14:04:37.464Z"
   },
   {
    "duration": 11,
    "start_time": "2023-06-13T14:04:38.718Z"
   },
   {
    "duration": 45,
    "start_time": "2023-06-13T14:04:38.731Z"
   },
   {
    "duration": 333,
    "start_time": "2023-06-13T14:04:38.779Z"
   },
   {
    "duration": 30,
    "start_time": "2023-06-13T14:04:39.115Z"
   },
   {
    "duration": 6,
    "start_time": "2023-06-13T14:04:39.147Z"
   },
   {
    "duration": 35,
    "start_time": "2023-06-13T14:04:39.155Z"
   },
   {
    "duration": 59,
    "start_time": "2023-06-13T14:04:39.192Z"
   },
   {
    "duration": 109,
    "start_time": "2023-06-13T14:04:39.253Z"
   },
   {
    "duration": 100,
    "start_time": "2023-06-13T14:04:39.364Z"
   },
   {
    "duration": 66,
    "start_time": "2023-06-13T14:04:39.467Z"
   },
   {
    "duration": 337,
    "start_time": "2023-06-13T14:04:39.535Z"
   },
   {
    "duration": 22,
    "start_time": "2023-06-13T14:04:39.875Z"
   },
   {
    "duration": 69,
    "start_time": "2023-06-13T14:04:39.899Z"
   },
   {
    "duration": 55,
    "start_time": "2023-06-13T14:04:39.970Z"
   },
   {
    "duration": 44,
    "start_time": "2023-06-13T14:04:40.037Z"
   },
   {
    "duration": 106,
    "start_time": "2023-06-13T14:04:40.083Z"
   },
   {
    "duration": 442,
    "start_time": "2023-06-13T14:04:40.191Z"
   },
   {
    "duration": 37,
    "start_time": "2023-06-13T14:04:40.641Z"
   },
   {
    "duration": 30,
    "start_time": "2023-06-13T14:04:40.680Z"
   },
   {
    "duration": 43270,
    "start_time": "2023-06-13T14:04:40.712Z"
   },
   {
    "duration": 44,
    "start_time": "2023-06-13T14:05:23.984Z"
   },
   {
    "duration": 48,
    "start_time": "2023-06-13T14:05:24.032Z"
   },
   {
    "duration": 23,
    "start_time": "2023-06-13T14:05:24.082Z"
   },
   {
    "duration": 37,
    "start_time": "2023-06-13T14:05:24.107Z"
   },
   {
    "duration": 230547,
    "start_time": "2023-06-13T14:05:24.147Z"
   },
   {
    "duration": 8,
    "start_time": "2023-06-13T14:09:14.695Z"
   },
   {
    "duration": 32,
    "start_time": "2023-06-13T14:09:14.705Z"
   },
   {
    "duration": 124,
    "start_time": "2023-06-13T14:11:08.839Z"
   },
   {
    "duration": 10,
    "start_time": "2023-06-13T14:11:20.302Z"
   },
   {
    "duration": 7,
    "start_time": "2023-06-13T14:11:40.556Z"
   },
   {
    "duration": 1735,
    "start_time": "2023-06-13T14:12:34.115Z"
   },
   {
    "duration": 3,
    "start_time": "2023-06-13T14:12:35.858Z"
   },
   {
    "duration": 1097,
    "start_time": "2023-06-13T14:12:35.863Z"
   },
   {
    "duration": 18,
    "start_time": "2023-06-13T14:12:36.963Z"
   },
   {
    "duration": 211,
    "start_time": "2023-06-13T14:12:36.983Z"
   },
   {
    "duration": 1374,
    "start_time": "2023-06-13T14:12:37.196Z"
   },
   {
    "duration": 4,
    "start_time": "2023-06-13T14:12:38.572Z"
   },
   {
    "duration": 52,
    "start_time": "2023-06-13T14:12:38.577Z"
   },
   {
    "duration": 377,
    "start_time": "2023-06-13T14:12:38.631Z"
   },
   {
    "duration": 37,
    "start_time": "2023-06-13T14:12:39.010Z"
   },
   {
    "duration": 9,
    "start_time": "2023-06-13T14:12:39.050Z"
   },
   {
    "duration": 48,
    "start_time": "2023-06-13T14:12:39.061Z"
   },
   {
    "duration": 161,
    "start_time": "2023-06-13T14:12:39.113Z"
   },
   {
    "duration": 225,
    "start_time": "2023-06-13T14:12:39.277Z"
   },
   {
    "duration": 113,
    "start_time": "2023-06-13T14:12:39.504Z"
   },
   {
    "duration": 85,
    "start_time": "2023-06-13T14:12:39.618Z"
   },
   {
    "duration": 448,
    "start_time": "2023-06-13T14:12:39.705Z"
   },
   {
    "duration": 18,
    "start_time": "2023-06-13T14:12:40.159Z"
   },
   {
    "duration": 73,
    "start_time": "2023-06-13T14:12:40.180Z"
   },
   {
    "duration": 53,
    "start_time": "2023-06-13T14:12:40.256Z"
   },
   {
    "duration": 52,
    "start_time": "2023-06-13T14:12:40.311Z"
   },
   {
    "duration": 125,
    "start_time": "2023-06-13T14:12:40.365Z"
   },
   {
    "duration": 485,
    "start_time": "2023-06-13T14:12:40.492Z"
   },
   {
    "duration": 36,
    "start_time": "2023-06-13T14:12:40.979Z"
   },
   {
    "duration": 59,
    "start_time": "2023-06-13T14:12:41.018Z"
   },
   {
    "duration": 45410,
    "start_time": "2023-06-13T14:12:41.079Z"
   },
   {
    "duration": 40,
    "start_time": "2023-06-13T14:13:26.491Z"
   },
   {
    "duration": 34,
    "start_time": "2023-06-13T14:13:26.533Z"
   },
   {
    "duration": 9,
    "start_time": "2023-06-13T14:13:26.569Z"
   },
   {
    "duration": 16,
    "start_time": "2023-06-13T14:13:26.579Z"
   },
   {
    "duration": 239450,
    "start_time": "2023-06-13T14:13:26.597Z"
   },
   {
    "duration": 8,
    "start_time": "2023-06-13T14:17:26.049Z"
   },
   {
    "duration": 16,
    "start_time": "2023-06-13T14:17:26.059Z"
   },
   {
    "duration": 12,
    "start_time": "2023-06-13T14:17:48.885Z"
   },
   {
    "duration": 7,
    "start_time": "2023-06-13T14:17:52.148Z"
   },
   {
    "duration": 215,
    "start_time": "2023-06-13T14:18:12.855Z"
   },
   {
    "duration": 4,
    "start_time": "2023-06-13T14:18:40.320Z"
   },
   {
    "duration": 264,
    "start_time": "2023-06-13T14:19:52.556Z"
   },
   {
    "duration": 22,
    "start_time": "2023-06-13T14:20:14.990Z"
   },
   {
    "duration": 383,
    "start_time": "2023-06-13T14:20:46.768Z"
   },
   {
    "duration": 26,
    "start_time": "2023-06-13T14:21:58.793Z"
   },
   {
    "duration": 19,
    "start_time": "2023-06-13T14:23:59.191Z"
   },
   {
    "duration": 76,
    "start_time": "2023-06-13T14:25:11.694Z"
   },
   {
    "duration": 140,
    "start_time": "2023-06-13T14:28:32.536Z"
   },
   {
    "duration": 11,
    "start_time": "2023-06-13T14:29:20.480Z"
   },
   {
    "duration": 11,
    "start_time": "2023-06-13T14:29:36.176Z"
   },
   {
    "duration": 11,
    "start_time": "2023-06-13T14:29:44.139Z"
   },
   {
    "duration": 11,
    "start_time": "2023-06-13T14:30:05.701Z"
   },
   {
    "duration": 13,
    "start_time": "2023-06-13T14:30:12.353Z"
   },
   {
    "duration": 93,
    "start_time": "2023-06-13T14:33:10.140Z"
   },
   {
    "duration": 44,
    "start_time": "2023-06-13T14:41:45.050Z"
   },
   {
    "duration": 1909,
    "start_time": "2023-06-13T14:42:49.391Z"
   },
   {
    "duration": 3,
    "start_time": "2023-06-13T14:42:51.302Z"
   },
   {
    "duration": 1270,
    "start_time": "2023-06-13T14:42:51.307Z"
   },
   {
    "duration": 18,
    "start_time": "2023-06-13T14:42:52.579Z"
   },
   {
    "duration": 212,
    "start_time": "2023-06-13T14:42:52.599Z"
   },
   {
    "duration": 1426,
    "start_time": "2023-06-13T14:42:52.813Z"
   },
   {
    "duration": 6,
    "start_time": "2023-06-13T14:42:54.243Z"
   },
   {
    "duration": 52,
    "start_time": "2023-06-13T14:42:54.251Z"
   },
   {
    "duration": 370,
    "start_time": "2023-06-13T14:42:54.305Z"
   },
   {
    "duration": 23,
    "start_time": "2023-06-13T14:42:54.676Z"
   },
   {
    "duration": 28,
    "start_time": "2023-06-13T14:42:54.701Z"
   },
   {
    "duration": 35,
    "start_time": "2023-06-13T14:42:54.735Z"
   },
   {
    "duration": 57,
    "start_time": "2023-06-13T14:42:54.772Z"
   },
   {
    "duration": 126,
    "start_time": "2023-06-13T14:42:54.834Z"
   },
   {
    "duration": 174,
    "start_time": "2023-06-13T14:42:54.962Z"
   },
   {
    "duration": 76,
    "start_time": "2023-06-13T14:42:55.138Z"
   },
   {
    "duration": 381,
    "start_time": "2023-06-13T14:42:55.216Z"
   },
   {
    "duration": 26,
    "start_time": "2023-06-13T14:42:55.599Z"
   },
   {
    "duration": 56,
    "start_time": "2023-06-13T14:42:55.630Z"
   },
   {
    "duration": 47,
    "start_time": "2023-06-13T14:42:55.688Z"
   },
   {
    "duration": 52,
    "start_time": "2023-06-13T14:42:55.737Z"
   },
   {
    "duration": 144,
    "start_time": "2023-06-13T14:42:55.791Z"
   },
   {
    "duration": 536,
    "start_time": "2023-06-13T14:42:55.937Z"
   },
   {
    "duration": 67,
    "start_time": "2023-06-13T14:42:56.475Z"
   },
   {
    "duration": 41,
    "start_time": "2023-06-13T14:42:56.545Z"
   },
   {
    "duration": 48201,
    "start_time": "2023-06-13T14:42:56.588Z"
   },
   {
    "duration": 44,
    "start_time": "2023-06-13T14:43:44.791Z"
   },
   {
    "duration": 29,
    "start_time": "2023-06-13T14:43:44.837Z"
   },
   {
    "duration": 7,
    "start_time": "2023-06-13T14:43:44.868Z"
   },
   {
    "duration": 19,
    "start_time": "2023-06-13T14:43:44.877Z"
   },
   {
    "duration": 34,
    "start_time": "2023-06-13T14:45:39.660Z"
   },
   {
    "duration": 56,
    "start_time": "2023-06-13T14:45:54.920Z"
   },
   {
    "duration": 14,
    "start_time": "2023-06-13T14:46:51.636Z"
   },
   {
    "duration": 6,
    "start_time": "2023-06-13T14:46:53.580Z"
   },
   {
    "duration": 240,
    "start_time": "2023-06-13T14:47:12.848Z"
   },
   {
    "duration": 37,
    "start_time": "2023-06-13T14:47:16.623Z"
   },
   {
    "duration": 69,
    "start_time": "2023-06-13T14:47:19.282Z"
   },
   {
    "duration": 109,
    "start_time": "2023-06-13T20:00:27.902Z"
   },
   {
    "duration": 2319,
    "start_time": "2023-06-13T20:00:37.404Z"
   },
   {
    "duration": 4,
    "start_time": "2023-06-13T20:00:39.725Z"
   },
   {
    "duration": 3721,
    "start_time": "2023-06-13T20:00:39.731Z"
   },
   {
    "duration": 20,
    "start_time": "2023-06-13T20:00:43.460Z"
   },
   {
    "duration": 392,
    "start_time": "2023-06-13T20:00:43.483Z"
   },
   {
    "duration": 1424,
    "start_time": "2023-06-13T20:00:43.880Z"
   },
   {
    "duration": 7,
    "start_time": "2023-06-13T20:00:45.307Z"
   },
   {
    "duration": 247,
    "start_time": "2023-06-13T20:00:45.317Z"
   },
   {
    "duration": 626,
    "start_time": "2023-06-13T20:00:45.567Z"
   },
   {
    "duration": 35,
    "start_time": "2023-06-13T20:00:46.195Z"
   },
   {
    "duration": 73,
    "start_time": "2023-06-13T20:00:46.233Z"
   },
   {
    "duration": 219,
    "start_time": "2023-06-13T20:00:46.308Z"
   },
   {
    "duration": 218,
    "start_time": "2023-06-13T20:00:46.530Z"
   },
   {
    "duration": 215,
    "start_time": "2023-06-13T20:00:46.751Z"
   },
   {
    "duration": 189,
    "start_time": "2023-06-13T20:00:46.967Z"
   },
   {
    "duration": 116,
    "start_time": "2023-06-13T20:00:47.157Z"
   },
   {
    "duration": 478,
    "start_time": "2023-06-13T20:00:47.275Z"
   },
   {
    "duration": 53,
    "start_time": "2023-06-13T20:00:47.762Z"
   },
   {
    "duration": 174,
    "start_time": "2023-06-13T20:00:47.817Z"
   },
   {
    "duration": 165,
    "start_time": "2023-06-13T20:00:47.993Z"
   },
   {
    "duration": 83,
    "start_time": "2023-06-13T20:00:48.160Z"
   },
   {
    "duration": 171,
    "start_time": "2023-06-13T20:00:48.245Z"
   },
   {
    "duration": 539,
    "start_time": "2023-06-13T20:00:48.418Z"
   },
   {
    "duration": 52,
    "start_time": "2023-06-13T20:00:48.959Z"
   },
   {
    "duration": 116,
    "start_time": "2023-06-13T20:00:49.016Z"
   },
   {
    "duration": 54537,
    "start_time": "2023-06-13T20:00:49.139Z"
   },
   {
    "duration": 64,
    "start_time": "2023-06-13T20:01:43.678Z"
   },
   {
    "duration": 124,
    "start_time": "2023-06-13T20:01:43.746Z"
   },
   {
    "duration": 23,
    "start_time": "2023-06-13T20:01:43.876Z"
   },
   {
    "duration": 78,
    "start_time": "2023-06-13T20:02:24.602Z"
   },
   {
    "duration": 70,
    "start_time": "2023-06-13T20:06:03.356Z"
   },
   {
    "duration": 61,
    "start_time": "2023-06-13T20:06:35.068Z"
   },
   {
    "duration": 14,
    "start_time": "2023-06-13T20:07:44.365Z"
   },
   {
    "duration": 8,
    "start_time": "2023-06-13T20:07:46.314Z"
   },
   {
    "duration": 215,
    "start_time": "2023-06-13T20:08:02.347Z"
   },
   {
    "duration": 225,
    "start_time": "2023-06-13T20:08:24.156Z"
   },
   {
    "duration": 46,
    "start_time": "2023-06-13T20:08:27.076Z"
   },
   {
    "duration": 124,
    "start_time": "2023-06-13T20:08:31.145Z"
   },
   {
    "duration": 1988,
    "start_time": "2023-06-13T20:16:02.691Z"
   },
   {
    "duration": 28,
    "start_time": "2023-06-13T20:16:04.682Z"
   },
   {
    "duration": 1219,
    "start_time": "2023-06-13T20:16:04.719Z"
   },
   {
    "duration": 26,
    "start_time": "2023-06-13T20:16:05.943Z"
   },
   {
    "duration": 284,
    "start_time": "2023-06-13T20:16:05.972Z"
   },
   {
    "duration": 1539,
    "start_time": "2023-06-13T20:16:06.267Z"
   },
   {
    "duration": 6,
    "start_time": "2023-06-13T20:16:07.807Z"
   },
   {
    "duration": 99,
    "start_time": "2023-06-13T20:16:07.814Z"
   },
   {
    "duration": 442,
    "start_time": "2023-06-13T20:16:07.915Z"
   },
   {
    "duration": 19,
    "start_time": "2023-06-13T20:16:08.363Z"
   },
   {
    "duration": 15,
    "start_time": "2023-06-13T20:16:08.383Z"
   },
   {
    "duration": 76,
    "start_time": "2023-06-13T20:16:08.407Z"
   },
   {
    "duration": 66,
    "start_time": "2023-06-13T20:16:08.484Z"
   },
   {
    "duration": 93,
    "start_time": "2023-06-13T20:16:08.553Z"
   },
   {
    "duration": 101,
    "start_time": "2023-06-13T20:16:08.651Z"
   },
   {
    "duration": 69,
    "start_time": "2023-06-13T20:16:08.761Z"
   },
   {
    "duration": 332,
    "start_time": "2023-06-13T20:16:08.834Z"
   },
   {
    "duration": 42,
    "start_time": "2023-06-13T20:16:09.169Z"
   },
   {
    "duration": 143,
    "start_time": "2023-06-13T20:16:09.213Z"
   },
   {
    "duration": 72,
    "start_time": "2023-06-13T20:16:09.370Z"
   },
   {
    "duration": 43,
    "start_time": "2023-06-13T20:16:09.443Z"
   },
   {
    "duration": 179,
    "start_time": "2023-06-13T20:16:09.488Z"
   },
   {
    "duration": 590,
    "start_time": "2023-06-13T20:16:09.668Z"
   },
   {
    "duration": 68,
    "start_time": "2023-06-13T20:16:10.260Z"
   },
   {
    "duration": 139,
    "start_time": "2023-06-13T20:16:10.330Z"
   },
   {
    "duration": 47847,
    "start_time": "2023-06-13T20:16:10.470Z"
   },
   {
    "duration": 50,
    "start_time": "2023-06-13T20:16:58.319Z"
   },
   {
    "duration": 165,
    "start_time": "2023-06-13T20:16:58.371Z"
   },
   {
    "duration": 45,
    "start_time": "2023-06-13T20:16:58.537Z"
   },
   {
    "duration": 17,
    "start_time": "2023-06-13T20:16:58.585Z"
   },
   {
    "duration": 270538,
    "start_time": "2023-06-13T20:16:58.605Z"
   },
   {
    "duration": 17,
    "start_time": "2023-06-13T20:21:29.152Z"
   },
   {
    "duration": 87,
    "start_time": "2023-06-13T20:21:29.171Z"
   },
   {
    "duration": 11,
    "start_time": "2023-06-13T20:21:29.264Z"
   },
   {
    "duration": 19,
    "start_time": "2023-06-13T20:21:29.277Z"
   },
   {
    "duration": 65,
    "start_time": "2023-06-13T20:21:29.298Z"
   },
   {
    "duration": 133,
    "start_time": "2023-06-13T20:22:15.355Z"
   },
   {
    "duration": 101,
    "start_time": "2023-06-13T20:22:32.109Z"
   },
   {
    "duration": 372,
    "start_time": "2023-06-13T20:22:42.601Z"
   },
   {
    "duration": 255,
    "start_time": "2023-06-13T20:24:10.930Z"
   },
   {
    "duration": 9,
    "start_time": "2023-06-13T20:24:13.798Z"
   },
   {
    "duration": 8,
    "start_time": "2023-06-13T20:24:46.147Z"
   },
   {
    "duration": 62,
    "start_time": "2023-06-13T20:30:24.074Z"
   },
   {
    "duration": 58,
    "start_time": "2023-06-13T20:30:28.502Z"
   },
   {
    "duration": 44,
    "start_time": "2023-06-13T20:30:39.539Z"
   },
   {
    "duration": 12,
    "start_time": "2023-06-13T20:33:10.619Z"
   },
   {
    "duration": 267,
    "start_time": "2023-06-13T20:33:18.851Z"
   },
   {
    "duration": 563,
    "start_time": "2023-06-13T20:33:42.403Z"
   },
   {
    "duration": 125,
    "start_time": "2023-06-13T20:36:02.795Z"
   },
   {
    "duration": 4,
    "start_time": "2023-06-13T20:37:55.233Z"
   },
   {
    "duration": 115,
    "start_time": "2023-06-13T20:37:55.238Z"
   },
   {
    "duration": 1304,
    "start_time": "2023-06-13T20:37:55.355Z"
   },
   {
    "duration": 21,
    "start_time": "2023-06-13T20:37:56.662Z"
   },
   {
    "duration": 457,
    "start_time": "2023-06-13T20:37:56.688Z"
   },
   {
    "duration": 1744,
    "start_time": "2023-06-13T20:37:57.154Z"
   },
   {
    "duration": 7,
    "start_time": "2023-06-13T20:37:58.903Z"
   },
   {
    "duration": 448,
    "start_time": "2023-06-13T20:37:58.914Z"
   },
   {
    "duration": 465,
    "start_time": "2023-06-13T20:37:59.366Z"
   },
   {
    "duration": 36,
    "start_time": "2023-06-13T20:37:59.839Z"
   },
   {
    "duration": 215,
    "start_time": "2023-06-13T20:37:59.879Z"
   },
   {
    "duration": 229,
    "start_time": "2023-06-13T20:38:00.099Z"
   },
   {
    "duration": 192,
    "start_time": "2023-06-13T20:38:00.333Z"
   },
   {
    "duration": 378,
    "start_time": "2023-06-13T20:38:00.536Z"
   },
   {
    "duration": 312,
    "start_time": "2023-06-13T20:38:00.923Z"
   },
   {
    "duration": 275,
    "start_time": "2023-06-13T20:38:01.240Z"
   },
   {
    "duration": 660,
    "start_time": "2023-06-13T20:38:01.517Z"
   },
   {
    "duration": 31,
    "start_time": "2023-06-13T20:38:02.182Z"
   },
   {
    "duration": 305,
    "start_time": "2023-06-13T20:38:02.215Z"
   },
   {
    "duration": 252,
    "start_time": "2023-06-13T20:38:02.526Z"
   },
   {
    "duration": 165,
    "start_time": "2023-06-13T20:38:02.784Z"
   },
   {
    "duration": 271,
    "start_time": "2023-06-13T20:38:02.955Z"
   },
   {
    "duration": 947,
    "start_time": "2023-06-13T20:38:03.231Z"
   },
   {
    "duration": 101,
    "start_time": "2023-06-13T20:38:04.188Z"
   },
   {
    "duration": 342,
    "start_time": "2023-06-13T20:38:04.296Z"
   },
   {
    "duration": 66594,
    "start_time": "2023-06-13T20:38:04.652Z"
   },
   {
    "duration": 56,
    "start_time": "2023-06-13T20:39:11.248Z"
   },
   {
    "duration": 174,
    "start_time": "2023-06-13T20:39:11.308Z"
   },
   {
    "duration": 175,
    "start_time": "2023-06-13T20:39:11.488Z"
   },
   {
    "duration": 185,
    "start_time": "2023-06-13T20:39:11.668Z"
   },
   {
    "duration": 389604,
    "start_time": "2023-06-13T20:39:11.864Z"
   },
   {
    "duration": 29,
    "start_time": "2023-06-13T20:45:41.478Z"
   },
   {
    "duration": 209,
    "start_time": "2023-06-13T20:45:41.508Z"
   },
   {
    "duration": 125,
    "start_time": "2023-06-13T20:45:41.721Z"
   },
   {
    "duration": 164,
    "start_time": "2023-06-13T20:45:41.853Z"
   },
   {
    "duration": 210,
    "start_time": "2023-06-13T20:45:42.026Z"
   },
   {
    "duration": 460,
    "start_time": "2023-06-13T20:45:42.245Z"
   },
   {
    "duration": 10,
    "start_time": "2023-06-13T20:45:42.710Z"
   },
   {
    "duration": 164,
    "start_time": "2023-06-13T20:45:42.724Z"
   },
   {
    "duration": 261,
    "start_time": "2023-06-13T20:45:42.893Z"
   },
   {
    "duration": 153,
    "start_time": "2023-06-13T20:45:43.161Z"
   },
   {
    "duration": 226,
    "start_time": "2023-06-13T20:45:43.319Z"
   },
   {
    "duration": 107,
    "start_time": "2023-06-13T20:45:43.554Z"
   },
   {
    "duration": 11,
    "start_time": "2023-06-13T20:46:16.103Z"
   },
   {
    "duration": 2809,
    "start_time": "2023-06-13T20:47:50.628Z"
   },
   {
    "duration": 5,
    "start_time": "2023-06-13T20:47:53.443Z"
   },
   {
    "duration": 1773,
    "start_time": "2023-06-13T20:47:53.453Z"
   },
   {
    "duration": 17,
    "start_time": "2023-06-13T20:47:55.228Z"
   },
   {
    "duration": 568,
    "start_time": "2023-06-13T20:47:55.250Z"
   },
   {
    "duration": 2710,
    "start_time": "2023-06-13T20:47:55.824Z"
   },
   {
    "duration": 12,
    "start_time": "2023-06-13T20:47:58.539Z"
   },
   {
    "duration": 245,
    "start_time": "2023-06-13T20:47:58.560Z"
   },
   {
    "duration": 838,
    "start_time": "2023-06-13T20:47:58.813Z"
   },
   {
    "duration": 39,
    "start_time": "2023-06-13T20:47:59.658Z"
   },
   {
    "duration": 211,
    "start_time": "2023-06-13T20:47:59.702Z"
   },
   {
    "duration": 222,
    "start_time": "2023-06-13T20:47:59.918Z"
   },
   {
    "duration": 351,
    "start_time": "2023-06-13T20:48:00.145Z"
   },
   {
    "duration": 251,
    "start_time": "2023-06-13T20:48:00.506Z"
   },
   {
    "duration": 303,
    "start_time": "2023-06-13T20:48:00.767Z"
   },
   {
    "duration": 133,
    "start_time": "2023-06-13T20:48:01.075Z"
   },
   {
    "duration": 699,
    "start_time": "2023-06-13T20:48:01.217Z"
   },
   {
    "duration": 37,
    "start_time": "2023-06-13T20:48:01.926Z"
   },
   {
    "duration": 249,
    "start_time": "2023-06-13T20:48:01.973Z"
   },
   {
    "duration": 269,
    "start_time": "2023-06-13T20:48:02.234Z"
   },
   {
    "duration": 147,
    "start_time": "2023-06-13T20:48:02.509Z"
   },
   {
    "duration": 345,
    "start_time": "2023-06-13T20:48:02.670Z"
   },
   {
    "duration": 752,
    "start_time": "2023-06-13T20:48:26.794Z"
   },
   {
    "duration": 83,
    "start_time": "2023-06-13T20:48:48.338Z"
   },
   {
    "duration": 68,
    "start_time": "2023-06-13T20:48:51.248Z"
   },
   {
    "duration": 59434,
    "start_time": "2023-06-13T20:49:54.304Z"
   },
   {
    "duration": 43,
    "start_time": "2023-06-13T20:51:15.114Z"
   },
   {
    "duration": 99,
    "start_time": "2023-06-13T20:51:43.531Z"
   },
   {
    "duration": 33,
    "start_time": "2023-06-13T20:56:21.241Z"
   },
   {
    "duration": 64,
    "start_time": "2023-06-13T20:56:39.613Z"
   },
   {
    "duration": 39,
    "start_time": "2023-06-13T21:00:40.830Z"
   },
   {
    "duration": 75,
    "start_time": "2023-06-13T21:01:11.486Z"
   },
   {
    "duration": 76,
    "start_time": "2023-06-13T21:03:05.468Z"
   },
   {
    "duration": 67,
    "start_time": "2023-06-13T21:03:17.446Z"
   },
   {
    "duration": 52,
    "start_time": "2023-06-13T21:03:31.352Z"
   },
   {
    "duration": 46,
    "start_time": "2023-06-13T21:11:26.428Z"
   },
   {
    "duration": 32,
    "start_time": "2023-06-13T21:12:25.872Z"
   },
   {
    "duration": 12,
    "start_time": "2023-06-13T21:12:38.708Z"
   },
   {
    "duration": 18,
    "start_time": "2023-06-13T21:13:29.320Z"
   },
   {
    "duration": 8,
    "start_time": "2023-06-13T21:13:50.116Z"
   },
   {
    "duration": 8,
    "start_time": "2023-06-13T21:14:38.041Z"
   },
   {
    "duration": 9,
    "start_time": "2023-06-13T21:16:27.309Z"
   },
   {
    "duration": 8,
    "start_time": "2023-06-13T21:16:36.463Z"
   },
   {
    "duration": 202,
    "start_time": "2023-06-13T21:17:54.553Z"
   },
   {
    "duration": 98,
    "start_time": "2023-06-13T21:18:00.383Z"
   },
   {
    "duration": 13,
    "start_time": "2023-06-13T21:20:58.447Z"
   },
   {
    "duration": 18,
    "start_time": "2023-06-13T21:21:06.546Z"
   },
   {
    "duration": 663,
    "start_time": "2023-06-13T21:21:17.833Z"
   },
   {
    "duration": 16,
    "start_time": "2023-06-13T21:25:08.452Z"
   },
   {
    "duration": 705,
    "start_time": "2023-06-13T21:27:00.377Z"
   },
   {
    "duration": 654,
    "start_time": "2023-06-13T21:28:43.414Z"
   },
   {
    "duration": 10,
    "start_time": "2023-06-13T21:39:49.449Z"
   },
   {
    "duration": 3,
    "start_time": "2023-06-13T21:40:23.804Z"
   },
   {
    "duration": 792,
    "start_time": "2023-06-13T21:40:36.500Z"
   },
   {
    "duration": 15,
    "start_time": "2023-06-13T21:42:57.723Z"
   },
   {
    "duration": 16,
    "start_time": "2023-06-13T21:43:11.411Z"
   },
   {
    "duration": 24,
    "start_time": "2023-06-13T21:43:25.883Z"
   },
   {
    "duration": 12,
    "start_time": "2023-06-13T21:43:34.769Z"
   },
   {
    "duration": 11,
    "start_time": "2023-06-13T21:43:42.559Z"
   },
   {
    "duration": 8,
    "start_time": "2023-06-13T21:43:49.058Z"
   },
   {
    "duration": 1047,
    "start_time": "2023-06-13T21:45:23.510Z"
   },
   {
    "duration": 24,
    "start_time": "2023-06-13T21:46:01.611Z"
   },
   {
    "duration": 276,
    "start_time": "2023-06-13T21:46:50.866Z"
   },
   {
    "duration": 3,
    "start_time": "2023-06-13T21:47:31.952Z"
   },
   {
    "duration": 17,
    "start_time": "2023-06-13T21:47:31.956Z"
   },
   {
    "duration": 937,
    "start_time": "2023-06-13T21:47:31.974Z"
   },
   {
    "duration": 19,
    "start_time": "2023-06-13T21:47:32.912Z"
   },
   {
    "duration": 186,
    "start_time": "2023-06-13T21:47:32.933Z"
   },
   {
    "duration": 1078,
    "start_time": "2023-06-13T21:47:33.121Z"
   },
   {
    "duration": 3,
    "start_time": "2023-06-13T21:47:34.200Z"
   },
   {
    "duration": 93,
    "start_time": "2023-06-13T21:47:34.205Z"
   },
   {
    "duration": 302,
    "start_time": "2023-06-13T21:47:34.300Z"
   },
   {
    "duration": 30,
    "start_time": "2023-06-13T21:47:34.603Z"
   },
   {
    "duration": 23,
    "start_time": "2023-06-13T21:47:34.637Z"
   },
   {
    "duration": 17,
    "start_time": "2023-06-13T21:47:34.661Z"
   },
   {
    "duration": 80,
    "start_time": "2023-06-13T21:47:34.679Z"
   },
   {
    "duration": 69,
    "start_time": "2023-06-13T21:47:34.761Z"
   },
   {
    "duration": 95,
    "start_time": "2023-06-13T21:47:34.831Z"
   },
   {
    "duration": 118,
    "start_time": "2023-06-13T21:47:34.928Z"
   },
   {
    "duration": 336,
    "start_time": "2023-06-13T21:47:35.047Z"
   },
   {
    "duration": 21,
    "start_time": "2023-06-13T21:47:35.384Z"
   },
   {
    "duration": 155,
    "start_time": "2023-06-13T21:47:35.406Z"
   },
   {
    "duration": 120,
    "start_time": "2023-06-13T21:47:35.563Z"
   },
   {
    "duration": 82,
    "start_time": "2023-06-13T21:47:35.684Z"
   },
   {
    "duration": 127,
    "start_time": "2023-06-13T21:47:35.768Z"
   },
   {
    "duration": 629,
    "start_time": "2023-06-13T21:47:35.905Z"
   },
   {
    "duration": 58,
    "start_time": "2023-06-13T21:47:36.544Z"
   },
   {
    "duration": 52,
    "start_time": "2023-06-13T21:47:36.614Z"
   },
   {
    "duration": 42590,
    "start_time": "2023-06-13T21:47:36.668Z"
   },
   {
    "duration": 33,
    "start_time": "2023-06-13T21:48:19.260Z"
   },
   {
    "duration": 84,
    "start_time": "2023-06-13T21:48:19.295Z"
   },
   {
    "duration": 81,
    "start_time": "2023-06-13T21:48:19.380Z"
   },
   {
    "duration": 16,
    "start_time": "2023-06-13T21:48:19.462Z"
   },
   {
    "duration": 43,
    "start_time": "2023-06-13T21:48:19.479Z"
   },
   {
    "duration": 8,
    "start_time": "2023-06-13T21:54:31.007Z"
   },
   {
    "duration": 22,
    "start_time": "2023-06-13T21:54:35.309Z"
   },
   {
    "duration": 31,
    "start_time": "2023-06-13T21:55:13.529Z"
   },
   {
    "duration": 11,
    "start_time": "2023-06-13T21:55:29.529Z"
   },
   {
    "duration": 21,
    "start_time": "2023-06-13T21:56:56.807Z"
   },
   {
    "duration": 6,
    "start_time": "2023-06-13T21:57:06.360Z"
   },
   {
    "duration": 128,
    "start_time": "2023-06-13T21:59:24.365Z"
   },
   {
    "duration": 8,
    "start_time": "2023-06-13T22:00:44.650Z"
   },
   {
    "duration": 14,
    "start_time": "2023-06-13T22:01:04.224Z"
   },
   {
    "duration": 5,
    "start_time": "2023-06-13T22:01:09.047Z"
   },
   {
    "duration": 160,
    "start_time": "2023-06-13T22:01:27.412Z"
   },
   {
    "duration": 4,
    "start_time": "2023-06-13T22:03:32.942Z"
   },
   {
    "duration": 181,
    "start_time": "2023-06-13T22:03:46.840Z"
   },
   {
    "duration": 6,
    "start_time": "2023-06-13T22:04:27.447Z"
   },
   {
    "duration": 27,
    "start_time": "2023-06-13T22:08:09.932Z"
   },
   {
    "duration": 10,
    "start_time": "2023-06-13T22:11:09.630Z"
   },
   {
    "duration": 20,
    "start_time": "2023-06-13T22:11:24.219Z"
   },
   {
    "duration": 8,
    "start_time": "2023-06-13T22:12:00.939Z"
   },
   {
    "duration": 9,
    "start_time": "2023-06-13T22:12:57.343Z"
   },
   {
    "duration": 10,
    "start_time": "2023-06-13T22:13:18.731Z"
   },
   {
    "duration": 28,
    "start_time": "2023-06-13T22:13:42.203Z"
   },
   {
    "duration": 813,
    "start_time": "2023-06-13T22:13:49.609Z"
   },
   {
    "duration": 8,
    "start_time": "2023-06-13T22:14:04.166Z"
   },
   {
    "duration": 12,
    "start_time": "2023-06-13T22:14:47.951Z"
   },
   {
    "duration": 7,
    "start_time": "2023-06-13T22:16:09.235Z"
   },
   {
    "duration": 8,
    "start_time": "2023-06-13T22:16:41.736Z"
   },
   {
    "duration": 5,
    "start_time": "2023-06-13T22:16:43.636Z"
   },
   {
    "duration": 145,
    "start_time": "2023-06-13T22:16:54.711Z"
   },
   {
    "duration": 12,
    "start_time": "2023-06-13T22:16:57.115Z"
   },
   {
    "duration": 38,
    "start_time": "2023-06-13T22:17:02.819Z"
   },
   {
    "duration": 22,
    "start_time": "2023-06-13T22:17:11.135Z"
   },
   {
    "duration": 43,
    "start_time": "2023-06-13T22:17:13.491Z"
   },
   {
    "duration": 29,
    "start_time": "2023-06-13T22:17:17.601Z"
   },
   {
    "duration": 9,
    "start_time": "2023-06-13T22:17:55.958Z"
   },
   {
    "duration": 65,
    "start_time": "2023-06-13T22:18:10.354Z"
   },
   {
    "duration": 7,
    "start_time": "2023-06-13T22:18:41.811Z"
   },
   {
    "duration": 217,
    "start_time": "2023-06-13T22:18:49.022Z"
   },
   {
    "duration": 41,
    "start_time": "2023-06-13T22:18:51.237Z"
   },
   {
    "duration": 400,
    "start_time": "2023-06-13T22:19:38.755Z"
   },
   {
    "duration": 1629,
    "start_time": "2023-06-14T08:17:01.413Z"
   },
   {
    "duration": 3,
    "start_time": "2023-06-14T08:17:04.710Z"
   },
   {
    "duration": 1187,
    "start_time": "2023-06-14T08:17:05.417Z"
   },
   {
    "duration": 16,
    "start_time": "2023-06-14T08:17:08.380Z"
   },
   {
    "duration": 140,
    "start_time": "2023-06-14T08:17:16.690Z"
   },
   {
    "duration": 5,
    "start_time": "2023-06-14T08:17:49.004Z"
   },
   {
    "duration": 21,
    "start_time": "2023-06-14T08:18:36.074Z"
   },
   {
    "duration": 271,
    "start_time": "2023-06-14T08:19:57.201Z"
   },
   {
    "duration": 6,
    "start_time": "2023-06-14T08:20:00.060Z"
   },
   {
    "duration": 5,
    "start_time": "2023-06-14T08:20:08.953Z"
   },
   {
    "duration": 7,
    "start_time": "2023-06-14T08:20:30.153Z"
   },
   {
    "duration": 151,
    "start_time": "2023-06-14T08:22:35.424Z"
   },
   {
    "duration": 412,
    "start_time": "2023-06-14T08:24:08.329Z"
   },
   {
    "duration": 510,
    "start_time": "2023-06-14T08:25:26.143Z"
   },
   {
    "duration": 333,
    "start_time": "2023-06-14T08:26:07.636Z"
   },
   {
    "duration": 16,
    "start_time": "2023-06-14T08:27:12.469Z"
   },
   {
    "duration": 715,
    "start_time": "2023-06-14T08:29:45.912Z"
   },
   {
    "duration": 306,
    "start_time": "2023-06-14T08:30:13.425Z"
   },
   {
    "duration": 4,
    "start_time": "2023-06-14T08:38:34.317Z"
   },
   {
    "duration": 4,
    "start_time": "2023-06-14T08:39:24.853Z"
   },
   {
    "duration": 154,
    "start_time": "2023-06-14T08:40:25.886Z"
   },
   {
    "duration": 311,
    "start_time": "2023-06-14T08:48:22.280Z"
   },
   {
    "duration": 33,
    "start_time": "2023-06-14T08:50:41.074Z"
   },
   {
    "duration": 570,
    "start_time": "2023-06-14T08:50:43.973Z"
   },
   {
    "duration": 1953,
    "start_time": "2023-06-14T08:57:56.112Z"
   },
   {
    "duration": 3,
    "start_time": "2023-06-14T08:57:58.068Z"
   },
   {
    "duration": 868,
    "start_time": "2023-06-14T08:57:58.072Z"
   },
   {
    "duration": 28,
    "start_time": "2023-06-14T08:57:58.942Z"
   },
   {
    "duration": 155,
    "start_time": "2023-06-14T08:57:58.972Z"
   },
   {
    "duration": 1143,
    "start_time": "2023-06-14T08:57:59.129Z"
   },
   {
    "duration": 4,
    "start_time": "2023-06-14T08:58:00.274Z"
   },
   {
    "duration": 89,
    "start_time": "2023-06-14T08:58:00.280Z"
   },
   {
    "duration": 309,
    "start_time": "2023-06-14T08:58:00.371Z"
   },
   {
    "duration": 21,
    "start_time": "2023-06-14T08:58:00.683Z"
   },
   {
    "duration": 68,
    "start_time": "2023-06-14T08:58:00.706Z"
   },
   {
    "duration": 64,
    "start_time": "2023-06-14T08:58:00.776Z"
   },
   {
    "duration": 73,
    "start_time": "2023-06-14T08:58:00.842Z"
   },
   {
    "duration": 100,
    "start_time": "2023-06-14T08:58:00.917Z"
   },
   {
    "duration": 93,
    "start_time": "2023-06-14T08:58:01.019Z"
   },
   {
    "duration": 390,
    "start_time": "2023-06-14T08:58:01.114Z"
   },
   {
    "duration": 302,
    "start_time": "2023-06-14T08:58:01.506Z"
   },
   {
    "duration": 18,
    "start_time": "2023-06-14T08:58:01.810Z"
   },
   {
    "duration": 89,
    "start_time": "2023-06-14T08:58:01.830Z"
   },
   {
    "duration": 91,
    "start_time": "2023-06-14T08:58:01.921Z"
   },
   {
    "duration": 73,
    "start_time": "2023-06-14T08:58:02.014Z"
   },
   {
    "duration": 137,
    "start_time": "2023-06-14T08:58:02.088Z"
   },
   {
    "duration": 416,
    "start_time": "2023-06-14T08:58:02.227Z"
   },
   {
    "duration": 41,
    "start_time": "2023-06-14T08:58:02.645Z"
   },
   {
    "duration": 49,
    "start_time": "2023-06-14T08:58:02.687Z"
   },
   {
    "duration": 34916,
    "start_time": "2023-06-14T08:58:02.738Z"
   },
   {
    "duration": 32,
    "start_time": "2023-06-14T08:58:37.655Z"
   },
   {
    "duration": 58,
    "start_time": "2023-06-14T08:58:37.690Z"
   },
   {
    "duration": 61,
    "start_time": "2023-06-14T08:58:37.750Z"
   },
   {
    "duration": 19,
    "start_time": "2023-06-14T08:58:37.813Z"
   },
   {
    "duration": 32,
    "start_time": "2023-06-14T08:58:37.834Z"
   },
   {
    "duration": 8,
    "start_time": "2023-06-14T08:58:37.868Z"
   },
   {
    "duration": 20,
    "start_time": "2023-06-14T08:58:37.877Z"
   },
   {
    "duration": 6,
    "start_time": "2023-06-14T08:58:37.899Z"
   },
   {
    "duration": 165,
    "start_time": "2023-06-14T08:58:37.907Z"
   },
   {
    "duration": 5,
    "start_time": "2023-06-14T08:58:38.074Z"
   },
   {
    "duration": 14,
    "start_time": "2023-06-14T08:58:38.081Z"
   },
   {
    "duration": 12,
    "start_time": "2023-06-14T08:58:38.097Z"
   },
   {
    "duration": 768,
    "start_time": "2023-06-14T08:58:38.111Z"
   },
   {
    "duration": 10,
    "start_time": "2023-06-14T08:58:38.880Z"
   },
   {
    "duration": 14,
    "start_time": "2023-06-14T08:58:38.892Z"
   },
   {
    "duration": 10,
    "start_time": "2023-06-14T08:58:38.908Z"
   },
   {
    "duration": 7,
    "start_time": "2023-06-14T08:58:38.919Z"
   },
   {
    "duration": 173,
    "start_time": "2023-06-14T08:58:38.928Z"
   },
   {
    "duration": 5,
    "start_time": "2023-06-14T08:58:39.103Z"
   },
   {
    "duration": 13,
    "start_time": "2023-06-14T08:58:39.109Z"
   },
   {
    "duration": 35,
    "start_time": "2023-06-14T08:58:39.124Z"
   },
   {
    "duration": 25,
    "start_time": "2023-06-14T08:58:39.161Z"
   },
   {
    "duration": 39,
    "start_time": "2023-06-14T08:58:39.188Z"
   },
   {
    "duration": 40,
    "start_time": "2023-06-14T08:58:39.229Z"
   },
   {
    "duration": 161,
    "start_time": "2023-06-14T08:58:39.270Z"
   },
   {
    "duration": 4,
    "start_time": "2023-06-14T08:58:39.432Z"
   },
   {
    "duration": 930,
    "start_time": "2023-06-14T08:58:39.438Z"
   },
   {
    "duration": 664,
    "start_time": "2023-06-14T08:58:40.371Z"
   },
   {
    "duration": 2,
    "start_time": "2023-06-14T09:06:10.158Z"
   },
   {
    "duration": 18,
    "start_time": "2023-06-14T09:07:23.519Z"
   },
   {
    "duration": 3,
    "start_time": "2023-06-14T09:07:35.708Z"
   },
   {
    "duration": 100,
    "start_time": "2023-06-14T09:08:20.946Z"
   },
   {
    "duration": 14,
    "start_time": "2023-06-14T09:08:45.606Z"
   },
   {
    "duration": 91,
    "start_time": "2023-06-14T09:08:50.697Z"
   },
   {
    "duration": 8,
    "start_time": "2023-06-14T09:14:28.081Z"
   },
   {
    "duration": 80,
    "start_time": "2023-06-14T09:14:33.681Z"
   },
   {
    "duration": 4,
    "start_time": "2023-06-14T09:19:01.896Z"
   },
   {
    "duration": 119,
    "start_time": "2023-06-14T09:31:52.874Z"
   },
   {
    "duration": 4,
    "start_time": "2023-06-14T09:32:01.320Z"
   },
   {
    "duration": 10,
    "start_time": "2023-06-14T09:33:51.158Z"
   },
   {
    "duration": 4,
    "start_time": "2023-06-14T09:34:29.008Z"
   },
   {
    "duration": 4,
    "start_time": "2023-06-14T09:51:01.530Z"
   },
   {
    "duration": 1310,
    "start_time": "2023-06-14T10:02:46.260Z"
   },
   {
    "duration": 3,
    "start_time": "2023-06-14T10:04:03.146Z"
   },
   {
    "duration": 1982,
    "start_time": "2023-06-14T10:04:07.210Z"
   },
   {
    "duration": 4,
    "start_time": "2023-06-14T10:04:56.016Z"
   },
   {
    "duration": 101,
    "start_time": "2023-06-14T10:05:08.975Z"
   },
   {
    "duration": 4,
    "start_time": "2023-06-14T10:05:13.107Z"
   },
   {
    "duration": 49,
    "start_time": "2023-06-14T10:06:34.407Z"
   },
   {
    "duration": 1603,
    "start_time": "2023-06-14T10:06:41.654Z"
   },
   {
    "duration": 3,
    "start_time": "2023-06-14T10:06:43.259Z"
   },
   {
    "duration": 1314,
    "start_time": "2023-06-14T10:06:43.264Z"
   },
   {
    "duration": 25,
    "start_time": "2023-06-14T10:06:44.580Z"
   },
   {
    "duration": 148,
    "start_time": "2023-06-14T10:06:44.607Z"
   },
   {
    "duration": 1178,
    "start_time": "2023-06-14T10:06:44.756Z"
   },
   {
    "duration": 4,
    "start_time": "2023-06-14T10:06:45.936Z"
   },
   {
    "duration": 63,
    "start_time": "2023-06-14T10:06:45.942Z"
   },
   {
    "duration": 310,
    "start_time": "2023-06-14T10:06:46.007Z"
   },
   {
    "duration": 31,
    "start_time": "2023-06-14T10:06:46.325Z"
   },
   {
    "duration": 18,
    "start_time": "2023-06-14T10:06:46.361Z"
   },
   {
    "duration": 39,
    "start_time": "2023-06-14T10:06:46.383Z"
   },
   {
    "duration": 47,
    "start_time": "2023-06-14T10:06:46.442Z"
   },
   {
    "duration": 112,
    "start_time": "2023-06-14T10:06:46.493Z"
   },
   {
    "duration": 114,
    "start_time": "2023-06-14T10:06:46.607Z"
   },
   {
    "duration": 59,
    "start_time": "2023-06-14T10:06:46.723Z"
   },
   {
    "duration": 312,
    "start_time": "2023-06-14T10:06:46.784Z"
   },
   {
    "duration": 19,
    "start_time": "2023-06-14T10:06:47.098Z"
   },
   {
    "duration": 51,
    "start_time": "2023-06-14T10:06:47.119Z"
   },
   {
    "duration": 57,
    "start_time": "2023-06-14T10:06:47.172Z"
   },
   {
    "duration": 36,
    "start_time": "2023-06-14T10:06:47.231Z"
   },
   {
    "duration": 103,
    "start_time": "2023-06-14T10:06:47.269Z"
   },
   {
    "duration": 463,
    "start_time": "2023-06-14T10:06:47.374Z"
   },
   {
    "duration": 45,
    "start_time": "2023-06-14T10:06:47.839Z"
   },
   {
    "duration": 34,
    "start_time": "2023-06-14T10:06:47.886Z"
   },
   {
    "duration": 38974,
    "start_time": "2023-06-14T10:06:47.922Z"
   },
   {
    "duration": 29,
    "start_time": "2023-06-14T10:07:26.897Z"
   },
   {
    "duration": 67,
    "start_time": "2023-06-14T10:07:26.928Z"
   },
   {
    "duration": 79,
    "start_time": "2023-06-14T10:07:26.998Z"
   },
   {
    "duration": 21,
    "start_time": "2023-06-14T10:07:27.079Z"
   },
   {
    "duration": 32,
    "start_time": "2023-06-14T10:07:27.102Z"
   },
   {
    "duration": 10,
    "start_time": "2023-06-14T10:07:27.136Z"
   },
   {
    "duration": 27,
    "start_time": "2023-06-14T10:07:27.148Z"
   },
   {
    "duration": 5,
    "start_time": "2023-06-14T10:07:27.177Z"
   },
   {
    "duration": 206,
    "start_time": "2023-06-14T10:07:27.184Z"
   },
   {
    "duration": 5,
    "start_time": "2023-06-14T10:07:27.392Z"
   },
   {
    "duration": 28,
    "start_time": "2023-06-14T10:07:27.398Z"
   },
   {
    "duration": 26,
    "start_time": "2023-06-14T10:07:27.428Z"
   },
   {
    "duration": 856,
    "start_time": "2023-06-14T10:07:27.456Z"
   },
   {
    "duration": 14,
    "start_time": "2023-06-14T10:07:28.315Z"
   },
   {
    "duration": 46,
    "start_time": "2023-06-14T10:07:28.335Z"
   },
   {
    "duration": 26,
    "start_time": "2023-06-14T10:07:28.383Z"
   },
   {
    "duration": 14,
    "start_time": "2023-06-14T10:07:28.412Z"
   },
   {
    "duration": 191,
    "start_time": "2023-06-14T10:07:28.428Z"
   },
   {
    "duration": 6,
    "start_time": "2023-06-14T10:07:28.621Z"
   },
   {
    "duration": 39,
    "start_time": "2023-06-14T10:07:28.629Z"
   },
   {
    "duration": 74,
    "start_time": "2023-06-14T10:07:28.671Z"
   },
   {
    "duration": 44,
    "start_time": "2023-06-14T10:07:28.747Z"
   },
   {
    "duration": 70,
    "start_time": "2023-06-14T10:07:28.793Z"
   },
   {
    "duration": 37,
    "start_time": "2023-06-14T10:07:28.865Z"
   },
   {
    "duration": 199,
    "start_time": "2023-06-14T10:07:28.905Z"
   },
   {
    "duration": 5,
    "start_time": "2023-06-14T10:07:29.106Z"
   },
   {
    "duration": 1035,
    "start_time": "2023-06-14T10:07:29.112Z"
   },
   {
    "duration": 859,
    "start_time": "2023-06-14T10:07:30.149Z"
   },
   {
    "duration": 9,
    "start_time": "2023-06-14T10:07:31.010Z"
   },
   {
    "duration": 253,
    "start_time": "2023-06-14T10:07:31.021Z"
   },
   {
    "duration": 113,
    "start_time": "2023-06-14T10:07:31.277Z"
   },
   {
    "duration": 119,
    "start_time": "2023-06-14T10:07:31.392Z"
   },
   {
    "duration": 9,
    "start_time": "2023-06-14T10:07:31.512Z"
   },
   {
    "duration": 131,
    "start_time": "2023-06-14T10:07:31.524Z"
   },
   {
    "duration": 4,
    "start_time": "2023-06-14T10:08:32.632Z"
   },
   {
    "duration": 61,
    "start_time": "2023-06-14T10:19:37.783Z"
   },
   {
    "duration": 1710,
    "start_time": "2023-06-14T10:19:45.439Z"
   },
   {
    "duration": 2,
    "start_time": "2023-06-14T10:19:47.151Z"
   },
   {
    "duration": 1592,
    "start_time": "2023-06-14T10:19:47.162Z"
   },
   {
    "duration": 20,
    "start_time": "2023-06-14T10:19:48.756Z"
   },
   {
    "duration": 176,
    "start_time": "2023-06-14T10:19:48.778Z"
   },
   {
    "duration": 1191,
    "start_time": "2023-06-14T10:19:48.956Z"
   },
   {
    "duration": 4,
    "start_time": "2023-06-14T10:19:50.148Z"
   },
   {
    "duration": 46,
    "start_time": "2023-06-14T10:19:50.163Z"
   },
   {
    "duration": 363,
    "start_time": "2023-06-14T10:19:50.211Z"
   },
   {
    "duration": 25,
    "start_time": "2023-06-14T10:19:50.578Z"
   },
   {
    "duration": 27,
    "start_time": "2023-06-14T10:19:50.605Z"
   },
   {
    "duration": 40,
    "start_time": "2023-06-14T10:19:50.634Z"
   },
   {
    "duration": 42,
    "start_time": "2023-06-14T10:19:50.676Z"
   },
   {
    "duration": 109,
    "start_time": "2023-06-14T10:19:50.720Z"
   },
   {
    "duration": 103,
    "start_time": "2023-06-14T10:19:50.831Z"
   },
   {
    "duration": 120,
    "start_time": "2023-06-14T10:19:50.935Z"
   },
   {
    "duration": 293,
    "start_time": "2023-06-14T10:19:51.057Z"
   },
   {
    "duration": 26,
    "start_time": "2023-06-14T10:19:51.352Z"
   },
   {
    "duration": 64,
    "start_time": "2023-06-14T10:19:51.380Z"
   },
   {
    "duration": 67,
    "start_time": "2023-06-14T10:19:51.446Z"
   },
   {
    "duration": 26,
    "start_time": "2023-06-14T10:19:51.515Z"
   },
   {
    "duration": 127,
    "start_time": "2023-06-14T10:19:51.543Z"
   },
   {
    "duration": 431,
    "start_time": "2023-06-14T10:19:51.672Z"
   },
   {
    "duration": 37,
    "start_time": "2023-06-14T10:19:52.105Z"
   },
   {
    "duration": 55,
    "start_time": "2023-06-14T10:19:52.144Z"
   },
   {
    "duration": 36363,
    "start_time": "2023-06-14T10:19:52.200Z"
   },
   {
    "duration": 30,
    "start_time": "2023-06-14T10:20:28.565Z"
   },
   {
    "duration": 47,
    "start_time": "2023-06-14T10:20:28.598Z"
   },
   {
    "duration": 68,
    "start_time": "2023-06-14T10:20:28.647Z"
   },
   {
    "duration": 20,
    "start_time": "2023-06-14T10:20:28.718Z"
   },
   {
    "duration": 34,
    "start_time": "2023-06-14T10:20:28.740Z"
   },
   {
    "duration": 10,
    "start_time": "2023-06-14T10:20:28.776Z"
   },
   {
    "duration": 17,
    "start_time": "2023-06-14T10:20:28.789Z"
   },
   {
    "duration": 5,
    "start_time": "2023-06-14T10:20:28.809Z"
   },
   {
    "duration": 208,
    "start_time": "2023-06-14T10:20:28.816Z"
   },
   {
    "duration": 5,
    "start_time": "2023-06-14T10:20:29.026Z"
   },
   {
    "duration": 16,
    "start_time": "2023-06-14T10:20:29.033Z"
   },
   {
    "duration": 12,
    "start_time": "2023-06-14T10:20:29.063Z"
   },
   {
    "duration": 780,
    "start_time": "2023-06-14T10:20:29.076Z"
   },
   {
    "duration": 9,
    "start_time": "2023-06-14T10:20:29.858Z"
   },
   {
    "duration": 28,
    "start_time": "2023-06-14T10:20:29.869Z"
   },
   {
    "duration": 14,
    "start_time": "2023-06-14T10:20:29.899Z"
   },
   {
    "duration": 6,
    "start_time": "2023-06-14T10:20:29.915Z"
   },
   {
    "duration": 189,
    "start_time": "2023-06-14T10:20:29.923Z"
   },
   {
    "duration": 5,
    "start_time": "2023-06-14T10:20:30.114Z"
   },
   {
    "duration": 116,
    "start_time": "2023-06-14T10:20:30.120Z"
   },
   {
    "duration": 235,
    "start_time": "2023-06-14T10:20:30.238Z"
   },
   {
    "duration": 68,
    "start_time": "2023-06-14T10:20:30.475Z"
   },
   {
    "duration": 90,
    "start_time": "2023-06-14T10:20:30.545Z"
   },
   {
    "duration": 4,
    "start_time": "2023-06-14T10:20:50.690Z"
   },
   {
    "duration": 6,
    "start_time": "2023-06-14T10:21:07.526Z"
   },
   {
    "duration": 17,
    "start_time": "2023-06-14T10:22:51.102Z"
   },
   {
    "duration": 6,
    "start_time": "2023-06-14T10:25:19.362Z"
   },
   {
    "duration": 9,
    "start_time": "2023-06-14T10:26:05.652Z"
   },
   {
    "duration": 82,
    "start_time": "2023-06-14T10:26:08.423Z"
   },
   {
    "duration": 3,
    "start_time": "2023-06-14T10:26:27.443Z"
   },
   {
    "duration": 22,
    "start_time": "2023-06-14T10:26:30.372Z"
   },
   {
    "duration": 4,
    "start_time": "2023-06-14T10:26:32.292Z"
   },
   {
    "duration": 87,
    "start_time": "2023-06-14T10:26:34.636Z"
   },
   {
    "duration": 3,
    "start_time": "2023-06-14T10:26:36.805Z"
   },
   {
    "duration": 1188,
    "start_time": "2023-06-14T10:26:40.574Z"
   },
   {
    "duration": 5,
    "start_time": "2023-06-14T10:32:27.309Z"
   },
   {
    "duration": 31,
    "start_time": "2023-06-14T10:33:26.436Z"
   },
   {
    "duration": 3,
    "start_time": "2023-06-14T10:36:43.463Z"
   },
   {
    "duration": 3,
    "start_time": "2023-06-14T10:42:28.577Z"
   },
   {
    "duration": 4,
    "start_time": "2023-06-14T10:44:31.836Z"
   },
   {
    "duration": 73,
    "start_time": "2023-06-14T10:44:43.807Z"
   },
   {
    "duration": 155059,
    "start_time": "2023-06-14T10:44:59.311Z"
   },
   {
    "duration": 5,
    "start_time": "2023-06-14T10:47:57.452Z"
   },
   {
    "duration": 61713,
    "start_time": "2023-06-14T10:54:31.589Z"
   },
   {
    "duration": 663,
    "start_time": "2023-06-14T10:56:42.105Z"
   },
   {
    "duration": 511,
    "start_time": "2023-06-14T10:57:30.865Z"
   },
   {
    "duration": 4,
    "start_time": "2023-06-14T10:57:56.434Z"
   },
   {
    "duration": 6,
    "start_time": "2023-06-14T10:58:43.912Z"
   },
   {
    "duration": 3,
    "start_time": "2023-06-14T11:02:38.236Z"
   },
   {
    "duration": 3,
    "start_time": "2023-06-14T11:02:40.115Z"
   },
   {
    "duration": 120,
    "start_time": "2023-06-14T11:02:45.277Z"
   },
   {
    "duration": 204,
    "start_time": "2023-06-14T11:07:22.404Z"
   },
   {
    "duration": 3,
    "start_time": "2023-06-14T11:07:31.009Z"
   },
   {
    "duration": 3,
    "start_time": "2023-06-14T11:07:33.812Z"
   },
   {
    "duration": 106,
    "start_time": "2023-06-14T11:07:43.992Z"
   },
   {
    "duration": 3,
    "start_time": "2023-06-14T11:08:55.386Z"
   },
   {
    "duration": 3,
    "start_time": "2023-06-14T11:08:57.585Z"
   },
   {
    "duration": 143281,
    "start_time": "2023-06-14T11:09:00.382Z"
   },
   {
    "duration": 5,
    "start_time": "2023-06-14T11:11:30.517Z"
   },
   {
    "duration": 5,
    "start_time": "2023-06-14T11:12:40.271Z"
   },
   {
    "duration": 4,
    "start_time": "2023-06-14T11:13:26.075Z"
   },
   {
    "duration": 27626,
    "start_time": "2023-06-14T11:15:04.445Z"
   },
   {
    "duration": 541,
    "start_time": "2023-06-14T11:15:47.532Z"
   },
   {
    "duration": 5,
    "start_time": "2023-06-14T11:15:50.096Z"
   },
   {
    "duration": 12,
    "start_time": "2023-06-14T11:38:04.836Z"
   },
   {
    "duration": 36,
    "start_time": "2023-06-14T11:38:13.207Z"
   },
   {
    "duration": 5,
    "start_time": "2023-06-14T11:38:22.148Z"
   },
   {
    "duration": 3,
    "start_time": "2023-06-14T11:38:25.087Z"
   },
   {
    "duration": 3,
    "start_time": "2023-06-14T11:38:27.296Z"
   },
   {
    "duration": 78316,
    "start_time": "2023-06-14T11:38:33.111Z"
   },
   {
    "duration": 4,
    "start_time": "2023-06-14T11:40:26.359Z"
   },
   {
    "duration": 71089,
    "start_time": "2023-06-14T11:47:29.564Z"
   },
   {
    "duration": 8,
    "start_time": "2023-06-14T11:48:40.656Z"
   },
   {
    "duration": 73191,
    "start_time": "2023-06-14T11:49:43.714Z"
   },
   {
    "duration": 5,
    "start_time": "2023-06-14T11:51:24.091Z"
   },
   {
    "duration": 74085,
    "start_time": "2023-06-14T11:54:32.959Z"
   },
   {
    "duration": 4,
    "start_time": "2023-06-14T11:55:50.503Z"
   },
   {
    "duration": 15,
    "start_time": "2023-06-14T11:55:58.090Z"
   },
   {
    "duration": 4,
    "start_time": "2023-06-14T11:56:23.887Z"
   },
   {
    "duration": 3,
    "start_time": "2023-06-14T11:56:35.713Z"
   },
   {
    "duration": 745319,
    "start_time": "2023-06-14T11:56:47.834Z"
   },
   {
    "duration": 4,
    "start_time": "2023-06-14T12:11:18.558Z"
   },
   {
    "duration": 64,
    "start_time": "2023-06-14T12:11:48.782Z"
   },
   {
    "duration": 3,
    "start_time": "2023-06-14T12:11:52.648Z"
   },
   {
    "duration": 3,
    "start_time": "2023-06-14T12:13:42.770Z"
   },
   {
    "duration": 77747,
    "start_time": "2023-06-14T12:13:46.417Z"
   },
   {
    "duration": 4,
    "start_time": "2023-06-14T12:15:31.511Z"
   },
   {
    "duration": 4,
    "start_time": "2023-06-14T12:20:27.093Z"
   },
   {
    "duration": 4,
    "start_time": "2023-06-14T12:20:29.286Z"
   },
   {
    "duration": 15,
    "start_time": "2023-06-14T12:20:31.325Z"
   },
   {
    "duration": 2,
    "start_time": "2023-06-14T12:21:39.495Z"
   },
   {
    "duration": 107,
    "start_time": "2023-06-14T12:22:01.202Z"
   },
   {
    "duration": 2455496,
    "start_time": "2023-06-14T12:22:14.971Z"
   },
   {
    "duration": 4,
    "start_time": "2023-06-14T13:05:15.423Z"
   },
   {
    "duration": 10,
    "start_time": "2023-06-14T13:06:38.888Z"
   },
   {
    "duration": 25,
    "start_time": "2023-06-14T13:06:47.002Z"
   },
   {
    "duration": 2,
    "start_time": "2023-06-14T13:06:52.892Z"
   },
   {
    "duration": 4,
    "start_time": "2023-06-14T13:06:54.403Z"
   },
   {
    "duration": 2,
    "start_time": "2023-06-14T13:06:56.851Z"
   },
   {
    "duration": 1424,
    "start_time": "2023-06-14T13:07:18.772Z"
   },
   {
    "duration": 93,
    "start_time": "2023-06-14T17:39:09.765Z"
   },
   {
    "duration": 2283,
    "start_time": "2023-06-14T17:39:28.512Z"
   },
   {
    "duration": 4,
    "start_time": "2023-06-14T17:39:30.802Z"
   },
   {
    "duration": 4877,
    "start_time": "2023-06-14T17:39:30.813Z"
   },
   {
    "duration": 46,
    "start_time": "2023-06-14T17:39:35.693Z"
   },
   {
    "duration": 452,
    "start_time": "2023-06-14T17:39:35.749Z"
   },
   {
    "duration": 1589,
    "start_time": "2023-06-14T17:39:36.203Z"
   },
   {
    "duration": 14,
    "start_time": "2023-06-14T17:39:37.797Z"
   },
   {
    "duration": 78,
    "start_time": "2023-06-14T17:39:37.813Z"
   },
   {
    "duration": 532,
    "start_time": "2023-06-14T17:39:37.894Z"
   },
   {
    "duration": 36,
    "start_time": "2023-06-14T17:39:38.430Z"
   },
   {
    "duration": 70,
    "start_time": "2023-06-14T17:39:38.468Z"
   },
   {
    "duration": 45,
    "start_time": "2023-06-14T17:39:38.540Z"
   },
   {
    "duration": 60,
    "start_time": "2023-06-14T17:39:38.587Z"
   },
   {
    "duration": 120,
    "start_time": "2023-06-14T17:39:38.650Z"
   },
   {
    "duration": 111,
    "start_time": "2023-06-14T17:39:38.774Z"
   },
   {
    "duration": 85,
    "start_time": "2023-06-14T17:39:38.888Z"
   },
   {
    "duration": 439,
    "start_time": "2023-06-14T17:39:38.977Z"
   },
   {
    "duration": 30,
    "start_time": "2023-06-14T17:39:39.418Z"
   },
   {
    "duration": 125,
    "start_time": "2023-06-14T17:39:39.450Z"
   },
   {
    "duration": 51,
    "start_time": "2023-06-14T17:39:39.578Z"
   },
   {
    "duration": 34,
    "start_time": "2023-06-14T17:39:39.634Z"
   },
   {
    "duration": 142,
    "start_time": "2023-06-14T17:39:39.670Z"
   },
   {
    "duration": 555,
    "start_time": "2023-06-14T17:39:39.814Z"
   },
   {
    "duration": 72,
    "start_time": "2023-06-14T17:39:40.378Z"
   },
   {
    "duration": 75,
    "start_time": "2023-06-14T17:39:40.458Z"
   },
   {
    "duration": 48046,
    "start_time": "2023-06-14T17:39:40.548Z"
   },
   {
    "duration": 52,
    "start_time": "2023-06-14T17:40:28.596Z"
   },
   {
    "duration": 49,
    "start_time": "2023-06-14T17:40:28.651Z"
   },
   {
    "duration": 100,
    "start_time": "2023-06-14T17:40:28.702Z"
   },
   {
    "duration": 32,
    "start_time": "2023-06-14T17:40:28.805Z"
   },
   {
    "duration": 72,
    "start_time": "2023-06-14T17:40:28.840Z"
   },
   {
    "duration": 13,
    "start_time": "2023-06-14T17:40:28.914Z"
   },
   {
    "duration": 24,
    "start_time": "2023-06-14T17:40:28.930Z"
   },
   {
    "duration": 17,
    "start_time": "2023-06-14T17:40:28.956Z"
   },
   {
    "duration": 265,
    "start_time": "2023-06-14T17:40:28.976Z"
   },
   {
    "duration": 17,
    "start_time": "2023-06-14T17:40:29.253Z"
   },
   {
    "duration": 25,
    "start_time": "2023-06-14T17:40:29.277Z"
   },
   {
    "duration": 75,
    "start_time": "2023-06-14T17:40:29.305Z"
   },
   {
    "duration": 1130,
    "start_time": "2023-06-14T17:40:29.382Z"
   },
   {
    "duration": 23,
    "start_time": "2023-06-14T17:40:30.514Z"
   },
   {
    "duration": 122,
    "start_time": "2023-06-14T17:40:30.552Z"
   },
   {
    "duration": 194,
    "start_time": "2023-06-14T17:40:30.676Z"
   },
   {
    "duration": 639,
    "start_time": "2023-06-14T17:40:30.873Z"
   },
   {
    "duration": 688,
    "start_time": "2023-06-14T17:40:31.514Z"
   },
   {
    "duration": 16,
    "start_time": "2023-06-14T17:40:32.204Z"
   },
   {
    "duration": 10,
    "start_time": "2023-06-14T17:40:32.226Z"
   },
   {
    "duration": 56,
    "start_time": "2023-06-14T17:40:32.238Z"
   },
   {
    "duration": 49,
    "start_time": "2023-06-14T17:40:32.297Z"
   },
   {
    "duration": 62,
    "start_time": "2023-06-14T17:40:32.348Z"
   },
   {
    "duration": 20,
    "start_time": "2023-06-14T17:40:32.412Z"
   },
   {
    "duration": 27,
    "start_time": "2023-06-14T17:40:32.443Z"
   },
   {
    "duration": 6,
    "start_time": "2023-06-14T17:40:32.476Z"
   },
   {
    "duration": 2116,
    "start_time": "2023-06-14T17:40:32.484Z"
   },
   {
    "duration": 0,
    "start_time": "2023-06-14T17:40:34.602Z"
   },
   {
    "duration": 0,
    "start_time": "2023-06-14T17:40:34.604Z"
   },
   {
    "duration": 0,
    "start_time": "2023-06-14T17:40:34.605Z"
   },
   {
    "duration": 0,
    "start_time": "2023-06-14T17:40:34.607Z"
   },
   {
    "duration": 0,
    "start_time": "2023-06-14T17:40:34.608Z"
   },
   {
    "duration": 0,
    "start_time": "2023-06-14T17:40:34.610Z"
   },
   {
    "duration": 0,
    "start_time": "2023-06-14T17:40:34.611Z"
   },
   {
    "duration": 0,
    "start_time": "2023-06-14T17:40:34.612Z"
   },
   {
    "duration": 0,
    "start_time": "2023-06-14T17:40:34.618Z"
   },
   {
    "duration": 0,
    "start_time": "2023-06-14T17:40:34.621Z"
   },
   {
    "duration": 0,
    "start_time": "2023-06-14T17:40:34.622Z"
   },
   {
    "duration": 9,
    "start_time": "2023-06-14T17:41:25.046Z"
   },
   {
    "duration": 19,
    "start_time": "2023-06-14T17:41:25.058Z"
   },
   {
    "duration": 905,
    "start_time": "2023-06-14T17:41:25.079Z"
   },
   {
    "duration": 26,
    "start_time": "2023-06-14T17:41:25.987Z"
   },
   {
    "duration": 210,
    "start_time": "2023-06-14T17:41:26.019Z"
   },
   {
    "duration": 1386,
    "start_time": "2023-06-14T17:41:26.235Z"
   },
   {
    "duration": 4,
    "start_time": "2023-06-14T17:41:27.623Z"
   },
   {
    "duration": 37,
    "start_time": "2023-06-14T17:41:27.629Z"
   },
   {
    "duration": 307,
    "start_time": "2023-06-14T17:41:27.668Z"
   },
   {
    "duration": 22,
    "start_time": "2023-06-14T17:41:27.979Z"
   },
   {
    "duration": 25,
    "start_time": "2023-06-14T17:41:28.003Z"
   },
   {
    "duration": 35,
    "start_time": "2023-06-14T17:41:28.030Z"
   },
   {
    "duration": 55,
    "start_time": "2023-06-14T17:41:28.068Z"
   },
   {
    "duration": 117,
    "start_time": "2023-06-14T17:41:28.131Z"
   },
   {
    "duration": 120,
    "start_time": "2023-06-14T17:41:28.252Z"
   },
   {
    "duration": 65,
    "start_time": "2023-06-14T17:41:28.375Z"
   },
   {
    "duration": 439,
    "start_time": "2023-06-14T17:41:28.445Z"
   },
   {
    "duration": 39,
    "start_time": "2023-06-14T17:41:28.886Z"
   },
   {
    "duration": 53,
    "start_time": "2023-06-14T17:41:28.927Z"
   },
   {
    "duration": 78,
    "start_time": "2023-06-14T17:41:28.983Z"
   },
   {
    "duration": 28,
    "start_time": "2023-06-14T17:41:29.064Z"
   },
   {
    "duration": 100,
    "start_time": "2023-06-14T17:41:29.095Z"
   },
   {
    "duration": 542,
    "start_time": "2023-06-14T17:41:29.197Z"
   },
   {
    "duration": 52,
    "start_time": "2023-06-14T17:41:29.742Z"
   },
   {
    "duration": 52,
    "start_time": "2023-06-14T17:41:29.797Z"
   },
   {
    "duration": 46261,
    "start_time": "2023-06-14T17:41:29.855Z"
   },
   {
    "duration": 46,
    "start_time": "2023-06-14T17:42:16.119Z"
   },
   {
    "duration": 31,
    "start_time": "2023-06-14T17:42:16.169Z"
   },
   {
    "duration": 61,
    "start_time": "2023-06-14T17:42:16.224Z"
   },
   {
    "duration": 32,
    "start_time": "2023-06-14T17:42:16.287Z"
   },
   {
    "duration": 47,
    "start_time": "2023-06-14T17:42:16.324Z"
   },
   {
    "duration": 11,
    "start_time": "2023-06-14T17:42:16.375Z"
   },
   {
    "duration": 13,
    "start_time": "2023-06-14T17:42:16.388Z"
   },
   {
    "duration": 13,
    "start_time": "2023-06-14T17:42:16.404Z"
   },
   {
    "duration": 333,
    "start_time": "2023-06-14T17:42:16.419Z"
   },
   {
    "duration": 9,
    "start_time": "2023-06-14T17:42:16.754Z"
   },
   {
    "duration": 13,
    "start_time": "2023-06-14T17:42:16.766Z"
   },
   {
    "duration": 43,
    "start_time": "2023-06-14T17:42:16.781Z"
   },
   {
    "duration": 990,
    "start_time": "2023-06-14T17:42:16.834Z"
   },
   {
    "duration": 19,
    "start_time": "2023-06-14T17:42:17.829Z"
   },
   {
    "duration": 107,
    "start_time": "2023-06-14T17:42:17.854Z"
   },
   {
    "duration": 11,
    "start_time": "2023-06-14T17:42:17.963Z"
   },
   {
    "duration": 6,
    "start_time": "2023-06-14T17:42:17.976Z"
   },
   {
    "duration": 240,
    "start_time": "2023-06-14T17:42:17.985Z"
   },
   {
    "duration": 6,
    "start_time": "2023-06-14T17:42:18.227Z"
   },
   {
    "duration": 143,
    "start_time": "2023-06-14T17:42:18.240Z"
   },
   {
    "duration": 92,
    "start_time": "2023-06-14T17:42:18.385Z"
   },
   {
    "duration": 78,
    "start_time": "2023-06-14T17:42:18.479Z"
   },
   {
    "duration": 46,
    "start_time": "2023-06-14T17:42:18.559Z"
   },
   {
    "duration": 24,
    "start_time": "2023-06-14T17:42:18.607Z"
   },
   {
    "duration": 40,
    "start_time": "2023-06-14T17:42:18.638Z"
   },
   {
    "duration": 6,
    "start_time": "2023-06-14T17:42:18.680Z"
   },
   {
    "duration": 1280,
    "start_time": "2023-06-14T17:42:18.688Z"
   },
   {
    "duration": 857,
    "start_time": "2023-06-14T17:42:19.970Z"
   },
   {
    "duration": 19,
    "start_time": "2023-06-14T17:42:20.841Z"
   },
   {
    "duration": 139,
    "start_time": "2023-06-14T17:42:20.863Z"
   },
   {
    "duration": 12,
    "start_time": "2023-06-14T17:42:21.005Z"
   },
   {
    "duration": 56,
    "start_time": "2023-06-14T17:42:21.020Z"
   },
   {
    "duration": 6,
    "start_time": "2023-06-14T17:42:21.078Z"
   },
   {
    "duration": 141,
    "start_time": "2023-06-14T17:42:21.086Z"
   },
   {
    "duration": 12,
    "start_time": "2023-06-14T17:42:21.238Z"
   },
   {
    "duration": 6,
    "start_time": "2023-06-14T17:42:34.365Z"
   },
   {
    "duration": 10,
    "start_time": "2023-06-14T17:42:37.486Z"
   },
   {
    "duration": 3,
    "start_time": "2023-06-14T17:42:49.298Z"
   },
   {
    "duration": 176,
    "start_time": "2023-06-14T17:42:55.788Z"
   },
   {
    "duration": 11,
    "start_time": "2023-06-14T17:44:02.958Z"
   },
   {
    "duration": 10,
    "start_time": "2023-06-14T17:44:04.847Z"
   },
   {
    "duration": 217,
    "start_time": "2023-06-14T17:44:08.494Z"
   },
   {
    "duration": 7,
    "start_time": "2023-06-14T17:47:36.747Z"
   },
   {
    "duration": 7,
    "start_time": "2023-06-14T17:47:47.446Z"
   },
   {
    "duration": 174,
    "start_time": "2023-06-14T17:47:52.959Z"
   },
   {
    "duration": 4,
    "start_time": "2023-06-14T18:00:40.800Z"
   },
   {
    "duration": 4,
    "start_time": "2023-06-14T18:00:43.598Z"
   },
   {
    "duration": 5,
    "start_time": "2023-06-14T18:00:50.609Z"
   },
   {
    "duration": 155,
    "start_time": "2023-06-14T18:00:54.737Z"
   },
   {
    "duration": 5,
    "start_time": "2023-06-14T18:08:51.878Z"
   },
   {
    "duration": 10,
    "start_time": "2023-06-14T18:08:51.886Z"
   },
   {
    "duration": 856,
    "start_time": "2023-06-14T18:08:51.899Z"
   },
   {
    "duration": 14,
    "start_time": "2023-06-14T18:08:52.757Z"
   },
   {
    "duration": 169,
    "start_time": "2023-06-14T18:08:52.774Z"
   },
   {
    "duration": 1055,
    "start_time": "2023-06-14T18:08:52.944Z"
   },
   {
    "duration": 5,
    "start_time": "2023-06-14T18:08:54.001Z"
   },
   {
    "duration": 32,
    "start_time": "2023-06-14T18:08:54.013Z"
   },
   {
    "duration": 251,
    "start_time": "2023-06-14T18:08:54.047Z"
   },
   {
    "duration": 31,
    "start_time": "2023-06-14T18:08:54.300Z"
   },
   {
    "duration": 6,
    "start_time": "2023-06-14T18:08:54.335Z"
   },
   {
    "duration": 20,
    "start_time": "2023-06-14T18:08:54.343Z"
   },
   {
    "duration": 67,
    "start_time": "2023-06-14T18:08:54.365Z"
   },
   {
    "duration": 96,
    "start_time": "2023-06-14T18:08:54.436Z"
   },
   {
    "duration": 82,
    "start_time": "2023-06-14T18:08:54.534Z"
   },
   {
    "duration": 47,
    "start_time": "2023-06-14T18:08:54.618Z"
   },
   {
    "duration": 293,
    "start_time": "2023-06-14T18:08:54.667Z"
   },
   {
    "duration": 15,
    "start_time": "2023-06-14T18:08:54.962Z"
   },
   {
    "duration": 50,
    "start_time": "2023-06-14T18:08:54.979Z"
   },
   {
    "duration": 53,
    "start_time": "2023-06-14T18:08:55.032Z"
   },
   {
    "duration": 25,
    "start_time": "2023-06-14T18:08:55.086Z"
   },
   {
    "duration": 81,
    "start_time": "2023-06-14T18:08:55.112Z"
   },
   {
    "duration": 390,
    "start_time": "2023-06-14T18:08:55.195Z"
   },
   {
    "duration": 60,
    "start_time": "2023-06-14T18:08:55.587Z"
   },
   {
    "duration": 37,
    "start_time": "2023-06-14T18:08:55.649Z"
   },
   {
    "duration": 40199,
    "start_time": "2023-06-14T18:08:55.688Z"
   },
   {
    "duration": 37,
    "start_time": "2023-06-14T18:09:35.889Z"
   },
   {
    "duration": 51,
    "start_time": "2023-06-14T18:09:35.927Z"
   },
   {
    "duration": 66,
    "start_time": "2023-06-14T18:09:35.980Z"
   },
   {
    "duration": 35,
    "start_time": "2023-06-14T18:09:36.055Z"
   },
   {
    "duration": 39,
    "start_time": "2023-06-14T18:09:36.092Z"
   },
   {
    "duration": 10,
    "start_time": "2023-06-14T18:09:36.133Z"
   },
   {
    "duration": 11,
    "start_time": "2023-06-14T18:09:36.145Z"
   },
   {
    "duration": 5,
    "start_time": "2023-06-14T18:09:36.159Z"
   },
   {
    "duration": 178,
    "start_time": "2023-06-14T18:09:36.165Z"
   },
   {
    "duration": 6,
    "start_time": "2023-06-14T18:09:36.345Z"
   },
   {
    "duration": 10,
    "start_time": "2023-06-14T18:09:36.353Z"
   },
   {
    "duration": 12,
    "start_time": "2023-06-14T18:09:36.365Z"
   },
   {
    "duration": 854,
    "start_time": "2023-06-14T18:09:36.378Z"
   },
   {
    "duration": 10,
    "start_time": "2023-06-14T18:09:37.234Z"
   },
   {
    "duration": 8,
    "start_time": "2023-06-14T18:09:37.248Z"
   },
   {
    "duration": 10,
    "start_time": "2023-06-14T18:09:37.258Z"
   },
   {
    "duration": 5,
    "start_time": "2023-06-14T18:09:37.270Z"
   },
   {
    "duration": 198,
    "start_time": "2023-06-14T18:09:37.277Z"
   },
   {
    "duration": 6,
    "start_time": "2023-06-14T18:09:37.476Z"
   },
   {
    "duration": 9,
    "start_time": "2023-06-14T18:09:37.483Z"
   },
   {
    "duration": 44,
    "start_time": "2023-06-14T18:09:37.493Z"
   },
   {
    "duration": 22,
    "start_time": "2023-06-14T18:09:37.539Z"
   },
   {
    "duration": 42,
    "start_time": "2023-06-14T18:09:37.563Z"
   },
   {
    "duration": 24,
    "start_time": "2023-06-14T18:09:37.606Z"
   },
   {
    "duration": 19,
    "start_time": "2023-06-14T18:09:37.635Z"
   },
   {
    "duration": 5,
    "start_time": "2023-06-14T18:09:37.656Z"
   },
   {
    "duration": 1075,
    "start_time": "2023-06-14T18:09:37.663Z"
   },
   {
    "duration": 827,
    "start_time": "2023-06-14T18:09:38.739Z"
   },
   {
    "duration": 9,
    "start_time": "2023-06-14T18:09:39.568Z"
   },
   {
    "duration": 122,
    "start_time": "2023-06-14T18:09:39.581Z"
   },
   {
    "duration": 4,
    "start_time": "2023-06-14T18:09:39.705Z"
   },
   {
    "duration": 30,
    "start_time": "2023-06-14T18:09:39.717Z"
   },
   {
    "duration": 5,
    "start_time": "2023-06-14T18:09:39.750Z"
   },
   {
    "duration": 113,
    "start_time": "2023-06-14T18:09:39.757Z"
   },
   {
    "duration": 3,
    "start_time": "2023-06-14T18:11:25.599Z"
   },
   {
    "duration": 4,
    "start_time": "2023-06-14T18:11:27.686Z"
   },
   {
    "duration": 2,
    "start_time": "2023-06-14T18:11:31.903Z"
   },
   {
    "duration": 143,
    "start_time": "2023-06-14T18:11:34.191Z"
   },
   {
    "duration": 391177,
    "start_time": "2023-06-14T18:13:13.782Z"
   },
   {
    "duration": 1295,
    "start_time": "2023-06-14T18:20:40.946Z"
   },
   {
    "duration": 1391,
    "start_time": "2023-06-14T18:21:00.639Z"
   },
   {
    "duration": 17,
    "start_time": "2023-06-14T18:21:51.518Z"
   },
   {
    "duration": 7,
    "start_time": "2023-06-14T18:22:10.543Z"
   },
   {
    "duration": 5,
    "start_time": "2023-06-14T18:22:52.839Z"
   },
   {
    "duration": 4,
    "start_time": "2023-06-14T18:30:37.450Z"
   },
   {
    "duration": 3,
    "start_time": "2023-06-14T18:30:38.904Z"
   },
   {
    "duration": 177,
    "start_time": "2023-06-14T18:31:31.015Z"
   },
   {
    "duration": 3,
    "start_time": "2023-06-14T18:33:32.714Z"
   },
   {
    "duration": 4,
    "start_time": "2023-06-14T18:33:36.000Z"
   },
   {
    "duration": 231,
    "start_time": "2023-06-14T18:33:39.718Z"
   },
   {
    "duration": 4,
    "start_time": "2023-06-14T18:41:12.286Z"
   },
   {
    "duration": 145,
    "start_time": "2023-06-14T18:41:28.836Z"
   },
   {
    "duration": 31,
    "start_time": "2023-06-14T18:54:39.557Z"
   },
   {
    "duration": 6,
    "start_time": "2023-06-14T18:56:31.125Z"
   },
   {
    "duration": 3,
    "start_time": "2023-06-14T18:56:34.980Z"
   },
   {
    "duration": 171,
    "start_time": "2023-06-14T18:56:38.711Z"
   },
   {
    "duration": 5,
    "start_time": "2023-06-14T18:57:49.704Z"
   },
   {
    "duration": 3,
    "start_time": "2023-06-14T18:57:52.789Z"
   },
   {
    "duration": 239,
    "start_time": "2023-06-14T18:57:55.889Z"
   },
   {
    "duration": 7,
    "start_time": "2023-06-14T18:59:42.862Z"
   },
   {
    "duration": 11,
    "start_time": "2023-06-14T18:59:56.346Z"
   },
   {
    "duration": 215,
    "start_time": "2023-06-14T19:00:01.006Z"
   },
   {
    "duration": 4,
    "start_time": "2023-06-14T19:02:47.743Z"
   },
   {
    "duration": 4,
    "start_time": "2023-06-14T19:02:53.792Z"
   },
   {
    "duration": 277,
    "start_time": "2023-06-14T19:03:00.402Z"
   },
   {
    "duration": 8,
    "start_time": "2023-06-14T19:03:26.150Z"
   },
   {
    "duration": 16,
    "start_time": "2023-06-14T19:03:27.928Z"
   },
   {
    "duration": 223,
    "start_time": "2023-06-14T19:03:31.746Z"
   },
   {
    "duration": 6,
    "start_time": "2023-06-14T19:04:37.353Z"
   },
   {
    "duration": 3,
    "start_time": "2023-06-14T19:04:42.100Z"
   },
   {
    "duration": 4879254,
    "start_time": "2023-06-14T19:04:45.809Z"
   },
   {
    "duration": 1615,
    "start_time": "2023-06-14T20:26:05.076Z"
   },
   {
    "duration": 3,
    "start_time": "2023-06-14T20:26:30.120Z"
   },
   {
    "duration": 106805,
    "start_time": "2023-06-14T20:26:57.658Z"
   },
   {
    "duration": 8,
    "start_time": "2023-06-14T20:28:48.545Z"
   },
   {
    "duration": 6,
    "start_time": "2023-06-14T20:28:57.600Z"
   },
   {
    "duration": 18,
    "start_time": "2023-06-14T20:35:16.008Z"
   },
   {
    "duration": 3,
    "start_time": "2023-06-14T20:35:22.258Z"
   },
   {
    "duration": 343286,
    "start_time": "2023-06-14T20:35:26.128Z"
   },
   {
    "duration": 5,
    "start_time": "2023-06-14T20:41:16.949Z"
   },
   {
    "duration": 5,
    "start_time": "2023-06-14T20:41:23.517Z"
   },
   {
    "duration": 25332,
    "start_time": "2023-06-14T20:42:46.100Z"
   },
   {
    "duration": 529,
    "start_time": "2023-06-14T20:46:20.396Z"
   },
   {
    "duration": 6,
    "start_time": "2023-06-14T20:46:36.016Z"
   },
   {
    "duration": 13,
    "start_time": "2023-06-14T20:49:33.835Z"
   },
   {
    "duration": 3,
    "start_time": "2023-06-14T20:49:37.498Z"
   },
   {
    "duration": 13,
    "start_time": "2023-06-14T20:49:44.307Z"
   },
   {
    "duration": 4,
    "start_time": "2023-06-14T20:49:48.612Z"
   },
   {
    "duration": 3,
    "start_time": "2023-06-14T20:49:51.133Z"
   },
   {
    "duration": 94011,
    "start_time": "2023-06-14T20:50:46.646Z"
   },
   {
    "duration": 7,
    "start_time": "2023-06-14T20:54:31.150Z"
   },
   {
    "duration": 4,
    "start_time": "2023-06-14T20:59:12.002Z"
   },
   {
    "duration": 569,
    "start_time": "2023-06-14T21:02:34.534Z"
   },
   {
    "duration": 1370,
    "start_time": "2023-06-14T21:03:08.478Z"
   },
   {
    "duration": 8279,
    "start_time": "2023-06-14T21:03:44.546Z"
   },
   {
    "duration": 732,
    "start_time": "2023-06-14T21:04:49.293Z"
   },
   {
    "duration": 655,
    "start_time": "2023-06-14T21:06:42.781Z"
   },
   {
    "duration": 6586,
    "start_time": "2023-06-14T21:07:46.858Z"
   },
   {
    "duration": 691,
    "start_time": "2023-06-14T21:09:28.944Z"
   },
   {
    "duration": 7,
    "start_time": "2023-06-14T21:09:41.046Z"
   },
   {
    "duration": 4,
    "start_time": "2023-06-14T21:11:29.240Z"
   },
   {
    "duration": 8183,
    "start_time": "2023-06-14T21:11:31.769Z"
   },
   {
    "duration": 620,
    "start_time": "2023-06-14T21:11:45.193Z"
   },
   {
    "duration": 18,
    "start_time": "2023-06-14T21:11:50.231Z"
   },
   {
    "duration": 24,
    "start_time": "2023-06-14T21:17:27.307Z"
   },
   {
    "duration": 4,
    "start_time": "2023-06-14T21:17:36.176Z"
   },
   {
    "duration": 3,
    "start_time": "2023-06-14T21:17:38.046Z"
   },
   {
    "duration": 3,
    "start_time": "2023-06-14T21:17:43.784Z"
   },
   {
    "duration": 89248,
    "start_time": "2023-06-14T21:17:46.489Z"
   },
   {
    "duration": 4,
    "start_time": "2023-06-14T21:26:44.690Z"
   },
   {
    "duration": 6,
    "start_time": "2023-06-14T21:26:47.280Z"
   },
   {
    "duration": 9,
    "start_time": "2023-06-14T21:28:30.580Z"
   },
   {
    "duration": 6,
    "start_time": "2023-06-14T21:28:37.845Z"
   },
   {
    "duration": 796398,
    "start_time": "2023-06-14T21:29:28.679Z"
   },
   {
    "duration": 4,
    "start_time": "2023-06-14T21:42:52.175Z"
   },
   {
    "duration": 5,
    "start_time": "2023-06-14T21:45:18.974Z"
   },
   {
    "duration": 143,
    "start_time": "2023-06-14T21:45:22.956Z"
   },
   {
    "duration": 674,
    "start_time": "2023-06-14T21:45:30.749Z"
   },
   {
    "duration": 2259,
    "start_time": "2023-06-14T21:45:45.194Z"
   },
   {
    "duration": 627,
    "start_time": "2023-06-14T21:46:21.712Z"
   },
   {
    "duration": 12,
    "start_time": "2023-06-14T21:46:42.655Z"
   },
   {
    "duration": 10,
    "start_time": "2023-06-14T21:48:40.853Z"
   },
   {
    "duration": 6,
    "start_time": "2023-06-14T21:58:43.535Z"
   },
   {
    "duration": 3,
    "start_time": "2023-06-14T22:01:03.000Z"
   },
   {
    "duration": 3429377,
    "start_time": "2023-06-14T22:01:11.326Z"
   },
   {
    "duration": 17,
    "start_time": "2023-06-14T22:58:38.883Z"
   },
   {
    "duration": 2780804,
    "start_time": "2023-06-14T22:58:44.581Z"
   },
   {
    "duration": 1627,
    "start_time": "2023-06-15T08:53:13.541Z"
   },
   {
    "duration": 3,
    "start_time": "2023-06-15T08:53:15.170Z"
   },
   {
    "duration": 2831,
    "start_time": "2023-06-15T08:53:15.174Z"
   },
   {
    "duration": 15,
    "start_time": "2023-06-15T08:53:18.007Z"
   },
   {
    "duration": 157,
    "start_time": "2023-06-15T08:53:18.024Z"
   },
   {
    "duration": 998,
    "start_time": "2023-06-15T08:53:18.182Z"
   },
   {
    "duration": 3,
    "start_time": "2023-06-15T08:53:19.182Z"
   },
   {
    "duration": 44,
    "start_time": "2023-06-15T08:53:19.186Z"
   },
   {
    "duration": 273,
    "start_time": "2023-06-15T08:53:19.232Z"
   },
   {
    "duration": 20,
    "start_time": "2023-06-15T08:53:19.508Z"
   },
   {
    "duration": 6,
    "start_time": "2023-06-15T08:53:19.529Z"
   },
   {
    "duration": 35,
    "start_time": "2023-06-15T08:53:19.536Z"
   },
   {
    "duration": 38,
    "start_time": "2023-06-15T08:53:19.573Z"
   },
   {
    "duration": 112,
    "start_time": "2023-06-15T08:53:19.613Z"
   },
   {
    "duration": 81,
    "start_time": "2023-06-15T08:53:19.727Z"
   },
   {
    "duration": 50,
    "start_time": "2023-06-15T08:53:19.810Z"
   },
   {
    "duration": 265,
    "start_time": "2023-06-15T08:53:19.861Z"
   },
   {
    "duration": 16,
    "start_time": "2023-06-15T08:53:20.128Z"
   },
   {
    "duration": 61,
    "start_time": "2023-06-15T08:53:20.153Z"
   },
   {
    "duration": 50,
    "start_time": "2023-06-15T08:53:20.215Z"
   },
   {
    "duration": 34,
    "start_time": "2023-06-15T08:53:20.266Z"
   },
   {
    "duration": 88,
    "start_time": "2023-06-15T08:53:20.302Z"
   },
   {
    "duration": 369,
    "start_time": "2023-06-15T08:53:20.395Z"
   },
   {
    "duration": 35,
    "start_time": "2023-06-15T08:53:20.765Z"
   },
   {
    "duration": 28,
    "start_time": "2023-06-15T08:53:20.802Z"
   },
   {
    "duration": 32485,
    "start_time": "2023-06-15T08:53:20.831Z"
   },
   {
    "duration": 27,
    "start_time": "2023-06-15T08:53:53.318Z"
   },
   {
    "duration": 37,
    "start_time": "2023-06-15T08:53:53.356Z"
   },
   {
    "duration": 56,
    "start_time": "2023-06-15T08:53:53.395Z"
   },
   {
    "duration": 21,
    "start_time": "2023-06-15T08:55:57.181Z"
   },
   {
    "duration": 18,
    "start_time": "2023-06-15T08:56:12.042Z"
   },
   {
    "duration": 19,
    "start_time": "2023-06-15T08:56:23.226Z"
   },
   {
    "duration": 115,
    "start_time": "2023-06-15T08:56:50.725Z"
   },
   {
    "duration": 19,
    "start_time": "2023-06-15T08:56:57.303Z"
   },
   {
    "duration": 31,
    "start_time": "2023-06-15T08:58:08.462Z"
   },
   {
    "duration": 28,
    "start_time": "2023-06-15T08:58:15.198Z"
   },
   {
    "duration": 40,
    "start_time": "2023-06-15T09:00:00.744Z"
   },
   {
    "duration": 35,
    "start_time": "2023-06-15T09:00:10.077Z"
   },
   {
    "duration": 34,
    "start_time": "2023-06-15T09:00:13.217Z"
   },
   {
    "duration": 29,
    "start_time": "2023-06-15T09:00:50.838Z"
   },
   {
    "duration": 28,
    "start_time": "2023-06-15T09:01:10.240Z"
   },
   {
    "duration": 21,
    "start_time": "2023-06-15T09:02:14.099Z"
   },
   {
    "duration": 32,
    "start_time": "2023-06-15T09:02:21.977Z"
   },
   {
    "duration": 29,
    "start_time": "2023-06-15T09:02:30.310Z"
   },
   {
    "duration": 30,
    "start_time": "2023-06-15T09:02:40.759Z"
   },
   {
    "duration": 30,
    "start_time": "2023-06-15T09:02:45.516Z"
   },
   {
    "duration": 29,
    "start_time": "2023-06-15T09:04:00.653Z"
   },
   {
    "duration": 49,
    "start_time": "2023-06-15T09:08:10.872Z"
   },
   {
    "duration": 5,
    "start_time": "2023-06-15T09:47:33.603Z"
   },
   {
    "duration": 5,
    "start_time": "2023-06-15T09:51:37.752Z"
   },
   {
    "duration": 13,
    "start_time": "2023-06-15T09:52:20.571Z"
   },
   {
    "duration": 13,
    "start_time": "2023-06-15T09:52:31.467Z"
   },
   {
    "duration": 19,
    "start_time": "2023-06-15T10:00:14.346Z"
   },
   {
    "duration": 3,
    "start_time": "2023-06-15T10:00:18.367Z"
   },
   {
    "duration": 4,
    "start_time": "2023-06-15T10:00:20.169Z"
   },
   {
    "duration": 7,
    "start_time": "2023-06-15T10:00:24.158Z"
   },
   {
    "duration": 108,
    "start_time": "2023-06-15T10:02:17.623Z"
   },
   {
    "duration": 5,
    "start_time": "2023-06-15T10:02:25.854Z"
   },
   {
    "duration": 3,
    "start_time": "2023-06-15T10:02:29.278Z"
   },
   {
    "duration": 4,
    "start_time": "2023-06-15T10:02:31.277Z"
   },
   {
    "duration": 2,
    "start_time": "2023-06-15T10:02:50.400Z"
   },
   {
    "duration": 3,
    "start_time": "2023-06-15T10:02:51.795Z"
   },
   {
    "duration": 3,
    "start_time": "2023-06-15T10:02:53.246Z"
   },
   {
    "duration": 7,
    "start_time": "2023-06-15T10:18:56.754Z"
   },
   {
    "duration": 396,
    "start_time": "2023-06-15T10:21:29.351Z"
   },
   {
    "duration": 5,
    "start_time": "2023-06-15T10:21:49.900Z"
   },
   {
    "duration": 5,
    "start_time": "2023-06-15T10:34:45.976Z"
   },
   {
    "duration": 6,
    "start_time": "2023-06-15T10:34:52.068Z"
   },
   {
    "duration": 6,
    "start_time": "2023-06-15T10:34:55.297Z"
   },
   {
    "duration": 5,
    "start_time": "2023-06-15T10:38:08.110Z"
   },
   {
    "duration": 6,
    "start_time": "2023-06-15T10:42:13.536Z"
   },
   {
    "duration": 5,
    "start_time": "2023-06-15T10:43:31.042Z"
   },
   {
    "duration": 6,
    "start_time": "2023-06-15T10:43:36.482Z"
   },
   {
    "duration": 6,
    "start_time": "2023-06-15T10:49:05.347Z"
   },
   {
    "duration": 6,
    "start_time": "2023-06-15T10:49:07.894Z"
   },
   {
    "duration": 5,
    "start_time": "2023-06-15T10:50:01.993Z"
   },
   {
    "duration": 5,
    "start_time": "2023-06-15T10:50:06.812Z"
   },
   {
    "duration": 75,
    "start_time": "2023-06-15T10:57:40.543Z"
   },
   {
    "duration": 5,
    "start_time": "2023-06-15T11:13:17.675Z"
   },
   {
    "duration": 2,
    "start_time": "2023-06-15T11:13:19.456Z"
   },
   {
    "duration": 7,
    "start_time": "2023-06-15T11:13:26.082Z"
   },
   {
    "duration": 3,
    "start_time": "2023-06-15T11:15:13.600Z"
   },
   {
    "duration": 7,
    "start_time": "2023-06-15T11:15:15.289Z"
   },
   {
    "duration": 221,
    "start_time": "2023-06-15T11:28:51.718Z"
   },
   {
    "duration": 34,
    "start_time": "2023-06-15T11:29:18.374Z"
   },
   {
    "duration": 1430,
    "start_time": "2023-06-15T11:30:24.404Z"
   },
   {
    "duration": 3,
    "start_time": "2023-06-15T11:30:25.836Z"
   },
   {
    "duration": 834,
    "start_time": "2023-06-15T11:30:25.841Z"
   },
   {
    "duration": 20,
    "start_time": "2023-06-15T11:30:26.677Z"
   },
   {
    "duration": 165,
    "start_time": "2023-06-15T11:30:26.699Z"
   },
   {
    "duration": 1119,
    "start_time": "2023-06-15T11:30:26.865Z"
   },
   {
    "duration": 3,
    "start_time": "2023-06-15T11:30:27.986Z"
   },
   {
    "duration": 52,
    "start_time": "2023-06-15T11:30:27.991Z"
   },
   {
    "duration": 305,
    "start_time": "2023-06-15T11:30:28.045Z"
   },
   {
    "duration": 20,
    "start_time": "2023-06-15T11:30:28.352Z"
   },
   {
    "duration": 12,
    "start_time": "2023-06-15T11:30:28.374Z"
   },
   {
    "duration": 37,
    "start_time": "2023-06-15T11:30:28.387Z"
   },
   {
    "duration": 48,
    "start_time": "2023-06-15T11:30:28.425Z"
   },
   {
    "duration": 99,
    "start_time": "2023-06-15T11:30:28.475Z"
   },
   {
    "duration": 87,
    "start_time": "2023-06-15T11:30:28.576Z"
   },
   {
    "duration": 55,
    "start_time": "2023-06-15T11:30:28.665Z"
   },
   {
    "duration": 264,
    "start_time": "2023-06-15T11:30:28.722Z"
   },
   {
    "duration": 16,
    "start_time": "2023-06-15T11:30:28.987Z"
   },
   {
    "duration": 60,
    "start_time": "2023-06-15T11:30:29.005Z"
   },
   {
    "duration": 61,
    "start_time": "2023-06-15T11:30:29.067Z"
   },
   {
    "duration": 31,
    "start_time": "2023-06-15T11:30:29.129Z"
   },
   {
    "duration": 97,
    "start_time": "2023-06-15T11:30:29.161Z"
   },
   {
    "duration": 355,
    "start_time": "2023-06-15T11:30:33.537Z"
   },
   {
    "duration": 37,
    "start_time": "2023-06-15T11:30:37.015Z"
   },
   {
    "duration": 19,
    "start_time": "2023-06-15T11:30:39.817Z"
   },
   {
    "duration": 2,
    "start_time": "2023-06-15T11:31:25.090Z"
   },
   {
    "duration": 228,
    "start_time": "2023-06-15T11:31:28.326Z"
   },
   {
    "duration": 22,
    "start_time": "2023-06-15T11:31:42.594Z"
   },
   {
    "duration": 29,
    "start_time": "2023-06-15T11:31:48.917Z"
   },
   {
    "duration": 19,
    "start_time": "2023-06-15T11:32:20.780Z"
   },
   {
    "duration": 28,
    "start_time": "2023-06-15T11:32:37.431Z"
   },
   {
    "duration": 23,
    "start_time": "2023-06-15T11:37:49.885Z"
   },
   {
    "duration": 1431,
    "start_time": "2023-06-15T11:43:10.632Z"
   },
   {
    "duration": 2,
    "start_time": "2023-06-15T11:43:12.065Z"
   },
   {
    "duration": 839,
    "start_time": "2023-06-15T11:43:12.068Z"
   },
   {
    "duration": 17,
    "start_time": "2023-06-15T11:43:12.909Z"
   },
   {
    "duration": 143,
    "start_time": "2023-06-15T11:43:12.928Z"
   },
   {
    "duration": 1001,
    "start_time": "2023-06-15T11:43:13.073Z"
   },
   {
    "duration": 4,
    "start_time": "2023-06-15T11:43:14.076Z"
   },
   {
    "duration": 43,
    "start_time": "2023-06-15T11:43:14.082Z"
   },
   {
    "duration": 275,
    "start_time": "2023-06-15T11:43:14.126Z"
   },
   {
    "duration": 19,
    "start_time": "2023-06-15T11:43:14.402Z"
   },
   {
    "duration": 6,
    "start_time": "2023-06-15T11:43:14.422Z"
   },
   {
    "duration": 39,
    "start_time": "2023-06-15T11:43:14.429Z"
   },
   {
    "duration": 38,
    "start_time": "2023-06-15T11:43:14.470Z"
   },
   {
    "duration": 95,
    "start_time": "2023-06-15T11:43:14.511Z"
   },
   {
    "duration": 88,
    "start_time": "2023-06-15T11:43:14.608Z"
   },
   {
    "duration": 57,
    "start_time": "2023-06-15T11:43:14.698Z"
   },
   {
    "duration": 262,
    "start_time": "2023-06-15T11:43:14.757Z"
   },
   {
    "duration": 18,
    "start_time": "2023-06-15T11:43:15.021Z"
   },
   {
    "duration": 42,
    "start_time": "2023-06-15T11:43:15.041Z"
   },
   {
    "duration": 59,
    "start_time": "2023-06-15T11:43:15.085Z"
   },
   {
    "duration": 19,
    "start_time": "2023-06-15T11:43:15.146Z"
   },
   {
    "duration": 85,
    "start_time": "2023-06-15T11:43:15.166Z"
   },
   {
    "duration": 367,
    "start_time": "2023-06-15T11:43:19.024Z"
   },
   {
    "duration": 35,
    "start_time": "2023-06-15T11:43:27.850Z"
   },
   {
    "duration": 19,
    "start_time": "2023-06-15T11:43:30.898Z"
   },
   {
    "duration": 23,
    "start_time": "2023-06-15T11:43:33.211Z"
   },
   {
    "duration": 2,
    "start_time": "2023-06-15T11:43:38.075Z"
   },
   {
    "duration": 407,
    "start_time": "2023-06-15T11:43:39.754Z"
   },
   {
    "duration": 20,
    "start_time": "2023-06-15T11:43:42.556Z"
   },
   {
    "duration": 21,
    "start_time": "2023-06-15T11:44:12.819Z"
   },
   {
    "duration": 27,
    "start_time": "2023-06-15T11:46:04.497Z"
   },
   {
    "duration": 33763,
    "start_time": "2023-06-15T11:46:12.718Z"
   },
   {
    "duration": 31,
    "start_time": "2023-06-15T11:46:52.036Z"
   },
   {
    "duration": 39,
    "start_time": "2023-06-15T11:46:56.161Z"
   },
   {
    "duration": 23,
    "start_time": "2023-06-15T11:51:56.470Z"
   },
   {
    "duration": 52,
    "start_time": "2023-06-15T11:52:08.347Z"
   },
   {
    "duration": 29,
    "start_time": "2023-06-15T11:54:29.506Z"
   },
   {
    "duration": 23,
    "start_time": "2023-06-15T11:54:53.459Z"
   },
   {
    "duration": 8,
    "start_time": "2023-06-15T11:55:00.317Z"
   },
   {
    "duration": 8,
    "start_time": "2023-06-15T11:56:16.003Z"
   },
   {
    "duration": 10,
    "start_time": "2023-06-15T11:56:49.176Z"
   },
   {
    "duration": 4,
    "start_time": "2023-06-15T11:56:53.314Z"
   },
   {
    "duration": 160,
    "start_time": "2023-06-15T11:57:12.404Z"
   },
   {
    "duration": 5,
    "start_time": "2023-06-15T11:57:18.375Z"
   },
   {
    "duration": 10,
    "start_time": "2023-06-15T11:57:23.922Z"
   },
   {
    "duration": 7,
    "start_time": "2023-06-15T11:58:18.606Z"
   },
   {
    "duration": 8,
    "start_time": "2023-06-15T11:58:52.077Z"
   },
   {
    "duration": 30,
    "start_time": "2023-06-15T11:59:01.254Z"
   },
   {
    "duration": 52,
    "start_time": "2023-06-15T12:07:35.536Z"
   },
   {
    "duration": 45,
    "start_time": "2023-06-15T12:08:20.012Z"
   },
   {
    "duration": 86,
    "start_time": "2023-06-15T12:09:19.614Z"
   },
   {
    "duration": 81,
    "start_time": "2023-06-15T12:09:27.873Z"
   },
   {
    "duration": 20,
    "start_time": "2023-06-15T12:09:43.575Z"
   },
   {
    "duration": 22,
    "start_time": "2023-06-15T12:10:11.713Z"
   },
   {
    "duration": 716,
    "start_time": "2023-06-15T12:10:37.404Z"
   },
   {
    "duration": 7,
    "start_time": "2023-06-15T12:11:18.506Z"
   },
   {
    "duration": 8,
    "start_time": "2023-06-15T12:11:48.615Z"
   },
   {
    "duration": 13,
    "start_time": "2023-06-15T12:12:11.180Z"
   },
   {
    "duration": 11,
    "start_time": "2023-06-15T12:13:16.737Z"
   },
   {
    "duration": 5,
    "start_time": "2023-06-15T12:13:19.642Z"
   },
   {
    "duration": 155,
    "start_time": "2023-06-15T12:13:26.466Z"
   },
   {
    "duration": 5,
    "start_time": "2023-06-15T12:13:29.470Z"
   },
   {
    "duration": 11,
    "start_time": "2023-06-15T12:14:00.731Z"
   },
   {
    "duration": 26,
    "start_time": "2023-06-15T12:14:41.701Z"
   },
   {
    "duration": 7,
    "start_time": "2023-06-15T12:16:00.164Z"
   },
   {
    "duration": 5,
    "start_time": "2023-06-15T12:16:02.163Z"
   },
   {
    "duration": 155,
    "start_time": "2023-06-15T12:16:40.492Z"
   },
   {
    "duration": 5,
    "start_time": "2023-06-15T12:16:42.669Z"
   },
   {
    "duration": 11,
    "start_time": "2023-06-15T12:16:45.637Z"
   },
   {
    "duration": 10,
    "start_time": "2023-06-15T12:16:57.158Z"
   },
   {
    "duration": 38,
    "start_time": "2023-06-15T12:18:17.177Z"
   },
   {
    "duration": 5,
    "start_time": "2023-06-15T12:20:59.492Z"
   },
   {
    "duration": 5,
    "start_time": "2023-06-15T12:20:59.498Z"
   },
   {
    "duration": 749,
    "start_time": "2023-06-15T12:20:59.505Z"
   },
   {
    "duration": 13,
    "start_time": "2023-06-15T12:21:00.255Z"
   },
   {
    "duration": 142,
    "start_time": "2023-06-15T12:21:00.270Z"
   },
   {
    "duration": 957,
    "start_time": "2023-06-15T12:21:00.414Z"
   },
   {
    "duration": 4,
    "start_time": "2023-06-15T12:21:01.372Z"
   },
   {
    "duration": 53,
    "start_time": "2023-06-15T12:21:01.377Z"
   },
   {
    "duration": 196,
    "start_time": "2023-06-15T12:21:01.432Z"
   },
   {
    "duration": 25,
    "start_time": "2023-06-15T12:21:01.630Z"
   },
   {
    "duration": 29,
    "start_time": "2023-06-15T12:21:01.656Z"
   },
   {
    "duration": 60,
    "start_time": "2023-06-15T12:21:01.687Z"
   },
   {
    "duration": 29,
    "start_time": "2023-06-15T12:21:01.749Z"
   },
   {
    "duration": 97,
    "start_time": "2023-06-15T12:21:01.781Z"
   },
   {
    "duration": 83,
    "start_time": "2023-06-15T12:21:01.880Z"
   },
   {
    "duration": 66,
    "start_time": "2023-06-15T12:21:01.964Z"
   },
   {
    "duration": 263,
    "start_time": "2023-06-15T12:21:02.031Z"
   },
   {
    "duration": 22,
    "start_time": "2023-06-15T12:21:02.297Z"
   },
   {
    "duration": 48,
    "start_time": "2023-06-15T12:21:02.321Z"
   },
   {
    "duration": 78,
    "start_time": "2023-06-15T12:21:02.371Z"
   },
   {
    "duration": 41,
    "start_time": "2023-06-15T12:21:02.451Z"
   },
   {
    "duration": 103,
    "start_time": "2023-06-15T12:21:02.495Z"
   },
   {
    "duration": 365,
    "start_time": "2023-06-15T12:21:02.600Z"
   },
   {
    "duration": 35,
    "start_time": "2023-06-15T12:21:02.967Z"
   },
   {
    "duration": 19,
    "start_time": "2023-06-15T12:21:03.004Z"
   },
   {
    "duration": 39,
    "start_time": "2023-06-15T12:21:03.025Z"
   },
   {
    "duration": 3,
    "start_time": "2023-06-15T12:21:03.066Z"
   },
   {
    "duration": 465,
    "start_time": "2023-06-15T12:21:03.071Z"
   },
   {
    "duration": 29,
    "start_time": "2023-06-15T12:21:03.537Z"
   },
   {
    "duration": 34087,
    "start_time": "2023-06-15T12:21:03.568Z"
   },
   {
    "duration": 30,
    "start_time": "2023-06-15T12:21:37.657Z"
   },
   {
    "duration": 29,
    "start_time": "2023-06-15T12:21:37.688Z"
   },
   {
    "duration": 68,
    "start_time": "2023-06-15T12:21:37.719Z"
   },
   {
    "duration": 30,
    "start_time": "2023-06-15T12:21:37.788Z"
   },
   {
    "duration": 36,
    "start_time": "2023-06-15T12:21:37.820Z"
   },
   {
    "duration": 7,
    "start_time": "2023-06-15T12:21:37.858Z"
   },
   {
    "duration": 16,
    "start_time": "2023-06-15T12:21:37.866Z"
   },
   {
    "duration": 5,
    "start_time": "2023-06-15T12:21:37.884Z"
   },
   {
    "duration": 163,
    "start_time": "2023-06-15T12:21:37.891Z"
   },
   {
    "duration": 5,
    "start_time": "2023-06-15T12:21:38.056Z"
   },
   {
    "duration": 10,
    "start_time": "2023-06-15T12:21:38.064Z"
   },
   {
    "duration": 32,
    "start_time": "2023-06-15T12:21:38.076Z"
   },
   {
    "duration": 756,
    "start_time": "2023-06-15T12:21:38.109Z"
   },
   {
    "duration": 8,
    "start_time": "2023-06-15T12:21:38.867Z"
   },
   {
    "duration": 13,
    "start_time": "2023-06-15T12:21:38.876Z"
   },
   {
    "duration": 35,
    "start_time": "2023-06-15T12:25:25.945Z"
   },
   {
    "duration": 18,
    "start_time": "2023-06-15T12:25:57.940Z"
   },
   {
    "duration": 10,
    "start_time": "2023-06-15T12:27:08.131Z"
   },
   {
    "duration": 6,
    "start_time": "2023-06-15T12:27:12.352Z"
   },
   {
    "duration": 190,
    "start_time": "2023-06-15T12:28:12.306Z"
   },
   {
    "duration": 52,
    "start_time": "2023-06-15T12:28:40.377Z"
   },
   {
    "duration": 43,
    "start_time": "2023-06-15T12:29:47.354Z"
   },
   {
    "duration": 21,
    "start_time": "2023-06-15T12:32:58.638Z"
   },
   {
    "duration": 119,
    "start_time": "2023-06-15T12:33:29.929Z"
   },
   {
    "duration": 1397,
    "start_time": "2023-06-15T12:34:25.107Z"
   },
   {
    "duration": 3,
    "start_time": "2023-06-15T12:34:26.506Z"
   },
   {
    "duration": 813,
    "start_time": "2023-06-15T12:34:26.511Z"
   },
   {
    "duration": 28,
    "start_time": "2023-06-15T12:34:27.326Z"
   },
   {
    "duration": 177,
    "start_time": "2023-06-15T12:34:27.357Z"
   },
   {
    "duration": 1018,
    "start_time": "2023-06-15T12:34:27.536Z"
   },
   {
    "duration": 4,
    "start_time": "2023-06-15T12:34:28.556Z"
   },
   {
    "duration": 42,
    "start_time": "2023-06-15T12:34:28.562Z"
   },
   {
    "duration": 293,
    "start_time": "2023-06-15T12:34:28.606Z"
   },
   {
    "duration": 23,
    "start_time": "2023-06-15T12:34:28.900Z"
   },
   {
    "duration": 6,
    "start_time": "2023-06-15T12:34:28.924Z"
   },
   {
    "duration": 40,
    "start_time": "2023-06-15T12:34:28.931Z"
   },
   {
    "duration": 39,
    "start_time": "2023-06-15T12:34:28.972Z"
   },
   {
    "duration": 102,
    "start_time": "2023-06-15T12:34:29.014Z"
   },
   {
    "duration": 83,
    "start_time": "2023-06-15T12:34:29.118Z"
   },
   {
    "duration": 55,
    "start_time": "2023-06-15T12:34:29.203Z"
   },
   {
    "duration": 275,
    "start_time": "2023-06-15T12:34:29.260Z"
   },
   {
    "duration": 25,
    "start_time": "2023-06-15T12:34:29.536Z"
   },
   {
    "duration": 33,
    "start_time": "2023-06-15T12:34:29.563Z"
   },
   {
    "duration": 32,
    "start_time": "2023-06-15T12:34:29.598Z"
   },
   {
    "duration": 34,
    "start_time": "2023-06-15T12:34:29.632Z"
   },
   {
    "duration": 88,
    "start_time": "2023-06-15T12:34:29.668Z"
   },
   {
    "duration": 351,
    "start_time": "2023-06-15T12:34:29.758Z"
   },
   {
    "duration": 45,
    "start_time": "2023-06-15T12:34:30.111Z"
   },
   {
    "duration": 20,
    "start_time": "2023-06-15T12:34:30.157Z"
   },
   {
    "duration": 21,
    "start_time": "2023-06-15T12:34:30.178Z"
   },
   {
    "duration": 2,
    "start_time": "2023-06-15T12:34:30.201Z"
   },
   {
    "duration": 467,
    "start_time": "2023-06-15T12:34:30.205Z"
   },
   {
    "duration": 29,
    "start_time": "2023-06-15T12:34:30.674Z"
   },
   {
    "duration": 33984,
    "start_time": "2023-06-15T12:34:30.705Z"
   },
   {
    "duration": 26,
    "start_time": "2023-06-15T12:35:04.690Z"
   },
   {
    "duration": 55,
    "start_time": "2023-06-15T12:35:04.719Z"
   },
   {
    "duration": 61,
    "start_time": "2023-06-15T12:35:04.776Z"
   },
   {
    "duration": 29,
    "start_time": "2023-06-15T12:35:04.853Z"
   },
   {
    "duration": 25,
    "start_time": "2023-06-15T12:35:04.883Z"
   },
   {
    "duration": 6,
    "start_time": "2023-06-15T12:35:04.910Z"
   },
   {
    "duration": 39,
    "start_time": "2023-06-15T12:35:04.917Z"
   },
   {
    "duration": 5,
    "start_time": "2023-06-15T12:35:04.958Z"
   },
   {
    "duration": 157,
    "start_time": "2023-06-15T12:35:04.964Z"
   },
   {
    "duration": 5,
    "start_time": "2023-06-15T12:35:05.123Z"
   },
   {
    "duration": 7,
    "start_time": "2023-06-15T12:35:05.131Z"
   },
   {
    "duration": 22,
    "start_time": "2023-06-15T12:35:05.154Z"
   },
   {
    "duration": 746,
    "start_time": "2023-06-15T12:35:05.177Z"
   },
   {
    "duration": 7,
    "start_time": "2023-06-15T12:35:05.925Z"
   },
   {
    "duration": 28,
    "start_time": "2023-06-15T12:35:05.933Z"
   },
   {
    "duration": 24,
    "start_time": "2023-06-15T12:35:05.963Z"
   },
   {
    "duration": 12,
    "start_time": "2023-06-15T12:35:05.989Z"
   },
   {
    "duration": 5,
    "start_time": "2023-06-15T12:35:06.002Z"
   },
   {
    "duration": 13,
    "start_time": "2023-06-15T12:36:12.434Z"
   },
   {
    "duration": 14,
    "start_time": "2023-06-15T12:38:32.872Z"
   },
   {
    "duration": 8,
    "start_time": "2023-06-15T12:39:17.150Z"
   },
   {
    "duration": 13,
    "start_time": "2023-06-15T12:39:47.634Z"
   },
   {
    "duration": 28,
    "start_time": "2023-06-15T12:40:31.001Z"
   },
   {
    "duration": 5,
    "start_time": "2023-06-15T12:41:36.644Z"
   },
   {
    "duration": 4,
    "start_time": "2023-06-15T12:41:36.651Z"
   },
   {
    "duration": 777,
    "start_time": "2023-06-15T12:41:36.657Z"
   },
   {
    "duration": 23,
    "start_time": "2023-06-15T12:41:37.436Z"
   },
   {
    "duration": 253,
    "start_time": "2023-06-15T12:41:37.462Z"
   },
   {
    "duration": 948,
    "start_time": "2023-06-15T12:41:37.719Z"
   },
   {
    "duration": 5,
    "start_time": "2023-06-15T12:41:38.669Z"
   },
   {
    "duration": 49,
    "start_time": "2023-06-15T12:41:38.676Z"
   },
   {
    "duration": 199,
    "start_time": "2023-06-15T12:41:38.727Z"
   },
   {
    "duration": 27,
    "start_time": "2023-06-15T12:41:38.928Z"
   },
   {
    "duration": 6,
    "start_time": "2023-06-15T12:41:38.956Z"
   },
   {
    "duration": 18,
    "start_time": "2023-06-15T12:41:38.963Z"
   },
   {
    "duration": 33,
    "start_time": "2023-06-15T12:41:38.985Z"
   },
   {
    "duration": 103,
    "start_time": "2023-06-15T12:41:39.020Z"
   },
   {
    "duration": 87,
    "start_time": "2023-06-15T12:41:39.124Z"
   },
   {
    "duration": 50,
    "start_time": "2023-06-15T12:41:39.212Z"
   },
   {
    "duration": 246,
    "start_time": "2023-06-15T12:41:39.264Z"
   },
   {
    "duration": 16,
    "start_time": "2023-06-15T12:41:39.511Z"
   },
   {
    "duration": 38,
    "start_time": "2023-06-15T12:41:39.528Z"
   },
   {
    "duration": 39,
    "start_time": "2023-06-15T12:41:39.567Z"
   },
   {
    "duration": 17,
    "start_time": "2023-06-15T12:41:39.608Z"
   },
   {
    "duration": 92,
    "start_time": "2023-06-15T12:41:39.626Z"
   },
   {
    "duration": 336,
    "start_time": "2023-06-15T12:41:39.719Z"
   },
   {
    "duration": 34,
    "start_time": "2023-06-15T12:41:40.056Z"
   },
   {
    "duration": 19,
    "start_time": "2023-06-15T12:41:40.091Z"
   },
   {
    "duration": 49,
    "start_time": "2023-06-15T12:41:40.112Z"
   },
   {
    "duration": 3,
    "start_time": "2023-06-15T12:41:40.163Z"
   },
   {
    "duration": 445,
    "start_time": "2023-06-15T12:41:40.168Z"
   },
   {
    "duration": 41,
    "start_time": "2023-06-15T12:41:40.616Z"
   },
   {
    "duration": 34342,
    "start_time": "2023-06-15T12:41:40.659Z"
   },
   {
    "duration": 29,
    "start_time": "2023-06-15T12:42:15.003Z"
   },
   {
    "duration": 42,
    "start_time": "2023-06-15T12:42:15.034Z"
   },
   {
    "duration": 51,
    "start_time": "2023-06-15T12:42:15.078Z"
   },
   {
    "duration": 32,
    "start_time": "2023-06-15T12:42:15.131Z"
   },
   {
    "duration": 39,
    "start_time": "2023-06-15T12:42:15.165Z"
   },
   {
    "duration": 6,
    "start_time": "2023-06-15T12:42:15.206Z"
   },
   {
    "duration": 9,
    "start_time": "2023-06-15T12:42:15.215Z"
   },
   {
    "duration": 8,
    "start_time": "2023-06-15T12:42:15.226Z"
   },
   {
    "duration": 161,
    "start_time": "2023-06-15T12:42:15.235Z"
   },
   {
    "duration": 5,
    "start_time": "2023-06-15T12:42:15.398Z"
   },
   {
    "duration": 9,
    "start_time": "2023-06-15T12:42:15.404Z"
   },
   {
    "duration": 41,
    "start_time": "2023-06-15T12:42:15.414Z"
   },
   {
    "duration": 736,
    "start_time": "2023-06-15T12:42:15.457Z"
   },
   {
    "duration": 6,
    "start_time": "2023-06-15T12:42:16.195Z"
   },
   {
    "duration": 12,
    "start_time": "2023-06-15T12:42:16.203Z"
   },
   {
    "duration": 49,
    "start_time": "2023-06-15T12:42:16.216Z"
   },
   {
    "duration": 11,
    "start_time": "2023-06-15T12:42:16.267Z"
   },
   {
    "duration": 5,
    "start_time": "2023-06-15T12:42:16.279Z"
   },
   {
    "duration": 187,
    "start_time": "2023-06-15T12:43:00.938Z"
   },
   {
    "duration": 152,
    "start_time": "2023-06-15T12:44:18.943Z"
   },
   {
    "duration": 6,
    "start_time": "2023-06-15T12:44:23.620Z"
   },
   {
    "duration": 107,
    "start_time": "2023-06-15T12:44:30.471Z"
   },
   {
    "duration": 4,
    "start_time": "2023-06-15T12:44:32.969Z"
   },
   {
    "duration": 4,
    "start_time": "2023-06-15T12:45:18.909Z"
   },
   {
    "duration": 5,
    "start_time": "2023-06-15T12:45:36.106Z"
   },
   {
    "duration": 8,
    "start_time": "2023-06-15T12:46:08.109Z"
   },
   {
    "duration": 14,
    "start_time": "2023-06-15T12:46:17.534Z"
   },
   {
    "duration": 9,
    "start_time": "2023-06-15T12:46:25.255Z"
   },
   {
    "duration": 9,
    "start_time": "2023-06-15T12:46:55.171Z"
   },
   {
    "duration": 11,
    "start_time": "2023-06-15T12:47:18.114Z"
   },
   {
    "duration": 166,
    "start_time": "2023-06-15T12:48:55.731Z"
   },
   {
    "duration": 14,
    "start_time": "2023-06-15T12:49:06.822Z"
   },
   {
    "duration": 20,
    "start_time": "2023-06-15T12:50:45.106Z"
   },
   {
    "duration": 20,
    "start_time": "2023-06-15T12:51:08.018Z"
   },
   {
    "duration": 21,
    "start_time": "2023-06-15T12:51:56.258Z"
   },
   {
    "duration": 18,
    "start_time": "2023-06-15T12:52:54.734Z"
   },
   {
    "duration": 6,
    "start_time": "2023-06-15T12:53:10.306Z"
   },
   {
    "duration": 22,
    "start_time": "2023-06-15T12:53:31.830Z"
   },
   {
    "duration": 26,
    "start_time": "2023-06-15T12:55:19.399Z"
   },
   {
    "duration": 23,
    "start_time": "2023-06-15T12:55:23.878Z"
   },
   {
    "duration": 21,
    "start_time": "2023-06-15T12:56:43.009Z"
   },
   {
    "duration": 36,
    "start_time": "2023-06-15T12:57:02.406Z"
   },
   {
    "duration": 21,
    "start_time": "2023-06-15T12:57:48.572Z"
   },
   {
    "duration": 26,
    "start_time": "2023-06-15T12:58:01.311Z"
   },
   {
    "duration": 24,
    "start_time": "2023-06-15T12:58:27.842Z"
   },
   {
    "duration": 25,
    "start_time": "2023-06-15T12:58:30.847Z"
   },
   {
    "duration": 28,
    "start_time": "2023-06-15T12:59:07.548Z"
   },
   {
    "duration": 24,
    "start_time": "2023-06-15T12:59:18.098Z"
   },
   {
    "duration": 7,
    "start_time": "2023-06-15T13:07:58.892Z"
   },
   {
    "duration": 5,
    "start_time": "2023-06-15T13:08:25.300Z"
   },
   {
    "duration": 8,
    "start_time": "2023-06-15T13:08:38.230Z"
   },
   {
    "duration": 5,
    "start_time": "2023-06-15T13:09:03.497Z"
   },
   {
    "duration": 3,
    "start_time": "2023-06-15T13:12:05.399Z"
   },
   {
    "duration": 5,
    "start_time": "2023-06-15T13:12:12.425Z"
   },
   {
    "duration": 32,
    "start_time": "2023-06-15T13:12:27.527Z"
   },
   {
    "duration": 21,
    "start_time": "2023-06-15T13:12:33.425Z"
   },
   {
    "duration": 30,
    "start_time": "2023-06-15T13:12:40.197Z"
   },
   {
    "duration": 4,
    "start_time": "2023-06-15T13:12:44.612Z"
   },
   {
    "duration": 6,
    "start_time": "2023-06-15T13:13:19.825Z"
   },
   {
    "duration": 17,
    "start_time": "2023-06-15T13:13:21.708Z"
   },
   {
    "duration": 4,
    "start_time": "2023-06-15T13:13:24.079Z"
   },
   {
    "duration": 695,
    "start_time": "2023-06-15T13:13:32.603Z"
   },
   {
    "duration": 633,
    "start_time": "2023-06-15T13:13:44.907Z"
   },
   {
    "duration": 8,
    "start_time": "2023-06-15T13:13:52.967Z"
   },
   {
    "duration": 78,
    "start_time": "2023-06-15T13:21:26.956Z"
   },
   {
    "duration": 3,
    "start_time": "2023-06-15T13:21:34.748Z"
   },
   {
    "duration": 22,
    "start_time": "2023-06-15T13:21:37.419Z"
   },
   {
    "duration": 4,
    "start_time": "2023-06-15T13:21:39.847Z"
   },
   {
    "duration": 70,
    "start_time": "2023-06-15T13:21:46.244Z"
   },
   {
    "duration": 3,
    "start_time": "2023-06-15T13:21:51.775Z"
   },
   {
    "duration": 3,
    "start_time": "2023-06-15T13:21:59.307Z"
   },
   {
    "duration": 27851,
    "start_time": "2023-06-15T13:22:01.507Z"
   },
   {
    "duration": 479,
    "start_time": "2023-06-15T13:22:44.580Z"
   },
   {
    "duration": 5,
    "start_time": "2023-06-15T13:22:58.548Z"
   },
   {
    "duration": 3,
    "start_time": "2023-06-15T13:23:11.505Z"
   },
   {
    "duration": 3,
    "start_time": "2023-06-15T13:23:30.631Z"
   },
   {
    "duration": 3,
    "start_time": "2023-06-15T13:23:33.807Z"
   },
   {
    "duration": 656475,
    "start_time": "2023-06-15T13:23:36.735Z"
   },
   {
    "duration": 5,
    "start_time": "2023-06-15T13:35:24.944Z"
   },
   {
    "duration": 4,
    "start_time": "2023-06-15T13:38:10.014Z"
   },
   {
    "duration": 1951,
    "start_time": "2023-06-15T13:38:13.304Z"
   },
   {
    "duration": 535,
    "start_time": "2023-06-15T13:38:19.231Z"
   },
   {
    "duration": 5,
    "start_time": "2023-06-15T13:38:23.527Z"
   },
   {
    "duration": 3,
    "start_time": "2023-06-15T13:39:19.639Z"
   },
   {
    "duration": 2,
    "start_time": "2023-06-15T13:39:54.927Z"
   },
   {
    "duration": 3,
    "start_time": "2023-06-15T13:40:25.804Z"
   },
   {
    "duration": 53048,
    "start_time": "2023-06-15T13:40:35.517Z"
   },
   {
    "duration": 82,
    "start_time": "2023-06-15T13:41:38.466Z"
   },
   {
    "duration": 4,
    "start_time": "2023-06-15T13:41:45.305Z"
   },
   {
    "duration": 4,
    "start_time": "2023-06-15T13:45:28.312Z"
   },
   {
    "duration": 3352,
    "start_time": "2023-06-15T13:45:31.502Z"
   },
   {
    "duration": 552,
    "start_time": "2023-06-15T13:45:39.504Z"
   },
   {
    "duration": 5,
    "start_time": "2023-06-15T13:45:43.618Z"
   },
   {
    "duration": 5,
    "start_time": "2023-06-15T13:45:51.405Z"
   },
   {
    "duration": 3,
    "start_time": "2023-06-15T13:48:39.469Z"
   },
   {
    "duration": 3,
    "start_time": "2023-06-15T13:48:41.812Z"
   },
   {
    "duration": 3,
    "start_time": "2023-06-15T13:56:19.410Z"
   },
   {
    "duration": 6591,
    "start_time": "2023-06-15T13:56:27.676Z"
   },
   {
    "duration": 1166,
    "start_time": "2023-06-15T13:57:36.504Z"
   },
   {
    "duration": 5,
    "start_time": "2023-06-15T13:57:40.306Z"
   },
   {
    "duration": 110,
    "start_time": "2023-06-15T13:58:12.652Z"
   },
   {
    "duration": 4,
    "start_time": "2023-06-15T13:58:39.043Z"
   },
   {
    "duration": 30394,
    "start_time": "2023-06-15T13:58:46.555Z"
   },
   {
    "duration": 12726,
    "start_time": "2023-06-15T14:02:35.875Z"
   },
   {
    "duration": 199132,
    "start_time": "2023-06-15T14:03:04.846Z"
   },
   {
    "duration": 4,
    "start_time": "2023-06-15T14:07:41.702Z"
   },
   {
    "duration": 100,
    "start_time": "2023-06-15T14:14:25.910Z"
   },
   {
    "duration": 19,
    "start_time": "2023-06-15T14:15:44.413Z"
   },
   {
    "duration": 35,
    "start_time": "2023-06-15T14:16:37.917Z"
   },
   {
    "duration": 12,
    "start_time": "2023-06-15T14:16:46.169Z"
   },
   {
    "duration": 12,
    "start_time": "2023-06-15T14:18:32.598Z"
   },
   {
    "duration": 5,
    "start_time": "2023-06-15T14:18:46.400Z"
   },
   {
    "duration": 89,
    "start_time": "2023-06-15T14:18:59.117Z"
   },
   {
    "duration": 3,
    "start_time": "2023-06-15T14:19:53.431Z"
   },
   {
    "duration": 171,
    "start_time": "2023-06-15T14:19:56.054Z"
   },
   {
    "duration": 3,
    "start_time": "2023-06-15T14:21:03.620Z"
   },
   {
    "duration": 46888,
    "start_time": "2023-06-15T14:21:15.033Z"
   },
   {
    "duration": 6862,
    "start_time": "2023-06-15T14:22:31.762Z"
   },
   {
    "duration": 6,
    "start_time": "2023-06-15T14:23:21.837Z"
   },
   {
    "duration": 4,
    "start_time": "2023-06-15T14:26:05.506Z"
   },
   {
    "duration": 3,
    "start_time": "2023-06-15T14:26:08.544Z"
   },
   {
    "duration": 400039,
    "start_time": "2023-06-15T14:26:15.444Z"
   },
   {
    "duration": 4,
    "start_time": "2023-06-15T14:33:57.248Z"
   },
   {
    "duration": 3,
    "start_time": "2023-06-15T14:38:19.678Z"
   },
   {
    "duration": 4,
    "start_time": "2023-06-15T14:38:28.155Z"
   },
   {
    "duration": 167665,
    "start_time": "2023-06-15T14:38:33.217Z"
   },
   {
    "duration": 5,
    "start_time": "2023-06-15T14:42:55.617Z"
   },
   {
    "duration": 4,
    "start_time": "2023-06-15T14:46:28.205Z"
   },
   {
    "duration": 22671,
    "start_time": "2023-06-15T14:46:31.901Z"
   },
   {
    "duration": 895,
    "start_time": "2023-06-15T14:47:00.374Z"
   },
   {
    "duration": 5,
    "start_time": "2023-06-15T14:47:09.614Z"
   },
   {
    "duration": 3,
    "start_time": "2023-06-15T14:48:58.843Z"
   },
   {
    "duration": 24207,
    "start_time": "2023-06-15T14:49:01.968Z"
   },
   {
    "duration": 821,
    "start_time": "2023-06-15T14:49:30.857Z"
   },
   {
    "duration": 4,
    "start_time": "2023-06-15T14:49:34.468Z"
   },
   {
    "duration": 4,
    "start_time": "2023-06-15T14:51:32.673Z"
   },
   {
    "duration": 64271,
    "start_time": "2023-06-15T14:51:36.698Z"
   },
   {
    "duration": 1206,
    "start_time": "2023-06-15T14:52:52.564Z"
   },
   {
    "duration": 5,
    "start_time": "2023-06-15T14:52:56.877Z"
   },
   {
    "duration": 4,
    "start_time": "2023-06-15T14:55:50.333Z"
   },
   {
    "duration": 5,
    "start_time": "2023-06-15T14:55:52.577Z"
   },
   {
    "duration": 155423,
    "start_time": "2023-06-15T14:56:02.940Z"
   },
   {
    "duration": 5,
    "start_time": "2023-06-15T14:59:01.821Z"
   },
   {
    "duration": 3,
    "start_time": "2023-06-15T14:59:49.028Z"
   },
   {
    "duration": 106275,
    "start_time": "2023-06-15T14:59:51.314Z"
   },
   {
    "duration": 1234,
    "start_time": "2023-06-15T15:01:43.934Z"
   },
   {
    "duration": 4,
    "start_time": "2023-06-15T15:01:49.218Z"
   },
   {
    "duration": 1786,
    "start_time": "2023-06-15T19:02:31.823Z"
   },
   {
    "duration": 3,
    "start_time": "2023-06-15T19:02:33.611Z"
   },
   {
    "duration": 2821,
    "start_time": "2023-06-15T19:02:33.615Z"
   },
   {
    "duration": 21,
    "start_time": "2023-06-15T19:02:36.438Z"
   },
   {
    "duration": 139,
    "start_time": "2023-06-15T19:02:36.461Z"
   },
   {
    "duration": 1094,
    "start_time": "2023-06-15T19:02:36.602Z"
   },
   {
    "duration": 3,
    "start_time": "2023-06-15T19:02:37.697Z"
   },
   {
    "duration": 42,
    "start_time": "2023-06-15T19:02:37.702Z"
   },
   {
    "duration": 259,
    "start_time": "2023-06-15T19:02:37.754Z"
   },
   {
    "duration": 19,
    "start_time": "2023-06-15T19:02:38.015Z"
   },
   {
    "duration": 21,
    "start_time": "2023-06-15T19:02:38.036Z"
   },
   {
    "duration": 37,
    "start_time": "2023-06-15T19:02:38.059Z"
   },
   {
    "duration": 51,
    "start_time": "2023-06-15T19:02:38.098Z"
   },
   {
    "duration": 91,
    "start_time": "2023-06-15T19:02:38.152Z"
   },
   {
    "duration": 86,
    "start_time": "2023-06-15T19:02:38.245Z"
   },
   {
    "duration": 54,
    "start_time": "2023-06-15T19:02:38.333Z"
   },
   {
    "duration": 273,
    "start_time": "2023-06-15T19:02:38.389Z"
   },
   {
    "duration": 15,
    "start_time": "2023-06-15T19:02:38.663Z"
   },
   {
    "duration": 33,
    "start_time": "2023-06-15T19:02:38.680Z"
   },
   {
    "duration": 53,
    "start_time": "2023-06-15T19:02:38.714Z"
   },
   {
    "duration": 27,
    "start_time": "2023-06-15T19:02:38.769Z"
   },
   {
    "duration": 85,
    "start_time": "2023-06-15T19:02:38.797Z"
   },
   {
    "duration": 358,
    "start_time": "2023-06-15T19:02:38.883Z"
   },
   {
    "duration": 34,
    "start_time": "2023-06-15T19:02:39.243Z"
   },
   {
    "duration": 18,
    "start_time": "2023-06-15T19:02:39.279Z"
   },
   {
    "duration": 24,
    "start_time": "2023-06-15T19:02:39.298Z"
   },
   {
    "duration": 2,
    "start_time": "2023-06-15T19:02:39.324Z"
   },
   {
    "duration": 417,
    "start_time": "2023-06-15T19:02:39.327Z"
   },
   {
    "duration": 30,
    "start_time": "2023-06-15T19:02:39.746Z"
   },
   {
    "duration": 34127,
    "start_time": "2023-06-15T19:02:39.778Z"
   },
   {
    "duration": 27,
    "start_time": "2023-06-15T19:03:13.907Z"
   },
   {
    "duration": 49,
    "start_time": "2023-06-15T19:03:13.935Z"
   },
   {
    "duration": 57,
    "start_time": "2023-06-15T19:03:13.986Z"
   },
   {
    "duration": 29,
    "start_time": "2023-06-15T19:03:14.044Z"
   },
   {
    "duration": 42,
    "start_time": "2023-06-15T19:03:14.074Z"
   },
   {
    "duration": 9,
    "start_time": "2023-06-15T19:03:14.118Z"
   },
   {
    "duration": 27,
    "start_time": "2023-06-15T19:03:14.129Z"
   },
   {
    "duration": 10,
    "start_time": "2023-06-15T19:03:14.159Z"
   },
   {
    "duration": 154,
    "start_time": "2023-06-15T19:03:14.171Z"
   },
   {
    "duration": 5,
    "start_time": "2023-06-15T19:03:14.327Z"
   },
   {
    "duration": 20,
    "start_time": "2023-06-15T19:03:14.335Z"
   },
   {
    "duration": 24,
    "start_time": "2023-06-15T19:03:14.356Z"
   },
   {
    "duration": 768,
    "start_time": "2023-06-15T19:03:14.382Z"
   },
   {
    "duration": 9,
    "start_time": "2023-06-15T19:03:15.155Z"
   },
   {
    "duration": 15,
    "start_time": "2023-06-15T19:03:15.166Z"
   },
   {
    "duration": 35,
    "start_time": "2023-06-15T19:03:15.183Z"
   },
   {
    "duration": 10,
    "start_time": "2023-06-15T19:03:15.219Z"
   },
   {
    "duration": 25,
    "start_time": "2023-06-15T19:03:15.230Z"
   },
   {
    "duration": 171,
    "start_time": "2023-06-15T19:03:15.257Z"
   },
   {
    "duration": 30,
    "start_time": "2023-06-15T19:03:15.430Z"
   },
   {
    "duration": 14,
    "start_time": "2023-06-15T19:03:15.462Z"
   },
   {
    "duration": 9,
    "start_time": "2023-06-15T19:03:15.478Z"
   },
   {
    "duration": 53,
    "start_time": "2023-06-15T19:03:15.489Z"
   },
   {
    "duration": 32,
    "start_time": "2023-06-15T19:03:15.554Z"
   },
   {
    "duration": 51,
    "start_time": "2023-06-15T19:03:15.588Z"
   },
   {
    "duration": 6,
    "start_time": "2023-06-15T19:03:15.641Z"
   },
   {
    "duration": 60,
    "start_time": "2023-06-15T19:03:15.648Z"
   },
   {
    "duration": 16,
    "start_time": "2023-06-15T19:03:15.709Z"
   },
   {
    "duration": 859,
    "start_time": "2023-06-15T19:03:15.726Z"
   },
   {
    "duration": 696,
    "start_time": "2023-06-15T19:03:16.586Z"
   },
   {
    "duration": 7,
    "start_time": "2023-06-15T19:03:17.284Z"
   },
   {
    "duration": 118,
    "start_time": "2023-06-15T19:03:17.293Z"
   },
   {
    "duration": 8,
    "start_time": "2023-06-15T19:03:17.413Z"
   },
   {
    "duration": 50,
    "start_time": "2023-06-15T19:03:17.423Z"
   },
   {
    "duration": 4,
    "start_time": "2023-06-15T19:03:17.475Z"
   },
   {
    "duration": 61,
    "start_time": "2023-06-15T19:04:15.818Z"
   },
   {
    "duration": 107,
    "start_time": "2023-06-15T19:11:06.206Z"
   },
   {
    "duration": 3,
    "start_time": "2023-06-15T19:11:17.711Z"
   },
   {
    "duration": 4198,
    "start_time": "2023-06-15T19:11:42.227Z"
   },
   {
    "duration": 112,
    "start_time": "2023-06-15T19:12:23.942Z"
   },
   {
    "duration": 5,
    "start_time": "2023-06-15T19:12:32.106Z"
   },
   {
    "duration": 11,
    "start_time": "2023-06-15T19:13:02.109Z"
   },
   {
    "duration": 12,
    "start_time": "2023-06-15T19:13:28.256Z"
   },
   {
    "duration": 9,
    "start_time": "2023-06-15T19:14:32.541Z"
   },
   {
    "duration": 9,
    "start_time": "2023-06-15T19:14:41.914Z"
   },
   {
    "duration": 9,
    "start_time": "2023-06-15T19:14:48.608Z"
   },
   {
    "duration": 3,
    "start_time": "2023-06-15T19:14:56.251Z"
   },
   {
    "duration": 85,
    "start_time": "2023-06-15T19:15:13.642Z"
   },
   {
    "duration": 107,
    "start_time": "2023-06-15T19:15:51.214Z"
   },
   {
    "duration": 112,
    "start_time": "2023-06-15T19:17:20.907Z"
   },
   {
    "duration": 4,
    "start_time": "2023-06-15T19:17:38.125Z"
   },
   {
    "duration": 4,
    "start_time": "2023-06-15T19:19:18.821Z"
   },
   {
    "duration": 3,
    "start_time": "2023-06-15T19:19:41.107Z"
   },
   {
    "duration": 114,
    "start_time": "2023-06-15T19:19:47.507Z"
   },
   {
    "duration": 4,
    "start_time": "2023-06-15T19:20:25.206Z"
   },
   {
    "duration": 4107,
    "start_time": "2023-06-15T19:20:28.210Z"
   },
   {
    "duration": 4,
    "start_time": "2023-06-15T19:39:53.359Z"
   },
   {
    "duration": 4,
    "start_time": "2023-06-15T19:39:55.056Z"
   },
   {
    "duration": 6,
    "start_time": "2023-06-15T19:39:59.217Z"
   },
   {
    "duration": 109,
    "start_time": "2023-06-15T19:40:15.340Z"
   },
   {
    "duration": 102,
    "start_time": "2023-06-15T19:43:23.336Z"
   },
   {
    "duration": 5,
    "start_time": "2023-06-15T19:43:29.695Z"
   },
   {
    "duration": 74,
    "start_time": "2023-06-15T19:43:56.760Z"
   },
   {
    "duration": 4,
    "start_time": "2023-06-15T19:43:59.821Z"
   },
   {
    "duration": 147,
    "start_time": "2023-06-15T19:44:16.132Z"
   },
   {
    "duration": 21,
    "start_time": "2023-06-15T19:44:18.341Z"
   },
   {
    "duration": 4,
    "start_time": "2023-06-15T19:49:01.414Z"
   },
   {
    "duration": 4087,
    "start_time": "2023-06-15T19:49:10.413Z"
   },
   {
    "duration": 227,
    "start_time": "2023-06-15T19:50:57.513Z"
   },
   {
    "duration": 9,
    "start_time": "2023-06-15T19:51:34.608Z"
   },
   {
    "duration": 2,
    "start_time": "2023-06-15T20:04:10.232Z"
   },
   {
    "duration": 9,
    "start_time": "2023-06-15T20:06:01.116Z"
   },
   {
    "duration": 3,
    "start_time": "2023-06-15T20:06:05.812Z"
   },
   {
    "duration": 4,
    "start_time": "2023-06-15T20:06:07.603Z"
   },
   {
    "duration": 2,
    "start_time": "2023-06-15T20:06:10.420Z"
   },
   {
    "duration": 104,
    "start_time": "2023-06-15T20:06:15.957Z"
   },
   {
    "duration": 3,
    "start_time": "2023-06-15T20:07:16.527Z"
   },
   {
    "duration": 3,
    "start_time": "2023-06-15T20:07:18.224Z"
   },
   {
    "duration": 22756,
    "start_time": "2023-06-15T20:07:22.049Z"
   },
   {
    "duration": 8,
    "start_time": "2023-06-15T20:07:57.008Z"
   },
   {
    "duration": 19569,
    "start_time": "2023-06-15T20:08:39.108Z"
   },
   {
    "duration": 4,
    "start_time": "2023-06-15T20:09:02.736Z"
   },
   {
    "duration": 3,
    "start_time": "2023-06-15T20:09:35.728Z"
   },
   {
    "duration": 21878,
    "start_time": "2023-06-15T20:09:48.427Z"
   },
   {
    "duration": 5,
    "start_time": "2023-06-15T20:13:30.399Z"
   },
   {
    "duration": 3,
    "start_time": "2023-06-15T20:20:06.599Z"
   },
   {
    "duration": 3,
    "start_time": "2023-06-15T20:20:09.651Z"
   },
   {
    "duration": 2,
    "start_time": "2023-06-15T20:20:11.907Z"
   },
   {
    "duration": 27616,
    "start_time": "2023-06-15T20:20:14.407Z"
   },
   {
    "duration": 4,
    "start_time": "2023-06-15T20:21:59.623Z"
   },
   {
    "duration": 3,
    "start_time": "2023-06-15T20:22:45.255Z"
   },
   {
    "duration": 6595,
    "start_time": "2023-06-15T20:22:48.727Z"
   },
   {
    "duration": 182,
    "start_time": "2023-06-15T20:23:47.859Z"
   },
   {
    "duration": 5,
    "start_time": "2023-06-15T20:24:24.535Z"
   },
   {
    "duration": 192,
    "start_time": "2023-06-15T20:26:09.219Z"
   },
   {
    "duration": 5,
    "start_time": "2023-06-15T20:26:11.459Z"
   },
   {
    "duration": 78,
    "start_time": "2023-06-15T20:27:59.615Z"
   },
   {
    "duration": 4,
    "start_time": "2023-06-15T21:01:22.555Z"
   },
   {
    "duration": 4,
    "start_time": "2023-06-15T21:01:24.818Z"
   },
   {
    "duration": 9,
    "start_time": "2023-06-15T21:01:40.115Z"
   },
   {
    "duration": 1427,
    "start_time": "2023-06-15T21:50:23.323Z"
   },
   {
    "duration": 2,
    "start_time": "2023-06-15T21:50:24.753Z"
   },
   {
    "duration": 783,
    "start_time": "2023-06-15T21:50:24.757Z"
   },
   {
    "duration": 19,
    "start_time": "2023-06-15T21:50:25.542Z"
   },
   {
    "duration": 137,
    "start_time": "2023-06-15T21:50:25.563Z"
   },
   {
    "duration": 974,
    "start_time": "2023-06-15T21:50:25.701Z"
   },
   {
    "duration": 4,
    "start_time": "2023-06-15T21:50:26.678Z"
   },
   {
    "duration": 41,
    "start_time": "2023-06-15T21:50:26.684Z"
   },
   {
    "duration": 271,
    "start_time": "2023-06-15T21:50:26.727Z"
   },
   {
    "duration": 19,
    "start_time": "2023-06-15T21:50:26.999Z"
   },
   {
    "duration": 5,
    "start_time": "2023-06-15T21:50:27.020Z"
   },
   {
    "duration": 42,
    "start_time": "2023-06-15T21:50:27.027Z"
   },
   {
    "duration": 44,
    "start_time": "2023-06-15T21:50:27.071Z"
   },
   {
    "duration": 102,
    "start_time": "2023-06-15T21:50:27.118Z"
   },
   {
    "duration": 97,
    "start_time": "2023-06-15T21:50:27.221Z"
   },
   {
    "duration": 70,
    "start_time": "2023-06-15T21:50:27.320Z"
   },
   {
    "duration": 277,
    "start_time": "2023-06-15T21:50:27.392Z"
   },
   {
    "duration": 15,
    "start_time": "2023-06-15T21:50:27.670Z"
   },
   {
    "duration": 29,
    "start_time": "2023-06-15T21:50:27.686Z"
   },
   {
    "duration": 42,
    "start_time": "2023-06-15T21:50:27.717Z"
   },
   {
    "duration": 22,
    "start_time": "2023-06-15T21:50:27.761Z"
   },
   {
    "duration": 84,
    "start_time": "2023-06-15T21:50:27.784Z"
   },
   {
    "duration": 331,
    "start_time": "2023-06-15T21:50:27.869Z"
   },
   {
    "duration": 33,
    "start_time": "2023-06-15T21:50:28.202Z"
   },
   {
    "duration": 26,
    "start_time": "2023-06-15T21:50:28.237Z"
   },
   {
    "duration": 20,
    "start_time": "2023-06-15T21:50:28.265Z"
   },
   {
    "duration": 3,
    "start_time": "2023-06-15T21:50:28.286Z"
   },
   {
    "duration": 431,
    "start_time": "2023-06-15T21:50:28.290Z"
   },
   {
    "duration": 33,
    "start_time": "2023-06-15T21:50:28.723Z"
   },
   {
    "duration": 31314,
    "start_time": "2023-06-15T21:50:28.758Z"
   },
   {
    "duration": 26,
    "start_time": "2023-06-15T21:51:00.074Z"
   },
   {
    "duration": 41,
    "start_time": "2023-06-15T21:51:00.101Z"
   },
   {
    "duration": 63,
    "start_time": "2023-06-15T21:51:00.143Z"
   },
   {
    "duration": 32,
    "start_time": "2023-06-15T21:51:00.208Z"
   },
   {
    "duration": 38,
    "start_time": "2023-06-15T21:51:00.241Z"
   },
   {
    "duration": 8,
    "start_time": "2023-06-15T21:51:00.281Z"
   },
   {
    "duration": 51,
    "start_time": "2023-06-15T21:51:00.291Z"
   },
   {
    "duration": 10,
    "start_time": "2023-06-15T21:51:00.343Z"
   },
   {
    "duration": 172,
    "start_time": "2023-06-15T21:51:00.355Z"
   },
   {
    "duration": 5,
    "start_time": "2023-06-15T21:51:00.528Z"
   },
   {
    "duration": 36,
    "start_time": "2023-06-15T21:51:00.538Z"
   },
   {
    "duration": 60,
    "start_time": "2023-06-15T21:51:00.575Z"
   },
   {
    "duration": 702,
    "start_time": "2023-06-15T21:51:00.637Z"
   },
   {
    "duration": 14,
    "start_time": "2023-06-15T21:51:01.340Z"
   },
   {
    "duration": 19,
    "start_time": "2023-06-15T21:51:01.356Z"
   },
   {
    "duration": 42,
    "start_time": "2023-06-15T21:51:01.377Z"
   },
   {
    "duration": 15,
    "start_time": "2023-06-15T21:51:01.421Z"
   },
   {
    "duration": 23,
    "start_time": "2023-06-15T21:51:01.437Z"
   },
   {
    "duration": 202,
    "start_time": "2023-06-15T21:51:01.461Z"
   },
   {
    "duration": 24,
    "start_time": "2023-06-15T21:51:01.665Z"
   },
   {
    "duration": 77,
    "start_time": "2023-06-15T21:51:01.690Z"
   },
   {
    "duration": 19,
    "start_time": "2023-06-15T21:51:01.769Z"
   },
   {
    "duration": 36,
    "start_time": "2023-06-15T21:51:01.789Z"
   },
   {
    "duration": 45,
    "start_time": "2023-06-15T21:51:01.826Z"
   },
   {
    "duration": 45,
    "start_time": "2023-06-15T21:51:01.872Z"
   },
   {
    "duration": 7,
    "start_time": "2023-06-15T21:51:01.919Z"
   },
   {
    "duration": 19,
    "start_time": "2023-06-15T21:51:01.927Z"
   },
   {
    "duration": 7,
    "start_time": "2023-06-15T21:51:01.948Z"
   },
   {
    "duration": 820,
    "start_time": "2023-06-15T21:51:01.956Z"
   },
   {
    "duration": 622,
    "start_time": "2023-06-15T21:51:02.778Z"
   },
   {
    "duration": 7,
    "start_time": "2023-06-15T21:51:03.401Z"
   },
   {
    "duration": 77,
    "start_time": "2023-06-15T21:51:03.410Z"
   },
   {
    "duration": 3,
    "start_time": "2023-06-15T21:51:03.488Z"
   },
   {
    "duration": 26,
    "start_time": "2023-06-15T21:51:03.492Z"
   },
   {
    "duration": 2,
    "start_time": "2023-06-15T21:51:03.520Z"
   },
   {
    "duration": 73,
    "start_time": "2023-06-15T21:51:03.524Z"
   },
   {
    "duration": 3,
    "start_time": "2023-06-15T21:51:03.599Z"
   },
   {
    "duration": 4,
    "start_time": "2023-06-15T21:51:03.604Z"
   },
   {
    "duration": 19851,
    "start_time": "2023-06-15T21:51:03.609Z"
   },
   {
    "duration": 505,
    "start_time": "2023-06-15T21:51:23.461Z"
   },
   {
    "duration": 91,
    "start_time": "2023-06-15T21:51:23.968Z"
   },
   {
    "duration": 96,
    "start_time": "2023-06-15T21:51:24.061Z"
   },
   {
    "duration": 8,
    "start_time": "2023-06-15T21:51:24.159Z"
   },
   {
    "duration": 14,
    "start_time": "2023-06-15T21:51:24.168Z"
   },
   {
    "duration": 23,
    "start_time": "2023-06-15T21:51:24.183Z"
   },
   {
    "duration": 6,
    "start_time": "2023-06-15T21:51:24.208Z"
   },
   {
    "duration": 21,
    "start_time": "2023-06-15T21:51:24.215Z"
   },
   {
    "duration": 1873,
    "start_time": "2023-06-15T21:51:24.237Z"
   },
   {
    "duration": 528,
    "start_time": "2023-06-15T21:51:26.112Z"
   },
   {
    "duration": 4,
    "start_time": "2023-06-15T21:51:26.641Z"
   },
   {
    "duration": 10,
    "start_time": "2023-06-15T21:51:26.646Z"
   },
   {
    "duration": 6,
    "start_time": "2023-06-15T21:51:26.658Z"
   },
   {
    "duration": 7,
    "start_time": "2023-06-15T21:51:26.666Z"
   },
   {
    "duration": 48281,
    "start_time": "2023-06-15T21:51:26.675Z"
   },
   {
    "duration": 7,
    "start_time": "2023-06-15T21:52:14.958Z"
   },
   {
    "duration": 4,
    "start_time": "2023-06-15T21:52:15.053Z"
   },
   {
    "duration": 3196,
    "start_time": "2023-06-15T21:52:15.059Z"
   },
   {
    "duration": 501,
    "start_time": "2023-06-15T21:52:18.257Z"
   },
   {
    "duration": 95,
    "start_time": "2023-06-15T21:52:18.760Z"
   },
   {
    "duration": 4,
    "start_time": "2023-06-15T21:52:18.857Z"
   },
   {
    "duration": 3,
    "start_time": "2023-06-15T21:52:18.863Z"
   },
   {
    "duration": 4,
    "start_time": "2023-06-15T21:52:18.868Z"
   },
   {
    "duration": 30386,
    "start_time": "2023-06-15T21:52:18.873Z"
   },
   {
    "duration": 4,
    "start_time": "2023-06-15T21:52:49.261Z"
   },
   {
    "duration": 10,
    "start_time": "2023-06-15T21:52:49.267Z"
   },
   {
    "duration": 6988,
    "start_time": "2023-06-15T21:52:49.278Z"
   },
   {
    "duration": 1206,
    "start_time": "2023-06-15T21:52:56.267Z"
   },
   {
    "duration": 5,
    "start_time": "2023-06-15T21:52:57.475Z"
   },
   {
    "duration": 10,
    "start_time": "2023-06-15T21:52:57.481Z"
   },
   {
    "duration": 5,
    "start_time": "2023-06-15T21:52:57.492Z"
   },
   {
    "duration": 26,
    "start_time": "2023-06-15T21:52:57.498Z"
   },
   {
    "duration": 3,
    "start_time": "2023-06-15T21:52:57.555Z"
   },
   {
    "duration": 21769,
    "start_time": "2023-06-15T21:52:57.559Z"
   },
   {
    "duration": 4,
    "start_time": "2023-06-15T21:53:19.330Z"
   },
   {
    "duration": 17,
    "start_time": "2023-06-15T21:53:19.335Z"
   },
   {
    "duration": 6905,
    "start_time": "2023-06-15T21:53:19.353Z"
   },
   {
    "duration": 205,
    "start_time": "2023-06-15T21:53:26.260Z"
   },
   {
    "duration": 4,
    "start_time": "2023-06-15T21:53:26.467Z"
   },
   {
    "duration": 7,
    "start_time": "2023-06-15T21:53:26.473Z"
   },
   {
    "duration": 12,
    "start_time": "2023-06-15T21:53:26.481Z"
   },
   {
    "duration": 1738,
    "start_time": "2023-06-16T16:09:12.018Z"
   },
   {
    "duration": 3,
    "start_time": "2023-06-16T16:09:13.758Z"
   },
   {
    "duration": 763,
    "start_time": "2023-06-16T16:09:13.762Z"
   },
   {
    "duration": 24,
    "start_time": "2023-06-16T16:09:14.527Z"
   },
   {
    "duration": 118,
    "start_time": "2023-06-16T16:09:14.553Z"
   },
   {
    "duration": 924,
    "start_time": "2023-06-16T16:09:14.673Z"
   },
   {
    "duration": 4,
    "start_time": "2023-06-16T16:09:15.599Z"
   },
   {
    "duration": 50,
    "start_time": "2023-06-16T16:09:15.605Z"
   },
   {
    "duration": 257,
    "start_time": "2023-06-16T16:09:15.657Z"
   },
   {
    "duration": 19,
    "start_time": "2023-06-16T16:09:15.916Z"
   },
   {
    "duration": 17,
    "start_time": "2023-06-16T16:09:15.937Z"
   },
   {
    "duration": 19,
    "start_time": "2023-06-16T16:09:15.956Z"
   },
   {
    "duration": 38,
    "start_time": "2023-06-16T16:09:15.976Z"
   },
   {
    "duration": 118,
    "start_time": "2023-06-16T16:09:16.017Z"
   },
   {
    "duration": 71,
    "start_time": "2023-06-16T16:09:16.137Z"
   },
   {
    "duration": 51,
    "start_time": "2023-06-16T16:09:16.210Z"
   },
   {
    "duration": 277,
    "start_time": "2023-06-16T16:09:16.263Z"
   },
   {
    "duration": 21,
    "start_time": "2023-06-16T16:09:16.542Z"
   },
   {
    "duration": 29,
    "start_time": "2023-06-16T16:09:16.564Z"
   },
   {
    "duration": 34,
    "start_time": "2023-06-16T16:09:16.595Z"
   },
   {
    "duration": 32,
    "start_time": "2023-06-16T16:09:16.630Z"
   },
   {
    "duration": 76,
    "start_time": "2023-06-16T16:09:16.664Z"
   },
   {
    "duration": 361,
    "start_time": "2023-06-16T16:09:16.742Z"
   },
   {
    "duration": 35,
    "start_time": "2023-06-16T16:09:17.105Z"
   },
   {
    "duration": 21,
    "start_time": "2023-06-16T16:09:17.150Z"
   },
   {
    "duration": 22,
    "start_time": "2023-06-16T16:09:17.173Z"
   },
   {
    "duration": 2,
    "start_time": "2023-06-16T16:09:17.197Z"
   },
   {
    "duration": 450,
    "start_time": "2023-06-16T16:09:17.201Z"
   },
   {
    "duration": 28,
    "start_time": "2023-06-16T16:09:17.653Z"
   },
   {
    "duration": 31699,
    "start_time": "2023-06-16T16:09:17.683Z"
   },
   {
    "duration": 25,
    "start_time": "2023-06-16T16:09:49.383Z"
   },
   {
    "duration": 42,
    "start_time": "2023-06-16T16:09:49.409Z"
   },
   {
    "duration": 50,
    "start_time": "2023-06-16T16:09:49.453Z"
   },
   {
    "duration": 29,
    "start_time": "2023-06-16T16:09:49.505Z"
   },
   {
    "duration": 59,
    "start_time": "2023-06-16T16:09:49.535Z"
   },
   {
    "duration": 17,
    "start_time": "2023-06-16T16:09:49.595Z"
   },
   {
    "duration": 16,
    "start_time": "2023-06-16T16:09:49.614Z"
   },
   {
    "duration": 17,
    "start_time": "2023-06-16T16:09:49.632Z"
   },
   {
    "duration": 208,
    "start_time": "2023-06-16T16:09:49.651Z"
   },
   {
    "duration": 4,
    "start_time": "2023-06-16T16:09:49.861Z"
   },
   {
    "duration": 8,
    "start_time": "2023-06-16T16:09:49.870Z"
   },
   {
    "duration": 24,
    "start_time": "2023-06-16T16:09:49.879Z"
   },
   {
    "duration": 745,
    "start_time": "2023-06-16T16:09:49.905Z"
   },
   {
    "duration": 7,
    "start_time": "2023-06-16T16:09:50.652Z"
   },
   {
    "duration": 22,
    "start_time": "2023-06-16T16:09:50.660Z"
   },
   {
    "duration": 39,
    "start_time": "2023-06-16T16:09:50.684Z"
   },
   {
    "duration": 20,
    "start_time": "2023-06-16T16:09:50.725Z"
   },
   {
    "duration": 5,
    "start_time": "2023-06-16T16:09:50.746Z"
   },
   {
    "duration": 160,
    "start_time": "2023-06-16T16:09:50.753Z"
   },
   {
    "duration": 23,
    "start_time": "2023-06-16T16:09:50.915Z"
   },
   {
    "duration": 26,
    "start_time": "2023-06-16T16:09:50.939Z"
   },
   {
    "duration": 5,
    "start_time": "2023-06-16T16:09:50.967Z"
   },
   {
    "duration": 40,
    "start_time": "2023-06-16T16:09:50.973Z"
   },
   {
    "duration": 40,
    "start_time": "2023-06-16T16:09:51.014Z"
   },
   {
    "duration": 34,
    "start_time": "2023-06-16T16:09:51.055Z"
   },
   {
    "duration": 6,
    "start_time": "2023-06-16T16:09:51.090Z"
   },
   {
    "duration": 44,
    "start_time": "2023-06-16T16:09:51.098Z"
   },
   {
    "duration": 9,
    "start_time": "2023-06-16T16:09:51.143Z"
   },
   {
    "duration": 859,
    "start_time": "2023-06-16T16:09:51.154Z"
   },
   {
    "duration": 673,
    "start_time": "2023-06-16T16:09:52.015Z"
   },
   {
    "duration": 7,
    "start_time": "2023-06-16T16:09:52.689Z"
   },
   {
    "duration": 67,
    "start_time": "2023-06-16T16:09:52.697Z"
   },
   {
    "duration": 22,
    "start_time": "2023-06-16T16:09:52.766Z"
   },
   {
    "duration": 96,
    "start_time": "2023-06-16T16:09:52.790Z"
   },
   {
    "duration": 3,
    "start_time": "2023-06-16T16:09:52.888Z"
   },
   {
    "duration": 88,
    "start_time": "2023-06-16T16:09:52.893Z"
   },
   {
    "duration": 3,
    "start_time": "2023-06-16T16:09:52.983Z"
   },
   {
    "duration": 22,
    "start_time": "2023-06-16T16:09:52.988Z"
   },
   {
    "duration": 18857,
    "start_time": "2023-06-16T16:09:53.012Z"
   },
   {
    "duration": 579,
    "start_time": "2023-06-16T16:10:11.871Z"
   },
   {
    "duration": 95,
    "start_time": "2023-06-16T16:10:12.455Z"
   },
   {
    "duration": 9,
    "start_time": "2023-06-16T16:10:12.552Z"
   },
   {
    "duration": 4,
    "start_time": "2023-06-16T16:10:12.563Z"
   },
   {
    "duration": 5,
    "start_time": "2023-06-16T16:10:12.569Z"
   },
   {
    "duration": 10,
    "start_time": "2023-06-16T16:10:12.576Z"
   },
   {
    "duration": 4,
    "start_time": "2023-06-16T16:10:12.588Z"
   },
   {
    "duration": 4,
    "start_time": "2023-06-16T16:10:12.594Z"
   },
   {
    "duration": 1895,
    "start_time": "2023-06-16T16:10:12.599Z"
   },
   {
    "duration": 530,
    "start_time": "2023-06-16T16:10:14.496Z"
   },
   {
    "duration": 6,
    "start_time": "2023-06-16T16:10:15.028Z"
   },
   {
    "duration": 4,
    "start_time": "2023-06-16T16:10:15.050Z"
   },
   {
    "duration": 14,
    "start_time": "2023-06-16T16:10:15.056Z"
   },
   {
    "duration": 6,
    "start_time": "2023-06-16T16:10:15.071Z"
   },
   {
    "duration": 48988,
    "start_time": "2023-06-16T16:10:15.078Z"
   },
   {
    "duration": 6,
    "start_time": "2023-06-16T16:11:04.151Z"
   },
   {
    "duration": 11,
    "start_time": "2023-06-16T16:11:04.159Z"
   },
   {
    "duration": 3378,
    "start_time": "2023-06-16T16:11:04.172Z"
   },
   {
    "duration": 503,
    "start_time": "2023-06-16T16:11:07.552Z"
   },
   {
    "duration": 93,
    "start_time": "2023-06-16T16:11:08.058Z"
   },
   {
    "duration": 4,
    "start_time": "2023-06-16T16:11:08.153Z"
   },
   {
    "duration": 6,
    "start_time": "2023-06-16T16:11:08.158Z"
   },
   {
    "duration": 3,
    "start_time": "2023-06-16T16:11:08.166Z"
   },
   {
    "duration": 24882,
    "start_time": "2023-06-16T16:11:08.171Z"
   },
   {
    "duration": 5,
    "start_time": "2023-06-16T16:11:33.055Z"
   },
   {
    "duration": 6,
    "start_time": "2023-06-16T16:11:33.062Z"
   },
   {
    "duration": 9101,
    "start_time": "2023-06-16T16:11:33.069Z"
   },
   {
    "duration": 1226,
    "start_time": "2023-06-16T16:11:42.250Z"
   },
   {
    "duration": 5,
    "start_time": "2023-06-16T16:11:43.478Z"
   },
   {
    "duration": 12,
    "start_time": "2023-06-16T16:11:43.484Z"
   },
   {
    "duration": 55,
    "start_time": "2023-06-16T16:11:43.497Z"
   },
   {
    "duration": 9,
    "start_time": "2023-06-16T16:11:43.553Z"
   },
   {
    "duration": 5,
    "start_time": "2023-06-16T16:11:43.564Z"
   },
   {
    "duration": 31735,
    "start_time": "2023-06-16T16:11:43.572Z"
   },
   {
    "duration": 4,
    "start_time": "2023-06-16T16:12:15.309Z"
   },
   {
    "duration": 4,
    "start_time": "2023-06-16T16:12:15.314Z"
   },
   {
    "duration": 7736,
    "start_time": "2023-06-16T16:12:15.320Z"
   },
   {
    "duration": 212,
    "start_time": "2023-06-16T16:12:23.059Z"
   },
   {
    "duration": 5,
    "start_time": "2023-06-16T16:12:23.273Z"
   },
   {
    "duration": 13,
    "start_time": "2023-06-16T16:12:23.280Z"
   },
   {
    "duration": 12,
    "start_time": "2023-06-16T16:12:23.294Z"
   },
   {
    "duration": 1849,
    "start_time": "2023-06-18T22:44:05.583Z"
   },
   {
    "duration": 2,
    "start_time": "2023-06-18T22:44:07.434Z"
   },
   {
    "duration": 3623,
    "start_time": "2023-06-18T22:44:07.439Z"
   },
   {
    "duration": 17,
    "start_time": "2023-06-18T22:44:11.064Z"
   },
   {
    "duration": 142,
    "start_time": "2023-06-18T22:44:11.083Z"
   },
   {
    "duration": 1146,
    "start_time": "2023-06-18T22:44:11.234Z"
   },
   {
    "duration": 3,
    "start_time": "2023-06-18T22:44:12.383Z"
   },
   {
    "duration": 64,
    "start_time": "2023-06-18T22:44:12.388Z"
   },
   {
    "duration": 294,
    "start_time": "2023-06-18T22:44:12.454Z"
   },
   {
    "duration": 21,
    "start_time": "2023-06-18T22:44:12.750Z"
   },
   {
    "duration": 6,
    "start_time": "2023-06-18T22:44:12.772Z"
   },
   {
    "duration": 48,
    "start_time": "2023-06-18T22:44:12.780Z"
   },
   {
    "duration": 48,
    "start_time": "2023-06-18T22:44:12.836Z"
   },
   {
    "duration": 113,
    "start_time": "2023-06-18T22:44:12.886Z"
   },
   {
    "duration": 86,
    "start_time": "2023-06-18T22:44:13.001Z"
   },
   {
    "duration": 67,
    "start_time": "2023-06-18T22:44:13.089Z"
   },
   {
    "duration": 299,
    "start_time": "2023-06-18T22:44:13.158Z"
   },
   {
    "duration": 13,
    "start_time": "2023-06-18T22:44:13.459Z"
   },
   {
    "duration": 42,
    "start_time": "2023-06-18T22:44:13.474Z"
   },
   {
    "duration": 40,
    "start_time": "2023-06-18T22:44:13.518Z"
   },
   {
    "duration": 39,
    "start_time": "2023-06-18T22:44:13.560Z"
   },
   {
    "duration": 89,
    "start_time": "2023-06-18T22:44:13.601Z"
   },
   {
    "duration": 210,
    "start_time": "2023-06-18T22:44:54.847Z"
   },
   {
    "duration": 199,
    "start_time": "2023-06-18T22:45:26.203Z"
   },
   {
    "duration": 152,
    "start_time": "2023-06-18T22:46:09.844Z"
   },
   {
    "duration": 236,
    "start_time": "2023-06-18T22:46:14.951Z"
   },
   {
    "duration": 184,
    "start_time": "2023-06-18T22:47:31.873Z"
   },
   {
    "duration": 21,
    "start_time": "2023-06-18T22:48:01.592Z"
   },
   {
    "duration": 20,
    "start_time": "2023-06-18T22:48:11.050Z"
   },
   {
    "duration": 39,
    "start_time": "2023-06-18T22:48:27.210Z"
   },
   {
    "duration": 4,
    "start_time": "2023-06-18T22:53:07.263Z"
   },
   {
    "duration": 94,
    "start_time": "2023-06-18T22:53:12.030Z"
   },
   {
    "duration": 6,
    "start_time": "2023-06-18T22:53:19.780Z"
   },
   {
    "duration": 10,
    "start_time": "2023-06-18T22:53:34.107Z"
   },
   {
    "duration": 99,
    "start_time": "2023-06-18T23:06:21.263Z"
   },
   {
    "duration": 272343,
    "start_time": "2023-06-18T23:08:12.092Z"
   },
   {
    "duration": 414,
    "start_time": "2023-06-18T23:13:02.026Z"
   },
   {
    "duration": 485534,
    "start_time": "2023-06-18T23:13:22.406Z"
   },
   {
    "duration": 34,
    "start_time": "2023-06-18T23:23:31.094Z"
   },
   {
    "duration": 14,
    "start_time": "2023-06-18T23:23:57.656Z"
   },
   {
    "duration": 152,
    "start_time": "2023-06-18T23:24:05.068Z"
   },
   {
    "duration": 13,
    "start_time": "2023-06-18T23:24:14.160Z"
   },
   {
    "duration": 134,
    "start_time": "2023-06-18T23:24:34.897Z"
   },
   {
    "duration": 147,
    "start_time": "2023-06-18T23:24:42.737Z"
   },
   {
    "duration": 13,
    "start_time": "2023-06-18T23:24:46.039Z"
   },
   {
    "duration": 25,
    "start_time": "2023-06-18T23:25:02.996Z"
   },
   {
    "duration": 27,
    "start_time": "2023-06-18T23:25:37.166Z"
   },
   {
    "duration": 35,
    "start_time": "2023-06-18T23:25:42.013Z"
   },
   {
    "duration": 29,
    "start_time": "2023-06-18T23:29:05.475Z"
   },
   {
    "duration": 9,
    "start_time": "2023-06-18T23:31:14.111Z"
   },
   {
    "duration": 22,
    "start_time": "2023-06-18T23:31:51.396Z"
   },
   {
    "duration": 44,
    "start_time": "2023-06-18T23:32:55.498Z"
   },
   {
    "duration": 1622,
    "start_time": "2023-06-19T08:09:36.205Z"
   },
   {
    "duration": 3,
    "start_time": "2023-06-19T08:09:37.829Z"
   },
   {
    "duration": 2924,
    "start_time": "2023-06-19T08:09:37.833Z"
   },
   {
    "duration": 18,
    "start_time": "2023-06-19T08:09:40.759Z"
   },
   {
    "duration": 119,
    "start_time": "2023-06-19T08:09:40.779Z"
   },
   {
    "duration": 1017,
    "start_time": "2023-06-19T08:09:40.900Z"
   },
   {
    "duration": 4,
    "start_time": "2023-06-19T08:09:41.918Z"
   },
   {
    "duration": 51,
    "start_time": "2023-06-19T08:09:41.924Z"
   },
   {
    "duration": 278,
    "start_time": "2023-06-19T08:09:41.977Z"
   },
   {
    "duration": 19,
    "start_time": "2023-06-19T08:09:42.258Z"
   },
   {
    "duration": 7,
    "start_time": "2023-06-19T08:09:42.279Z"
   },
   {
    "duration": 40,
    "start_time": "2023-06-19T08:09:42.287Z"
   },
   {
    "duration": 53,
    "start_time": "2023-06-19T08:09:42.328Z"
   },
   {
    "duration": 94,
    "start_time": "2023-06-19T08:09:42.382Z"
   },
   {
    "duration": 79,
    "start_time": "2023-06-19T08:09:42.478Z"
   },
   {
    "duration": 51,
    "start_time": "2023-06-19T08:09:42.559Z"
   },
   {
    "duration": 281,
    "start_time": "2023-06-19T08:09:42.612Z"
   },
   {
    "duration": 15,
    "start_time": "2023-06-19T08:09:42.895Z"
   },
   {
    "duration": 39,
    "start_time": "2023-06-19T08:09:42.912Z"
   },
   {
    "duration": 33,
    "start_time": "2023-06-19T08:09:42.952Z"
   },
   {
    "duration": 24,
    "start_time": "2023-06-19T08:09:42.988Z"
   },
   {
    "duration": 76,
    "start_time": "2023-06-19T08:09:43.014Z"
   },
   {
    "duration": 184,
    "start_time": "2023-06-19T08:09:43.091Z"
   },
   {
    "duration": 362,
    "start_time": "2023-06-19T08:09:43.276Z"
   },
   {
    "duration": 23,
    "start_time": "2023-06-19T08:09:43.642Z"
   },
   {
    "duration": 23,
    "start_time": "2023-06-19T08:09:43.666Z"
   },
   {
    "duration": 17,
    "start_time": "2023-06-19T08:09:43.690Z"
   },
   {
    "duration": 20,
    "start_time": "2023-06-19T08:09:43.711Z"
   },
   {
    "duration": 6,
    "start_time": "2023-06-19T08:09:43.732Z"
   },
   {
    "duration": 10,
    "start_time": "2023-06-19T08:09:43.739Z"
   },
   {
    "duration": 43,
    "start_time": "2023-06-19T08:09:43.750Z"
   },
   {
    "duration": 34,
    "start_time": "2023-06-19T08:09:43.794Z"
   },
   {
    "duration": 3,
    "start_time": "2023-06-19T08:09:43.830Z"
   },
   {
    "duration": 551,
    "start_time": "2023-06-19T08:09:43.835Z"
   },
   {
    "duration": 26,
    "start_time": "2023-06-19T08:09:44.387Z"
   },
   {
    "duration": 50009,
    "start_time": "2023-06-19T08:09:44.415Z"
   },
   {
    "duration": 33,
    "start_time": "2023-06-19T08:10:34.426Z"
   },
   {
    "duration": 32,
    "start_time": "2023-06-19T08:10:34.461Z"
   },
   {
    "duration": 58,
    "start_time": "2023-06-19T08:10:34.494Z"
   },
   {
    "duration": 27,
    "start_time": "2023-06-19T08:10:34.554Z"
   },
   {
    "duration": 36,
    "start_time": "2023-06-19T08:10:34.582Z"
   },
   {
    "duration": 6,
    "start_time": "2023-06-19T08:10:34.621Z"
   },
   {
    "duration": 11,
    "start_time": "2023-06-19T08:10:34.629Z"
   },
   {
    "duration": 18,
    "start_time": "2023-06-19T08:10:34.642Z"
   },
   {
    "duration": 168,
    "start_time": "2023-06-19T08:10:34.662Z"
   },
   {
    "duration": 4,
    "start_time": "2023-06-19T08:10:34.832Z"
   },
   {
    "duration": 19,
    "start_time": "2023-06-19T08:10:34.838Z"
   },
   {
    "duration": 20,
    "start_time": "2023-06-19T08:10:34.859Z"
   },
   {
    "duration": 2077,
    "start_time": "2023-06-19T08:10:34.881Z"
   },
   {
    "duration": 11,
    "start_time": "2023-06-19T08:10:36.960Z"
   },
   {
    "duration": 19,
    "start_time": "2023-06-19T08:10:36.972Z"
   },
   {
    "duration": 30,
    "start_time": "2023-06-19T08:10:36.993Z"
   },
   {
    "duration": 37,
    "start_time": "2023-06-19T08:10:37.024Z"
   },
   {
    "duration": 4,
    "start_time": "2023-06-19T08:10:37.063Z"
   },
   {
    "duration": 160,
    "start_time": "2023-06-19T08:10:37.069Z"
   },
   {
    "duration": 30,
    "start_time": "2023-06-19T08:10:37.231Z"
   },
   {
    "duration": 14,
    "start_time": "2023-06-19T08:10:37.263Z"
   },
   {
    "duration": 15,
    "start_time": "2023-06-19T08:10:37.279Z"
   },
   {
    "duration": 34,
    "start_time": "2023-06-19T08:10:37.295Z"
   },
   {
    "duration": 30,
    "start_time": "2023-06-19T08:10:37.330Z"
   },
   {
    "duration": 49,
    "start_time": "2023-06-19T08:10:37.362Z"
   },
   {
    "duration": 8,
    "start_time": "2023-06-19T08:12:00.294Z"
   },
   {
    "duration": 132,
    "start_time": "2023-06-19T08:12:45.136Z"
   },
   {
    "duration": 5,
    "start_time": "2023-06-19T08:12:59.636Z"
   },
   {
    "duration": 190,
    "start_time": "2023-06-19T08:13:16.066Z"
   },
   {
    "duration": 97,
    "start_time": "2023-06-19T08:14:29.351Z"
   },
   {
    "duration": 5,
    "start_time": "2023-06-19T08:14:37.918Z"
   },
   {
    "duration": 22,
    "start_time": "2023-06-19T08:14:53.252Z"
   },
   {
    "duration": 696,
    "start_time": "2023-06-19T08:16:20.719Z"
   },
   {
    "duration": 242,
    "start_time": "2023-06-19T08:17:50.275Z"
   },
   {
    "duration": 568,
    "start_time": "2023-06-19T08:18:03.394Z"
   },
   {
    "duration": 733,
    "start_time": "2023-06-19T08:18:49.648Z"
   },
   {
    "duration": 893,
    "start_time": "2023-06-19T08:19:16.349Z"
   },
   {
    "duration": 894,
    "start_time": "2023-06-19T08:19:28.222Z"
   },
   {
    "duration": 946,
    "start_time": "2023-06-19T08:20:13.597Z"
   },
   {
    "duration": 10,
    "start_time": "2023-06-19T08:21:49.915Z"
   },
   {
    "duration": 999,
    "start_time": "2023-06-19T08:21:53.005Z"
   },
   {
    "duration": 10,
    "start_time": "2023-06-19T08:23:02.152Z"
   },
   {
    "duration": 6,
    "start_time": "2023-06-19T08:23:18.443Z"
   },
   {
    "duration": 959,
    "start_time": "2023-06-19T08:23:38.839Z"
   },
   {
    "duration": 37,
    "start_time": "2023-06-19T08:25:58.124Z"
   },
   {
    "duration": 980,
    "start_time": "2023-06-19T08:26:03.615Z"
   },
   {
    "duration": 1300,
    "start_time": "2023-06-19T08:27:24.423Z"
   },
   {
    "duration": 1068,
    "start_time": "2023-06-19T08:27:44.599Z"
   },
   {
    "duration": 6,
    "start_time": "2023-06-19T08:39:17.293Z"
   },
   {
    "duration": 3,
    "start_time": "2023-06-19T08:39:17.341Z"
   },
   {
    "duration": 787,
    "start_time": "2023-06-19T08:39:17.364Z"
   },
   {
    "duration": 16,
    "start_time": "2023-06-19T08:39:18.153Z"
   },
   {
    "duration": 125,
    "start_time": "2023-06-19T08:39:18.171Z"
   },
   {
    "duration": 1125,
    "start_time": "2023-06-19T08:39:18.299Z"
   },
   {
    "duration": 3,
    "start_time": "2023-06-19T08:39:19.426Z"
   },
   {
    "duration": 44,
    "start_time": "2023-06-19T08:39:19.431Z"
   },
   {
    "duration": 256,
    "start_time": "2023-06-19T08:39:19.477Z"
   },
   {
    "duration": 36,
    "start_time": "2023-06-19T08:39:19.735Z"
   },
   {
    "duration": 6,
    "start_time": "2023-06-19T08:39:19.773Z"
   },
   {
    "duration": 19,
    "start_time": "2023-06-19T08:39:19.781Z"
   },
   {
    "duration": 33,
    "start_time": "2023-06-19T08:39:19.802Z"
   },
   {
    "duration": 111,
    "start_time": "2023-06-19T08:39:19.837Z"
   },
   {
    "duration": 72,
    "start_time": "2023-06-19T08:39:19.950Z"
   },
   {
    "duration": 52,
    "start_time": "2023-06-19T08:39:20.024Z"
   },
   {
    "duration": 272,
    "start_time": "2023-06-19T08:39:20.078Z"
   },
   {
    "duration": 23,
    "start_time": "2023-06-19T08:39:20.351Z"
   },
   {
    "duration": 26,
    "start_time": "2023-06-19T08:39:20.375Z"
   },
   {
    "duration": 33,
    "start_time": "2023-06-19T08:39:20.402Z"
   },
   {
    "duration": 33,
    "start_time": "2023-06-19T08:39:20.437Z"
   },
   {
    "duration": 66,
    "start_time": "2023-06-19T08:39:20.472Z"
   },
   {
    "duration": 181,
    "start_time": "2023-06-19T08:39:20.540Z"
   },
   {
    "duration": 353,
    "start_time": "2023-06-19T08:39:20.722Z"
   },
   {
    "duration": 19,
    "start_time": "2023-06-19T08:39:21.076Z"
   },
   {
    "duration": 21,
    "start_time": "2023-06-19T08:39:21.097Z"
   },
   {
    "duration": 10,
    "start_time": "2023-06-19T08:39:21.120Z"
   },
   {
    "duration": 14,
    "start_time": "2023-06-19T08:39:21.132Z"
   },
   {
    "duration": 5,
    "start_time": "2023-06-19T08:39:21.147Z"
   },
   {
    "duration": 15,
    "start_time": "2023-06-19T08:39:21.158Z"
   },
   {
    "duration": 52,
    "start_time": "2023-06-19T08:39:21.175Z"
   },
   {
    "duration": 23,
    "start_time": "2023-06-19T08:39:21.229Z"
   },
   {
    "duration": 3,
    "start_time": "2023-06-19T08:39:21.253Z"
   },
   {
    "duration": 508,
    "start_time": "2023-06-19T08:39:21.258Z"
   },
   {
    "duration": 30,
    "start_time": "2023-06-19T08:39:21.768Z"
   },
   {
    "duration": 51237,
    "start_time": "2023-06-19T08:39:21.800Z"
   },
   {
    "duration": 38,
    "start_time": "2023-06-19T08:40:13.039Z"
   },
   {
    "duration": 26,
    "start_time": "2023-06-19T08:40:13.079Z"
   },
   {
    "duration": 65,
    "start_time": "2023-06-19T08:40:13.107Z"
   },
   {
    "duration": 27,
    "start_time": "2023-06-19T08:40:13.174Z"
   },
   {
    "duration": 28,
    "start_time": "2023-06-19T08:40:13.203Z"
   },
   {
    "duration": 8,
    "start_time": "2023-06-19T08:40:13.232Z"
   },
   {
    "duration": 37,
    "start_time": "2023-06-19T08:40:13.241Z"
   },
   {
    "duration": 17,
    "start_time": "2023-06-19T08:40:13.280Z"
   },
   {
    "duration": 172,
    "start_time": "2023-06-19T08:40:13.299Z"
   },
   {
    "duration": 5,
    "start_time": "2023-06-19T08:40:13.473Z"
   },
   {
    "duration": 18,
    "start_time": "2023-06-19T08:40:13.480Z"
   },
   {
    "duration": 24,
    "start_time": "2023-06-19T08:40:13.500Z"
   },
   {
    "duration": 2348,
    "start_time": "2023-06-19T08:40:13.526Z"
   },
   {
    "duration": 7,
    "start_time": "2023-06-19T08:40:15.876Z"
   },
   {
    "duration": 60,
    "start_time": "2023-06-19T08:40:15.884Z"
   },
   {
    "duration": 38,
    "start_time": "2023-06-19T08:40:15.945Z"
   },
   {
    "duration": 10,
    "start_time": "2023-06-19T08:40:15.985Z"
   },
   {
    "duration": 23,
    "start_time": "2023-06-19T08:40:15.997Z"
   },
   {
    "duration": 176,
    "start_time": "2023-06-19T08:40:16.022Z"
   },
   {
    "duration": 25,
    "start_time": "2023-06-19T08:40:16.200Z"
   },
   {
    "duration": 38,
    "start_time": "2023-06-19T08:40:16.227Z"
   },
   {
    "duration": 7,
    "start_time": "2023-06-19T08:40:16.267Z"
   },
   {
    "duration": 33,
    "start_time": "2023-06-19T08:40:16.276Z"
   },
   {
    "duration": 33,
    "start_time": "2023-06-19T08:40:16.311Z"
   },
   {
    "duration": 14,
    "start_time": "2023-06-19T08:40:16.346Z"
   },
   {
    "duration": 57,
    "start_time": "2023-06-19T08:40:16.363Z"
   },
   {
    "duration": 6,
    "start_time": "2023-06-19T08:40:16.422Z"
   },
   {
    "duration": 213,
    "start_time": "2023-06-19T08:40:16.430Z"
   },
   {
    "duration": 115,
    "start_time": "2023-06-19T08:40:16.645Z"
   },
   {
    "duration": 23,
    "start_time": "2023-06-19T08:40:16.762Z"
   },
   {
    "duration": 24,
    "start_time": "2023-06-19T08:40:16.787Z"
   },
   {
    "duration": 59,
    "start_time": "2023-06-19T08:40:16.813Z"
   },
   {
    "duration": 8,
    "start_time": "2023-06-19T08:40:16.874Z"
   },
   {
    "duration": 26,
    "start_time": "2023-06-19T08:40:16.883Z"
   },
   {
    "duration": 11,
    "start_time": "2023-06-19T08:40:16.910Z"
   },
   {
    "duration": 4,
    "start_time": "2023-06-19T08:40:16.922Z"
   },
   {
    "duration": 999,
    "start_time": "2023-06-19T08:40:16.928Z"
   },
   {
    "duration": 686,
    "start_time": "2023-06-19T08:40:17.929Z"
   },
   {
    "duration": 4,
    "start_time": "2023-06-19T08:40:54.226Z"
   },
   {
    "duration": 13,
    "start_time": "2023-06-19T08:44:46.576Z"
   },
   {
    "duration": 6,
    "start_time": "2023-06-19T08:44:49.998Z"
   },
   {
    "duration": 6681,
    "start_time": "2023-06-19T08:45:33.914Z"
   },
   {
    "duration": 8,
    "start_time": "2023-06-19T08:45:49.933Z"
   },
   {
    "duration": 18,
    "start_time": "2023-06-19T08:46:26.444Z"
   },
   {
    "duration": 4,
    "start_time": "2023-06-19T08:46:28.867Z"
   },
   {
    "duration": 121,
    "start_time": "2023-06-19T08:46:31.948Z"
   },
   {
    "duration": 19,
    "start_time": "2023-06-19T08:46:48.516Z"
   },
   {
    "duration": 14,
    "start_time": "2023-06-19T08:47:04.210Z"
   },
   {
    "duration": 15,
    "start_time": "2023-06-19T08:47:36.555Z"
   },
   {
    "duration": 11,
    "start_time": "2023-06-19T08:48:47.595Z"
   },
   {
    "duration": 3,
    "start_time": "2023-06-19T08:48:54.709Z"
   },
   {
    "duration": 4,
    "start_time": "2023-06-19T08:49:00.231Z"
   },
   {
    "duration": 126,
    "start_time": "2023-06-19T08:49:47.013Z"
   },
   {
    "duration": 3,
    "start_time": "2023-06-19T08:53:30.799Z"
   },
   {
    "duration": 1086,
    "start_time": "2023-06-19T08:56:01.368Z"
   },
   {
    "duration": 2063,
    "start_time": "2023-06-19T08:59:40.006Z"
   },
   {
    "duration": 1308,
    "start_time": "2023-06-19T08:59:42.072Z"
   },
   {
    "duration": 3,
    "start_time": "2023-06-19T08:59:43.382Z"
   },
   {
    "duration": 889,
    "start_time": "2023-06-19T08:59:43.387Z"
   },
   {
    "duration": 22,
    "start_time": "2023-06-19T08:59:44.278Z"
   },
   {
    "duration": 130,
    "start_time": "2023-06-19T08:59:44.302Z"
   },
   {
    "duration": 1033,
    "start_time": "2023-06-19T08:59:44.433Z"
   },
   {
    "duration": 4,
    "start_time": "2023-06-19T08:59:45.467Z"
   },
   {
    "duration": 44,
    "start_time": "2023-06-19T08:59:45.473Z"
   },
   {
    "duration": 323,
    "start_time": "2023-06-19T08:59:45.520Z"
   },
   {
    "duration": 33,
    "start_time": "2023-06-19T08:59:45.845Z"
   },
   {
    "duration": 8,
    "start_time": "2023-06-19T08:59:45.880Z"
   },
   {
    "duration": 24,
    "start_time": "2023-06-19T08:59:45.890Z"
   },
   {
    "duration": 77,
    "start_time": "2023-06-19T08:59:45.916Z"
   },
   {
    "duration": 111,
    "start_time": "2023-06-19T08:59:45.995Z"
   },
   {
    "duration": 84,
    "start_time": "2023-06-19T08:59:46.108Z"
   },
   {
    "duration": 84,
    "start_time": "2023-06-19T08:59:46.193Z"
   },
   {
    "duration": 310,
    "start_time": "2023-06-19T08:59:46.279Z"
   },
   {
    "duration": 16,
    "start_time": "2023-06-19T08:59:46.591Z"
   },
   {
    "duration": 61,
    "start_time": "2023-06-19T08:59:46.608Z"
   },
   {
    "duration": 30,
    "start_time": "2023-06-19T08:59:46.671Z"
   },
   {
    "duration": 20,
    "start_time": "2023-06-19T08:59:46.703Z"
   },
   {
    "duration": 78,
    "start_time": "2023-06-19T08:59:46.725Z"
   },
   {
    "duration": 218,
    "start_time": "2023-06-19T08:59:46.805Z"
   },
   {
    "duration": 396,
    "start_time": "2023-06-19T08:59:47.025Z"
   },
   {
    "duration": 21,
    "start_time": "2023-06-19T08:59:47.422Z"
   },
   {
    "duration": 4,
    "start_time": "2023-06-19T08:59:47.444Z"
   },
   {
    "duration": 4,
    "start_time": "2023-06-19T08:59:47.461Z"
   },
   {
    "duration": 3,
    "start_time": "2023-06-19T08:59:47.469Z"
   },
   {
    "duration": 5,
    "start_time": "2023-06-19T08:59:47.474Z"
   },
   {
    "duration": 8,
    "start_time": "2023-06-19T08:59:47.481Z"
   },
   {
    "duration": 31,
    "start_time": "2023-06-19T08:59:47.491Z"
   },
   {
    "duration": 46,
    "start_time": "2023-06-19T08:59:47.524Z"
   },
   {
    "duration": 3,
    "start_time": "2023-06-19T08:59:47.572Z"
   },
   {
    "duration": 574,
    "start_time": "2023-06-19T08:59:47.577Z"
   },
   {
    "duration": 35,
    "start_time": "2023-06-19T08:59:48.153Z"
   },
   {
    "duration": 52395,
    "start_time": "2023-06-19T08:59:48.190Z"
   },
   {
    "duration": 24,
    "start_time": "2023-06-19T09:00:40.587Z"
   },
   {
    "duration": 66,
    "start_time": "2023-06-19T09:00:40.613Z"
   },
   {
    "duration": 50,
    "start_time": "2023-06-19T09:00:40.681Z"
   },
   {
    "duration": 39,
    "start_time": "2023-06-19T09:00:40.733Z"
   },
   {
    "duration": 57,
    "start_time": "2023-06-19T09:00:40.774Z"
   },
   {
    "duration": 39,
    "start_time": "2023-06-19T09:00:40.833Z"
   },
   {
    "duration": 24,
    "start_time": "2023-06-19T09:00:40.874Z"
   },
   {
    "duration": 14,
    "start_time": "2023-06-19T09:00:40.900Z"
   },
   {
    "duration": 176,
    "start_time": "2023-06-19T09:00:40.916Z"
   },
   {
    "duration": 5,
    "start_time": "2023-06-19T09:00:41.094Z"
   },
   {
    "duration": 20,
    "start_time": "2023-06-19T09:00:41.100Z"
   },
   {
    "duration": 18,
    "start_time": "2023-06-19T09:00:41.122Z"
   },
   {
    "duration": 2165,
    "start_time": "2023-06-19T09:00:41.141Z"
   },
   {
    "duration": 7,
    "start_time": "2023-06-19T09:00:43.307Z"
   },
   {
    "duration": 24,
    "start_time": "2023-06-19T09:00:43.316Z"
   },
   {
    "duration": 35,
    "start_time": "2023-06-19T09:00:43.342Z"
   },
   {
    "duration": 10,
    "start_time": "2023-06-19T09:00:43.379Z"
   },
   {
    "duration": 5,
    "start_time": "2023-06-19T09:00:43.391Z"
   },
   {
    "duration": 175,
    "start_time": "2023-06-19T09:00:43.397Z"
   },
   {
    "duration": 24,
    "start_time": "2023-06-19T09:00:43.573Z"
   },
   {
    "duration": 32,
    "start_time": "2023-06-19T09:00:43.598Z"
   },
   {
    "duration": 5,
    "start_time": "2023-06-19T09:00:43.632Z"
   },
   {
    "duration": 44,
    "start_time": "2023-06-19T09:00:43.639Z"
   },
   {
    "duration": 35,
    "start_time": "2023-06-19T09:00:43.685Z"
   },
   {
    "duration": 6,
    "start_time": "2023-06-19T09:00:43.723Z"
   },
   {
    "duration": 73,
    "start_time": "2023-06-19T09:00:43.731Z"
   },
   {
    "duration": 7,
    "start_time": "2023-06-19T09:00:43.806Z"
   },
   {
    "duration": 214,
    "start_time": "2023-06-19T09:00:43.815Z"
   },
   {
    "duration": 123,
    "start_time": "2023-06-19T09:00:44.031Z"
   },
   {
    "duration": 26,
    "start_time": "2023-06-19T09:00:44.157Z"
   },
   {
    "duration": 34,
    "start_time": "2023-06-19T09:00:44.185Z"
   },
   {
    "duration": 42,
    "start_time": "2023-06-19T09:00:44.221Z"
   },
   {
    "duration": 6,
    "start_time": "2023-06-19T09:00:44.269Z"
   },
   {
    "duration": 28,
    "start_time": "2023-06-19T09:00:44.277Z"
   },
   {
    "duration": 10,
    "start_time": "2023-06-19T09:00:44.307Z"
   },
   {
    "duration": 5,
    "start_time": "2023-06-19T09:00:44.319Z"
   },
   {
    "duration": 35,
    "start_time": "2023-06-19T09:00:44.325Z"
   },
   {
    "duration": 968,
    "start_time": "2023-06-19T09:00:44.362Z"
   },
   {
    "duration": 749,
    "start_time": "2023-06-19T09:00:45.332Z"
   },
   {
    "duration": 88,
    "start_time": "2023-06-19T09:00:46.083Z"
   },
   {
    "duration": 6,
    "start_time": "2023-06-19T09:00:46.174Z"
   },
   {
    "duration": 7,
    "start_time": "2023-06-19T09:00:46.182Z"
   },
   {
    "duration": 29,
    "start_time": "2023-06-19T09:00:46.191Z"
   },
   {
    "duration": 4,
    "start_time": "2023-06-19T09:00:46.222Z"
   },
   {
    "duration": 104,
    "start_time": "2023-06-19T09:00:46.231Z"
   },
   {
    "duration": 3,
    "start_time": "2023-06-19T09:01:03.197Z"
   },
   {
    "duration": 3,
    "start_time": "2023-06-19T09:01:07.753Z"
   },
   {
    "duration": 1217,
    "start_time": "2023-06-19T09:01:24.202Z"
   },
   {
    "duration": 1681,
    "start_time": "2023-06-19T09:02:36.195Z"
   },
   {
    "duration": 3,
    "start_time": "2023-06-19T09:04:09.539Z"
   },
   {
    "duration": 19,
    "start_time": "2023-06-19T09:04:18.109Z"
   },
   {
    "duration": 4,
    "start_time": "2023-06-19T09:04:20.525Z"
   },
   {
    "duration": 80,
    "start_time": "2023-06-19T09:04:23.010Z"
   },
   {
    "duration": 3,
    "start_time": "2023-06-19T09:04:25.547Z"
   },
   {
    "duration": 4,
    "start_time": "2023-06-19T09:04:32.499Z"
   },
   {
    "duration": 31995,
    "start_time": "2023-06-19T09:04:36.604Z"
   },
   {
    "duration": 589,
    "start_time": "2023-06-19T09:09:20.672Z"
   },
   {
    "duration": 5,
    "start_time": "2023-06-19T09:09:26.022Z"
   },
   {
    "duration": 184364,
    "start_time": "2023-06-19T09:09:55.495Z"
   },
   {
    "duration": 4,
    "start_time": "2023-06-19T09:14:02.238Z"
   },
   {
    "duration": 3,
    "start_time": "2023-06-19T09:15:15.505Z"
   },
   {
    "duration": 98,
    "start_time": "2023-06-19T09:16:02.050Z"
   },
   {
    "duration": 103,
    "start_time": "2023-06-19T09:16:07.775Z"
   },
   {
    "duration": 112,
    "start_time": "2023-06-19T09:16:12.910Z"
   },
   {
    "duration": 4,
    "start_time": "2023-06-19T09:16:23.432Z"
   },
   {
    "duration": 41771,
    "start_time": "2023-06-19T09:19:10.232Z"
   },
   {
    "duration": 3,
    "start_time": "2023-06-19T09:20:50.741Z"
   },
   {
    "duration": 3,
    "start_time": "2023-06-19T09:21:05.982Z"
   },
   {
    "duration": 699,
    "start_time": "2023-06-19T09:24:25.275Z"
   },
   {
    "duration": 667,
    "start_time": "2023-06-19T09:24:52.105Z"
   },
   {
    "duration": 3,
    "start_time": "2023-06-19T09:25:00.615Z"
   },
   {
    "duration": 94,
    "start_time": "2023-06-19T09:25:11.349Z"
   },
   {
    "duration": 603,
    "start_time": "2023-06-19T09:26:28.357Z"
   },
   {
    "duration": 2,
    "start_time": "2023-06-19T09:26:32.023Z"
   },
   {
    "duration": 607,
    "start_time": "2023-06-19T09:28:47.655Z"
   },
   {
    "duration": 3,
    "start_time": "2023-06-19T09:28:50.319Z"
   },
   {
    "duration": 513,
    "start_time": "2023-06-19T09:29:04.255Z"
   },
   {
    "duration": 553,
    "start_time": "2023-06-19T09:29:56.106Z"
   },
   {
    "duration": 100,
    "start_time": "2023-06-19T09:30:09.185Z"
   },
   {
    "duration": 18,
    "start_time": "2023-06-19T09:32:06.318Z"
   },
   {
    "duration": 4,
    "start_time": "2023-06-19T09:32:21.016Z"
   },
   {
    "duration": 636,
    "start_time": "2023-06-19T09:33:19.323Z"
   },
   {
    "duration": 69148,
    "start_time": "2023-06-19T09:39:52.833Z"
   },
   {
    "duration": 1438,
    "start_time": "2023-06-19T09:41:08.246Z"
   },
   {
    "duration": 7,
    "start_time": "2023-06-19T09:41:15.104Z"
   },
   {
    "duration": 9,
    "start_time": "2023-06-19T09:42:42.712Z"
   },
   {
    "duration": 1466,
    "start_time": "2023-06-19T09:42:51.201Z"
   },
   {
    "duration": 11,
    "start_time": "2023-06-19T09:42:56.215Z"
   },
   {
    "duration": 11,
    "start_time": "2023-06-19T09:43:48.427Z"
   },
   {
    "duration": 4,
    "start_time": "2023-06-19T09:43:54.706Z"
   },
   {
    "duration": 15,
    "start_time": "2023-06-19T09:45:08.551Z"
   },
   {
    "duration": 10,
    "start_time": "2023-06-19T09:45:50.206Z"
   },
   {
    "duration": 9,
    "start_time": "2023-06-19T09:46:08.823Z"
   },
   {
    "duration": 9,
    "start_time": "2023-06-19T09:46:36.510Z"
   },
   {
    "duration": 3,
    "start_time": "2023-06-19T09:46:41.019Z"
   },
   {
    "duration": 36,
    "start_time": "2023-06-19T09:46:50.750Z"
   },
   {
    "duration": 3,
    "start_time": "2023-06-19T09:47:29.822Z"
   },
   {
    "duration": 5,
    "start_time": "2023-06-19T09:47:48.313Z"
   },
   {
    "duration": 57571,
    "start_time": "2023-06-19T09:48:23.214Z"
   },
   {
    "duration": 6,
    "start_time": "2023-06-19T09:52:12.560Z"
   },
   {
    "duration": 3,
    "start_time": "2023-06-19T09:52:47.616Z"
   },
   {
    "duration": 1470,
    "start_time": "2023-06-19T09:52:53.096Z"
   },
   {
    "duration": 3,
    "start_time": "2023-06-19T09:53:12.810Z"
   },
   {
    "duration": 4,
    "start_time": "2023-06-19T09:53:26.900Z"
   },
   {
    "duration": 4,
    "start_time": "2023-06-19T09:54:17.354Z"
   },
   {
    "duration": 4,
    "start_time": "2023-06-19T09:55:01.995Z"
   },
   {
    "duration": 128,
    "start_time": "2023-06-19T09:57:32.488Z"
   },
   {
    "duration": 5,
    "start_time": "2023-06-19T10:05:28.625Z"
   },
   {
    "duration": 3,
    "start_time": "2023-06-19T10:06:44.605Z"
   },
   {
    "duration": 4,
    "start_time": "2023-06-19T10:06:51.721Z"
   },
   {
    "duration": 3,
    "start_time": "2023-06-19T10:06:57.525Z"
   },
   {
    "duration": 4,
    "start_time": "2023-06-19T10:07:27.890Z"
   },
   {
    "duration": 13517,
    "start_time": "2023-06-19T10:07:29.848Z"
   },
   {
    "duration": 3,
    "start_time": "2023-06-19T10:09:06.105Z"
   },
   {
    "duration": 3,
    "start_time": "2023-06-19T10:09:06.903Z"
   },
   {
    "duration": 2,
    "start_time": "2023-06-19T10:09:10.720Z"
   },
   {
    "duration": 3,
    "start_time": "2023-06-19T10:09:13.608Z"
   },
   {
    "duration": 12640,
    "start_time": "2023-06-19T10:09:18.447Z"
   },
   {
    "duration": 3,
    "start_time": "2023-06-19T10:13:16.201Z"
   },
   {
    "duration": 4,
    "start_time": "2023-06-19T10:13:16.886Z"
   },
   {
    "duration": 4,
    "start_time": "2023-06-19T10:13:19.313Z"
   },
   {
    "duration": 3,
    "start_time": "2023-06-19T10:13:21.716Z"
   },
   {
    "duration": 77292,
    "start_time": "2023-06-19T10:13:24.712Z"
   },
   {
    "duration": 3,
    "start_time": "2023-06-19T10:14:55.183Z"
   },
   {
    "duration": 3,
    "start_time": "2023-06-19T10:14:57.714Z"
   },
   {
    "duration": 282311,
    "start_time": "2023-06-19T10:15:06.901Z"
   },
   {
    "duration": 4,
    "start_time": "2023-06-19T10:22:06.141Z"
   },
   {
    "duration": 3,
    "start_time": "2023-06-19T10:23:09.691Z"
   },
   {
    "duration": 3,
    "start_time": "2023-06-19T10:23:12.039Z"
   },
   {
    "duration": 6,
    "start_time": "2023-06-19T10:23:14.173Z"
   },
   {
    "duration": 3,
    "start_time": "2023-06-19T10:23:17.384Z"
   },
   {
    "duration": 274803,
    "start_time": "2023-06-19T10:23:22.530Z"
   },
   {
    "duration": 5,
    "start_time": "2023-06-19T10:28:14.809Z"
   },
   {
    "duration": 4,
    "start_time": "2023-06-19T10:32:14.291Z"
   },
   {
    "duration": 10644,
    "start_time": "2023-06-19T10:32:18.944Z"
   },
   {
    "duration": 4,
    "start_time": "2023-06-19T10:34:04.203Z"
   },
   {
    "duration": 32042,
    "start_time": "2023-06-19T10:34:07.702Z"
   },
   {
    "duration": 3,
    "start_time": "2023-06-19T10:36:19.326Z"
   },
   {
    "duration": 10049,
    "start_time": "2023-06-19T10:36:24.284Z"
   },
   {
    "duration": 4,
    "start_time": "2023-06-19T10:36:43.917Z"
   },
   {
    "duration": 7,
    "start_time": "2023-06-19T10:36:46.085Z"
   },
   {
    "duration": 3,
    "start_time": "2023-06-19T10:36:50.828Z"
   },
   {
    "duration": 3,
    "start_time": "2023-06-19T10:36:53.549Z"
   },
   {
    "duration": 272236,
    "start_time": "2023-06-19T10:36:55.194Z"
   },
   {
    "duration": 4,
    "start_time": "2023-06-19T10:43:49.812Z"
   },
   {
    "duration": 4,
    "start_time": "2023-06-19T10:45:12.997Z"
   },
   {
    "duration": 1103,
    "start_time": "2023-06-19T10:45:15.612Z"
   },
   {
    "duration": 164,
    "start_time": "2023-06-19T10:45:22.493Z"
   },
   {
    "duration": 6,
    "start_time": "2023-06-19T10:45:26.417Z"
   },
   {
    "duration": 5,
    "start_time": "2023-06-19T10:47:51.449Z"
   },
   {
    "duration": 992,
    "start_time": "2023-06-19T10:47:54.896Z"
   },
   {
    "duration": 164,
    "start_time": "2023-06-19T10:47:58.544Z"
   },
   {
    "duration": 5,
    "start_time": "2023-06-19T10:48:02.050Z"
   },
   {
    "duration": 330,
    "start_time": "2023-06-19T10:49:19.094Z"
   },
   {
    "duration": 18,
    "start_time": "2023-06-19T10:49:22.216Z"
   },
   {
    "duration": 326,
    "start_time": "2023-06-19T10:49:44.619Z"
   },
   {
    "duration": 26,
    "start_time": "2023-06-19T10:49:49.141Z"
   },
   {
    "duration": 6,
    "start_time": "2023-06-19T10:50:43.572Z"
   },
   {
    "duration": 1054,
    "start_time": "2023-06-19T10:53:49.741Z"
   },
   {
    "duration": 3,
    "start_time": "2023-06-19T10:54:32.588Z"
   },
   {
    "duration": 380,
    "start_time": "2023-06-19T10:55:10.124Z"
   },
   {
    "duration": 3,
    "start_time": "2023-06-19T10:55:32.906Z"
   },
   {
    "duration": 5,
    "start_time": "2023-06-19T10:56:44.382Z"
   },
   {
    "duration": 4,
    "start_time": "2023-06-19T10:57:47.589Z"
   },
   {
    "duration": 3,
    "start_time": "2023-06-19T10:58:50.302Z"
   },
   {
    "duration": 3,
    "start_time": "2023-06-19T10:58:52.959Z"
   },
   {
    "duration": 3,
    "start_time": "2023-06-19T10:58:55.640Z"
   },
   {
    "duration": 76867,
    "start_time": "2023-06-19T10:58:59.298Z"
   },
   {
    "duration": 5,
    "start_time": "2023-06-19T11:02:05.326Z"
   },
   {
    "duration": 3,
    "start_time": "2023-06-19T11:03:22.054Z"
   },
   {
    "duration": 5216,
    "start_time": "2023-06-19T11:03:24.786Z"
   },
   {
    "duration": 11,
    "start_time": "2023-06-19T11:03:34.251Z"
   },
   {
    "duration": 3,
    "start_time": "2023-06-19T11:03:45.610Z"
   },
   {
    "duration": 10,
    "start_time": "2023-06-19T11:03:59.304Z"
   },
   {
    "duration": 653,
    "start_time": "2023-06-19T11:04:01.106Z"
   },
   {
    "duration": 2,
    "start_time": "2023-06-19T11:04:03.684Z"
   },
   {
    "duration": 4,
    "start_time": "2023-06-19T11:04:41.883Z"
   },
   {
    "duration": 4,
    "start_time": "2023-06-19T11:05:28.627Z"
   },
   {
    "duration": 4,
    "start_time": "2023-06-19T11:07:17.348Z"
   },
   {
    "duration": 4,
    "start_time": "2023-06-19T11:07:35.779Z"
   },
   {
    "duration": 932,
    "start_time": "2023-06-19T11:08:34.675Z"
   },
   {
    "duration": 3,
    "start_time": "2023-06-19T11:08:38.145Z"
   },
   {
    "duration": 341,
    "start_time": "2023-06-19T11:08:42.025Z"
   },
   {
    "duration": 2,
    "start_time": "2023-06-19T11:08:44.503Z"
   },
   {
    "duration": 4,
    "start_time": "2023-06-19T11:08:48.778Z"
   },
   {
    "duration": 8152,
    "start_time": "2023-06-19T11:09:06.208Z"
   },
   {
    "duration": 2,
    "start_time": "2023-06-19T11:09:17.009Z"
   },
   {
    "duration": 635,
    "start_time": "2023-06-19T11:09:19.223Z"
   },
   {
    "duration": 3,
    "start_time": "2023-06-19T11:09:22.322Z"
   },
   {
    "duration": 3,
    "start_time": "2023-06-19T11:09:24.579Z"
   },
   {
    "duration": 3,
    "start_time": "2023-06-19T11:12:30.900Z"
   },
   {
    "duration": 6,
    "start_time": "2023-06-19T11:12:33.327Z"
   },
   {
    "duration": 3,
    "start_time": "2023-06-19T11:12:35.515Z"
   },
   {
    "duration": 4,
    "start_time": "2023-06-19T11:12:38.108Z"
   },
   {
    "duration": 2881,
    "start_time": "2023-06-19T11:12:40.799Z"
   },
   {
    "duration": 3,
    "start_time": "2023-06-19T11:19:20.001Z"
   },
   {
    "duration": 3,
    "start_time": "2023-06-19T11:19:22.375Z"
   },
   {
    "duration": 3,
    "start_time": "2023-06-19T11:19:24.318Z"
   },
   {
    "duration": 36479,
    "start_time": "2023-06-19T11:19:26.509Z"
   },
   {
    "duration": 4,
    "start_time": "2023-06-19T11:20:06.209Z"
   },
   {
    "duration": 5,
    "start_time": "2023-06-19T11:21:16.319Z"
   },
   {
    "duration": 4,
    "start_time": "2023-06-19T11:21:27.507Z"
   },
   {
    "duration": 42,
    "start_time": "2023-06-19T11:21:34.263Z"
   },
   {
    "duration": 10831,
    "start_time": "2023-06-19T11:21:43.617Z"
   },
   {
    "duration": 2,
    "start_time": "2023-06-19T11:22:10.270Z"
   },
   {
    "duration": 242,
    "start_time": "2023-06-19T11:23:06.151Z"
   },
   {
    "duration": 4,
    "start_time": "2023-06-19T11:23:21.528Z"
   },
   {
    "duration": 4,
    "start_time": "2023-06-19T11:24:34.255Z"
   },
   {
    "duration": 4,
    "start_time": "2023-06-19T11:25:50.159Z"
   },
   {
    "duration": 6,
    "start_time": "2023-06-19T11:31:13.899Z"
   },
   {
    "duration": 5,
    "start_time": "2023-06-19T11:31:26.107Z"
   },
   {
    "duration": 4,
    "start_time": "2023-06-19T11:32:03.017Z"
   },
   {
    "duration": 5,
    "start_time": "2023-06-19T11:32:39.190Z"
   },
   {
    "duration": 3,
    "start_time": "2023-06-19T11:33:39.754Z"
   },
   {
    "duration": 4,
    "start_time": "2023-06-19T11:35:20.872Z"
   },
   {
    "duration": 243631,
    "start_time": "2023-06-19T11:37:19.404Z"
   },
   {
    "duration": 8,
    "start_time": "2023-06-19T11:43:12.761Z"
   },
   {
    "duration": 3,
    "start_time": "2023-06-19T11:46:49.590Z"
   },
   {
    "duration": 4,
    "start_time": "2023-06-19T11:46:52.070Z"
   },
   {
    "duration": 3,
    "start_time": "2023-06-19T11:46:55.440Z"
   },
   {
    "duration": 129433,
    "start_time": "2023-06-19T11:46:58.142Z"
   },
   {
    "duration": 10,
    "start_time": "2023-06-19T11:50:00.745Z"
   },
   {
    "duration": 11,
    "start_time": "2023-06-19T11:50:09.639Z"
   },
   {
    "duration": 5,
    "start_time": "2023-06-19T11:50:23.947Z"
   },
   {
    "duration": 10,
    "start_time": "2023-06-19T11:50:36.155Z"
   },
   {
    "duration": 4,
    "start_time": "2023-06-19T11:58:43.124Z"
   },
   {
    "duration": 4,
    "start_time": "2023-06-19T11:59:37.413Z"
   },
   {
    "duration": 4,
    "start_time": "2023-06-19T12:01:08.640Z"
   },
   {
    "duration": 244064,
    "start_time": "2023-06-19T12:01:26.101Z"
   },
   {
    "duration": 6,
    "start_time": "2023-06-19T12:06:15.765Z"
   },
   {
    "duration": 3,
    "start_time": "2023-06-19T12:08:26.680Z"
   },
   {
    "duration": 7522,
    "start_time": "2023-06-19T12:08:30.544Z"
   },
   {
    "duration": 3,
    "start_time": "2023-06-19T12:08:46.440Z"
   },
   {
    "duration": 7173,
    "start_time": "2023-06-19T12:08:49.000Z"
   },
   {
    "duration": 3,
    "start_time": "2023-06-19T12:09:00.546Z"
   },
   {
    "duration": 1099,
    "start_time": "2023-06-19T12:09:03.170Z"
   },
   {
    "duration": 3,
    "start_time": "2023-06-19T12:09:06.400Z"
   },
   {
    "duration": 4,
    "start_time": "2023-06-19T12:09:08.687Z"
   },
   {
    "duration": 4,
    "start_time": "2023-06-19T12:12:39.914Z"
   },
   {
    "duration": 9,
    "start_time": "2023-06-19T12:12:42.314Z"
   },
   {
    "duration": 525,
    "start_time": "2023-06-19T12:21:56.989Z"
   },
   {
    "duration": 2440,
    "start_time": "2023-06-19T12:22:12.032Z"
   },
   {
    "duration": 1175,
    "start_time": "2023-06-19T12:37:13.700Z"
   },
   {
    "duration": 17,
    "start_time": "2023-06-19T12:37:18.150Z"
   },
   {
    "duration": 1111,
    "start_time": "2023-06-19T12:38:10.565Z"
   },
   {
    "duration": 6,
    "start_time": "2023-06-19T12:38:15.644Z"
   },
   {
    "duration": 2528,
    "start_time": "2023-06-19T12:40:40.245Z"
   },
   {
    "duration": 3,
    "start_time": "2023-06-19T12:40:51.076Z"
   },
   {
    "duration": 4,
    "start_time": "2023-06-19T12:41:06.646Z"
   },
   {
    "duration": 4,
    "start_time": "2023-06-19T12:41:47.790Z"
   },
   {
    "duration": 14,
    "start_time": "2023-06-19T12:42:48.351Z"
   },
   {
    "duration": 5,
    "start_time": "2023-06-19T12:43:15.958Z"
   },
   {
    "duration": 18,
    "start_time": "2023-06-19T12:44:42.884Z"
   },
   {
    "duration": 3,
    "start_time": "2023-06-19T12:44:57.663Z"
   },
   {
    "duration": 11,
    "start_time": "2023-06-19T12:44:59.807Z"
   },
   {
    "duration": 33,
    "start_time": "2023-06-19T12:45:53.187Z"
   },
   {
    "duration": 3,
    "start_time": "2023-06-19T12:46:30.103Z"
   },
   {
    "duration": 5,
    "start_time": "2023-06-19T12:46:34.799Z"
   },
   {
    "duration": 4,
    "start_time": "2023-06-19T12:46:40.385Z"
   },
   {
    "duration": 10,
    "start_time": "2023-06-19T12:46:42.832Z"
   },
   {
    "duration": 6,
    "start_time": "2023-06-19T12:47:40.407Z"
   },
   {
    "duration": 3,
    "start_time": "2023-06-19T12:48:01.174Z"
   },
   {
    "duration": 394561,
    "start_time": "2023-06-19T12:48:18.811Z"
   },
   {
    "duration": 5,
    "start_time": "2023-06-19T12:54:58.363Z"
   },
   {
    "duration": 3,
    "start_time": "2023-06-19T12:55:08.945Z"
   },
   {
    "duration": 360983,
    "start_time": "2023-06-19T12:55:14.787Z"
   },
   {
    "duration": 3,
    "start_time": "2023-06-19T13:02:59.606Z"
   },
   {
    "duration": 2642,
    "start_time": "2023-06-19T13:03:01.826Z"
   },
   {
    "duration": 3,
    "start_time": "2023-06-19T13:03:06.927Z"
   },
   {
    "duration": 4,
    "start_time": "2023-06-19T13:03:09.793Z"
   },
   {
    "duration": 3,
    "start_time": "2023-06-19T13:03:36.953Z"
   },
   {
    "duration": 5,
    "start_time": "2023-06-19T13:03:55.141Z"
   },
   {
    "duration": 11,
    "start_time": "2023-06-19T13:03:58.795Z"
   },
   {
    "duration": 11,
    "start_time": "2023-06-19T13:04:24.669Z"
   },
   {
    "duration": 304,
    "start_time": "2023-06-19T13:43:00.291Z"
   },
   {
    "duration": 12,
    "start_time": "2023-06-19T13:43:03.763Z"
   },
   {
    "duration": 4,
    "start_time": "2023-06-19T13:43:38.150Z"
   },
   {
    "duration": 108,
    "start_time": "2023-06-19T13:53:11.128Z"
   },
   {
    "duration": 949,
    "start_time": "2023-06-19T13:55:47.113Z"
   },
   {
    "duration": 102,
    "start_time": "2023-06-19T13:59:15.673Z"
   },
   {
    "duration": 5,
    "start_time": "2023-06-19T14:13:37.004Z"
   },
   {
    "duration": 3,
    "start_time": "2023-06-19T14:15:37.633Z"
   },
   {
    "duration": 6,
    "start_time": "2023-06-19T14:16:10.024Z"
   },
   {
    "duration": 5,
    "start_time": "2023-06-19T14:16:34.154Z"
   },
   {
    "duration": 4,
    "start_time": "2023-06-19T14:16:50.705Z"
   },
   {
    "duration": 6,
    "start_time": "2023-06-19T14:17:47.504Z"
   },
   {
    "duration": 5,
    "start_time": "2023-06-19T14:35:18.000Z"
   },
   {
    "duration": 5,
    "start_time": "2023-06-19T14:36:53.805Z"
   },
   {
    "duration": 2149,
    "start_time": "2023-06-19T14:40:35.438Z"
   },
   {
    "duration": 1337,
    "start_time": "2023-06-19T14:40:37.590Z"
   },
   {
    "duration": 2,
    "start_time": "2023-06-19T14:40:38.929Z"
   },
   {
    "duration": 1010,
    "start_time": "2023-06-19T14:40:38.934Z"
   },
   {
    "duration": 20,
    "start_time": "2023-06-19T14:40:39.946Z"
   },
   {
    "duration": 121,
    "start_time": "2023-06-19T14:40:39.968Z"
   },
   {
    "duration": 1094,
    "start_time": "2023-06-19T14:40:40.091Z"
   },
   {
    "duration": 5,
    "start_time": "2023-06-19T14:40:41.191Z"
   },
   {
    "duration": 57,
    "start_time": "2023-06-19T14:40:41.197Z"
   },
   {
    "duration": 272,
    "start_time": "2023-06-19T14:40:41.258Z"
   },
   {
    "duration": 27,
    "start_time": "2023-06-19T14:40:41.531Z"
   },
   {
    "duration": 6,
    "start_time": "2023-06-19T14:40:41.560Z"
   },
   {
    "duration": 24,
    "start_time": "2023-06-19T14:40:41.567Z"
   },
   {
    "duration": 66,
    "start_time": "2023-06-19T14:40:41.592Z"
   },
   {
    "duration": 113,
    "start_time": "2023-06-19T14:40:41.660Z"
   },
   {
    "duration": 67,
    "start_time": "2023-06-19T14:40:41.774Z"
   },
   {
    "duration": 54,
    "start_time": "2023-06-19T14:40:41.843Z"
   },
   {
    "duration": 261,
    "start_time": "2023-06-19T14:40:41.899Z"
   },
   {
    "duration": 16,
    "start_time": "2023-06-19T14:40:42.162Z"
   },
   {
    "duration": 63,
    "start_time": "2023-06-19T14:40:42.180Z"
   },
   {
    "duration": 46,
    "start_time": "2023-06-19T14:40:42.245Z"
   },
   {
    "duration": 39,
    "start_time": "2023-06-19T14:40:42.292Z"
   },
   {
    "duration": 59,
    "start_time": "2023-06-19T14:40:42.333Z"
   },
   {
    "duration": 205,
    "start_time": "2023-06-19T14:40:42.394Z"
   },
   {
    "duration": 336,
    "start_time": "2023-06-19T14:40:42.600Z"
   },
   {
    "duration": 22,
    "start_time": "2023-06-19T14:40:42.938Z"
   },
   {
    "duration": 10,
    "start_time": "2023-06-19T14:40:42.962Z"
   },
   {
    "duration": 10,
    "start_time": "2023-06-19T14:40:42.977Z"
   },
   {
    "duration": 38,
    "start_time": "2023-06-19T14:40:42.988Z"
   },
   {
    "duration": 25,
    "start_time": "2023-06-19T14:40:43.027Z"
   },
   {
    "duration": 11,
    "start_time": "2023-06-19T14:40:43.054Z"
   },
   {
    "duration": 33,
    "start_time": "2023-06-19T14:40:43.067Z"
   },
   {
    "duration": 26,
    "start_time": "2023-06-19T14:40:43.102Z"
   },
   {
    "duration": 27,
    "start_time": "2023-06-19T14:40:43.130Z"
   },
   {
    "duration": 483,
    "start_time": "2023-06-19T14:40:43.159Z"
   },
   {
    "duration": 27,
    "start_time": "2023-06-19T14:40:43.643Z"
   },
   {
    "duration": 51445,
    "start_time": "2023-06-19T14:40:43.671Z"
   },
   {
    "duration": 28,
    "start_time": "2023-06-19T14:41:35.118Z"
   },
   {
    "duration": 29,
    "start_time": "2023-06-19T14:41:35.158Z"
   },
   {
    "duration": 51,
    "start_time": "2023-06-19T14:41:35.189Z"
   },
   {
    "duration": 32,
    "start_time": "2023-06-19T14:41:35.241Z"
   },
   {
    "duration": 42,
    "start_time": "2023-06-19T14:41:35.274Z"
   },
   {
    "duration": 7,
    "start_time": "2023-06-19T14:41:35.317Z"
   },
   {
    "duration": 11,
    "start_time": "2023-06-19T14:41:35.325Z"
   },
   {
    "duration": 10,
    "start_time": "2023-06-19T14:41:35.338Z"
   },
   {
    "duration": 151,
    "start_time": "2023-06-19T14:41:35.350Z"
   },
   {
    "duration": 5,
    "start_time": "2023-06-19T14:41:35.503Z"
   },
   {
    "duration": 16,
    "start_time": "2023-06-19T14:41:35.509Z"
   },
   {
    "duration": 35,
    "start_time": "2023-06-19T14:41:35.527Z"
   },
   {
    "duration": 2185,
    "start_time": "2023-06-19T14:41:35.564Z"
   },
   {
    "duration": 9,
    "start_time": "2023-06-19T14:41:37.751Z"
   },
   {
    "duration": 18,
    "start_time": "2023-06-19T14:41:37.762Z"
   },
   {
    "duration": 27,
    "start_time": "2023-06-19T14:41:37.782Z"
   },
   {
    "duration": 10,
    "start_time": "2023-06-19T14:41:37.811Z"
   },
   {
    "duration": 5,
    "start_time": "2023-06-19T14:41:37.823Z"
   },
   {
    "duration": 155,
    "start_time": "2023-06-19T14:41:37.856Z"
   },
   {
    "duration": 25,
    "start_time": "2023-06-19T14:41:38.013Z"
   },
   {
    "duration": 28,
    "start_time": "2023-06-19T14:41:38.040Z"
   },
   {
    "duration": 7,
    "start_time": "2023-06-19T14:41:38.070Z"
   },
   {
    "duration": 42,
    "start_time": "2023-06-19T14:41:38.078Z"
   },
   {
    "duration": 42,
    "start_time": "2023-06-19T14:41:38.122Z"
   },
   {
    "duration": 6,
    "start_time": "2023-06-19T14:41:38.166Z"
   },
   {
    "duration": 37,
    "start_time": "2023-06-19T14:41:38.174Z"
   },
   {
    "duration": 6,
    "start_time": "2023-06-19T14:41:38.213Z"
   },
   {
    "duration": 189,
    "start_time": "2023-06-19T14:41:38.220Z"
   },
   {
    "duration": 108,
    "start_time": "2023-06-19T14:41:38.410Z"
   },
   {
    "duration": 19,
    "start_time": "2023-06-19T14:41:38.520Z"
   },
   {
    "duration": 34,
    "start_time": "2023-06-19T14:41:38.541Z"
   },
   {
    "duration": 43,
    "start_time": "2023-06-19T14:41:38.577Z"
   },
   {
    "duration": 7,
    "start_time": "2023-06-19T14:41:38.622Z"
   },
   {
    "duration": 39,
    "start_time": "2023-06-19T14:41:38.630Z"
   },
   {
    "duration": 17,
    "start_time": "2023-06-19T14:41:38.671Z"
   },
   {
    "duration": 6,
    "start_time": "2023-06-19T14:41:38.689Z"
   },
   {
    "duration": 45,
    "start_time": "2023-06-19T14:41:38.696Z"
   },
   {
    "duration": 918,
    "start_time": "2023-06-19T14:41:38.743Z"
   },
   {
    "duration": 816,
    "start_time": "2023-06-19T14:41:39.662Z"
   },
   {
    "duration": 62,
    "start_time": "2023-06-19T14:41:40.480Z"
   },
   {
    "duration": 15,
    "start_time": "2023-06-19T14:41:40.544Z"
   },
   {
    "duration": 4,
    "start_time": "2023-06-19T14:41:40.561Z"
   },
   {
    "duration": 21,
    "start_time": "2023-06-19T14:41:40.567Z"
   },
   {
    "duration": 8,
    "start_time": "2023-06-19T14:41:40.590Z"
   },
   {
    "duration": 90,
    "start_time": "2023-06-19T14:41:40.605Z"
   },
   {
    "duration": 4,
    "start_time": "2023-06-19T14:41:40.697Z"
   },
   {
    "duration": 21,
    "start_time": "2023-06-19T14:41:40.703Z"
   },
   {
    "duration": 99067,
    "start_time": "2023-06-19T14:41:40.726Z"
   },
   {
    "duration": 5,
    "start_time": "2023-06-19T14:43:19.867Z"
   },
   {
    "duration": 22921,
    "start_time": "2023-06-19T14:43:19.957Z"
   },
   {
    "duration": 3,
    "start_time": "2023-06-19T14:43:42.879Z"
   },
   {
    "duration": 1378,
    "start_time": "2023-06-19T14:43:42.883Z"
   },
   {
    "duration": 2,
    "start_time": "2023-06-19T14:43:44.263Z"
   },
   {
    "duration": 97,
    "start_time": "2023-06-19T14:43:44.267Z"
   },
   {
    "duration": 8,
    "start_time": "2023-06-19T14:43:44.366Z"
   },
   {
    "duration": 8,
    "start_time": "2023-06-19T14:43:44.376Z"
   },
   {
    "duration": 8,
    "start_time": "2023-06-19T14:43:44.386Z"
   },
   {
    "duration": 12,
    "start_time": "2023-06-19T14:43:44.395Z"
   },
   {
    "duration": 246096,
    "start_time": "2023-06-19T14:43:44.409Z"
   },
   {
    "duration": 5,
    "start_time": "2023-06-19T14:47:50.507Z"
   },
   {
    "duration": 5,
    "start_time": "2023-06-19T14:47:50.514Z"
   },
   {
    "duration": 880,
    "start_time": "2023-06-19T14:47:50.520Z"
   },
   {
    "duration": 3,
    "start_time": "2023-06-19T14:47:51.402Z"
   },
   {
    "duration": 336,
    "start_time": "2023-06-19T14:47:51.407Z"
   },
   {
    "duration": 3,
    "start_time": "2023-06-19T14:47:51.745Z"
   },
   {
    "duration": 9,
    "start_time": "2023-06-19T14:47:51.750Z"
   },
   {
    "duration": 14,
    "start_time": "2023-06-19T14:47:51.761Z"
   },
   {
    "duration": 23,
    "start_time": "2023-06-19T14:47:51.777Z"
   },
   {
    "duration": 15,
    "start_time": "2023-06-19T14:47:51.802Z"
   },
   {
    "duration": 53850,
    "start_time": "2023-06-19T14:47:51.819Z"
   },
   {
    "duration": 88,
    "start_time": "2023-06-19T14:48:45.671Z"
   },
   {
    "duration": 101,
    "start_time": "2023-06-19T14:48:45.761Z"
   },
   {
    "duration": 3698,
    "start_time": "2023-06-19T14:48:45.864Z"
   },
   {
    "duration": 5,
    "start_time": "2023-06-19T14:48:49.564Z"
   },
   {
    "duration": 1492,
    "start_time": "2023-06-19T14:48:49.571Z"
   },
   {
    "duration": 3,
    "start_time": "2023-06-19T14:48:51.064Z"
   },
   {
    "duration": 14,
    "start_time": "2023-06-19T14:48:51.157Z"
   },
   {
    "duration": 19,
    "start_time": "2023-06-19T14:48:51.173Z"
   },
   {
    "duration": 7,
    "start_time": "2023-06-19T14:48:51.194Z"
   },
   {
    "duration": 56,
    "start_time": "2023-06-19T14:48:51.203Z"
   },
   {
    "duration": 16104,
    "start_time": "2023-06-19T14:48:51.261Z"
   },
   {
    "duration": 5,
    "start_time": "2023-06-19T14:49:07.366Z"
   },
   {
    "duration": 87,
    "start_time": "2023-06-19T14:49:07.372Z"
   },
   {
    "duration": 4907,
    "start_time": "2023-06-19T14:49:07.461Z"
   },
   {
    "duration": 3,
    "start_time": "2023-06-19T14:49:12.369Z"
   },
   {
    "duration": 2101,
    "start_time": "2023-06-19T14:49:12.373Z"
   },
   {
    "duration": 2,
    "start_time": "2023-06-19T14:49:14.476Z"
   },
   {
    "duration": 16,
    "start_time": "2023-06-19T14:49:14.480Z"
   },
   {
    "duration": 7,
    "start_time": "2023-06-19T14:49:14.498Z"
   },
   {
    "duration": 51,
    "start_time": "2023-06-19T14:49:14.506Z"
   },
   {
    "duration": 5,
    "start_time": "2023-06-19T14:49:14.559Z"
   },
   {
    "duration": 10,
    "start_time": "2023-06-19T14:49:14.565Z"
   },
   {
    "duration": 37166,
    "start_time": "2023-06-19T14:49:14.577Z"
   },
   {
    "duration": 6,
    "start_time": "2023-06-19T14:49:51.745Z"
   },
   {
    "duration": 11,
    "start_time": "2023-06-19T14:49:51.752Z"
   },
   {
    "duration": 9536,
    "start_time": "2023-06-19T14:49:51.766Z"
   },
   {
    "duration": 3,
    "start_time": "2023-06-19T14:50:01.303Z"
   },
   {
    "duration": 615,
    "start_time": "2023-06-19T14:50:01.308Z"
   },
   {
    "duration": 3,
    "start_time": "2023-06-19T14:50:01.924Z"
   },
   {
    "duration": 77,
    "start_time": "2023-06-19T14:50:01.929Z"
   },
   {
    "duration": 44,
    "start_time": "2023-06-19T14:50:02.008Z"
   },
   {
    "duration": 55,
    "start_time": "2023-06-19T14:50:02.054Z"
   },
   {
    "duration": 327,
    "start_time": "2023-06-19T14:50:02.111Z"
   },
   {
    "duration": 4,
    "start_time": "2023-06-19T14:50:02.440Z"
   },
   {
    "duration": 20,
    "start_time": "2023-06-19T14:50:02.457Z"
   },
   {
    "duration": 40,
    "start_time": "2023-06-19T14:50:02.479Z"
   },
   {
    "duration": 22,
    "start_time": "2023-06-19T14:50:02.520Z"
   },
   {
    "duration": 8,
    "start_time": "2023-06-19T14:50:02.544Z"
   },
   {
    "duration": 7040,
    "start_time": "2023-06-19T18:45:14.875Z"
   },
   {
    "duration": 1606,
    "start_time": "2023-06-19T18:45:21.918Z"
   },
   {
    "duration": 3,
    "start_time": "2023-06-19T18:45:23.526Z"
   },
   {
    "duration": 1132,
    "start_time": "2023-06-19T18:45:23.530Z"
   },
   {
    "duration": 23,
    "start_time": "2023-06-19T18:45:24.664Z"
   },
   {
    "duration": 184,
    "start_time": "2023-06-19T18:45:24.689Z"
   },
   {
    "duration": 1026,
    "start_time": "2023-06-19T18:45:24.875Z"
   },
   {
    "duration": 3,
    "start_time": "2023-06-19T18:45:25.903Z"
   },
   {
    "duration": 51,
    "start_time": "2023-06-19T18:45:25.908Z"
   },
   {
    "duration": 251,
    "start_time": "2023-06-19T18:45:25.962Z"
   },
   {
    "duration": 23,
    "start_time": "2023-06-19T18:45:26.215Z"
   },
   {
    "duration": 14,
    "start_time": "2023-06-19T18:45:26.240Z"
   },
   {
    "duration": 34,
    "start_time": "2023-06-19T18:45:26.256Z"
   },
   {
    "duration": 49,
    "start_time": "2023-06-19T18:45:26.292Z"
   },
   {
    "duration": 98,
    "start_time": "2023-06-19T18:45:26.343Z"
   },
   {
    "duration": 89,
    "start_time": "2023-06-19T18:45:26.443Z"
   },
   {
    "duration": 50,
    "start_time": "2023-06-19T18:45:26.533Z"
   },
   {
    "duration": 269,
    "start_time": "2023-06-19T18:45:26.584Z"
   },
   {
    "duration": 15,
    "start_time": "2023-06-19T18:45:26.855Z"
   },
   {
    "duration": 51,
    "start_time": "2023-06-19T18:45:26.872Z"
   },
   {
    "duration": 34,
    "start_time": "2023-06-19T18:45:26.924Z"
   },
   {
    "duration": 39,
    "start_time": "2023-06-19T18:45:26.959Z"
   },
   {
    "duration": 107,
    "start_time": "2023-06-19T18:45:27.000Z"
   },
   {
    "duration": 213,
    "start_time": "2023-06-19T18:45:27.109Z"
   },
   {
    "duration": 396,
    "start_time": "2023-06-19T18:45:27.331Z"
   },
   {
    "duration": 22,
    "start_time": "2023-06-19T18:45:27.729Z"
   },
   {
    "duration": 19,
    "start_time": "2023-06-19T18:45:27.752Z"
   },
   {
    "duration": 10,
    "start_time": "2023-06-19T18:45:27.777Z"
   },
   {
    "duration": 10,
    "start_time": "2023-06-19T18:45:27.788Z"
   },
   {
    "duration": 15,
    "start_time": "2023-06-19T18:45:27.799Z"
   },
   {
    "duration": 9,
    "start_time": "2023-06-19T18:45:27.816Z"
   },
   {
    "duration": 43,
    "start_time": "2023-06-19T18:45:27.827Z"
   },
   {
    "duration": 25,
    "start_time": "2023-06-19T18:45:27.872Z"
   },
   {
    "duration": 5,
    "start_time": "2023-06-19T18:45:27.899Z"
   },
   {
    "duration": 526,
    "start_time": "2023-06-19T18:45:27.906Z"
   },
   {
    "duration": 35,
    "start_time": "2023-06-19T18:45:28.434Z"
   },
   {
    "duration": 52902,
    "start_time": "2023-06-19T18:45:28.472Z"
   },
   {
    "duration": 38,
    "start_time": "2023-06-19T18:46:21.376Z"
   },
   {
    "duration": 38,
    "start_time": "2023-06-19T18:46:21.416Z"
   },
   {
    "duration": 103,
    "start_time": "2023-06-19T18:46:21.456Z"
   },
   {
    "duration": 32,
    "start_time": "2023-06-19T18:46:21.561Z"
   },
   {
    "duration": 47,
    "start_time": "2023-06-19T18:46:21.595Z"
   },
   {
    "duration": 8,
    "start_time": "2023-06-19T18:46:21.643Z"
   },
   {
    "duration": 14,
    "start_time": "2023-06-19T18:46:21.653Z"
   },
   {
    "duration": 5,
    "start_time": "2023-06-19T18:46:21.670Z"
   },
   {
    "duration": 229,
    "start_time": "2023-06-19T18:46:21.677Z"
   },
   {
    "duration": 5,
    "start_time": "2023-06-19T18:46:21.908Z"
   },
   {
    "duration": 19,
    "start_time": "2023-06-19T18:46:21.915Z"
   },
   {
    "duration": 40,
    "start_time": "2023-06-19T18:46:21.936Z"
   },
   {
    "duration": 2275,
    "start_time": "2023-06-19T18:46:21.978Z"
   },
   {
    "duration": 8,
    "start_time": "2023-06-19T18:46:24.255Z"
   },
   {
    "duration": 19,
    "start_time": "2023-06-19T18:46:24.264Z"
   },
   {
    "duration": 29,
    "start_time": "2023-06-19T18:46:24.285Z"
   },
   {
    "duration": 25,
    "start_time": "2023-06-19T18:46:24.316Z"
   },
   {
    "duration": 10,
    "start_time": "2023-06-19T18:46:24.342Z"
   },
   {
    "duration": 166,
    "start_time": "2023-06-19T18:46:24.354Z"
   },
   {
    "duration": 30,
    "start_time": "2023-06-19T18:46:24.522Z"
   },
   {
    "duration": 32,
    "start_time": "2023-06-19T18:46:24.554Z"
   },
   {
    "duration": 16,
    "start_time": "2023-06-19T18:46:24.589Z"
   },
   {
    "duration": 59,
    "start_time": "2023-06-19T18:46:24.607Z"
   },
   {
    "duration": 36,
    "start_time": "2023-06-19T18:46:24.669Z"
   },
   {
    "duration": 27,
    "start_time": "2023-06-19T18:46:24.708Z"
   },
   {
    "duration": 61,
    "start_time": "2023-06-19T18:46:24.737Z"
   },
   {
    "duration": 7,
    "start_time": "2023-06-19T18:46:24.800Z"
   },
   {
    "duration": 168,
    "start_time": "2023-06-19T18:46:24.808Z"
   },
   {
    "duration": 119,
    "start_time": "2023-06-19T18:46:24.978Z"
   },
   {
    "duration": 18,
    "start_time": "2023-06-19T18:46:25.098Z"
   },
   {
    "duration": 41,
    "start_time": "2023-06-19T18:46:25.118Z"
   },
   {
    "duration": 43,
    "start_time": "2023-06-19T18:46:25.160Z"
   },
   {
    "duration": 6,
    "start_time": "2023-06-19T18:46:25.205Z"
   },
   {
    "duration": 50,
    "start_time": "2023-06-19T18:46:25.213Z"
   },
   {
    "duration": 13,
    "start_time": "2023-06-19T18:46:25.265Z"
   },
   {
    "duration": 8,
    "start_time": "2023-06-19T18:46:25.280Z"
   },
   {
    "duration": 8,
    "start_time": "2023-06-19T18:46:25.290Z"
   },
   {
    "duration": 888,
    "start_time": "2023-06-19T18:46:25.300Z"
   },
   {
    "duration": 877,
    "start_time": "2023-06-19T18:46:26.189Z"
   },
   {
    "duration": 78,
    "start_time": "2023-06-19T18:46:27.068Z"
   },
   {
    "duration": 4,
    "start_time": "2023-06-19T18:46:27.147Z"
   },
   {
    "duration": 15,
    "start_time": "2023-06-19T18:46:27.152Z"
   },
   {
    "duration": 23,
    "start_time": "2023-06-19T18:46:27.168Z"
   },
   {
    "duration": 3,
    "start_time": "2023-06-19T18:46:27.193Z"
   },
   {
    "duration": 94,
    "start_time": "2023-06-19T18:46:27.202Z"
   },
   {
    "duration": 3,
    "start_time": "2023-06-19T18:46:27.297Z"
   },
   {
    "duration": 19,
    "start_time": "2023-06-19T18:46:27.302Z"
   },
   {
    "duration": 200321,
    "start_time": "2023-06-19T18:46:27.323Z"
   },
   {
    "duration": 87,
    "start_time": "2023-06-19T18:49:47.646Z"
   },
   {
    "duration": 56198,
    "start_time": "2023-06-19T18:49:47.735Z"
   },
   {
    "duration": 3,
    "start_time": "2023-06-19T18:50:43.936Z"
   },
   {
    "duration": 1496,
    "start_time": "2023-06-19T18:50:43.941Z"
   },
   {
    "duration": 7,
    "start_time": "2023-06-19T18:50:45.439Z"
   },
   {
    "duration": 11,
    "start_time": "2023-06-19T18:50:45.532Z"
   },
   {
    "duration": 10,
    "start_time": "2023-06-19T18:50:45.545Z"
   },
   {
    "duration": 74,
    "start_time": "2023-06-19T18:50:45.558Z"
   },
   {
    "duration": 7,
    "start_time": "2023-06-19T18:50:45.633Z"
   },
   {
    "duration": 5,
    "start_time": "2023-06-19T18:50:45.641Z"
   },
   {
    "duration": 238165,
    "start_time": "2023-06-19T18:50:45.647Z"
   },
   {
    "duration": 4,
    "start_time": "2023-06-19T18:54:43.814Z"
   },
   {
    "duration": 14,
    "start_time": "2023-06-19T18:54:43.819Z"
   },
   {
    "duration": 852,
    "start_time": "2023-06-19T18:54:43.834Z"
   },
   {
    "duration": 4,
    "start_time": "2023-06-19T18:54:44.688Z"
   },
   {
    "duration": 372,
    "start_time": "2023-06-19T18:54:44.694Z"
   },
   {
    "duration": 3,
    "start_time": "2023-06-19T18:54:45.068Z"
   },
   {
    "duration": 75,
    "start_time": "2023-06-19T18:54:45.072Z"
   },
   {
    "duration": 48,
    "start_time": "2023-06-19T18:54:45.148Z"
   },
   {
    "duration": 101,
    "start_time": "2023-06-19T18:54:45.197Z"
   },
   {
    "duration": 32,
    "start_time": "2023-06-19T18:54:45.300Z"
   },
   {
    "duration": 56908,
    "start_time": "2023-06-19T18:54:45.333Z"
   },
   {
    "duration": 98,
    "start_time": "2023-06-19T18:55:42.335Z"
   },
   {
    "duration": 4,
    "start_time": "2023-06-19T18:55:42.435Z"
   },
   {
    "duration": 3791,
    "start_time": "2023-06-19T18:55:42.442Z"
   },
   {
    "duration": 2,
    "start_time": "2023-06-19T18:55:46.235Z"
   },
   {
    "duration": 1493,
    "start_time": "2023-06-19T18:55:46.240Z"
   },
   {
    "duration": 4,
    "start_time": "2023-06-19T18:55:47.735Z"
   },
   {
    "duration": 19,
    "start_time": "2023-06-19T18:55:47.740Z"
   },
   {
    "duration": 19,
    "start_time": "2023-06-19T18:55:47.761Z"
   },
   {
    "duration": 16,
    "start_time": "2023-06-19T18:55:47.782Z"
   },
   {
    "duration": 23,
    "start_time": "2023-06-19T18:55:47.800Z"
   },
   {
    "duration": 763709,
    "start_time": "2023-06-19T18:55:47.824Z"
   },
   {
    "duration": 5,
    "start_time": "2023-06-19T19:08:31.535Z"
   },
   {
    "duration": 47,
    "start_time": "2023-06-19T19:08:31.541Z"
   },
   {
    "duration": 130942,
    "start_time": "2023-06-19T19:08:31.590Z"
   },
   {
    "duration": 3,
    "start_time": "2023-06-19T19:10:42.534Z"
   },
   {
    "duration": 2130,
    "start_time": "2023-06-19T19:10:42.538Z"
   },
   {
    "duration": 5,
    "start_time": "2023-06-19T19:10:44.670Z"
   },
   {
    "duration": 18,
    "start_time": "2023-06-19T19:10:44.677Z"
   },
   {
    "duration": 79,
    "start_time": "2023-06-19T19:10:44.697Z"
   },
   {
    "duration": 42,
    "start_time": "2023-06-19T19:10:44.778Z"
   },
   {
    "duration": 25,
    "start_time": "2023-06-19T19:10:44.822Z"
   },
   {
    "duration": 40,
    "start_time": "2023-06-19T19:10:44.849Z"
   },
   {
    "duration": 30726,
    "start_time": "2023-06-19T19:10:44.892Z"
   },
   {
    "duration": 5,
    "start_time": "2023-06-19T19:11:15.619Z"
   },
   {
    "duration": 11,
    "start_time": "2023-06-19T19:11:15.625Z"
   },
   {
    "duration": 9235,
    "start_time": "2023-06-19T19:11:15.637Z"
   },
   {
    "duration": 3,
    "start_time": "2023-06-19T19:11:24.874Z"
   },
   {
    "duration": 517,
    "start_time": "2023-06-19T19:11:24.879Z"
   },
   {
    "duration": 3,
    "start_time": "2023-06-19T19:11:25.397Z"
   },
   {
    "duration": 22,
    "start_time": "2023-06-19T19:11:25.401Z"
   },
   {
    "duration": 14,
    "start_time": "2023-06-19T19:11:25.424Z"
   },
   {
    "duration": 18,
    "start_time": "2023-06-19T19:11:25.440Z"
   },
   {
    "duration": 236,
    "start_time": "2023-06-19T19:11:25.461Z"
   },
   {
    "duration": 4,
    "start_time": "2023-06-19T19:11:25.699Z"
   },
   {
    "duration": 9,
    "start_time": "2023-06-19T19:11:25.705Z"
   },
   {
    "duration": 17,
    "start_time": "2023-06-19T19:11:25.716Z"
   },
   {
    "duration": 9,
    "start_time": "2023-06-19T19:11:25.734Z"
   },
   {
    "duration": 21,
    "start_time": "2023-06-19T19:11:25.744Z"
   },
   {
    "duration": 4,
    "start_time": "2023-06-19T19:23:30.391Z"
   },
   {
    "duration": 5,
    "start_time": "2023-06-19T19:23:42.455Z"
   },
   {
    "duration": 5,
    "start_time": "2023-06-19T19:25:32.230Z"
   },
   {
    "duration": 4,
    "start_time": "2023-06-19T19:25:41.596Z"
   },
   {
    "duration": 4,
    "start_time": "2023-06-19T19:25:54.552Z"
   },
   {
    "duration": 4,
    "start_time": "2023-06-19T19:26:15.894Z"
   },
   {
    "duration": 2,
    "start_time": "2023-06-19T19:27:03.723Z"
   },
   {
    "duration": 105622,
    "start_time": "2023-06-19T19:27:10.014Z"
   },
   {
    "duration": 2239,
    "start_time": "2023-06-19T19:35:30.344Z"
   },
   {
    "duration": 1245,
    "start_time": "2023-06-19T19:35:32.585Z"
   },
   {
    "duration": 2,
    "start_time": "2023-06-19T19:35:33.832Z"
   },
   {
    "duration": 888,
    "start_time": "2023-06-19T19:35:33.836Z"
   },
   {
    "duration": 23,
    "start_time": "2023-06-19T19:35:34.726Z"
   },
   {
    "duration": 187,
    "start_time": "2023-06-19T19:35:34.751Z"
   },
   {
    "duration": 1009,
    "start_time": "2023-06-19T19:35:34.940Z"
   },
   {
    "duration": 4,
    "start_time": "2023-06-19T19:35:35.950Z"
   },
   {
    "duration": 45,
    "start_time": "2023-06-19T19:35:35.955Z"
   },
   {
    "duration": 294,
    "start_time": "2023-06-19T19:35:36.002Z"
   },
   {
    "duration": 19,
    "start_time": "2023-06-19T19:35:36.297Z"
   },
   {
    "duration": 50,
    "start_time": "2023-06-19T19:35:36.317Z"
   },
   {
    "duration": 34,
    "start_time": "2023-06-19T19:35:36.368Z"
   },
   {
    "duration": 49,
    "start_time": "2023-06-19T19:35:36.403Z"
   },
   {
    "duration": 98,
    "start_time": "2023-06-19T19:35:36.453Z"
   },
   {
    "duration": 87,
    "start_time": "2023-06-19T19:35:36.553Z"
   },
   {
    "duration": 55,
    "start_time": "2023-06-19T19:35:36.642Z"
   },
   {
    "duration": 288,
    "start_time": "2023-06-19T19:35:36.698Z"
   },
   {
    "duration": 16,
    "start_time": "2023-06-19T19:35:36.988Z"
   },
   {
    "duration": 53,
    "start_time": "2023-06-19T19:35:37.005Z"
   },
   {
    "duration": 49,
    "start_time": "2023-06-19T19:35:37.060Z"
   },
   {
    "duration": 28,
    "start_time": "2023-06-19T19:35:37.110Z"
   },
   {
    "duration": 82,
    "start_time": "2023-06-19T19:35:37.141Z"
   },
   {
    "duration": 184,
    "start_time": "2023-06-19T19:35:37.232Z"
   },
   {
    "duration": 416,
    "start_time": "2023-06-19T19:35:37.417Z"
   },
   {
    "duration": 28,
    "start_time": "2023-06-19T19:35:37.835Z"
   },
   {
    "duration": 4,
    "start_time": "2023-06-19T19:35:37.865Z"
   },
   {
    "duration": 6,
    "start_time": "2023-06-19T19:35:37.873Z"
   },
   {
    "duration": 4,
    "start_time": "2023-06-19T19:35:37.881Z"
   },
   {
    "duration": 5,
    "start_time": "2023-06-19T19:35:37.887Z"
   },
   {
    "duration": 8,
    "start_time": "2023-06-19T19:35:37.893Z"
   },
   {
    "duration": 40,
    "start_time": "2023-06-19T19:35:37.903Z"
   },
   {
    "duration": 23,
    "start_time": "2023-06-19T19:35:37.945Z"
   },
   {
    "duration": 20,
    "start_time": "2023-06-19T19:35:37.970Z"
   },
   {
    "duration": 482,
    "start_time": "2023-06-19T19:35:37.992Z"
   },
   {
    "duration": 28,
    "start_time": "2023-06-19T19:35:38.475Z"
   },
   {
    "duration": 55022,
    "start_time": "2023-06-19T19:35:38.505Z"
   },
   {
    "duration": 34,
    "start_time": "2023-06-19T19:36:33.532Z"
   },
   {
    "duration": 67,
    "start_time": "2023-06-19T19:36:33.567Z"
   },
   {
    "duration": 151,
    "start_time": "2023-06-19T19:36:33.636Z"
   },
   {
    "duration": 106,
    "start_time": "2023-06-19T19:36:33.788Z"
   },
   {
    "duration": 54,
    "start_time": "2023-06-19T19:36:33.896Z"
   },
   {
    "duration": 20,
    "start_time": "2023-06-19T19:36:33.951Z"
   },
   {
    "duration": 41,
    "start_time": "2023-06-19T19:36:33.973Z"
   },
   {
    "duration": 40,
    "start_time": "2023-06-19T19:36:34.015Z"
   },
   {
    "duration": 176,
    "start_time": "2023-06-19T19:36:34.057Z"
   },
   {
    "duration": 6,
    "start_time": "2023-06-19T19:36:34.236Z"
   },
   {
    "duration": 31,
    "start_time": "2023-06-19T19:36:34.243Z"
   },
   {
    "duration": 23,
    "start_time": "2023-06-19T19:36:34.276Z"
   },
   {
    "duration": 2313,
    "start_time": "2023-06-19T19:36:34.300Z"
   },
   {
    "duration": 16,
    "start_time": "2023-06-19T19:36:36.615Z"
   },
   {
    "duration": 34,
    "start_time": "2023-06-19T19:36:36.633Z"
   },
   {
    "duration": 32,
    "start_time": "2023-06-19T19:36:36.668Z"
   },
   {
    "duration": 9,
    "start_time": "2023-06-19T19:36:36.702Z"
   },
   {
    "duration": 5,
    "start_time": "2023-06-19T19:36:36.712Z"
   },
   {
    "duration": 154,
    "start_time": "2023-06-19T19:36:36.718Z"
   },
   {
    "duration": 23,
    "start_time": "2023-06-19T19:36:36.874Z"
   },
   {
    "duration": 13,
    "start_time": "2023-06-19T19:36:36.899Z"
   },
   {
    "duration": 22,
    "start_time": "2023-06-19T19:36:36.913Z"
   },
   {
    "duration": 81,
    "start_time": "2023-06-19T19:36:36.937Z"
   },
   {
    "duration": 68,
    "start_time": "2023-06-19T19:36:37.020Z"
   },
   {
    "duration": 28,
    "start_time": "2023-06-19T19:36:37.089Z"
   },
   {
    "duration": 76,
    "start_time": "2023-06-19T19:36:37.119Z"
   },
   {
    "duration": 8,
    "start_time": "2023-06-19T19:36:37.197Z"
   },
   {
    "duration": 234,
    "start_time": "2023-06-19T19:36:37.206Z"
   },
   {
    "duration": 120,
    "start_time": "2023-06-19T19:36:37.442Z"
   },
   {
    "duration": 18,
    "start_time": "2023-06-19T19:36:37.564Z"
   },
   {
    "duration": 45,
    "start_time": "2023-06-19T19:36:37.583Z"
   },
   {
    "duration": 51,
    "start_time": "2023-06-19T19:36:37.630Z"
   },
   {
    "duration": 9,
    "start_time": "2023-06-19T19:36:37.683Z"
   },
   {
    "duration": 36,
    "start_time": "2023-06-19T19:36:37.694Z"
   },
   {
    "duration": 13,
    "start_time": "2023-06-19T19:36:37.735Z"
   },
   {
    "duration": 19,
    "start_time": "2023-06-19T19:36:37.750Z"
   },
   {
    "duration": 18,
    "start_time": "2023-06-19T19:36:37.771Z"
   },
   {
    "duration": 903,
    "start_time": "2023-06-19T19:36:37.791Z"
   },
   {
    "duration": 866,
    "start_time": "2023-06-19T19:36:38.695Z"
   },
   {
    "duration": 81,
    "start_time": "2023-06-19T19:36:39.563Z"
   },
   {
    "duration": 9,
    "start_time": "2023-06-19T19:36:39.646Z"
   },
   {
    "duration": 25,
    "start_time": "2023-06-19T19:36:39.656Z"
   },
   {
    "duration": 26,
    "start_time": "2023-06-19T19:36:39.683Z"
   },
   {
    "duration": 11,
    "start_time": "2023-06-19T19:36:39.710Z"
   },
   {
    "duration": 81,
    "start_time": "2023-06-19T19:36:39.727Z"
   },
   {
    "duration": 3,
    "start_time": "2023-06-19T19:36:39.810Z"
   },
   {
    "duration": 48,
    "start_time": "2023-06-19T19:36:39.814Z"
   },
   {
    "duration": 100185,
    "start_time": "2023-06-19T19:36:39.864Z"
   },
   {
    "duration": 9,
    "start_time": "2023-06-19T19:38:20.133Z"
   },
   {
    "duration": 27932,
    "start_time": "2023-06-19T19:38:20.145Z"
   },
   {
    "duration": 2,
    "start_time": "2023-06-19T19:38:48.079Z"
   },
   {
    "duration": 1471,
    "start_time": "2023-06-19T19:38:48.083Z"
   },
   {
    "duration": 5,
    "start_time": "2023-06-19T19:38:49.637Z"
   },
   {
    "duration": 44,
    "start_time": "2023-06-19T19:38:49.649Z"
   },
   {
    "duration": 16,
    "start_time": "2023-06-19T19:38:49.695Z"
   },
   {
    "duration": 54,
    "start_time": "2023-06-19T19:38:49.712Z"
   },
   {
    "duration": 17,
    "start_time": "2023-06-19T19:38:49.768Z"
   },
   {
    "duration": 18,
    "start_time": "2023-06-19T19:38:49.787Z"
   },
   {
    "duration": 283040,
    "start_time": "2023-06-19T19:38:49.806Z"
   },
   {
    "duration": 6,
    "start_time": "2023-06-19T19:43:32.849Z"
   },
   {
    "duration": 37,
    "start_time": "2023-06-19T19:43:32.857Z"
   },
   {
    "duration": 1107,
    "start_time": "2023-06-19T19:43:32.895Z"
   },
   {
    "duration": 3,
    "start_time": "2023-06-19T19:43:34.003Z"
   },
   {
    "duration": 607,
    "start_time": "2023-06-19T19:43:34.008Z"
   },
   {
    "duration": 4,
    "start_time": "2023-06-19T19:43:34.617Z"
   },
   {
    "duration": 68,
    "start_time": "2023-06-19T19:43:34.632Z"
   },
   {
    "duration": 29,
    "start_time": "2023-06-19T19:43:34.702Z"
   },
   {
    "duration": 59,
    "start_time": "2023-06-19T19:43:34.733Z"
   },
   {
    "duration": 16,
    "start_time": "2023-06-19T19:43:34.794Z"
   },
   {
    "duration": 70261,
    "start_time": "2023-06-19T19:43:34.812Z"
   },
   {
    "duration": 64,
    "start_time": "2023-06-19T19:44:45.079Z"
   },
   {
    "duration": 57,
    "start_time": "2023-06-19T19:44:45.160Z"
   },
   {
    "duration": 4613,
    "start_time": "2023-06-19T19:44:45.220Z"
   },
   {
    "duration": 9,
    "start_time": "2023-06-19T19:44:49.839Z"
   },
   {
    "duration": 1497,
    "start_time": "2023-06-19T19:44:49.857Z"
   },
   {
    "duration": 3,
    "start_time": "2023-06-19T19:44:51.433Z"
   },
   {
    "duration": 48,
    "start_time": "2023-06-19T19:44:51.438Z"
   },
   {
    "duration": 80,
    "start_time": "2023-06-19T19:44:51.488Z"
   },
   {
    "duration": 18,
    "start_time": "2023-06-19T19:44:51.570Z"
   },
   {
    "duration": 5,
    "start_time": "2023-06-19T19:44:51.590Z"
   },
   {
    "duration": 1569641,
    "start_time": "2023-06-19T19:44:51.596Z"
   },
   {
    "duration": 5,
    "start_time": "2023-06-19T20:11:01.239Z"
   },
   {
    "duration": 72,
    "start_time": "2023-06-19T20:11:01.247Z"
   },
   {
    "duration": 287735,
    "start_time": "2023-06-19T20:11:01.322Z"
   },
   {
    "duration": 3,
    "start_time": "2023-06-19T20:15:49.059Z"
   },
   {
    "duration": 2678,
    "start_time": "2023-06-19T20:15:49.063Z"
   },
   {
    "duration": 3,
    "start_time": "2023-06-19T20:15:51.743Z"
   },
   {
    "duration": 37,
    "start_time": "2023-06-19T20:15:51.747Z"
   },
   {
    "duration": 12,
    "start_time": "2023-06-19T20:15:51.785Z"
   },
   {
    "duration": 12,
    "start_time": "2023-06-19T20:15:51.798Z"
   },
   {
    "duration": 16,
    "start_time": "2023-06-19T20:15:51.812Z"
   },
   {
    "duration": 25,
    "start_time": "2023-06-19T20:15:51.830Z"
   },
   {
    "duration": 37605,
    "start_time": "2023-06-19T20:15:51.857Z"
   },
   {
    "duration": 5,
    "start_time": "2023-06-19T20:16:29.464Z"
   },
   {
    "duration": 36,
    "start_time": "2023-06-19T20:16:29.470Z"
   },
   {
    "duration": 10043,
    "start_time": "2023-06-19T20:16:29.508Z"
   },
   {
    "duration": 3,
    "start_time": "2023-06-19T20:16:39.552Z"
   },
   {
    "duration": 580,
    "start_time": "2023-06-19T20:16:39.556Z"
   },
   {
    "duration": 5,
    "start_time": "2023-06-19T20:16:40.138Z"
   },
   {
    "duration": 14,
    "start_time": "2023-06-19T20:16:40.145Z"
   },
   {
    "duration": 4,
    "start_time": "2023-06-19T20:16:40.161Z"
   },
   {
    "duration": 18,
    "start_time": "2023-06-19T20:16:40.167Z"
   },
   {
    "duration": 275,
    "start_time": "2023-06-19T20:16:40.186Z"
   },
   {
    "duration": 4,
    "start_time": "2023-06-19T20:16:40.462Z"
   },
   {
    "duration": 17,
    "start_time": "2023-06-19T20:16:40.468Z"
   },
   {
    "duration": 24,
    "start_time": "2023-06-19T20:16:40.487Z"
   },
   {
    "duration": 12,
    "start_time": "2023-06-19T20:16:40.532Z"
   },
   {
    "duration": 17,
    "start_time": "2023-06-19T20:16:40.546Z"
   }
  ],
  "kernelspec": {
   "display_name": "Python 3 (ipykernel)",
   "language": "python",
   "name": "python3"
  },
  "language_info": {
   "codemirror_mode": {
    "name": "ipython",
    "version": 3
   },
   "file_extension": ".py",
   "mimetype": "text/x-python",
   "name": "python",
   "nbconvert_exporter": "python",
   "pygments_lexer": "ipython3",
   "version": "3.9.13"
  },
  "toc": {
   "base_numbering": 1,
   "nav_menu": {},
   "number_sections": true,
   "sideBar": true,
   "skip_h1_title": true,
   "title_cell": "Table of Contents",
   "title_sidebar": "Contents",
   "toc_cell": false,
   "toc_position": {},
   "toc_section_display": true,
   "toc_window_display": false
  }
 },
 "nbformat": 4,
 "nbformat_minor": 2
}
