{
 "cells": [
  {
   "cell_type": "markdown",
   "metadata": {
    "toc": true
   },
   "source": [
    "<h1>Содержание<span class=\"tocSkip\"></span></h1>\n",
    "<div class=\"toc\"><ul class=\"toc-item\"><li><span><a href=\"#Подготовка\" data-toc-modified-id=\"Подготовка-1\"><span class=\"toc-item-num\">1&nbsp;&nbsp;</span>Подготовка</a></span></li><li><span><a href=\"#Анализ\" data-toc-modified-id=\"Анализ-2\"><span class=\"toc-item-num\">2&nbsp;&nbsp;</span>Анализ</a></span></li><li><span><a href=\"#Обучение\" data-toc-modified-id=\"Обучение-3\"><span class=\"toc-item-num\">3&nbsp;&nbsp;</span>Обучение</a></span><ul class=\"toc-item\"><li><span><a href=\"#Модель-линейной-регрессии.\" data-toc-modified-id=\"Модель-линейной-регрессии.-3.1\"><span class=\"toc-item-num\">3.1&nbsp;&nbsp;</span>Модель линейной регрессии.</a></span></li><li><span><a href=\"#Модель-Ridge.\" data-toc-modified-id=\"Модель-Ridge.-3.2\"><span class=\"toc-item-num\">3.2&nbsp;&nbsp;</span>Модель Ridge.</a></span></li><li><span><a href=\"#Модель-решающего-дерева.\" data-toc-modified-id=\"Модель-решающего-дерева.-3.3\"><span class=\"toc-item-num\">3.3&nbsp;&nbsp;</span>Модель решающего дерева.</a></span></li><li><span><a href=\"#Модель-Catboost.\" data-toc-modified-id=\"Модель-Catboost.-3.4\"><span class=\"toc-item-num\">3.4&nbsp;&nbsp;</span>Модель Catboost.</a></span></li></ul></li><li><span><a href=\"#Тестирование\" data-toc-modified-id=\"Тестирование-4\"><span class=\"toc-item-num\">4&nbsp;&nbsp;</span>Тестирование</a></span></li></ul></div>"
   ]
  },
  {
   "cell_type": "markdown",
   "metadata": {},
   "source": [
    "#  Прогнозирование заказов такси"
   ]
  },
  {
   "cell_type": "markdown",
   "metadata": {},
   "source": [
    "Компания «Чётенькое такси» собрала исторические данные о заказах такси в аэропортах. Чтобы привлекать больше водителей в период пиковой нагрузки, нужно спрогнозировать количество заказов такси на следующий час. Постройте модель для такого предсказания.\n",
    "\n",
    "Значение метрики *RMSE* на тестовой выборке должно быть не больше 48.\n",
    "\n",
    "Вам нужно:\n",
    "\n",
    "1. Загрузить данные и выполнить их ресемплирование по одному часу.\n",
    "2. Проанализировать данные.\n",
    "3. Обучить разные модели с различными гиперпараметрами. Сделать тестовую выборку размером 10% от исходных данных.\n",
    "4. Проверить данные на тестовой выборке и сделать выводы.\n",
    "\n",
    "\n",
    "Данные лежат в файле `taxi.csv`. Количество заказов находится в столбце `num_orders` (от англ. *number of orders*, «число заказов»)."
   ]
  },
  {
   "cell_type": "markdown",
   "metadata": {},
   "source": [
    "## Подготовка"
   ]
  },
  {
   "cell_type": "code",
   "execution_count": 1,
   "metadata": {},
   "outputs": [],
   "source": [
    "# Загрузка необходимых библиотек\n",
    "\n",
    "import pandas as pd\n",
    "import numpy as np\n",
    "import matplotlib.pyplot as plt\n",
    "\n",
    "from statsmodels.tsa.seasonal import seasonal_decompose\n",
    "from statsmodels.graphics import tsaplots\n",
    "\n",
    "from sklearn.model_selection import train_test_split, cross_val_score, TimeSeriesSplit,\\\n",
    "RandomizedSearchCV \n",
    "from sklearn.metrics import mean_squared_error\n",
    "from sklearn.linear_model import LinearRegression, Ridge \n",
    "from sklearn.tree import DecisionTreeRegressor\n",
    "from sklearn.dummy import DummyRegressor\n",
    "\n",
    "from catboost import Pool, CatBoostRegressor, cv\n",
    "import warnings\n",
    "warnings.filterwarnings(\"ignore\")"
   ]
  },
  {
   "cell_type": "code",
   "execution_count": 2,
   "metadata": {},
   "outputs": [],
   "source": [
    "# Зададим значения для генерации случайных величин\n",
    "\n",
    "RANDOM_STATE = 12345"
   ]
  },
  {
   "cell_type": "code",
   "execution_count": 3,
   "metadata": {},
   "outputs": [],
   "source": [
    "# Загрузим данные из файло\n",
    "try:\n",
    "    df = pd.read_csv('/datasets/taxi.csv')\n",
    "except:\n",
    "    df = pd.read_csv('https://code.s3.yandex.net/datasets/taxi.csv')"
   ]
  },
  {
   "cell_type": "code",
   "execution_count": 4,
   "metadata": {},
   "outputs": [
    {
     "name": "stdout",
     "output_type": "stream",
     "text": [
      "<class 'pandas.core.frame.DataFrame'>\n",
      "RangeIndex: 26496 entries, 0 to 26495\n",
      "Data columns (total 2 columns):\n",
      " #   Column      Non-Null Count  Dtype \n",
      "---  ------      --------------  ----- \n",
      " 0   datetime    26496 non-null  object\n",
      " 1   num_orders  26496 non-null  int64 \n",
      "dtypes: int64(1), object(1)\n",
      "memory usage: 414.1+ KB\n"
     ]
    }
   ],
   "source": [
    "# Выведем общую информацию о дата-сете\n",
    "\n",
    "df.info()"
   ]
  },
  {
   "cell_type": "code",
   "execution_count": 5,
   "metadata": {},
   "outputs": [
    {
     "data": {
      "text/plain": [
       "datetime      0\n",
       "num_orders    0\n",
       "dtype: int64"
      ]
     },
     "execution_count": 5,
     "metadata": {},
     "output_type": "execute_result"
    }
   ],
   "source": [
    "# Посчитаем кол-во пропусков\n",
    "\n",
    "df.isna().sum()"
   ]
  },
  {
   "cell_type": "code",
   "execution_count": 6,
   "metadata": {},
   "outputs": [
    {
     "data": {
      "text/plain": [
       "0"
      ]
     },
     "execution_count": 6,
     "metadata": {},
     "output_type": "execute_result"
    }
   ],
   "source": [
    "# Посчитаем кол-во явных дубликатов\n",
    "\n",
    "df.duplicated().sum()"
   ]
  },
  {
   "cell_type": "markdown",
   "metadata": {},
   "source": [
    "Пропусков нет, явных дубликатов нет. Произведем предобработку данных. "
   ]
  },
  {
   "cell_type": "code",
   "execution_count": 7,
   "metadata": {},
   "outputs": [],
   "source": [
    "# Переведем значения стольбца 'datetime' в формат datetime\n",
    "# Используем значения столбца 'datetime'  в качестве индексов дата-сета\n",
    "\n",
    "df['datetime'] = pd.to_datetime(df['datetime'])\n",
    "df = df.set_index('datetime',drop=True)"
   ]
  },
  {
   "cell_type": "code",
   "execution_count": 8,
   "metadata": {},
   "outputs": [
    {
     "name": "stdout",
     "output_type": "stream",
     "text": [
      "True\n"
     ]
    }
   ],
   "source": [
    "# Отсортируем значения дата-сета в соответствии со значениями индекса, проверим индекс на \n",
    "# расположение в хронологическом порядке.\n",
    "\n",
    "df.sort_index(inplace=True)\n",
    "print(df.index.is_monotonic)"
   ]
  },
  {
   "cell_type": "code",
   "execution_count": 9,
   "metadata": {},
   "outputs": [],
   "source": [
    "# Изменим размер временного интервала на 1 час, агрегируем данные внутри часового интервала\n",
    "# суммированием.\n",
    "\n",
    "df = df.resample('1H').sum()"
   ]
  },
  {
   "cell_type": "code",
   "execution_count": 10,
   "metadata": {},
   "outputs": [
    {
     "data": {
      "image/png": "[encoded data removed]",
      "text/plain": [
       "<Figure size 1000x500 with 1 Axes>"
      ]
     },
     "metadata": {},
     "output_type": "display_data"
    }
   ],
   "source": [
    "# Проверим распределение данных.\n",
    "\n",
    "size = (10, 5)\n",
    "df.hist(figsize=size)\n",
    "plt.xlabel('Кол-во заказов')\n",
    "plt.ylabel('Частота')\n",
    "plt.show()"
   ]
  },
  {
   "cell_type": "code",
   "execution_count": 11,
   "metadata": {},
   "outputs": [
    {
     "data": {
      "text/html": [
       "<div>\n",
       "<style scoped>\n",
       "    .dataframe tbody tr th:only-of-type {\n",
       "        vertical-align: middle;\n",
       "    }\n",
       "\n",
       "    .dataframe tbody tr th {\n",
       "        vertical-align: top;\n",
       "    }\n",
       "\n",
       "    .dataframe thead th {\n",
       "        text-align: right;\n",
       "    }\n",
       "</style>\n",
       "<table border=\"1\" class=\"dataframe\">\n",
       "  <thead>\n",
       "    <tr style=\"text-align: right;\">\n",
       "      <th></th>\n",
       "      <th>num_orders</th>\n",
       "    </tr>\n",
       "    <tr>\n",
       "      <th>datetime</th>\n",
       "      <th></th>\n",
       "    </tr>\n",
       "  </thead>\n",
       "  <tbody>\n",
       "    <tr>\n",
       "      <th>2018-03-01 00:00:00</th>\n",
       "      <td>124</td>\n",
       "    </tr>\n",
       "    <tr>\n",
       "      <th>2018-03-01 01:00:00</th>\n",
       "      <td>85</td>\n",
       "    </tr>\n",
       "    <tr>\n",
       "      <th>2018-03-01 02:00:00</th>\n",
       "      <td>71</td>\n",
       "    </tr>\n",
       "    <tr>\n",
       "      <th>2018-03-01 03:00:00</th>\n",
       "      <td>66</td>\n",
       "    </tr>\n",
       "    <tr>\n",
       "      <th>2018-03-01 04:00:00</th>\n",
       "      <td>43</td>\n",
       "    </tr>\n",
       "    <tr>\n",
       "      <th>...</th>\n",
       "      <td>...</td>\n",
       "    </tr>\n",
       "    <tr>\n",
       "      <th>2018-08-31 19:00:00</th>\n",
       "      <td>136</td>\n",
       "    </tr>\n",
       "    <tr>\n",
       "      <th>2018-08-31 20:00:00</th>\n",
       "      <td>154</td>\n",
       "    </tr>\n",
       "    <tr>\n",
       "      <th>2018-08-31 21:00:00</th>\n",
       "      <td>159</td>\n",
       "    </tr>\n",
       "    <tr>\n",
       "      <th>2018-08-31 22:00:00</th>\n",
       "      <td>223</td>\n",
       "    </tr>\n",
       "    <tr>\n",
       "      <th>2018-08-31 23:00:00</th>\n",
       "      <td>205</td>\n",
       "    </tr>\n",
       "  </tbody>\n",
       "</table>\n",
       "<p>4416 rows × 1 columns</p>\n",
       "</div>"
      ],
      "text/plain": [
       "                     num_orders\n",
       "datetime                       \n",
       "2018-03-01 00:00:00         124\n",
       "2018-03-01 01:00:00          85\n",
       "2018-03-01 02:00:00          71\n",
       "2018-03-01 03:00:00          66\n",
       "2018-03-01 04:00:00          43\n",
       "...                         ...\n",
       "2018-08-31 19:00:00         136\n",
       "2018-08-31 20:00:00         154\n",
       "2018-08-31 21:00:00         159\n",
       "2018-08-31 22:00:00         223\n",
       "2018-08-31 23:00:00         205\n",
       "\n",
       "[4416 rows x 1 columns]"
      ]
     },
     "execution_count": 11,
     "metadata": {},
     "output_type": "execute_result"
    }
   ],
   "source": [
    "# Выведем первые и последние строки дата-сета.\n",
    "\n",
    "df"
   ]
  },
  {
   "cell_type": "markdown",
   "metadata": {},
   "source": [
    "У нас есть данные по кол-ву заказов за 6 месяцев (с 1 марта по 31 автуста 2018 г.) с интервалом 1 час."
   ]
  },
  {
   "cell_type": "code",
   "execution_count": 12,
   "metadata": {},
   "outputs": [
    {
     "data": {
      "image/png": "[encoded data removed]",
      "text/plain": [
       "<Figure size 1000x500 with 1 Axes>"
      ]
     },
     "metadata": {},
     "output_type": "display_data"
    }
   ],
   "source": [
    "# Выведем график зависимости кол-ва заказов от даты и часа.\n",
    "\n",
    "df.plot(figsize=size)\n",
    "plt.xlabel('Месяц')\n",
    "plt.ylabel('Кол-во заказов')\n",
    "plt.show()"
   ]
  },
  {
   "cell_type": "markdown",
   "metadata": {},
   "source": [
    "## Анализ"
   ]
  },
  {
   "cell_type": "code",
   "execution_count": 13,
   "metadata": {},
   "outputs": [],
   "source": [
    "# Выполним декомпозицию данных.\n",
    "\n",
    "decomposed = seasonal_decompose(df) "
   ]
  },
  {
   "cell_type": "code",
   "execution_count": 14,
   "metadata": {
    "scrolled": true
   },
   "outputs": [
    {
     "data": {
      "image/png": "[encoded data removed]",
      "text/plain": [
       "<Figure size 1000x500 with 3 Axes>"
      ]
     },
     "metadata": {},
     "output_type": "display_data"
    }
   ],
   "source": [
    "# Построим графики основного тренда, 'сезонности' и остатка.\n",
    "\n",
    "plt.figure(figsize=size)\n",
    "plt.subplot(311)\n",
    "# Чтобы график корректно отобразился, указываем его\n",
    "# оси ax, равными plt.gca() (англ. get current axis,\n",
    "# получить текущие оси)\n",
    "decomposed.trend.plot(ax=plt.gca())\n",
    "plt.title('Trend')\n",
    "plt.subplot(312)\n",
    "\n",
    "decomposed.seasonal.plot(ax=plt.gca()) \n",
    "plt.title('Seasonality')\n",
    "plt.subplot(313)\n",
    "\n",
    "decomposed.resid.plot(ax=plt.gca()) \n",
    "plt.title('Residuals')\n",
    "plt.tight_layout()\n"
   ]
  },
  {
   "cell_type": "markdown",
   "metadata": {},
   "source": [
    "Имеется явный тренд на увеличение числа заказов с марта по август."
   ]
  },
  {
   "cell_type": "code",
   "execution_count": 15,
   "metadata": {},
   "outputs": [
    {
     "data": {
      "text/plain": [
       "<AxesSubplot:xlabel='datetime'>"
      ]
     },
     "execution_count": 15,
     "metadata": {},
     "output_type": "execute_result"
    },
    {
     "data": {
      "image/png": "[encoded data removed]",
      "text/plain": [
       "<Figure size 1000x500 with 1 Axes>"
      ]
     },
     "metadata": {},
     "output_type": "display_data"
    }
   ],
   "source": [
    "# Выведем график 'сезонности' на интервале в 3 дня, чтобы увидеть характерно повторяющиеся\n",
    "# закономерности.\n",
    "\n",
    "decomposed.seasonal['2018-03-01':'2018-03-03'].plot(ax=plt.gca(), figsize=size, grid=True)"
   ]
  },
  {
   "cell_type": "markdown",
   "metadata": {},
   "source": [
    "В течении суток кол-во заказов имеет следующую тенденцию: минимум в 6 утра, растет и достигает своего пика примерно к 10-11 часам, следующий  пик больше предыдущего к 16-17 часам, самый большой пик в 24:00 и далее резкое снижение."
   ]
  },
  {
   "cell_type": "code",
   "execution_count": 16,
   "metadata": {},
   "outputs": [],
   "source": [
    "# Создадим копию нашего сета, чтобы не изменять исходный\n",
    "\n",
    "df_day = df.copy(deep=True)"
   ]
  },
  {
   "cell_type": "code",
   "execution_count": 17,
   "metadata": {},
   "outputs": [],
   "source": [
    "# Изменим размер временного интервала в копии на 1 день, агрегируем данные внутри часового интервала\n",
    "# суммированием.\n",
    "\n",
    "df_day = df_day.resample('1D').sum()"
   ]
  },
  {
   "cell_type": "code",
   "execution_count": 18,
   "metadata": {},
   "outputs": [],
   "source": [
    "# Добавим столбец день недели\n",
    "\n",
    "df_day['dayofweek'] = df_day.index.dayofweek"
   ]
  },
  {
   "cell_type": "code",
   "execution_count": 19,
   "metadata": {},
   "outputs": [
    {
     "data": {
      "image/png": "[encoded data removed]",
      "text/plain": [
       "<Figure size 1000x500 with 1 Axes>"
      ]
     },
     "metadata": {},
     "output_type": "display_data"
    }
   ],
   "source": [
    "# Сгруппируем данные по дням недели в выведем график зависимости общего кол-ва заказов от дня недели.\n",
    "\n",
    "df_day.groupby('dayofweek').sum().plot(kind='bar', figsize=size, legend=False)\n",
    "plt.xlabel('День недели')\n",
    "plt.ylabel('Кол-во заказов')\n",
    "plt.show()\n"
   ]
  },
  {
   "cell_type": "code",
   "execution_count": 20,
   "metadata": {},
   "outputs": [],
   "source": [
    "# Выполним декомпозицию данных в наше копии.\n",
    "\n",
    "decomposed_day = seasonal_decompose(df_day['num_orders']) "
   ]
  },
  {
   "cell_type": "code",
   "execution_count": 21,
   "metadata": {
    "scrolled": true
   },
   "outputs": [
    {
     "data": {
      "text/plain": [
       "<AxesSubplot:xlabel='datetime'>"
      ]
     },
     "execution_count": 21,
     "metadata": {},
     "output_type": "execute_result"
    },
    {
     "data": {
      "image/png": "[encoded data removed]",
      "text/plain": [
       "<Figure size 1000x500 with 1 Axes>"
      ]
     },
     "metadata": {},
     "output_type": "display_data"
    }
   ],
   "source": [
    "# Выведем график 'сезонности' на интервале в 3 недели, чтобы увидеть характерно повторяющиеся\n",
    "# закономерности.\n",
    "\n",
    "decomposed_day.seasonal['2018-03-01':'2018-03-21'].plot(ax=plt.gca(), figsize=size, grid=True)"
   ]
  },
  {
   "cell_type": "markdown",
   "metadata": {},
   "source": [
    "В рамках недели также есть четкая зависимость кол-ва заказов от дня недели. Больше всего заказов в пятницу и понедельник, меньше всего в восресение и вторник."
   ]
  },
  {
   "cell_type": "markdown",
   "metadata": {},
   "source": [
    "## Обучение"
   ]
  },
  {
   "cell_type": "code",
   "execution_count": 22,
   "metadata": {},
   "outputs": [
    {
     "data": {
      "image/png": "[encoded data removed]",
      "text/plain": [
       "<Figure size 1000x500 with 1 Axes>"
      ]
     },
     "metadata": {},
     "output_type": "display_data"
    }
   ],
   "source": [
    "# Посмотрим на автокорреляцию.\n",
    "\n",
    "ts = df['num_orders']\n",
    "\n",
    "fig = tsaplots.plot_acf(ts,lags= 190)\n",
    "fig.set_size_inches(size)\n",
    "plt.ylim(-.1, 1.1)\n",
    "plt.grid(True)\n",
    "plt.show() "
   ]
  },
  {
   "cell_type": "markdown",
   "metadata": {},
   "source": [
    "Мы провели анализ и выявили дневную и недельную сезонности. Соответственно, из лагов нам пригодится лаги предыдущего часа , предыдущего часа предыдущего дня (взяли 48 лагов, каждый со сдвигом на час по отношению к предыдущему) и один лаг недельной давности. \n",
    "Скользящее среднее при небольшом окне показывет кратковременные изменения (например, увеличение спроса на такси из-за изменений погоды). Возьмем размер окна равным 10."
   ]
  },
  {
   "cell_type": "code",
   "execution_count": 23,
   "metadata": {},
   "outputs": [],
   "source": [
    "# Функция для создания признаков и параметры скользящего среднего.\n",
    "\n",
    "def make_features_1(data):\n",
    "    data_m = data.copy(deep=True)\n",
    "    data_m['day'] = data.index.day\n",
    "    data_m['dayofweek'] = data.index.dayofweek\n",
    "    data_m['hour'] = data.index.hour\n",
    "    \n",
    "    for lag in range(1, 48):\n",
    "        data_m['lag_{}'.format(lag)] = data_m['num_orders'].shift(lag)\n",
    "\n",
    "    data_m['167'] = data_m['num_orders'].shift(167)\n",
    "\n",
    "    data_m['rolling_mean'] = data_m['num_orders'].shift().rolling(10).mean()\n",
    "    return data_m"
   ]
  },
  {
   "cell_type": "code",
   "execution_count": 24,
   "metadata": {},
   "outputs": [],
   "source": [
    "# Разобъем данные на обучающую и тестовую выборки, удалим появившиеся в результате сдвига пропуски.\n",
    "\n",
    "data_1 = make_features_1(df)\n",
    "train, test = train_test_split(data_1, shuffle=False, test_size=0.1)\n",
    "train = train.dropna()\n",
    "features_train = train.drop('num_orders', axis=1)\n",
    "target_train = train['num_orders']\n",
    "features_test = test.drop('num_orders', axis=1)\n",
    "target_test = test['num_orders']"
   ]
  },
  {
   "cell_type": "markdown",
   "metadata": {},
   "source": [
    "### Модель линейной регрессии."
   ]
  },
  {
   "cell_type": "code",
   "execution_count": 25,
   "metadata": {},
   "outputs": [
    {
     "name": "stdout",
     "output_type": "stream",
     "text": [
      "Лучшее значение RMSE для линейной регрессии на кросс-валидации: 25.89\n",
      "Wall time: 147 ms\n"
     ]
    }
   ],
   "source": [
    "%%time\n",
    "# Обучим модель линйеной регрессии  и проверим значение метрики на кросс-валидации.\n",
    "\n",
    "lg_model = LinearRegression()\n",
    "lg_scores = -cross_val_score(lg_model, features_train, target_train,\\\n",
    "                                  scoring='neg_root_mean_squared_error',\\\n",
    "                                  cv=TimeSeriesSplit(n_splits=5))\n",
    "best_rmse_lg = lg_scores.mean()\n",
    "print('Лучшее значение RMSE для линейной регрессии на кросс-валидации:', round(best_rmse_lg, 2))"
   ]
  },
  {
   "cell_type": "markdown",
   "metadata": {},
   "source": [
    "### Модель Ridge."
   ]
  },
  {
   "cell_type": "code",
   "execution_count": 26,
   "metadata": {},
   "outputs": [
    {
     "name": "stdout",
     "output_type": "stream",
     "text": [
      "Лучшее значение RMSE для Ridge при кросс-валидации: 25.89\n",
      "Лучшее значение alpha для Ridge при кросс-валидации: 0.9\n",
      "Wall time: 683 ms\n"
     ]
    }
   ],
   "source": [
    "%%time\n",
    "# В цикле  при помощт кросс-валидации подберем оптимальные параметр регуляризации для модели Ridge. \n",
    "\n",
    "best_rmse_ridge = 100\n",
    "for alpha in np.arange(0.1, 1.0, 0.1):\n",
    "    ridge_model = Ridge(alpha=alpha, random_state=RANDOM_STATE)\n",
    "    ridge_scores = -cross_val_score(ridge_model, features_train, target_train,\\\n",
    "                                  scoring='neg_root_mean_squared_error',\\\n",
    "                                  cv=TimeSeriesSplit(n_splits=5))\n",
    "    rmse_ridge = ridge_scores.mean()\n",
    "    print\n",
    "    if rmse_ridge < best_rmse_ridge:\n",
    "                best_rmse_ridge = rmse_ridge\n",
    "                best_alpha = alpha\n",
    "print('Лучшее значение RMSE для Ridge при кросс-валидации:', round(best_rmse_ridge, 2))\n",
    "print('Лучшее значение alpha для Ridge при кросс-валидации:', best_alpha)"
   ]
  },
  {
   "cell_type": "markdown",
   "metadata": {},
   "source": [
    "### Модель решающего дерева."
   ]
  },
  {
   "cell_type": "code",
   "execution_count": 27,
   "metadata": {},
   "outputs": [
    {
     "name": "stdout",
     "output_type": "stream",
     "text": [
      "Лучшее значение RMSE для решающего дерева при кросс-валидации  30.07\n",
      "Лучшее значение глубины для решающего дерева при кросс-валидации: 4\n"
     ]
    }
   ],
   "source": [
    "# В цикле при помощи кросс-валидации подберем оптимальную глубину дерева для модели решающего дерева.\n",
    "\n",
    "best_rmse_tree = 100\n",
    "\n",
    "for depth in range(2, 10, 2):\n",
    "    tree_model = DecisionTreeRegressor(max_depth=depth, random_state=RANDOM_STATE)\n",
    "    tree_scores = -cross_val_score(tree_model, features_train, target_train,\\\n",
    "                                  scoring='neg_root_mean_squared_error',\\\n",
    "                                  cv=TimeSeriesSplit(n_splits=5))\n",
    "    rmse_tree = tree_scores.mean()\n",
    "    if rmse_tree < best_rmse_tree:\n",
    "        best_rmse_tree = rmse_tree\n",
    "        best_depth = depth\n",
    "print('Лучшее значение RMSE для решающего дерева при кросс-валидации ', round(best_rmse_tree, 2))\n",
    "print('Лучшее значение глубины для решающего дерева при кросс-валидации:',best_depth)"
   ]
  },
  {
   "cell_type": "markdown",
   "metadata": {},
   "source": [
    "### Модель Catboost."
   ]
  },
  {
   "cell_type": "code",
   "execution_count": 28,
   "metadata": {},
   "outputs": [],
   "source": [
    "# Параметры для RandomseachCV для модели CatBoostRegressor\n",
    "\n",
    "param_cat = {\n",
    "            'learning_rate': [0.1, 0.5],\n",
    "            'iterations' : [50, 100]\n",
    "            }"
   ]
  },
  {
   "cell_type": "code",
   "execution_count": 29,
   "metadata": {},
   "outputs": [
    {
     "name": "stdout",
     "output_type": "stream",
     "text": [
      "Лучшее значение RMSE для CatboostRegression при кросс-валидации:  24.7\n",
      "Лучшее гиперпараметры для CatboostRegression при кросс-валидации: {'learning_rate': 0.1, 'iterations': 100}\n",
      "Wall time: 23.6 s\n"
     ]
    }
   ],
   "source": [
    "%%time\n",
    "# Подберем оптимальные гиперпараметры для модели CatBoostRegressor, используя RandomseachCV. \n",
    "\n",
    "best_rmse_cat = 100\n",
    "\n",
    "\n",
    "cat_regressor = CatBoostRegressor(random_state=RANDOM_STATE, verbose=False)\n",
    "cat = RandomizedSearchCV(cat_regressor,param_distributions=param_cat,\\\n",
    "                            n_jobs=-1, n_iter=4,cv=TimeSeriesSplit(n_splits=5),\\\n",
    "                         scoring='neg_root_mean_squared_error')\n",
    "cat_model = cat.fit(features_train,target_train)\n",
    "rmse_cat_model = -cat_model.best_score_\n",
    "params_cat_model = cat_model.best_params_\n",
    "if rmse_cat_model < best_rmse_cat:\n",
    "    best_rmse_cat = rmse_cat_model\n",
    "    best_cat_params = params_cat_model\n",
    "print('Лучшее значение RMSE для CatboostRegression при кросс-валидации: ', round(best_rmse_cat, 2))\n",
    "print('Лучшее гиперпараметры для CatboostRegression при кросс-валидации:', best_cat_params)"
   ]
  },
  {
   "cell_type": "markdown",
   "metadata": {},
   "source": [
    "## Тестирование"
   ]
  },
  {
   "cell_type": "code",
   "execution_count": 30,
   "metadata": {},
   "outputs": [],
   "source": [
    "# Cоставим списки по результатам обучения и кросс-валидации моделей.\n",
    "\n",
    "models = ['Линейная регрессия', 'Ridge', 'Решающее дерево', 'CatBoostRegressor']\n",
    "res = [[best_rmse_lg],\n",
    "        [best_rmse_ridge],\n",
    "        [best_rmse_tree],\n",
    "        [best_rmse_cat]]"
   ]
  },
  {
   "cell_type": "code",
   "execution_count": 31,
   "metadata": {
    "scrolled": false
   },
   "outputs": [
    {
     "data": {
      "text/html": [
       "<div>\n",
       "<style scoped>\n",
       "    .dataframe tbody tr th:only-of-type {\n",
       "        vertical-align: middle;\n",
       "    }\n",
       "\n",
       "    .dataframe tbody tr th {\n",
       "        vertical-align: top;\n",
       "    }\n",
       "\n",
       "    .dataframe thead th {\n",
       "        text-align: right;\n",
       "    }\n",
       "</style>\n",
       "<table border=\"1\" class=\"dataframe\">\n",
       "  <thead>\n",
       "    <tr style=\"text-align: right;\">\n",
       "      <th></th>\n",
       "      <th>Качество предсказания (RMSE)</th>\n",
       "    </tr>\n",
       "  </thead>\n",
       "  <tbody>\n",
       "    <tr>\n",
       "      <th>Линейная регрессия</th>\n",
       "      <td>25.890349</td>\n",
       "    </tr>\n",
       "    <tr>\n",
       "      <th>Ridge</th>\n",
       "      <td>25.890634</td>\n",
       "    </tr>\n",
       "    <tr>\n",
       "      <th>Решающее дерево</th>\n",
       "      <td>30.072236</td>\n",
       "    </tr>\n",
       "    <tr>\n",
       "      <th>CatBoostRegressor</th>\n",
       "      <td>24.696097</td>\n",
       "    </tr>\n",
       "  </tbody>\n",
       "</table>\n",
       "</div>"
      ],
      "text/plain": [
       "                    Качество предсказания (RMSE)\n",
       "Линейная регрессия                     25.890349\n",
       "Ridge                                  25.890634\n",
       "Решающее дерево                        30.072236\n",
       "CatBoostRegressor                      24.696097"
      ]
     },
     "execution_count": 31,
     "metadata": {},
     "output_type": "execute_result"
    }
   ],
   "source": [
    "# Создадим дата-фрейм с результатами кросс-валидации моделей.\n",
    "\n",
    "result_data = pd.DataFrame(data=res, index=models, columns=['Качество предсказания (RMSE)'])\n",
    "result_data"
   ]
  },
  {
   "cell_type": "markdown",
   "metadata": {},
   "source": [
    "Лучшие результаты показала модель CatBoostRegressor."
   ]
  },
  {
   "cell_type": "code",
   "execution_count": 32,
   "metadata": {},
   "outputs": [
    {
     "name": "stdout",
     "output_type": "stream",
     "text": [
      "Значение RMSE лучшей из выбранных моделей на тестовой выборке: 41.97\n"
     ]
    }
   ],
   "source": [
    "# Обучим модель c использованием лучших подобранных параметров и получим значение\n",
    "# метрики на тестовой выборке.\n",
    "\n",
    "final_model = CatBoostRegressor(random_state=RANDOM_STATE, learning_rate=0.1,\\\n",
    "                                iterations=100, verbose=False)\n",
    "final_model.fit(features_train,target_train)\n",
    "test_pred = final_model.predict(features_test)\n",
    "final_rmse = mean_squared_error(test_pred, target_test)**0.5 \n",
    "print('Значение RMSE лучшей из выбранных моделей на тестовой выборке:', round(final_rmse, 2))"
   ]
  },
  {
   "cell_type": "markdown",
   "metadata": {},
   "source": [
    "Проверим модель на адекватность."
   ]
  },
  {
   "cell_type": "code",
   "execution_count": 33,
   "metadata": {},
   "outputs": [
    {
     "name": "stdout",
     "output_type": "stream",
     "text": [
      "Значение RMSE константной модели на тестовой выборке: 83.98\n"
     ]
    }
   ],
   "source": [
    "# Обучим контстантную модель c использованием лучших подобранных параметров и получим значение\n",
    "# метрики на тестовой выборке.\n",
    "\n",
    "dummy_model = DummyRegressor(strategy=\"mean\")\n",
    "dummy_model.fit(features_train,target_train)\n",
    "dummy_pred = dummy_model.predict(features_test)\n",
    "dummy_rmse = mean_squared_error(dummy_pred, target_test)**0.5 \n",
    "print('Значение RMSE константной модели на тестовой выборке:', round(dummy_rmse, 2))"
   ]
  },
  {
   "cell_type": "code",
   "execution_count": 34,
   "metadata": {},
   "outputs": [
    {
     "name": "stdout",
     "output_type": "stream",
     "text": [
      "Значение RMSE с предсказаниями на тестовой выборке по предыдущим: 58.86\n"
     ]
    }
   ],
   "source": [
    "# Проверим адекватность модели, сравним значения полученного RSME со значением, полученным\n",
    "# предсказанием по предыдущим значениям.\n",
    "\n",
    "pred_previous = target_test.shift()\n",
    "pred_previous.iloc[0] = target_train.iloc[-1]\n",
    "previous_rmse = mean_squared_error(pred_previous, target_test)**0.5 \n",
    "print('Значение RMSE с предсказаниями на тестовой выборке по предыдущим:', round(previous_rmse, 2))"
   ]
  },
  {
   "cell_type": "markdown",
   "metadata": {},
   "source": [
    "***Итоговый вывод:***\n",
    "\n",
    "**Для лучшей из выбранных на кросс-валидации для задачи моделей (CatBoostRegressor) получили значение метрики на тестовой выборке равное 41,97, что удовлетворяет поставленной задаче и менее 48 и  превосходит как константную модель, так и предсказания, полученные по предыдущим значениям.**"
   ]
  },
  {
   "cell_type": "code",
   "execution_count": null,
   "metadata": {},
   "outputs": [],
   "source": []
  }
 ],
 "metadata": {
  "ExecuteTimeLog": [
   {
    "duration": 1815,
    "start_time": "2023-06-23T17:59:43.557Z"
   },
   {
    "duration": 3,
    "start_time": "2023-06-23T17:59:58.137Z"
   },
   {
    "duration": 340,
    "start_time": "2023-06-23T18:00:01.335Z"
   },
   {
    "duration": 19,
    "start_time": "2023-06-23T18:00:09.244Z"
   },
   {
    "duration": 27,
    "start_time": "2023-06-23T18:00:28.310Z"
   },
   {
    "duration": 12,
    "start_time": "2023-06-23T18:00:34.739Z"
   },
   {
    "duration": 15,
    "start_time": "2023-06-23T18:01:02.357Z"
   },
   {
    "duration": 13,
    "start_time": "2023-06-23T18:15:15.226Z"
   },
   {
    "duration": 8,
    "start_time": "2023-06-23T18:15:22.908Z"
   },
   {
    "duration": 4,
    "start_time": "2023-06-23T18:16:18.854Z"
   },
   {
    "duration": 7,
    "start_time": "2023-06-23T18:17:42.058Z"
   },
   {
    "duration": 144,
    "start_time": "2023-06-23T18:18:02.935Z"
   },
   {
    "duration": 1711,
    "start_time": "2023-06-23T18:19:09.250Z"
   },
   {
    "duration": 2,
    "start_time": "2023-06-23T18:19:10.963Z"
   },
   {
    "duration": 59,
    "start_time": "2023-06-23T18:19:10.967Z"
   },
   {
    "duration": 19,
    "start_time": "2023-06-23T18:19:11.034Z"
   },
   {
    "duration": 10,
    "start_time": "2023-06-23T18:19:11.055Z"
   },
   {
    "duration": 152,
    "start_time": "2023-06-23T18:19:47.573Z"
   },
   {
    "duration": 106,
    "start_time": "2023-06-23T18:20:46.306Z"
   },
   {
    "duration": 10,
    "start_time": "2023-06-23T18:20:51.969Z"
   },
   {
    "duration": 3,
    "start_time": "2023-06-23T18:20:55.505Z"
   },
   {
    "duration": 12,
    "start_time": "2023-06-23T18:20:58.976Z"
   },
   {
    "duration": 10,
    "start_time": "2023-06-23T18:21:06.644Z"
   },
   {
    "duration": 11,
    "start_time": "2023-06-23T18:22:33.544Z"
   },
   {
    "duration": 11,
    "start_time": "2023-06-23T18:22:51.016Z"
   },
   {
    "duration": 4,
    "start_time": "2023-06-23T18:25:11.463Z"
   },
   {
    "duration": 6,
    "start_time": "2023-06-23T18:26:02.353Z"
   },
   {
    "duration": 282,
    "start_time": "2023-06-23T18:26:06.572Z"
   },
   {
    "duration": 12,
    "start_time": "2023-06-23T18:26:33.458Z"
   },
   {
    "duration": 12,
    "start_time": "2023-06-23T18:27:16.512Z"
   },
   {
    "duration": 13,
    "start_time": "2023-06-23T18:27:29.014Z"
   },
   {
    "duration": 68,
    "start_time": "2023-06-23T18:31:28.693Z"
   },
   {
    "duration": 16,
    "start_time": "2023-06-23T18:31:56.253Z"
   },
   {
    "duration": 56,
    "start_time": "2023-06-23T18:32:01.709Z"
   },
   {
    "duration": 892,
    "start_time": "2023-06-23T18:33:19.383Z"
   },
   {
    "duration": 24,
    "start_time": "2023-06-23T18:34:36.653Z"
   },
   {
    "duration": 261,
    "start_time": "2023-06-23T18:35:05.030Z"
   },
   {
    "duration": 865,
    "start_time": "2023-06-23T18:35:58.130Z"
   },
   {
    "duration": 216,
    "start_time": "2023-06-23T18:38:22.452Z"
   },
   {
    "duration": 196,
    "start_time": "2023-06-23T19:18:43.858Z"
   },
   {
    "duration": 5,
    "start_time": "2023-06-23T19:50:26.758Z"
   },
   {
    "duration": 2436,
    "start_time": "2023-06-23T19:50:30.363Z"
   },
   {
    "duration": 12,
    "start_time": "2023-06-23T19:51:12.407Z"
   },
   {
    "duration": 2191,
    "start_time": "2023-06-23T19:51:15.113Z"
   },
   {
    "duration": 4,
    "start_time": "2023-06-23T19:51:38.404Z"
   },
   {
    "duration": 17,
    "start_time": "2023-06-23T19:51:41.341Z"
   },
   {
    "duration": 26,
    "start_time": "2023-06-23T19:51:51.829Z"
   },
   {
    "duration": 16,
    "start_time": "2023-06-23T20:32:47.141Z"
   },
   {
    "duration": 153,
    "start_time": "2023-06-23T20:33:08.576Z"
   },
   {
    "duration": 4,
    "start_time": "2023-06-23T20:34:17.942Z"
   },
   {
    "duration": 9883,
    "start_time": "2023-06-23T20:34:58.438Z"
   },
   {
    "duration": 13,
    "start_time": "2023-06-23T20:59:49.930Z"
   },
   {
    "duration": 9562,
    "start_time": "2023-06-23T21:13:05.063Z"
   },
   {
    "duration": 3,
    "start_time": "2023-06-23T21:14:50.762Z"
   },
   {
    "duration": 111,
    "start_time": "2023-06-23T21:16:32.164Z"
   },
   {
    "duration": 29,
    "start_time": "2023-06-23T21:16:58.535Z"
   },
   {
    "duration": 25,
    "start_time": "2023-06-23T21:17:43.866Z"
   },
   {
    "duration": 12,
    "start_time": "2023-06-23T21:17:50.114Z"
   },
   {
    "duration": 14,
    "start_time": "2023-06-23T21:19:03.770Z"
   },
   {
    "duration": 70,
    "start_time": "2023-06-23T21:19:42.152Z"
   },
   {
    "duration": 8392,
    "start_time": "2023-06-23T21:20:09.745Z"
   },
   {
    "duration": 4,
    "start_time": "2023-06-23T21:20:21.508Z"
   },
   {
    "duration": 51,
    "start_time": "2023-06-23T21:20:26.604Z"
   },
   {
    "duration": 7,
    "start_time": "2023-06-23T21:20:38.311Z"
   },
   {
    "duration": 111,
    "start_time": "2023-06-23T21:24:45.131Z"
   },
   {
    "duration": 9229,
    "start_time": "2023-06-23T21:25:04.826Z"
   },
   {
    "duration": 177,
    "start_time": "2023-06-23T21:50:32.049Z"
   },
   {
    "duration": 178,
    "start_time": "2023-06-23T21:51:23.296Z"
   },
   {
    "duration": 23,
    "start_time": "2023-06-23T23:20:25.938Z"
   },
   {
    "duration": 4,
    "start_time": "2023-06-23T23:21:11.153Z"
   },
   {
    "duration": 9295,
    "start_time": "2023-06-23T23:21:15.028Z"
   },
   {
    "duration": 2414,
    "start_time": "2023-06-24T10:59:00.589Z"
   },
   {
    "duration": 3,
    "start_time": "2023-06-24T10:59:03.005Z"
   },
   {
    "duration": 180,
    "start_time": "2023-06-24T10:59:03.009Z"
   },
   {
    "duration": 14,
    "start_time": "2023-06-24T10:59:03.198Z"
   },
   {
    "duration": 12,
    "start_time": "2023-06-24T10:59:03.214Z"
   },
   {
    "duration": 13,
    "start_time": "2023-06-24T10:59:03.227Z"
   },
   {
    "duration": 15,
    "start_time": "2023-06-24T10:59:03.242Z"
   },
   {
    "duration": 5,
    "start_time": "2023-06-24T10:59:03.271Z"
   },
   {
    "duration": 13,
    "start_time": "2023-06-24T10:59:03.278Z"
   },
   {
    "duration": 13,
    "start_time": "2023-06-24T10:59:03.294Z"
   },
   {
    "duration": 25,
    "start_time": "2023-06-24T10:59:03.309Z"
   },
   {
    "duration": 339,
    "start_time": "2023-06-24T10:59:03.336Z"
   },
   {
    "duration": 14,
    "start_time": "2023-06-24T10:59:03.678Z"
   },
   {
    "duration": 877,
    "start_time": "2023-06-24T10:59:03.694Z"
   },
   {
    "duration": 200,
    "start_time": "2023-06-24T10:59:04.573Z"
   },
   {
    "duration": 4,
    "start_time": "2023-06-24T11:00:32.303Z"
   },
   {
    "duration": 548,
    "start_time": "2023-06-24T11:00:39.808Z"
   },
   {
    "duration": 32314,
    "start_time": "2023-06-24T11:05:31.968Z"
   },
   {
    "duration": 6,
    "start_time": "2023-06-24T11:06:12.071Z"
   },
   {
    "duration": 4,
    "start_time": "2023-06-24T11:46:43.927Z"
   },
   {
    "duration": 1798,
    "start_time": "2023-06-26T19:02:18.110Z"
   },
   {
    "duration": 4,
    "start_time": "2023-06-26T19:02:19.910Z"
   },
   {
    "duration": 139,
    "start_time": "2023-06-26T19:02:19.915Z"
   },
   {
    "duration": 13,
    "start_time": "2023-06-26T19:02:20.056Z"
   },
   {
    "duration": 21,
    "start_time": "2023-06-26T19:02:20.071Z"
   },
   {
    "duration": 20,
    "start_time": "2023-06-26T19:02:20.094Z"
   },
   {
    "duration": 23,
    "start_time": "2023-06-26T19:02:20.116Z"
   },
   {
    "duration": 12,
    "start_time": "2023-06-26T19:02:20.141Z"
   },
   {
    "duration": 25,
    "start_time": "2023-06-26T19:02:20.155Z"
   },
   {
    "duration": 135,
    "start_time": "2023-06-26T19:02:47.797Z"
   },
   {
    "duration": 5,
    "start_time": "2023-06-26T19:20:04.838Z"
   },
   {
    "duration": 29669,
    "start_time": "2023-06-26T19:20:09.603Z"
   },
   {
    "duration": 4,
    "start_time": "2023-06-26T19:20:45.691Z"
   },
   {
    "duration": 133,
    "start_time": "2023-06-26T19:24:49.307Z"
   },
   {
    "duration": 30,
    "start_time": "2023-06-26T19:25:00.611Z"
   },
   {
    "duration": 13216,
    "start_time": "2023-06-26T19:25:12.867Z"
   },
   {
    "duration": 4,
    "start_time": "2023-06-26T19:25:39.414Z"
   },
   {
    "duration": 36856,
    "start_time": "2023-06-26T19:29:34.599Z"
   },
   {
    "duration": 3,
    "start_time": "2023-06-26T19:30:36.527Z"
   },
   {
    "duration": 32453,
    "start_time": "2023-06-26T19:32:06.307Z"
   },
   {
    "duration": 4,
    "start_time": "2023-06-26T19:38:50.431Z"
   },
   {
    "duration": 12547,
    "start_time": "2023-06-26T19:42:01.495Z"
   },
   {
    "duration": 5,
    "start_time": "2023-06-26T19:42:33.332Z"
   },
   {
    "duration": 31060,
    "start_time": "2023-06-26T19:45:52.207Z"
   },
   {
    "duration": 5,
    "start_time": "2023-06-26T19:46:31.655Z"
   },
   {
    "duration": 26,
    "start_time": "2023-06-26T19:47:44.708Z"
   },
   {
    "duration": 26690,
    "start_time": "2023-06-26T19:47:56.467Z"
   },
   {
    "duration": 4,
    "start_time": "2023-06-26T19:50:06.515Z"
   },
   {
    "duration": 34,
    "start_time": "2023-06-26T19:53:54.826Z"
   },
   {
    "duration": 120,
    "start_time": "2023-06-26T19:54:07.137Z"
   },
   {
    "duration": 4,
    "start_time": "2023-06-26T19:57:01.422Z"
   },
   {
    "duration": 75,
    "start_time": "2023-06-26T19:58:53.619Z"
   },
   {
    "duration": 75,
    "start_time": "2023-06-26T19:59:31.695Z"
   },
   {
    "duration": 67,
    "start_time": "2023-06-26T19:59:49.555Z"
   },
   {
    "duration": 67,
    "start_time": "2023-06-26T20:00:50.011Z"
   },
   {
    "duration": 66,
    "start_time": "2023-06-26T20:01:38.154Z"
   },
   {
    "duration": 136,
    "start_time": "2023-06-26T20:02:22.722Z"
   },
   {
    "duration": 35,
    "start_time": "2023-06-26T20:02:45.119Z"
   },
   {
    "duration": 66,
    "start_time": "2023-06-26T20:03:04.095Z"
   },
   {
    "duration": 4,
    "start_time": "2023-06-26T20:23:23.952Z"
   },
   {
    "duration": 4,
    "start_time": "2023-06-26T20:25:04.031Z"
   },
   {
    "duration": 577825,
    "start_time": "2023-06-26T20:29:33.740Z"
   },
   {
    "duration": 5,
    "start_time": "2023-06-26T20:39:53.499Z"
   },
   {
    "duration": 130771,
    "start_time": "2023-06-26T20:41:35.691Z"
   },
   {
    "duration": 4,
    "start_time": "2023-06-26T20:43:59.691Z"
   },
   {
    "duration": 4,
    "start_time": "2023-06-26T20:46:39.127Z"
   },
   {
    "duration": 124836,
    "start_time": "2023-06-26T20:51:36.418Z"
   },
   {
    "duration": 4,
    "start_time": "2023-06-26T20:54:03.107Z"
   },
   {
    "duration": 31,
    "start_time": "2023-06-26T20:55:43.823Z"
   },
   {
    "duration": 8944,
    "start_time": "2023-06-26T21:02:53.031Z"
   },
   {
    "duration": 61805,
    "start_time": "2023-06-26T21:04:55.604Z"
   },
   {
    "duration": 4,
    "start_time": "2023-06-26T21:09:46.060Z"
   },
   {
    "duration": 163,
    "start_time": "2023-06-26T21:27:35.708Z"
   },
   {
    "duration": 4,
    "start_time": "2023-06-26T21:27:52.933Z"
   },
   {
    "duration": 82,
    "start_time": "2023-06-26T21:28:00.618Z"
   },
   {
    "duration": 3,
    "start_time": "2023-06-26T21:28:05.569Z"
   },
   {
    "duration": 470,
    "start_time": "2023-06-26T21:28:08.795Z"
   },
   {
    "duration": 723,
    "start_time": "2023-06-26T21:28:59.497Z"
   },
   {
    "duration": 3,
    "start_time": "2023-06-26T21:36:05.707Z"
   },
   {
    "duration": 1346978,
    "start_time": "2023-06-26T21:36:14.924Z"
   },
   {
    "duration": 4,
    "start_time": "2023-06-26T21:59:18.520Z"
   },
   {
    "duration": 3,
    "start_time": "2023-06-26T22:06:57.908Z"
   },
   {
    "duration": 9,
    "start_time": "2023-06-26T22:07:41.165Z"
   },
   {
    "duration": 28,
    "start_time": "2023-06-26T22:13:00.517Z"
   },
   {
    "duration": 24,
    "start_time": "2023-06-26T22:14:42.263Z"
   },
   {
    "duration": 24,
    "start_time": "2023-06-26T22:15:20.255Z"
   },
   {
    "duration": 25,
    "start_time": "2023-06-26T22:15:50.859Z"
   },
   {
    "duration": 37,
    "start_time": "2023-06-26T22:25:27.129Z"
   },
   {
    "duration": 34,
    "start_time": "2023-06-26T22:26:52.620Z"
   },
   {
    "duration": 1406,
    "start_time": "2023-06-26T22:27:14.812Z"
   },
   {
    "duration": 2,
    "start_time": "2023-06-26T22:27:18.205Z"
   },
   {
    "duration": 50,
    "start_time": "2023-06-26T22:27:20.361Z"
   },
   {
    "duration": 17,
    "start_time": "2023-06-26T22:27:22.497Z"
   },
   {
    "duration": 10,
    "start_time": "2023-06-26T22:27:24.917Z"
   },
   {
    "duration": 14,
    "start_time": "2023-06-26T22:27:27.717Z"
   },
   {
    "duration": 11,
    "start_time": "2023-06-26T22:27:29.992Z"
   },
   {
    "duration": 4,
    "start_time": "2023-06-26T22:27:31.967Z"
   },
   {
    "duration": 8,
    "start_time": "2023-06-26T22:27:34.001Z"
   },
   {
    "duration": 136,
    "start_time": "2023-06-26T22:27:37.848Z"
   },
   {
    "duration": 10,
    "start_time": "2023-06-26T22:27:41.219Z"
   },
   {
    "duration": 4,
    "start_time": "2023-06-26T22:28:07.325Z"
   },
   {
    "duration": 72112,
    "start_time": "2023-06-26T22:28:27.644Z"
   },
   {
    "duration": 4,
    "start_time": "2023-06-26T22:29:44.069Z"
   },
   {
    "duration": 34,
    "start_time": "2023-06-26T22:29:58.453Z"
   },
   {
    "duration": 1430,
    "start_time": "2023-06-26T22:36:40.696Z"
   },
   {
    "duration": 2,
    "start_time": "2023-06-26T22:36:42.128Z"
   },
   {
    "duration": 51,
    "start_time": "2023-06-26T22:36:42.132Z"
   },
   {
    "duration": 11,
    "start_time": "2023-06-26T22:36:42.185Z"
   },
   {
    "duration": 14,
    "start_time": "2023-06-26T22:36:42.198Z"
   },
   {
    "duration": 20,
    "start_time": "2023-06-26T22:36:42.214Z"
   },
   {
    "duration": 10,
    "start_time": "2023-06-26T22:36:42.236Z"
   },
   {
    "duration": 14,
    "start_time": "2023-06-26T22:36:42.248Z"
   },
   {
    "duration": 17,
    "start_time": "2023-06-26T22:36:42.264Z"
   },
   {
    "duration": 176,
    "start_time": "2023-06-26T22:36:42.283Z"
   },
   {
    "duration": 14,
    "start_time": "2023-06-26T22:36:42.462Z"
   },
   {
    "duration": 331,
    "start_time": "2023-06-26T22:36:42.478Z"
   },
   {
    "duration": 9,
    "start_time": "2023-06-26T22:36:42.811Z"
   },
   {
    "duration": 733,
    "start_time": "2023-06-26T22:36:42.822Z"
   },
   {
    "duration": 162,
    "start_time": "2023-06-26T22:36:43.556Z"
   },
   {
    "duration": 6,
    "start_time": "2023-06-26T22:36:59.512Z"
   },
   {
    "duration": 10,
    "start_time": "2023-06-26T22:37:06.030Z"
   },
   {
    "duration": 67433,
    "start_time": "2023-06-26T22:37:12.728Z"
   },
   {
    "duration": 4,
    "start_time": "2023-06-26T22:38:48.007Z"
   },
   {
    "duration": 9,
    "start_time": "2023-06-26T22:39:13.135Z"
   },
   {
    "duration": 278,
    "start_time": "2023-06-26T22:39:51.023Z"
   },
   {
    "duration": 468950,
    "start_time": "2023-06-26T22:40:13.410Z"
   },
   {
    "duration": 4,
    "start_time": "2023-06-26T22:48:16.219Z"
   },
   {
    "duration": 46341,
    "start_time": "2023-06-26T22:50:07.754Z"
   },
   {
    "duration": 4,
    "start_time": "2023-06-26T22:51:12.297Z"
   },
   {
    "duration": 99,
    "start_time": "2023-06-26T22:52:57.575Z"
   },
   {
    "duration": 3,
    "start_time": "2023-06-26T22:53:05.977Z"
   },
   {
    "duration": 613986,
    "start_time": "2023-06-26T22:53:09.047Z"
   },
   {
    "duration": 1100169,
    "start_time": "2023-06-26T23:04:23.068Z"
   },
   {
    "duration": 5,
    "start_time": "2023-06-26T23:24:12.599Z"
   },
   {
    "duration": 3,
    "start_time": "2023-06-26T23:24:25.227Z"
   },
   {
    "duration": 8,
    "start_time": "2023-06-26T23:24:27.277Z"
   },
   {
    "duration": 1048,
    "start_time": "2023-06-26T23:28:23.527Z"
   },
   {
    "duration": 1256,
    "start_time": "2023-06-26T23:29:00.764Z"
   },
   {
    "duration": 1801,
    "start_time": "2023-06-26T23:30:50.035Z"
   },
   {
    "duration": 37,
    "start_time": "2023-06-26T23:31:40.849Z"
   },
   {
    "duration": 26,
    "start_time": "2023-06-26T23:31:54.506Z"
   },
   {
    "duration": 125,
    "start_time": "2023-06-26T23:32:44.031Z"
   },
   {
    "duration": 26,
    "start_time": "2023-06-26T23:59:11.256Z"
   },
   {
    "duration": 1551,
    "start_time": "2023-06-27T00:14:34.728Z"
   },
   {
    "duration": 2,
    "start_time": "2023-06-27T00:14:36.281Z"
   },
   {
    "duration": 57,
    "start_time": "2023-06-27T00:14:36.285Z"
   },
   {
    "duration": 12,
    "start_time": "2023-06-27T00:14:36.344Z"
   },
   {
    "duration": 20,
    "start_time": "2023-06-27T00:14:36.359Z"
   },
   {
    "duration": 21,
    "start_time": "2023-06-27T00:14:36.381Z"
   },
   {
    "duration": 11,
    "start_time": "2023-06-27T00:14:36.404Z"
   },
   {
    "duration": 6,
    "start_time": "2023-06-27T00:14:36.417Z"
   },
   {
    "duration": 15,
    "start_time": "2023-06-27T00:14:36.424Z"
   },
   {
    "duration": 168,
    "start_time": "2023-06-27T00:14:36.441Z"
   },
   {
    "duration": 13,
    "start_time": "2023-06-27T00:14:36.610Z"
   },
   {
    "duration": 280,
    "start_time": "2023-06-27T00:14:36.625Z"
   },
   {
    "duration": 8,
    "start_time": "2023-06-27T00:14:36.906Z"
   },
   {
    "duration": 827,
    "start_time": "2023-06-27T00:14:36.917Z"
   },
   {
    "duration": 153,
    "start_time": "2023-06-27T00:14:37.746Z"
   },
   {
    "duration": 4,
    "start_time": "2023-06-27T00:14:37.901Z"
   },
   {
    "duration": 70054,
    "start_time": "2023-06-27T00:14:37.907Z"
   },
   {
    "duration": 93,
    "start_time": "2023-06-27T00:15:47.963Z"
   },
   {
    "duration": 462700,
    "start_time": "2023-06-27T00:15:48.057Z"
   },
   {
    "duration": 97,
    "start_time": "2023-06-27T00:23:30.759Z"
   },
   {
    "duration": 45968,
    "start_time": "2023-06-27T00:23:30.858Z"
   },
   {
    "duration": 5,
    "start_time": "2023-06-27T00:24:16.828Z"
   },
   {
    "duration": 15,
    "start_time": "2023-06-27T00:24:16.834Z"
   },
   {
    "duration": 808382,
    "start_time": "2023-06-27T00:24:16.853Z"
   },
   {
    "duration": 4,
    "start_time": "2023-06-27T00:37:45.236Z"
   },
   {
    "duration": 41,
    "start_time": "2023-06-27T00:37:45.242Z"
   },
   {
    "duration": 29,
    "start_time": "2023-06-27T00:37:45.285Z"
   },
   {
    "duration": 995,
    "start_time": "2023-06-27T00:37:45.315Z"
   },
   {
    "duration": 24,
    "start_time": "2023-06-27T00:37:46.311Z"
   },
   {
    "duration": 858,
    "start_time": "2023-06-27T00:44:12.652Z"
   },
   {
    "duration": 920,
    "start_time": "2023-06-27T00:44:19.738Z"
   },
   {
    "duration": 6378,
    "start_time": "2023-06-27T04:11:17.414Z"
   },
   {
    "duration": 1268,
    "start_time": "2023-06-27T04:11:23.803Z"
   },
   {
    "duration": 2033,
    "start_time": "2023-06-27T11:42:28.443Z"
   },
   {
    "duration": 118,
    "start_time": "2023-06-27T11:43:07.366Z"
   },
   {
    "duration": 160,
    "start_time": "2023-06-27T11:45:09.043Z"
   },
   {
    "duration": 22,
    "start_time": "2023-06-27T11:45:17.700Z"
   },
   {
    "duration": 3,
    "start_time": "2023-06-27T11:45:27.910Z"
   },
   {
    "duration": 305,
    "start_time": "2023-06-27T11:45:29.444Z"
   },
   {
    "duration": 9,
    "start_time": "2023-06-27T11:45:32.968Z"
   },
   {
    "duration": 15,
    "start_time": "2023-06-27T11:45:35.908Z"
   },
   {
    "duration": 12,
    "start_time": "2023-06-27T11:45:38.213Z"
   },
   {
    "duration": 5,
    "start_time": "2023-06-27T11:45:40.722Z"
   },
   {
    "duration": 17,
    "start_time": "2023-06-27T11:45:46.227Z"
   },
   {
    "duration": 250,
    "start_time": "2023-06-27T11:45:56.537Z"
   },
   {
    "duration": 291,
    "start_time": "2023-06-27T11:46:01.124Z"
   },
   {
    "duration": 373,
    "start_time": "2023-06-27T11:46:13.073Z"
   },
   {
    "duration": 285,
    "start_time": "2023-06-27T11:47:17.110Z"
   },
   {
    "duration": 205,
    "start_time": "2023-06-27T11:47:59.104Z"
   },
   {
    "duration": 179,
    "start_time": "2023-06-27T11:48:12.025Z"
   },
   {
    "duration": 321,
    "start_time": "2023-06-27T11:48:29.554Z"
   },
   {
    "duration": 36,
    "start_time": "2023-06-27T11:50:25.534Z"
   },
   {
    "duration": 14,
    "start_time": "2023-06-27T11:51:17.608Z"
   },
   {
    "duration": 214,
    "start_time": "2023-06-27T11:51:40.967Z"
   },
   {
    "duration": 274,
    "start_time": "2023-06-27T11:52:11.809Z"
   },
   {
    "duration": 4,
    "start_time": "2023-06-27T11:54:01.104Z"
   },
   {
    "duration": 7,
    "start_time": "2023-06-27T11:54:28.599Z"
   },
   {
    "duration": 12,
    "start_time": "2023-06-27T11:54:33.660Z"
   },
   {
    "duration": 8,
    "start_time": "2023-06-27T11:55:24.417Z"
   },
   {
    "duration": 334,
    "start_time": "2023-06-27T11:56:15.816Z"
   },
   {
    "duration": 217,
    "start_time": "2023-06-27T11:56:53.861Z"
   },
   {
    "duration": 129,
    "start_time": "2023-06-27T12:00:38.555Z"
   },
   {
    "duration": 8,
    "start_time": "2023-06-27T12:00:43.211Z"
   },
   {
    "duration": 795,
    "start_time": "2023-06-27T12:00:45.210Z"
   },
   {
    "duration": 189,
    "start_time": "2023-06-27T12:01:23.746Z"
   },
   {
    "duration": 261,
    "start_time": "2023-06-27T12:02:32.014Z"
   },
   {
    "duration": 5,
    "start_time": "2023-06-27T12:03:43.539Z"
   },
   {
    "duration": 25,
    "start_time": "2023-06-27T12:03:49.518Z"
   },
   {
    "duration": 10,
    "start_time": "2023-06-27T12:07:50.719Z"
   },
   {
    "duration": 7,
    "start_time": "2023-06-27T12:11:12.041Z"
   },
   {
    "duration": 4,
    "start_time": "2023-06-27T12:11:24.804Z"
   },
   {
    "duration": 241,
    "start_time": "2023-06-27T12:11:32.816Z"
   },
   {
    "duration": 190,
    "start_time": "2023-06-27T12:19:00.840Z"
   },
   {
    "duration": 2663,
    "start_time": "2023-06-27T12:20:37.030Z"
   },
   {
    "duration": 187,
    "start_time": "2023-06-27T12:21:44.126Z"
   },
   {
    "duration": 211,
    "start_time": "2023-06-27T12:21:58.874Z"
   },
   {
    "duration": 250,
    "start_time": "2023-06-27T12:22:57.337Z"
   },
   {
    "duration": 5,
    "start_time": "2023-06-27T15:13:22.384Z"
   },
   {
    "duration": 131,
    "start_time": "2023-06-27T15:13:27.452Z"
   },
   {
    "duration": 16,
    "start_time": "2023-06-27T15:13:38.930Z"
   },
   {
    "duration": 12,
    "start_time": "2023-06-27T15:13:58.868Z"
   },
   {
    "duration": 4,
    "start_time": "2023-06-27T15:14:11.909Z"
   },
   {
    "duration": 18,
    "start_time": "2023-06-27T15:14:15.001Z"
   },
   {
    "duration": 19,
    "start_time": "2023-06-27T15:14:21.822Z"
   },
   {
    "duration": 44,
    "start_time": "2023-06-27T15:14:33.518Z"
   },
   {
    "duration": 526,
    "start_time": "2023-06-27T15:23:43.247Z"
   },
   {
    "duration": 185,
    "start_time": "2023-06-27T15:36:10.099Z"
   },
   {
    "duration": 4,
    "start_time": "2023-06-27T15:40:17.189Z"
   },
   {
    "duration": 4591,
    "start_time": "2023-06-27T15:40:21.456Z"
   },
   {
    "duration": 1645,
    "start_time": "2023-06-27T15:44:51.306Z"
   },
   {
    "duration": 10,
    "start_time": "2023-06-27T15:44:52.953Z"
   },
   {
    "duration": 46,
    "start_time": "2023-06-27T15:44:52.976Z"
   },
   {
    "duration": 13,
    "start_time": "2023-06-27T15:44:53.024Z"
   },
   {
    "duration": 11,
    "start_time": "2023-06-27T15:44:53.040Z"
   },
   {
    "duration": 48,
    "start_time": "2023-06-27T15:44:53.053Z"
   },
   {
    "duration": 22,
    "start_time": "2023-06-27T15:44:53.103Z"
   },
   {
    "duration": 39,
    "start_time": "2023-06-27T15:44:53.127Z"
   },
   {
    "duration": 42,
    "start_time": "2023-06-27T15:44:53.168Z"
   },
   {
    "duration": 226,
    "start_time": "2023-06-27T15:44:53.211Z"
   },
   {
    "duration": 34,
    "start_time": "2023-06-27T15:44:53.440Z"
   },
   {
    "duration": 324,
    "start_time": "2023-06-27T15:44:53.476Z"
   },
   {
    "duration": 8,
    "start_time": "2023-06-27T15:44:53.802Z"
   },
   {
    "duration": 946,
    "start_time": "2023-06-27T15:44:53.813Z"
   },
   {
    "duration": 185,
    "start_time": "2023-06-27T15:44:54.761Z"
   },
   {
    "duration": 8,
    "start_time": "2023-06-27T15:44:54.948Z"
   },
   {
    "duration": 26,
    "start_time": "2023-06-27T15:44:54.958Z"
   },
   {
    "duration": 5,
    "start_time": "2023-06-27T15:44:54.986Z"
   },
   {
    "duration": 199,
    "start_time": "2023-06-27T15:44:54.993Z"
   },
   {
    "duration": 6,
    "start_time": "2023-06-27T15:44:55.193Z"
   },
   {
    "duration": 296,
    "start_time": "2023-06-27T15:44:55.201Z"
   },
   {
    "duration": 3,
    "start_time": "2023-06-27T15:44:55.499Z"
   },
   {
    "duration": 5,
    "start_time": "2023-06-27T15:45:38.334Z"
   },
   {
    "duration": 39,
    "start_time": "2023-06-27T15:45:52.638Z"
   },
   {
    "duration": 34,
    "start_time": "2023-06-27T15:45:54.593Z"
   },
   {
    "duration": 1338,
    "start_time": "2023-06-27T15:46:13.739Z"
   },
   {
    "duration": 4163,
    "start_time": "2023-06-27T15:46:26.393Z"
   },
   {
    "duration": 465,
    "start_time": "2023-06-27T15:47:09.474Z"
   },
   {
    "duration": 3,
    "start_time": "2023-06-27T15:47:59.847Z"
   },
   {
    "duration": 8508,
    "start_time": "2023-06-27T15:48:02.879Z"
   },
   {
    "duration": 1790,
    "start_time": "2023-06-27T17:07:08.135Z"
   },
   {
    "duration": 3,
    "start_time": "2023-06-27T17:07:09.927Z"
   },
   {
    "duration": 67,
    "start_time": "2023-06-27T17:07:09.933Z"
   },
   {
    "duration": 15,
    "start_time": "2023-06-27T17:07:10.003Z"
   },
   {
    "duration": 12,
    "start_time": "2023-06-27T17:07:10.021Z"
   },
   {
    "duration": 15,
    "start_time": "2023-06-27T17:07:10.035Z"
   },
   {
    "duration": 23,
    "start_time": "2023-06-27T17:07:10.052Z"
   },
   {
    "duration": 5,
    "start_time": "2023-06-27T17:07:10.077Z"
   },
   {
    "duration": 18,
    "start_time": "2023-06-27T17:07:10.085Z"
   },
   {
    "duration": 231,
    "start_time": "2023-06-27T17:07:10.108Z"
   },
   {
    "duration": 18,
    "start_time": "2023-06-27T17:07:10.341Z"
   },
   {
    "duration": 303,
    "start_time": "2023-06-27T17:07:10.361Z"
   },
   {
    "duration": 13,
    "start_time": "2023-06-27T17:07:10.668Z"
   },
   {
    "duration": 912,
    "start_time": "2023-06-27T17:07:10.683Z"
   },
   {
    "duration": 197,
    "start_time": "2023-06-27T17:07:11.597Z"
   },
   {
    "duration": 5,
    "start_time": "2023-06-27T17:07:11.796Z"
   },
   {
    "duration": 9,
    "start_time": "2023-06-27T17:07:11.803Z"
   },
   {
    "duration": 7,
    "start_time": "2023-06-27T17:07:11.814Z"
   },
   {
    "duration": 203,
    "start_time": "2023-06-27T17:07:11.823Z"
   },
   {
    "duration": 5,
    "start_time": "2023-06-27T17:07:12.028Z"
   },
   {
    "duration": 270,
    "start_time": "2023-06-27T17:07:12.035Z"
   },
   {
    "duration": 6,
    "start_time": "2023-06-27T17:08:15.443Z"
   },
   {
    "duration": 64,
    "start_time": "2023-06-27T17:08:20.572Z"
   },
   {
    "duration": 41,
    "start_time": "2023-06-27T17:08:23.025Z"
   },
   {
    "duration": 1043,
    "start_time": "2023-06-27T17:08:32.530Z"
   },
   {
    "duration": 3161,
    "start_time": "2023-06-27T17:08:53.410Z"
   },
   {
    "duration": 723,
    "start_time": "2023-06-27T17:09:08.451Z"
   },
   {
    "duration": 2,
    "start_time": "2023-06-27T17:09:18.611Z"
   },
   {
    "duration": 10973,
    "start_time": "2023-06-27T17:09:28.107Z"
   },
   {
    "duration": 14784,
    "start_time": "2023-06-27T17:10:38.044Z"
   },
   {
    "duration": 27509,
    "start_time": "2023-06-27T17:11:10.910Z"
   },
   {
    "duration": 120,
    "start_time": "2023-06-27T17:17:20.426Z"
   },
   {
    "duration": 203,
    "start_time": "2023-06-27T17:34:42.777Z"
   },
   {
    "duration": 2575,
    "start_time": "2023-06-27T17:35:22.703Z"
   },
   {
    "duration": 4821,
    "start_time": "2023-06-27T17:36:05.938Z"
   },
   {
    "duration": 759,
    "start_time": "2023-06-27T17:36:44.317Z"
   },
   {
    "duration": 3,
    "start_time": "2023-06-27T17:37:06.590Z"
   },
   {
    "duration": 29021,
    "start_time": "2023-06-27T17:37:09.820Z"
   },
   {
    "duration": 2258,
    "start_time": "2023-06-27T17:38:20.428Z"
   },
   {
    "duration": 4,
    "start_time": "2023-06-27T17:38:34.505Z"
   },
   {
    "duration": 13,
    "start_time": "2023-06-27T17:38:36.573Z"
   },
   {
    "duration": 2297,
    "start_time": "2023-06-27T17:39:47.113Z"
   },
   {
    "duration": 2226,
    "start_time": "2023-06-27T17:40:09.677Z"
   },
   {
    "duration": 8,
    "start_time": "2023-06-27T17:44:55.789Z"
   },
   {
    "duration": 2095,
    "start_time": "2023-06-27T17:57:27.945Z"
   },
   {
    "duration": 3,
    "start_time": "2023-06-27T17:57:30.045Z"
   },
   {
    "duration": 95,
    "start_time": "2023-06-27T17:57:30.051Z"
   },
   {
    "duration": 21,
    "start_time": "2023-06-27T17:57:30.149Z"
   },
   {
    "duration": 39,
    "start_time": "2023-06-27T17:57:30.172Z"
   },
   {
    "duration": 38,
    "start_time": "2023-06-27T17:57:30.214Z"
   },
   {
    "duration": 29,
    "start_time": "2023-06-27T17:57:30.259Z"
   },
   {
    "duration": 9,
    "start_time": "2023-06-27T17:57:30.293Z"
   },
   {
    "duration": 20,
    "start_time": "2023-06-27T17:57:30.308Z"
   },
   {
    "duration": 317,
    "start_time": "2023-06-27T17:57:30.333Z"
   },
   {
    "duration": 37,
    "start_time": "2023-06-27T17:57:30.652Z"
   },
   {
    "duration": 378,
    "start_time": "2023-06-27T17:57:30.691Z"
   },
   {
    "duration": 11,
    "start_time": "2023-06-27T17:57:31.078Z"
   },
   {
    "duration": 1073,
    "start_time": "2023-06-27T17:57:31.092Z"
   },
   {
    "duration": 273,
    "start_time": "2023-06-27T17:57:32.169Z"
   },
   {
    "duration": 4,
    "start_time": "2023-06-27T17:57:32.445Z"
   },
   {
    "duration": 12,
    "start_time": "2023-06-27T17:57:32.452Z"
   },
   {
    "duration": 16,
    "start_time": "2023-06-27T17:57:32.466Z"
   },
   {
    "duration": 226,
    "start_time": "2023-06-27T17:57:32.485Z"
   },
   {
    "duration": 10,
    "start_time": "2023-06-27T17:57:32.714Z"
   },
   {
    "duration": 331,
    "start_time": "2023-06-27T17:57:32.727Z"
   },
   {
    "duration": 8,
    "start_time": "2023-06-27T17:57:33.061Z"
   },
   {
    "duration": 76,
    "start_time": "2023-06-27T17:57:33.077Z"
   },
   {
    "duration": 3488,
    "start_time": "2023-06-27T17:57:33.155Z"
   },
   {
    "duration": 566,
    "start_time": "2023-06-27T17:57:36.647Z"
   },
   {
    "duration": 4769,
    "start_time": "2023-06-27T17:57:37.222Z"
   },
   {
    "duration": 874,
    "start_time": "2023-06-27T17:57:42.056Z"
   },
   {
    "duration": 3,
    "start_time": "2023-06-27T17:57:42.935Z"
   },
   {
    "duration": 36884,
    "start_time": "2023-06-27T17:57:42.940Z"
   },
   {
    "duration": 4,
    "start_time": "2023-06-27T17:58:19.827Z"
   },
   {
    "duration": 54,
    "start_time": "2023-06-27T17:58:19.834Z"
   },
   {
    "duration": 2664,
    "start_time": "2023-06-27T17:58:19.898Z"
   },
   {
    "duration": 175,
    "start_time": "2023-06-27T17:58:22.570Z"
   },
   {
    "duration": 0,
    "start_time": "2023-06-27T17:58:22.747Z"
   },
   {
    "duration": 6,
    "start_time": "2023-06-27T18:06:26.443Z"
   },
   {
    "duration": 27,
    "start_time": "2023-06-27T18:06:26.452Z"
   },
   {
    "duration": 54,
    "start_time": "2023-06-27T18:06:26.482Z"
   },
   {
    "duration": 18,
    "start_time": "2023-06-27T18:06:26.539Z"
   },
   {
    "duration": 10,
    "start_time": "2023-06-27T18:06:26.563Z"
   },
   {
    "duration": 17,
    "start_time": "2023-06-27T18:06:26.575Z"
   },
   {
    "duration": 14,
    "start_time": "2023-06-27T18:06:26.594Z"
   },
   {
    "duration": 11,
    "start_time": "2023-06-27T18:06:26.610Z"
   },
   {
    "duration": 7,
    "start_time": "2023-06-27T18:06:26.624Z"
   },
   {
    "duration": 344,
    "start_time": "2023-06-27T18:06:26.633Z"
   },
   {
    "duration": 14,
    "start_time": "2023-06-27T18:06:26.980Z"
   },
   {
    "duration": 293,
    "start_time": "2023-06-27T18:06:26.997Z"
   },
   {
    "duration": 9,
    "start_time": "2023-06-27T18:06:27.292Z"
   },
   {
    "duration": 834,
    "start_time": "2023-06-27T18:06:27.303Z"
   },
   {
    "duration": 197,
    "start_time": "2023-06-27T18:06:28.139Z"
   },
   {
    "duration": 4,
    "start_time": "2023-06-27T18:06:28.338Z"
   },
   {
    "duration": 17,
    "start_time": "2023-06-27T18:06:28.353Z"
   },
   {
    "duration": 13,
    "start_time": "2023-06-27T18:06:28.376Z"
   },
   {
    "duration": 197,
    "start_time": "2023-06-27T18:06:28.392Z"
   },
   {
    "duration": 7,
    "start_time": "2023-06-27T18:06:28.590Z"
   },
   {
    "duration": 260,
    "start_time": "2023-06-27T18:06:28.599Z"
   },
   {
    "duration": 7,
    "start_time": "2023-06-27T18:06:28.869Z"
   },
   {
    "duration": 72,
    "start_time": "2023-06-27T18:06:28.878Z"
   },
   {
    "duration": 1914,
    "start_time": "2023-06-27T18:06:28.957Z"
   },
   {
    "duration": 481,
    "start_time": "2023-06-27T18:06:30.888Z"
   },
   {
    "duration": 3799,
    "start_time": "2023-06-27T18:06:31.373Z"
   },
   {
    "duration": 839,
    "start_time": "2023-06-27T18:06:35.184Z"
   },
   {
    "duration": 4,
    "start_time": "2023-06-27T18:06:36.024Z"
   },
   {
    "duration": 23688,
    "start_time": "2023-06-27T18:06:36.030Z"
   },
   {
    "duration": 4,
    "start_time": "2023-06-27T18:06:59.720Z"
   },
   {
    "duration": 10,
    "start_time": "2023-06-27T18:06:59.726Z"
   },
   {
    "duration": 2285,
    "start_time": "2023-06-27T18:06:59.738Z"
   },
   {
    "duration": 15,
    "start_time": "2023-06-27T18:07:02.025Z"
   },
   {
    "duration": 0,
    "start_time": "2023-06-27T18:07:02.042Z"
   },
   {
    "duration": 6,
    "start_time": "2023-06-27T18:13:13.390Z"
   },
   {
    "duration": 7,
    "start_time": "2023-06-27T18:13:17.603Z"
   },
   {
    "duration": 36767,
    "start_time": "2023-06-27T18:16:24.275Z"
   },
   {
    "duration": 11,
    "start_time": "2023-06-27T18:17:19.482Z"
   },
   {
    "duration": 8,
    "start_time": "2023-06-27T18:17:31.785Z"
   },
   {
    "duration": 10,
    "start_time": "2023-06-27T18:17:33.695Z"
   }
  ],
  "kernelspec": {
   "display_name": "Python 3 (ipykernel)",
   "language": "python",
   "name": "python3"
  },
  "language_info": {
   "codemirror_mode": {
    "name": "ipython",
    "version": 3
   },
   "file_extension": ".py",
   "mimetype": "text/x-python",
   "name": "python",
   "nbconvert_exporter": "python",
   "pygments_lexer": "ipython3",
   "version": "3.9.13"
  },
  "toc": {
   "base_numbering": 1,
   "nav_menu": {},
   "number_sections": true,
   "sideBar": true,
   "skip_h1_title": true,
   "title_cell": "Содержание",
   "title_sidebar": "Contents",
   "toc_cell": true,
   "toc_position": {
    "height": "calc(100% - 180px)",
    "left": "10px",
    "top": "150px",
    "width": "165px"
   },
   "toc_section_display": true,
   "toc_window_display": false
  }
 },
 "nbformat": 4,
 "nbformat_minor": 2
}
