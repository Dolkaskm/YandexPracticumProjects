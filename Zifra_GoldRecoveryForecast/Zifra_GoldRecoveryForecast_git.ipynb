{
 "cells": [
  {
   "cell_type": "markdown",
   "metadata": {
    "toc": true
   },
   "source": [
    "<h1>Содержание<span class=\"tocSkip\"></span></h1>\n",
    "<div class=\"toc\"><ul class=\"toc-item\"><li><span><a href=\"#Подготовка-данных\" data-toc-modified-id=\"Подготовка-данных-1\"><span class=\"toc-item-num\">1&nbsp;&nbsp;</span>Подготовка данных</a></span><ul class=\"toc-item\"><li><span><a href=\"#Загрузка-и-изучение-файлов.\" data-toc-modified-id=\"Загрузка-и-изучение-файлов.-1.1\"><span class=\"toc-item-num\">1.1&nbsp;&nbsp;</span>Загрузка и изучение файлов.</a></span></li><li><span><a href=\"#Проверим,-правильно-ли-рассчитана-эффективность-обогащения-золота.\" data-toc-modified-id=\"Проверим,-правильно-ли-рассчитана-эффективность-обогащения-золота.-1.2\"><span class=\"toc-item-num\">1.2&nbsp;&nbsp;</span>Проверим, правильно ли рассчитана эффективность обогащения золота.</a></span></li><li><span><a href=\"#Проанализируем-признаки,-недоступные-в-тестовой-выборке.\" data-toc-modified-id=\"Проанализируем-признаки,-недоступные-в-тестовой-выборке.-1.3\"><span class=\"toc-item-num\">1.3&nbsp;&nbsp;</span>Проанализируем признаки, недоступные в тестовой выборке.</a></span></li><li><span><a href=\"#Предобработка-данных\" data-toc-modified-id=\"Предобработка-данных-1.4\"><span class=\"toc-item-num\">1.4&nbsp;&nbsp;</span>Предобработка данных</a></span></li></ul></li><li><span><a href=\"#Анализ-данных\" data-toc-modified-id=\"Анализ-данных-2\"><span class=\"toc-item-num\">2&nbsp;&nbsp;</span>Анализ данных</a></span><ul class=\"toc-item\"><li><span><a href=\"#Посмотрим,-как-меняется-концентрация-металлов-(Au,-Ag,-Pb)-на-различных-этапах\" data-toc-modified-id=\"Посмотрим,-как-меняется-концентрация-металлов-(Au,-Ag,-Pb)-на-различных-этапах-2.1\"><span class=\"toc-item-num\">2.1&nbsp;&nbsp;</span>Посмотрим, как меняется концентрация металлов (Au, Ag, Pb) на различных этапах</a></span></li><li><span><a href=\"#Сравним-распределения-размеров-гранул-исходного-сырья-на-обучающей-и-тестовой-выборках.\" data-toc-modified-id=\"Сравним-распределения-размеров-гранул-исходного-сырья-на-обучающей-и-тестовой-выборках.-2.2\"><span class=\"toc-item-num\">2.2&nbsp;&nbsp;</span>Сравним распределения размеров гранул исходного сырья на обучающей и тестовой выборках.</a></span></li><li><span><a href=\"#Исследуем-суммарную-концентрацию-металлов-на-разных-стадиях.\" data-toc-modified-id=\"Исследуем-суммарную-концентрацию-металлов-на-разных-стадиях.-2.3\"><span class=\"toc-item-num\">2.3&nbsp;&nbsp;</span>Исследуем суммарную концентрацию металлов на разных стадиях.</a></span></li></ul></li><li><span><a href=\"#Модель\" data-toc-modified-id=\"Модель-3\"><span class=\"toc-item-num\">3&nbsp;&nbsp;</span>Модель</a></span><ul class=\"toc-item\"><li><span><a href=\"#Напишем-функцию-для-вычисления-итоговой-sMAPE.\" data-toc-modified-id=\"Напишем-функцию-для-вычисления-итоговой-sMAPE.-3.1\"><span class=\"toc-item-num\">3.1&nbsp;&nbsp;</span>Напишем функцию для вычисления итоговой sMAPE.</a></span></li><li><span><a href=\"#Обучим-разные-модели-и-оцените-их-качество-кросс-валидацией\" data-toc-modified-id=\"Обучим-разные-модели-и-оцените-их-качество-кросс-валидацией-3.2\"><span class=\"toc-item-num\">3.2&nbsp;&nbsp;</span>Обучим разные модели и оцените их качество кросс-валидацией</a></span><ul class=\"toc-item\"><li><span><a href=\"#Модель-линейной-регрессии\" data-toc-modified-id=\"Модель-линейной-регрессии-3.2.1\"><span class=\"toc-item-num\">3.2.1&nbsp;&nbsp;</span>Модель линейной регрессии</a></span></li><li><span><a href=\"#Модель-решающего-дерева.\" data-toc-modified-id=\"Модель-решающего-дерева.-3.2.2\"><span class=\"toc-item-num\">3.2.2&nbsp;&nbsp;</span>Модель решающего дерева.</a></span></li><li><span><a href=\"#Модель-случайного-леса.\" data-toc-modified-id=\"Модель-случайного-леса.-3.2.3\"><span class=\"toc-item-num\">3.2.3&nbsp;&nbsp;</span>Модель случайного леса.</a></span></li><li><span><a href=\"#Модель-Ridge.\" data-toc-modified-id=\"Модель-Ridge.-3.2.4\"><span class=\"toc-item-num\">3.2.4&nbsp;&nbsp;</span>Модель Ridge.</a></span></li><li><span><a href=\"#Модель-CatboostRegressor.\" data-toc-modified-id=\"Модель-CatboostRegressor.-3.2.5\"><span class=\"toc-item-num\">3.2.5&nbsp;&nbsp;</span>Модель CatboostRegressor.</a></span></li></ul></li><li><span><a href=\"#Выберем-лучшую-модель-и-проверим-ее-на-тестовой-выборке.\" data-toc-modified-id=\"Выберем-лучшую-модель-и-проверим-ее-на-тестовой-выборке.-3.3\"><span class=\"toc-item-num\">3.3&nbsp;&nbsp;</span>Выберем лучшую модель и проверим ее на тестовой выборке.</a></span></li></ul></li></ul></div>"
   ]
  },
  {
   "cell_type": "markdown",
   "metadata": {},
   "source": [
    "# Восстановление золота из руды"
   ]
  },
  {
   "cell_type": "markdown",
   "metadata": {},
   "source": [
    "Подготовьте прототип модели машинного обучения для «Цифры». Компания разрабатывает решения для эффективной работы промышленных предприятий.\n",
    "\n",
    "Модель должна предсказать коэффициент восстановления золота из золотосодержащей руды. Используйте данные с параметрами добычи и очистки. \n",
    "\n",
    "Модель поможет оптимизировать производство, чтобы не запускать предприятие с убыточными характеристиками.\n",
    "\n",
    "Вам нужно:\n",
    "\n",
    "1. Подготовить данные;\n",
    "2. Провести исследовательский анализ данных;\n",
    "3. Построить и обучить модель.\n",
    "\n",
    "Чтобы выполнить проект, обращайтесь к библиотекам *pandas*, *matplotlib* и *sklearn.* Вам поможет их документация."
   ]
  },
  {
   "cell_type": "markdown",
   "metadata": {},
   "source": [
    "## Подготовка данных"
   ]
  },
  {
   "cell_type": "code",
   "execution_count": 1,
   "metadata": {},
   "outputs": [],
   "source": [
    "# Загрузка необходимых библиотек\n",
    "\n",
    "import pandas as pd\n",
    "import numpy as np \n",
    "import matplotlib.pyplot as plt\n",
    "\n",
    "from sklearn.preprocessing import StandardScaler\n",
    "from sklearn.model_selection import cross_val_score\n",
    "from sklearn.pipeline import Pipeline\n",
    "from sklearn.linear_model import LinearRegression\n",
    "from sklearn.metrics import make_scorer\n",
    "from sklearn.tree import DecisionTreeRegressor\n",
    "from sklearn.ensemble import RandomForestRegressor\n",
    "from sklearn.model_selection import GridSearchCV\n",
    "from sklearn.model_selection import RandomizedSearchCV\n",
    "from sklearn. linear_model import Ridge\n",
    "from sklearn.metrics import mean_absolute_error\n",
    "from sklearn.dummy import DummyRegressor\n",
    "\n",
    "from catboost import Pool, CatBoostRegressor, cv"
   ]
  },
  {
   "cell_type": "code",
   "execution_count": 2,
   "metadata": {},
   "outputs": [],
   "source": [
    "# Зададим случайное состояние для вего проекта\n",
    "\n",
    "RANDOM_STATE = 12345"
   ]
  },
  {
   "cell_type": "code",
   "execution_count": 3,
   "metadata": {},
   "outputs": [],
   "source": [
    "# Будем выводить на экран 3 колонки датафрейма\n",
    "\n",
    "pd.set_option('display.max_columns', 3)"
   ]
  },
  {
   "cell_type": "code",
   "execution_count": 4,
   "metadata": {},
   "outputs": [],
   "source": [
    "# pd.reset_option('max_columns')"
   ]
  },
  {
   "cell_type": "markdown",
   "metadata": {},
   "source": [
    "### Загрузка и изучение файлов."
   ]
  },
  {
   "cell_type": "code",
   "execution_count": 5,
   "metadata": {},
   "outputs": [],
   "source": [
    "# Загрузим данные из файлов\n",
    "\n",
    "try:\n",
    "    df_train = pd.read_csv('/datasets/gold_industry_train.csv', index_col='date')\n",
    "    df_test = pd.read_csv('/datasets/gold_industry_test.csv', index_col='date')\n",
    "    df_full = pd.read_csv('/datasets/gold_industry_full.csv', index_col='date')\n",
    "except:\n",
    "    df_train = pd.read_csv('https://code.s3.yandex.net/datasets/gold_industry_train.csv',\\\n",
    "                           index_col='date')\n",
    "    df_test = pd.read_csv('https://code.s3.yandex.net/datasets/gold_industry_test.csv',\\\n",
    "                          index_col='date')\n",
    "    df_full = pd.read_csv('https://code.s3.yandex.net/datasets/gold_industry_full.csv',\\\n",
    "                          index_col='date')"
   ]
  },
  {
   "cell_type": "code",
   "execution_count": 6,
   "metadata": {},
   "outputs": [
    {
     "name": "stdout",
     "output_type": "stream",
     "text": [
      "Размер фрейма: (14579, 86)\n",
      "                     rougher.input.feed_au  ...  final.output.tail_sol\n",
      "date                                        ...                       \n",
      "2016-01-15 00:00:00               6.486150  ...              16.904297\n",
      "2016-01-15 01:00:00               6.478583  ...              16.634514\n",
      "2016-01-15 02:00:00               6.362222  ...              16.208849\n",
      "2016-01-15 03:00:00               6.118189  ...              16.532835\n",
      "2016-01-15 04:00:00               5.663707  ...              16.525686\n",
      "\n",
      "[5 rows x 86 columns]\n",
      "Кол-во дубликатов: 0\n",
      "secondary_cleaner.output.tail_sol                     920\n",
      "rougher.state.floatbank10_e_air                       429\n",
      "rougher.input.floatbank11_xanthate                    407\n",
      "primary_cleaner.output.concentrate_sol                265\n",
      "final.output.concentrate_sol                          192\n",
      "rougher.input.feed_size                               101\n",
      "secondary_cleaner.state.floatbank2_a_air               94\n",
      "primary_cleaner.output.concentrate_pb                  88\n",
      "rougher.input.feed_sol                                 77\n",
      "final.output.tail_pb                                   75\n",
      "rougher.input.feed_pb                                  72\n",
      "primary_cleaner.input.xanthate                         61\n",
      "primary_cleaner.output.tail_sol                        45\n",
      "rougher.input.floatbank11_sulfate                      36\n",
      "rougher.input.floatbank10_sulfate                      31\n",
      "primary_cleaner.input.depressant                       28\n",
      "primary_cleaner.input.sulfate                          23\n",
      "secondary_cleaner.state.floatbank2_b_air               22\n",
      "rougher.output.concentrate_sol                         18\n",
      "secondary_cleaner.state.floatbank3_a_air               12\n",
      "rougher.input.feed_rate                                 7\n",
      "rougher.input.floatbank10_xanthate                      7\n",
      "primary_cleaner.output.tail_pb                          6\n",
      "secondary_cleaner.state.floatbank4_a_air                5\n",
      "final.output.tail_sol                                   5\n",
      "primary_cleaner.output.tail_ag                          4\n",
      "secondary_cleaner.output.tail_pb                        4\n",
      "primary_cleaner.state.floatbank8_b_air                  3\n",
      "primary_cleaner.state.floatbank8_a_air                  3\n",
      "rougher.calculation.floatbank10_sulfate_to_au_feed      1\n",
      "dtype: int64\n",
      "------------\n",
      "\n",
      "Размер фрейма: (4860, 52)\n",
      "                     rougher.input.feed_au  ...  \\\n",
      "date                                        ...   \n",
      "2017-12-09 14:59:59               4.365491  ...   \n",
      "2017-12-09 15:59:59               4.362781  ...   \n",
      "2017-12-09 16:59:59               5.081681  ...   \n",
      "2017-12-09 17:59:59               5.145949  ...   \n",
      "2017-12-09 18:59:59               5.735249  ...   \n",
      "\n",
      "                     secondary_cleaner.state.floatbank6_a_level  \n",
      "date                                                             \n",
      "2017-12-09 14:59:59                                 -499.191575  \n",
      "2017-12-09 15:59:59                                 -500.625471  \n",
      "2017-12-09 16:59:59                                 -501.394155  \n",
      "2017-12-09 17:59:59                                 -508.337973  \n",
      "2017-12-09 18:59:59                                 -499.788805  \n",
      "\n",
      "[5 rows x 52 columns]\n",
      "Кол-во дубликатов: 0\n",
      "secondary_cleaner.state.floatbank2_a_air      126\n",
      "rougher.input.floatbank11_xanthate             46\n",
      "rougher.input.feed_size                        44\n",
      "primary_cleaner.input.xanthate                 43\n",
      "rougher.input.feed_pb                          28\n",
      "rougher.input.feed_sol                         22\n",
      "primary_cleaner.input.depressant                9\n",
      "rougher.input.floatbank11_sulfate               8\n",
      "rougher.state.floatbank10_e_air                 7\n",
      "rougher.input.feed_rate                         4\n",
      "rougher.input.floatbank10_sulfate               3\n",
      "primary_cleaner.state.floatbank8_d_air          2\n",
      "primary_cleaner.state.floatbank8_c_air          2\n",
      "secondary_cleaner.state.floatbank2_b_level      1\n",
      "secondary_cleaner.state.floatbank3_a_air        1\n",
      "secondary_cleaner.state.floatbank2_b_air        1\n",
      "secondary_cleaner.state.floatbank3_a_level      1\n",
      "primary_cleaner.state.floatbank8_d_level        1\n",
      "secondary_cleaner.state.floatbank2_a_level      1\n",
      "primary_cleaner.state.floatbank8_a_air          1\n",
      "secondary_cleaner.state.floatbank3_b_air        1\n",
      "secondary_cleaner.state.floatbank3_b_level      1\n",
      "secondary_cleaner.state.floatbank4_a_level      1\n",
      "secondary_cleaner.state.floatbank4_b_air        1\n",
      "secondary_cleaner.state.floatbank4_b_level      1\n",
      "secondary_cleaner.state.floatbank5_a_air        1\n",
      "secondary_cleaner.state.floatbank5_a_level      1\n",
      "secondary_cleaner.state.floatbank5_b_air        1\n",
      "secondary_cleaner.state.floatbank5_b_level      1\n",
      "secondary_cleaner.state.floatbank6_a_air        1\n",
      "dtype: int64\n",
      "------------\n",
      "\n",
      "Размер фрейма: (19439, 86)\n",
      "                     rougher.input.feed_au  ...  final.output.tail_sol\n",
      "date                                        ...                       \n",
      "2016-01-15 00:00:00               6.486150  ...              16.904297\n",
      "2016-01-15 01:00:00               6.478583  ...              16.634514\n",
      "2016-01-15 02:00:00               6.362222  ...              16.208849\n",
      "2016-01-15 03:00:00               6.118189  ...              16.532835\n",
      "2016-01-15 04:00:00               5.663707  ...              16.525686\n",
      "\n",
      "[5 rows x 86 columns]\n",
      "Кол-во дубликатов: 0\n",
      "secondary_cleaner.output.tail_sol           1748\n",
      "rougher.input.floatbank11_xanthate           453\n",
      "rougher.state.floatbank10_e_air              436\n",
      "primary_cleaner.output.concentrate_sol       370\n",
      "secondary_cleaner.state.floatbank2_a_air     220\n",
      "final.output.concentrate_sol                 211\n",
      "rougher.input.feed_size                      145\n",
      "primary_cleaner.output.concentrate_pb        116\n",
      "primary_cleaner.input.xanthate               104\n",
      "final.output.tail_pb                         101\n",
      "rougher.input.feed_pb                        100\n",
      "rougher.input.feed_sol                        99\n",
      "primary_cleaner.output.tail_sol               62\n",
      "rougher.input.floatbank11_sulfate             44\n",
      "primary_cleaner.input.depressant              37\n",
      "rougher.input.floatbank10_sulfate             34\n",
      "primary_cleaner.input.sulfate                 24\n",
      "secondary_cleaner.state.floatbank2_b_air      23\n",
      "rougher.output.concentrate_sol                23\n",
      "primary_cleaner.output.tail_pb                21\n",
      "secondary_cleaner.state.floatbank3_a_air      13\n",
      "secondary_cleaner.output.tail_pb              12\n",
      "rougher.input.feed_rate                       11\n",
      "rougher.input.floatbank10_xanthate             8\n",
      "final.output.tail_sol                          6\n",
      "secondary_cleaner.state.floatbank4_a_air       6\n",
      "primary_cleaner.state.floatbank8_b_air         4\n",
      "primary_cleaner.state.floatbank8_a_air         4\n",
      "primary_cleaner.output.tail_ag                 4\n",
      "primary_cleaner.state.floatbank8_d_air         3\n",
      "dtype: int64\n",
      "------------\n",
      "\n"
     ]
    }
   ],
   "source": [
    "# Для каждого фрейма выведем его размер, кол-во явных дубликатов и пропусков в столбцах\n",
    "\n",
    "for df in [df_train, df_test, df_full]:\n",
    "    \n",
    "    print('Размер фрейма:', df.shape)\n",
    "    print(df.head())\n",
    "    print('Кол-во дубликатов:', df.duplicated().sum())\n",
    "    print(df.isna().sum().sort_values(ascending=False).head(30))\n",
    "    print('------------\\n')"
   ]
  },
  {
   "cell_type": "code",
   "execution_count": 7,
   "metadata": {},
   "outputs": [
    {
     "data": {
      "text/plain": [
       "Index(['rougher.input.feed_au', 'rougher.input.feed_ag',\n",
       "       'rougher.input.feed_pb', 'rougher.input.feed_sol',\n",
       "       'rougher.input.feed_rate', 'rougher.input.feed_size',\n",
       "       'rougher.input.floatbank10_sulfate',\n",
       "       'rougher.input.floatbank10_xanthate', 'rougher.state.floatbank10_a_air',\n",
       "       'rougher.state.floatbank10_a_level', 'rougher.state.floatbank10_b_air',\n",
       "       'rougher.state.floatbank10_b_level', 'rougher.state.floatbank10_c_air',\n",
       "       'rougher.state.floatbank10_c_level', 'rougher.state.floatbank10_d_air',\n",
       "       'rougher.state.floatbank10_d_level', 'rougher.state.floatbank10_e_air',\n",
       "       'rougher.state.floatbank10_e_level', 'rougher.state.floatbank10_f_air',\n",
       "       'rougher.state.floatbank10_f_level',\n",
       "       'rougher.input.floatbank11_sulfate',\n",
       "       'rougher.input.floatbank11_xanthate',\n",
       "       'rougher.calculation.sulfate_to_au_concentrate',\n",
       "       'rougher.calculation.floatbank10_sulfate_to_au_feed',\n",
       "       'rougher.calculation.floatbank11_sulfate_to_au_feed',\n",
       "       'rougher.calculation.au_pb_ratio', 'rougher.output.concentrate_au',\n",
       "       'rougher.output.concentrate_ag', 'rougher.output.concentrate_pb',\n",
       "       'rougher.output.concentrate_sol', 'rougher.output.recovery',\n",
       "       'rougher.output.tail_au', 'rougher.output.tail_ag',\n",
       "       'rougher.output.tail_pb', 'rougher.output.tail_sol',\n",
       "       'primary_cleaner.input.sulfate', 'primary_cleaner.input.depressant',\n",
       "       'primary_cleaner.input.feed_size', 'primary_cleaner.input.xanthate',\n",
       "       'primary_cleaner.state.floatbank8_a_air',\n",
       "       'primary_cleaner.state.floatbank8_a_level',\n",
       "       'primary_cleaner.state.floatbank8_b_air',\n",
       "       'primary_cleaner.state.floatbank8_b_level',\n",
       "       'primary_cleaner.state.floatbank8_c_air',\n",
       "       'primary_cleaner.state.floatbank8_c_level',\n",
       "       'primary_cleaner.state.floatbank8_d_air',\n",
       "       'primary_cleaner.state.floatbank8_d_level',\n",
       "       'primary_cleaner.output.concentrate_au',\n",
       "       'primary_cleaner.output.concentrate_ag',\n",
       "       'primary_cleaner.output.concentrate_pb',\n",
       "       'primary_cleaner.output.concentrate_sol',\n",
       "       'primary_cleaner.output.tail_au', 'primary_cleaner.output.tail_ag',\n",
       "       'primary_cleaner.output.tail_pb', 'primary_cleaner.output.tail_sol',\n",
       "       'secondary_cleaner.state.floatbank2_a_air',\n",
       "       'secondary_cleaner.state.floatbank2_a_level',\n",
       "       'secondary_cleaner.state.floatbank2_b_air',\n",
       "       'secondary_cleaner.state.floatbank2_b_level',\n",
       "       'secondary_cleaner.state.floatbank3_a_air',\n",
       "       'secondary_cleaner.state.floatbank3_a_level',\n",
       "       'secondary_cleaner.state.floatbank3_b_air',\n",
       "       'secondary_cleaner.state.floatbank3_b_level',\n",
       "       'secondary_cleaner.state.floatbank4_a_air',\n",
       "       'secondary_cleaner.state.floatbank4_a_level',\n",
       "       'secondary_cleaner.state.floatbank4_b_air',\n",
       "       'secondary_cleaner.state.floatbank4_b_level',\n",
       "       'secondary_cleaner.state.floatbank5_a_air',\n",
       "       'secondary_cleaner.state.floatbank5_a_level',\n",
       "       'secondary_cleaner.state.floatbank5_b_air',\n",
       "       'secondary_cleaner.state.floatbank5_b_level',\n",
       "       'secondary_cleaner.state.floatbank6_a_air',\n",
       "       'secondary_cleaner.state.floatbank6_a_level',\n",
       "       'secondary_cleaner.output.tail_au', 'secondary_cleaner.output.tail_ag',\n",
       "       'secondary_cleaner.output.tail_pb', 'secondary_cleaner.output.tail_sol',\n",
       "       'final.output.concentrate_au', 'final.output.concentrate_ag',\n",
       "       'final.output.concentrate_pb', 'final.output.concentrate_sol',\n",
       "       'final.output.recovery', 'final.output.tail_au', 'final.output.tail_ag',\n",
       "       'final.output.tail_pb', 'final.output.tail_sol'],\n",
       "      dtype='object')"
      ]
     },
     "execution_count": 7,
     "metadata": {},
     "output_type": "execute_result"
    }
   ],
   "source": [
    "# Выведем список столбцов обучающей выборки \n",
    "\n",
    "df_train.columns"
   ]
  },
  {
   "cell_type": "markdown",
   "metadata": {},
   "source": [
    "### Проверим, правильно ли рассчитана эффективность обогащения золота. "
   ]
  },
  {
   "cell_type": "markdown",
   "metadata": {},
   "source": [
    "Напишем собственную функцию для расчета эффективности обогащения и сравним результаты ее работы с значениями из фрейма."
   ]
  },
  {
   "cell_type": "code",
   "execution_count": 8,
   "metadata": {},
   "outputs": [],
   "source": [
    "# Функиия расчета эффективности обогащения золота\n",
    "\n",
    "def calc_recovery(au_output, au_input, au_tail):\n",
    "    recovery = (au_output * (au_input - au_tail)) / (au_input * (au_output - au_tail)) * 100\n",
    "    return recovery "
   ]
  },
  {
   "cell_type": "code",
   "execution_count": 9,
   "metadata": {},
   "outputs": [
    {
     "name": "stdout",
     "output_type": "stream",
     "text": [
      "9.83758577644259e-15\n"
     ]
    }
   ],
   "source": [
    "# Рассчитаем среднюю абсолютныую ошибку между данными об эффективнотси обогащения из дата-фрейма и рассчитанными \n",
    "# по формуле\n",
    "\n",
    "mae = mean_absolute_error(df_train['rougher.output.recovery'],\\\n",
    "calc_recovery(df_train['rougher.output.concentrate_au'], \\\n",
    "              df_train['rougher.input.feed_au'], df_train['rougher.output.tail_au']))\n",
    "print(mae)"
   ]
  },
  {
   "cell_type": "markdown",
   "metadata": {},
   "source": [
    "*Промежуточные выводы:*\n",
    "\n",
    "Ошибка очень мала, поэтому считаем, что эффективность обогащения на этапе флотации в обучающей выборке рассчитана верно."
   ]
  },
  {
   "cell_type": "markdown",
   "metadata": {},
   "source": [
    "### Проанализируем признаки, недоступные в тестовой выборке."
   ]
  },
  {
   "cell_type": "code",
   "execution_count": 10,
   "metadata": {},
   "outputs": [
    {
     "name": "stdout",
     "output_type": "stream",
     "text": [
      "                                                    0\n",
      "0                         final.output.concentrate_au\n",
      "1                              rougher.output.tail_pb\n",
      "2                    secondary_cleaner.output.tail_pb\n",
      "3                                final.output.tail_pb\n",
      "4                     rougher.calculation.au_pb_ratio\n",
      "5                                final.output.tail_au\n",
      "6                              rougher.output.tail_au\n",
      "7                                final.output.tail_ag\n",
      "8                   secondary_cleaner.output.tail_sol\n",
      "9   rougher.calculation.floatbank11_sulfate_to_au_...\n",
      "10                            rougher.output.recovery\n",
      "11              primary_cleaner.output.concentrate_ag\n",
      "12                   secondary_cleaner.output.tail_ag\n",
      "13                      rougher.output.concentrate_ag\n",
      "14                     primary_cleaner.output.tail_ag\n",
      "15              primary_cleaner.output.concentrate_au\n",
      "16              primary_cleaner.output.concentrate_pb\n",
      "17                      rougher.output.concentrate_au\n",
      "18      rougher.calculation.sulfate_to_au_concentrate\n",
      "19             primary_cleaner.output.concentrate_sol\n",
      "20                     rougher.output.concentrate_sol\n",
      "21                   secondary_cleaner.output.tail_au\n",
      "22                     primary_cleaner.output.tail_au\n",
      "23                        final.output.concentrate_pb\n",
      "24                            rougher.output.tail_sol\n",
      "25                             rougher.output.tail_ag\n",
      "26                     primary_cleaner.output.tail_pb\n",
      "27                              final.output.tail_sol\n",
      "28  rougher.calculation.floatbank10_sulfate_to_au_...\n",
      "29                              final.output.recovery\n",
      "30                    primary_cleaner.output.tail_sol\n",
      "31                       final.output.concentrate_sol\n",
      "32                      rougher.output.concentrate_pb\n",
      "33                        final.output.concentrate_ag\n"
     ]
    }
   ],
   "source": [
    "# Выведем колонки, которые есть в обучающей выборке, но отстуствуют в тестовой\n",
    "\n",
    "cols_train_only = pd.DataFrame(set(df_train.columns) - set(df_test.columns))\n",
    "print(cols_train_only)"
   ]
  },
  {
   "cell_type": "code",
   "execution_count": 11,
   "metadata": {},
   "outputs": [
    {
     "data": {
      "text/plain": [
       "rougher.input.feed_au      float64\n",
       "rougher.input.feed_ag      float64\n",
       "rougher.input.feed_pb      float64\n",
       "rougher.input.feed_sol     float64\n",
       "rougher.input.feed_rate    float64\n",
       "                            ...   \n",
       "final.output.recovery      float64\n",
       "final.output.tail_au       float64\n",
       "final.output.tail_ag       float64\n",
       "final.output.tail_pb       float64\n",
       "final.output.tail_sol      float64\n",
       "Length: 86, dtype: object"
      ]
     },
     "execution_count": 11,
     "metadata": {},
     "output_type": "execute_result"
    }
   ],
   "source": [
    "# Выфведем типы этих колонок\n",
    "\n",
    "df_train[cols_train_only].dtypes"
   ]
  },
  {
   "cell_type": "markdown",
   "metadata": {},
   "source": [
    "*Промежуточные выводы:*\n",
    "\n",
    "В тестовой выборке отсутствуют **выходные** данные по всем составляющим, т.е. отсутствуют данные о содержании составляющих и в концентратах, и в хвостах как для промежуточных этапов, так и для финальной стадии. Соответственнно не рассчитана и эффективность обогащения как по этапам, так и итоговая. Также в тестовой выборке отсутствуют расчетные столбцы. Все отстутствующие данные числовые."
   ]
  },
  {
   "cell_type": "markdown",
   "metadata": {},
   "source": [
    "### Предобработка данных"
   ]
  },
  {
   "cell_type": "code",
   "execution_count": 12,
   "metadata": {},
   "outputs": [
    {
     "name": "stdout",
     "output_type": "stream",
     "text": [
      "3050\n",
      "0\n",
      "375\n",
      "0\n",
      "4481\n",
      "0\n"
     ]
    }
   ],
   "source": [
    "''' Заполним пропуки во всех выборках предыдущими ненулевыми значениями из соответствующих столбцов, так как\n",
    "соседние по времени параметры часто похожи. Выведем суммарное кол-во пропусков  в выборках \n",
    "до замены и после.'''\n",
    "\n",
    "for df in [df_train, df_test, df_full]:\n",
    "    print(df.isna().sum().sum())\n",
    "    df.fillna(method='ffill', inplace=True)\n",
    "    print(df.isna().sum().sum())"
   ]
  },
  {
   "cell_type": "markdown",
   "metadata": {},
   "source": [
    "*Промежуточные выводы:*\n",
    "\n",
    "Заполнили пропуки во всех выборках предыдущими ненулевыми значениями из соответствующих столбцов."
   ]
  },
  {
   "cell_type": "markdown",
   "metadata": {},
   "source": [
    "## Анализ данных"
   ]
  },
  {
   "cell_type": "markdown",
   "metadata": {},
   "source": [
    "### Посмотрим, как меняется концентрация металлов (Au, Ag, Pb) на различных этапах"
   ]
  },
  {
   "cell_type": "code",
   "execution_count": 13,
   "metadata": {},
   "outputs": [
    {
     "data": {
      "text/plain": [
       "Index(['rougher.input.feed_au', 'rougher.input.feed_ag',\n",
       "       'rougher.input.feed_pb', 'rougher.input.feed_sol',\n",
       "       'rougher.input.feed_rate', 'rougher.input.feed_size',\n",
       "       'rougher.input.floatbank10_sulfate',\n",
       "       'rougher.input.floatbank10_xanthate', 'rougher.state.floatbank10_a_air',\n",
       "       'rougher.state.floatbank10_a_level', 'rougher.state.floatbank10_b_air',\n",
       "       'rougher.state.floatbank10_b_level', 'rougher.state.floatbank10_c_air',\n",
       "       'rougher.state.floatbank10_c_level', 'rougher.state.floatbank10_d_air',\n",
       "       'rougher.state.floatbank10_d_level', 'rougher.state.floatbank10_e_air',\n",
       "       'rougher.state.floatbank10_e_level', 'rougher.state.floatbank10_f_air',\n",
       "       'rougher.state.floatbank10_f_level',\n",
       "       'rougher.input.floatbank11_sulfate',\n",
       "       'rougher.input.floatbank11_xanthate',\n",
       "       'rougher.calculation.sulfate_to_au_concentrate',\n",
       "       'rougher.calculation.floatbank10_sulfate_to_au_feed',\n",
       "       'rougher.calculation.floatbank11_sulfate_to_au_feed',\n",
       "       'rougher.calculation.au_pb_ratio', 'rougher.output.concentrate_au',\n",
       "       'rougher.output.concentrate_ag', 'rougher.output.concentrate_pb',\n",
       "       'rougher.output.concentrate_sol', 'rougher.output.recovery',\n",
       "       'rougher.output.tail_au', 'rougher.output.tail_ag',\n",
       "       'rougher.output.tail_pb', 'rougher.output.tail_sol',\n",
       "       'primary_cleaner.input.sulfate', 'primary_cleaner.input.depressant',\n",
       "       'primary_cleaner.input.feed_size', 'primary_cleaner.input.xanthate',\n",
       "       'primary_cleaner.state.floatbank8_a_air',\n",
       "       'primary_cleaner.state.floatbank8_a_level',\n",
       "       'primary_cleaner.state.floatbank8_b_air',\n",
       "       'primary_cleaner.state.floatbank8_b_level',\n",
       "       'primary_cleaner.state.floatbank8_c_air',\n",
       "       'primary_cleaner.state.floatbank8_c_level',\n",
       "       'primary_cleaner.state.floatbank8_d_air',\n",
       "       'primary_cleaner.state.floatbank8_d_level',\n",
       "       'primary_cleaner.output.concentrate_au',\n",
       "       'primary_cleaner.output.concentrate_ag',\n",
       "       'primary_cleaner.output.concentrate_pb',\n",
       "       'primary_cleaner.output.concentrate_sol',\n",
       "       'primary_cleaner.output.tail_au', 'primary_cleaner.output.tail_ag',\n",
       "       'primary_cleaner.output.tail_pb', 'primary_cleaner.output.tail_sol',\n",
       "       'secondary_cleaner.state.floatbank2_a_air',\n",
       "       'secondary_cleaner.state.floatbank2_a_level',\n",
       "       'secondary_cleaner.state.floatbank2_b_air',\n",
       "       'secondary_cleaner.state.floatbank2_b_level',\n",
       "       'secondary_cleaner.state.floatbank3_a_air',\n",
       "       'secondary_cleaner.state.floatbank3_a_level',\n",
       "       'secondary_cleaner.state.floatbank3_b_air',\n",
       "       'secondary_cleaner.state.floatbank3_b_level',\n",
       "       'secondary_cleaner.state.floatbank4_a_air',\n",
       "       'secondary_cleaner.state.floatbank4_a_level',\n",
       "       'secondary_cleaner.state.floatbank4_b_air',\n",
       "       'secondary_cleaner.state.floatbank4_b_level',\n",
       "       'secondary_cleaner.state.floatbank5_a_air',\n",
       "       'secondary_cleaner.state.floatbank5_a_level',\n",
       "       'secondary_cleaner.state.floatbank5_b_air',\n",
       "       'secondary_cleaner.state.floatbank5_b_level',\n",
       "       'secondary_cleaner.state.floatbank6_a_air',\n",
       "       'secondary_cleaner.state.floatbank6_a_level',\n",
       "       'secondary_cleaner.output.tail_au', 'secondary_cleaner.output.tail_ag',\n",
       "       'secondary_cleaner.output.tail_pb', 'secondary_cleaner.output.tail_sol',\n",
       "       'final.output.concentrate_au', 'final.output.concentrate_ag',\n",
       "       'final.output.concentrate_pb', 'final.output.concentrate_sol',\n",
       "       'final.output.recovery', 'final.output.tail_au', 'final.output.tail_ag',\n",
       "       'final.output.tail_pb', 'final.output.tail_sol'],\n",
       "      dtype='object')"
      ]
     },
     "execution_count": 13,
     "metadata": {},
     "output_type": "execute_result"
    }
   ],
   "source": [
    "# Выведем список колонок\n",
    "\n",
    "df_full.columns"
   ]
  },
  {
   "cell_type": "code",
   "execution_count": 14,
   "metadata": {},
   "outputs": [
    {
     "data": {
      "text/plain": [
       "Text(0.5, 1.0, 'Концентрация золота по стадиям обогащения')"
      ]
     },
     "execution_count": 14,
     "metadata": {},
     "output_type": "execute_result"
    },
    {
     "data": {
      "image/png": "[encoded data removed]",
      "text/plain": [
       "<Figure size 640x480 with 1 Axes>"
      ]
     },
     "metadata": {},
     "output_type": "display_data"
    }
   ],
   "source": [
    "# Выведем гистограммы концентрации золота по стадиям\n",
    "\n",
    "ax1 = df_full['rougher.input.feed_au'].plot(kind='hist', histtype='stepfilled', alpha=0.4)\n",
    "ax2 = df_full['rougher.output.concentrate_au'].plot(kind='hist', histtype='stepfilled', alpha=0.4)\n",
    "ax3 = df_full['primary_cleaner.output.concentrate_au'].plot(kind='hist', histtype='stepfilled', alpha=0.4)\n",
    "ax4 = df_full['final.output.concentrate_au'].plot(kind='hist', histtype='stepfilled', alpha=0.4)\n",
    "plt.legend(['Input','Rougher','Primary', 'Final'], loc='upper left')\n",
    "plt.title('Концентрация золота по стадиям обогащения')"
   ]
  },
  {
   "cell_type": "code",
   "execution_count": 15,
   "metadata": {},
   "outputs": [
    {
     "data": {
      "text/plain": [
       "Text(0.5, 1.0, 'Концентрация серебра по стадиям обогащения')"
      ]
     },
     "execution_count": 15,
     "metadata": {},
     "output_type": "execute_result"
    },
    {
     "data": {
      "image/png": "[encoded data removed]",
      "text/plain": [
       "<Figure size 640x480 with 1 Axes>"
      ]
     },
     "metadata": {},
     "output_type": "display_data"
    }
   ],
   "source": [
    "# Выведем гистограммы концентрации серебра по стадиям обогащения\n",
    "\n",
    "ax1 = df_full['rougher.input.feed_ag'].plot(kind='hist', histtype='stepfilled', alpha=0.4)\n",
    "ax2 = df_full['rougher.output.concentrate_ag'].plot(kind='hist', histtype='stepfilled', alpha=0.4)\n",
    "ax3 = df_full['primary_cleaner.output.concentrate_ag'].plot(kind='hist', histtype='stepfilled', alpha=0.4)\n",
    "ax4 = df_full['final.output.concentrate_ag'].plot(kind='hist', histtype='stepfilled', alpha=0.4)\n",
    "plt.legend(['Input','Rougher','Primary', 'Final'], loc='upper right')\n",
    "plt.title('Концентрация серебра по стадиям обогащения')"
   ]
  },
  {
   "cell_type": "code",
   "execution_count": 16,
   "metadata": {},
   "outputs": [
    {
     "data": {
      "text/plain": [
       "Text(0.5, 1.0, 'Концентрация свинца по стадиям обогащения')"
      ]
     },
     "execution_count": 16,
     "metadata": {},
     "output_type": "execute_result"
    },
    {
     "data": {
      "image/png": "[encoded data removed]",
      "text/plain": [
       "<Figure size 640x480 with 1 Axes>"
      ]
     },
     "metadata": {},
     "output_type": "display_data"
    }
   ],
   "source": [
    "# Выведем гистограммы концентрации свинца по стадиям обогащения\n",
    "\n",
    "ax1 = df_full['rougher.input.feed_pb'].plot(kind='hist', histtype='stepfilled', alpha=0.4)\n",
    "ax2 = df_full['rougher.output.concentrate_pb'].plot(kind='hist', histtype='stepfilled', alpha=0.4)\n",
    "ax3 = df_full['primary_cleaner.output.concentrate_pb'].plot(kind='hist', histtype='stepfilled', alpha=0.4)\n",
    "ax4 = df_full['final.output.concentrate_pb'].plot(kind='hist', histtype='stepfilled', alpha=0.4)\n",
    "plt.legend(['Input','Rougher','Primary', 'Final'], loc='upper right')\n",
    "plt.title('Концентрация свинца по стадиям обогащения')"
   ]
  },
  {
   "cell_type": "markdown",
   "metadata": {},
   "source": [
    "*Промежуточные выводы:*\n",
    "- Концентрация золота от стадии к стадии растет -  это и есть цель технологического процесса;\n",
    "- Концентрация серебра растет на стадии флотации, однако дальнейшая очистка уменьшает его концентрацию до значений меньше исходных, вероятно основная часть серебра уходит в хвосты;\n",
    "- Концентрация свинца также растет на стадиях флотации и первичной очистки, однако вторичная очистка ее повышает незначительно;"
   ]
  },
  {
   "cell_type": "markdown",
   "metadata": {},
   "source": [
    "### Сравним распределения размеров гранул исходного сырья на обучающей и тестовой выборках."
   ]
  },
  {
   "cell_type": "code",
   "execution_count": 17,
   "metadata": {},
   "outputs": [
    {
     "data": {
      "text/plain": [
       "Text(0.5, 1.0, 'Фракционный состав сырья в выборках')"
      ]
     },
     "execution_count": 17,
     "metadata": {},
     "output_type": "execute_result"
    },
    {
     "data": {
      "image/png": "[encoded data removed]",
      "text/plain": [
       "<Figure size 640x480 with 1 Axes>"
      ]
     },
     "metadata": {},
     "output_type": "display_data"
    }
   ],
   "source": [
    "ax1= df_train['rougher.input.feed_size'].plot(kind='hist', density=True, alpha=0.4, bins=30)\n",
    "ax2= df_test['rougher.input.feed_size'].plot(kind='hist', density=True, alpha=0.4, bins=30)\n",
    "plt.legend(['Train', 'Test'], loc='upper right')\n",
    "plt.title('Фракционный состав сырья в выборках')"
   ]
  },
  {
   "cell_type": "markdown",
   "metadata": {},
   "source": [
    "*Промежуточный вывод:*\n",
    "\n",
    "Распределения несильно отличаются друг от друга, оценка модели будет нормальной."
   ]
  },
  {
   "cell_type": "markdown",
   "metadata": {},
   "source": [
    "### Исследуем суммарную концентрацию металлов на разных стадиях."
   ]
  },
  {
   "cell_type": "code",
   "execution_count": 18,
   "metadata": {},
   "outputs": [],
   "source": [
    "# Создадим списки колонок для суммирования по каждому из этапов\n",
    "\n",
    "input_cols = ['rougher.input.feed_au', 'rougher.input.feed_ag',\\\n",
    "              'rougher.input.feed_pb', 'rougher.input.feed_sol']\n",
    "rougher_cols = ['rougher.output.concentrate_au','rougher.output.concentrate_ag',\\\n",
    "                'rougher.output.concentrate_pb', 'rougher.output.concentrate_sol']\n",
    "primary_cols = ['primary_cleaner.output.concentrate_au',\\\n",
    "                'primary_cleaner.output.concentrate_ag',\\\n",
    "                'primary_cleaner.output.concentrate_pb',\\\n",
    "                'primary_cleaner.output.concentrate_sol']\n",
    "final_cols = ['final.output.concentrate_au', 'final.output.concentrate_ag',\\\n",
    "              'final.output.concentrate_pb', 'final.output.concentrate_sol']\n",
    "\n",
    "\n",
    "df_full['input'] = df_full[input_cols].sum(axis=1)\n",
    "df_full['rougher'] = df_full[rougher_cols].sum(axis=1)\n",
    "df_full['primary'] = df_full[primary_cols].sum(axis=1)   \n",
    "df_full['final'] = df_full[final_cols].sum(axis=1)\n"
   ]
  },
  {
   "cell_type": "code",
   "execution_count": 19,
   "metadata": {},
   "outputs": [
    {
     "data": {
      "text/plain": [
       "Text(0.5, 1.0, 'Суммарная концентрация металлов по стадиям обогащения')"
      ]
     },
     "execution_count": 19,
     "metadata": {},
     "output_type": "execute_result"
    },
    {
     "data": {
      "image/png": "[encoded data removed]",
      "text/plain": [
       "<Figure size 1000x800 with 1 Axes>"
      ]
     },
     "metadata": {},
     "output_type": "display_data"
    }
   ],
   "source": [
    "# Построим график распределения суммарной концентрации металлов по этапам\n",
    "\n",
    "plt.figure(figsize=(10,8), dpi=100)\n",
    "ax1 = df_full['input'].plot(kind='hist', histtype='stepfilled', alpha=0.4, bins=30)\n",
    "ax2 = df_full['rougher'].plot(kind='hist', histtype='stepfilled', alpha=0.4, bins=30)\n",
    "ax3 = df_full['primary'].plot(kind='hist', histtype='stepfilled', alpha=0.4, bins=30)\n",
    "ax4 = df_full['final'].plot(kind='hist', histtype='stepfilled', alpha=0.4, bins=30)\n",
    "plt.legend(['Input','Rougher','Primary', 'Final'], loc='upper left')\n",
    "plt.title('Суммарная концентрация металлов по стадиям обогащения')"
   ]
  },
  {
   "cell_type": "markdown",
   "metadata": {},
   "source": [
    "*Промежуточный вывод:*\n",
    "- Суммарная концентрация металлов растет после флотации и падает после первичной очистки (скорее всего из-за ухода серебра в хвосты и снова возрастает после вторичной очистки;\n",
    "- В какие-то моменты времени суммарная концентрации на каждой отдельной стадии равна нулю, возможно в эти моменты проходила несодержащая металлов пустая порода;\n"
   ]
  },
  {
   "cell_type": "markdown",
   "metadata": {},
   "source": [
    "Удалим в обучающей выборке строки с нулевой концентрацией металлов на любой из стадий.  "
   ]
  },
  {
   "cell_type": "code",
   "execution_count": 20,
   "metadata": {},
   "outputs": [
    {
     "name": "stdout",
     "output_type": "stream",
     "text": [
      "(14579, 86)\n",
      "(13988, 86)\n"
     ]
    }
   ],
   "source": [
    "# Из исходного дата-фрейма получим индексы строк, удовлетворяющих условии наличия нулевых\n",
    "# значений хотя бы в одном из столбцов с суммарной концентрацией металлов, удалим из\n",
    "# обучающей выборки строки с соответствующими индексами. \n",
    "\n",
    "print(df_train.shape)\n",
    "df_train.drop(df_full[(df_full['rougher'] ==0) | (df_full['primary'] ==0) |\\\n",
    "                     (df_full['final'] ==0)].index, inplace=True)\n",
    "print(df_train.shape)"
   ]
  },
  {
   "cell_type": "markdown",
   "metadata": {},
   "source": [
    "## Модель"
   ]
  },
  {
   "cell_type": "markdown",
   "metadata": {},
   "source": [
    "### Напишем функцию для вычисления итоговой sMAPE."
   ]
  },
  {
   "cell_type": "code",
   "execution_count": 21,
   "metadata": {},
   "outputs": [],
   "source": [
    "# Функия расчета симметричного среднего абсолютного процентного отклонения\n",
    "\n",
    "def s_mape(target, predictions):\n",
    "    return np.mean(np.abs(target - predictions) * 2 / (np.abs(target) + np.abs(predictions))) * 100\n"
   ]
  },
  {
   "cell_type": "code",
   "execution_count": 22,
   "metadata": {},
   "outputs": [],
   "source": [
    "# Функция расчета итоговой метрики\n",
    "\n",
    "def final_smape(smape_rougher, smape_final):\n",
    "    return 0.25 * smape_rougher + 0.75 * smape_final"
   ]
  },
  {
   "cell_type": "code",
   "execution_count": 23,
   "metadata": {},
   "outputs": [],
   "source": [
    "smape_score = make_scorer(s_mape, greater_is_better=False)"
   ]
  },
  {
   "cell_type": "markdown",
   "metadata": {},
   "source": [
    "Подготовим обучающую выборку. Удалим из нее столбцы, которых нет в тестовой. Разделим на признаки и целевые признаки для обучения моделей чернового и финального концентратов (не все признаки для модели финального концентрата можно использовать для чернового, так как часть из них никак не влияет на процесс получения чернового концентрата, потому что участвует в техпроцессе уже после получения чернового). "
   ]
  },
  {
   "cell_type": "code",
   "execution_count": 24,
   "metadata": {},
   "outputs": [],
   "source": [
    "# # Выведем список колонок тестовой выборки\n",
    "\n",
    "# df_test.columns"
   ]
  },
  {
   "cell_type": "code",
   "execution_count": 25,
   "metadata": {},
   "outputs": [
    {
     "name": "stdout",
     "output_type": "stream",
     "text": [
      "(13988, 22)\n",
      "(13988, 52)\n"
     ]
    }
   ],
   "source": [
    "# Создадим список признаков для модели чернового концентрата\n",
    "\n",
    "rougher_features = ['rougher.input.feed_au', 'rougher.input.feed_ag',\n",
    "       'rougher.input.feed_pb', 'rougher.input.feed_sol',\n",
    "       'rougher.input.feed_rate', 'rougher.input.feed_size',\n",
    "       'rougher.input.floatbank10_sulfate',\n",
    "       'rougher.input.floatbank10_xanthate', 'rougher.state.floatbank10_a_air',\n",
    "       'rougher.state.floatbank10_a_level', 'rougher.state.floatbank10_b_air',\n",
    "       'rougher.state.floatbank10_b_level', 'rougher.state.floatbank10_c_air',\n",
    "       'rougher.state.floatbank10_c_level', 'rougher.state.floatbank10_d_air',\n",
    "       'rougher.state.floatbank10_d_level', 'rougher.state.floatbank10_e_air',\n",
    "       'rougher.state.floatbank10_e_level', 'rougher.state.floatbank10_f_air',\n",
    "       'rougher.state.floatbank10_f_level',\n",
    "       'rougher.input.floatbank11_sulfate',\n",
    "       'rougher.input.floatbank11_xanthate']\n",
    "\n",
    "# Создадим отдельные признака для обучения моделей чернового и финального концентратов и выведем\n",
    "# их размер\n",
    "\n",
    "features_train_final = df_train[df_test.columns]\n",
    "features_train_rougher = df_train[rougher_features]\n",
    "print(features_train_rougher.shape)\n",
    "print(features_train_final.shape)"
   ]
  },
  {
   "cell_type": "code",
   "execution_count": 26,
   "metadata": {},
   "outputs": [],
   "source": [
    "# Создадим отдельные целевые признака для обучения моделей чернового и финального концентратов\n",
    "# и выведем их размер\n",
    "\n",
    "target_train_rougher = df_train['rougher.output.concentrate_au']\n",
    "target_train_final = df_train['final.output.concentrate_au']"
   ]
  },
  {
   "cell_type": "markdown",
   "metadata": {},
   "source": [
    "### Обучим разные модели и оцените их качество кросс-валидацией"
   ]
  },
  {
   "cell_type": "markdown",
   "metadata": {},
   "source": [
    "#### Модель линейной регрессии"
   ]
  },
  {
   "cell_type": "code",
   "execution_count": 27,
   "metadata": {},
   "outputs": [],
   "source": [
    "# Pipeline для масштабирования признаков и обучения модели для линейной регрессии\n",
    "\n",
    "pipe_reg = Pipeline(steps=[\n",
    "    ('scaler',StandardScaler()),\n",
    "    ('reg', LinearRegression())\n",
    "], verbose=False)"
   ]
  },
  {
   "cell_type": "code",
   "execution_count": 28,
   "metadata": {},
   "outputs": [
    {
     "name": "stdout",
     "output_type": "stream",
     "text": [
      "Cреднее значение sMAPE чернового концентрата при кросс-валидации: 7.601\n",
      "Cреднее значение sMAPE финального концентрата при кросс-валидации: 6.211\n",
      "Среднее значение итогового sMApe при кросс-валидации: 6.558\n"
     ]
    }
   ],
   "source": [
    "# Кросс-валидация модели через pipeline\n",
    "    \n",
    "# Обучение модели и подсчет метрики для чернового концентрата\n",
    "\n",
    "rougher_scores = -cross_val_score(pipe_reg, features_train_rougher, target_train_rougher,\\\n",
    "                                  cv=5, scoring=smape_score) \n",
    "smape_rougher = rougher_scores.mean()\n",
    "print(f'Cреднее значение sMAPE чернового концентрата при кросс-валидации: {smape_rougher:0.3f}')\n",
    "\n",
    "# Обучение модели и подсчет метрики для финального концентрата\n",
    "\n",
    "final_scores = -cross_val_score(pipe_reg, features_train_final, target_train_final,\\\n",
    "                                cv=5, scoring=smape_score) \n",
    "smape_final = final_scores.mean()\n",
    "print(f'Cреднее значение sMAPE финального концентрата при кросс-валидации: {smape_final:0.3f}')\n",
    "\n",
    "# Подсчет итоговой метрики\n",
    "\n",
    "total_smape_reg = final_smape(smape_rougher, smape_final)\n",
    "print(f'Среднее значение итогового sMApe при кросс-валидации: {total_smape_reg:0.3f}')\n"
   ]
  },
  {
   "cell_type": "markdown",
   "metadata": {},
   "source": [
    "#### Модель решающего дерева."
   ]
  },
  {
   "cell_type": "code",
   "execution_count": 29,
   "metadata": {},
   "outputs": [],
   "source": [
    "# Pipeline для масштабирования признаков и обучения модели дерева решений\n",
    "\n",
    "pipe_tree = Pipeline(steps=[\n",
    "    ('scaler',StandardScaler()),\n",
    "    ('tree', DecisionTreeRegressor(random_state=RANDOM_STATE))\n",
    "], verbose=False)"
   ]
  },
  {
   "cell_type": "code",
   "execution_count": 30,
   "metadata": {},
   "outputs": [],
   "source": [
    "# Параметры для GridseachCV\n",
    "\n",
    "grid_space_tree={'tree__max_depth': [2,5,10,20],\n",
    "            'tree__max_features':[1,3,5,10],\n",
    "            'tree__min_samples_leaf':[1,2,3],\n",
    "            'tree__min_samples_split':[2,3]\n",
    "           }"
   ]
  },
  {
   "cell_type": "code",
   "execution_count": 31,
   "metadata": {},
   "outputs": [],
   "source": [
    "# Создадим подборщик параметров для модели дерева решений\n",
    "\n",
    "tree_grid = GridSearchCV(pipe_tree,param_grid=grid_space_tree,n_jobs=-1,scoring=smape_score)"
   ]
  },
  {
   "cell_type": "code",
   "execution_count": 32,
   "metadata": {},
   "outputs": [
    {
     "name": "stdout",
     "output_type": "stream",
     "text": [
      "Wall time: 29.3 s\n"
     ]
    }
   ],
   "source": [
    "%%time\n",
    "\n",
    "# Обучение модели дерева, подбор параметров и подсчет метрики для чернового концентрата\n",
    "\n",
    "tree_model_grid_rougher = tree_grid.fit(features_train_rougher, target_train_rougher)\n",
    "\n",
    "smape_tree_rougher = -tree_model_grid_rougher.best_score_\n",
    "params_tree_rougher = tree_model_grid_rougher.best_params_"
   ]
  },
  {
   "cell_type": "code",
   "execution_count": 33,
   "metadata": {},
   "outputs": [
    {
     "name": "stdout",
     "output_type": "stream",
     "text": [
      "Wall time: 29.8 s\n"
     ]
    }
   ],
   "source": [
    "%%time\n",
    "\n",
    "# Обучение модели дерева, подбор параметров и подсчет метрики для финального концентрата\n",
    "\n",
    "tree_model_grid_final = tree_grid.fit(features_train_final, target_train_final)\n",
    "\n",
    "smape_tree_final = -tree_model_grid_final.best_score_\n",
    "params_tree_final = tree_model_grid_final.best_params_"
   ]
  },
  {
   "cell_type": "code",
   "execution_count": 34,
   "metadata": {},
   "outputs": [
    {
     "name": "stdout",
     "output_type": "stream",
     "text": [
      "Cреднее значение sMAPE чернового концентрата при кросс-валидации: 9.557\n",
      "Cреднее значение sMAPE финального концентрата при кросс-валидации: 5.974\n",
      "Среднее значение итогового sMApe при кросс-валидации: 6.869\n"
     ]
    }
   ],
   "source": [
    "print(f'Cреднее значение sMAPE чернового концентрата при кросс-валидации: {smape_tree_rougher:0.3f}')\n",
    "print(f'Cреднее значение sMAPE финального концентрата при кросс-валидации: {smape_tree_final:0.3f}')\n",
    "\n",
    "total_smape_tree = final_smape(smape_tree_rougher, smape_tree_final)\n",
    "print(f'Среднее значение итогового sMApe при кросс-валидации: {total_smape_tree:0.3f}')"
   ]
  },
  {
   "cell_type": "markdown",
   "metadata": {},
   "source": [
    "#### Модель случайного леса."
   ]
  },
  {
   "cell_type": "code",
   "execution_count": 35,
   "metadata": {},
   "outputs": [],
   "source": [
    "# Pipeline для масштабирования признаков и обучения модели случайного леса\n",
    "\n",
    "pipe_forest = Pipeline(steps=[\n",
    "    ('scaler',StandardScaler()),\n",
    "    ('forest', RandomForestRegressor(random_state=RANDOM_STATE))\n",
    "], verbose=False)"
   ]
  },
  {
   "cell_type": "code",
   "execution_count": 36,
   "metadata": {},
   "outputs": [],
   "source": [
    "# Параметры для GridseachCV случайного леса\n",
    "\n",
    "grid_space_forest = {'forest__max_depth': [2,5,10,15,20],\n",
    "                    'forest__n_estimators':[2,5,10,15,20],\n",
    "                    'forest__max_features':[1,3,5,7,10],\n",
    "                    'forest__min_samples_leaf':[1,2,3],\n",
    "                    'forest__min_samples_split':[2,3]\n",
    "                    }"
   ]
  },
  {
   "cell_type": "code",
   "execution_count": 37,
   "metadata": {},
   "outputs": [],
   "source": [
    "forest_grid_random = RandomizedSearchCV(pipe_forest,param_distributions=grid_space_forest,\\\n",
    "                                        n_jobs=-1,scoring=smape_score)"
   ]
  },
  {
   "cell_type": "code",
   "execution_count": 38,
   "metadata": {},
   "outputs": [
    {
     "name": "stdout",
     "output_type": "stream",
     "text": [
      "Wall time: 37.1 s\n"
     ]
    }
   ],
   "source": [
    "%%time\n",
    "\n",
    "# Обучение модели случайного леса, подбор параметров и подсчет метрики для чернового концентрата\n",
    "\n",
    "forest_model_rougher = forest_grid_random.fit(features_train_rougher, target_train_rougher)\n",
    "\n",
    "smape_forest_rougher = -forest_model_rougher.best_score_\n",
    "params_forest_rougher = forest_model_rougher.best_params_"
   ]
  },
  {
   "cell_type": "code",
   "execution_count": 39,
   "metadata": {},
   "outputs": [
    {
     "data": {
      "text/plain": [
       "{'forest__n_estimators': 20,\n",
       " 'forest__min_samples_split': 2,\n",
       " 'forest__min_samples_leaf': 3,\n",
       " 'forest__max_features': 10,\n",
       " 'forest__max_depth': 5}"
      ]
     },
     "execution_count": 39,
     "metadata": {},
     "output_type": "execute_result"
    }
   ],
   "source": [
    "params_forest_rougher"
   ]
  },
  {
   "cell_type": "code",
   "execution_count": 40,
   "metadata": {},
   "outputs": [
    {
     "name": "stdout",
     "output_type": "stream",
     "text": [
      "Wall time: 41.5 s\n"
     ]
    }
   ],
   "source": [
    "%%time\n",
    "\n",
    "# Обучение случайного леса, подбор параметров и подсчет метрики для финального концентрата\n",
    "\n",
    "forest_model_final = forest_grid_random.fit(features_train_final, target_train_final)\n",
    "\n",
    "smape_forest_final = -forest_model_final.best_score_\n",
    "params_forest_final = forest_model_final.best_params_"
   ]
  },
  {
   "cell_type": "code",
   "execution_count": 41,
   "metadata": {},
   "outputs": [
    {
     "data": {
      "text/plain": [
       "{'forest__n_estimators': 15,\n",
       " 'forest__min_samples_split': 3,\n",
       " 'forest__min_samples_leaf': 1,\n",
       " 'forest__max_features': 10,\n",
       " 'forest__max_depth': 2}"
      ]
     },
     "execution_count": 41,
     "metadata": {},
     "output_type": "execute_result"
    }
   ],
   "source": [
    "params_forest_final"
   ]
  },
  {
   "cell_type": "code",
   "execution_count": 42,
   "metadata": {
    "scrolled": true
   },
   "outputs": [
    {
     "name": "stdout",
     "output_type": "stream",
     "text": [
      "Cреднее значение sMAPE чернового концентрата при кросс-валидации:8.674\n",
      "Cреднее значение sMAPE финального концентрата при кросс-валидации:5.791\n",
      "Среднее значение итогового sMApe при кросс-валидации: 6.511\n"
     ]
    }
   ],
   "source": [
    "print(f'Cреднее значение sMAPE чернового концентрата при кросс-валидации:\\\n",
    "{smape_forest_rougher:0.3f}')\n",
    "print(f'Cреднее значение sMAPE финального концентрата при кросс-валидации:\\\n",
    "{smape_forest_final:0.3f}')\n",
    "\n",
    "total_smape_forest = final_smape(smape_forest_rougher, smape_forest_final)\n",
    "print(f'Среднее значение итогового sMApe при кросс-валидации: {total_smape_forest:0.3f}')"
   ]
  },
  {
   "cell_type": "markdown",
   "metadata": {},
   "source": [
    "#### Модель Ridge."
   ]
  },
  {
   "cell_type": "code",
   "execution_count": 43,
   "metadata": {},
   "outputs": [],
   "source": [
    "# Pipeline для масштабирования признаков и обучения модели Ridge\n",
    "\n",
    "pipe_ridge = Pipeline(steps=[\n",
    "    ('scaler',StandardScaler()),\n",
    "    ('ridge', Ridge(random_state=RANDOM_STATE))\n",
    "], verbose=False)"
   ]
  },
  {
   "cell_type": "code",
   "execution_count": 44,
   "metadata": {},
   "outputs": [],
   "source": [
    "ridge_space ={'ridge__alpha': np.arange(0.0,10.0,0.1)}"
   ]
  },
  {
   "cell_type": "code",
   "execution_count": 45,
   "metadata": {},
   "outputs": [],
   "source": [
    "ridge_random = RandomizedSearchCV(pipe_ridge,param_distributions=ridge_space,n_jobs=-1, n_iter=100,\\\n",
    "                                  scoring=smape_score)"
   ]
  },
  {
   "cell_type": "code",
   "execution_count": 46,
   "metadata": {},
   "outputs": [
    {
     "name": "stdout",
     "output_type": "stream",
     "text": [
      "Wall time: 6.01 s\n"
     ]
    }
   ],
   "source": [
    "%%time\n",
    "\n",
    "# Обучение модели Ridge, подбор параметров и подсчет метрики для чернового концентрата\n",
    "\n",
    "ridge_model_rougher = ridge_random.fit(features_train_rougher, target_train_rougher)\n",
    "\n",
    "smape_ridge_rougher = -ridge_model_rougher.best_score_\n",
    "params_ridge_rougher = ridge_model_rougher.best_params_"
   ]
  },
  {
   "cell_type": "code",
   "execution_count": 47,
   "metadata": {},
   "outputs": [
    {
     "name": "stdout",
     "output_type": "stream",
     "text": [
      "{'ridge__alpha': 0.0}\n"
     ]
    }
   ],
   "source": [
    "print(params_ridge_rougher)"
   ]
  },
  {
   "cell_type": "code",
   "execution_count": 48,
   "metadata": {},
   "outputs": [
    {
     "name": "stdout",
     "output_type": "stream",
     "text": [
      "Wall time: 11.2 s\n"
     ]
    }
   ],
   "source": [
    "%%time\n",
    "\n",
    "# Обучение модели Ridge, подбор параметров и подсчет метрики для чернового концентрата\n",
    "\n",
    "ridge_model_final = ridge_random.fit(features_train_final, target_train_final)\n",
    "\n",
    "smape_ridge_final = -ridge_model_final.best_score_\n",
    "params_ridge_final = ridge_model_final.best_params_"
   ]
  },
  {
   "cell_type": "code",
   "execution_count": 49,
   "metadata": {},
   "outputs": [
    {
     "name": "stdout",
     "output_type": "stream",
     "text": [
      "{'ridge__alpha': 9.9}\n"
     ]
    }
   ],
   "source": [
    "print(params_ridge_final)"
   ]
  },
  {
   "cell_type": "code",
   "execution_count": 50,
   "metadata": {},
   "outputs": [
    {
     "name": "stdout",
     "output_type": "stream",
     "text": [
      "Cреднее значение sMAPE чернового концентрата при кросс-валидации:7.601\n",
      "Cреднее значение sMAPE финального концентрата при кросс-валидации:6.196\n",
      "Среднее значение итогового sMApe при кросс-валидации: 6.547\n"
     ]
    }
   ],
   "source": [
    "print(f'Cреднее значение sMAPE чернового концентрата при кросс-валидации:\\\n",
    "{smape_ridge_rougher:0.3f}')\n",
    "print(f'Cреднее значение sMAPE финального концентрата при кросс-валидации:\\\n",
    "{smape_ridge_final:0.3f}')\n",
    "\n",
    "total_smape_ridge = final_smape(smape_ridge_rougher, smape_ridge_final)\n",
    "print(f'Среднее значение итогового sMApe при кросс-валидации: {total_smape_ridge:0.3f}')"
   ]
  },
  {
   "cell_type": "markdown",
   "metadata": {},
   "source": [
    "#### Модель CatboostRegressor."
   ]
  },
  {
   "cell_type": "code",
   "execution_count": 51,
   "metadata": {},
   "outputs": [],
   "source": [
    "# Pipeline для масштабирования признаков, обучения модели и подбора параметров CatBoostRegressor \n",
    "\n",
    "pipe_cat = Pipeline(steps=[\n",
    "          ('scaler',StandardScaler()),\n",
    "          ('cat', CatBoostRegressor(random_state=RANDOM_STATE, verbose=10))\n",
    "], verbose=False)"
   ]
  },
  {
   "cell_type": "code",
   "execution_count": 52,
   "metadata": {},
   "outputs": [],
   "source": [
    "# Параметры для RandomseachCV для модели CatBoostRegressor\n",
    "\n",
    "param_cat = {\n",
    "            'cat__learning_rate': [0.1, 0.5],\n",
    "            'cat__iterations' : [50, 100]\n",
    "            }"
   ]
  },
  {
   "cell_type": "code",
   "execution_count": 53,
   "metadata": {},
   "outputs": [],
   "source": [
    "cat_random = RandomizedSearchCV(pipe_cat,param_distributions=param_cat,n_jobs=-1,n_iter=4,\\\n",
    "                                  scoring=smape_score)"
   ]
  },
  {
   "cell_type": "code",
   "execution_count": 54,
   "metadata": {},
   "outputs": [
    {
     "name": "stdout",
     "output_type": "stream",
     "text": [
      "0:\tlearn: 2.3766264\ttotal: 158ms\tremaining: 15.7s\n",
      "10:\tlearn: 1.9575193\ttotal: 239ms\tremaining: 1.93s\n",
      "20:\tlearn: 1.7923688\ttotal: 316ms\tremaining: 1.19s\n",
      "30:\tlearn: 1.7105382\ttotal: 406ms\tremaining: 904ms\n",
      "40:\tlearn: 1.6562701\ttotal: 483ms\tremaining: 695ms\n",
      "50:\tlearn: 1.6166531\ttotal: 560ms\tremaining: 538ms\n",
      "60:\tlearn: 1.5836750\ttotal: 647ms\tremaining: 414ms\n",
      "70:\tlearn: 1.5548114\ttotal: 725ms\tremaining: 296ms\n",
      "80:\tlearn: 1.5303666\ttotal: 800ms\tremaining: 188ms\n",
      "90:\tlearn: 1.5046685\ttotal: 888ms\tremaining: 87.8ms\n",
      "99:\tlearn: 1.4838275\ttotal: 958ms\tremaining: 0us\n",
      "Wall time: 13.4 s\n"
     ]
    }
   ],
   "source": [
    "%%time\n",
    "\n",
    "# Обучение модели Ridge, подбор параметров и подсчет метрики для чернового концентрата\n",
    "\n",
    "cat_model_rougher = cat_random.fit(features_train_rougher, target_train_rougher)\n",
    "\n",
    "smape_cat_rougher = -cat_model_rougher.best_score_\n",
    "params_cat_rougher = cat_model_rougher.best_params_"
   ]
  },
  {
   "cell_type": "code",
   "execution_count": 55,
   "metadata": {},
   "outputs": [
    {
     "name": "stdout",
     "output_type": "stream",
     "text": [
      "0:\tlearn: 3.9936062\ttotal: 25.7ms\tremaining: 1.26s\n",
      "10:\tlearn: 3.6707930\ttotal: 161ms\tremaining: 572ms\n",
      "20:\tlearn: 3.5182354\ttotal: 319ms\tremaining: 440ms\n",
      "30:\tlearn: 3.4208862\ttotal: 455ms\tremaining: 279ms\n",
      "40:\tlearn: 3.3449710\ttotal: 604ms\tremaining: 133ms\n",
      "49:\tlearn: 3.2865895\ttotal: 727ms\tremaining: 0us\n",
      "Wall time: 21.8 s\n"
     ]
    }
   ],
   "source": [
    "%%time\n",
    "\n",
    "# Обучение модели Ridge, подбор параметров и подсчет метрики для чернового концентрата\n",
    "\n",
    "cat_model_final = cat_random.fit(features_train_final, target_train_final)\n",
    "\n",
    "smape_cat_final = -cat_model_final.best_score_\n",
    "params_cat_final = cat_model_final.best_params_"
   ]
  },
  {
   "cell_type": "code",
   "execution_count": 56,
   "metadata": {},
   "outputs": [
    {
     "name": "stdout",
     "output_type": "stream",
     "text": [
      "Cреднее значение sMAPE чернового концентрата при кросс-валидации:8.292\n",
      "Cреднее значение sMAPE финального концентрата при кросс-валидации:5.948\n",
      "Среднее значение итогового sMApe при кросс-валидации: 6.534\n"
     ]
    }
   ],
   "source": [
    "print(f'Cреднее значение sMAPE чернового концентрата при кросс-валидации:\\\n",
    "{smape_cat_rougher:0.3f}')\n",
    "print(f'Cреднее значение sMAPE финального концентрата при кросс-валидации:\\\n",
    "{smape_cat_final:0.3f}')\n",
    "\n",
    "total_smape_cat = final_smape(smape_cat_rougher, smape_cat_final)\n",
    "print(f'Среднее значение итогового sMApe при кросс-валидации: {total_smape_cat:0.3f}')"
   ]
  },
  {
   "cell_type": "code",
   "execution_count": 57,
   "metadata": {},
   "outputs": [],
   "source": [
    "# Cоставим списки по результатам обучения и проверки моделей.\n",
    "\n",
    "models = ['Линейная регрессия', 'Решающее дерево', 'Случайный лес', 'Ridge', 'CatBoostRegressor']\n",
    "res = [total_smape_reg,\n",
    "        total_smape_tree,\n",
    "        total_smape_forest,\n",
    "        total_smape_ridge,\n",
    "        total_smape_cat]"
   ]
  },
  {
   "cell_type": "code",
   "execution_count": 58,
   "metadata": {},
   "outputs": [
    {
     "data": {
      "text/html": [
       "<div>\n",
       "<style scoped>\n",
       "    .dataframe tbody tr th:only-of-type {\n",
       "        vertical-align: middle;\n",
       "    }\n",
       "\n",
       "    .dataframe tbody tr th {\n",
       "        vertical-align: top;\n",
       "    }\n",
       "\n",
       "    .dataframe thead th {\n",
       "        text-align: right;\n",
       "    }\n",
       "</style>\n",
       "<table border=\"1\" class=\"dataframe\">\n",
       "  <thead>\n",
       "    <tr style=\"text-align: right;\">\n",
       "      <th></th>\n",
       "      <th>Качество предсказания (sMAPE)</th>\n",
       "    </tr>\n",
       "  </thead>\n",
       "  <tbody>\n",
       "    <tr>\n",
       "      <th>Линейная регрессия</th>\n",
       "      <td>6.558334</td>\n",
       "    </tr>\n",
       "    <tr>\n",
       "      <th>Решающее дерево</th>\n",
       "      <td>6.869487</td>\n",
       "    </tr>\n",
       "    <tr>\n",
       "      <th>Случайный лес</th>\n",
       "      <td>6.511422</td>\n",
       "    </tr>\n",
       "    <tr>\n",
       "      <th>Ridge</th>\n",
       "      <td>6.547329</td>\n",
       "    </tr>\n",
       "    <tr>\n",
       "      <th>CatBoostRegressor</th>\n",
       "      <td>6.534318</td>\n",
       "    </tr>\n",
       "  </tbody>\n",
       "</table>\n",
       "</div>"
      ],
      "text/plain": [
       "                    Качество предсказания (sMAPE)\n",
       "Линейная регрессия                       6.558334\n",
       "Решающее дерево                          6.869487\n",
       "Случайный лес                            6.511422\n",
       "Ridge                                    6.547329\n",
       "CatBoostRegressor                        6.534318"
      ]
     },
     "execution_count": 58,
     "metadata": {},
     "output_type": "execute_result"
    }
   ],
   "source": [
    "# Создадим дата-фрейм с резуьтатами.\n",
    "\n",
    "result_data = pd.DataFrame(data=res, index=models, columns=['Качество предсказания (sMAPE)'])\n",
    "result_data"
   ]
  },
  {
   "cell_type": "markdown",
   "metadata": {},
   "source": [
    "### Выберем лучшую модель и проверим ее на тестовой выборке."
   ]
  },
  {
   "cell_type": "markdown",
   "metadata": {},
   "source": [
    "Добавим в тестовую выборку отсутствующие в ней целевые признаки из исходной выборки."
   ]
  },
  {
   "cell_type": "code",
   "execution_count": 59,
   "metadata": {},
   "outputs": [],
   "source": [
    "# Добавим в тестовую выборку отсутствующие в ней целевые признаки из исходной выборки.\n",
    "\n",
    "df_test = df_test.join(df_full[['rougher.output.concentrate_au',\\\n",
    "                                'final.output.concentrate_au']])"
   ]
  },
  {
   "cell_type": "code",
   "execution_count": 60,
   "metadata": {},
   "outputs": [
    {
     "name": "stdout",
     "output_type": "stream",
     "text": [
      "(4860, 54)\n"
     ]
    }
   ],
   "source": [
    "# Выведем размер тестовой выборки\n",
    "\n",
    "print(df_test.shape)"
   ]
  },
  {
   "cell_type": "code",
   "execution_count": 61,
   "metadata": {},
   "outputs": [
    {
     "name": "stdout",
     "output_type": "stream",
     "text": [
      "(4860, 22)\n",
      "(4860, 52)\n",
      "(4860,)\n",
      "(4860,)\n"
     ]
    }
   ],
   "source": [
    "# Подготовим признаки  и целевые признаки для тестовой выборки отдельно\n",
    "# для моделей чернового и финального концентратав, выведем их размеры. \n",
    "\n",
    "features_test_final = df_test.drop(columns=['rougher.output.concentrate_au',\\\n",
    "                                            'final.output.concentrate_au'])\n",
    "features_test_rougher = features_test_final[rougher_features]\n",
    "print(features_test_rougher.shape)\n",
    "print(features_test_final.shape)\n",
    "\n",
    "target_test_rougher = df_test['rougher.output.concentrate_au']\n",
    "target_test_final = df_test['final.output.concentrate_au']\n",
    "print(target_test_rougher.shape)\n",
    "print(target_test_final.shape)"
   ]
  },
  {
   "cell_type": "markdown",
   "metadata": {},
   "source": [
    "Проверим лучшую из проверенных моделей случайный лес c лучшими параметрами на тестовой выборке."
   ]
  },
  {
   "cell_type": "code",
   "execution_count": 62,
   "metadata": {},
   "outputs": [
    {
     "name": "stdout",
     "output_type": "stream",
     "text": [
      "{'forest__n_estimators': 20, 'forest__min_samples_split': 2, 'forest__min_samples_leaf': 3, 'forest__max_features': 10, 'forest__max_depth': 5}\n",
      "{'forest__n_estimators': 15, 'forest__min_samples_split': 3, 'forest__min_samples_leaf': 1, 'forest__max_features': 10, 'forest__max_depth': 2}\n"
     ]
    }
   ],
   "source": [
    "# Выведем полученные на кросс-валидации лучшие параметры\n",
    "\n",
    "print(params_forest_rougher)\n",
    "print(params_forest_final)"
   ]
  },
  {
   "cell_type": "code",
   "execution_count": 63,
   "metadata": {},
   "outputs": [
    {
     "name": "stdout",
     "output_type": "stream",
     "text": [
      "Cреднее значение sMAPE чернового концентрата на тестовой выборке:6.601\n",
      "Cреднее значение sMAPE финального концентрата на тестовой выборке:5.359\n",
      "Среднее значение итогового sMApe на тестовой выборке:5.670\n"
     ]
    }
   ],
   "source": [
    "# Обучим модели CatBoostRegressor отдельно для чернового и финального концентратов\n",
    "# на обучающей выборке, получим предсказания для тестовой выборки, посчитаем симметричное\n",
    "# среднее абсолютное процентное отклонение для каждой из операций, а также итоговую метрику.\n",
    "# Будем использовать лучшие полученые при обучении моделей гиперпараметры.\n",
    "\n",
    "# Pipeline для масштабирования признаков и обучения модели CatBoostRegresor отдельно для чернового\n",
    "# и финального концентратов \n",
    "\n",
    "pipe_forest_rougher = Pipeline(steps=[\n",
    "    ('scaler',StandardScaler()),\n",
    "    ('forest', RandomForestRegressor(n_estimators=15, min_samples_split=2, min_samples_leaf=1,\\\n",
    "                                     max_features=7, max_depth=5,random_state=RANDOM_STATE))\n",
    "], verbose=False)\n",
    "\n",
    "pipe_forest_final =Pipeline(steps=[\n",
    "    ('scaler',StandardScaler()),\n",
    "    ('forest', RandomForestRegressor(n_estimators=5, min_samples_split=3, min_samples_leaf=1,\\\n",
    "                                     max_features=10, max_depth=2, random_state=RANDOM_STATE))\n",
    "], verbose=False)\n",
    "\n",
    "\n",
    "pipe_forest_rougher.fit(features_train_rougher, target_train_rougher)\n",
    "predictions_rougher = pipe_forest_rougher.predict(features_test_rougher)\n",
    "smape_test_rougher = s_mape(target_test_rougher, predictions_rougher)\n",
    "\n",
    "pipe_forest_final.fit(features_train_final, target_train_final)\n",
    "predictions_final = pipe_forest_final.predict(features_test_final)\n",
    "smape_test_final = s_mape(target_test_final, predictions_final)\n",
    "\n",
    "total_smape_test = final_smape(smape_test_rougher, smape_test_final)\n",
    "\n",
    "print(f'Cреднее значение sMAPE чернового концентрата на тестовой выборке:\\\n",
    "{smape_test_rougher:0.3f}')\n",
    "print(f'Cреднее значение sMAPE финального концентрата на тестовой выборке:\\\n",
    "{smape_test_final:0.3f}')\n",
    "print(f'Среднее значение итогового sMApe на тестовой выборке:\\\n",
    "{total_smape_test:0.3f}')"
   ]
  },
  {
   "cell_type": "markdown",
   "metadata": {},
   "source": [
    "*В результате проверки лучшей модели - мы получили итоговое значение метрики на тестовой выборке равное 5.67.*"
   ]
  },
  {
   "cell_type": "markdown",
   "metadata": {},
   "source": [
    "Сравним показатели наших лучших модели с результатами константной модели с предсказаниями по среднему."
   ]
  },
  {
   "cell_type": "code",
   "execution_count": 64,
   "metadata": {
    "scrolled": true
   },
   "outputs": [
    {
     "name": "stdout",
     "output_type": "stream",
     "text": [
      "Cреднее значение sMAPE чернового концентрата на тестовой выборке:9.755\n",
      "Cреднее значение sMAPE финального концентрата на тестовой выборке:5.536\n",
      "Среднее значение итогового sMApe на тестовой выборке:6.591\n"
     ]
    }
   ],
   "source": [
    "# Обучим модель DummyRegressor отдельно для чернового и финального концентратов\n",
    "# на обучающей выборке, получим предсказания для тестовой выборки, посчитаем симметричное\n",
    "# среднее абсолютное процентное отклонение для каждой из операций, а также итоговую метрику.\n",
    "\n",
    "pipe_dummy = Pipeline(steps=[\n",
    "    ('scaler',StandardScaler()),\n",
    "    ('dummy', DummyRegressor())\n",
    "], verbose=False)\n",
    "\n",
    "pipe_dummy.fit(features_train_rougher, target_train_rougher)\n",
    "predictions_rougher = pipe_dummy.predict(features_test_rougher)\n",
    "smape_test_rougher = s_mape(target_test_rougher, predictions_rougher)\n",
    "\n",
    "pipe_dummy.fit(features_train_final, target_train_final)\n",
    "predictions_final = pipe_dummy.predict(features_test_final)\n",
    "smape_test_final = s_mape(target_test_final, predictions_final)\n",
    "\n",
    "total_smape_test = final_smape(smape_test_rougher, smape_test_final)\n",
    "\n",
    "print(f'Cреднее значение sMAPE чернового концентрата на тестовой выборке:\\\n",
    "{smape_test_rougher:0.3f}')\n",
    "print(f'Cреднее значение sMAPE финального концентрата на тестовой выборке:\\\n",
    "{smape_test_final:0.3f}')\n",
    "print(f'Среднее значение итогового sMApe на тестовой выборке:\\\n",
    "{total_smape_test:0.3f}')"
   ]
  },
  {
   "cell_type": "markdown",
   "metadata": {},
   "source": [
    "В результате проверки константной модели - мы получили итоговое значение метрики на тестовой выборке равное 6.591."
   ]
  },
  {
   "cell_type": "markdown",
   "metadata": {},
   "source": [
    "*Промежуточный вывод:*\n",
    "\n",
    "Проверили модели с лучшими результатами на кросс-валидации на тестовой выборке и получили лучшее итоговое значение метрики равное 5,67. Проверили модели на адекватность при помощи константной модели с предскзанием по среднему. Наша лучшая модель паказывет sMape почти на 1 меньше, чем константная модель. \n"
   ]
  },
  {
   "cell_type": "markdown",
   "metadata": {},
   "source": [
    "**Итоговые выводы:**\n",
    "- 1.1 Загрузили и изучили основные характеристики выборок;\n",
    "- 1.2 Проверили, правильно ли рассчитана эффективность обогащения золота. Написалим собственную функцию для расчета эффективности обогащения и сравнили результаты ее работы с значениями из фрейма. Ошибка очень мала, поэтому считаем, что эффективность обогащения на этапе флотации в обучающей выборке расчитаны верно; \n",
    "- 1.3 В тестовой выборке отсутствуют **выходные** данные по всем составляющим, т.е. отсутствуют данные о содержании составляющих и в концентратах, и в хвостах как для промежуточных этапов, так и для финальной стадии. Соответственнно не рассчитана и эффективность обогащения как по этапам, так и итоговая. Также в тестовой выборке отсутствуют расчетные столбцы. Все отстутствующие данные числовые;\n",
    "- 1.4 Заполнили пропуки во всех выборках предыдущими ненулевыми значениями из соответствующих столбцов;\n",
    "- 2.1 Выяснили как меняется концентрация металлов (Au, Ag, Pb) на различных этапах:\n",
    "    - Концентрация золота от стадии к стадии растет -  это и есть цель технологического процесса;\n",
    "    - Концентрация серебра растет на стадии флотации, однако дальнейшая очистка уменьшает его концентрацию до значений меньше  исходных, вероятно основная часть серебра уходит в хвосты;\n",
    "    - Концентрация свинца также растет на стадиях флотации и первичной очистки, однако вторичная очистка ее повышает незначительно;\n",
    "- 2.2 Распределения размеров гранул исходного сырья на обучающей и тестовой выборках несильно отличаются друг от друга, оценка модели будет нормальной.\n",
    "- 2.3 Суммарная концентрация металлов растет после флотации и падает после первичной очистки (скорее всего из-за ухода серебра в хвосты и снова возрастает после вторичной очистки. В какие-то моменты времени суммарная концентрации на каждой отдельной стадии равна нулю, возможно в эти моменты проходила   несодержащая металлов пустая порода;\n",
    "- 3.1 Написали функцию для вычисления итоговой sMAPE;\n",
    "- 3.2 Провели обучение 5-ти видов моделей и получили лучший результаты итоговой метрики на кросс-валидации для модели случайного леса;\n",
    "- 3.3 Проверили модель с лучшими результатами на кросс-валидации на тестовой выборке и получили лучшее итоговое значение метрики равное 5,67. Проверили модель на адекватность при помощи константной модели с предсказанием по среднему. Наша лучшая модель показывет sMape почти на 1  меньше, чем константная модель. \n"
   ]
  },
  {
   "cell_type": "code",
   "execution_count": null,
   "metadata": {},
   "outputs": [],
   "source": []
  }
 ],
 "metadata": {
  "ExecuteTimeLog": [
   {
    "duration": 1652,
    "start_time": "2023-05-10T10:37:47.027Z"
   },
   {
    "duration": 2,
    "start_time": "2023-05-10T10:37:54.909Z"
   },
   {
    "duration": 3212,
    "start_time": "2023-05-10T10:37:58.664Z"
   },
   {
    "duration": 24,
    "start_time": "2023-05-10T10:38:19.447Z"
   },
   {
    "duration": 111,
    "start_time": "2023-05-10T10:44:24.343Z"
   },
   {
    "duration": 27,
    "start_time": "2023-05-10T10:44:31.747Z"
   },
   {
    "duration": 2,
    "start_time": "2023-05-10T10:44:53.115Z"
   },
   {
    "duration": 61,
    "start_time": "2023-05-10T10:44:55.832Z"
   },
   {
    "duration": 5,
    "start_time": "2023-05-10T10:59:33.843Z"
   },
   {
    "duration": 4,
    "start_time": "2023-05-10T10:59:43.565Z"
   },
   {
    "duration": 4,
    "start_time": "2023-05-10T10:59:54.395Z"
   },
   {
    "duration": 4,
    "start_time": "2023-05-10T11:00:12.097Z"
   },
   {
    "duration": 4,
    "start_time": "2023-05-10T11:34:53.028Z"
   },
   {
    "duration": 13,
    "start_time": "2023-05-10T11:41:21.257Z"
   },
   {
    "duration": 3,
    "start_time": "2023-05-10T11:41:26.410Z"
   },
   {
    "duration": 81,
    "start_time": "2023-05-10T11:41:47.288Z"
   },
   {
    "duration": 6,
    "start_time": "2023-05-10T11:42:17.413Z"
   },
   {
    "duration": 6,
    "start_time": "2023-05-10T11:52:49.162Z"
   },
   {
    "duration": 105,
    "start_time": "2023-05-10T12:02:27.475Z"
   },
   {
    "duration": 268,
    "start_time": "2023-05-10T12:04:23.852Z"
   },
   {
    "duration": 257,
    "start_time": "2023-05-10T12:13:10.722Z"
   },
   {
    "duration": 96,
    "start_time": "2023-05-10T12:22:52.090Z"
   },
   {
    "duration": 370,
    "start_time": "2023-05-10T12:23:04.292Z"
   },
   {
    "duration": 239,
    "start_time": "2023-05-10T12:23:48.806Z"
   },
   {
    "duration": 13,
    "start_time": "2023-05-10T12:30:54.316Z"
   },
   {
    "duration": 20,
    "start_time": "2023-05-10T12:30:58.892Z"
   },
   {
    "duration": 1685,
    "start_time": "2023-05-10T18:11:00.924Z"
   },
   {
    "duration": 3,
    "start_time": "2023-05-10T18:11:02.612Z"
   },
   {
    "duration": 2624,
    "start_time": "2023-05-10T18:11:02.616Z"
   },
   {
    "duration": 3,
    "start_time": "2023-05-10T18:11:05.241Z"
   },
   {
    "duration": 264,
    "start_time": "2023-05-10T18:11:05.246Z"
   },
   {
    "duration": 6,
    "start_time": "2023-05-10T18:11:05.511Z"
   },
   {
    "duration": 3,
    "start_time": "2023-05-10T18:11:12.892Z"
   },
   {
    "duration": 121,
    "start_time": "2023-05-10T18:13:25.622Z"
   },
   {
    "duration": 10,
    "start_time": "2023-05-10T18:15:31.053Z"
   },
   {
    "duration": 4,
    "start_time": "2023-05-10T18:15:49.723Z"
   },
   {
    "duration": 13,
    "start_time": "2023-05-10T18:15:52.627Z"
   },
   {
    "duration": 16,
    "start_time": "2023-05-10T18:15:57.000Z"
   },
   {
    "duration": 2,
    "start_time": "2023-05-10T18:16:22.523Z"
   },
   {
    "duration": 11,
    "start_time": "2023-05-10T18:16:25.756Z"
   },
   {
    "duration": 2,
    "start_time": "2023-05-10T18:19:44.575Z"
   },
   {
    "duration": 12,
    "start_time": "2023-05-10T18:20:09.469Z"
   },
   {
    "duration": 3,
    "start_time": "2023-05-10T18:21:39.646Z"
   },
   {
    "duration": 4,
    "start_time": "2023-05-10T18:21:41.653Z"
   },
   {
    "duration": 4,
    "start_time": "2023-05-10T18:22:01.405Z"
   },
   {
    "duration": 3,
    "start_time": "2023-05-10T18:22:07.747Z"
   },
   {
    "duration": 6,
    "start_time": "2023-05-10T18:31:37.891Z"
   },
   {
    "duration": 57,
    "start_time": "2023-05-10T18:32:06.331Z"
   },
   {
    "duration": 5,
    "start_time": "2023-05-10T18:32:11.451Z"
   },
   {
    "duration": 6,
    "start_time": "2023-05-10T18:32:24.304Z"
   },
   {
    "duration": 3,
    "start_time": "2023-05-10T18:38:46.819Z"
   },
   {
    "duration": 10,
    "start_time": "2023-05-10T18:50:38.232Z"
   },
   {
    "duration": 3,
    "start_time": "2023-05-10T18:50:57.761Z"
   },
   {
    "duration": 9,
    "start_time": "2023-05-10T18:51:28.472Z"
   },
   {
    "duration": 30,
    "start_time": "2023-05-10T18:54:28.565Z"
   },
   {
    "duration": 7,
    "start_time": "2023-05-10T18:54:39.722Z"
   },
   {
    "duration": 5,
    "start_time": "2023-05-10T18:54:56.623Z"
   },
   {
    "duration": 3,
    "start_time": "2023-05-10T20:06:11.968Z"
   },
   {
    "duration": 265,
    "start_time": "2023-05-10T20:12:10.176Z"
   },
   {
    "duration": 256,
    "start_time": "2023-05-10T20:12:27.537Z"
   },
   {
    "duration": 244,
    "start_time": "2023-05-10T20:12:41.900Z"
   },
   {
    "duration": 240,
    "start_time": "2023-05-10T20:12:59.028Z"
   },
   {
    "duration": 4,
    "start_time": "2023-05-10T20:27:45.359Z"
   },
   {
    "duration": 11,
    "start_time": "2023-05-10T20:28:08.071Z"
   },
   {
    "duration": 12,
    "start_time": "2023-05-10T20:28:24.213Z"
   },
   {
    "duration": 10,
    "start_time": "2023-05-10T20:28:55.555Z"
   },
   {
    "duration": 41,
    "start_time": "2023-05-10T20:29:59.940Z"
   },
   {
    "duration": 46,
    "start_time": "2023-05-10T20:30:29.660Z"
   },
   {
    "duration": 3,
    "start_time": "2023-05-10T20:58:59.023Z"
   },
   {
    "duration": 3,
    "start_time": "2023-05-10T21:02:57.264Z"
   },
   {
    "duration": 4,
    "start_time": "2023-05-10T21:07:27.467Z"
   },
   {
    "duration": 10,
    "start_time": "2023-05-10T21:07:34.343Z"
   },
   {
    "duration": 339,
    "start_time": "2023-05-10T21:12:11.606Z"
   },
   {
    "duration": 1142,
    "start_time": "2023-05-10T21:22:15.443Z"
   },
   {
    "duration": 184,
    "start_time": "2023-05-10T21:22:38.229Z"
   },
   {
    "duration": 149,
    "start_time": "2023-05-10T21:25:30.047Z"
   },
   {
    "duration": 212,
    "start_time": "2023-05-10T21:25:42.535Z"
   },
   {
    "duration": 170,
    "start_time": "2023-05-10T21:26:48.104Z"
   },
   {
    "duration": 182,
    "start_time": "2023-05-10T21:27:13.605Z"
   },
   {
    "duration": 135,
    "start_time": "2023-05-10T21:27:43.833Z"
   },
   {
    "duration": 185,
    "start_time": "2023-05-10T21:27:54.285Z"
   },
   {
    "duration": 204,
    "start_time": "2023-05-10T21:28:35.965Z"
   },
   {
    "duration": 168,
    "start_time": "2023-05-10T21:46:48.620Z"
   },
   {
    "duration": 174,
    "start_time": "2023-05-10T21:47:01.584Z"
   },
   {
    "duration": 809,
    "start_time": "2023-05-10T21:47:33.183Z"
   },
   {
    "duration": 198,
    "start_time": "2023-05-10T21:48:38.415Z"
   },
   {
    "duration": 178,
    "start_time": "2023-05-10T21:48:55.775Z"
   },
   {
    "duration": 157,
    "start_time": "2023-05-10T21:50:09.652Z"
   },
   {
    "duration": 152,
    "start_time": "2023-05-10T21:50:55.220Z"
   },
   {
    "duration": 178,
    "start_time": "2023-05-10T21:55:40.416Z"
   },
   {
    "duration": 264,
    "start_time": "2023-05-10T21:56:07.896Z"
   },
   {
    "duration": 178,
    "start_time": "2023-05-10T21:57:20.015Z"
   },
   {
    "duration": 181,
    "start_time": "2023-05-10T21:58:01.718Z"
   },
   {
    "duration": 171,
    "start_time": "2023-05-10T22:03:32.792Z"
   },
   {
    "duration": 108,
    "start_time": "2023-05-10T22:28:44.089Z"
   },
   {
    "duration": 2482,
    "start_time": "2023-05-11T09:06:57.437Z"
   },
   {
    "duration": 3,
    "start_time": "2023-05-11T09:06:59.922Z"
   },
   {
    "duration": 14,
    "start_time": "2023-05-11T09:06:59.928Z"
   },
   {
    "duration": 3313,
    "start_time": "2023-05-11T09:06:59.945Z"
   },
   {
    "duration": 350,
    "start_time": "2023-05-11T09:07:03.260Z"
   },
   {
    "duration": 7,
    "start_time": "2023-05-11T09:07:03.614Z"
   },
   {
    "duration": 15,
    "start_time": "2023-05-11T09:07:03.623Z"
   },
   {
    "duration": 29,
    "start_time": "2023-05-11T09:07:03.640Z"
   },
   {
    "duration": 30,
    "start_time": "2023-05-11T09:07:03.672Z"
   },
   {
    "duration": 9807,
    "start_time": "2023-05-11T09:07:03.705Z"
   },
   {
    "duration": 58,
    "start_time": "2023-05-11T09:07:13.514Z"
   },
   {
    "duration": 12,
    "start_time": "2023-05-11T09:07:13.580Z"
   },
   {
    "duration": 187,
    "start_time": "2023-05-11T09:07:13.594Z"
   },
   {
    "duration": 287,
    "start_time": "2023-05-11T09:07:13.784Z"
   },
   {
    "duration": 319,
    "start_time": "2023-05-11T09:07:14.073Z"
   },
   {
    "duration": 272,
    "start_time": "2023-05-11T09:07:14.394Z"
   },
   {
    "duration": 323,
    "start_time": "2023-05-11T09:07:29.364Z"
   },
   {
    "duration": 332,
    "start_time": "2023-05-11T09:07:48.320Z"
   },
   {
    "duration": 280,
    "start_time": "2023-05-11T09:08:24.830Z"
   },
   {
    "duration": 200,
    "start_time": "2023-05-11T09:08:36.495Z"
   },
   {
    "duration": 254,
    "start_time": "2023-05-11T09:09:00.575Z"
   },
   {
    "duration": 250,
    "start_time": "2023-05-11T09:09:25.056Z"
   },
   {
    "duration": 194,
    "start_time": "2023-05-11T09:09:55.290Z"
   },
   {
    "duration": 235,
    "start_time": "2023-05-11T09:10:05.031Z"
   },
   {
    "duration": 246,
    "start_time": "2023-05-11T09:10:33.766Z"
   },
   {
    "duration": 240,
    "start_time": "2023-05-11T09:10:48.295Z"
   },
   {
    "duration": 300,
    "start_time": "2023-05-11T09:11:15.950Z"
   },
   {
    "duration": 244,
    "start_time": "2023-05-11T09:11:21.795Z"
   },
   {
    "duration": 4,
    "start_time": "2023-05-11T09:13:36.755Z"
   },
   {
    "duration": 231,
    "start_time": "2023-05-11T09:14:39.260Z"
   },
   {
    "duration": 186630,
    "start_time": "2023-05-11T09:14:53.995Z"
   },
   {
    "duration": 0,
    "start_time": "2023-05-11T09:19:27.653Z"
   },
   {
    "duration": 55,
    "start_time": "2023-05-11T09:19:52.706Z"
   },
   {
    "duration": 2481,
    "start_time": "2023-05-11T09:19:56.942Z"
   },
   {
    "duration": 3,
    "start_time": "2023-05-11T09:19:59.426Z"
   },
   {
    "duration": 11,
    "start_time": "2023-05-11T09:19:59.431Z"
   },
   {
    "duration": 862,
    "start_time": "2023-05-11T09:19:59.446Z"
   },
   {
    "duration": 329,
    "start_time": "2023-05-11T09:20:00.310Z"
   },
   {
    "duration": 9,
    "start_time": "2023-05-11T09:20:00.644Z"
   },
   {
    "duration": 30,
    "start_time": "2023-05-11T09:20:00.656Z"
   },
   {
    "duration": 27,
    "start_time": "2023-05-11T09:20:00.688Z"
   },
   {
    "duration": 28,
    "start_time": "2023-05-11T09:20:00.717Z"
   },
   {
    "duration": 9189,
    "start_time": "2023-05-11T09:20:00.749Z"
   },
   {
    "duration": 65,
    "start_time": "2023-05-11T09:20:09.940Z"
   },
   {
    "duration": 7,
    "start_time": "2023-05-11T09:20:10.008Z"
   },
   {
    "duration": 195,
    "start_time": "2023-05-11T09:20:10.017Z"
   },
   {
    "duration": 253,
    "start_time": "2023-05-11T09:20:10.214Z"
   },
   {
    "duration": 254,
    "start_time": "2023-05-11T09:20:10.472Z"
   },
   {
    "duration": 259,
    "start_time": "2023-05-11T09:20:10.728Z"
   },
   {
    "duration": 228,
    "start_time": "2023-05-11T09:20:10.989Z"
   },
   {
    "duration": 6,
    "start_time": "2023-05-11T09:24:39.042Z"
   },
   {
    "duration": 28,
    "start_time": "2023-05-11T09:24:45.846Z"
   },
   {
    "duration": 9,
    "start_time": "2023-05-11T09:29:25.673Z"
   },
   {
    "duration": 108,
    "start_time": "2023-05-11T09:34:48.884Z"
   },
   {
    "duration": 114,
    "start_time": "2023-05-11T09:35:11.219Z"
   },
   {
    "duration": 8,
    "start_time": "2023-05-11T09:35:28.733Z"
   },
   {
    "duration": 46,
    "start_time": "2023-05-11T09:36:02.936Z"
   },
   {
    "duration": 2048,
    "start_time": "2023-05-11T09:50:43.579Z"
   },
   {
    "duration": 3,
    "start_time": "2023-05-11T09:50:45.630Z"
   },
   {
    "duration": 25,
    "start_time": "2023-05-11T09:50:45.635Z"
   },
   {
    "duration": 1244,
    "start_time": "2023-05-11T09:50:45.663Z"
   },
   {
    "duration": 412,
    "start_time": "2023-05-11T09:50:46.915Z"
   },
   {
    "duration": 8,
    "start_time": "2023-05-11T09:50:47.329Z"
   },
   {
    "duration": 12,
    "start_time": "2023-05-11T09:50:47.339Z"
   },
   {
    "duration": 70,
    "start_time": "2023-05-11T09:50:47.353Z"
   },
   {
    "duration": 12,
    "start_time": "2023-05-11T09:50:47.426Z"
   },
   {
    "duration": 10357,
    "start_time": "2023-05-11T09:50:47.441Z"
   },
   {
    "duration": 56,
    "start_time": "2023-05-11T09:50:57.806Z"
   },
   {
    "duration": 19,
    "start_time": "2023-05-11T09:50:57.865Z"
   },
   {
    "duration": 275,
    "start_time": "2023-05-11T09:50:57.886Z"
   },
   {
    "duration": 327,
    "start_time": "2023-05-11T09:50:58.163Z"
   },
   {
    "duration": 271,
    "start_time": "2023-05-11T09:50:58.497Z"
   },
   {
    "duration": 280,
    "start_time": "2023-05-11T09:50:58.777Z"
   },
   {
    "duration": 269,
    "start_time": "2023-05-11T09:50:59.060Z"
   },
   {
    "duration": 181,
    "start_time": "2023-05-11T09:52:19.855Z"
   },
   {
    "duration": 6,
    "start_time": "2023-05-11T09:56:10.488Z"
   },
   {
    "duration": 11,
    "start_time": "2023-05-11T09:56:14.260Z"
   },
   {
    "duration": 145,
    "start_time": "2023-05-11T10:01:54.991Z"
   },
   {
    "duration": 20,
    "start_time": "2023-05-11T10:02:08.004Z"
   },
   {
    "duration": 262,
    "start_time": "2023-05-11T10:04:42.822Z"
   },
   {
    "duration": 22,
    "start_time": "2023-05-11T10:05:17.707Z"
   },
   {
    "duration": 22,
    "start_time": "2023-05-11T10:06:23.197Z"
   },
   {
    "duration": 469,
    "start_time": "2023-05-11T10:06:50.219Z"
   },
   {
    "duration": 510,
    "start_time": "2023-05-11T10:07:05.917Z"
   },
   {
    "duration": 353,
    "start_time": "2023-05-11T10:07:52.162Z"
   },
   {
    "duration": 1724,
    "start_time": "2023-05-11T10:35:56.834Z"
   },
   {
    "duration": 3,
    "start_time": "2023-05-11T10:35:58.561Z"
   },
   {
    "duration": 29,
    "start_time": "2023-05-11T10:35:58.567Z"
   },
   {
    "duration": 931,
    "start_time": "2023-05-11T10:35:58.599Z"
   },
   {
    "duration": 358,
    "start_time": "2023-05-11T10:35:59.532Z"
   },
   {
    "duration": 8,
    "start_time": "2023-05-11T10:35:59.892Z"
   },
   {
    "duration": 6,
    "start_time": "2023-05-11T10:35:59.902Z"
   },
   {
    "duration": 16,
    "start_time": "2023-05-11T10:35:59.911Z"
   },
   {
    "duration": 8,
    "start_time": "2023-05-11T10:35:59.930Z"
   },
   {
    "duration": 9048,
    "start_time": "2023-05-11T10:35:59.941Z"
   },
   {
    "duration": 44,
    "start_time": "2023-05-11T10:36:08.991Z"
   },
   {
    "duration": 6,
    "start_time": "2023-05-11T10:36:09.037Z"
   },
   {
    "duration": 195,
    "start_time": "2023-05-11T10:36:09.044Z"
   },
   {
    "duration": 254,
    "start_time": "2023-05-11T10:36:09.241Z"
   },
   {
    "duration": 268,
    "start_time": "2023-05-11T10:36:09.499Z"
   },
   {
    "duration": 286,
    "start_time": "2023-05-11T10:36:09.771Z"
   },
   {
    "duration": 232,
    "start_time": "2023-05-11T10:36:10.059Z"
   },
   {
    "duration": 21,
    "start_time": "2023-05-11T10:36:29.903Z"
   },
   {
    "duration": 464,
    "start_time": "2023-05-11T10:36:33.323Z"
   },
   {
    "duration": 305,
    "start_time": "2023-05-11T10:51:58.489Z"
   },
   {
    "duration": 170,
    "start_time": "2023-05-11T10:53:41.131Z"
   },
   {
    "duration": 195,
    "start_time": "2023-05-11T10:55:18.294Z"
   },
   {
    "duration": 25,
    "start_time": "2023-05-11T11:05:35.664Z"
   },
   {
    "duration": 10,
    "start_time": "2023-05-11T11:06:49.458Z"
   },
   {
    "duration": 21,
    "start_time": "2023-05-11T11:07:19.691Z"
   },
   {
    "duration": 18,
    "start_time": "2023-05-11T11:07:54.845Z"
   },
   {
    "duration": 20,
    "start_time": "2023-05-11T11:08:39.190Z"
   },
   {
    "duration": 152,
    "start_time": "2023-05-11T11:19:14.861Z"
   },
   {
    "duration": 20,
    "start_time": "2023-05-11T11:19:32.756Z"
   },
   {
    "duration": 337,
    "start_time": "2023-05-11T11:19:38.906Z"
   },
   {
    "duration": 318,
    "start_time": "2023-05-11T11:31:32.202Z"
   },
   {
    "duration": 279,
    "start_time": "2023-05-11T11:33:32.179Z"
   },
   {
    "duration": 20,
    "start_time": "2023-05-11T11:33:45.924Z"
   },
   {
    "duration": 22,
    "start_time": "2023-05-11T11:34:51.715Z"
   },
   {
    "duration": 407,
    "start_time": "2023-05-11T11:42:20.377Z"
   },
   {
    "duration": 125,
    "start_time": "2023-05-11T11:43:08.012Z"
   },
   {
    "duration": 4,
    "start_time": "2023-05-11T11:45:09.690Z"
   },
   {
    "duration": 309,
    "start_time": "2023-05-11T11:45:13.513Z"
   },
   {
    "duration": 3,
    "start_time": "2023-05-11T11:46:51.090Z"
   },
   {
    "duration": 309,
    "start_time": "2023-05-11T11:46:54.747Z"
   },
   {
    "duration": 3,
    "start_time": "2023-05-11T11:47:05.660Z"
   },
   {
    "duration": 281,
    "start_time": "2023-05-11T11:47:09.313Z"
   },
   {
    "duration": 3,
    "start_time": "2023-05-11T11:47:31.824Z"
   },
   {
    "duration": 337,
    "start_time": "2023-05-11T11:47:36.117Z"
   },
   {
    "duration": 2005,
    "start_time": "2023-05-11T12:21:59.300Z"
   },
   {
    "duration": 4,
    "start_time": "2023-05-11T12:22:01.307Z"
   },
   {
    "duration": 49,
    "start_time": "2023-05-11T12:22:01.313Z"
   },
   {
    "duration": 45,
    "start_time": "2023-05-11T12:22:01.365Z"
   },
   {
    "duration": 141,
    "start_time": "2023-05-11T12:22:04.545Z"
   },
   {
    "duration": 878,
    "start_time": "2023-05-11T12:26:43.535Z"
   },
   {
    "duration": 311,
    "start_time": "2023-05-11T12:27:14.599Z"
   },
   {
    "duration": 10,
    "start_time": "2023-05-11T12:27:38.828Z"
   },
   {
    "duration": 4,
    "start_time": "2023-05-11T12:27:45.847Z"
   },
   {
    "duration": 10,
    "start_time": "2023-05-11T12:27:49.736Z"
   },
   {
    "duration": 8,
    "start_time": "2023-05-11T12:27:53.601Z"
   },
   {
    "duration": 9212,
    "start_time": "2023-05-11T12:27:59.205Z"
   },
   {
    "duration": 48,
    "start_time": "2023-05-11T12:28:20.939Z"
   },
   {
    "duration": 341,
    "start_time": "2023-05-11T12:28:27.638Z"
   },
   {
    "duration": 289,
    "start_time": "2023-05-11T12:28:33.438Z"
   },
   {
    "duration": 265,
    "start_time": "2023-05-11T12:28:37.266Z"
   },
   {
    "duration": 270,
    "start_time": "2023-05-11T12:28:41.447Z"
   },
   {
    "duration": 23,
    "start_time": "2023-05-11T12:28:47.320Z"
   },
   {
    "duration": 441,
    "start_time": "2023-05-11T12:28:49.649Z"
   },
   {
    "duration": 64,
    "start_time": "2023-05-11T12:29:50.600Z"
   },
   {
    "duration": 331,
    "start_time": "2023-05-11T12:30:14.647Z"
   },
   {
    "duration": 5,
    "start_time": "2023-05-11T12:31:54.755Z"
   },
   {
    "duration": 49,
    "start_time": "2023-05-11T12:32:03.341Z"
   },
   {
    "duration": 5,
    "start_time": "2023-05-11T12:32:06.230Z"
   },
   {
    "duration": 1969,
    "start_time": "2023-05-11T12:34:17.186Z"
   },
   {
    "duration": 3,
    "start_time": "2023-05-11T12:34:19.158Z"
   },
   {
    "duration": 34,
    "start_time": "2023-05-11T12:34:19.163Z"
   },
   {
    "duration": 10,
    "start_time": "2023-05-11T12:34:19.199Z"
   },
   {
    "duration": 934,
    "start_time": "2023-05-11T12:34:19.212Z"
   },
   {
    "duration": 344,
    "start_time": "2023-05-11T12:34:20.147Z"
   },
   {
    "duration": 7,
    "start_time": "2023-05-11T12:34:20.493Z"
   },
   {
    "duration": 29,
    "start_time": "2023-05-11T12:34:20.502Z"
   },
   {
    "duration": 54,
    "start_time": "2023-05-11T12:34:20.533Z"
   },
   {
    "duration": 62,
    "start_time": "2023-05-11T12:34:20.589Z"
   },
   {
    "duration": 8704,
    "start_time": "2023-05-11T12:34:20.653Z"
   },
   {
    "duration": 48,
    "start_time": "2023-05-11T12:34:29.359Z"
   },
   {
    "duration": 16,
    "start_time": "2023-05-11T12:34:29.410Z"
   },
   {
    "duration": 286,
    "start_time": "2023-05-11T12:34:29.431Z"
   },
   {
    "duration": 260,
    "start_time": "2023-05-11T12:34:29.719Z"
   },
   {
    "duration": 272,
    "start_time": "2023-05-11T12:34:29.985Z"
   },
   {
    "duration": 313,
    "start_time": "2023-05-11T12:34:30.259Z"
   },
   {
    "duration": 70,
    "start_time": "2023-05-11T12:34:30.579Z"
   },
   {
    "duration": 467,
    "start_time": "2023-05-11T12:34:30.651Z"
   },
   {
    "duration": 6,
    "start_time": "2023-05-11T12:34:50.792Z"
   },
   {
    "duration": 67,
    "start_time": "2023-05-11T12:37:27.120Z"
   },
   {
    "duration": 1947,
    "start_time": "2023-05-11T12:39:11.373Z"
   },
   {
    "duration": 3,
    "start_time": "2023-05-11T12:39:13.322Z"
   },
   {
    "duration": 15,
    "start_time": "2023-05-11T12:39:13.328Z"
   },
   {
    "duration": 29,
    "start_time": "2023-05-11T12:39:13.346Z"
   },
   {
    "duration": 925,
    "start_time": "2023-05-11T12:39:13.380Z"
   },
   {
    "duration": 354,
    "start_time": "2023-05-11T12:39:14.308Z"
   },
   {
    "duration": 18,
    "start_time": "2023-05-11T12:39:14.664Z"
   },
   {
    "duration": 12,
    "start_time": "2023-05-11T12:39:14.685Z"
   },
   {
    "duration": 27,
    "start_time": "2023-05-11T12:39:14.699Z"
   },
   {
    "duration": 8,
    "start_time": "2023-05-11T12:39:14.729Z"
   },
   {
    "duration": 8857,
    "start_time": "2023-05-11T12:39:14.739Z"
   },
   {
    "duration": 39,
    "start_time": "2023-05-11T12:39:23.598Z"
   },
   {
    "duration": 6,
    "start_time": "2023-05-11T12:39:23.640Z"
   },
   {
    "duration": 323,
    "start_time": "2023-05-11T12:39:23.676Z"
   },
   {
    "duration": 263,
    "start_time": "2023-05-11T12:39:24.001Z"
   },
   {
    "duration": 294,
    "start_time": "2023-05-11T12:39:24.266Z"
   },
   {
    "duration": 301,
    "start_time": "2023-05-11T12:39:24.563Z"
   },
   {
    "duration": 70,
    "start_time": "2023-05-11T12:39:24.866Z"
   },
   {
    "duration": 446,
    "start_time": "2023-05-11T12:39:24.938Z"
   },
   {
    "duration": 5,
    "start_time": "2023-05-11T12:39:25.388Z"
   },
   {
    "duration": 58,
    "start_time": "2023-05-11T12:39:25.396Z"
   },
   {
    "duration": 8,
    "start_time": "2023-05-11T12:39:25.456Z"
   },
   {
    "duration": 32,
    "start_time": "2023-05-11T12:39:42.809Z"
   },
   {
    "duration": 2350,
    "start_time": "2023-05-11T12:40:49.781Z"
   },
   {
    "duration": 3,
    "start_time": "2023-05-11T12:40:52.134Z"
   },
   {
    "duration": 23,
    "start_time": "2023-05-11T12:40:52.139Z"
   },
   {
    "duration": 36,
    "start_time": "2023-05-11T12:40:52.164Z"
   },
   {
    "duration": 932,
    "start_time": "2023-05-11T12:40:52.204Z"
   },
   {
    "duration": 351,
    "start_time": "2023-05-11T12:40:53.138Z"
   },
   {
    "duration": 8,
    "start_time": "2023-05-11T12:40:53.492Z"
   },
   {
    "duration": 27,
    "start_time": "2023-05-11T12:40:53.502Z"
   },
   {
    "duration": 32,
    "start_time": "2023-05-11T12:40:53.531Z"
   },
   {
    "duration": 37,
    "start_time": "2023-05-11T12:40:53.566Z"
   },
   {
    "duration": 8680,
    "start_time": "2023-05-11T12:40:53.606Z"
   },
   {
    "duration": 36,
    "start_time": "2023-05-11T12:41:02.288Z"
   },
   {
    "duration": 36,
    "start_time": "2023-05-11T12:41:02.327Z"
   },
   {
    "duration": 313,
    "start_time": "2023-05-11T12:41:02.366Z"
   },
   {
    "duration": 249,
    "start_time": "2023-05-11T12:41:02.682Z"
   },
   {
    "duration": 268,
    "start_time": "2023-05-11T12:41:02.933Z"
   },
   {
    "duration": 295,
    "start_time": "2023-05-11T12:41:03.204Z"
   },
   {
    "duration": 83,
    "start_time": "2023-05-11T12:41:03.502Z"
   },
   {
    "duration": 421,
    "start_time": "2023-05-11T12:41:03.588Z"
   },
   {
    "duration": 4,
    "start_time": "2023-05-11T12:41:09.520Z"
   },
   {
    "duration": 178,
    "start_time": "2023-05-11T12:41:12.791Z"
   },
   {
    "duration": 5,
    "start_time": "2023-05-11T12:43:12.541Z"
   },
   {
    "duration": 19,
    "start_time": "2023-05-11T12:43:15.386Z"
   },
   {
    "duration": 5,
    "start_time": "2023-05-11T12:43:17.551Z"
   },
   {
    "duration": 4,
    "start_time": "2023-05-11T12:43:32.255Z"
   },
   {
    "duration": 5,
    "start_time": "2023-05-11T12:43:43.087Z"
   },
   {
    "duration": 13,
    "start_time": "2023-05-11T12:44:13.410Z"
   },
   {
    "duration": 4,
    "start_time": "2023-05-11T12:44:24.220Z"
   },
   {
    "duration": 1747,
    "start_time": "2023-05-11T12:45:42.605Z"
   },
   {
    "duration": 2,
    "start_time": "2023-05-11T12:45:44.355Z"
   },
   {
    "duration": 8,
    "start_time": "2023-05-11T12:45:44.359Z"
   },
   {
    "duration": 11,
    "start_time": "2023-05-11T12:45:44.380Z"
   },
   {
    "duration": 865,
    "start_time": "2023-05-11T12:45:44.395Z"
   },
   {
    "duration": 321,
    "start_time": "2023-05-11T12:45:45.262Z"
   },
   {
    "duration": 7,
    "start_time": "2023-05-11T12:45:45.586Z"
   },
   {
    "duration": 63,
    "start_time": "2023-05-11T12:45:45.594Z"
   },
   {
    "duration": 42,
    "start_time": "2023-05-11T12:45:45.659Z"
   },
   {
    "duration": 18,
    "start_time": "2023-05-11T12:45:45.703Z"
   },
   {
    "duration": 8699,
    "start_time": "2023-05-11T12:45:45.723Z"
   },
   {
    "duration": 50,
    "start_time": "2023-05-11T12:45:54.424Z"
   },
   {
    "duration": 39,
    "start_time": "2023-05-11T12:45:54.477Z"
   },
   {
    "duration": 297,
    "start_time": "2023-05-11T12:45:54.519Z"
   },
   {
    "duration": 268,
    "start_time": "2023-05-11T12:45:54.819Z"
   },
   {
    "duration": 277,
    "start_time": "2023-05-11T12:45:55.090Z"
   },
   {
    "duration": 291,
    "start_time": "2023-05-11T12:45:55.369Z"
   },
   {
    "duration": 80,
    "start_time": "2023-05-11T12:45:55.663Z"
   },
   {
    "duration": 480,
    "start_time": "2023-05-11T12:45:55.745Z"
   },
   {
    "duration": 5,
    "start_time": "2023-05-11T12:45:56.228Z"
   },
   {
    "duration": 32,
    "start_time": "2023-05-11T12:46:16.550Z"
   },
   {
    "duration": 5,
    "start_time": "2023-05-11T12:48:30.997Z"
   },
   {
    "duration": 151,
    "start_time": "2023-05-11T12:48:34.690Z"
   },
   {
    "duration": 7,
    "start_time": "2023-05-11T12:48:56.935Z"
   },
   {
    "duration": 10,
    "start_time": "2023-05-11T12:48:59.214Z"
   },
   {
    "duration": 5,
    "start_time": "2023-05-11T12:49:07.759Z"
   },
   {
    "duration": 8,
    "start_time": "2023-05-11T12:51:38.967Z"
   },
   {
    "duration": 24,
    "start_time": "2023-05-11T12:51:47.199Z"
   },
   {
    "duration": 4,
    "start_time": "2023-05-11T13:02:45.549Z"
   },
   {
    "duration": 18,
    "start_time": "2023-05-11T13:04:07.898Z"
   },
   {
    "duration": 4,
    "start_time": "2023-05-11T13:04:12.665Z"
   },
   {
    "duration": 2030,
    "start_time": "2023-05-11T13:18:01.018Z"
   },
   {
    "duration": 3,
    "start_time": "2023-05-11T13:18:03.050Z"
   },
   {
    "duration": 13,
    "start_time": "2023-05-11T13:18:03.055Z"
   },
   {
    "duration": 35,
    "start_time": "2023-05-11T13:18:03.070Z"
   },
   {
    "duration": 1019,
    "start_time": "2023-05-11T13:18:03.108Z"
   },
   {
    "duration": 369,
    "start_time": "2023-05-11T13:18:04.130Z"
   },
   {
    "duration": 11,
    "start_time": "2023-05-11T13:18:04.502Z"
   },
   {
    "duration": 33,
    "start_time": "2023-05-11T13:18:04.516Z"
   },
   {
    "duration": 58,
    "start_time": "2023-05-11T13:18:04.551Z"
   },
   {
    "duration": 23,
    "start_time": "2023-05-11T13:18:04.611Z"
   },
   {
    "duration": 8954,
    "start_time": "2023-05-11T13:18:04.636Z"
   },
   {
    "duration": 37,
    "start_time": "2023-05-11T13:18:13.592Z"
   },
   {
    "duration": 8,
    "start_time": "2023-05-11T13:18:13.630Z"
   },
   {
    "duration": 308,
    "start_time": "2023-05-11T13:18:13.641Z"
   },
   {
    "duration": 267,
    "start_time": "2023-05-11T13:18:13.950Z"
   },
   {
    "duration": 294,
    "start_time": "2023-05-11T13:18:14.219Z"
   },
   {
    "duration": 308,
    "start_time": "2023-05-11T13:18:14.515Z"
   },
   {
    "duration": 73,
    "start_time": "2023-05-11T13:18:14.825Z"
   },
   {
    "duration": 419,
    "start_time": "2023-05-11T13:18:14.901Z"
   },
   {
    "duration": 187,
    "start_time": "2023-05-11T13:18:37.869Z"
   },
   {
    "duration": 14,
    "start_time": "2023-05-11T13:19:12.446Z"
   },
   {
    "duration": 18,
    "start_time": "2023-05-11T13:33:27.468Z"
   },
   {
    "duration": 8,
    "start_time": "2023-05-11T13:33:38.971Z"
   },
   {
    "duration": 6,
    "start_time": "2023-05-11T13:35:08.024Z"
   },
   {
    "duration": 6,
    "start_time": "2023-05-11T13:37:35.549Z"
   },
   {
    "duration": 10,
    "start_time": "2023-05-11T13:37:39.006Z"
   },
   {
    "duration": 67,
    "start_time": "2023-05-11T19:36:12.160Z"
   },
   {
    "duration": 2244,
    "start_time": "2023-05-11T19:36:30.348Z"
   },
   {
    "duration": 2,
    "start_time": "2023-05-11T19:36:32.595Z"
   },
   {
    "duration": 32,
    "start_time": "2023-05-11T19:36:32.599Z"
   },
   {
    "duration": 11,
    "start_time": "2023-05-11T19:36:32.634Z"
   },
   {
    "duration": 3677,
    "start_time": "2023-05-11T19:36:32.648Z"
   },
   {
    "duration": 312,
    "start_time": "2023-05-11T19:36:36.326Z"
   },
   {
    "duration": 7,
    "start_time": "2023-05-11T19:36:36.640Z"
   },
   {
    "duration": 8,
    "start_time": "2023-05-11T19:36:36.649Z"
   },
   {
    "duration": 13,
    "start_time": "2023-05-11T19:36:36.659Z"
   },
   {
    "duration": 14,
    "start_time": "2023-05-11T19:36:36.689Z"
   },
   {
    "duration": 8537,
    "start_time": "2023-05-11T19:36:36.705Z"
   },
   {
    "duration": 33,
    "start_time": "2023-05-11T19:36:45.244Z"
   },
   {
    "duration": 17,
    "start_time": "2023-05-11T19:36:45.278Z"
   },
   {
    "duration": 276,
    "start_time": "2023-05-11T19:36:45.298Z"
   },
   {
    "duration": 384,
    "start_time": "2023-05-11T19:36:45.576Z"
   },
   {
    "duration": 269,
    "start_time": "2023-05-11T19:36:45.962Z"
   },
   {
    "duration": 323,
    "start_time": "2023-05-11T19:36:46.234Z"
   },
   {
    "duration": 84,
    "start_time": "2023-05-11T19:36:46.559Z"
   },
   {
    "duration": 352,
    "start_time": "2023-05-11T19:36:46.645Z"
   },
   {
    "duration": 30,
    "start_time": "2023-05-11T19:36:46.999Z"
   },
   {
    "duration": 21,
    "start_time": "2023-05-11T19:36:53.380Z"
   },
   {
    "duration": 4,
    "start_time": "2023-05-11T19:37:08.183Z"
   },
   {
    "duration": 4,
    "start_time": "2023-05-11T20:20:57.408Z"
   },
   {
    "duration": 3,
    "start_time": "2023-05-11T20:20:58.657Z"
   },
   {
    "duration": 109,
    "start_time": "2023-05-11T21:03:21.577Z"
   },
   {
    "duration": 8,
    "start_time": "2023-05-11T21:04:40.107Z"
   },
   {
    "duration": 101,
    "start_time": "2023-05-11T21:04:43.082Z"
   },
   {
    "duration": 1097,
    "start_time": "2023-05-11T21:05:24.510Z"
   },
   {
    "duration": 1054,
    "start_time": "2023-05-11T21:05:44.345Z"
   },
   {
    "duration": 14,
    "start_time": "2023-05-11T21:39:04.487Z"
   },
   {
    "duration": 4,
    "start_time": "2023-05-11T21:40:01.267Z"
   },
   {
    "duration": 11,
    "start_time": "2023-05-11T21:40:13.734Z"
   },
   {
    "duration": 3,
    "start_time": "2023-05-11T21:40:23.307Z"
   },
   {
    "duration": 838,
    "start_time": "2023-05-11T21:45:44.771Z"
   },
   {
    "duration": 5,
    "start_time": "2023-05-11T21:47:40.446Z"
   },
   {
    "duration": 3,
    "start_time": "2023-05-11T21:47:43.753Z"
   },
   {
    "duration": 534,
    "start_time": "2023-05-11T21:47:49.563Z"
   },
   {
    "duration": 3,
    "start_time": "2023-05-11T21:53:26.530Z"
   },
   {
    "duration": 4,
    "start_time": "2023-05-11T21:53:30.422Z"
   },
   {
    "duration": 955,
    "start_time": "2023-05-11T21:53:41.550Z"
   },
   {
    "duration": 3,
    "start_time": "2023-05-11T21:58:29.601Z"
   },
   {
    "duration": 3,
    "start_time": "2023-05-11T21:58:32.443Z"
   },
   {
    "duration": 968,
    "start_time": "2023-05-11T21:58:37.125Z"
   },
   {
    "duration": 3,
    "start_time": "2023-05-11T21:59:04.947Z"
   },
   {
    "duration": 13,
    "start_time": "2023-05-11T21:59:19.687Z"
   },
   {
    "duration": 989,
    "start_time": "2023-05-11T21:59:26.206Z"
   },
   {
    "duration": 3,
    "start_time": "2023-05-11T22:02:07.963Z"
   },
   {
    "duration": 4,
    "start_time": "2023-05-11T22:02:12.309Z"
   },
   {
    "duration": 858,
    "start_time": "2023-05-11T22:02:18.142Z"
   },
   {
    "duration": 1930,
    "start_time": "2023-05-12T08:17:20.909Z"
   },
   {
    "duration": 7,
    "start_time": "2023-05-12T08:17:22.841Z"
   },
   {
    "duration": 17,
    "start_time": "2023-05-12T08:17:22.850Z"
   },
   {
    "duration": 9,
    "start_time": "2023-05-12T08:17:22.869Z"
   },
   {
    "duration": 2492,
    "start_time": "2023-05-12T08:17:22.880Z"
   },
   {
    "duration": 287,
    "start_time": "2023-05-12T08:17:25.375Z"
   },
   {
    "duration": 8,
    "start_time": "2023-05-12T08:17:25.664Z"
   },
   {
    "duration": 43,
    "start_time": "2023-05-12T08:17:25.674Z"
   },
   {
    "duration": 43,
    "start_time": "2023-05-12T08:17:25.719Z"
   },
   {
    "duration": 37,
    "start_time": "2023-05-12T08:17:25.764Z"
   },
   {
    "duration": 7986,
    "start_time": "2023-05-12T08:17:25.804Z"
   },
   {
    "duration": 31,
    "start_time": "2023-05-12T08:17:33.792Z"
   },
   {
    "duration": 22,
    "start_time": "2023-05-12T08:17:33.824Z"
   },
   {
    "duration": 232,
    "start_time": "2023-05-12T08:17:33.849Z"
   },
   {
    "duration": 227,
    "start_time": "2023-05-12T08:17:34.084Z"
   },
   {
    "duration": 254,
    "start_time": "2023-05-12T08:17:34.314Z"
   },
   {
    "duration": 268,
    "start_time": "2023-05-12T08:17:34.570Z"
   },
   {
    "duration": 57,
    "start_time": "2023-05-12T08:17:34.840Z"
   },
   {
    "duration": 357,
    "start_time": "2023-05-12T08:17:34.899Z"
   },
   {
    "duration": 27,
    "start_time": "2023-05-12T08:17:35.258Z"
   },
   {
    "duration": 15,
    "start_time": "2023-05-12T08:18:07.406Z"
   },
   {
    "duration": 3,
    "start_time": "2023-05-12T08:18:10.661Z"
   },
   {
    "duration": 72,
    "start_time": "2023-05-12T08:21:46.540Z"
   },
   {
    "duration": 65,
    "start_time": "2023-05-12T08:22:39.924Z"
   },
   {
    "duration": 52,
    "start_time": "2023-05-12T08:23:12.702Z"
   },
   {
    "duration": 49,
    "start_time": "2023-05-12T08:23:56.941Z"
   },
   {
    "duration": 175,
    "start_time": "2023-05-12T08:27:15.042Z"
   },
   {
    "duration": 4,
    "start_time": "2023-05-12T08:28:03.485Z"
   },
   {
    "duration": 4,
    "start_time": "2023-05-12T08:28:11.202Z"
   },
   {
    "duration": 145,
    "start_time": "2023-05-12T08:28:17.553Z"
   },
   {
    "duration": 4,
    "start_time": "2023-05-12T08:28:23.049Z"
   },
   {
    "duration": 1052,
    "start_time": "2023-05-12T08:28:29.000Z"
   },
   {
    "duration": 5,
    "start_time": "2023-05-12T08:29:13.220Z"
   },
   {
    "duration": 4,
    "start_time": "2023-05-12T08:29:16.154Z"
   },
   {
    "duration": 1113,
    "start_time": "2023-05-12T08:29:20.540Z"
   },
   {
    "duration": 2146,
    "start_time": "2023-05-12T08:37:55.708Z"
   },
   {
    "duration": 4,
    "start_time": "2023-05-12T08:38:20.977Z"
   },
   {
    "duration": 2734,
    "start_time": "2023-05-12T08:39:04.817Z"
   },
   {
    "duration": 3298,
    "start_time": "2023-05-12T08:39:42.950Z"
   },
   {
    "duration": 23,
    "start_time": "2023-05-12T09:07:15.489Z"
   },
   {
    "duration": 4,
    "start_time": "2023-05-12T09:24:35.253Z"
   },
   {
    "duration": 3,
    "start_time": "2023-05-12T09:24:37.002Z"
   },
   {
    "duration": 3,
    "start_time": "2023-05-12T09:24:40.495Z"
   },
   {
    "duration": 31,
    "start_time": "2023-05-12T09:24:43.663Z"
   },
   {
    "duration": 3,
    "start_time": "2023-05-12T09:30:11.913Z"
   },
   {
    "duration": 3,
    "start_time": "2023-05-12T09:30:17.385Z"
   },
   {
    "duration": 34,
    "start_time": "2023-05-12T09:30:20.588Z"
   },
   {
    "duration": 5,
    "start_time": "2023-05-12T09:33:52.432Z"
   },
   {
    "duration": 3,
    "start_time": "2023-05-12T09:33:59.855Z"
   },
   {
    "duration": 39297,
    "start_time": "2023-05-12T09:34:03.095Z"
   },
   {
    "duration": 4,
    "start_time": "2023-05-12T09:34:56.746Z"
   },
   {
    "duration": 4,
    "start_time": "2023-05-12T09:37:05.049Z"
   },
   {
    "duration": 3,
    "start_time": "2023-05-12T09:37:08.199Z"
   },
   {
    "duration": 118,
    "start_time": "2023-05-12T09:38:02.466Z"
   },
   {
    "duration": 3,
    "start_time": "2023-05-12T09:38:46.798Z"
   },
   {
    "duration": 4,
    "start_time": "2023-05-12T09:38:48.892Z"
   },
   {
    "duration": 48338,
    "start_time": "2023-05-12T09:38:51.057Z"
   },
   {
    "duration": 4,
    "start_time": "2023-05-12T09:39:51.894Z"
   },
   {
    "duration": 4,
    "start_time": "2023-05-12T09:40:47.738Z"
   },
   {
    "duration": 61320,
    "start_time": "2023-05-12T09:42:33.110Z"
   },
   {
    "duration": 4,
    "start_time": "2023-05-12T09:50:50.953Z"
   },
   {
    "duration": 4,
    "start_time": "2023-05-12T10:06:55.336Z"
   },
   {
    "duration": 6,
    "start_time": "2023-05-12T10:19:31.187Z"
   },
   {
    "duration": 51102,
    "start_time": "2023-05-12T10:19:57.458Z"
   },
   {
    "duration": 4,
    "start_time": "2023-05-12T10:20:56.531Z"
   },
   {
    "duration": 4,
    "start_time": "2023-05-12T10:21:14.309Z"
   },
   {
    "duration": 5,
    "start_time": "2023-05-12T10:22:55.517Z"
   },
   {
    "duration": 4,
    "start_time": "2023-05-12T10:23:10.783Z"
   },
   {
    "duration": 49070,
    "start_time": "2023-05-12T10:29:25.550Z"
   },
   {
    "duration": 60821,
    "start_time": "2023-05-12T10:33:17.743Z"
   },
   {
    "duration": 6,
    "start_time": "2023-05-12T10:34:23.032Z"
   },
   {
    "duration": 12,
    "start_time": "2023-05-12T10:53:07.988Z"
   },
   {
    "duration": 3,
    "start_time": "2023-05-12T10:53:50.396Z"
   },
   {
    "duration": 3,
    "start_time": "2023-05-12T10:54:03.430Z"
   },
   {
    "duration": 3,
    "start_time": "2023-05-12T10:54:11.721Z"
   },
   {
    "duration": 494166,
    "start_time": "2023-05-12T10:54:14.941Z"
   },
   {
    "duration": 6,
    "start_time": "2023-05-12T11:02:58.441Z"
   },
   {
    "duration": 4,
    "start_time": "2023-05-12T11:03:26.258Z"
   },
   {
    "duration": 3,
    "start_time": "2023-05-12T11:03:33.524Z"
   },
   {
    "duration": 141,
    "start_time": "2023-05-12T11:03:40.518Z"
   },
   {
    "duration": 3,
    "start_time": "2023-05-12T11:08:27.283Z"
   },
   {
    "duration": 4,
    "start_time": "2023-05-12T11:08:29.070Z"
   },
   {
    "duration": 3,
    "start_time": "2023-05-12T11:08:33.714Z"
   },
   {
    "duration": 5967,
    "start_time": "2023-05-12T11:08:38.254Z"
   },
   {
    "duration": 4,
    "start_time": "2023-05-12T11:09:49.557Z"
   },
   {
    "duration": 3,
    "start_time": "2023-05-12T11:09:52.623Z"
   },
   {
    "duration": 101,
    "start_time": "2023-05-12T11:09:55.350Z"
   },
   {
    "duration": 4,
    "start_time": "2023-05-12T12:03:55.059Z"
   },
   {
    "duration": 3,
    "start_time": "2023-05-12T12:03:58.112Z"
   },
   {
    "duration": 3,
    "start_time": "2023-05-12T12:04:01.593Z"
   },
   {
    "duration": 164040,
    "start_time": "2023-05-12T12:04:06.113Z"
   },
   {
    "duration": 528382,
    "start_time": "2023-05-12T12:07:03.581Z"
   },
   {
    "duration": 136573,
    "start_time": "2023-05-12T12:16:10.390Z"
   },
   {
    "duration": 91773,
    "start_time": "2023-05-12T12:18:32.505Z"
   },
   {
    "duration": 3153,
    "start_time": "2023-05-12T12:20:12.394Z"
   },
   {
    "duration": 5,
    "start_time": "2023-05-12T12:20:25.364Z"
   },
   {
    "duration": 4,
    "start_time": "2023-05-12T12:20:29.678Z"
   },
   {
    "duration": 3,
    "start_time": "2023-05-12T12:20:31.906Z"
   },
   {
    "duration": 409497,
    "start_time": "2023-05-12T12:20:36.031Z"
   },
   {
    "duration": 163168,
    "start_time": "2023-05-12T12:38:44.109Z"
   },
   {
    "duration": 847182,
    "start_time": "2023-05-12T12:42:57.341Z"
   },
   {
    "duration": 1592,
    "start_time": "2023-05-12T13:24:07.882Z"
   },
   {
    "duration": 3,
    "start_time": "2023-05-12T13:24:09.477Z"
   },
   {
    "duration": 34,
    "start_time": "2023-05-12T13:24:09.482Z"
   },
   {
    "duration": 13,
    "start_time": "2023-05-12T13:24:09.519Z"
   },
   {
    "duration": 927,
    "start_time": "2023-05-12T13:24:09.535Z"
   },
   {
    "duration": 297,
    "start_time": "2023-05-12T13:24:10.464Z"
   },
   {
    "duration": 7,
    "start_time": "2023-05-12T13:24:10.763Z"
   },
   {
    "duration": 10,
    "start_time": "2023-05-12T13:24:10.773Z"
   },
   {
    "duration": 20,
    "start_time": "2023-05-12T13:24:10.786Z"
   },
   {
    "duration": 21,
    "start_time": "2023-05-12T13:24:10.808Z"
   },
   {
    "duration": 8265,
    "start_time": "2023-05-12T13:24:10.831Z"
   },
   {
    "duration": 32,
    "start_time": "2023-05-12T13:24:19.098Z"
   },
   {
    "duration": 5,
    "start_time": "2023-05-12T13:24:19.147Z"
   },
   {
    "duration": 254,
    "start_time": "2023-05-12T13:24:19.156Z"
   },
   {
    "duration": 228,
    "start_time": "2023-05-12T13:24:19.412Z"
   },
   {
    "duration": 238,
    "start_time": "2023-05-12T13:24:19.645Z"
   },
   {
    "duration": 359,
    "start_time": "2023-05-12T13:24:19.885Z"
   },
   {
    "duration": 66,
    "start_time": "2023-05-12T13:24:20.247Z"
   },
   {
    "duration": 308,
    "start_time": "2023-05-12T13:24:20.315Z"
   },
   {
    "duration": 38,
    "start_time": "2023-05-12T13:24:20.625Z"
   },
   {
    "duration": 4,
    "start_time": "2023-05-12T13:24:20.664Z"
   },
   {
    "duration": 17,
    "start_time": "2023-05-12T13:24:20.670Z"
   },
   {
    "duration": 14,
    "start_time": "2023-05-12T13:24:20.689Z"
   },
   {
    "duration": 17,
    "start_time": "2023-05-12T13:24:20.705Z"
   },
   {
    "duration": 12,
    "start_time": "2023-05-12T13:24:20.724Z"
   },
   {
    "duration": 23,
    "start_time": "2023-05-12T13:24:20.738Z"
   },
   {
    "duration": 22,
    "start_time": "2023-05-12T13:24:20.763Z"
   },
   {
    "duration": 3,
    "start_time": "2023-05-12T13:24:33.595Z"
   },
   {
    "duration": 2863,
    "start_time": "2023-05-12T13:24:37.985Z"
   },
   {
    "duration": 4,
    "start_time": "2023-05-12T13:24:45.895Z"
   },
   {
    "duration": 3,
    "start_time": "2023-05-12T13:25:13.248Z"
   },
   {
    "duration": 3,
    "start_time": "2023-05-12T13:25:15.410Z"
   },
   {
    "duration": 140,
    "start_time": "2023-05-12T13:26:20.983Z"
   },
   {
    "duration": 5,
    "start_time": "2023-05-12T13:26:24.636Z"
   },
   {
    "duration": 4,
    "start_time": "2023-05-12T13:26:26.485Z"
   },
   {
    "duration": 94068,
    "start_time": "2023-05-12T13:26:28.893Z"
   },
   {
    "duration": 4,
    "start_time": "2023-05-12T13:28:47.256Z"
   },
   {
    "duration": 3,
    "start_time": "2023-05-12T13:28:50.095Z"
   },
   {
    "duration": 5,
    "start_time": "2023-05-12T13:28:55.704Z"
   },
   {
    "duration": 22386,
    "start_time": "2023-05-12T13:28:58.683Z"
   },
   {
    "duration": 27933,
    "start_time": "2023-05-12T13:29:30.388Z"
   },
   {
    "duration": 5,
    "start_time": "2023-05-12T13:30:04.450Z"
   },
   {
    "duration": 4,
    "start_time": "2023-05-12T13:30:26.517Z"
   },
   {
    "duration": 3,
    "start_time": "2023-05-12T13:30:29.435Z"
   },
   {
    "duration": 27749,
    "start_time": "2023-05-12T13:30:31.508Z"
   },
   {
    "duration": 34631,
    "start_time": "2023-05-12T13:31:11.982Z"
   },
   {
    "duration": 6,
    "start_time": "2023-05-12T13:31:51.739Z"
   },
   {
    "duration": 5,
    "start_time": "2023-05-12T13:33:02.985Z"
   },
   {
    "duration": 4,
    "start_time": "2023-05-12T13:33:03.687Z"
   },
   {
    "duration": 4,
    "start_time": "2023-05-12T13:33:06.161Z"
   },
   {
    "duration": 177903,
    "start_time": "2023-05-12T13:33:14.407Z"
   },
   {
    "duration": 38670,
    "start_time": "2023-05-12T13:36:49.881Z"
   },
   {
    "duration": 164655,
    "start_time": "2023-05-12T13:38:04.795Z"
   },
   {
    "duration": 184278,
    "start_time": "2023-05-12T13:41:30.244Z"
   },
   {
    "duration": 399002,
    "start_time": "2023-05-12T13:46:11.544Z"
   },
   {
    "duration": 17,
    "start_time": "2023-05-12T13:52:50.549Z"
   },
   {
    "duration": 501453,
    "start_time": "2023-05-12T13:53:16.309Z"
   },
   {
    "duration": 5,
    "start_time": "2023-05-12T14:02:16.940Z"
   },
   {
    "duration": 5,
    "start_time": "2023-05-12T14:03:52.618Z"
   },
   {
    "duration": 4,
    "start_time": "2023-05-12T14:04:19.880Z"
   },
   {
    "duration": 35,
    "start_time": "2023-05-12T14:05:23.137Z"
   },
   {
    "duration": 16,
    "start_time": "2023-05-12T14:05:47.661Z"
   },
   {
    "duration": 9,
    "start_time": "2023-05-12T14:07:58.393Z"
   },
   {
    "duration": 15,
    "start_time": "2023-05-12T14:08:07.535Z"
   },
   {
    "duration": 6,
    "start_time": "2023-05-12T14:08:17.463Z"
   },
   {
    "duration": 4,
    "start_time": "2023-05-12T14:08:37.577Z"
   },
   {
    "duration": 14,
    "start_time": "2023-05-12T14:14:19.884Z"
   },
   {
    "duration": 7,
    "start_time": "2023-05-12T14:15:45.033Z"
   },
   {
    "duration": 5,
    "start_time": "2023-05-12T14:17:57.084Z"
   },
   {
    "duration": 21,
    "start_time": "2023-05-12T14:22:19.883Z"
   },
   {
    "duration": 1449,
    "start_time": "2023-05-12T14:23:54.979Z"
   },
   {
    "duration": 4,
    "start_time": "2023-05-12T14:23:56.430Z"
   },
   {
    "duration": 14,
    "start_time": "2023-05-12T14:23:56.436Z"
   },
   {
    "duration": 24,
    "start_time": "2023-05-12T14:23:56.452Z"
   },
   {
    "duration": 879,
    "start_time": "2023-05-12T14:23:56.479Z"
   },
   {
    "duration": 303,
    "start_time": "2023-05-12T14:23:57.360Z"
   },
   {
    "duration": 7,
    "start_time": "2023-05-12T14:23:57.664Z"
   },
   {
    "duration": 24,
    "start_time": "2023-05-12T14:23:57.673Z"
   },
   {
    "duration": 36,
    "start_time": "2023-05-12T14:23:57.699Z"
   },
   {
    "duration": 10,
    "start_time": "2023-05-12T14:23:57.738Z"
   },
   {
    "duration": 7880,
    "start_time": "2023-05-12T14:23:57.750Z"
   },
   {
    "duration": 39,
    "start_time": "2023-05-12T14:24:05.632Z"
   },
   {
    "duration": 5,
    "start_time": "2023-05-12T14:24:05.674Z"
   },
   {
    "duration": 263,
    "start_time": "2023-05-12T14:24:05.683Z"
   },
   {
    "duration": 239,
    "start_time": "2023-05-12T14:24:05.948Z"
   },
   {
    "duration": 239,
    "start_time": "2023-05-12T14:24:06.188Z"
   },
   {
    "duration": 344,
    "start_time": "2023-05-12T14:24:06.429Z"
   },
   {
    "duration": 59,
    "start_time": "2023-05-12T14:24:06.776Z"
   },
   {
    "duration": 292,
    "start_time": "2023-05-12T14:24:06.846Z"
   },
   {
    "duration": 28,
    "start_time": "2023-05-12T14:24:07.141Z"
   },
   {
    "duration": 4,
    "start_time": "2023-05-12T14:24:07.172Z"
   },
   {
    "duration": 10,
    "start_time": "2023-05-12T14:24:07.177Z"
   },
   {
    "duration": 15,
    "start_time": "2023-05-12T14:24:07.188Z"
   },
   {
    "duration": 27,
    "start_time": "2023-05-12T14:24:07.205Z"
   },
   {
    "duration": 14,
    "start_time": "2023-05-12T14:24:07.234Z"
   },
   {
    "duration": 42,
    "start_time": "2023-05-12T14:24:07.250Z"
   },
   {
    "duration": 30,
    "start_time": "2023-05-12T14:24:07.294Z"
   },
   {
    "duration": 16,
    "start_time": "2023-05-12T14:24:07.326Z"
   },
   {
    "duration": 11,
    "start_time": "2023-05-12T14:28:43.273Z"
   },
   {
    "duration": 4,
    "start_time": "2023-05-12T14:28:43.797Z"
   },
   {
    "duration": 13,
    "start_time": "2023-05-12T14:28:47.832Z"
   },
   {
    "duration": 38,
    "start_time": "2023-05-12T14:29:06.484Z"
   },
   {
    "duration": 14,
    "start_time": "2023-05-12T14:30:00.592Z"
   },
   {
    "duration": 4,
    "start_time": "2023-05-12T14:30:13.502Z"
   },
   {
    "duration": 6,
    "start_time": "2023-05-12T14:31:42.489Z"
   },
   {
    "duration": 6,
    "start_time": "2023-05-12T14:31:49.418Z"
   },
   {
    "duration": 5,
    "start_time": "2023-05-12T14:34:06.516Z"
   },
   {
    "duration": 594,
    "start_time": "2023-05-12T14:36:16.755Z"
   },
   {
    "duration": 3,
    "start_time": "2023-05-12T14:37:29.286Z"
   },
   {
    "duration": 6,
    "start_time": "2023-05-12T14:37:36.857Z"
   },
   {
    "duration": 57,
    "start_time": "2023-05-12T19:24:01.105Z"
   },
   {
    "duration": 1415,
    "start_time": "2023-05-12T19:24:29.121Z"
   },
   {
    "duration": 2,
    "start_time": "2023-05-12T19:24:30.537Z"
   },
   {
    "duration": 47,
    "start_time": "2023-05-12T19:24:30.541Z"
   },
   {
    "duration": 37,
    "start_time": "2023-05-12T19:24:30.589Z"
   },
   {
    "duration": 2316,
    "start_time": "2023-05-12T19:24:30.628Z"
   },
   {
    "duration": 220,
    "start_time": "2023-05-12T19:24:32.945Z"
   },
   {
    "duration": 5,
    "start_time": "2023-05-12T19:24:33.166Z"
   },
   {
    "duration": 8,
    "start_time": "2023-05-12T19:24:33.172Z"
   },
   {
    "duration": 9,
    "start_time": "2023-05-12T19:24:33.181Z"
   },
   {
    "duration": 7,
    "start_time": "2023-05-12T19:24:33.192Z"
   },
   {
    "duration": 6019,
    "start_time": "2023-05-12T19:24:33.200Z"
   },
   {
    "duration": 22,
    "start_time": "2023-05-12T19:24:39.221Z"
   },
   {
    "duration": 4,
    "start_time": "2023-05-12T19:24:39.244Z"
   },
   {
    "duration": 189,
    "start_time": "2023-05-12T19:24:39.251Z"
   },
   {
    "duration": 167,
    "start_time": "2023-05-12T19:24:39.442Z"
   },
   {
    "duration": 176,
    "start_time": "2023-05-12T19:24:39.610Z"
   },
   {
    "duration": 258,
    "start_time": "2023-05-12T19:24:39.788Z"
   },
   {
    "duration": 46,
    "start_time": "2023-05-12T19:24:40.048Z"
   },
   {
    "duration": 245,
    "start_time": "2023-05-12T19:24:40.096Z"
   },
   {
    "duration": 19,
    "start_time": "2023-05-12T19:24:40.343Z"
   },
   {
    "duration": 3,
    "start_time": "2023-05-12T19:24:40.363Z"
   },
   {
    "duration": 17,
    "start_time": "2023-05-12T19:24:40.368Z"
   },
   {
    "duration": 13,
    "start_time": "2023-05-12T19:24:40.387Z"
   },
   {
    "duration": 15,
    "start_time": "2023-05-12T19:24:40.401Z"
   },
   {
    "duration": 6,
    "start_time": "2023-05-12T19:24:40.417Z"
   },
   {
    "duration": 12,
    "start_time": "2023-05-12T19:24:40.424Z"
   },
   {
    "duration": 8,
    "start_time": "2023-05-12T19:24:40.437Z"
   },
   {
    "duration": 6,
    "start_time": "2023-05-12T19:24:40.446Z"
   },
   {
    "duration": 2421,
    "start_time": "2023-05-12T19:24:47.880Z"
   },
   {
    "duration": 7,
    "start_time": "2023-05-12T19:25:05.481Z"
   },
   {
    "duration": 4,
    "start_time": "2023-05-12T19:25:06.285Z"
   },
   {
    "duration": 6,
    "start_time": "2023-05-12T19:25:08.744Z"
   },
   {
    "duration": 312,
    "start_time": "2023-05-12T19:25:14.686Z"
   },
   {
    "duration": 3,
    "start_time": "2023-05-12T19:59:05.658Z"
   },
   {
    "duration": 2,
    "start_time": "2023-05-12T19:59:07.311Z"
   },
   {
    "duration": 6,
    "start_time": "2023-05-12T19:59:09.884Z"
   },
   {
    "duration": 24035,
    "start_time": "2023-05-12T19:59:12.347Z"
   },
   {
    "duration": 31088,
    "start_time": "2023-05-12T20:00:13.680Z"
   },
   {
    "duration": 5,
    "start_time": "2023-05-12T20:00:48.403Z"
   },
   {
    "duration": 12,
    "start_time": "2023-05-12T20:11:35.914Z"
   },
   {
    "duration": 17,
    "start_time": "2023-05-12T20:11:57.481Z"
   },
   {
    "duration": 1193,
    "start_time": "2023-05-12T21:32:51.913Z"
   },
   {
    "duration": 3,
    "start_time": "2023-05-12T21:32:53.115Z"
   },
   {
    "duration": 154,
    "start_time": "2023-05-12T21:32:53.120Z"
   },
   {
    "duration": 36,
    "start_time": "2023-05-12T21:32:53.275Z"
   },
   {
    "duration": 706,
    "start_time": "2023-05-12T21:32:53.313Z"
   },
   {
    "duration": 263,
    "start_time": "2023-05-12T21:32:54.022Z"
   },
   {
    "duration": 8,
    "start_time": "2023-05-12T21:32:54.297Z"
   },
   {
    "duration": 12,
    "start_time": "2023-05-12T21:32:54.306Z"
   },
   {
    "duration": 16,
    "start_time": "2023-05-12T21:32:54.321Z"
   },
   {
    "duration": 7,
    "start_time": "2023-05-12T21:32:54.339Z"
   },
   {
    "duration": 5969,
    "start_time": "2023-05-12T21:32:54.347Z"
   },
   {
    "duration": 24,
    "start_time": "2023-05-12T21:33:00.317Z"
   },
   {
    "duration": 22,
    "start_time": "2023-05-12T21:33:00.343Z"
   },
   {
    "duration": 227,
    "start_time": "2023-05-12T21:33:00.366Z"
   },
   {
    "duration": 165,
    "start_time": "2023-05-12T21:33:00.599Z"
   },
   {
    "duration": 184,
    "start_time": "2023-05-12T21:33:00.765Z"
   },
   {
    "duration": 252,
    "start_time": "2023-05-12T21:33:00.950Z"
   },
   {
    "duration": 40,
    "start_time": "2023-05-12T21:33:01.204Z"
   },
   {
    "duration": 256,
    "start_time": "2023-05-12T21:33:01.245Z"
   },
   {
    "duration": 20,
    "start_time": "2023-05-12T21:33:01.502Z"
   },
   {
    "duration": 52,
    "start_time": "2023-05-12T21:33:01.523Z"
   },
   {
    "duration": 44,
    "start_time": "2023-05-12T21:33:01.577Z"
   },
   {
    "duration": 55,
    "start_time": "2023-05-12T21:33:01.622Z"
   },
   {
    "duration": 43,
    "start_time": "2023-05-12T21:33:01.679Z"
   },
   {
    "duration": 34,
    "start_time": "2023-05-12T21:33:01.724Z"
   },
   {
    "duration": 50,
    "start_time": "2023-05-12T21:33:01.759Z"
   },
   {
    "duration": 33,
    "start_time": "2023-05-12T21:33:01.811Z"
   },
   {
    "duration": 55,
    "start_time": "2023-05-12T21:33:01.846Z"
   },
   {
    "duration": 3388,
    "start_time": "2023-05-12T21:33:01.903Z"
   },
   {
    "duration": 5,
    "start_time": "2023-05-12T21:33:05.293Z"
   },
   {
    "duration": 126,
    "start_time": "2023-05-12T21:33:05.303Z"
   },
   {
    "duration": 11,
    "start_time": "2023-05-12T21:33:05.431Z"
   },
   {
    "duration": 23650,
    "start_time": "2023-05-12T21:33:05.444Z"
   },
   {
    "duration": 29509,
    "start_time": "2023-05-12T21:33:29.099Z"
   },
   {
    "duration": 3,
    "start_time": "2023-05-12T21:33:58.610Z"
   },
   {
    "duration": 10,
    "start_time": "2023-05-12T21:33:58.615Z"
   },
   {
    "duration": 5,
    "start_time": "2023-05-12T21:33:58.626Z"
   },
   {
    "duration": 6,
    "start_time": "2023-05-12T21:33:58.632Z"
   },
   {
    "duration": 155896,
    "start_time": "2023-05-12T21:33:58.639Z"
   },
   {
    "duration": 440782,
    "start_time": "2023-05-12T21:36:34.537Z"
   },
   {
    "duration": 4,
    "start_time": "2023-05-12T21:43:55.320Z"
   },
   {
    "duration": 10,
    "start_time": "2023-05-12T21:43:55.325Z"
   },
   {
    "duration": 3,
    "start_time": "2023-05-12T21:43:55.337Z"
   },
   {
    "duration": 8,
    "start_time": "2023-05-12T21:43:55.341Z"
   },
   {
    "duration": 547,
    "start_time": "2023-05-12T21:43:55.350Z"
   },
   {
    "duration": 1724,
    "start_time": "2023-05-14T20:48:32.391Z"
   },
   {
    "duration": 6,
    "start_time": "2023-05-14T20:48:34.123Z"
   },
   {
    "duration": 34,
    "start_time": "2023-05-14T20:48:34.130Z"
   },
   {
    "duration": 5,
    "start_time": "2023-05-14T20:48:34.167Z"
   },
   {
    "duration": 3785,
    "start_time": "2023-05-14T20:48:34.173Z"
   },
   {
    "duration": 283,
    "start_time": "2023-05-14T20:48:37.960Z"
   },
   {
    "duration": 7,
    "start_time": "2023-05-14T20:48:38.245Z"
   },
   {
    "duration": 12,
    "start_time": "2023-05-14T20:48:38.257Z"
   },
   {
    "duration": 11,
    "start_time": "2023-05-14T20:48:38.271Z"
   },
   {
    "duration": 7,
    "start_time": "2023-05-14T20:48:38.285Z"
   },
   {
    "duration": 7953,
    "start_time": "2023-05-14T20:48:38.294Z"
   },
   {
    "duration": 29,
    "start_time": "2023-05-14T20:48:46.250Z"
   },
   {
    "duration": 5,
    "start_time": "2023-05-14T20:48:46.280Z"
   },
   {
    "duration": 241,
    "start_time": "2023-05-14T20:48:46.287Z"
   },
   {
    "duration": 221,
    "start_time": "2023-05-14T20:48:46.530Z"
   },
   {
    "duration": 251,
    "start_time": "2023-05-14T20:48:46.753Z"
   },
   {
    "duration": 343,
    "start_time": "2023-05-14T20:49:33.183Z"
   },
   {
    "duration": 3,
    "start_time": "2023-05-14T22:14:15.905Z"
   },
   {
    "duration": 4,
    "start_time": "2023-05-14T22:20:28.468Z"
   },
   {
    "duration": 146,
    "start_time": "2023-05-14T22:24:57.908Z"
   },
   {
    "duration": 10,
    "start_time": "2023-05-14T22:25:20.092Z"
   },
   {
    "duration": 5,
    "start_time": "2023-05-14T22:25:21.992Z"
   },
   {
    "duration": 12,
    "start_time": "2023-05-14T22:25:25.287Z"
   },
   {
    "duration": 1420,
    "start_time": "2023-05-14T22:27:17.043Z"
   },
   {
    "duration": 2,
    "start_time": "2023-05-14T22:27:18.465Z"
   },
   {
    "duration": 5,
    "start_time": "2023-05-14T22:27:18.469Z"
   },
   {
    "duration": 4,
    "start_time": "2023-05-14T22:27:18.476Z"
   },
   {
    "duration": 856,
    "start_time": "2023-05-14T22:27:18.481Z"
   },
   {
    "duration": 283,
    "start_time": "2023-05-14T22:27:19.339Z"
   },
   {
    "duration": 11,
    "start_time": "2023-05-14T22:27:19.624Z"
   },
   {
    "duration": 17,
    "start_time": "2023-05-14T22:27:19.636Z"
   },
   {
    "duration": 11,
    "start_time": "2023-05-14T22:27:19.655Z"
   },
   {
    "duration": 6,
    "start_time": "2023-05-14T22:27:19.668Z"
   },
   {
    "duration": 7724,
    "start_time": "2023-05-14T22:27:19.676Z"
   },
   {
    "duration": 37,
    "start_time": "2023-05-14T22:27:27.402Z"
   },
   {
    "duration": 8,
    "start_time": "2023-05-14T22:27:27.442Z"
   },
   {
    "duration": 237,
    "start_time": "2023-05-14T22:27:27.454Z"
   },
   {
    "duration": 206,
    "start_time": "2023-05-14T22:27:27.692Z"
   },
   {
    "duration": 222,
    "start_time": "2023-05-14T22:27:27.900Z"
   },
   {
    "duration": 292,
    "start_time": "2023-05-14T22:27:28.124Z"
   },
   {
    "duration": 47,
    "start_time": "2023-05-14T22:27:28.424Z"
   },
   {
    "duration": 282,
    "start_time": "2023-05-14T22:27:28.472Z"
   },
   {
    "duration": 21,
    "start_time": "2023-05-14T22:27:28.756Z"
   },
   {
    "duration": 15,
    "start_time": "2023-05-14T22:27:28.779Z"
   },
   {
    "duration": 19,
    "start_time": "2023-05-14T22:27:28.795Z"
   },
   {
    "duration": 44,
    "start_time": "2023-05-14T22:27:28.815Z"
   },
   {
    "duration": 14,
    "start_time": "2023-05-14T22:27:28.861Z"
   },
   {
    "duration": 20,
    "start_time": "2023-05-14T22:27:28.877Z"
   },
   {
    "duration": 50,
    "start_time": "2023-05-14T22:27:28.899Z"
   },
   {
    "duration": 39,
    "start_time": "2023-05-14T22:27:28.951Z"
   },
   {
    "duration": 9,
    "start_time": "2023-05-14T22:30:22.204Z"
   },
   {
    "duration": 3,
    "start_time": "2023-05-14T22:30:22.814Z"
   },
   {
    "duration": 11,
    "start_time": "2023-05-14T22:30:24.434Z"
   },
   {
    "duration": 35,
    "start_time": "2023-05-14T22:30:32.846Z"
   },
   {
    "duration": 147,
    "start_time": "2023-05-14T22:30:58.655Z"
   },
   {
    "duration": 4,
    "start_time": "2023-05-14T22:31:11.342Z"
   },
   {
    "duration": 2909,
    "start_time": "2023-05-14T22:31:12.510Z"
   },
   {
    "duration": 439,
    "start_time": "2023-05-14T22:31:34.204Z"
   },
   {
    "duration": 1764,
    "start_time": "2023-05-15T11:13:58.320Z"
   },
   {
    "duration": 1654,
    "start_time": "2023-05-15T11:22:09.649Z"
   },
   {
    "duration": 0,
    "start_time": "2023-05-15T11:22:11.306Z"
   },
   {
    "duration": 0,
    "start_time": "2023-05-15T11:22:11.309Z"
   },
   {
    "duration": 0,
    "start_time": "2023-05-15T11:22:11.310Z"
   },
   {
    "duration": 0,
    "start_time": "2023-05-15T11:22:11.317Z"
   },
   {
    "duration": 0,
    "start_time": "2023-05-15T11:22:11.318Z"
   },
   {
    "duration": 0,
    "start_time": "2023-05-15T11:22:11.319Z"
   },
   {
    "duration": 0,
    "start_time": "2023-05-15T11:22:11.321Z"
   },
   {
    "duration": 0,
    "start_time": "2023-05-15T11:22:11.322Z"
   },
   {
    "duration": 0,
    "start_time": "2023-05-15T11:22:11.323Z"
   },
   {
    "duration": 0,
    "start_time": "2023-05-15T11:22:11.323Z"
   },
   {
    "duration": 0,
    "start_time": "2023-05-15T11:22:11.324Z"
   },
   {
    "duration": 0,
    "start_time": "2023-05-15T11:22:11.325Z"
   },
   {
    "duration": 0,
    "start_time": "2023-05-15T11:22:11.326Z"
   },
   {
    "duration": 0,
    "start_time": "2023-05-15T11:22:11.327Z"
   },
   {
    "duration": 0,
    "start_time": "2023-05-15T11:22:11.329Z"
   },
   {
    "duration": 0,
    "start_time": "2023-05-15T11:22:11.330Z"
   },
   {
    "duration": 0,
    "start_time": "2023-05-15T11:22:11.331Z"
   },
   {
    "duration": 0,
    "start_time": "2023-05-15T11:22:11.332Z"
   },
   {
    "duration": 0,
    "start_time": "2023-05-15T11:22:11.333Z"
   },
   {
    "duration": 0,
    "start_time": "2023-05-15T11:22:11.334Z"
   },
   {
    "duration": 0,
    "start_time": "2023-05-15T11:22:11.335Z"
   },
   {
    "duration": 0,
    "start_time": "2023-05-15T11:22:11.336Z"
   },
   {
    "duration": 0,
    "start_time": "2023-05-15T11:22:11.337Z"
   },
   {
    "duration": 0,
    "start_time": "2023-05-15T11:22:11.338Z"
   },
   {
    "duration": 0,
    "start_time": "2023-05-15T11:22:11.339Z"
   },
   {
    "duration": 14,
    "start_time": "2023-05-15T11:23:17.526Z"
   },
   {
    "duration": 0,
    "start_time": "2023-05-15T11:23:17.541Z"
   },
   {
    "duration": 0,
    "start_time": "2023-05-15T11:23:17.543Z"
   },
   {
    "duration": 0,
    "start_time": "2023-05-15T11:23:17.544Z"
   },
   {
    "duration": 0,
    "start_time": "2023-05-15T11:23:17.545Z"
   },
   {
    "duration": 0,
    "start_time": "2023-05-15T11:23:17.546Z"
   },
   {
    "duration": 0,
    "start_time": "2023-05-15T11:23:17.547Z"
   },
   {
    "duration": 0,
    "start_time": "2023-05-15T11:23:17.548Z"
   },
   {
    "duration": 0,
    "start_time": "2023-05-15T11:23:17.549Z"
   },
   {
    "duration": 20,
    "start_time": "2023-05-15T11:23:17.553Z"
   },
   {
    "duration": 0,
    "start_time": "2023-05-15T11:23:17.575Z"
   },
   {
    "duration": 0,
    "start_time": "2023-05-15T11:23:17.577Z"
   },
   {
    "duration": 0,
    "start_time": "2023-05-15T11:23:17.578Z"
   },
   {
    "duration": 0,
    "start_time": "2023-05-15T11:23:17.578Z"
   },
   {
    "duration": 0,
    "start_time": "2023-05-15T11:23:17.579Z"
   },
   {
    "duration": 0,
    "start_time": "2023-05-15T11:23:17.580Z"
   },
   {
    "duration": 2,
    "start_time": "2023-05-15T11:23:17.581Z"
   },
   {
    "duration": 0,
    "start_time": "2023-05-15T11:23:17.584Z"
   },
   {
    "duration": 0,
    "start_time": "2023-05-15T11:23:17.589Z"
   },
   {
    "duration": 0,
    "start_time": "2023-05-15T11:23:17.592Z"
   },
   {
    "duration": 0,
    "start_time": "2023-05-15T11:23:17.594Z"
   },
   {
    "duration": 6,
    "start_time": "2023-05-15T11:23:17.595Z"
   },
   {
    "duration": 25,
    "start_time": "2023-05-15T11:23:17.602Z"
   },
   {
    "duration": 20,
    "start_time": "2023-05-15T11:23:17.628Z"
   },
   {
    "duration": 0,
    "start_time": "2023-05-15T11:23:17.650Z"
   },
   {
    "duration": 0,
    "start_time": "2023-05-15T11:23:17.651Z"
   },
   {
    "duration": 0,
    "start_time": "2023-05-15T11:23:17.652Z"
   },
   {
    "duration": 8,
    "start_time": "2023-05-15T11:23:54.102Z"
   },
   {
    "duration": 5,
    "start_time": "2023-05-15T11:24:15.304Z"
   },
   {
    "duration": 6,
    "start_time": "2023-05-15T11:24:15.311Z"
   },
   {
    "duration": 5,
    "start_time": "2023-05-15T11:24:15.318Z"
   },
   {
    "duration": 5,
    "start_time": "2023-05-15T11:24:15.324Z"
   },
   {
    "duration": 2499,
    "start_time": "2023-05-15T11:24:15.332Z"
   },
   {
    "duration": 283,
    "start_time": "2023-05-15T11:24:17.833Z"
   },
   {
    "duration": 6,
    "start_time": "2023-05-15T11:24:18.120Z"
   },
   {
    "duration": 5,
    "start_time": "2023-05-15T11:24:18.127Z"
   },
   {
    "duration": 9,
    "start_time": "2023-05-15T11:24:23.041Z"
   },
   {
    "duration": 7,
    "start_time": "2023-05-15T11:24:26.112Z"
   },
   {
    "duration": 5351,
    "start_time": "2023-05-15T11:24:31.403Z"
   },
   {
    "duration": 27,
    "start_time": "2023-05-15T11:24:49.134Z"
   },
   {
    "duration": 1805,
    "start_time": "2023-05-15T11:25:16.913Z"
   },
   {
    "duration": 4,
    "start_time": "2023-05-15T11:26:03.254Z"
   },
   {
    "duration": 204,
    "start_time": "2023-05-15T11:26:06.307Z"
   },
   {
    "duration": 205,
    "start_time": "2023-05-15T11:26:12.013Z"
   },
   {
    "duration": 233,
    "start_time": "2023-05-15T11:26:16.653Z"
   },
   {
    "duration": 369,
    "start_time": "2023-05-15T11:26:27.556Z"
   },
   {
    "duration": 43,
    "start_time": "2023-05-15T11:26:36.345Z"
   },
   {
    "duration": 18,
    "start_time": "2023-05-15T11:27:02.509Z"
   },
   {
    "duration": 3,
    "start_time": "2023-05-15T11:27:06.314Z"
   },
   {
    "duration": 3,
    "start_time": "2023-05-15T11:27:08.153Z"
   },
   {
    "duration": 6,
    "start_time": "2023-05-15T11:27:10.795Z"
   },
   {
    "duration": 3,
    "start_time": "2023-05-15T11:27:13.334Z"
   },
   {
    "duration": 10,
    "start_time": "2023-05-15T11:27:26.130Z"
   },
   {
    "duration": 4,
    "start_time": "2023-05-15T11:27:43.345Z"
   },
   {
    "duration": 6,
    "start_time": "2023-05-15T11:28:03.508Z"
   },
   {
    "duration": 4,
    "start_time": "2023-05-15T11:28:05.433Z"
   },
   {
    "duration": 18,
    "start_time": "2023-05-15T11:28:09.465Z"
   },
   {
    "duration": 16,
    "start_time": "2023-05-15T11:29:00.420Z"
   },
   {
    "duration": 3,
    "start_time": "2023-05-15T11:29:20.731Z"
   },
   {
    "duration": 4,
    "start_time": "2023-05-15T11:30:03.610Z"
   },
   {
    "duration": 25450,
    "start_time": "2023-05-15T11:30:06.910Z"
   },
   {
    "duration": 31583,
    "start_time": "2023-05-15T11:30:52.506Z"
   },
   {
    "duration": 4,
    "start_time": "2023-05-15T11:31:33.863Z"
   },
   {
    "duration": 2991,
    "start_time": "2023-05-15T11:31:41.456Z"
   },
   {
    "duration": 2369,
    "start_time": "2023-05-15T11:31:51.280Z"
   },
   {
    "duration": 11,
    "start_time": "2023-05-15T11:31:58.336Z"
   },
   {
    "duration": 14,
    "start_time": "2023-05-15T11:33:25.129Z"
   },
   {
    "duration": 10,
    "start_time": "2023-05-15T11:47:28.359Z"
   },
   {
    "duration": 3723,
    "start_time": "2023-05-15T11:47:47.008Z"
   },
   {
    "duration": 11,
    "start_time": "2023-05-15T11:47:50.733Z"
   },
   {
    "duration": 5336,
    "start_time": "2023-05-15T11:48:04.301Z"
   },
   {
    "duration": 24,
    "start_time": "2023-05-15T11:48:20.872Z"
   },
   {
    "duration": 9,
    "start_time": "2023-05-15T11:48:43.115Z"
   },
   {
    "duration": 5,
    "start_time": "2023-05-15T11:49:10.363Z"
   },
   {
    "duration": 7,
    "start_time": "2023-05-15T12:07:37.403Z"
   },
   {
    "duration": 4,
    "start_time": "2023-05-15T12:27:53.846Z"
   },
   {
    "duration": 3,
    "start_time": "2023-05-15T12:27:55.428Z"
   },
   {
    "duration": 4,
    "start_time": "2023-05-15T12:27:57.646Z"
   },
   {
    "duration": 214,
    "start_time": "2023-05-15T12:28:00.268Z"
   },
   {
    "duration": 3,
    "start_time": "2023-05-15T12:30:24.700Z"
   },
   {
    "duration": 4,
    "start_time": "2023-05-15T12:30:27.414Z"
   },
   {
    "duration": 468,
    "start_time": "2023-05-15T12:30:30.559Z"
   },
   {
    "duration": 4,
    "start_time": "2023-05-15T12:31:37.185Z"
   },
   {
    "duration": 8,
    "start_time": "2023-05-15T12:31:39.187Z"
   },
   {
    "duration": 6108,
    "start_time": "2023-05-15T12:31:41.475Z"
   },
   {
    "duration": 5,
    "start_time": "2023-05-15T12:32:00.657Z"
   },
   {
    "duration": 9304,
    "start_time": "2023-05-15T12:34:03.095Z"
   },
   {
    "duration": 5,
    "start_time": "2023-05-15T12:34:45.354Z"
   },
   {
    "duration": 5,
    "start_time": "2023-05-15T12:36:14.708Z"
   },
   {
    "duration": 290,
    "start_time": "2023-05-15T12:38:39.447Z"
   },
   {
    "duration": 12,
    "start_time": "2023-05-15T12:38:53.900Z"
   },
   {
    "duration": 3,
    "start_time": "2023-05-15T12:41:58.198Z"
   },
   {
    "duration": 4,
    "start_time": "2023-05-15T12:42:03.197Z"
   },
   {
    "duration": 5612,
    "start_time": "2023-05-15T12:42:07.468Z"
   },
   {
    "duration": 8714,
    "start_time": "2023-05-15T12:42:17.468Z"
   },
   {
    "duration": 6,
    "start_time": "2023-05-15T12:42:34.099Z"
   },
   {
    "duration": 836,
    "start_time": "2023-05-15T12:52:49.899Z"
   },
   {
    "duration": 4,
    "start_time": "2023-05-15T12:54:53.127Z"
   },
   {
    "duration": 4,
    "start_time": "2023-05-15T12:55:43.956Z"
   },
   {
    "duration": 12,
    "start_time": "2023-05-15T12:56:20.804Z"
   },
   {
    "duration": 7,
    "start_time": "2023-05-15T12:56:25.928Z"
   },
   {
    "duration": 7,
    "start_time": "2023-05-15T12:56:41.281Z"
   },
   {
    "duration": 6,
    "start_time": "2023-05-15T12:57:48.582Z"
   },
   {
    "duration": 6,
    "start_time": "2023-05-15T12:58:02.579Z"
   },
   {
    "duration": 13,
    "start_time": "2023-05-15T12:58:06.539Z"
   },
   {
    "duration": 5,
    "start_time": "2023-05-15T12:58:16.402Z"
   },
   {
    "duration": 4,
    "start_time": "2023-05-15T13:01:13.812Z"
   },
   {
    "duration": 3,
    "start_time": "2023-05-15T13:01:30.141Z"
   },
   {
    "duration": 4,
    "start_time": "2023-05-15T13:02:21.934Z"
   },
   {
    "duration": 4,
    "start_time": "2023-05-15T13:02:35.021Z"
   },
   {
    "duration": 101,
    "start_time": "2023-05-15T13:08:11.526Z"
   },
   {
    "duration": 14,
    "start_time": "2023-05-15T13:08:20.145Z"
   },
   {
    "duration": 10,
    "start_time": "2023-05-15T13:08:22.557Z"
   },
   {
    "duration": 159,
    "start_time": "2023-05-15T13:08:27.821Z"
   },
   {
    "duration": 161,
    "start_time": "2023-05-15T13:09:54.290Z"
   },
   {
    "duration": 59,
    "start_time": "2023-05-15T13:12:22.879Z"
   },
   {
    "duration": 18,
    "start_time": "2023-05-15T13:18:41.826Z"
   },
   {
    "duration": 4,
    "start_time": "2023-05-15T13:18:57.524Z"
   },
   {
    "duration": 1546,
    "start_time": "2023-05-15T13:19:15.543Z"
   },
   {
    "duration": 5,
    "start_time": "2023-05-15T13:41:09.518Z"
   },
   {
    "duration": 14,
    "start_time": "2023-05-15T13:41:37.725Z"
   },
   {
    "duration": 4,
    "start_time": "2023-05-15T13:42:00.142Z"
   },
   {
    "duration": 26597,
    "start_time": "2023-05-15T13:42:03.550Z"
   },
   {
    "duration": 18660,
    "start_time": "2023-05-15T13:43:24.249Z"
   },
   {
    "duration": 40988,
    "start_time": "2023-05-15T13:43:54.807Z"
   },
   {
    "duration": 5,
    "start_time": "2023-05-15T13:44:39.552Z"
   },
   {
    "duration": 5,
    "start_time": "2023-05-15T13:49:39.903Z"
   },
   {
    "duration": 9,
    "start_time": "2023-05-15T13:50:09.409Z"
   },
   {
    "duration": 9,
    "start_time": "2023-05-15T13:58:07.284Z"
   },
   {
    "duration": 584,
    "start_time": "2023-05-15T13:58:38.704Z"
   },
   {
    "duration": 297,
    "start_time": "2023-05-15T13:59:56.676Z"
   },
   {
    "duration": 1585,
    "start_time": "2023-05-15T14:15:56.756Z"
   },
   {
    "duration": 3,
    "start_time": "2023-05-15T14:15:58.343Z"
   },
   {
    "duration": 6,
    "start_time": "2023-05-15T14:15:58.347Z"
   },
   {
    "duration": 9,
    "start_time": "2023-05-15T14:15:58.355Z"
   },
   {
    "duration": 4228,
    "start_time": "2023-05-15T14:15:58.365Z"
   },
   {
    "duration": 288,
    "start_time": "2023-05-15T14:16:02.596Z"
   },
   {
    "duration": 8,
    "start_time": "2023-05-15T14:16:02.885Z"
   },
   {
    "duration": 4,
    "start_time": "2023-05-15T14:16:02.895Z"
   },
   {
    "duration": 11,
    "start_time": "2023-05-15T14:16:02.901Z"
   },
   {
    "duration": 5,
    "start_time": "2023-05-15T14:16:02.915Z"
   },
   {
    "duration": 7676,
    "start_time": "2023-05-15T14:16:02.922Z"
   },
   {
    "duration": 32,
    "start_time": "2023-05-15T14:16:10.599Z"
   },
   {
    "duration": 4,
    "start_time": "2023-05-15T14:16:10.633Z"
   },
   {
    "duration": 278,
    "start_time": "2023-05-15T14:16:10.639Z"
   },
   {
    "duration": 230,
    "start_time": "2023-05-15T14:16:10.919Z"
   },
   {
    "duration": 239,
    "start_time": "2023-05-15T14:16:11.151Z"
   },
   {
    "duration": 326,
    "start_time": "2023-05-15T14:16:11.397Z"
   },
   {
    "duration": 68,
    "start_time": "2023-05-15T14:16:11.725Z"
   },
   {
    "duration": 255,
    "start_time": "2023-05-15T14:16:11.794Z"
   },
   {
    "duration": 45,
    "start_time": "2023-05-15T14:16:12.051Z"
   },
   {
    "duration": 3,
    "start_time": "2023-05-15T14:16:12.098Z"
   },
   {
    "duration": 5,
    "start_time": "2023-05-15T14:16:12.102Z"
   },
   {
    "duration": 3,
    "start_time": "2023-05-15T14:16:12.109Z"
   },
   {
    "duration": 4,
    "start_time": "2023-05-15T14:16:12.114Z"
   },
   {
    "duration": 4,
    "start_time": "2023-05-15T14:16:12.119Z"
   },
   {
    "duration": 11,
    "start_time": "2023-05-15T14:16:12.124Z"
   },
   {
    "duration": 12,
    "start_time": "2023-05-15T14:16:12.137Z"
   },
   {
    "duration": 36,
    "start_time": "2023-05-15T14:16:12.153Z"
   },
   {
    "duration": 4083,
    "start_time": "2023-05-15T14:16:12.194Z"
   },
   {
    "duration": 13,
    "start_time": "2023-05-15T14:16:16.280Z"
   },
   {
    "duration": 3,
    "start_time": "2023-05-15T14:16:16.299Z"
   },
   {
    "duration": 4,
    "start_time": "2023-05-15T14:16:16.304Z"
   },
   {
    "duration": 6,
    "start_time": "2023-05-15T14:16:16.310Z"
   },
   {
    "duration": 25383,
    "start_time": "2023-05-15T14:16:16.324Z"
   },
   {
    "duration": 32418,
    "start_time": "2023-05-15T14:16:41.710Z"
   },
   {
    "duration": 5,
    "start_time": "2023-05-15T14:17:14.129Z"
   },
   {
    "duration": 4,
    "start_time": "2023-05-15T14:17:14.137Z"
   },
   {
    "duration": 5,
    "start_time": "2023-05-15T14:17:14.143Z"
   },
   {
    "duration": 5,
    "start_time": "2023-05-15T14:17:14.150Z"
   },
   {
    "duration": 6,
    "start_time": "2023-05-15T14:17:14.180Z"
   },
   {
    "duration": 12,
    "start_time": "2023-05-15T14:17:14.188Z"
   },
   {
    "duration": 4,
    "start_time": "2023-05-15T14:17:14.202Z"
   },
   {
    "duration": 5,
    "start_time": "2023-05-15T14:17:14.209Z"
   },
   {
    "duration": 8,
    "start_time": "2023-05-15T14:17:14.216Z"
   },
   {
    "duration": 13008,
    "start_time": "2023-05-15T14:17:14.226Z"
   },
   {
    "duration": 7,
    "start_time": "2023-05-15T14:17:27.236Z"
   },
   {
    "duration": 7,
    "start_time": "2023-05-15T14:17:27.245Z"
   },
   {
    "duration": 29317,
    "start_time": "2023-05-15T14:17:27.255Z"
   },
   {
    "duration": 5,
    "start_time": "2023-05-15T14:17:56.578Z"
   },
   {
    "duration": 7,
    "start_time": "2023-05-15T14:17:56.584Z"
   },
   {
    "duration": 5,
    "start_time": "2023-05-15T14:17:56.593Z"
   },
   {
    "duration": 4,
    "start_time": "2023-05-15T14:17:56.601Z"
   },
   {
    "duration": 5,
    "start_time": "2023-05-15T14:17:56.607Z"
   },
   {
    "duration": 6880,
    "start_time": "2023-05-15T14:17:56.614Z"
   },
   {
    "duration": 9,
    "start_time": "2023-05-15T14:18:03.583Z"
   },
   {
    "duration": 10186,
    "start_time": "2023-05-15T14:18:03.598Z"
   },
   {
    "duration": 7,
    "start_time": "2023-05-15T14:18:13.790Z"
   },
   {
    "duration": 83,
    "start_time": "2023-05-15T14:18:13.800Z"
   },
   {
    "duration": 16,
    "start_time": "2023-05-15T14:18:13.886Z"
   },
   {
    "duration": 5,
    "start_time": "2023-05-15T14:18:13.905Z"
   },
   {
    "duration": 15,
    "start_time": "2023-05-15T14:18:13.913Z"
   },
   {
    "duration": 3,
    "start_time": "2023-05-15T14:18:13.979Z"
   },
   {
    "duration": 297,
    "start_time": "2023-05-15T14:18:13.984Z"
   },
   {
    "duration": 301,
    "start_time": "2023-05-15T14:18:14.284Z"
   },
   {
    "duration": 45,
    "start_time": "2023-05-15T14:18:14.587Z"
   }
  ],
  "kernelspec": {
   "display_name": "Python 3 (ipykernel)",
   "language": "python",
   "name": "python3"
  },
  "language_info": {
   "codemirror_mode": {
    "name": "ipython",
    "version": 3
   },
   "file_extension": ".py",
   "mimetype": "text/x-python",
   "name": "python",
   "nbconvert_exporter": "python",
   "pygments_lexer": "ipython3",
   "version": "3.9.13"
  },
  "toc": {
   "base_numbering": 1,
   "nav_menu": {},
   "number_sections": true,
   "sideBar": true,
   "skip_h1_title": true,
   "title_cell": "Содержание",
   "title_sidebar": "Contents",
   "toc_cell": true,
   "toc_position": {
    "height": "calc(100% - 180px)",
    "left": "10px",
    "top": "150px",
    "width": "181.505px"
   },
   "toc_section_display": true,
   "toc_window_display": true
  }
 },
 "nbformat": 4,
 "nbformat_minor": 2
}
