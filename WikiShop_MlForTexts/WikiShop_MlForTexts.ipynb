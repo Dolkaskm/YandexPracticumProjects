{
 "cells": [
  {
   "cell_type": "markdown",
   "metadata": {
    "toc": true
   },
   "source": [
    "<h1>Содержание<span class=\"tocSkip\"></span></h1>\n",
    "<div class=\"toc\"><ul class=\"toc-item\"><li><span><a href=\"#Подготовка\" data-toc-modified-id=\"Подготовка-1\"><span class=\"toc-item-num\">1&nbsp;&nbsp;</span>Подготовка</a></span></li><li><span><a href=\"#Обучение\" data-toc-modified-id=\"Обучение-2\"><span class=\"toc-item-num\">2&nbsp;&nbsp;</span>Обучение</a></span><ul class=\"toc-item\"><li><span><a href=\"#Модель-логистической-регрессии.\" data-toc-modified-id=\"Модель-логистической-регрессии.-2.1\"><span class=\"toc-item-num\">2.1&nbsp;&nbsp;</span>Модель логистической регрессии.</a></span></li><li><span><a href=\"#Модель-решающего-дерева.\" data-toc-modified-id=\"Модель-решающего-дерева.-2.2\"><span class=\"toc-item-num\">2.2&nbsp;&nbsp;</span>Модель решающего дерева.</a></span></li><li><span><a href=\"#Модель-случайного-леса.\" data-toc-modified-id=\"Модель-случайного-леса.-2.3\"><span class=\"toc-item-num\">2.3&nbsp;&nbsp;</span>Модель случайного леса.</a></span></li><li><span><a href=\"#Catboost.\" data-toc-modified-id=\"Catboost.-2.4\"><span class=\"toc-item-num\">2.4&nbsp;&nbsp;</span>Catboost.</a></span></li></ul></li><li><span><a href=\"#Выводы\" data-toc-modified-id=\"Выводы-3\"><span class=\"toc-item-num\">3&nbsp;&nbsp;</span>Выводы</a></span><ul class=\"toc-item\"><li><span><a href=\"#Тестирование-лучшей-модели.\" data-toc-modified-id=\"Тестирование-лучшей-модели.-3.1\"><span class=\"toc-item-num\">3.1&nbsp;&nbsp;</span>Тестирование лучшей модели.</a></span></li><li><span><a href=\"#Проверка-на-адекватность.\" data-toc-modified-id=\"Проверка-на-адекватность.-3.2\"><span class=\"toc-item-num\">3.2&nbsp;&nbsp;</span>Проверка на адекватность.</a></span></li></ul></li></ul></div>"
   ]
  },
  {
   "cell_type": "markdown",
   "metadata": {},
   "source": [
    "# Проект для «Викишоп»"
   ]
  },
  {
   "cell_type": "markdown",
   "metadata": {},
   "source": [
    "Интернет-магазин «Викишоп» запускает новый сервис. Теперь пользователи могут редактировать и дополнять описания товаров, как в вики-сообществах. То есть клиенты предлагают свои правки и комментируют изменения других. Магазину нужен инструмент, который будет искать токсичные комментарии и отправлять их на модерацию. \n",
    "\n",
    "Обучите модель классифицировать комментарии на позитивные и негативные. В вашем распоряжении набор данных с разметкой о токсичности правок.\n",
    "\n",
    "**Задача:**\n",
    "\n",
    "Постройте модель со значением метрики качества *F1* не меньше 0.75. \n",
    "\n",
    "**Описание данных**\n",
    "\n",
    "Данные находятся в файле `toxic_comments.csv`. Столбец *text* в нём содержит текст комментария, а *toxic* — целевой признак."
   ]
  },
  {
   "cell_type": "markdown",
   "metadata": {},
   "source": [
    "## Подготовка"
   ]
  },
  {
   "cell_type": "code",
   "execution_count": 1,
   "metadata": {},
   "outputs": [],
   "source": [
    "# !pip install -U spacy"
   ]
  },
  {
   "cell_type": "code",
   "execution_count": 2,
   "metadata": {},
   "outputs": [],
   "source": [
    "# Загрузка необходимых библиотек\n",
    "\n",
    "import pandas as pd\n",
    "import numpy as np\n",
    "import matplotlib.pyplot as plt\n",
    "\n",
    "from tqdm import notebook\n",
    "from tqdm import tqdm\n",
    "\n",
    "import nltk\n",
    "from nltk.corpus import stopwords as nltk_stopwords\n",
    "\n",
    "import spacy\n",
    "\n",
    "import re\n",
    "\n",
    "from sklearn.pipeline import Pipeline\n",
    "from sklearn.feature_extraction.text import TfidfVectorizer \n",
    "from sklearn.model_selection import train_test_split, RandomizedSearchCV, GridSearchCV\n",
    "from sklearn.metrics import f1_score\n",
    "from sklearn.linear_model import LogisticRegression\n",
    "from sklearn.tree import DecisionTreeClassifier\n",
    "from sklearn.ensemble import RandomForestClassifier\n",
    "from sklearn.dummy import DummyClassifier\n",
    "\n",
    "from catboost import Pool, CatBoostClassifier, cv\n",
    "\n",
    "import warnings\n",
    "warnings.filterwarnings(\"ignore\")"
   ]
  },
  {
   "cell_type": "code",
   "execution_count": 3,
   "metadata": {},
   "outputs": [],
   "source": [
    "# Подключим tqdm.\n",
    "\n",
    "tqdm.pandas(desc='progress')"
   ]
  },
  {
   "cell_type": "code",
   "execution_count": 4,
   "metadata": {},
   "outputs": [],
   "source": [
    "# Зададим значения для генерации случайных величин\n",
    "\n",
    "RANDOM_STATE = 12345 "
   ]
  },
  {
   "cell_type": "code",
   "execution_count": 5,
   "metadata": {},
   "outputs": [],
   "source": [
    "# Загрузим данные из файло\n",
    "try:\n",
    "    df = pd.read_csv('toxic_comments.csv')\n",
    "except:\n",
    "    df = pd.read_csv('https://code.s3.yandex.net/datasets/toxic_comments.csv')"
   ]
  },
  {
   "cell_type": "code",
   "execution_count": 6,
   "metadata": {},
   "outputs": [
    {
     "data": {
      "text/html": [
       "<div>\n",
       "<style scoped>\n",
       "    .dataframe tbody tr th:only-of-type {\n",
       "        vertical-align: middle;\n",
       "    }\n",
       "\n",
       "    .dataframe tbody tr th {\n",
       "        vertical-align: top;\n",
       "    }\n",
       "\n",
       "    .dataframe thead th {\n",
       "        text-align: right;\n",
       "    }\n",
       "</style>\n",
       "<table border=\"1\" class=\"dataframe\">\n",
       "  <thead>\n",
       "    <tr style=\"text-align: right;\">\n",
       "      <th></th>\n",
       "      <th>Unnamed: 0</th>\n",
       "      <th>text</th>\n",
       "      <th>toxic</th>\n",
       "    </tr>\n",
       "  </thead>\n",
       "  <tbody>\n",
       "    <tr>\n",
       "      <th>0</th>\n",
       "      <td>0</td>\n",
       "      <td>Explanation\\nWhy the edits made under my usern...</td>\n",
       "      <td>0</td>\n",
       "    </tr>\n",
       "    <tr>\n",
       "      <th>1</th>\n",
       "      <td>1</td>\n",
       "      <td>D'aww! He matches this background colour I'm s...</td>\n",
       "      <td>0</td>\n",
       "    </tr>\n",
       "    <tr>\n",
       "      <th>2</th>\n",
       "      <td>2</td>\n",
       "      <td>Hey man, I'm really not trying to edit war. It...</td>\n",
       "      <td>0</td>\n",
       "    </tr>\n",
       "    <tr>\n",
       "      <th>3</th>\n",
       "      <td>3</td>\n",
       "      <td>\"\\nMore\\nI can't make any real suggestions on ...</td>\n",
       "      <td>0</td>\n",
       "    </tr>\n",
       "    <tr>\n",
       "      <th>4</th>\n",
       "      <td>4</td>\n",
       "      <td>You, sir, are my hero. Any chance you remember...</td>\n",
       "      <td>0</td>\n",
       "    </tr>\n",
       "  </tbody>\n",
       "</table>\n",
       "</div>"
      ],
      "text/plain": [
       "   Unnamed: 0                                               text  toxic\n",
       "0           0  Explanation\\nWhy the edits made under my usern...      0\n",
       "1           1  D'aww! He matches this background colour I'm s...      0\n",
       "2           2  Hey man, I'm really not trying to edit war. It...      0\n",
       "3           3  \"\\nMore\\nI can't make any real suggestions on ...      0\n",
       "4           4  You, sir, are my hero. Any chance you remember...      0"
      ]
     },
     "execution_count": 6,
     "metadata": {},
     "output_type": "execute_result"
    }
   ],
   "source": [
    "# Выведем дата-фрейм на экран.\n",
    "\n",
    "df.head()"
   ]
  },
  {
   "cell_type": "code",
   "execution_count": 7,
   "metadata": {},
   "outputs": [
    {
     "name": "stdout",
     "output_type": "stream",
     "text": [
      "<class 'pandas.core.frame.DataFrame'>\n",
      "RangeIndex: 159292 entries, 0 to 159291\n",
      "Data columns (total 3 columns):\n",
      " #   Column      Non-Null Count   Dtype \n",
      "---  ------      --------------   ----- \n",
      " 0   Unnamed: 0  159292 non-null  int64 \n",
      " 1   text        159292 non-null  object\n",
      " 2   toxic       159292 non-null  int64 \n",
      "dtypes: int64(2), object(1)\n",
      "memory usage: 3.6+ MB\n"
     ]
    }
   ],
   "source": [
    "# Выведем общую информацию о дата-фрейме.\n",
    "\n",
    "df.info()"
   ]
  },
  {
   "cell_type": "code",
   "execution_count": 8,
   "metadata": {},
   "outputs": [
    {
     "data": {
      "image/png": "[encoded data removed]",
      "text/plain": [
       "<Figure size 1000x1000 with 1 Axes>"
      ]
     },
     "metadata": {},
     "output_type": "display_data"
    }
   ],
   "source": [
    "# Посмотрим на распределение значений столбца 'Unnamed: 0'.\n",
    "\n",
    "df['Unnamed: 0'].hist(bins=1000, figsize=(10,10));"
   ]
  },
  {
   "cell_type": "markdown",
   "metadata": {},
   "source": [
    "Столбец 'Unnamed: 0', в принципе, соответствуеи индексу (порядковому номеру) поста, однако некоторые посты не попали  во фрейм. Причина нам неизвестна. Сохраним данные этого столбца, будем его использовать к качестве индекса."
   ]
  },
  {
   "cell_type": "code",
   "execution_count": 9,
   "metadata": {},
   "outputs": [],
   "source": [
    "# Используем столбец 'Unnamed: 0' в качестве индекса.\n",
    "\n",
    "df = df.set_index('Unnamed: 0', drop=True)"
   ]
  },
  {
   "cell_type": "code",
   "execution_count": 10,
   "metadata": {},
   "outputs": [
    {
     "data": {
      "text/plain": [
       "0"
      ]
     },
     "execution_count": 10,
     "metadata": {},
     "output_type": "execute_result"
    }
   ],
   "source": [
    "# Проверим на наличие явных дубликатов.\n",
    "\n",
    "df.duplicated().sum()"
   ]
  },
  {
   "cell_type": "code",
   "execution_count": 11,
   "metadata": {},
   "outputs": [
    {
     "data": {
      "image/png": "[encoded data removed]",
      "text/plain": [
       "<Figure size 640x480 with 1 Axes>"
      ]
     },
     "metadata": {},
     "output_type": "display_data"
    }
   ],
   "source": [
    "# Проверим баланс классов.\n",
    "\n",
    "df['toxic'].value_counts(normalize=True).plot(kind='pie', autopct='%1.1f%%')\n",
    "plt.title('Баланс классов')\n",
    "plt.show()"
   ]
  },
  {
   "cell_type": "code",
   "execution_count": 12,
   "metadata": {},
   "outputs": [],
   "source": [
    "# Функция очистки текста\n",
    "\n",
    "def clear_text(text):\n",
    "    clear_text = re.sub(r'[^a-zA-Z\\']', ' ', text) \n",
    "    final_text = ' '.join(clear_text.split())\n",
    "    return final_text\n"
   ]
  },
  {
   "cell_type": "code",
   "execution_count": 13,
   "metadata": {
    "scrolled": true
   },
   "outputs": [
    {
     "name": "stderr",
     "output_type": "stream",
     "text": [
      "progress: 100%|█████████████████████████████████████████████████████████████| 159292/159292 [00:05<00:00, 27004.25it/s]"
     ]
    },
    {
     "name": "stdout",
     "output_type": "stream",
     "text": [
      "Wall time: 5.92 s\n"
     ]
    },
    {
     "name": "stderr",
     "output_type": "stream",
     "text": [
      "\n"
     ]
    }
   ],
   "source": [
    "%%time\n",
    "# Очистим текст и запишем в новый столбец.\n",
    "\n",
    "df['lemm_text'] = df['text'].progress_apply(lambda x: clear_text(x))"
   ]
  },
  {
   "cell_type": "code",
   "execution_count": 14,
   "metadata": {
    "scrolled": true
   },
   "outputs": [
    {
     "data": {
      "text/plain": [
       "Unnamed: 0\n",
       "0    Explanation Why the edits made under my userna...\n",
       "1    D'aww He matches this background colour I'm se...\n",
       "2    Hey man I'm really not trying to edit war It's...\n",
       "3    More I can't make any real suggestions on impr...\n",
       "4    You sir are my hero Any chance you remember wh...\n",
       "Name: lemm_text, dtype: object"
      ]
     },
     "execution_count": 14,
     "metadata": {},
     "output_type": "execute_result"
    }
   ],
   "source": [
    "# Выведем новый столбец с очищенным текстом. \n",
    "\n",
    "df['lemm_text'].head()"
   ]
  },
  {
   "cell_type": "code",
   "execution_count": 15,
   "metadata": {},
   "outputs": [],
   "source": [
    "# Инициализируем модель spacy для англ. языка, оставив только нужные компоненты.\n",
    "\n",
    "nlp = spacy.load('en_core_web_sm', disable=['parser', 'ner'])"
   ]
  },
  {
   "cell_type": "code",
   "execution_count": 16,
   "metadata": {},
   "outputs": [
    {
     "name": "stderr",
     "output_type": "stream",
     "text": [
      "100%|█████████████████████████████████████████████████████████████████████████| 159292/159292 [12:02<00:00, 220.49it/s]\n"
     ]
    }
   ],
   "source": [
    "# Лемматизируем текст в pipe-line.\n",
    "\n",
    "lemm_texts = []\n",
    "total = df.shape[0]\n",
    "nlp_pipe = nlp.pipe(df['lemm_text'].values, disable = ['ner', 'parser'])\n",
    "\n",
    "for doc in tqdm(nlp_pipe, total=total):\n",
    "    lemm_text = \" \".join([token.lemma_ for token in doc])    \n",
    "    lemm_texts.append(lemm_text) "
   ]
  },
  {
   "cell_type": "code",
   "execution_count": 17,
   "metadata": {},
   "outputs": [],
   "source": [
    "# Запишем лемматизированный текст в столбец.\n",
    "\n",
    "df['lemm_text'] = lemm_texts"
   ]
  },
  {
   "cell_type": "code",
   "execution_count": 18,
   "metadata": {},
   "outputs": [
    {
     "data": {
      "text/plain": [
       "Unnamed: 0\n",
       "0    Explanation why the edit make under my usernam...\n",
       "1    D'aww he match this background colour I be see...\n",
       "2    hey man I be really not try to edit war it be ...\n",
       "3    More I can not make any real suggestion on imp...\n",
       "4    you sir be my hero any chance you remember wha...\n",
       "Name: lemm_text, dtype: object"
      ]
     },
     "execution_count": 18,
     "metadata": {},
     "output_type": "execute_result"
    }
   ],
   "source": [
    "# Выведем обработанный текст.\n",
    "\n",
    "df['lemm_text'].head()"
   ]
  },
  {
   "cell_type": "code",
   "execution_count": 19,
   "metadata": {},
   "outputs": [],
   "source": [
    "# Разделим данные на признаки и целевой признак.\n",
    "\n",
    "features = df['lemm_text']\n",
    "target = df['toxic']"
   ]
  },
  {
   "cell_type": "code",
   "execution_count": 20,
   "metadata": {},
   "outputs": [
    {
     "name": "stdout",
     "output_type": "stream",
     "text": [
      "(143362,)\n",
      "(15930,)\n",
      "(143362,)\n",
      "(15930,)\n"
     ]
    }
   ],
   "source": [
    "# Разделим данные на обучающую и тестовые выборки.\n",
    "\n",
    "features_train, features_test, target_train, target_test =\\\n",
    "train_test_split(features, target, test_size=0.1, random_state=RANDOM_STATE, stratify=target)\n",
    "\n",
    "print(features_train.shape)\n",
    "print(features_test.shape)\n",
    "print(target_train.shape)\n",
    "print(target_test.shape)"
   ]
  },
  {
   "cell_type": "code",
   "execution_count": 21,
   "metadata": {},
   "outputs": [
    {
     "data": {
      "text/plain": [
       "0.1131022167009589"
      ]
     },
     "execution_count": 21,
     "metadata": {},
     "output_type": "execute_result"
    }
   ],
   "source": [
    "# Проверии соотношение классов в обучающей выборке.\n",
    "\n",
    "len(target_train[target_train == 1]) / len(target_train[target_train == 0])"
   ]
  },
  {
   "cell_type": "code",
   "execution_count": 22,
   "metadata": {},
   "outputs": [
    {
     "name": "stderr",
     "output_type": "stream",
     "text": [
      "[nltk_data] Downloading package stopwords to\n",
      "[nltk_data]     C:\\Users\\User\\AppData\\Roaming\\nltk_data...\n",
      "[nltk_data]   Package stopwords is already up-to-date!\n"
     ]
    }
   ],
   "source": [
    "# Загрузим список стоп-слов.\n",
    "\n",
    "nltk.download('stopwords') \n",
    "stop_words = nltk_stopwords.words('english')"
   ]
  },
  {
   "cell_type": "markdown",
   "metadata": {},
   "source": [
    "**Выводы по разделу:**\n",
    "- Пропусков нет;\n",
    "- Явных дубликатов нет;\n",
    "- Имеется выраженный дисбаланс классов;\n",
    "- Сохраним данные столбца 'Unnamed 0:', будем его использовать к качестве индекса, сам столбец удалим;\n",
    "- Очистили текстовые данные от лишних знаков, лемматихировали при помощи SpiCy;\n",
    "- Разбили данные на обучающую и тестовую выборки."
   ]
  },
  {
   "cell_type": "markdown",
   "metadata": {},
   "source": [
    "## Обучение"
   ]
  },
  {
   "cell_type": "markdown",
   "metadata": {},
   "source": [
    "### Модель логистической регрессии."
   ]
  },
  {
   "cell_type": "code",
   "execution_count": 23,
   "metadata": {},
   "outputs": [],
   "source": [
    "# Создадим pipeline для векторизации признаков и обучения модели логистической регрессии.\n",
    "\n",
    "pipe_reg = Pipeline(steps=[('vect', TfidfVectorizer(stop_words=stop_words)), \n",
    "                           ('reg', LogisticRegression(class_weight='balanced', random_state=RANDOM_STATE,\\\n",
    "                                                     ))],\\\n",
    "                    verbose=False)"
   ]
  },
  {
   "cell_type": "code",
   "execution_count": 24,
   "metadata": {},
   "outputs": [],
   "source": [
    "# Параметры для GridseachCV\n",
    "\n",
    "grid_space_lg={ 'vect__sublinear_tf': (True, False),\n",
    "                'reg__C': (0.1, 1, 5, 10)\n",
    "                }"
   ]
  },
  {
   "cell_type": "code",
   "execution_count": 25,
   "metadata": {},
   "outputs": [],
   "source": [
    "# Создадим подборщик параметров для модели дерева решений\n",
    "\n",
    "lg_grid = GridSearchCV(pipe_reg,param_grid=grid_space_lg,n_jobs=-1,scoring= \\\n",
    "                         'f1', cv=2)"
   ]
  },
  {
   "cell_type": "code",
   "execution_count": 26,
   "metadata": {},
   "outputs": [
    {
     "name": "stdout",
     "output_type": "stream",
     "text": [
      "0.7687736711505812\n",
      "{'reg__C': 10, 'vect__sublinear_tf': True}\n",
      "Wall time: 1min 39s\n"
     ]
    }
   ],
   "source": [
    "%%time\n",
    "# Обучим модель, подберем параметры на кросс-валидации.\n",
    "\n",
    "lg_model = lg_grid.fit(features_train, target_train)\n",
    "\n",
    "# Выведем лучший результат метрики и лучшие подобранные гиперпараметры.\n",
    "\n",
    "f1_lg = lg_model.best_score_\n",
    "params_lg = lg_model.best_params_\n",
    "print(f1_lg)\n",
    "print(params_lg)"
   ]
  },
  {
   "cell_type": "markdown",
   "metadata": {},
   "source": [
    "Время обучения и подбора параметров около 2 мин."
   ]
  },
  {
   "cell_type": "markdown",
   "metadata": {},
   "source": [
    "### Модель решающего дерева."
   ]
  },
  {
   "cell_type": "code",
   "execution_count": 27,
   "metadata": {},
   "outputs": [],
   "source": [
    "# Создадим pipeline для векторизации признаков и обучения модели решающего дерева.\n",
    "\n",
    "pipe_tree = Pipeline(steps=[('vect', TfidfVectorizer(stop_words=stop_words)), \n",
    "                           ('tree', DecisionTreeClassifier(class_weight='balanced',\\\n",
    "                                                           random_state=RANDOM_STATE))], verbose=False)"
   ]
  },
  {
   "cell_type": "code",
   "execution_count": 28,
   "metadata": {},
   "outputs": [],
   "source": [
    "# Параметры для побора RandomSeach.\n",
    "\n",
    "param_tree = {'vect__sublinear_tf': [True, False],\n",
    "              'tree__max_depth': [3, 15, 30],\n",
    "              'tree__max_features':[1, 15, 30],\n",
    "              'tree__min_samples_leaf':[1, 3],\n",
    "              'tree__min_samples_split':[2, 3]\n",
    "        \n",
    "            }"
   ]
  },
  {
   "cell_type": "code",
   "execution_count": 29,
   "metadata": {},
   "outputs": [],
   "source": [
    "#  Создадим подборщик параметров для модели.\n",
    "\n",
    "tree_random = RandomizedSearchCV(pipe_tree,param_distributions=param_tree,\\\n",
    "                                        n_jobs=-1, n_iter=6,cv=3, scoring='f1')"
   ]
  },
  {
   "cell_type": "code",
   "execution_count": 30,
   "metadata": {
    "scrolled": false
   },
   "outputs": [
    {
     "name": "stdout",
     "output_type": "stream",
     "text": [
      "0.19190026828430776\n",
      "{'vect__sublinear_tf': False, 'tree__min_samples_split': 3, 'tree__min_samples_leaf': 1, 'tree__max_features': 15, 'tree__max_depth': 15}\n",
      "Wall time: 1min 20s\n"
     ]
    }
   ],
   "source": [
    "%%time\n",
    "# Обучим модель, подберем параметры на кросс-валидации.\n",
    "\n",
    "tree_model = tree_random.fit(features_train, target_train)\n",
    "\n",
    "# Выведем лучший результат метрики и лучшие подобранные гиперпараметры.\n",
    "\n",
    "f1_tree = tree_model.best_score_\n",
    "params_tree = tree_model.best_params_\n",
    "print(f1_tree)\n",
    "print(params_tree)\n"
   ]
  },
  {
   "cell_type": "markdown",
   "metadata": {},
   "source": [
    "Время обучения и подбора параметров порядка 1.5 мин."
   ]
  },
  {
   "cell_type": "markdown",
   "metadata": {},
   "source": [
    "### Модель случайного леса."
   ]
  },
  {
   "cell_type": "code",
   "execution_count": 31,
   "metadata": {},
   "outputs": [],
   "source": [
    "# Создадим pipeline для векторизации признаков и обучения модели случайного леса.\n",
    "\n",
    "pipe_forest = Pipeline(steps=[('vect', TfidfVectorizer(stop_words=stop_words)), \n",
    "                           ('forest', RandomForestClassifier(class_weight='balanced',\\\n",
    "                                                           random_state=RANDOM_STATE))], verbose=False)"
   ]
  },
  {
   "cell_type": "code",
   "execution_count": 32,
   "metadata": {},
   "outputs": [],
   "source": [
    "# Параметры для побора RandomSeach.\n",
    "\n",
    "param_forest = {'vect__sublinear_tf': [True, False],\n",
    "                'forest__n_estimators': [15, 30],\n",
    "                'forest__max_depth': [40, 60]\n",
    "               }"
   ]
  },
  {
   "cell_type": "code",
   "execution_count": 33,
   "metadata": {},
   "outputs": [],
   "source": [
    "#  Создадим подборщик параметров для модели.\n",
    "\n",
    "forest_random = RandomizedSearchCV(pipe_forest,param_distributions=param_forest,\\\n",
    "                                        n_jobs=-1, n_iter=4,cv=2, scoring='f1')"
   ]
  },
  {
   "cell_type": "code",
   "execution_count": 34,
   "metadata": {},
   "outputs": [
    {
     "name": "stdout",
     "output_type": "stream",
     "text": [
      "0.49821169818571986\n",
      "{'vect__sublinear_tf': False, 'forest__n_estimators': 30, 'forest__max_depth': 60}\n",
      "Wall time: 5min 12s\n"
     ]
    }
   ],
   "source": [
    "%%time\n",
    "# Обучим модель, подберем парметры на кросс-валидации.\n",
    "\n",
    "forest_model = forest_random.fit(features_train, target_train)\n",
    "\n",
    "# Выведем лучший результат метрики и лучшие подобранные гиперпараметры.\n",
    "\n",
    "f1_forest = forest_model.best_score_\n",
    "params_forest = forest_model.best_params_\n",
    "print(f1_forest)\n",
    "print(params_forest)"
   ]
  },
  {
   "cell_type": "markdown",
   "metadata": {},
   "source": [
    "Время обучения чуть около 2-х минут."
   ]
  },
  {
   "cell_type": "markdown",
   "metadata": {},
   "source": [
    "### Catboost."
   ]
  },
  {
   "cell_type": "code",
   "execution_count": 35,
   "metadata": {},
   "outputs": [],
   "source": [
    "# Pipeline для векторизации, обучения модели и подбора параметров CatBoostClassifier.\n",
    "\n",
    "pipe_cat = Pipeline(steps=[\n",
    "          ('vect', TfidfVectorizer(stop_words=stop_words)),\n",
    "          ('cat', CatBoostClassifier(random_state=RANDOM_STATE, auto_class_weights='Balanced', iterations=100,\\\n",
    "                                     verbose=500))\n",
    "          ], verbose=False)"
   ]
  },
  {
   "cell_type": "code",
   "execution_count": 36,
   "metadata": {},
   "outputs": [],
   "source": [
    "# Параметры для RandomseachCV для модели CatBoostClassifier.\n",
    "\n",
    "param_cat = {'vect__sublinear_tf': [True, False],\n",
    "            'cat__learning_rate': [0.1, 0.5],\n",
    "            }"
   ]
  },
  {
   "cell_type": "code",
   "execution_count": 37,
   "metadata": {},
   "outputs": [],
   "source": [
    "# Создадим подборщик параметров для модели CatBoostClassifier.\n",
    "\n",
    "cat = RandomizedSearchCV(pipe_cat,param_distributions=param_cat,\\\n",
    "                                        n_jobs=-1, n_iter=4,cv=2, scoring='f1')"
   ]
  },
  {
   "cell_type": "code",
   "execution_count": 38,
   "metadata": {},
   "outputs": [
    {
     "name": "stdout",
     "output_type": "stream",
     "text": [
      "0:\tlearn: 0.5648104\ttotal: 2.44s\tremaining: 4m 1s\n",
      "99:\tlearn: 0.2289802\ttotal: 3m 5s\tremaining: 0us\n",
      "0.735\n",
      "{'vect__sublinear_tf': True, 'cat__learning_rate': 0.5}\n",
      "Wall time: 16min 35s\n"
     ]
    }
   ],
   "source": [
    "%%time\n",
    "\n",
    "# Обучение модели CatBoostClassifier, подбор параметров и подсчет метрики.\n",
    "\n",
    "cat_model = cat.fit(features_train, target_train)\n",
    "\n",
    "# Выведем лучший результат метрики и лучшие подобранные гиперпараметры.\n",
    "\n",
    "f1_cat = cat_model.best_score_\n",
    "params_cat = cat_model.best_params_\n",
    "print(round(f1_cat, 3))\n",
    "print(params_cat)"
   ]
  },
  {
   "cell_type": "markdown",
   "metadata": {},
   "source": [
    "Время обучения и подбора параметров около 17 мин."
   ]
  },
  {
   "cell_type": "markdown",
   "metadata": {},
   "source": [
    "## Выводы"
   ]
  },
  {
   "cell_type": "code",
   "execution_count": 39,
   "metadata": {},
   "outputs": [],
   "source": [
    "# Cоставим списки по результатам обучения и кросс-валидации моделей.\n",
    "\n",
    "models = ['Логистическая регрессия', 'Решающее дерево', 'Случайный лес', 'CatBoostRegressor']\n",
    "res = [[round(f1_lg, 3 )],\n",
    "        [round(f1_tree,3 )],\n",
    "        [round(f1_forest, 3)],\n",
    "        [round(f1_cat, 3)]]"
   ]
  },
  {
   "cell_type": "code",
   "execution_count": 40,
   "metadata": {
    "scrolled": true
   },
   "outputs": [
    {
     "data": {
      "text/html": [
       "<div>\n",
       "<style scoped>\n",
       "    .dataframe tbody tr th:only-of-type {\n",
       "        vertical-align: middle;\n",
       "    }\n",
       "\n",
       "    .dataframe tbody tr th {\n",
       "        vertical-align: top;\n",
       "    }\n",
       "\n",
       "    .dataframe thead th {\n",
       "        text-align: right;\n",
       "    }\n",
       "</style>\n",
       "<table border=\"1\" class=\"dataframe\">\n",
       "  <thead>\n",
       "    <tr style=\"text-align: right;\">\n",
       "      <th></th>\n",
       "      <th>Качество предсказания (F1-мера)</th>\n",
       "    </tr>\n",
       "  </thead>\n",
       "  <tbody>\n",
       "    <tr>\n",
       "      <th>Логистическая регрессия</th>\n",
       "      <td>0.769</td>\n",
       "    </tr>\n",
       "    <tr>\n",
       "      <th>Решающее дерево</th>\n",
       "      <td>0.192</td>\n",
       "    </tr>\n",
       "    <tr>\n",
       "      <th>Случайный лес</th>\n",
       "      <td>0.498</td>\n",
       "    </tr>\n",
       "    <tr>\n",
       "      <th>CatBoostRegressor</th>\n",
       "      <td>0.735</td>\n",
       "    </tr>\n",
       "  </tbody>\n",
       "</table>\n",
       "</div>"
      ],
      "text/plain": [
       "                         Качество предсказания (F1-мера)\n",
       "Логистическая регрессия                            0.769\n",
       "Решающее дерево                                    0.192\n",
       "Случайный лес                                      0.498\n",
       "CatBoostRegressor                                  0.735"
      ]
     },
     "execution_count": 40,
     "metadata": {},
     "output_type": "execute_result"
    }
   ],
   "source": [
    "# Создадим дата-фрейм с результатами кросс-валидации моделей.\n",
    "\n",
    "result_data = pd.DataFrame(data=res, index=models, columns=['Качество предсказания (F1-мера)'])\n",
    "result_data"
   ]
  },
  {
   "cell_type": "markdown",
   "metadata": {},
   "source": [
    "***Выводы по разделу:***\n",
    "\n",
    "По результатам обучения 4 моделей ('Логистическая регрессия', 'Решающее дерево', 'Случайный лес', 'CatBoostRegressor') лучшее значение метрики 'F1-мера' показала модель логистической регрессии в конвейере с TfidfVectorizer со следующими гиперпараметрами:\n",
    "- TfidfVectorizer(sublinear_tf=True);\n",
    "- LogisticRegression(class_weight='balanced', С=10)"
   ]
  },
  {
   "cell_type": "markdown",
   "metadata": {},
   "source": [
    "### Тестирование лучшей модели."
   ]
  },
  {
   "cell_type": "code",
   "execution_count": 41,
   "metadata": {},
   "outputs": [
    {
     "name": "stdout",
     "output_type": "stream",
     "text": [
      "Значение F1-меры модели логистической регресси на тестовой выборке: 0.785\n",
      "Wall time: 3.54 s\n"
     ]
    }
   ],
   "source": [
    "%%time\n",
    "# Делаем предсказания на тествой.\n",
    "\n",
    "reg_predictions = lg_model.best_estimator_.predict(features_test)\n",
    "# Проверяем и выводим результат метрики на тестовой выборке.\n",
    "\n",
    "f1_reg_test = f1_score(target_test, reg_predictions)\n",
    "print('Значение F1-меры модели логистической регресси на тестовой выборке:', round(f1_reg_test, 3))"
   ]
  },
  {
   "cell_type": "markdown",
   "metadata": {},
   "source": [
    "###  Проверка на адекватность."
   ]
  },
  {
   "cell_type": "code",
   "execution_count": 42,
   "metadata": {},
   "outputs": [
    {
     "name": "stdout",
     "output_type": "stream",
     "text": [
      "Значение F1-меры при заполнении константой: 0.18\n"
     ]
    }
   ],
   "source": [
    "# Создадим модель DummyClassifier.\n",
    "\n",
    "dummy_class = DummyClassifier(strategy='constant', constant=1)\n",
    "dummy_class.fit(features_train, target_train)\n",
    "dummy_pred = dummy_class.predict(features_test)\n",
    "f1_dummy_test = f1_score(target_test, dummy_pred)\n",
    "print('Значение F1-меры при заполнении константой:', round(f1_dummy_test, 2))"
   ]
  },
  {
   "cell_type": "markdown",
   "metadata": {},
   "source": [
    "***Итоговые выводы:***\n",
    "- Провели предобработку данных и лемматизировали текст;\n",
    "- Векторизовали текст и обучили разные модели;\n",
    "- Лучшими на кросс-валидации и подборе параметров себя показали: модели Логистической Регрессия;\n",
    "- Провели проверку лучшей модели на тестовой выборке;\n",
    "- Лучшая модель Логистической регрессии показала на тестовой выборке значение метрики F1 равное 0,785;\n",
    "- Модель адекватна, значение метрики лучшей модели много лучше заполнения константой."
   ]
  },
  {
   "cell_type": "code",
   "execution_count": null,
   "metadata": {},
   "outputs": [],
   "source": []
  }
 ],
 "metadata": {
  "ExecuteTimeLog": [
   {
    "duration": 1482,
    "start_time": "2023-07-03T09:00:25.195Z"
   },
   {
    "duration": 3,
    "start_time": "2023-07-03T09:00:29.934Z"
   },
   {
    "duration": 230,
    "start_time": "2023-07-03T09:00:31.999Z"
   },
   {
    "duration": 2383,
    "start_time": "2023-07-03T09:01:15.097Z"
   },
   {
    "duration": 10,
    "start_time": "2023-07-03T09:01:27.297Z"
   },
   {
    "duration": 13,
    "start_time": "2023-07-03T09:01:44.456Z"
   },
   {
    "duration": 36,
    "start_time": "2023-07-03T09:02:06.296Z"
   },
   {
    "duration": 34,
    "start_time": "2023-07-03T09:02:31.967Z"
   },
   {
    "duration": 26,
    "start_time": "2023-07-03T09:02:37.441Z"
   },
   {
    "duration": 37,
    "start_time": "2023-07-03T09:02:45.993Z"
   },
   {
    "duration": 244,
    "start_time": "2023-07-03T09:02:55.860Z"
   },
   {
    "duration": 11,
    "start_time": "2023-07-03T09:03:17.746Z"
   },
   {
    "duration": 4,
    "start_time": "2023-07-03T09:03:52.862Z"
   },
   {
    "duration": 11,
    "start_time": "2023-07-03T09:04:15.842Z"
   },
   {
    "duration": 15,
    "start_time": "2023-07-03T09:04:43.895Z"
   },
   {
    "duration": 12,
    "start_time": "2023-07-03T09:05:01.661Z"
   },
   {
    "duration": 14,
    "start_time": "2023-07-03T09:05:22.193Z"
   },
   {
    "duration": 20,
    "start_time": "2023-07-03T09:05:32.716Z"
   },
   {
    "duration": 24,
    "start_time": "2023-07-03T09:05:50.216Z"
   },
   {
    "duration": 11,
    "start_time": "2023-07-03T09:07:08.130Z"
   },
   {
    "duration": 4,
    "start_time": "2023-07-03T09:07:25.110Z"
   },
   {
    "duration": 10,
    "start_time": "2023-07-03T09:07:54.107Z"
   },
   {
    "duration": 247,
    "start_time": "2023-07-03T09:08:28.973Z"
   },
   {
    "duration": 218,
    "start_time": "2023-07-03T09:09:10.909Z"
   },
   {
    "duration": 266,
    "start_time": "2023-07-03T09:09:18.254Z"
   },
   {
    "duration": 14,
    "start_time": "2023-07-03T09:13:49.305Z"
   },
   {
    "duration": 12,
    "start_time": "2023-07-03T09:13:52.840Z"
   },
   {
    "duration": 1682,
    "start_time": "2023-07-03T09:27:04.022Z"
   },
   {
    "duration": 18,
    "start_time": "2023-07-03T09:35:50.409Z"
   },
   {
    "duration": 13,
    "start_time": "2023-07-03T09:36:23.853Z"
   },
   {
    "duration": 11,
    "start_time": "2023-07-03T09:36:28.019Z"
   },
   {
    "duration": 4,
    "start_time": "2023-07-03T09:38:27.273Z"
   },
   {
    "duration": 9,
    "start_time": "2023-07-03T09:49:47.054Z"
   },
   {
    "duration": 3,
    "start_time": "2023-07-03T09:52:01.729Z"
   },
   {
    "duration": 3,
    "start_time": "2023-07-03T09:52:03.379Z"
   },
   {
    "duration": 517952,
    "start_time": "2023-07-03T09:52:05.251Z"
   },
   {
    "duration": 12,
    "start_time": "2023-07-03T10:00:57.093Z"
   },
   {
    "duration": 73,
    "start_time": "2023-07-03T10:01:43.496Z"
   },
   {
    "duration": 8173,
    "start_time": "2023-07-03T10:02:12.515Z"
   },
   {
    "duration": 12,
    "start_time": "2023-07-03T10:07:11.410Z"
   },
   {
    "duration": 9,
    "start_time": "2023-07-03T10:07:22.652Z"
   },
   {
    "duration": 11,
    "start_time": "2023-07-03T10:08:19.062Z"
   },
   {
    "duration": 11,
    "start_time": "2023-07-03T10:09:14.897Z"
   },
   {
    "duration": 11,
    "start_time": "2023-07-03T10:09:27.271Z"
   },
   {
    "duration": 4,
    "start_time": "2023-07-03T10:09:56.910Z"
   },
   {
    "duration": 9,
    "start_time": "2023-07-03T10:11:02.654Z"
   },
   {
    "duration": 19,
    "start_time": "2023-07-03T10:11:37.909Z"
   },
   {
    "duration": 11,
    "start_time": "2023-07-03T10:11:49.511Z"
   },
   {
    "duration": 4,
    "start_time": "2023-07-03T10:12:37.869Z"
   },
   {
    "duration": 11,
    "start_time": "2023-07-03T10:12:41.405Z"
   },
   {
    "duration": 4,
    "start_time": "2023-07-03T10:13:25.843Z"
   },
   {
    "duration": 10,
    "start_time": "2023-07-03T10:13:42.806Z"
   },
   {
    "duration": 4,
    "start_time": "2023-07-03T10:13:53.119Z"
   },
   {
    "duration": 29964,
    "start_time": "2023-07-03T10:15:01.241Z"
   },
   {
    "duration": 4216797,
    "start_time": "2023-07-03T10:15:43.899Z"
   },
   {
    "duration": 4617,
    "start_time": "2023-07-03T11:32:44.085Z"
   },
   {
    "duration": 7,
    "start_time": "2023-07-03T11:33:14.343Z"
   },
   {
    "duration": 14,
    "start_time": "2023-07-03T11:33:44.981Z"
   },
   {
    "duration": 34,
    "start_time": "2023-07-03T11:35:25.005Z"
   },
   {
    "duration": 9,
    "start_time": "2023-07-03T11:35:31.684Z"
   },
   {
    "duration": 4592,
    "start_time": "2023-07-03T11:35:47.417Z"
   },
   {
    "duration": 5,
    "start_time": "2023-07-03T11:35:58.521Z"
   },
   {
    "duration": 11,
    "start_time": "2023-07-03T11:44:35.933Z"
   },
   {
    "duration": 0,
    "start_time": "2023-07-03T14:19:10.084Z"
   },
   {
    "duration": 448,
    "start_time": "2023-07-03T14:19:12.367Z"
   },
   {
    "duration": 2680,
    "start_time": "2023-07-03T14:19:45.850Z"
   },
   {
    "duration": 27,
    "start_time": "2023-07-03T14:19:59.024Z"
   },
   {
    "duration": 3535,
    "start_time": "2023-07-03T14:20:07.643Z"
   },
   {
    "duration": 301,
    "start_time": "2023-07-03T14:20:32.616Z"
   },
   {
    "duration": 547,
    "start_time": "2023-07-03T14:23:42.748Z"
   },
   {
    "duration": 2,
    "start_time": "2023-07-03T14:24:26.092Z"
   },
   {
    "duration": 14,
    "start_time": "2023-07-03T14:24:38.743Z"
   },
   {
    "duration": 6,
    "start_time": "2023-07-03T14:25:01.262Z"
   },
   {
    "duration": 3,
    "start_time": "2023-07-03T14:26:55.425Z"
   },
   {
    "duration": 5,
    "start_time": "2023-07-03T14:27:43.045Z"
   },
   {
    "duration": 982109,
    "start_time": "2023-07-03T14:27:54.287Z"
   },
   {
    "duration": 10,
    "start_time": "2023-07-03T14:46:58.646Z"
   },
   {
    "duration": 12,
    "start_time": "2023-07-03T14:51:51.094Z"
   },
   {
    "duration": 3,
    "start_time": "2023-07-03T14:54:09.791Z"
   },
   {
    "duration": 3,
    "start_time": "2023-07-03T14:54:23.839Z"
   },
   {
    "duration": 50,
    "start_time": "2023-07-03T21:39:17.387Z"
   },
   {
    "duration": 2958,
    "start_time": "2023-07-03T21:39:26.629Z"
   },
   {
    "duration": 10167,
    "start_time": "2023-07-03T21:39:29.589Z"
   },
   {
    "duration": 6,
    "start_time": "2023-07-03T21:39:39.758Z"
   },
   {
    "duration": 4,
    "start_time": "2023-07-03T21:39:39.767Z"
   },
   {
    "duration": 2281,
    "start_time": "2023-07-03T21:39:39.773Z"
   },
   {
    "duration": 23,
    "start_time": "2023-07-03T21:39:42.055Z"
   },
   {
    "duration": 38,
    "start_time": "2023-07-03T21:39:42.080Z"
   },
   {
    "duration": 1671,
    "start_time": "2023-07-03T21:39:42.120Z"
   },
   {
    "duration": 297,
    "start_time": "2023-07-03T21:39:43.793Z"
   },
   {
    "duration": 11,
    "start_time": "2023-07-03T21:39:44.093Z"
   },
   {
    "duration": 9,
    "start_time": "2023-07-03T21:39:44.106Z"
   },
   {
    "duration": 23,
    "start_time": "2023-07-03T21:39:44.117Z"
   },
   {
    "duration": 5,
    "start_time": "2023-07-03T21:39:44.142Z"
   },
   {
    "duration": 4472,
    "start_time": "2023-07-03T21:39:44.149Z"
   },
   {
    "duration": 344,
    "start_time": "2023-07-03T21:39:48.622Z"
   },
   {
    "duration": 707,
    "start_time": "2023-07-03T21:39:48.967Z"
   },
   {
    "duration": 3,
    "start_time": "2023-07-03T21:39:49.676Z"
   },
   {
    "duration": 16,
    "start_time": "2023-07-03T21:39:49.681Z"
   },
   {
    "duration": 496115,
    "start_time": "2023-07-03T21:39:49.699Z"
   },
   {
    "duration": 6,
    "start_time": "2023-07-03T21:48:05.816Z"
   },
   {
    "duration": 6,
    "start_time": "2023-07-03T21:48:44.830Z"
   },
   {
    "duration": 14,
    "start_time": "2023-07-03T21:48:49.413Z"
   },
   {
    "duration": 4,
    "start_time": "2023-07-03T21:50:10.829Z"
   },
   {
    "duration": 8357,
    "start_time": "2023-07-03T21:50:16.396Z"
   },
   {
    "duration": 2258,
    "start_time": "2023-07-03T21:50:42.358Z"
   },
   {
    "duration": 4483,
    "start_time": "2023-07-03T21:50:44.618Z"
   },
   {
    "duration": 7,
    "start_time": "2023-07-03T21:50:49.103Z"
   },
   {
    "duration": 9,
    "start_time": "2023-07-03T21:50:49.112Z"
   },
   {
    "duration": 2934,
    "start_time": "2023-07-03T21:50:49.123Z"
   },
   {
    "duration": 20,
    "start_time": "2023-07-03T21:50:52.059Z"
   },
   {
    "duration": 45,
    "start_time": "2023-07-03T21:50:52.080Z"
   },
   {
    "duration": 1719,
    "start_time": "2023-07-03T21:50:52.127Z"
   },
   {
    "duration": 298,
    "start_time": "2023-07-03T21:50:53.847Z"
   },
   {
    "duration": 8,
    "start_time": "2023-07-03T21:50:54.148Z"
   },
   {
    "duration": 8,
    "start_time": "2023-07-03T21:50:54.167Z"
   },
   {
    "duration": 13,
    "start_time": "2023-07-03T21:50:54.177Z"
   },
   {
    "duration": 15,
    "start_time": "2023-07-03T21:50:54.192Z"
   },
   {
    "duration": 4384,
    "start_time": "2023-07-03T21:50:54.209Z"
   },
   {
    "duration": 248,
    "start_time": "2023-07-03T21:50:58.595Z"
   },
   {
    "duration": 536,
    "start_time": "2023-07-03T21:50:58.845Z"
   },
   {
    "duration": 3,
    "start_time": "2023-07-03T21:50:59.383Z"
   },
   {
    "duration": 9,
    "start_time": "2023-07-03T21:50:59.388Z"
   },
   {
    "duration": 6,
    "start_time": "2023-07-03T21:53:39.939Z"
   },
   {
    "duration": 508208,
    "start_time": "2023-07-03T21:55:12.994Z"
   },
   {
    "duration": 7,
    "start_time": "2023-07-03T22:04:31.483Z"
   },
   {
    "duration": 2413,
    "start_time": "2023-07-03T22:04:56.654Z"
   },
   {
    "duration": 6,
    "start_time": "2023-07-03T22:04:59.074Z"
   },
   {
    "duration": 10,
    "start_time": "2023-07-03T22:04:59.083Z"
   },
   {
    "duration": 7,
    "start_time": "2023-07-03T22:04:59.096Z"
   },
   {
    "duration": 2663,
    "start_time": "2023-07-03T22:04:59.106Z"
   },
   {
    "duration": 14,
    "start_time": "2023-07-03T22:05:01.771Z"
   },
   {
    "duration": 85,
    "start_time": "2023-07-03T22:05:01.786Z"
   },
   {
    "duration": 1614,
    "start_time": "2023-07-03T22:05:01.873Z"
   },
   {
    "duration": 268,
    "start_time": "2023-07-03T22:05:03.489Z"
   },
   {
    "duration": 12,
    "start_time": "2023-07-03T22:05:03.759Z"
   },
   {
    "duration": 13,
    "start_time": "2023-07-03T22:05:03.773Z"
   },
   {
    "duration": 12,
    "start_time": "2023-07-03T22:05:03.788Z"
   },
   {
    "duration": 4669,
    "start_time": "2023-07-03T22:05:16.548Z"
   },
   {
    "duration": 6,
    "start_time": "2023-07-03T22:05:34.385Z"
   },
   {
    "duration": 2339,
    "start_time": "2023-07-03T22:06:51.770Z"
   },
   {
    "duration": 4554,
    "start_time": "2023-07-03T22:06:54.113Z"
   },
   {
    "duration": 6,
    "start_time": "2023-07-03T22:06:58.669Z"
   },
   {
    "duration": 7,
    "start_time": "2023-07-03T22:06:58.677Z"
   },
   {
    "duration": 2417,
    "start_time": "2023-07-03T22:06:58.686Z"
   },
   {
    "duration": 19,
    "start_time": "2023-07-03T22:07:01.105Z"
   },
   {
    "duration": 70,
    "start_time": "2023-07-03T22:07:01.125Z"
   },
   {
    "duration": 1830,
    "start_time": "2023-07-03T22:07:01.197Z"
   },
   {
    "duration": 284,
    "start_time": "2023-07-03T22:07:03.029Z"
   },
   {
    "duration": 9,
    "start_time": "2023-07-03T22:07:03.314Z"
   },
   {
    "duration": 39,
    "start_time": "2023-07-03T22:07:03.325Z"
   },
   {
    "duration": 14,
    "start_time": "2023-07-03T22:07:03.367Z"
   },
   {
    "duration": 18,
    "start_time": "2023-07-03T22:07:03.383Z"
   },
   {
    "duration": 4639,
    "start_time": "2023-07-03T22:07:03.405Z"
   },
   {
    "duration": 7,
    "start_time": "2023-07-03T22:07:22.260Z"
   },
   {
    "duration": 252,
    "start_time": "2023-07-03T22:07:43.625Z"
   },
   {
    "duration": 560,
    "start_time": "2023-07-03T22:07:47.376Z"
   },
   {
    "duration": 4,
    "start_time": "2023-07-03T22:08:06.351Z"
   },
   {
    "duration": 8,
    "start_time": "2023-07-03T22:08:12.923Z"
   },
   {
    "duration": 1138280,
    "start_time": "2023-07-03T22:08:18.635Z"
   },
   {
    "duration": 6,
    "start_time": "2023-07-03T22:27:40.105Z"
   },
   {
    "duration": 19,
    "start_time": "2023-07-03T22:27:44.560Z"
   },
   {
    "duration": 47,
    "start_time": "2023-07-03T22:27:52.600Z"
   },
   {
    "duration": 78,
    "start_time": "2023-07-03T22:28:53.753Z"
   },
   {
    "duration": 86,
    "start_time": "2023-07-03T22:29:22.027Z"
   },
   {
    "duration": 372,
    "start_time": "2023-07-03T22:30:05.361Z"
   },
   {
    "duration": 11,
    "start_time": "2023-07-03T22:30:31.545Z"
   },
   {
    "duration": 81,
    "start_time": "2023-07-03T22:30:33.821Z"
   },
   {
    "duration": 14,
    "start_time": "2023-07-03T22:47:26.843Z"
   },
   {
    "duration": 6,
    "start_time": "2023-07-03T23:08:45.123Z"
   },
   {
    "duration": 3434,
    "start_time": "2023-07-04T12:25:55.208Z"
   },
   {
    "duration": 45369,
    "start_time": "2023-07-04T12:25:58.645Z"
   },
   {
    "duration": 9,
    "start_time": "2023-07-04T12:26:44.016Z"
   },
   {
    "duration": 72,
    "start_time": "2023-07-04T12:26:44.027Z"
   },
   {
    "duration": 2408,
    "start_time": "2023-07-04T12:26:44.102Z"
   },
   {
    "duration": 17,
    "start_time": "2023-07-04T12:26:46.512Z"
   },
   {
    "duration": 55,
    "start_time": "2023-07-04T12:26:46.531Z"
   },
   {
    "duration": 1906,
    "start_time": "2023-07-04T12:26:46.587Z"
   },
   {
    "duration": 246,
    "start_time": "2023-07-04T12:26:48.495Z"
   },
   {
    "duration": 29,
    "start_time": "2023-07-04T12:26:48.743Z"
   },
   {
    "duration": 13,
    "start_time": "2023-07-04T12:26:48.774Z"
   },
   {
    "duration": 33,
    "start_time": "2023-07-04T12:26:48.791Z"
   },
   {
    "duration": 9,
    "start_time": "2023-07-04T12:26:48.826Z"
   },
   {
    "duration": 6479,
    "start_time": "2023-07-04T12:26:48.837Z"
   },
   {
    "duration": 6,
    "start_time": "2023-07-04T12:26:55.318Z"
   },
   {
    "duration": 475,
    "start_time": "2023-07-04T12:26:55.326Z"
   },
   {
    "duration": 963,
    "start_time": "2023-07-04T12:26:55.803Z"
   },
   {
    "duration": 5,
    "start_time": "2023-07-04T12:26:56.768Z"
   },
   {
    "duration": 41,
    "start_time": "2023-07-04T12:26:56.775Z"
   },
   {
    "duration": 1244768,
    "start_time": "2023-07-04T12:26:56.818Z"
   },
   {
    "duration": 9,
    "start_time": "2023-07-04T12:47:41.589Z"
   },
   {
    "duration": 19,
    "start_time": "2023-07-04T12:47:41.599Z"
   },
   {
    "duration": 92,
    "start_time": "2023-07-04T12:47:41.620Z"
   },
   {
    "duration": 22,
    "start_time": "2023-07-04T12:47:41.714Z"
   },
   {
    "duration": 9,
    "start_time": "2023-07-04T12:48:33.775Z"
   },
   {
    "duration": 4,
    "start_time": "2023-07-04T12:49:01.933Z"
   },
   {
    "duration": 1453,
    "start_time": "2023-07-04T12:49:04.619Z"
   },
   {
    "duration": 9,
    "start_time": "2023-07-04T12:49:41.055Z"
   },
   {
    "duration": 7,
    "start_time": "2023-07-04T12:49:55.255Z"
   },
   {
    "duration": 20,
    "start_time": "2023-07-04T12:50:00.126Z"
   },
   {
    "duration": 11,
    "start_time": "2023-07-04T12:50:06.670Z"
   },
   {
    "duration": 162,
    "start_time": "2023-07-04T12:50:18.369Z"
   },
   {
    "duration": 5,
    "start_time": "2023-07-04T12:50:48.833Z"
   },
   {
    "duration": 5,
    "start_time": "2023-07-04T12:50:59.943Z"
   },
   {
    "duration": 5,
    "start_time": "2023-07-04T12:51:03.920Z"
   },
   {
    "duration": 4,
    "start_time": "2023-07-04T12:51:07.631Z"
   },
   {
    "duration": 322,
    "start_time": "2023-07-04T12:51:17.083Z"
   },
   {
    "duration": 1127757,
    "start_time": "2023-07-04T12:53:18.736Z"
   },
   {
    "duration": 8,
    "start_time": "2023-07-04T13:12:58.671Z"
   },
   {
    "duration": 111,
    "start_time": "2023-07-04T13:13:28.975Z"
   },
   {
    "duration": 40012,
    "start_time": "2023-07-04T13:14:17.301Z"
   },
   {
    "duration": 62561,
    "start_time": "2023-07-04T13:15:33.138Z"
   },
   {
    "duration": 8,
    "start_time": "2023-07-04T13:18:25.554Z"
   },
   {
    "duration": 1240191,
    "start_time": "2023-07-04T13:18:29.235Z"
   },
   {
    "duration": 3,
    "start_time": "2023-07-04T13:40:27.136Z"
   },
   {
    "duration": 4,
    "start_time": "2023-07-04T13:40:44.631Z"
   },
   {
    "duration": 11,
    "start_time": "2023-07-04T13:41:24.279Z"
   },
   {
    "duration": 5,
    "start_time": "2023-07-04T13:41:40.262Z"
   },
   {
    "duration": 4,
    "start_time": "2023-07-04T13:41:41.542Z"
   },
   {
    "duration": 39,
    "start_time": "2023-07-04T14:18:24.373Z"
   },
   {
    "duration": 4,
    "start_time": "2023-07-04T14:18:33.978Z"
   },
   {
    "duration": 4,
    "start_time": "2023-07-04T14:18:43.475Z"
   },
   {
    "duration": 3,
    "start_time": "2023-07-04T14:18:45.906Z"
   },
   {
    "duration": 3,
    "start_time": "2023-07-04T14:18:49.549Z"
   },
   {
    "duration": 68362,
    "start_time": "2023-07-04T14:19:05.403Z"
   },
   {
    "duration": 3,
    "start_time": "2023-07-04T14:21:17.407Z"
   },
   {
    "duration": 4,
    "start_time": "2023-07-04T14:28:43.418Z"
   },
   {
    "duration": 4,
    "start_time": "2023-07-04T14:29:11.900Z"
   },
   {
    "duration": 3,
    "start_time": "2023-07-04T14:29:13.744Z"
   },
   {
    "duration": 3,
    "start_time": "2023-07-04T14:29:17.033Z"
   },
   {
    "duration": 88530,
    "start_time": "2023-07-04T14:29:22.416Z"
   },
   {
    "duration": 4,
    "start_time": "2023-07-04T14:34:30.304Z"
   },
   {
    "duration": 5,
    "start_time": "2023-07-04T14:35:14.512Z"
   },
   {
    "duration": 3,
    "start_time": "2023-07-04T14:35:16.624Z"
   },
   {
    "duration": 3,
    "start_time": "2023-07-04T14:35:19.058Z"
   },
   {
    "duration": 119575,
    "start_time": "2023-07-04T14:35:22.059Z"
   },
   {
    "duration": 3,
    "start_time": "2023-07-04T14:39:08.496Z"
   },
   {
    "duration": 4,
    "start_time": "2023-07-04T14:39:10.446Z"
   },
   {
    "duration": 117749,
    "start_time": "2023-07-04T14:39:13.208Z"
   },
   {
    "duration": 3,
    "start_time": "2023-07-04T14:42:00.645Z"
   },
   {
    "duration": 8,
    "start_time": "2023-07-04T14:42:02.712Z"
   },
   {
    "duration": 162373,
    "start_time": "2023-07-04T14:42:05.333Z"
   },
   {
    "duration": 2731,
    "start_time": "2023-07-04T17:30:27.339Z"
   },
   {
    "duration": 5233,
    "start_time": "2023-07-04T17:30:30.072Z"
   },
   {
    "duration": 6,
    "start_time": "2023-07-04T17:30:35.307Z"
   },
   {
    "duration": 42,
    "start_time": "2023-07-04T17:30:35.315Z"
   },
   {
    "duration": 2609,
    "start_time": "2023-07-04T17:30:35.359Z"
   },
   {
    "duration": 24,
    "start_time": "2023-07-04T17:30:37.969Z"
   },
   {
    "duration": 75,
    "start_time": "2023-07-04T17:30:37.994Z"
   },
   {
    "duration": 1467,
    "start_time": "2023-07-04T17:30:38.071Z"
   },
   {
    "duration": 242,
    "start_time": "2023-07-04T17:30:39.540Z"
   },
   {
    "duration": 12,
    "start_time": "2023-07-04T17:30:39.787Z"
   },
   {
    "duration": 23,
    "start_time": "2023-07-04T17:30:39.801Z"
   },
   {
    "duration": 19,
    "start_time": "2023-07-04T17:30:39.826Z"
   },
   {
    "duration": 24,
    "start_time": "2023-07-04T17:30:39.847Z"
   },
   {
    "duration": 4564,
    "start_time": "2023-07-04T17:30:39.873Z"
   },
   {
    "duration": 6,
    "start_time": "2023-07-04T17:30:44.439Z"
   },
   {
    "duration": 272,
    "start_time": "2023-07-04T17:30:44.447Z"
   },
   {
    "duration": 497,
    "start_time": "2023-07-04T17:30:44.721Z"
   },
   {
    "duration": 4,
    "start_time": "2023-07-04T17:30:45.219Z"
   },
   {
    "duration": 15,
    "start_time": "2023-07-04T17:30:45.225Z"
   },
   {
    "duration": 1025452,
    "start_time": "2023-07-04T17:30:45.242Z"
   },
   {
    "duration": 6,
    "start_time": "2023-07-04T17:47:50.696Z"
   },
   {
    "duration": 32,
    "start_time": "2023-07-04T17:47:50.704Z"
   },
   {
    "duration": 77,
    "start_time": "2023-07-04T17:47:50.738Z"
   },
   {
    "duration": 87,
    "start_time": "2023-07-04T17:47:50.817Z"
   },
   {
    "duration": 6,
    "start_time": "2023-07-04T17:47:50.905Z"
   },
   {
    "duration": 21,
    "start_time": "2023-07-04T17:48:58.000Z"
   },
   {
    "duration": 6,
    "start_time": "2023-07-04T17:49:01.812Z"
   },
   {
    "duration": 3,
    "start_time": "2023-07-04T17:49:04.756Z"
   },
   {
    "duration": 98656,
    "start_time": "2023-07-04T17:49:07.524Z"
   },
   {
    "duration": 4,
    "start_time": "2023-07-04T17:52:38.831Z"
   },
   {
    "duration": 4,
    "start_time": "2023-07-04T17:53:11.530Z"
   },
   {
    "duration": 4,
    "start_time": "2023-07-04T17:53:13.507Z"
   },
   {
    "duration": 3,
    "start_time": "2023-07-04T17:53:15.607Z"
   },
   {
    "duration": 119197,
    "start_time": "2023-07-04T17:53:17.811Z"
   },
   {
    "duration": 4,
    "start_time": "2023-07-04T18:06:22.188Z"
   },
   {
    "duration": 126,
    "start_time": "2023-07-04T19:03:55.502Z"
   },
   {
    "duration": 423,
    "start_time": "2023-07-04T19:04:04.204Z"
   },
   {
    "duration": 6,
    "start_time": "2023-07-04T19:04:18.538Z"
   },
   {
    "duration": 33,
    "start_time": "2023-07-04T19:04:27.301Z"
   },
   {
    "duration": 4,
    "start_time": "2023-07-04T19:05:13.531Z"
   },
   {
    "duration": 5,
    "start_time": "2023-07-04T19:05:22.320Z"
   },
   {
    "duration": 4,
    "start_time": "2023-07-04T19:05:35.006Z"
   },
   {
    "duration": 28236,
    "start_time": "2023-07-04T19:06:16.002Z"
   },
   {
    "duration": 3,
    "start_time": "2023-07-04T19:16:38.855Z"
   },
   {
    "duration": 3,
    "start_time": "2023-07-04T19:16:40.864Z"
   },
   {
    "duration": 3,
    "start_time": "2023-07-04T19:16:43.052Z"
   },
   {
    "duration": 27223,
    "start_time": "2023-07-04T19:16:47.025Z"
   },
   {
    "duration": 3,
    "start_time": "2023-07-04T19:30:47.617Z"
   },
   {
    "duration": 3,
    "start_time": "2023-07-04T19:30:49.528Z"
   },
   {
    "duration": 3,
    "start_time": "2023-07-04T19:30:51.425Z"
   },
   {
    "duration": 876556,
    "start_time": "2023-07-04T19:30:59.699Z"
   },
   {
    "duration": 5,
    "start_time": "2023-07-04T19:46:19.924Z"
   },
   {
    "duration": 5,
    "start_time": "2023-07-04T19:46:29.203Z"
   },
   {
    "duration": 915558,
    "start_time": "2023-07-04T19:46:54.405Z"
   },
   {
    "duration": 3,
    "start_time": "2023-07-04T20:10:23.790Z"
   },
   {
    "duration": 3,
    "start_time": "2023-07-04T20:10:25.849Z"
   },
   {
    "duration": 2,
    "start_time": "2023-07-04T20:10:29.451Z"
   },
   {
    "duration": 426913,
    "start_time": "2023-07-04T20:11:10.078Z"
   },
   {
    "duration": 4,
    "start_time": "2023-07-04T20:23:28.116Z"
   },
   {
    "duration": 3,
    "start_time": "2023-07-04T20:25:37.016Z"
   },
   {
    "duration": 20,
    "start_time": "2023-07-04T20:29:49.209Z"
   },
   {
    "duration": 4,
    "start_time": "2023-07-04T20:30:09.203Z"
   },
   {
    "duration": 17366,
    "start_time": "2023-07-04T20:30:24.224Z"
   },
   {
    "duration": 5,
    "start_time": "2023-07-04T20:31:29.205Z"
   },
   {
    "duration": 3,
    "start_time": "2023-07-04T20:31:31.849Z"
   },
   {
    "duration": 484168,
    "start_time": "2023-07-04T20:31:35.907Z"
   },
   {
    "duration": 4,
    "start_time": "2023-07-04T20:43:33.416Z"
   },
   {
    "duration": 4,
    "start_time": "2023-07-04T20:46:12.753Z"
   },
   {
    "duration": 4,
    "start_time": "2023-07-04T20:46:30.293Z"
   },
   {
    "duration": 3,
    "start_time": "2023-07-04T20:46:37.260Z"
   },
   {
    "duration": 3,
    "start_time": "2023-07-04T20:46:39.608Z"
   },
   {
    "duration": 4,
    "start_time": "2023-07-04T20:46:44.170Z"
   },
   {
    "duration": 382906,
    "start_time": "2023-07-04T20:46:47.840Z"
   },
   {
    "duration": 5,
    "start_time": "2023-07-04T20:55:16.843Z"
   },
   {
    "duration": 4,
    "start_time": "2023-07-04T20:56:57.217Z"
   },
   {
    "duration": 5,
    "start_time": "2023-07-04T20:57:03.775Z"
   },
   {
    "duration": 51193,
    "start_time": "2023-07-04T20:57:12.343Z"
   },
   {
    "duration": 4,
    "start_time": "2023-07-04T20:59:23.718Z"
   },
   {
    "duration": 5,
    "start_time": "2023-07-04T20:59:29.403Z"
   },
   {
    "duration": 692041,
    "start_time": "2023-07-04T20:59:34.622Z"
   },
   {
    "duration": 21,
    "start_time": "2023-07-04T21:11:06.666Z"
   },
   {
    "duration": 4,
    "start_time": "2023-07-04T21:12:07.434Z"
   },
   {
    "duration": 3,
    "start_time": "2023-07-04T21:13:05.163Z"
   },
   {
    "duration": 381550,
    "start_time": "2023-07-04T21:13:10.562Z"
   },
   {
    "duration": 4,
    "start_time": "2023-07-04T21:20:18.649Z"
   },
   {
    "duration": 3,
    "start_time": "2023-07-04T21:21:01.503Z"
   },
   {
    "duration": 5,
    "start_time": "2023-07-04T21:21:04.590Z"
   },
   {
    "duration": 447128,
    "start_time": "2023-07-04T21:21:09.911Z"
   },
   {
    "duration": 4,
    "start_time": "2023-07-04T21:29:25.405Z"
   },
   {
    "duration": 2380,
    "start_time": "2023-07-04T21:38:59.822Z"
   },
   {
    "duration": 4303,
    "start_time": "2023-07-04T21:39:02.205Z"
   },
   {
    "duration": 6,
    "start_time": "2023-07-04T21:39:06.510Z"
   },
   {
    "duration": 8,
    "start_time": "2023-07-04T21:39:06.519Z"
   },
   {
    "duration": 2208,
    "start_time": "2023-07-04T21:39:06.528Z"
   },
   {
    "duration": 14,
    "start_time": "2023-07-04T21:39:08.737Z"
   },
   {
    "duration": 49,
    "start_time": "2023-07-04T21:39:08.753Z"
   },
   {
    "duration": 1538,
    "start_time": "2023-07-04T21:39:08.807Z"
   },
   {
    "duration": 262,
    "start_time": "2023-07-04T21:39:10.346Z"
   },
   {
    "duration": 8,
    "start_time": "2023-07-04T21:39:10.610Z"
   },
   {
    "duration": 8,
    "start_time": "2023-07-04T21:39:10.620Z"
   },
   {
    "duration": 9,
    "start_time": "2023-07-04T21:39:10.630Z"
   },
   {
    "duration": 5,
    "start_time": "2023-07-04T21:39:10.640Z"
   },
   {
    "duration": 4751,
    "start_time": "2023-07-04T21:39:10.647Z"
   },
   {
    "duration": 8,
    "start_time": "2023-07-04T21:39:15.399Z"
   },
   {
    "duration": 173,
    "start_time": "2023-07-04T21:39:15.414Z"
   },
   {
    "duration": 534,
    "start_time": "2023-07-04T21:39:15.592Z"
   },
   {
    "duration": 3,
    "start_time": "2023-07-04T21:39:16.127Z"
   },
   {
    "duration": 17,
    "start_time": "2023-07-04T21:39:16.132Z"
   },
   {
    "duration": 987856,
    "start_time": "2023-07-04T21:39:16.151Z"
   },
   {
    "duration": 5,
    "start_time": "2023-07-04T21:55:44.012Z"
   },
   {
    "duration": 18,
    "start_time": "2023-07-04T21:56:08.086Z"
   },
   {
    "duration": 2,
    "start_time": "2023-07-04T21:58:00.330Z"
   },
   {
    "duration": 59,
    "start_time": "2023-07-04T21:58:07.613Z"
   },
   {
    "duration": 66,
    "start_time": "2023-07-04T21:58:19.896Z"
   },
   {
    "duration": 73,
    "start_time": "2023-07-04T22:02:03.093Z"
   },
   {
    "duration": 6,
    "start_time": "2023-07-04T22:04:53.803Z"
   },
   {
    "duration": 5,
    "start_time": "2023-07-04T22:12:06.448Z"
   },
   {
    "duration": 6,
    "start_time": "2023-07-04T22:15:59.455Z"
   },
   {
    "duration": 5,
    "start_time": "2023-07-04T22:16:24.818Z"
   },
   {
    "duration": 7,
    "start_time": "2023-07-04T22:17:22.039Z"
   },
   {
    "duration": 6,
    "start_time": "2023-07-04T22:18:00.650Z"
   },
   {
    "duration": 369,
    "start_time": "2023-07-04T22:24:52.425Z"
   },
   {
    "duration": 5,
    "start_time": "2023-07-04T22:26:05.307Z"
   },
   {
    "duration": 43,
    "start_time": "2023-07-04T22:26:17.659Z"
   },
   {
    "duration": 5,
    "start_time": "2023-07-04T22:26:29.024Z"
   },
   {
    "duration": 5,
    "start_time": "2023-07-04T22:26:59.315Z"
   },
   {
    "duration": 7,
    "start_time": "2023-07-04T22:27:34.001Z"
   },
   {
    "duration": 7,
    "start_time": "2023-07-04T22:27:41.946Z"
   },
   {
    "duration": 7,
    "start_time": "2023-07-04T22:32:33.397Z"
   },
   {
    "duration": 3,
    "start_time": "2023-07-04T22:33:56.653Z"
   },
   {
    "duration": 19,
    "start_time": "2023-07-04T22:34:12.989Z"
   },
   {
    "duration": 9,
    "start_time": "2023-07-04T22:34:15.573Z"
   },
   {
    "duration": 6,
    "start_time": "2023-07-04T22:34:21.795Z"
   },
   {
    "duration": 169,
    "start_time": "2023-07-04T22:35:15.556Z"
   },
   {
    "duration": 132299,
    "start_time": "2023-07-04T22:35:37.584Z"
   },
   {
    "duration": 3,
    "start_time": "2023-07-04T22:41:03.616Z"
   },
   {
    "duration": 4,
    "start_time": "2023-07-04T22:41:56.551Z"
   },
   {
    "duration": 3,
    "start_time": "2023-07-04T22:41:58.932Z"
   },
   {
    "duration": 3,
    "start_time": "2023-07-04T22:42:01.060Z"
   },
   {
    "duration": 23520,
    "start_time": "2023-07-04T22:42:04.067Z"
   },
   {
    "duration": 3,
    "start_time": "2023-07-04T22:42:59.216Z"
   },
   {
    "duration": 3,
    "start_time": "2023-07-04T22:45:08.000Z"
   },
   {
    "duration": 4,
    "start_time": "2023-07-04T22:45:23.502Z"
   },
   {
    "duration": 3,
    "start_time": "2023-07-04T22:45:25.865Z"
   },
   {
    "duration": 3,
    "start_time": "2023-07-04T22:45:28.103Z"
   },
   {
    "duration": 222211,
    "start_time": "2023-07-04T22:45:32.607Z"
   },
   {
    "duration": 6,
    "start_time": "2023-07-04T22:49:50.183Z"
   },
   {
    "duration": 2620,
    "start_time": "2023-07-05T10:09:15.695Z"
   },
   {
    "duration": 4536,
    "start_time": "2023-07-05T10:09:18.318Z"
   },
   {
    "duration": 8,
    "start_time": "2023-07-05T10:09:22.856Z"
   },
   {
    "duration": 11,
    "start_time": "2023-07-05T10:09:22.866Z"
   },
   {
    "duration": 2011,
    "start_time": "2023-07-05T10:09:22.879Z"
   },
   {
    "duration": 20,
    "start_time": "2023-07-05T10:09:24.892Z"
   },
   {
    "duration": 39,
    "start_time": "2023-07-05T10:09:24.914Z"
   },
   {
    "duration": 1748,
    "start_time": "2023-07-05T10:09:24.955Z"
   },
   {
    "duration": 261,
    "start_time": "2023-07-05T10:09:26.705Z"
   },
   {
    "duration": 101,
    "start_time": "2023-07-05T10:09:26.969Z"
   },
   {
    "duration": 8,
    "start_time": "2023-07-05T10:09:27.072Z"
   },
   {
    "duration": 27,
    "start_time": "2023-07-05T10:09:27.082Z"
   },
   {
    "duration": 8,
    "start_time": "2023-07-05T10:09:27.110Z"
   },
   {
    "duration": 5104,
    "start_time": "2023-07-05T10:09:27.120Z"
   },
   {
    "duration": 7,
    "start_time": "2023-07-05T10:09:32.225Z"
   },
   {
    "duration": 316,
    "start_time": "2023-07-05T10:09:32.234Z"
   },
   {
    "duration": 525,
    "start_time": "2023-07-05T10:09:32.552Z"
   },
   {
    "duration": 3,
    "start_time": "2023-07-05T10:09:33.079Z"
   },
   {
    "duration": 21,
    "start_time": "2023-07-05T10:09:33.084Z"
   },
   {
    "duration": 1048038,
    "start_time": "2023-07-05T10:09:33.107Z"
   },
   {
    "duration": 6,
    "start_time": "2023-07-05T10:27:01.147Z"
   },
   {
    "duration": 45,
    "start_time": "2023-07-05T10:27:01.154Z"
   },
   {
    "duration": 87,
    "start_time": "2023-07-05T10:27:01.201Z"
   },
   {
    "duration": 5,
    "start_time": "2023-07-05T10:27:01.290Z"
   },
   {
    "duration": 69,
    "start_time": "2023-07-05T10:27:01.297Z"
   },
   {
    "duration": 59,
    "start_time": "2023-07-05T10:27:01.368Z"
   },
   {
    "duration": 56,
    "start_time": "2023-07-05T10:27:01.429Z"
   },
   {
    "duration": 61,
    "start_time": "2023-07-05T10:27:01.488Z"
   },
   {
    "duration": 4,
    "start_time": "2023-07-05T10:27:56.304Z"
   },
   {
    "duration": 3,
    "start_time": "2023-07-05T10:27:59.874Z"
   },
   {
    "duration": 3,
    "start_time": "2023-07-05T10:28:02.866Z"
   },
   {
    "duration": 110158,
    "start_time": "2023-07-05T10:28:05.751Z"
   },
   {
    "duration": 3,
    "start_time": "2023-07-05T10:30:48.934Z"
   },
   {
    "duration": 4,
    "start_time": "2023-07-05T10:30:57.125Z"
   },
   {
    "duration": 3,
    "start_time": "2023-07-05T10:31:00.051Z"
   },
   {
    "duration": 3,
    "start_time": "2023-07-05T10:31:04.933Z"
   },
   {
    "duration": 18238,
    "start_time": "2023-07-05T10:31:08.605Z"
   },
   {
    "duration": 3,
    "start_time": "2023-07-05T10:31:31.480Z"
   },
   {
    "duration": 4,
    "start_time": "2023-07-05T10:32:03.706Z"
   },
   {
    "duration": 3,
    "start_time": "2023-07-05T10:32:05.599Z"
   },
   {
    "duration": 52972,
    "start_time": "2023-07-05T10:32:08.607Z"
   },
   {
    "duration": 5,
    "start_time": "2023-07-05T10:33:12.691Z"
   },
   {
    "duration": 397,
    "start_time": "2023-07-05T10:33:50.506Z"
   },
   {
    "duration": 3,
    "start_time": "2023-07-05T10:34:28.571Z"
   },
   {
    "duration": 3,
    "start_time": "2023-07-05T10:34:30.403Z"
   },
   {
    "duration": 3,
    "start_time": "2023-07-05T10:34:43.005Z"
   },
   {
    "duration": 13906,
    "start_time": "2023-07-05T10:35:55.806Z"
   },
   {
    "duration": 23,
    "start_time": "2023-07-05T10:36:15.805Z"
   },
   {
    "duration": 4,
    "start_time": "2023-07-05T10:36:24.020Z"
   },
   {
    "duration": 4,
    "start_time": "2023-07-05T10:36:41.719Z"
   },
   {
    "duration": 26134,
    "start_time": "2023-07-05T10:36:47.801Z"
   },
   {
    "duration": 5,
    "start_time": "2023-07-05T10:38:25.509Z"
   },
   {
    "duration": 4,
    "start_time": "2023-07-05T10:38:40.962Z"
   },
   {
    "duration": 4,
    "start_time": "2023-07-05T10:38:45.732Z"
   },
   {
    "duration": 4,
    "start_time": "2023-07-05T10:38:53.963Z"
   },
   {
    "duration": 211778,
    "start_time": "2023-07-05T10:38:58.873Z"
   },
   {
    "duration": 4,
    "start_time": "2023-07-05T10:43:00.766Z"
   },
   {
    "duration": 10,
    "start_time": "2023-07-05T10:43:03.662Z"
   },
   {
    "duration": 4,
    "start_time": "2023-07-05T10:44:20.920Z"
   },
   {
    "duration": 8,
    "start_time": "2023-07-05T10:44:22.872Z"
   },
   {
    "duration": 8,
    "start_time": "2023-07-05T10:44:38.806Z"
   },
   {
    "duration": 21,
    "start_time": "2023-07-05T10:49:53.329Z"
   },
   {
    "duration": 55,
    "start_time": "2023-07-05T10:49:56.906Z"
   },
   {
    "duration": 4,
    "start_time": "2023-07-05T10:51:53.911Z"
   },
   {
    "duration": 7568,
    "start_time": "2023-07-05T10:51:56.434Z"
   },
   {
    "duration": 1667,
    "start_time": "2023-07-05T10:52:50.561Z"
   },
   {
    "duration": 5,
    "start_time": "2023-07-05T10:53:42.471Z"
   },
   {
    "duration": 15,
    "start_time": "2023-07-05T10:55:42.920Z"
   },
   {
    "duration": 4,
    "start_time": "2023-07-05T10:58:09.645Z"
   },
   {
    "duration": 44479,
    "start_time": "2023-07-05T10:58:12.344Z"
   },
   {
    "duration": 3149,
    "start_time": "2023-07-05T10:59:32.620Z"
   },
   {
    "duration": 15,
    "start_time": "2023-07-05T10:59:37.425Z"
   },
   {
    "duration": 44178,
    "start_time": "2023-07-05T11:00:36.128Z"
   },
   {
    "duration": 3100,
    "start_time": "2023-07-05T11:01:33.311Z"
   },
   {
    "duration": 14,
    "start_time": "2023-07-05T11:01:39.468Z"
   },
   {
    "duration": 4,
    "start_time": "2023-07-05T11:01:54.360Z"
   },
   {
    "duration": 10700,
    "start_time": "2023-07-05T11:01:56.302Z"
   },
   {
    "duration": 1684,
    "start_time": "2023-07-05T11:02:08.824Z"
   },
   {
    "duration": 16,
    "start_time": "2023-07-05T11:02:12.108Z"
   },
   {
    "duration": 4,
    "start_time": "2023-07-05T11:06:45.749Z"
   },
   {
    "duration": 17846,
    "start_time": "2023-07-05T11:06:47.956Z"
   },
   {
    "duration": 1593,
    "start_time": "2023-07-05T11:07:07.921Z"
   },
   {
    "duration": 15,
    "start_time": "2023-07-05T11:07:11.799Z"
   },
   {
    "duration": 4,
    "start_time": "2023-07-05T11:10:18.263Z"
   },
   {
    "duration": 583510,
    "start_time": "2023-07-05T11:10:20.488Z"
   },
   {
    "duration": 2357,
    "start_time": "2023-07-05T11:22:40.594Z"
   },
   {
    "duration": 15,
    "start_time": "2023-07-05T11:22:47.768Z"
   },
   {
    "duration": 1906,
    "start_time": "2023-07-05T11:43:06.691Z"
   },
   {
    "duration": 6,
    "start_time": "2023-07-05T11:52:34.799Z"
   },
   {
    "duration": 5,
    "start_time": "2023-07-05T12:02:37.838Z"
   },
   {
    "duration": 5,
    "start_time": "2023-07-05T12:02:43.695Z"
   },
   {
    "duration": 4,
    "start_time": "2023-07-05T12:03:14.168Z"
   },
   {
    "duration": 7,
    "start_time": "2023-07-05T12:03:17.770Z"
   },
   {
    "duration": 4,
    "start_time": "2023-07-05T12:03:38.731Z"
   },
   {
    "duration": 8,
    "start_time": "2023-07-05T12:03:40.467Z"
   },
   {
    "duration": 10,
    "start_time": "2023-07-05T12:03:47.919Z"
   },
   {
    "duration": 6,
    "start_time": "2023-07-05T12:06:50.890Z"
   },
   {
    "duration": 26,
    "start_time": "2023-07-05T12:07:53.122Z"
   },
   {
    "duration": 4,
    "start_time": "2023-07-05T12:08:03.476Z"
   },
   {
    "duration": 21,
    "start_time": "2023-07-05T12:08:06.256Z"
   },
   {
    "duration": 4,
    "start_time": "2023-07-05T12:08:11.885Z"
   },
   {
    "duration": 30,
    "start_time": "2023-07-05T12:08:13.908Z"
   },
   {
    "duration": 8,
    "start_time": "2023-07-05T12:08:24.325Z"
   },
   {
    "duration": 23,
    "start_time": "2023-07-05T12:08:27.235Z"
   },
   {
    "duration": 17,
    "start_time": "2023-07-05T12:08:39.223Z"
   },
   {
    "duration": 23,
    "start_time": "2023-07-05T12:08:41.872Z"
   },
   {
    "duration": 4,
    "start_time": "2023-07-05T12:08:48.879Z"
   },
   {
    "duration": 27,
    "start_time": "2023-07-05T12:08:50.838Z"
   },
   {
    "duration": 4,
    "start_time": "2023-07-05T12:24:43.487Z"
   },
   {
    "duration": 33,
    "start_time": "2023-07-05T12:24:46.596Z"
   },
   {
    "duration": 5,
    "start_time": "2023-07-05T12:24:55.545Z"
   },
   {
    "duration": 25,
    "start_time": "2023-07-05T12:24:57.628Z"
   },
   {
    "duration": 4,
    "start_time": "2023-07-05T12:25:03.127Z"
   },
   {
    "duration": 20,
    "start_time": "2023-07-05T12:25:05.131Z"
   },
   {
    "duration": 4,
    "start_time": "2023-07-05T12:25:14.227Z"
   },
   {
    "duration": 20,
    "start_time": "2023-07-05T12:25:15.868Z"
   },
   {
    "duration": 5,
    "start_time": "2023-07-05T12:25:20.637Z"
   },
   {
    "duration": 24,
    "start_time": "2023-07-05T12:25:22.428Z"
   },
   {
    "duration": 73,
    "start_time": "2023-07-05T12:27:02.422Z"
   },
   {
    "duration": 156,
    "start_time": "2023-07-05T12:27:14.358Z"
   },
   {
    "duration": 187,
    "start_time": "2023-07-05T12:27:40.232Z"
   },
   {
    "duration": 129,
    "start_time": "2023-07-05T12:28:06.614Z"
   },
   {
    "duration": 609,
    "start_time": "2023-07-05T13:09:59.476Z"
   },
   {
    "duration": 629,
    "start_time": "2023-07-05T13:10:57.352Z"
   },
   {
    "duration": 496,
    "start_time": "2023-07-05T13:11:38.527Z"
   },
   {
    "duration": 521,
    "start_time": "2023-07-05T13:12:26.359Z"
   },
   {
    "duration": 77,
    "start_time": "2023-07-05T13:15:16.883Z"
   },
   {
    "duration": 18,
    "start_time": "2023-07-05T13:15:20.711Z"
   },
   {
    "duration": 22,
    "start_time": "2023-07-05T13:15:32.989Z"
   },
   {
    "duration": 102,
    "start_time": "2023-07-05T13:16:10.436Z"
   },
   {
    "duration": 15,
    "start_time": "2023-07-05T13:16:12.668Z"
   },
   {
    "duration": 13,
    "start_time": "2023-07-05T13:16:14.668Z"
   },
   {
    "duration": 3,
    "start_time": "2023-07-05T13:17:11.351Z"
   },
   {
    "duration": 3,
    "start_time": "2023-07-05T13:17:14.598Z"
   },
   {
    "duration": 3,
    "start_time": "2023-07-05T13:17:16.486Z"
   },
   {
    "duration": 267,
    "start_time": "2023-07-05T13:17:19.080Z"
   },
   {
    "duration": 571760,
    "start_time": "2023-07-05T13:19:01.523Z"
   },
   {
    "duration": 4,
    "start_time": "2023-07-05T13:34:08.183Z"
   },
   {
    "duration": 4,
    "start_time": "2023-07-05T13:34:40.095Z"
   },
   {
    "duration": 138036,
    "start_time": "2023-07-05T13:34:47.796Z"
   },
   {
    "duration": 4302,
    "start_time": "2023-07-05T13:38:54.278Z"
   },
   {
    "duration": 18,
    "start_time": "2023-07-05T13:46:28.986Z"
   },
   {
    "duration": 4,
    "start_time": "2023-07-05T13:49:04.260Z"
   },
   {
    "duration": 3,
    "start_time": "2023-07-05T13:50:08.037Z"
   },
   {
    "duration": 3,
    "start_time": "2023-07-05T13:50:11.254Z"
   },
   {
    "duration": 414924,
    "start_time": "2023-07-05T13:50:24.025Z"
   },
   {
    "duration": 2992,
    "start_time": "2023-07-05T13:58:30.592Z"
   },
   {
    "duration": 4,
    "start_time": "2023-07-05T13:58:38.929Z"
   },
   {
    "duration": 77,
    "start_time": "2023-07-05T13:59:33.107Z"
   },
   {
    "duration": 4,
    "start_time": "2023-07-05T14:00:04.146Z"
   },
   {
    "duration": 52010,
    "start_time": "2023-07-05T14:00:08.707Z"
   },
   {
    "duration": 4331,
    "start_time": "2023-07-05T14:01:43.332Z"
   },
   {
    "duration": 15,
    "start_time": "2023-07-05T14:01:52.671Z"
   },
   {
    "duration": 5,
    "start_time": "2023-07-05T14:03:06.589Z"
   },
   {
    "duration": 4,
    "start_time": "2023-07-05T14:03:09.990Z"
   },
   {
    "duration": 4,
    "start_time": "2023-07-05T14:03:21.542Z"
   },
   {
    "duration": 177,
    "start_time": "2023-07-05T14:03:25.142Z"
   },
   {
    "duration": 112939,
    "start_time": "2023-07-05T14:03:35.568Z"
   },
   {
    "duration": 4,
    "start_time": "2023-07-05T14:05:46.548Z"
   },
   {
    "duration": 4,
    "start_time": "2023-07-05T14:06:06.131Z"
   },
   {
    "duration": 3,
    "start_time": "2023-07-05T14:06:07.987Z"
   },
   {
    "duration": 5,
    "start_time": "2023-07-05T14:06:22.239Z"
   },
   {
    "duration": 116727,
    "start_time": "2023-07-05T14:06:24.267Z"
   },
   {
    "duration": 3,
    "start_time": "2023-07-05T14:10:24.871Z"
   },
   {
    "duration": 4,
    "start_time": "2023-07-05T14:10:53.076Z"
   },
   {
    "duration": 3,
    "start_time": "2023-07-05T14:11:12.353Z"
   },
   {
    "duration": 6,
    "start_time": "2023-07-05T14:11:14.922Z"
   },
   {
    "duration": 102,
    "start_time": "2023-07-05T14:11:22.076Z"
   },
   {
    "duration": 1061701,
    "start_time": "2023-07-05T14:11:28.126Z"
   },
   {
    "duration": 2895,
    "start_time": "2023-07-05T14:29:09.829Z"
   },
   {
    "duration": 5,
    "start_time": "2023-07-05T14:32:01.294Z"
   },
   {
    "duration": 1797797,
    "start_time": "2023-07-05T14:32:08.098Z"
   },
   {
    "duration": 3100,
    "start_time": "2023-07-05T15:04:22.142Z"
   },
   {
    "duration": 18,
    "start_time": "2023-07-05T15:04:27.721Z"
   },
   {
    "duration": 4,
    "start_time": "2023-07-05T15:12:19.372Z"
   },
   {
    "duration": 8,
    "start_time": "2023-07-05T15:12:21.536Z"
   },
   {
    "duration": 52246,
    "start_time": "2023-07-05T15:23:29.216Z"
   },
   {
    "duration": 2749,
    "start_time": "2023-07-05T18:33:28.959Z"
   },
   {
    "duration": 5215,
    "start_time": "2023-07-05T18:33:31.711Z"
   },
   {
    "duration": 7,
    "start_time": "2023-07-05T18:33:36.928Z"
   },
   {
    "duration": 15,
    "start_time": "2023-07-05T18:33:36.937Z"
   },
   {
    "duration": 1941,
    "start_time": "2023-07-05T18:33:36.954Z"
   },
   {
    "duration": 16,
    "start_time": "2023-07-05T18:33:38.896Z"
   },
   {
    "duration": 65,
    "start_time": "2023-07-05T18:33:38.914Z"
   },
   {
    "duration": 1615,
    "start_time": "2023-07-05T18:33:38.980Z"
   },
   {
    "duration": 259,
    "start_time": "2023-07-05T18:33:40.596Z"
   },
   {
    "duration": 87,
    "start_time": "2023-07-05T18:33:40.859Z"
   },
   {
    "duration": 8,
    "start_time": "2023-07-05T18:33:40.955Z"
   },
   {
    "duration": 9,
    "start_time": "2023-07-05T18:33:40.965Z"
   },
   {
    "duration": 4,
    "start_time": "2023-07-05T18:33:40.975Z"
   },
   {
    "duration": 4642,
    "start_time": "2023-07-05T18:33:40.981Z"
   },
   {
    "duration": 30,
    "start_time": "2023-07-05T18:33:45.625Z"
   },
   {
    "duration": 198,
    "start_time": "2023-07-05T18:33:45.657Z"
   },
   {
    "duration": 710,
    "start_time": "2023-07-05T18:33:45.857Z"
   },
   {
    "duration": 2,
    "start_time": "2023-07-05T18:33:46.569Z"
   },
   {
    "duration": 12,
    "start_time": "2023-07-05T18:33:46.573Z"
   },
   {
    "duration": 1075015,
    "start_time": "2023-07-05T18:33:46.586Z"
   },
   {
    "duration": 7,
    "start_time": "2023-07-05T18:51:41.603Z"
   },
   {
    "duration": 3,
    "start_time": "2023-07-05T18:51:41.612Z"
   },
   {
    "duration": 108,
    "start_time": "2023-07-05T18:51:41.617Z"
   },
   {
    "duration": 6,
    "start_time": "2023-07-05T18:51:41.727Z"
   },
   {
    "duration": 22,
    "start_time": "2023-07-05T18:51:41.735Z"
   },
   {
    "duration": 58,
    "start_time": "2023-07-05T18:51:41.759Z"
   },
   {
    "duration": 36,
    "start_time": "2023-07-05T18:51:41.819Z"
   },
   {
    "duration": 13,
    "start_time": "2023-07-05T18:51:41.859Z"
   },
   {
    "duration": 6,
    "start_time": "2023-07-05T18:51:41.874Z"
   },
   {
    "duration": 408,
    "start_time": "2023-07-05T18:55:17.829Z"
   },
   {
    "duration": 69,
    "start_time": "2023-07-05T18:55:42.793Z"
   },
   {
    "duration": 19,
    "start_time": "2023-07-05T18:55:52.099Z"
   },
   {
    "duration": 83,
    "start_time": "2023-07-05T18:56:30.242Z"
   },
   {
    "duration": 13,
    "start_time": "2023-07-05T18:56:34.095Z"
   },
   {
    "duration": 11,
    "start_time": "2023-07-05T18:56:36.265Z"
   },
   {
    "duration": 69,
    "start_time": "2023-07-05T18:58:17.991Z"
   },
   {
    "duration": 20,
    "start_time": "2023-07-05T18:58:20.123Z"
   },
   {
    "duration": 14,
    "start_time": "2023-07-05T18:58:25.242Z"
   },
   {
    "duration": 10,
    "start_time": "2023-07-05T18:58:28.112Z"
   },
   {
    "duration": 73,
    "start_time": "2023-07-05T18:58:38.665Z"
   },
   {
    "duration": 21,
    "start_time": "2023-07-05T18:58:40.902Z"
   },
   {
    "duration": 15,
    "start_time": "2023-07-05T18:58:45.143Z"
   },
   {
    "duration": 12,
    "start_time": "2023-07-05T18:58:49.021Z"
   },
   {
    "duration": 71,
    "start_time": "2023-07-05T18:59:07.689Z"
   },
   {
    "duration": 20,
    "start_time": "2023-07-05T18:59:09.794Z"
   },
   {
    "duration": 14,
    "start_time": "2023-07-05T18:59:15.267Z"
   },
   {
    "duration": 11,
    "start_time": "2023-07-05T18:59:17.722Z"
   },
   {
    "duration": 70,
    "start_time": "2023-07-05T18:59:30.239Z"
   },
   {
    "duration": 20,
    "start_time": "2023-07-05T18:59:32.951Z"
   },
   {
    "duration": 14,
    "start_time": "2023-07-05T18:59:39.393Z"
   },
   {
    "duration": 11,
    "start_time": "2023-07-05T18:59:41.259Z"
   },
   {
    "duration": 66,
    "start_time": "2023-07-05T18:59:54.560Z"
   },
   {
    "duration": 22,
    "start_time": "2023-07-05T18:59:56.727Z"
   },
   {
    "duration": 14,
    "start_time": "2023-07-05T19:00:01.835Z"
   },
   {
    "duration": 11,
    "start_time": "2023-07-05T19:00:04.095Z"
   },
   {
    "duration": 4,
    "start_time": "2023-07-05T19:00:36.167Z"
   },
   {
    "duration": 4,
    "start_time": "2023-07-05T19:02:06.271Z"
   },
   {
    "duration": 4,
    "start_time": "2023-07-05T19:02:20.256Z"
   },
   {
    "duration": 3,
    "start_time": "2023-07-05T19:02:24.540Z"
   },
   {
    "duration": 851104,
    "start_time": "2023-07-05T19:02:33.628Z"
   },
   {
    "duration": 4,
    "start_time": "2023-07-05T19:17:56.729Z"
   },
   {
    "duration": 3,
    "start_time": "2023-07-05T19:18:34.398Z"
   },
   {
    "duration": 4,
    "start_time": "2023-07-05T19:20:00.802Z"
   },
   {
    "duration": 4,
    "start_time": "2023-07-05T19:20:02.712Z"
   },
   {
    "duration": 4,
    "start_time": "2023-07-05T19:20:05.280Z"
   },
   {
    "duration": 135338,
    "start_time": "2023-07-05T19:20:30.133Z"
   },
   {
    "duration": 4,
    "start_time": "2023-07-05T19:23:55.837Z"
   },
   {
    "duration": 85,
    "start_time": "2023-07-05T19:24:35.401Z"
   },
   {
    "duration": 3,
    "start_time": "2023-07-05T19:24:48.513Z"
   },
   {
    "duration": 3,
    "start_time": "2023-07-05T19:24:50.943Z"
   },
   {
    "duration": 3,
    "start_time": "2023-07-05T19:25:08.624Z"
   },
   {
    "duration": 253782,
    "start_time": "2023-07-05T19:25:10.990Z"
   },
   {
    "duration": 4,
    "start_time": "2023-07-05T19:29:32.760Z"
   },
   {
    "duration": 4,
    "start_time": "2023-07-05T19:30:04.633Z"
   },
   {
    "duration": 104534,
    "start_time": "2023-07-05T19:30:07.711Z"
   },
   {
    "duration": 3,
    "start_time": "2023-07-05T20:00:19.686Z"
   },
   {
    "duration": 4,
    "start_time": "2023-07-05T20:01:15.369Z"
   },
   {
    "duration": 4,
    "start_time": "2023-07-05T20:01:26.432Z"
   },
   {
    "duration": 3,
    "start_time": "2023-07-05T20:01:29.552Z"
   },
   {
    "duration": 1002916,
    "start_time": "2023-07-05T20:01:46.306Z"
   },
   {
    "duration": 4,
    "start_time": "2023-07-05T20:38:49.986Z"
   },
   {
    "duration": 11,
    "start_time": "2023-07-05T20:38:51.721Z"
   },
   {
    "duration": 5,
    "start_time": "2023-07-05T20:40:26.667Z"
   },
   {
    "duration": 115799,
    "start_time": "2023-07-05T20:40:51.638Z"
   },
   {
    "duration": 3843,
    "start_time": "2023-07-05T20:42:56.343Z"
   },
   {
    "duration": 3784,
    "start_time": "2023-07-05T20:43:16.565Z"
   },
   {
    "duration": 17,
    "start_time": "2023-07-05T20:43:28.827Z"
   },
   {
    "duration": 115613,
    "start_time": "2023-07-05T20:43:54.104Z"
   },
   {
    "duration": 3700,
    "start_time": "2023-07-05T20:45:54.788Z"
   },
   {
    "duration": 16,
    "start_time": "2023-07-05T20:46:22.828Z"
   },
   {
    "duration": 4,
    "start_time": "2023-07-05T20:46:58.766Z"
   },
   {
    "duration": 33862,
    "start_time": "2023-07-05T20:47:02.396Z"
   },
   {
    "duration": 20,
    "start_time": "2023-07-05T20:48:09.581Z"
   },
   {
    "duration": 5,
    "start_time": "2023-07-05T20:48:21.722Z"
   },
   {
    "duration": 20,
    "start_time": "2023-07-05T20:48:29.393Z"
   },
   {
    "duration": 19,
    "start_time": "2023-07-05T20:48:40.809Z"
   },
   {
    "duration": 19,
    "start_time": "2023-07-05T20:49:03.011Z"
   },
   {
    "duration": 203766,
    "start_time": "2023-07-05T20:49:46.314Z"
   },
   {
    "duration": 2365,
    "start_time": "2023-07-05T20:55:35.332Z"
   },
   {
    "duration": 15,
    "start_time": "2023-07-05T20:55:40.332Z"
   },
   {
    "duration": 3,
    "start_time": "2023-07-05T20:56:56.368Z"
   },
   {
    "duration": 3,
    "start_time": "2023-07-05T20:56:59.348Z"
   },
   {
    "duration": 199158,
    "start_time": "2023-07-05T20:57:03.373Z"
   },
   {
    "duration": 4,
    "start_time": "2023-07-05T21:03:40.190Z"
   },
   {
    "duration": 4,
    "start_time": "2023-07-05T21:04:41.179Z"
   },
   {
    "duration": 5,
    "start_time": "2023-07-05T21:04:43.471Z"
   },
   {
    "duration": 4,
    "start_time": "2023-07-05T21:04:46.168Z"
   },
   {
    "duration": 2604,
    "start_time": "2023-07-05T21:13:11.417Z"
   },
   {
    "duration": 5766,
    "start_time": "2023-07-05T21:13:14.024Z"
   },
   {
    "duration": 8,
    "start_time": "2023-07-05T21:13:19.792Z"
   },
   {
    "duration": 9,
    "start_time": "2023-07-05T21:13:19.803Z"
   },
   {
    "duration": 2117,
    "start_time": "2023-07-05T21:13:19.814Z"
   },
   {
    "duration": 23,
    "start_time": "2023-07-05T21:13:21.933Z"
   },
   {
    "duration": 39,
    "start_time": "2023-07-05T21:13:21.958Z"
   },
   {
    "duration": 1741,
    "start_time": "2023-07-05T21:13:21.998Z"
   },
   {
    "duration": 283,
    "start_time": "2023-07-05T21:13:23.740Z"
   },
   {
    "duration": 112,
    "start_time": "2023-07-05T21:13:24.026Z"
   },
   {
    "duration": 15,
    "start_time": "2023-07-05T21:13:24.139Z"
   },
   {
    "duration": 17,
    "start_time": "2023-07-05T21:13:24.156Z"
   },
   {
    "duration": 5256,
    "start_time": "2023-07-05T21:13:24.175Z"
   },
   {
    "duration": 5,
    "start_time": "2023-07-05T21:13:29.433Z"
   },
   {
    "duration": 286,
    "start_time": "2023-07-05T21:13:29.440Z"
   },
   {
    "duration": 754,
    "start_time": "2023-07-05T21:13:29.727Z"
   },
   {
    "duration": 3,
    "start_time": "2023-07-05T21:13:30.483Z"
   },
   {
    "duration": 35,
    "start_time": "2023-07-05T21:13:30.488Z"
   },
   {
    "duration": 1121601,
    "start_time": "2023-07-05T21:13:30.525Z"
   },
   {
    "duration": 6,
    "start_time": "2023-07-05T21:32:12.128Z"
   },
   {
    "duration": 19,
    "start_time": "2023-07-05T21:32:12.135Z"
   },
   {
    "duration": 71,
    "start_time": "2023-07-05T21:32:12.157Z"
   },
   {
    "duration": 25,
    "start_time": "2023-07-05T21:32:12.230Z"
   },
   {
    "duration": 59,
    "start_time": "2023-07-05T21:32:12.259Z"
   },
   {
    "duration": 36,
    "start_time": "2023-07-05T21:32:12.320Z"
   },
   {
    "duration": 8,
    "start_time": "2023-07-05T21:32:12.359Z"
   },
   {
    "duration": 6,
    "start_time": "2023-07-05T21:33:10.768Z"
   },
   {
    "duration": 1790,
    "start_time": "2023-07-05T21:34:57.783Z"
   },
   {
    "duration": 6,
    "start_time": "2023-07-05T21:35:07.477Z"
   },
   {
    "duration": 3,
    "start_time": "2023-07-05T21:36:02.272Z"
   },
   {
    "duration": 2,
    "start_time": "2023-07-05T21:36:04.376Z"
   },
   {
    "duration": 3,
    "start_time": "2023-07-05T21:36:09.608Z"
   },
   {
    "duration": 148,
    "start_time": "2023-07-05T21:38:24.256Z"
   },
   {
    "duration": 8,
    "start_time": "2023-07-05T21:38:29.143Z"
   },
   {
    "duration": 2511,
    "start_time": "2023-07-05T21:48:20.167Z"
   },
   {
    "duration": 5510,
    "start_time": "2023-07-05T21:48:22.681Z"
   },
   {
    "duration": 7,
    "start_time": "2023-07-05T21:48:28.193Z"
   },
   {
    "duration": 21,
    "start_time": "2023-07-05T21:48:28.202Z"
   },
   {
    "duration": 2469,
    "start_time": "2023-07-05T21:48:28.225Z"
   },
   {
    "duration": 17,
    "start_time": "2023-07-05T21:48:30.697Z"
   },
   {
    "duration": 56,
    "start_time": "2023-07-05T21:48:30.716Z"
   },
   {
    "duration": 1746,
    "start_time": "2023-07-05T21:48:30.775Z"
   },
   {
    "duration": 279,
    "start_time": "2023-07-05T21:48:32.523Z"
   },
   {
    "duration": 101,
    "start_time": "2023-07-05T21:48:32.804Z"
   },
   {
    "duration": 7,
    "start_time": "2023-07-05T21:48:32.907Z"
   },
   {
    "duration": 14,
    "start_time": "2023-07-05T21:48:32.916Z"
   },
   {
    "duration": 4904,
    "start_time": "2023-07-05T21:49:10.387Z"
   },
   {
    "duration": 737,
    "start_time": "2023-07-05T21:49:31.343Z"
   },
   {
    "duration": 4,
    "start_time": "2023-07-05T21:49:34.168Z"
   },
   {
    "duration": 1109073,
    "start_time": "2023-07-05T21:49:42.664Z"
   },
   {
    "duration": 12,
    "start_time": "2023-07-05T22:08:39.847Z"
   },
   {
    "duration": 3,
    "start_time": "2023-07-05T22:09:18.251Z"
   },
   {
    "duration": 66,
    "start_time": "2023-07-05T22:09:21.283Z"
   },
   {
    "duration": 8,
    "start_time": "2023-07-05T22:09:24.572Z"
   },
   {
    "duration": 62,
    "start_time": "2023-07-05T22:09:26.602Z"
   },
   {
    "duration": 1813,
    "start_time": "2023-07-05T22:09:31.726Z"
   },
   {
    "duration": 225,
    "start_time": "2023-07-05T22:09:39.393Z"
   },
   {
    "duration": 4,
    "start_time": "2023-07-05T22:09:46.275Z"
   },
   {
    "duration": 3,
    "start_time": "2023-07-05T22:09:48.467Z"
   },
   {
    "duration": 3,
    "start_time": "2023-07-05T22:09:52.098Z"
   },
   {
    "duration": 142,
    "start_time": "2023-07-05T22:13:09.119Z"
   },
   {
    "duration": 2456,
    "start_time": "2023-07-05T22:13:16.493Z"
   },
   {
    "duration": 5038,
    "start_time": "2023-07-05T22:13:18.952Z"
   },
   {
    "duration": 7,
    "start_time": "2023-07-05T22:13:23.992Z"
   },
   {
    "duration": 5,
    "start_time": "2023-07-05T22:13:24.002Z"
   },
   {
    "duration": 2438,
    "start_time": "2023-07-05T22:13:24.008Z"
   },
   {
    "duration": 17,
    "start_time": "2023-07-05T22:13:26.448Z"
   },
   {
    "duration": 37,
    "start_time": "2023-07-05T22:13:26.467Z"
   },
   {
    "duration": 1642,
    "start_time": "2023-07-05T22:13:26.506Z"
   },
   {
    "duration": 256,
    "start_time": "2023-07-05T22:13:28.150Z"
   },
   {
    "duration": 96,
    "start_time": "2023-07-05T22:13:28.409Z"
   },
   {
    "duration": 7,
    "start_time": "2023-07-05T22:13:28.507Z"
   },
   {
    "duration": 5,
    "start_time": "2023-07-05T22:13:28.516Z"
   },
   {
    "duration": 4635,
    "start_time": "2023-07-05T22:13:28.522Z"
   },
   {
    "duration": 5,
    "start_time": "2023-07-05T22:13:33.159Z"
   },
   {
    "duration": 5,
    "start_time": "2023-07-05T22:13:33.166Z"
   },
   {
    "duration": 656,
    "start_time": "2023-07-05T22:13:33.173Z"
   },
   {
    "duration": 3,
    "start_time": "2023-07-05T22:13:33.831Z"
   },
   {
    "duration": 7,
    "start_time": "2023-07-05T22:13:33.836Z"
   },
   {
    "duration": 2662,
    "start_time": "2023-07-05T23:15:59.758Z"
   },
   {
    "duration": 4658,
    "start_time": "2023-07-05T23:16:02.422Z"
   },
   {
    "duration": 7,
    "start_time": "2023-07-05T23:16:07.082Z"
   },
   {
    "duration": 35,
    "start_time": "2023-07-05T23:16:07.090Z"
   },
   {
    "duration": 7595,
    "start_time": "2023-07-05T23:16:07.127Z"
   },
   {
    "duration": 17,
    "start_time": "2023-07-05T23:16:14.724Z"
   },
   {
    "duration": 34,
    "start_time": "2023-07-05T23:16:14.754Z"
   },
   {
    "duration": 1609,
    "start_time": "2023-07-05T23:16:14.790Z"
   },
   {
    "duration": 268,
    "start_time": "2023-07-05T23:16:16.401Z"
   },
   {
    "duration": 111,
    "start_time": "2023-07-05T23:16:16.671Z"
   },
   {
    "duration": 7,
    "start_time": "2023-07-05T23:16:16.784Z"
   },
   {
    "duration": 3,
    "start_time": "2023-07-05T23:16:16.793Z"
   },
   {
    "duration": 4543,
    "start_time": "2023-07-05T23:16:16.797Z"
   },
   {
    "duration": 7,
    "start_time": "2023-07-05T23:16:21.353Z"
   },
   {
    "duration": 2,
    "start_time": "2023-07-05T23:16:21.362Z"
   },
   {
    "duration": 526,
    "start_time": "2023-07-05T23:16:21.366Z"
   },
   {
    "duration": 3,
    "start_time": "2023-07-05T23:16:21.894Z"
   },
   {
    "duration": 7,
    "start_time": "2023-07-05T23:16:21.898Z"
   },
   {
    "duration": 1039466,
    "start_time": "2023-07-05T23:16:21.907Z"
   },
   {
    "duration": 7,
    "start_time": "2023-07-05T23:33:41.375Z"
   },
   {
    "duration": 3,
    "start_time": "2023-07-05T23:33:41.384Z"
   },
   {
    "duration": 85,
    "start_time": "2023-07-05T23:33:41.389Z"
   },
   {
    "duration": 8,
    "start_time": "2023-07-05T23:33:41.476Z"
   },
   {
    "duration": 73,
    "start_time": "2023-07-05T23:33:41.485Z"
   },
   {
    "duration": 5,
    "start_time": "2023-07-05T23:33:41.560Z"
   },
   {
    "duration": 172,
    "start_time": "2023-07-05T23:34:04.968Z"
   },
   {
    "duration": 4,
    "start_time": "2023-07-05T23:34:41.989Z"
   },
   {
    "duration": 1539266,
    "start_time": "2023-07-05T23:34:46.819Z"
   },
   {
    "duration": 2630,
    "start_time": "2023-07-06T00:01:05.333Z"
   },
   {
    "duration": 15,
    "start_time": "2023-07-06T00:02:05.171Z"
   },
   {
    "duration": 1770,
    "start_time": "2023-07-06T00:31:42.585Z"
   },
   {
    "duration": 5,
    "start_time": "2023-07-06T00:31:46.440Z"
   },
   {
    "duration": 48,
    "start_time": "2023-07-06T00:32:38.760Z"
   },
   {
    "duration": 5,
    "start_time": "2023-07-06T00:32:47.150Z"
   },
   {
    "duration": 3,
    "start_time": "2023-07-06T00:32:50.591Z"
   },
   {
    "duration": 3,
    "start_time": "2023-07-06T00:32:54.620Z"
   },
   {
    "duration": 2566,
    "start_time": "2023-07-06T09:54:20.989Z"
   },
   {
    "duration": 10592,
    "start_time": "2023-07-06T09:54:23.557Z"
   },
   {
    "duration": 7,
    "start_time": "2023-07-06T09:54:34.151Z"
   },
   {
    "duration": 62,
    "start_time": "2023-07-06T09:54:34.160Z"
   },
   {
    "duration": 1940,
    "start_time": "2023-07-06T09:54:34.224Z"
   },
   {
    "duration": 17,
    "start_time": "2023-07-06T09:54:36.166Z"
   },
   {
    "duration": 46,
    "start_time": "2023-07-06T09:54:36.184Z"
   },
   {
    "duration": 1662,
    "start_time": "2023-07-06T09:54:36.232Z"
   },
   {
    "duration": 266,
    "start_time": "2023-07-06T09:54:37.895Z"
   },
   {
    "duration": 100,
    "start_time": "2023-07-06T09:54:38.163Z"
   },
   {
    "duration": 9,
    "start_time": "2023-07-06T09:54:38.264Z"
   },
   {
    "duration": 3,
    "start_time": "2023-07-06T09:54:38.275Z"
   },
   {
    "duration": 4439,
    "start_time": "2023-07-06T09:54:38.280Z"
   },
   {
    "duration": 6,
    "start_time": "2023-07-06T09:54:42.720Z"
   },
   {
    "duration": 15,
    "start_time": "2023-07-06T09:54:42.728Z"
   },
   {
    "duration": 694,
    "start_time": "2023-07-06T09:54:42.745Z"
   },
   {
    "duration": 4,
    "start_time": "2023-07-06T09:54:43.440Z"
   },
   {
    "duration": 14,
    "start_time": "2023-07-06T09:54:43.446Z"
   },
   {
    "duration": 1129029,
    "start_time": "2023-07-06T09:54:43.462Z"
   },
   {
    "duration": 9,
    "start_time": "2023-07-06T10:13:32.494Z"
   },
   {
    "duration": 28,
    "start_time": "2023-07-06T10:13:32.505Z"
   },
   {
    "duration": 375,
    "start_time": "2023-07-06T10:15:18.084Z"
   },
   {
    "duration": 145,
    "start_time": "2023-07-06T10:15:22.032Z"
   },
   {
    "duration": 5,
    "start_time": "2023-07-06T10:15:24.697Z"
   },
   {
    "duration": 5,
    "start_time": "2023-07-06T10:15:26.529Z"
   },
   {
    "duration": 4,
    "start_time": "2023-07-06T10:15:31.957Z"
   },
   {
    "duration": 95,
    "start_time": "2023-07-06T10:15:36.998Z"
   },
   {
    "duration": 123,
    "start_time": "2023-07-06T10:15:48.419Z"
   },
   {
    "duration": 3,
    "start_time": "2023-07-06T10:15:58.828Z"
   },
   {
    "duration": 102,
    "start_time": "2023-07-06T10:16:00.404Z"
   },
   {
    "duration": 9,
    "start_time": "2023-07-06T10:16:03.804Z"
   },
   {
    "duration": 1307714,
    "start_time": "2023-07-06T10:16:08.749Z"
   },
   {
    "duration": 7,
    "start_time": "2023-07-06T10:43:42.515Z"
   },
   {
    "duration": 6,
    "start_time": "2023-07-06T10:45:24.818Z"
   },
   {
    "duration": 4,
    "start_time": "2023-07-06T10:45:30.218Z"
   },
   {
    "duration": 3,
    "start_time": "2023-07-06T10:45:34.891Z"
   },
   {
    "duration": 1454180,
    "start_time": "2023-07-06T10:45:38.630Z"
   },
   {
    "duration": 37,
    "start_time": "2023-07-06T11:12:30.721Z"
   },
   {
    "duration": 4,
    "start_time": "2023-07-06T11:13:36.822Z"
   },
   {
    "duration": 4,
    "start_time": "2023-07-06T11:13:38.479Z"
   },
   {
    "duration": 4,
    "start_time": "2023-07-06T11:14:02.619Z"
   },
   {
    "duration": 1502912,
    "start_time": "2023-07-06T11:14:05.990Z"
   },
   {
    "duration": 7,
    "start_time": "2023-07-06T11:41:37.614Z"
   },
   {
    "duration": 3,
    "start_time": "2023-07-06T11:41:39.760Z"
   },
   {
    "duration": 4,
    "start_time": "2023-07-06T11:41:42.335Z"
   },
   {
    "duration": 219,
    "start_time": "2023-07-06T11:41:44.750Z"
   },
   {
    "duration": 2407,
    "start_time": "2023-07-06T13:19:04.445Z"
   },
   {
    "duration": 4550,
    "start_time": "2023-07-06T13:19:06.855Z"
   },
   {
    "duration": 8,
    "start_time": "2023-07-06T13:19:11.407Z"
   },
   {
    "duration": 5,
    "start_time": "2023-07-06T13:19:11.417Z"
   },
   {
    "duration": 2100,
    "start_time": "2023-07-06T13:19:11.424Z"
   },
   {
    "duration": 15,
    "start_time": "2023-07-06T13:19:13.527Z"
   },
   {
    "duration": 44,
    "start_time": "2023-07-06T13:19:13.543Z"
   },
   {
    "duration": 1675,
    "start_time": "2023-07-06T13:19:13.588Z"
   },
   {
    "duration": 10,
    "start_time": "2023-07-06T13:19:15.264Z"
   },
   {
    "duration": 260,
    "start_time": "2023-07-06T13:19:15.277Z"
   },
   {
    "duration": 95,
    "start_time": "2023-07-06T13:19:15.539Z"
   },
   {
    "duration": 3,
    "start_time": "2023-07-06T13:19:15.636Z"
   },
   {
    "duration": 4247,
    "start_time": "2023-07-06T13:19:15.641Z"
   },
   {
    "duration": 5,
    "start_time": "2023-07-06T13:19:19.890Z"
   },
   {
    "duration": 487,
    "start_time": "2023-07-06T13:19:19.897Z"
   },
   {
    "duration": 3,
    "start_time": "2023-07-06T13:19:20.386Z"
   },
   {
    "duration": 24,
    "start_time": "2023-07-06T13:19:20.391Z"
   },
   {
    "duration": 1052020,
    "start_time": "2023-07-06T13:19:20.416Z"
   },
   {
    "duration": 7,
    "start_time": "2023-07-06T13:36:52.438Z"
   },
   {
    "duration": 21,
    "start_time": "2023-07-06T13:36:52.448Z"
   },
   {
    "duration": 75,
    "start_time": "2023-07-06T13:36:52.470Z"
   },
   {
    "duration": 7,
    "start_time": "2023-07-06T13:36:52.547Z"
   },
   {
    "duration": 172,
    "start_time": "2023-07-06T13:36:52.555Z"
   },
   {
    "duration": 4,
    "start_time": "2023-07-06T13:38:41.917Z"
   },
   {
    "duration": 4,
    "start_time": "2023-07-06T13:38:44.321Z"
   },
   {
    "duration": 439,
    "start_time": "2023-07-06T13:38:58.357Z"
   },
   {
    "duration": 3,
    "start_time": "2023-07-06T13:39:04.487Z"
   },
   {
    "duration": 744893,
    "start_time": "2023-07-06T13:39:07.685Z"
   },
   {
    "duration": 3,
    "start_time": "2023-07-06T13:51:54.960Z"
   },
   {
    "duration": 4,
    "start_time": "2023-07-06T13:52:15.095Z"
   },
   {
    "duration": 3,
    "start_time": "2023-07-06T13:52:19.974Z"
   },
   {
    "duration": 862370,
    "start_time": "2023-07-06T13:52:24.317Z"
   },
   {
    "duration": 3,
    "start_time": "2023-07-06T14:10:04.309Z"
   },
   {
    "duration": 207,
    "start_time": "2023-07-06T14:10:06.195Z"
   },
   {
    "duration": 3,
    "start_time": "2023-07-06T14:10:29.134Z"
   },
   {
    "duration": 3,
    "start_time": "2023-07-06T14:10:31.303Z"
   },
   {
    "duration": 1053,
    "start_time": "2023-07-06T14:10:39.150Z"
   },
   {
    "duration": 23,
    "start_time": "2023-07-06T14:12:08.416Z"
   },
   {
    "duration": 4,
    "start_time": "2023-07-06T14:12:36.011Z"
   },
   {
    "duration": 3,
    "start_time": "2023-07-06T14:12:39.837Z"
   },
   {
    "duration": 3,
    "start_time": "2023-07-06T14:12:43.337Z"
   },
   {
    "duration": 774939,
    "start_time": "2023-07-06T14:12:45.462Z"
   },
   {
    "duration": 4,
    "start_time": "2023-07-06T14:28:03.941Z"
   },
   {
    "duration": 4,
    "start_time": "2023-07-06T14:28:22.258Z"
   },
   {
    "duration": 94925,
    "start_time": "2023-07-06T14:28:23.950Z"
   },
   {
    "duration": 4061,
    "start_time": "2023-07-06T14:30:24.091Z"
   },
   {
    "duration": 20,
    "start_time": "2023-07-06T14:30:34.105Z"
   },
   {
    "duration": 3,
    "start_time": "2023-07-06T14:32:17.918Z"
   },
   {
    "duration": 3,
    "start_time": "2023-07-06T14:32:25.768Z"
   },
   {
    "duration": 4,
    "start_time": "2023-07-06T14:32:30.745Z"
   },
   {
    "duration": 651101,
    "start_time": "2023-07-06T14:32:34.374Z"
   },
   {
    "duration": 3,
    "start_time": "2023-07-06T14:47:33.916Z"
   },
   {
    "duration": 3,
    "start_time": "2023-07-06T14:47:35.916Z"
   },
   {
    "duration": 4,
    "start_time": "2023-07-06T14:47:45.531Z"
   },
   {
    "duration": 129024,
    "start_time": "2023-07-06T14:48:16.861Z"
   },
   {
    "duration": 3,
    "start_time": "2023-07-06T14:52:44.212Z"
   },
   {
    "duration": 3,
    "start_time": "2023-07-06T14:52:50.905Z"
   },
   {
    "duration": 4,
    "start_time": "2023-07-06T14:52:55.045Z"
   },
   {
    "duration": 777683,
    "start_time": "2023-07-06T14:53:08.644Z"
   },
   {
    "duration": 3,
    "start_time": "2023-07-06T15:07:01.586Z"
   },
   {
    "duration": 4,
    "start_time": "2023-07-06T15:07:03.730Z"
   },
   {
    "duration": 4,
    "start_time": "2023-07-06T15:07:05.854Z"
   },
   {
    "duration": 234810,
    "start_time": "2023-07-06T15:07:08.830Z"
   },
   {
    "duration": 4,
    "start_time": "2023-07-06T15:15:36.336Z"
   },
   {
    "duration": 3,
    "start_time": "2023-07-06T15:15:38.314Z"
   },
   {
    "duration": 4,
    "start_time": "2023-07-06T15:15:44.705Z"
   },
   {
    "duration": 3,
    "start_time": "2023-07-06T15:18:28.578Z"
   },
   {
    "duration": 3,
    "start_time": "2023-07-06T15:18:37.667Z"
   },
   {
    "duration": 5769866,
    "start_time": "2023-07-06T15:18:49.757Z"
   },
   {
    "duration": 4,
    "start_time": "2023-07-06T17:22:40.445Z"
   },
   {
    "duration": 5,
    "start_time": "2023-07-06T17:22:43.286Z"
   },
   {
    "duration": 4,
    "start_time": "2023-07-06T17:22:45.741Z"
   },
   {
    "duration": 107984,
    "start_time": "2023-07-06T17:22:50.692Z"
   },
   {
    "duration": 4,
    "start_time": "2023-07-06T17:36:49.909Z"
   },
   {
    "duration": 3,
    "start_time": "2023-07-06T17:36:52.104Z"
   },
   {
    "duration": 113671,
    "start_time": "2023-07-06T17:36:55.831Z"
   },
   {
    "duration": 4,
    "start_time": "2023-07-06T17:39:10.345Z"
   },
   {
    "duration": 4,
    "start_time": "2023-07-06T17:39:12.926Z"
   },
   {
    "duration": 180837,
    "start_time": "2023-07-06T17:39:16.006Z"
   },
   {
    "duration": 3,
    "start_time": "2023-07-06T17:44:58.107Z"
   },
   {
    "duration": 180587,
    "start_time": "2023-07-06T17:45:15.190Z"
   },
   {
    "duration": 133,
    "start_time": "2023-07-06T17:50:38.156Z"
   },
   {
    "duration": 4,
    "start_time": "2023-07-06T17:50:49.897Z"
   },
   {
    "duration": 3,
    "start_time": "2023-07-06T17:51:02.540Z"
   },
   {
    "duration": 379,
    "start_time": "2023-07-06T17:51:07.810Z"
   },
   {
    "duration": 3,
    "start_time": "2023-07-06T17:51:43.717Z"
   },
   {
    "duration": 4,
    "start_time": "2023-07-06T17:51:45.723Z"
   },
   {
    "duration": 1028214,
    "start_time": "2023-07-06T17:51:52.878Z"
   },
   {
    "duration": 4,
    "start_time": "2023-07-06T18:11:04.652Z"
   },
   {
    "duration": 4,
    "start_time": "2023-07-06T18:11:07.304Z"
   },
   {
    "duration": 1533176,
    "start_time": "2023-07-06T18:11:11.242Z"
   },
   {
    "duration": 3,
    "start_time": "2023-07-06T18:43:48.599Z"
   },
   {
    "duration": 3,
    "start_time": "2023-07-06T18:43:50.524Z"
   },
   {
    "duration": 4,
    "start_time": "2023-07-06T18:44:18.839Z"
   },
   {
    "duration": 260888,
    "start_time": "2023-07-06T18:44:23.688Z"
   },
   {
    "duration": 26,
    "start_time": "2023-07-06T18:52:53.273Z"
   },
   {
    "duration": 6,
    "start_time": "2023-07-06T18:54:04.945Z"
   },
   {
    "duration": 195346,
    "start_time": "2023-07-06T18:54:08.846Z"
   },
   {
    "duration": 4733,
    "start_time": "2023-07-06T18:59:15.808Z"
   },
   {
    "duration": 16,
    "start_time": "2023-07-06T18:59:27.990Z"
   },
   {
    "duration": 5086,
    "start_time": "2023-07-06T19:01:03.308Z"
   },
   {
    "duration": 4711,
    "start_time": "2023-07-06T19:03:39.737Z"
   },
   {
    "duration": 3,
    "start_time": "2023-07-06T19:03:52.409Z"
   },
   {
    "duration": 497,
    "start_time": "2023-07-06T19:03:59.676Z"
   },
   {
    "duration": 495,
    "start_time": "2023-07-06T19:04:36.169Z"
   },
   {
    "duration": 24,
    "start_time": "2023-07-06T19:10:08.215Z"
   },
   {
    "duration": 20,
    "start_time": "2023-07-06T19:10:22.083Z"
   },
   {
    "duration": 26,
    "start_time": "2023-07-06T19:13:46.210Z"
   },
   {
    "duration": 4511,
    "start_time": "2023-07-06T19:17:10.368Z"
   },
   {
    "duration": 5,
    "start_time": "2023-07-06T19:19:42.042Z"
   },
   {
    "duration": 514611,
    "start_time": "2023-07-06T19:19:44.721Z"
   },
   {
    "duration": 2604,
    "start_time": "2023-07-06T19:28:38.489Z"
   },
   {
    "duration": 2410,
    "start_time": "2023-07-06T19:29:23.813Z"
   },
   {
    "duration": 5,
    "start_time": "2023-07-06T19:30:41.192Z"
   },
   {
    "duration": 4,
    "start_time": "2023-07-06T19:30:42.922Z"
   },
   {
    "duration": 4,
    "start_time": "2023-07-06T19:30:45.580Z"
   },
   {
    "duration": 7,
    "start_time": "2023-07-06T19:36:08.376Z"
   },
   {
    "duration": 44,
    "start_time": "2023-07-06T19:36:12.108Z"
   },
   {
    "duration": 4024,
    "start_time": "2023-07-06T19:38:05.057Z"
   },
   {
    "duration": 18915,
    "start_time": "2023-07-06T19:38:12.780Z"
   },
   {
    "duration": 2187,
    "start_time": "2023-07-06T19:38:50.632Z"
   },
   {
    "duration": 1201,
    "start_time": "2023-07-06T19:38:55.579Z"
   },
   {
    "duration": 963,
    "start_time": "2023-07-06T19:39:31.996Z"
   },
   {
    "duration": 2293,
    "start_time": "2023-07-06T19:40:38.802Z"
   },
   {
    "duration": 940,
    "start_time": "2023-07-06T19:40:50.206Z"
   },
   {
    "duration": 68,
    "start_time": "2023-07-06T19:41:38.379Z"
   },
   {
    "duration": 3,
    "start_time": "2023-07-06T19:43:49.458Z"
   },
   {
    "duration": 3,
    "start_time": "2023-07-06T19:43:51.952Z"
   },
   {
    "duration": 1012,
    "start_time": "2023-07-06T19:44:31.818Z"
   },
   {
    "duration": 11577,
    "start_time": "2023-07-06T19:47:40.127Z"
   },
   {
    "duration": 979,
    "start_time": "2023-07-06T19:47:55.745Z"
   },
   {
    "duration": 2933,
    "start_time": "2023-07-06T19:48:56.729Z"
   },
   {
    "duration": 1011,
    "start_time": "2023-07-06T19:49:36.222Z"
   },
   {
    "duration": 912,
    "start_time": "2023-07-06T19:51:40.554Z"
   },
   {
    "duration": 868,
    "start_time": "2023-07-06T19:56:36.433Z"
   },
   {
    "duration": 900,
    "start_time": "2023-07-06T19:57:17.333Z"
   }
  ],
  "kernelspec": {
   "display_name": "Python 3 (ipykernel)",
   "language": "python",
   "name": "python3"
  },
  "language_info": {
   "codemirror_mode": {
    "name": "ipython",
    "version": 3
   },
   "file_extension": ".py",
   "mimetype": "text/x-python",
   "name": "python",
   "nbconvert_exporter": "python",
   "pygments_lexer": "ipython3",
   "version": "3.9.13"
  },
  "toc": {
   "base_numbering": 1,
   "nav_menu": {},
   "number_sections": true,
   "sideBar": true,
   "skip_h1_title": true,
   "title_cell": "Содержание",
   "title_sidebar": "Contents",
   "toc_cell": true,
   "toc_position": {
    "height": "calc(100% - 180px)",
    "left": "10px",
    "top": "150px",
    "width": "302.391px"
   },
   "toc_section_display": true,
   "toc_window_display": false
  }
 },
 "nbformat": 4,
 "nbformat_minor": 2
}
